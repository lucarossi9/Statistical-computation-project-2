{
 "cells": [
  {
   "cell_type": "code",
   "execution_count": 1,
   "metadata": {
    "colab": {
     "base_uri": "https://localhost:8080/"
    },
    "id": "BF3luvt1D17U",
    "outputId": "023609a1-1c5f-4ab1-b7a1-5cccbacd3bd0"
   },
   "outputs": [],
   "source": [
    "import pandas as pd\n",
    "import json"
   ]
  },
  {
   "cell_type": "code",
   "execution_count": 2,
   "metadata": {},
   "outputs": [],
   "source": [
    "df1 = pd.read_csv('review1.csv')\n",
    "df1=df1.drop(['review_id','funny','cool'], axis=1)"
   ]
  },
  {
   "cell_type": "code",
   "execution_count": 3,
   "metadata": {},
   "outputs": [],
   "source": [
    "df2 = pd.read_csv('review2.csv')\n",
    "df2=df2.drop(['review_id','funny','cool'], axis=1)"
   ]
  },
  {
   "cell_type": "code",
   "execution_count": 4,
   "metadata": {
    "tags": []
   },
   "outputs": [],
   "source": [
    "df3 = pd.read_csv('review3.csv')\n",
    "df3=df3.drop(['review_id','funny','cool'], axis=1)"
   ]
  },
  {
   "cell_type": "code",
   "execution_count": 5,
   "metadata": {},
   "outputs": [],
   "source": [
    "df4 = pd.read_csv('review4.csv')\n",
    "df4=df4.drop(['review_id','funny','cool'], axis=1)"
   ]
  },
  {
   "cell_type": "code",
   "execution_count": 6,
   "metadata": {},
   "outputs": [],
   "source": [
    "df5 = pd.read_csv('review5.csv')\n",
    "df5=df5.drop(['review_id','funny','cool'], axis=1)"
   ]
  },
  {
   "cell_type": "code",
   "execution_count": 7,
   "metadata": {},
   "outputs": [],
   "source": [
    "df6 = pd.read_csv('review6.csv')\n",
    "df6=df6.drop(['review_id','funny','cool'], axis=1)"
   ]
  },
  {
   "cell_type": "code",
   "execution_count": 8,
   "metadata": {},
   "outputs": [],
   "source": [
    "df7 = pd.read_csv('review7.csv')\n",
    "df7=df7.drop(['review_id','funny','cool'], axis=1)"
   ]
  },
  {
   "cell_type": "code",
   "execution_count": 9,
   "metadata": {},
   "outputs": [],
   "source": [
    "df8 = pd.read_csv('review8.csv')\n",
    "df8=df8.drop(['review_id','funny','cool'], axis=1)"
   ]
  },
  {
   "cell_type": "code",
   "execution_count": 10,
   "metadata": {},
   "outputs": [],
   "source": [
    "df9 = pd.read_csv('review9.csv')\n",
    "df9=df9.drop(['review_id','funny','cool'], axis=1)"
   ]
  },
  {
   "cell_type": "code",
   "execution_count": 11,
   "metadata": {},
   "outputs": [],
   "source": [
    "df10 = pd.read_csv('review10.csv')\n",
    "df10=df10.drop(['review_id','funny','cool'], axis=1)"
   ]
  },
  {
   "cell_type": "code",
   "execution_count": 12,
   "metadata": {},
   "outputs": [],
   "source": [
    "df11 = pd.read_csv('review11.csv')\n",
    "df11=df11.drop(['review_id','funny','cool'], axis=1)"
   ]
  },
  {
   "cell_type": "code",
   "execution_count": 13,
   "metadata": {},
   "outputs": [],
   "source": [
    "df12 = pd.read_csv('review12.csv')\n",
    "df12=df12.drop(['review_id','funny','cool'], axis=1)"
   ]
  },
  {
   "cell_type": "code",
   "execution_count": 14,
   "metadata": {},
   "outputs": [],
   "source": [
    "df13 = pd.read_csv('review13.csv')\n",
    "df13=df13.drop(['review_id','funny','cool'], axis=1)"
   ]
  },
  {
   "cell_type": "code",
   "execution_count": 15,
   "metadata": {},
   "outputs": [],
   "source": [
    "df14 = pd.read_csv('review14.csv')\n",
    "df14=df14.drop(['review_id','funny','cool'], axis=1)"
   ]
  },
  {
   "cell_type": "code",
   "execution_count": 16,
   "metadata": {},
   "outputs": [],
   "source": [
    "df15 = pd.read_csv('review15.csv')\n",
    "df15=df15.drop(['review_id','funny','cool'], axis=1)"
   ]
  },
  {
   "cell_type": "code",
   "execution_count": 17,
   "metadata": {},
   "outputs": [],
   "source": [
    "df16 = pd.read_csv('review16.csv')\n",
    "df16=df16.drop(['review_id','funny','cool'], axis=1)"
   ]
  },
  {
   "cell_type": "code",
   "execution_count": 18,
   "metadata": {},
   "outputs": [],
   "source": [
    "df17 = pd.read_csv('review17.csv')\n",
    "df17=df17.drop(['review_id','funny','cool'], axis=1)"
   ]
  },
  {
   "cell_type": "code",
   "execution_count": 19,
   "metadata": {},
   "outputs": [],
   "source": [
    "df18 = pd.read_csv('review18.csv')\n",
    "df18=df18.drop(['review_id','funny','cool'], axis=1)"
   ]
  },
  {
   "cell_type": "code",
   "execution_count": 20,
   "metadata": {},
   "outputs": [],
   "source": [
    "#create a dataframe with all the reviews but without the text which is not relevant for the analysis\n",
    "frames = [df1, df2, df3,df4, df5, df6,df7, df8, df9,df10, df11, df12,df13, df14, df15,df16, df17, df18]\n",
    "df_r = pd.concat(frames)"
   ]
  },
  {
   "cell_type": "code",
   "execution_count": 21,
   "metadata": {},
   "outputs": [
    {
     "data": {
      "text/html": [
       "<div>\n",
       "<style scoped>\n",
       "    .dataframe tbody tr th:only-of-type {\n",
       "        vertical-align: middle;\n",
       "    }\n",
       "\n",
       "    .dataframe tbody tr th {\n",
       "        vertical-align: top;\n",
       "    }\n",
       "\n",
       "    .dataframe thead th {\n",
       "        text-align: right;\n",
       "    }\n",
       "</style>\n",
       "<table border=\"1\" class=\"dataframe\">\n",
       "  <thead>\n",
       "    <tr style=\"text-align: right;\">\n",
       "      <th></th>\n",
       "      <th>user_id</th>\n",
       "      <th>business_id</th>\n",
       "      <th>stars</th>\n",
       "      <th>useful</th>\n",
       "      <th>text</th>\n",
       "      <th>date</th>\n",
       "    </tr>\n",
       "  </thead>\n",
       "  <tbody>\n",
       "    <tr>\n",
       "      <th>0</th>\n",
       "      <td>ak0TdVmGKo4pwqdJSTLwWw</td>\n",
       "      <td>buF9druCkbuXLX526sGELQ</td>\n",
       "      <td>4</td>\n",
       "      <td>3</td>\n",
       "      <td>Apparently Prides Osteria had a rough summer a...</td>\n",
       "      <td>2014-10-11 03:34:02</td>\n",
       "    </tr>\n",
       "    <tr>\n",
       "      <th>1</th>\n",
       "      <td>YoVfDbnISlW0f7abNQACIg</td>\n",
       "      <td>RA4V8pr014UyUbDvI-LW2A</td>\n",
       "      <td>4</td>\n",
       "      <td>1</td>\n",
       "      <td>This store is pretty good. Not as great as Wal...</td>\n",
       "      <td>2015-07-03 20:38:25</td>\n",
       "    </tr>\n",
       "  </tbody>\n",
       "</table>\n",
       "</div>"
      ],
      "text/plain": [
       "                  user_id             business_id  stars  useful  \\\n",
       "0  ak0TdVmGKo4pwqdJSTLwWw  buF9druCkbuXLX526sGELQ      4       3   \n",
       "1  YoVfDbnISlW0f7abNQACIg  RA4V8pr014UyUbDvI-LW2A      4       1   \n",
       "\n",
       "                                                text                 date  \n",
       "0  Apparently Prides Osteria had a rough summer a...  2014-10-11 03:34:02  \n",
       "1  This store is pretty good. Not as great as Wal...  2015-07-03 20:38:25  "
      ]
     },
     "execution_count": 21,
     "metadata": {},
     "output_type": "execute_result"
    }
   ],
   "source": [
    "df_r.head(2)"
   ]
  },
  {
   "cell_type": "code",
   "execution_count": 22,
   "metadata": {
    "id": "YcN11PO3Eib0"
   },
   "outputs": [],
   "source": [
    "import numpy as np\n",
    "import dask.bag as db\n",
    "import dask.dataframe as dd # substitute of pandas to load the data in streams\n",
    "import dask.array as da"
   ]
  },
  {
   "cell_type": "code",
   "execution_count": 23,
   "metadata": {
    "colab": {
     "base_uri": "https://localhost:8080/",
     "height": 204
    },
    "id": "WfSyUozGFfps",
    "outputId": "cdf1443b-fa07-4e6d-9c19-46c3fa28c193"
   },
   "outputs": [
    {
     "data": {
      "text/html": [
       "<div>\n",
       "<style scoped>\n",
       "    .dataframe tbody tr th:only-of-type {\n",
       "        vertical-align: middle;\n",
       "    }\n",
       "\n",
       "    .dataframe tbody tr th {\n",
       "        vertical-align: top;\n",
       "    }\n",
       "\n",
       "    .dataframe thead th {\n",
       "        text-align: right;\n",
       "    }\n",
       "</style>\n",
       "<table border=\"1\" class=\"dataframe\">\n",
       "  <thead>\n",
       "    <tr style=\"text-align: right;\">\n",
       "      <th></th>\n",
       "      <th>user_id</th>\n",
       "      <th>business_id</th>\n",
       "      <th>stars</th>\n",
       "      <th>useful</th>\n",
       "      <th>text</th>\n",
       "      <th>date</th>\n",
       "    </tr>\n",
       "  </thead>\n",
       "  <tbody>\n",
       "    <tr>\n",
       "      <th>0</th>\n",
       "      <td>ak0TdVmGKo4pwqdJSTLwWw</td>\n",
       "      <td>buF9druCkbuXLX526sGELQ</td>\n",
       "      <td>4</td>\n",
       "      <td>3</td>\n",
       "      <td>Apparently Prides Osteria had a rough summer a...</td>\n",
       "      <td>2014-10-11 03:34:02</td>\n",
       "    </tr>\n",
       "    <tr>\n",
       "      <th>1</th>\n",
       "      <td>YoVfDbnISlW0f7abNQACIg</td>\n",
       "      <td>RA4V8pr014UyUbDvI-LW2A</td>\n",
       "      <td>4</td>\n",
       "      <td>1</td>\n",
       "      <td>This store is pretty good. Not as great as Wal...</td>\n",
       "      <td>2015-07-03 20:38:25</td>\n",
       "    </tr>\n",
       "    <tr>\n",
       "      <th>2</th>\n",
       "      <td>eC5evKn1TWDyHCyQAwguUw</td>\n",
       "      <td>_sS2LBIGNT5NQb6PD1Vtjw</td>\n",
       "      <td>5</td>\n",
       "      <td>0</td>\n",
       "      <td>I called WVM on the recommendation of a couple...</td>\n",
       "      <td>2013-05-28 20:38:06</td>\n",
       "    </tr>\n",
       "    <tr>\n",
       "      <th>3</th>\n",
       "      <td>SFQ1jcnGguO0LYWnbbftAA</td>\n",
       "      <td>0AzLzHfOJgL7ROwhdww2ew</td>\n",
       "      <td>2</td>\n",
       "      <td>1</td>\n",
       "      <td>I've stayed at many Marriott and Renaissance M...</td>\n",
       "      <td>2010-01-08 02:29:15</td>\n",
       "    </tr>\n",
       "    <tr>\n",
       "      <th>4</th>\n",
       "      <td>0kA0PAJ8QFMeveQWHFqz2A</td>\n",
       "      <td>8zehGz9jnxPqXtOc7KaJxA</td>\n",
       "      <td>4</td>\n",
       "      <td>0</td>\n",
       "      <td>The food is always great here. The service fro...</td>\n",
       "      <td>2011-07-28 18:05:01</td>\n",
       "    </tr>\n",
       "  </tbody>\n",
       "</table>\n",
       "</div>"
      ],
      "text/plain": [
       "                  user_id             business_id  stars  useful  \\\n",
       "0  ak0TdVmGKo4pwqdJSTLwWw  buF9druCkbuXLX526sGELQ      4       3   \n",
       "1  YoVfDbnISlW0f7abNQACIg  RA4V8pr014UyUbDvI-LW2A      4       1   \n",
       "2  eC5evKn1TWDyHCyQAwguUw  _sS2LBIGNT5NQb6PD1Vtjw      5       0   \n",
       "3  SFQ1jcnGguO0LYWnbbftAA  0AzLzHfOJgL7ROwhdww2ew      2       1   \n",
       "4  0kA0PAJ8QFMeveQWHFqz2A  8zehGz9jnxPqXtOc7KaJxA      4       0   \n",
       "\n",
       "                                                text                 date  \n",
       "0  Apparently Prides Osteria had a rough summer a...  2014-10-11 03:34:02  \n",
       "1  This store is pretty good. Not as great as Wal...  2015-07-03 20:38:25  \n",
       "2  I called WVM on the recommendation of a couple...  2013-05-28 20:38:06  \n",
       "3  I've stayed at many Marriott and Renaissance M...  2010-01-08 02:29:15  \n",
       "4  The food is always great here. The service fro...  2011-07-28 18:05:01  "
      ]
     },
     "execution_count": 23,
     "metadata": {},
     "output_type": "execute_result"
    }
   ],
   "source": [
    "df_r.head()"
   ]
  },
  {
   "cell_type": "code",
   "execution_count": 24,
   "metadata": {
    "colab": {
     "base_uri": "https://localhost:8080/"
    },
    "id": "Ysfh_N0TFrXs",
    "outputId": "f1b35e52-7b31-4bca-f63a-1d78202a2a82"
   },
   "outputs": [],
   "source": [
    "#!pip install nltk"
   ]
  },
  {
   "cell_type": "code",
   "execution_count": 25,
   "metadata": {
    "colab": {
     "base_uri": "https://localhost:8080/"
    },
    "id": "yq3nye3zHAL3",
    "outputId": "ec0ad4ae-033b-42a8-a5b7-deae49fe37d9"
   },
   "outputs": [
    {
     "name": "stderr",
     "output_type": "stream",
     "text": [
      "[nltk_data] Downloading package stopwords to\n",
      "[nltk_data]     C:\\Users\\Luca\\AppData\\Roaming\\nltk_data...\n",
      "[nltk_data]   Package stopwords is already up-to-date!\n"
     ]
    },
    {
     "data": {
      "text/plain": [
       "True"
      ]
     },
     "execution_count": 25,
     "metadata": {},
     "output_type": "execute_result"
    }
   ],
   "source": [
    "import nltk\n",
    "import string\n",
    "nltk.download(\"stopwords\")"
   ]
  },
  {
   "cell_type": "code",
   "execution_count": 26,
   "metadata": {
    "colab": {
     "base_uri": "https://localhost:8080/"
    },
    "id": "cy33u4uzH9A7",
    "outputId": "28386785-0c17-4efb-8a79-46c89d7b5017"
   },
   "outputs": [
    {
     "name": "stdout",
     "output_type": "stream",
     "text": [
      "['i', 'me', 'my', 'myself', 'we', 'our', 'ours', 'ourselves', 'you', \"you're\", \"you've\", \"you'll\", \"you'd\", 'your', 'yours', 'yourself', 'yourselves', 'he', 'him', 'his', 'himself', 'she', \"she's\", 'her', 'hers', 'herself', 'it', \"it's\", 'its', 'itself', 'they', 'them', 'their', 'theirs', 'themselves', 'what', 'which', 'who', 'whom', 'this', 'that', \"that'll\", 'these', 'those', 'am', 'is', 'are', 'was', 'were', 'be', 'been', 'being', 'have', 'has', 'had', 'having', 'do', 'does', 'did', 'doing', 'a', 'an', 'the', 'and', 'but', 'if', 'or', 'because', 'as', 'until', 'while', 'of', 'at', 'by', 'for', 'with', 'about', 'against', 'between', 'into', 'through', 'during', 'before', 'after', 'above', 'below', 'to', 'from', 'up', 'down', 'in', 'out', 'on', 'off', 'over', 'under', 'again', 'further', 'then', 'once', 'here', 'there', 'when', 'where', 'why', 'how', 'all', 'any', 'both', 'each', 'few', 'more', 'most', 'other', 'some', 'such', 'no', 'nor', 'not', 'only', 'own', 'same', 'so', 'than', 'too', 'very', 's', 't', 'can', 'will', 'just', 'don', \"don't\", 'should', \"should've\", 'now', 'd', 'll', 'm', 'o', 're', 've', 'y', 'ain', 'aren', \"aren't\", 'couldn', \"couldn't\", 'didn', \"didn't\", 'doesn', \"doesn't\", 'hadn', \"hadn't\", 'hasn', \"hasn't\", 'haven', \"haven't\", 'isn', \"isn't\", 'ma', 'mightn', \"mightn't\", 'mustn', \"mustn't\", 'needn', \"needn't\", 'shan', \"shan't\", 'shouldn', \"shouldn't\", 'wasn', \"wasn't\", 'weren', \"weren't\", 'won', \"won't\", 'wouldn', \"wouldn't\"]\n"
     ]
    }
   ],
   "source": [
    "from nltk.corpus import stopwords\n",
    "sw_nltk = stopwords.words('english')\n",
    "print(sw_nltk)"
   ]
  },
  {
   "cell_type": "code",
   "execution_count": 27,
   "metadata": {
    "id": "aYitT2A9IAXg"
   },
   "outputs": [],
   "source": [
    "#n = len(df_r['text'])\n",
    "df = df_r.sample(10000)\n",
    "nt = []\n",
    "for i in range(10000):\n",
    "  s = str(df['text'].values[i])\n",
    "  words = [word for word in s.split() if word.lower() not in sw_nltk]\n",
    "  new_text = \" \".join(words)\n",
    "  new_text = new_text.translate(str.maketrans('', '', string.punctuation))\n",
    "  nt.append(new_text.lower()) \n",
    "df['new_text'] = nt"
   ]
  },
  {
   "cell_type": "code",
   "execution_count": 28,
   "metadata": {
    "colab": {
     "base_uri": "https://localhost:8080/",
     "height": 419
    },
    "id": "BrPrPg1PMteM",
    "outputId": "85c0ef7e-e0f5-4d63-d3a3-17720ab8c5d8"
   },
   "outputs": [
    {
     "data": {
      "text/html": [
       "<div>\n",
       "<style scoped>\n",
       "    .dataframe tbody tr th:only-of-type {\n",
       "        vertical-align: middle;\n",
       "    }\n",
       "\n",
       "    .dataframe tbody tr th {\n",
       "        vertical-align: top;\n",
       "    }\n",
       "\n",
       "    .dataframe thead th {\n",
       "        text-align: right;\n",
       "    }\n",
       "</style>\n",
       "<table border=\"1\" class=\"dataframe\">\n",
       "  <thead>\n",
       "    <tr style=\"text-align: right;\">\n",
       "      <th></th>\n",
       "      <th>user_id</th>\n",
       "      <th>business_id</th>\n",
       "      <th>stars</th>\n",
       "      <th>useful</th>\n",
       "      <th>text</th>\n",
       "      <th>date</th>\n",
       "      <th>new_text</th>\n",
       "    </tr>\n",
       "  </thead>\n",
       "  <tbody>\n",
       "    <tr>\n",
       "      <th>372339</th>\n",
       "      <td>g7NpwzTolxJUL4HLg0VbZQ</td>\n",
       "      <td>q3xo4nV19mqAizVJlRPmbw</td>\n",
       "      <td>1</td>\n",
       "      <td>1</td>\n",
       "      <td>Blue Host has been on a downward slide for ove...</td>\n",
       "      <td>2018-02-07 16:46:47</td>\n",
       "      <td>blue host downward slide year theyve obviously...</td>\n",
       "    </tr>\n",
       "    <tr>\n",
       "      <th>144885</th>\n",
       "      <td>kGEJs6k-5OcaugNtwhYLNQ</td>\n",
       "      <td>Q0sjLW9zqHLZ4p3xw166MQ</td>\n",
       "      <td>2</td>\n",
       "      <td>1</td>\n",
       "      <td>I was there a few years back. I appreciated th...</td>\n",
       "      <td>2017-06-16 14:44:38</td>\n",
       "      <td>years back appreciated video showed us explain...</td>\n",
       "    </tr>\n",
       "    <tr>\n",
       "      <th>107653</th>\n",
       "      <td>issfnrsMzmczjahtzNldaw</td>\n",
       "      <td>FbiExeeQVmpfCNo7YJuM9w</td>\n",
       "      <td>2</td>\n",
       "      <td>1</td>\n",
       "      <td>Good place for nachos and drinks, that's about...</td>\n",
       "      <td>2012-08-22 11:17:29</td>\n",
       "      <td>good place nachos drinks thats it</td>\n",
       "    </tr>\n",
       "    <tr>\n",
       "      <th>379595</th>\n",
       "      <td>7LCfCuE5LkIxHRiJMNHdxg</td>\n",
       "      <td>DkKH_q0_vdWSWZwFhPFLZw</td>\n",
       "      <td>5</td>\n",
       "      <td>0</td>\n",
       "      <td>First - great service.  My wife is pregnant an...</td>\n",
       "      <td>2018-02-04 20:15:43</td>\n",
       "      <td>first  great service wife pregnant server poin...</td>\n",
       "    </tr>\n",
       "    <tr>\n",
       "      <th>245044</th>\n",
       "      <td>9549vDBw7ab0cuc930BQ1g</td>\n",
       "      <td>N_g-DECU6hOk7SJSCeCGzA</td>\n",
       "      <td>4</td>\n",
       "      <td>4</td>\n",
       "      <td>Friendly staff and is seemingly packed with us...</td>\n",
       "      <td>2007-06-24 09:31:41</td>\n",
       "      <td>friendly staff seemingly packed usuals food gr...</td>\n",
       "    </tr>\n",
       "    <tr>\n",
       "      <th>...</th>\n",
       "      <td>...</td>\n",
       "      <td>...</td>\n",
       "      <td>...</td>\n",
       "      <td>...</td>\n",
       "      <td>...</td>\n",
       "      <td>...</td>\n",
       "      <td>...</td>\n",
       "    </tr>\n",
       "    <tr>\n",
       "      <th>355071</th>\n",
       "      <td>OjmRp0Q5oGFLk7Uls6pUEw</td>\n",
       "      <td>AGwz-u4g80F8uEXJFPMxeA</td>\n",
       "      <td>5</td>\n",
       "      <td>0</td>\n",
       "      <td>Halinas staff is always professional and effic...</td>\n",
       "      <td>2017-06-28 13:20:37</td>\n",
       "      <td>halinas staff always professional efficient iv...</td>\n",
       "    </tr>\n",
       "    <tr>\n",
       "      <th>296070</th>\n",
       "      <td>c_SQlUe0mtAJSpK_LsMhIA</td>\n",
       "      <td>KOqTrsHbZXWnE7KdDS32gQ</td>\n",
       "      <td>4</td>\n",
       "      <td>0</td>\n",
       "      <td>This place may not impress people from the out...</td>\n",
       "      <td>2013-08-20 02:18:48</td>\n",
       "      <td>place may impress people outside cheesesteaks ...</td>\n",
       "    </tr>\n",
       "    <tr>\n",
       "      <th>379786</th>\n",
       "      <td>6WYegwqyZcI6C23eWnX6VQ</td>\n",
       "      <td>luDal00Gw3r-1KjI1454ZA</td>\n",
       "      <td>4</td>\n",
       "      <td>1</td>\n",
       "      <td>Great place for a night out with friends. Good...</td>\n",
       "      <td>2014-11-18 01:49:32</td>\n",
       "      <td>great place night friends good food good servi...</td>\n",
       "    </tr>\n",
       "    <tr>\n",
       "      <th>436895</th>\n",
       "      <td>r8loMAJix8rjhwKzwEVgDQ</td>\n",
       "      <td>o4kF_b-ChUzozUsfZ-eO4w</td>\n",
       "      <td>3</td>\n",
       "      <td>1</td>\n",
       "      <td>Delish but king crabs had Lil meat and not wor...</td>\n",
       "      <td>2018-08-29 23:47:29</td>\n",
       "      <td>delish king crabs lil meat worth 50 dollars 2 ...</td>\n",
       "    </tr>\n",
       "    <tr>\n",
       "      <th>383777</th>\n",
       "      <td>qa-hIxfxUHTCNSa10renug</td>\n",
       "      <td>mLn8qCphHL02NFJH39pTwQ</td>\n",
       "      <td>5</td>\n",
       "      <td>1</td>\n",
       "      <td>This is the best Thai Food on the North end. T...</td>\n",
       "      <td>2018-03-12 06:44:22</td>\n",
       "      <td>best thai food north end place clean food wond...</td>\n",
       "    </tr>\n",
       "  </tbody>\n",
       "</table>\n",
       "<p>10000 rows × 7 columns</p>\n",
       "</div>"
      ],
      "text/plain": [
       "                       user_id             business_id  stars  useful  \\\n",
       "372339  g7NpwzTolxJUL4HLg0VbZQ  q3xo4nV19mqAizVJlRPmbw      1       1   \n",
       "144885  kGEJs6k-5OcaugNtwhYLNQ  Q0sjLW9zqHLZ4p3xw166MQ      2       1   \n",
       "107653  issfnrsMzmczjahtzNldaw  FbiExeeQVmpfCNo7YJuM9w      2       1   \n",
       "379595  7LCfCuE5LkIxHRiJMNHdxg  DkKH_q0_vdWSWZwFhPFLZw      5       0   \n",
       "245044  9549vDBw7ab0cuc930BQ1g  N_g-DECU6hOk7SJSCeCGzA      4       4   \n",
       "...                        ...                     ...    ...     ...   \n",
       "355071  OjmRp0Q5oGFLk7Uls6pUEw  AGwz-u4g80F8uEXJFPMxeA      5       0   \n",
       "296070  c_SQlUe0mtAJSpK_LsMhIA  KOqTrsHbZXWnE7KdDS32gQ      4       0   \n",
       "379786  6WYegwqyZcI6C23eWnX6VQ  luDal00Gw3r-1KjI1454ZA      4       1   \n",
       "436895  r8loMAJix8rjhwKzwEVgDQ  o4kF_b-ChUzozUsfZ-eO4w      3       1   \n",
       "383777  qa-hIxfxUHTCNSa10renug  mLn8qCphHL02NFJH39pTwQ      5       1   \n",
       "\n",
       "                                                     text  \\\n",
       "372339  Blue Host has been on a downward slide for ove...   \n",
       "144885  I was there a few years back. I appreciated th...   \n",
       "107653  Good place for nachos and drinks, that's about...   \n",
       "379595  First - great service.  My wife is pregnant an...   \n",
       "245044  Friendly staff and is seemingly packed with us...   \n",
       "...                                                   ...   \n",
       "355071  Halinas staff is always professional and effic...   \n",
       "296070  This place may not impress people from the out...   \n",
       "379786  Great place for a night out with friends. Good...   \n",
       "436895  Delish but king crabs had Lil meat and not wor...   \n",
       "383777  This is the best Thai Food on the North end. T...   \n",
       "\n",
       "                       date                                           new_text  \n",
       "372339  2018-02-07 16:46:47  blue host downward slide year theyve obviously...  \n",
       "144885  2017-06-16 14:44:38  years back appreciated video showed us explain...  \n",
       "107653  2012-08-22 11:17:29                  good place nachos drinks thats it  \n",
       "379595  2018-02-04 20:15:43  first  great service wife pregnant server poin...  \n",
       "245044  2007-06-24 09:31:41  friendly staff seemingly packed usuals food gr...  \n",
       "...                     ...                                                ...  \n",
       "355071  2017-06-28 13:20:37  halinas staff always professional efficient iv...  \n",
       "296070  2013-08-20 02:18:48  place may impress people outside cheesesteaks ...  \n",
       "379786  2014-11-18 01:49:32  great place night friends good food good servi...  \n",
       "436895  2018-08-29 23:47:29  delish king crabs lil meat worth 50 dollars 2 ...  \n",
       "383777  2018-03-12 06:44:22  best thai food north end place clean food wond...  \n",
       "\n",
       "[10000 rows x 7 columns]"
      ]
     },
     "execution_count": 28,
     "metadata": {},
     "output_type": "execute_result"
    }
   ],
   "source": [
    "df"
   ]
  },
  {
   "cell_type": "code",
   "execution_count": 29,
   "metadata": {
    "colab": {
     "base_uri": "https://localhost:8080/"
    },
    "id": "my_AFFRPLFqz",
    "outputId": "fd44f8e9-aa86-41c1-f7a0-8c1d0bb7083a"
   },
   "outputs": [],
   "source": [
    "#!pip install gensim"
   ]
  },
  {
   "cell_type": "code",
   "execution_count": 30,
   "metadata": {
    "id": "ajbD0f-vRX8s"
   },
   "outputs": [],
   "source": [
    "import gensim"
   ]
  },
  {
   "cell_type": "code",
   "execution_count": 31,
   "metadata": {
    "id": "R-A-xLIgRbyv"
   },
   "outputs": [],
   "source": [
    "from gensim.utils import simple_preprocess\n",
    "import gensim.corpora as corpora"
   ]
  },
  {
   "cell_type": "code",
   "execution_count": 32,
   "metadata": {
    "id": "YDU-8jDZU1Jp"
   },
   "outputs": [],
   "source": [
    "def sent_to_words(sentences):\n",
    "    for sentence in sentences:\n",
    "        # deacc=True removes punctuations\n",
    "        yield(gensim.utils.simple_preprocess(str(sentence), deacc=True))"
   ]
  },
  {
   "cell_type": "code",
   "execution_count": 33,
   "metadata": {
    "id": "KnNPP0NnWBNP"
   },
   "outputs": [],
   "source": [
    "data = df.new_text.values.tolist()\n",
    "data_words = list(sent_to_words(data))"
   ]
  },
  {
   "cell_type": "code",
   "execution_count": 34,
   "metadata": {
    "id": "D7TismQgWGx1"
   },
   "outputs": [],
   "source": [
    "id2word = corpora.Dictionary(data_words)"
   ]
  },
  {
   "cell_type": "code",
   "execution_count": 35,
   "metadata": {
    "id": "C2Iih2m0WPWC"
   },
   "outputs": [],
   "source": [
    "texts = data_words\n",
    "corpus = [id2word.doc2bow(text) for text in texts]"
   ]
  },
  {
   "cell_type": "code",
   "execution_count": 36,
   "metadata": {
    "colab": {
     "base_uri": "https://localhost:8080/"
    },
    "id": "LczeToKXRh7m",
    "outputId": "9fb244f2-3f8a-4c0f-ae91-e435399848bf"
   },
   "outputs": [
    {
     "name": "stdout",
     "output_type": "stream",
     "text": [
      "[(0,\n",
      "  '0.012*\"great\" + 0.011*\"food\" + 0.008*\"place\" + 0.007*\"good\" + 0.006*\"time\" '\n",
      "  '+ 0.006*\"one\" + 0.006*\"would\" + 0.006*\"service\" + 0.005*\"get\" + '\n",
      "  '0.005*\"like\"'),\n",
      " (1,\n",
      "  '0.008*\"like\" + 0.007*\"one\" + 0.006*\"place\" + 0.006*\"time\" + 0.006*\"service\" '\n",
      "  '+ 0.005*\"food\" + 0.005*\"great\" + 0.005*\"back\" + 0.004*\"good\" + 0.004*\"it\"'),\n",
      " (2,\n",
      "  '0.008*\"great\" + 0.008*\"place\" + 0.007*\"get\" + 0.007*\"service\" + '\n",
      "  '0.006*\"good\" + 0.006*\"would\" + 0.006*\"back\" + 0.006*\"food\" + 0.006*\"really\" '\n",
      "  '+ 0.005*\"go\"'),\n",
      " (3,\n",
      "  '0.011*\"food\" + 0.011*\"place\" + 0.008*\"great\" + 0.007*\"good\" + 0.007*\"one\" + '\n",
      "  '0.006*\"go\" + 0.005*\"back\" + 0.005*\"like\" + 0.005*\"staff\" + 0.004*\"chicken\"'),\n",
      " (4,\n",
      "  '0.012*\"place\" + 0.008*\"really\" + 0.007*\"great\" + 0.007*\"one\" + 0.007*\"like\" '\n",
      "  '+ 0.006*\"time\" + 0.006*\"would\" + 0.005*\"service\" + 0.005*\"back\" + '\n",
      "  '0.005*\"food\"'),\n",
      " (5,\n",
      "  '0.011*\"good\" + 0.010*\"like\" + 0.009*\"food\" + 0.007*\"get\" + 0.006*\"really\" + '\n",
      "  '0.006*\"time\" + 0.006*\"place\" + 0.006*\"service\" + 0.006*\"back\" + '\n",
      "  '0.005*\"got\"'),\n",
      " (6,\n",
      "  '0.013*\"good\" + 0.010*\"get\" + 0.007*\"food\" + 0.006*\"also\" + 0.006*\"like\" + '\n",
      "  '0.005*\"go\" + 0.005*\"it\" + 0.005*\"love\" + 0.005*\"would\" + 0.005*\"service\"'),\n",
      " (7,\n",
      "  '0.009*\"good\" + 0.008*\"food\" + 0.007*\"like\" + 0.006*\"time\" + 0.006*\"great\" + '\n",
      "  '0.006*\"place\" + 0.005*\"service\" + 0.005*\"would\" + 0.005*\"also\" + '\n",
      "  '0.004*\"one\"'),\n",
      " (8,\n",
      "  '0.010*\"food\" + 0.007*\"good\" + 0.006*\"would\" + 0.006*\"great\" + 0.006*\"one\" + '\n",
      "  '0.005*\"place\" + 0.005*\"like\" + 0.004*\"back\" + 0.004*\"us\" + 0.004*\"best\"'),\n",
      " (9,\n",
      "  '0.013*\"good\" + 0.009*\"place\" + 0.007*\"food\" + 0.006*\"go\" + 0.006*\"time\" + '\n",
      "  '0.005*\"service\" + 0.005*\"great\" + 0.005*\"get\" + 0.005*\"back\" + '\n",
      "  '0.005*\"like\"')]\n"
     ]
    }
   ],
   "source": [
    "from pprint import pprint\n",
    "# number of topics\n",
    "num_topics = 10\n",
    "# Build LDA model\n",
    "lda_model = gensim.models.LdaMulticore(corpus=corpus,\n",
    "                                       id2word=id2word,\n",
    "                                       num_topics=num_topics)\n",
    "# Print the Keyword in the 10 topics\n",
    "pprint(lda_model.print_topics())\n",
    "doc_lda = lda_model[corpus]"
   ]
  },
  {
   "cell_type": "code",
   "execution_count": 37,
   "metadata": {},
   "outputs": [],
   "source": [
    "df=df.drop(['date','useful','user_id','business_id'],axis=1)   "
   ]
  },
  {
   "cell_type": "code",
   "execution_count": 38,
   "metadata": {},
   "outputs": [],
   "source": [
    "for i in range(10):\n",
    "    s=str(i)\n",
    "    df[s]=np.zeros(len(df))\n",
    "for i in range(len(df)):\n",
    "    l=lda_model.get_document_topics(corpus[i])\n",
    "    for a in l:\n",
    "        df[str(a[0])]=a[1]"
   ]
  },
  {
   "cell_type": "code",
   "execution_count": 39,
   "metadata": {
    "id": "IBJh1-vzipWa"
   },
   "outputs": [],
   "source": [
    "review_topics = lda_model.get_document_topics(corpus[100])"
   ]
  },
  {
   "cell_type": "code",
   "execution_count": 40,
   "metadata": {
    "colab": {
     "base_uri": "https://localhost:8080/"
    },
    "id": "772eqKiuiuLW",
    "outputId": "724498f7-d7ff-47ee-99f4-80917a10f5be"
   },
   "outputs": [
    {
     "data": {
      "text/plain": [
       "int"
      ]
     },
     "execution_count": 40,
     "metadata": {},
     "output_type": "execute_result"
    }
   ],
   "source": [
    "type(review_topics[0][0])"
   ]
  },
  {
   "cell_type": "code",
   "execution_count": 41,
   "metadata": {
    "colab": {
     "base_uri": "https://localhost:8080/",
     "height": 419
    },
    "id": "JuiKKIXHkhQ7",
    "outputId": "38a5771e-c235-4d19-ba67-cef31f3f7d91"
   },
   "outputs": [
    {
     "data": {
      "text/html": [
       "<div>\n",
       "<style scoped>\n",
       "    .dataframe tbody tr th:only-of-type {\n",
       "        vertical-align: middle;\n",
       "    }\n",
       "\n",
       "    .dataframe tbody tr th {\n",
       "        vertical-align: top;\n",
       "    }\n",
       "\n",
       "    .dataframe thead th {\n",
       "        text-align: right;\n",
       "    }\n",
       "</style>\n",
       "<table border=\"1\" class=\"dataframe\">\n",
       "  <thead>\n",
       "    <tr style=\"text-align: right;\">\n",
       "      <th></th>\n",
       "      <th>stars</th>\n",
       "      <th>text</th>\n",
       "      <th>new_text</th>\n",
       "      <th>0</th>\n",
       "      <th>1</th>\n",
       "      <th>2</th>\n",
       "      <th>3</th>\n",
       "      <th>4</th>\n",
       "      <th>5</th>\n",
       "      <th>6</th>\n",
       "      <th>7</th>\n",
       "      <th>8</th>\n",
       "      <th>9</th>\n",
       "    </tr>\n",
       "  </thead>\n",
       "  <tbody>\n",
       "    <tr>\n",
       "      <th>372339</th>\n",
       "      <td>1</td>\n",
       "      <td>Blue Host has been on a downward slide for ove...</td>\n",
       "      <td>blue host downward slide year theyve obviously...</td>\n",
       "      <td>0.53235</td>\n",
       "      <td>0.532248</td>\n",
       "      <td>0.930688</td>\n",
       "      <td>0.954971</td>\n",
       "      <td>0.143865</td>\n",
       "      <td>0.438007</td>\n",
       "      <td>0.394262</td>\n",
       "      <td>0.440094</td>\n",
       "      <td>0.381254</td>\n",
       "      <td>0.082891</td>\n",
       "    </tr>\n",
       "    <tr>\n",
       "      <th>144885</th>\n",
       "      <td>2</td>\n",
       "      <td>I was there a few years back. I appreciated th...</td>\n",
       "      <td>years back appreciated video showed us explain...</td>\n",
       "      <td>0.53235</td>\n",
       "      <td>0.532248</td>\n",
       "      <td>0.930688</td>\n",
       "      <td>0.954971</td>\n",
       "      <td>0.143865</td>\n",
       "      <td>0.438007</td>\n",
       "      <td>0.394262</td>\n",
       "      <td>0.440094</td>\n",
       "      <td>0.381254</td>\n",
       "      <td>0.082891</td>\n",
       "    </tr>\n",
       "    <tr>\n",
       "      <th>107653</th>\n",
       "      <td>2</td>\n",
       "      <td>Good place for nachos and drinks, that's about...</td>\n",
       "      <td>good place nachos drinks thats it</td>\n",
       "      <td>0.53235</td>\n",
       "      <td>0.532248</td>\n",
       "      <td>0.930688</td>\n",
       "      <td>0.954971</td>\n",
       "      <td>0.143865</td>\n",
       "      <td>0.438007</td>\n",
       "      <td>0.394262</td>\n",
       "      <td>0.440094</td>\n",
       "      <td>0.381254</td>\n",
       "      <td>0.082891</td>\n",
       "    </tr>\n",
       "    <tr>\n",
       "      <th>379595</th>\n",
       "      <td>5</td>\n",
       "      <td>First - great service.  My wife is pregnant an...</td>\n",
       "      <td>first  great service wife pregnant server poin...</td>\n",
       "      <td>0.53235</td>\n",
       "      <td>0.532248</td>\n",
       "      <td>0.930688</td>\n",
       "      <td>0.954971</td>\n",
       "      <td>0.143865</td>\n",
       "      <td>0.438007</td>\n",
       "      <td>0.394262</td>\n",
       "      <td>0.440094</td>\n",
       "      <td>0.381254</td>\n",
       "      <td>0.082891</td>\n",
       "    </tr>\n",
       "    <tr>\n",
       "      <th>245044</th>\n",
       "      <td>4</td>\n",
       "      <td>Friendly staff and is seemingly packed with us...</td>\n",
       "      <td>friendly staff seemingly packed usuals food gr...</td>\n",
       "      <td>0.53235</td>\n",
       "      <td>0.532248</td>\n",
       "      <td>0.930688</td>\n",
       "      <td>0.954971</td>\n",
       "      <td>0.143865</td>\n",
       "      <td>0.438007</td>\n",
       "      <td>0.394262</td>\n",
       "      <td>0.440094</td>\n",
       "      <td>0.381254</td>\n",
       "      <td>0.082891</td>\n",
       "    </tr>\n",
       "    <tr>\n",
       "      <th>458886</th>\n",
       "      <td>1</td>\n",
       "      <td>Picked this place for dinner over options in H...</td>\n",
       "      <td>picked place dinner options hilliard due ratin...</td>\n",
       "      <td>0.53235</td>\n",
       "      <td>0.532248</td>\n",
       "      <td>0.930688</td>\n",
       "      <td>0.954971</td>\n",
       "      <td>0.143865</td>\n",
       "      <td>0.438007</td>\n",
       "      <td>0.394262</td>\n",
       "      <td>0.440094</td>\n",
       "      <td>0.381254</td>\n",
       "      <td>0.082891</td>\n",
       "    </tr>\n",
       "    <tr>\n",
       "      <th>164929</th>\n",
       "      <td>1</td>\n",
       "      <td>Canceled ny appointment half an hour before sc...</td>\n",
       "      <td>canceled ny appointment half hour scheduled  s...</td>\n",
       "      <td>0.53235</td>\n",
       "      <td>0.532248</td>\n",
       "      <td>0.930688</td>\n",
       "      <td>0.954971</td>\n",
       "      <td>0.143865</td>\n",
       "      <td>0.438007</td>\n",
       "      <td>0.394262</td>\n",
       "      <td>0.440094</td>\n",
       "      <td>0.381254</td>\n",
       "      <td>0.082891</td>\n",
       "    </tr>\n",
       "    <tr>\n",
       "      <th>114745</th>\n",
       "      <td>2</td>\n",
       "      <td>El Pollo Loco is a Mexican fast food chain tha...</td>\n",
       "      <td>el pollo loco mexican fast food chain competes...</td>\n",
       "      <td>0.53235</td>\n",
       "      <td>0.532248</td>\n",
       "      <td>0.930688</td>\n",
       "      <td>0.954971</td>\n",
       "      <td>0.143865</td>\n",
       "      <td>0.438007</td>\n",
       "      <td>0.394262</td>\n",
       "      <td>0.440094</td>\n",
       "      <td>0.381254</td>\n",
       "      <td>0.082891</td>\n",
       "    </tr>\n",
       "    <tr>\n",
       "      <th>249906</th>\n",
       "      <td>5</td>\n",
       "      <td>I met Jimmy through a friend of mine and am so...</td>\n",
       "      <td>met jimmy friend mine happy ive mothers diamon...</td>\n",
       "      <td>0.53235</td>\n",
       "      <td>0.532248</td>\n",
       "      <td>0.930688</td>\n",
       "      <td>0.954971</td>\n",
       "      <td>0.143865</td>\n",
       "      <td>0.438007</td>\n",
       "      <td>0.394262</td>\n",
       "      <td>0.440094</td>\n",
       "      <td>0.381254</td>\n",
       "      <td>0.082891</td>\n",
       "    </tr>\n",
       "  </tbody>\n",
       "</table>\n",
       "</div>"
      ],
      "text/plain": [
       "        stars                                               text  \\\n",
       "372339      1  Blue Host has been on a downward slide for ove...   \n",
       "144885      2  I was there a few years back. I appreciated th...   \n",
       "107653      2  Good place for nachos and drinks, that's about...   \n",
       "379595      5  First - great service.  My wife is pregnant an...   \n",
       "245044      4  Friendly staff and is seemingly packed with us...   \n",
       "458886      1  Picked this place for dinner over options in H...   \n",
       "164929      1  Canceled ny appointment half an hour before sc...   \n",
       "114745      2  El Pollo Loco is a Mexican fast food chain tha...   \n",
       "249906      5  I met Jimmy through a friend of mine and am so...   \n",
       "\n",
       "                                                 new_text        0         1  \\\n",
       "372339  blue host downward slide year theyve obviously...  0.53235  0.532248   \n",
       "144885  years back appreciated video showed us explain...  0.53235  0.532248   \n",
       "107653                  good place nachos drinks thats it  0.53235  0.532248   \n",
       "379595  first  great service wife pregnant server poin...  0.53235  0.532248   \n",
       "245044  friendly staff seemingly packed usuals food gr...  0.53235  0.532248   \n",
       "458886  picked place dinner options hilliard due ratin...  0.53235  0.532248   \n",
       "164929  canceled ny appointment half hour scheduled  s...  0.53235  0.532248   \n",
       "114745  el pollo loco mexican fast food chain competes...  0.53235  0.532248   \n",
       "249906  met jimmy friend mine happy ive mothers diamon...  0.53235  0.532248   \n",
       "\n",
       "               2         3         4         5         6         7         8  \\\n",
       "372339  0.930688  0.954971  0.143865  0.438007  0.394262  0.440094  0.381254   \n",
       "144885  0.930688  0.954971  0.143865  0.438007  0.394262  0.440094  0.381254   \n",
       "107653  0.930688  0.954971  0.143865  0.438007  0.394262  0.440094  0.381254   \n",
       "379595  0.930688  0.954971  0.143865  0.438007  0.394262  0.440094  0.381254   \n",
       "245044  0.930688  0.954971  0.143865  0.438007  0.394262  0.440094  0.381254   \n",
       "458886  0.930688  0.954971  0.143865  0.438007  0.394262  0.440094  0.381254   \n",
       "164929  0.930688  0.954971  0.143865  0.438007  0.394262  0.440094  0.381254   \n",
       "114745  0.930688  0.954971  0.143865  0.438007  0.394262  0.440094  0.381254   \n",
       "249906  0.930688  0.954971  0.143865  0.438007  0.394262  0.440094  0.381254   \n",
       "\n",
       "               9  \n",
       "372339  0.082891  \n",
       "144885  0.082891  \n",
       "107653  0.082891  \n",
       "379595  0.082891  \n",
       "245044  0.082891  \n",
       "458886  0.082891  \n",
       "164929  0.082891  \n",
       "114745  0.082891  \n",
       "249906  0.082891  "
      ]
     },
     "execution_count": 41,
     "metadata": {},
     "output_type": "execute_result"
    }
   ],
   "source": [
    "df.head(9)"
   ]
  },
  {
   "cell_type": "code",
   "execution_count": 42,
   "metadata": {},
   "outputs": [],
   "source": [
    "#!pip install pyLDAvis"
   ]
  },
  {
   "cell_type": "code",
   "execution_count": 43,
   "metadata": {},
   "outputs": [
    {
     "data": {
      "text/html": [
       "\n",
       "<link rel=\"stylesheet\" type=\"text/css\" href=\"https://cdn.jsdelivr.net/gh/bmabey/pyLDAvis@3.3.1/pyLDAvis/js/ldavis.v1.0.0.css\">\n",
       "\n",
       "\n",
       "<div id=\"ldavis_el1060417060269134564376950201\"></div>\n",
       "<script type=\"text/javascript\">\n",
       "\n",
       "var ldavis_el1060417060269134564376950201_data = {\"mdsDat\": {\"x\": [-0.0070289687448047205, 0.00013073572715766504, -0.0037524550436899675, -0.013981146539568348, -0.006023329564070406, -0.01192955072878236, 0.00270437486113932, -0.0054599506372475645, 0.019438126861440797, 0.025902163808425565], \"y\": [-0.0008918230823934318, -0.004583360086313335, 0.0035037638580947806, -0.009704821702265503, 0.005254121827580132, 0.002771504914118918, 0.007766843534706638, -0.005770927995002199, 0.02457749037331274, -0.02292279164183875], \"topics\": [1, 2, 3, 4, 5, 6, 7, 8, 9, 10], \"cluster\": [1, 1, 1, 1, 1, 1, 1, 1, 1, 1], \"Freq\": [24.366156854209038, 12.012201352164393, 11.640087127709108, 10.432696674093785, 9.03394988363924, 8.614769515145012, 7.395798833619789, 7.259145226699197, 4.845062252352169, 4.400132280368277]}, \"tinfo\": {\"Term\": [\"good\", \"like\", \"food\", \"place\", \"get\", \"one\", \"back\", \"go\", \"would\", \"also\", \"really\", \"service\", \"time\", \"chicken\", \"it\", \"us\", \"experience\", \"love\", \"ordered\", \"best\", \"staff\", \"got\", \"restaurant\", \"great\", \"im\", \"better\", \"said\", \"going\", \"even\", \"well\", \"filler\", \"mogli\", \"yogli\", \"ornaments\", \"floss\", \"hardie\", \"headlights\", \"bambu\", \"yen\", \"blenz\", \"gus\", \"eurotrash\", \"mika\", \"lara\", \"gressos\", \"ipods\", \"vanbarrys\", \"inerja\", \"qsr\", \"asha\", \"paturey\", \"palki\", \"pirate\", \"sunbusters\", \"krysten\", \"pinoy\", \"dq\", \"noe\", \"crowleys\", \"rejoined\", \"sorbet\", \"venden\", \"great\", \"food\", \"first\", \"fun\", \"sandwich\", \"overall\", \"party\", \"pecan\", \"table\", \"waited\", \"trimmed\", \"shanti\", \"birth\", \"still\", \"places\", \"lunch\", \"ever\", \"too\", \"long\", \"try\", \"got\", \"would\", \"pizza\", \"time\", \"nice\", \"area\", \"one\", \"place\", \"eat\", \"dinner\", \"perfect\", \"staff\", \"fresh\", \"service\", \"best\", \"get\", \"love\", \"good\", \"little\", \"ive\", \"made\", \"always\", \"never\", \"back\", \"like\", \"really\", \"people\", \"im\", \"well\", \"even\", \"go\", \"it\", \"also\", \"dba\", \"gilbert\", \"ninos\", \"mira\", \"frissant\", \"darrin\", \"liability\", \"pourover\", \"frizz\", \"emissions\", \"sandillada\", \"emma\", \"pretaste\", \"beezneez\", \"db\", \"zola\", \"mooo\", \"papparoticanada\", \"nasser\", \"guey\", \"malas\", \"targeted\", \"defintely\", \"incompent\", \"townand\", \"reflex\", \"thaijapanese\", \"polly\", \"fuchsia\", \"sinthia\", \"mercedes\", \"harassed\", \"bingo\", \"masseuse\", \"nathan\", \"kathy\", \"gyoza\", \"twomey\", \"curl\", \"escort\", \"cory\", \"massage\", \"really\", \"place\", \"burger\", \"hair\", \"asked\", \"done\", \"one\", \"finished\", \"since\", \"like\", \"order\", \"came\", \"ordered\", \"would\", \"going\", \"time\", \"coffee\", \"great\", \"back\", \"day\", \"us\", \"working\", \"nothing\", \"work\", \"needed\", \"service\", \"well\", \"could\", \"told\", \"get\", \"take\", \"recommend\", \"come\", \"go\", \"even\", \"im\", \"try\", \"food\", \"good\", \"it\", \"nice\", \"got\", \"little\", \"also\", \"always\", \"permits\", \"xurros\", \"tanner\", \"nim\", \"hollow\", \"hatzu\", \"esog\", \"rj\", \"moonshine\", \"jill\", \"apptmt\", \"keema\", \"repairman\", \"contacting\", \"fiddlehead\", \"soltans\", \"elevations\", \"ammo\", \"flu\", \"apollos\", \"der\", \"zafron\", \"armadillo\", \"overjoyed\", \"elston\", \"fern\", \"pharaohs\", \"foray\", \"chineese\", \"succeeds\", \"jeff\", \"duas\", \"kvs\", \"bouquet\", \"nirvana\", \"pork\", \"arrangement\", \"yum\", \"rice\", \"order\", \"portions\", \"big\", \"fried\", \"like\", \"wings\", \"always\", \"good\", \"customer\", \"chicken\", \"could\", \"amazing\", \"time\", \"also\", \"reasonable\", \"something\", \"food\", \"bowl\", \"full\", \"ordered\", \"service\", \"would\", \"it\", \"made\", \"know\", \"never\", \"next\", \"minutes\", \"great\", \"best\", \"one\", \"place\", \"really\", \"nice\", \"definitely\", \"us\", \"im\", \"get\", \"go\", \"even\", \"ive\", \"got\", \"back\", \"pyrolates\", \"toni\", \"icemaker\", \"nochip\", \"bourbons\", \"fishbones\", \"halinas\", \"decarli\", \"suffolk\", \"vivian\", \"clover\", \"spencer\", \"maureen\", \"nicholas\", \"pumpkins\", \"sitter\", \"loui\", \"outgoing\", \"victory\", \"kalua\", \"fore\", \"bookshelf\", \"chadwick\", \"yessi\", \"ajitama\", \"km\", \"alethea\", \"nom\", \"dissatisfying\", \"scot\", \"vaping\", \"bjs\", \"paula\", \"jets\", \"michael\", \"barbeque\", \"work\", \"ive\", \"friendly\", \"done\", \"delicious\", \"get\", \"options\", \"service\", \"really\", \"great\", \"bar\", \"back\", \"us\", \"cant\", \"would\", \"well\", \"drinks\", \"place\", \"go\", \"love\", \"clean\", \"little\", \"line\", \"definitely\", \"coming\", \"day\", \"came\", \"happy\", \"people\", \"also\", \"one\", \"good\", \"time\", \"food\", \"even\", \"nice\", \"went\", \"like\", \"got\", \"muqueca\", \"sidney\", \"chuan\", \"dalia\", \"disfigured\", \"parkatlanta\", \"ajisen\", \"timecop\", \"joyce\", \"johnathan\", \"gingerman\", \"compressor\", \"daym\", \"konditor\", \"mallway\", \"luv\", \"meister\", \"leagues\", \"curtis\", \"blistering\", \"regions\", \"scone\", \"until\", \"expects\", \"fi\", \"nevaes\", \"anchovy\", \"fckn\", \"remodelled\", \"awesomehad\", \"scarf\", \"maxed\", \"butchers\", \"aromatic\", \"league\", \"scorpion\", \"hong\", \"admission\", \"good\", \"credit\", \"much\", \"go\", \"phone\", \"restaurant\", \"place\", \"museum\", \"mistaken\", \"even\", \"feel\", \"nice\", \"better\", \"pay\", \"high\", \"customers\", \"way\", \"quality\", \"time\", \"back\", \"room\", \"service\", \"cards\", \"definitely\", \"food\", \"lot\", \"get\", \"menu\", \"selection\", \"make\", \"also\", \"think\", \"one\", \"like\", \"little\", \"went\", \"it\", \"great\", \"ive\", \"well\", \"would\", \"made\", \"could\", \"really\", \"ordered\", \"got\", \"best\", \"iona\", \"koozies\", \"allegro\", \"rotis\", \"cello\", \"rene\", \"logoit\", \"mariee\", \"jeune\", \"tills\", \"connections\", \"iranian\", \"cheryls\", \"netcollections\", \"corals\", \"noticably\", \"resteraunts\", \"wool\", \"shepards\", \"accolades\", \"remade\", \"jams\", \"composition\", \"erika\", \"meltie\", \"poh\", \"peony\", \"counterfeit\", \"piah\", \"radiant\", \"nayiri\", \"kona\", \"bukowski\", \"chicken\", \"staff\", \"place\", \"thai\", \"food\", \"found\", \"best\", \"make\", \"one\", \"go\", \"many\", \"great\", \"experience\", \"small\", \"back\", \"im\", \"town\", \"cheese\", \"restaurant\", \"amazing\", \"friendly\", \"job\", \"bartender\", \"good\", \"even\", \"first\", \"said\", \"night\", \"also\", \"like\", \"us\", \"always\", \"order\", \"get\", \"went\", \"time\", \"it\", \"service\", \"love\", \"really\", \"omlet\", \"ashiatsu\", \"wans\", \"jims\", \"jons\", \"avis\", \"glorias\", \"causa\", \"sawdust\", \"anu\", \"plent\", \"breadcant\", \"erased\", \"gratuation\", \"uniqu\", \"pickupdrop\", \"nonprocessed\", \"wellso\", \"crayon\", \"consign\", \"underdelivered\", \"springsmcneil\", \"gluey\", \"garnesh\", \"transformation\", \"sandbox\", \"hefeweizen\", \"haikus\", \"drivethe\", \"displeased\", \"highland\", \"arista\", \"meandered\", \"edging\", \"mian\", \"dinosaurs\", \"brunswick\", \"usd\", \"hp\", \"yuk\", \"jiang\", \"delta\", \"halals\", \"gasoline\", \"hoovers\", \"servicing\", \"like\", \"jesus\", \"sisterinlaw\", \"poutine\", \"good\", \"really\", \"get\", \"food\", \"got\", \"id\", \"never\", \"money\", \"time\", \"back\", \"around\", \"service\", \"fine\", \"happy\", \"location\", \"steak\", \"restaurant\", \"definitely\", \"im\", \"bad\", \"hour\", \"quick\", \"also\", \"people\", \"year\", \"wait\", \"place\", \"going\", \"us\", \"would\", \"go\", \"delicious\", \"see\", \"well\", \"even\", \"one\", \"it\", \"chicken\", \"great\", \"went\", \"nice\", \"clarence\", \"gilberts\", \"bickfords\", \"moons\", \"iuds\", \"barta\", \"bash\", \"greatness\", \"refi\", \"koreans\", \"vpne\", \"fritos\", \"ibe\", \"hae\", \"kemper\", \"deleon\", \"ulta\", \"liars\", \"ogwu\", \"jobe\", \"bacc\", \"cynthia\", \"spicevery\", \"metersor\", \"ecopro\", \"youtube\", \"undered\", \"stylecut\", \"streetno\", \"californian\", \"pew\", \"feil\", \"molly\", \"socal\", \"daby\", \"hugger\", \"firestone\", \"ford\", \"adrienne\", \"eleven\", \"rellenos\", \"regal\", \"get\", \"good\", \"love\", \"lbs\", \"it\", \"also\", \"companies\", \"way\", \"home\", \"go\", \"got\", \"chicken\", \"chili\", \"said\", \"amazing\", \"me\", \"would\", \"like\", \"back\", \"enough\", \"different\", \"years\", \"told\", \"food\", \"disappointed\", \"review\", \"things\", \"service\", \"every\", \"im\", \"day\", \"always\", \"try\", \"best\", \"ordered\", \"us\", \"time\", \"friendly\", \"little\", \"one\", \"place\", \"great\", \"well\", \"ive\", \"frasca\", \"debt\", \"lice\", \"boatload\", \"berk\", \"cruises\", \"ohana\", \"reliant\", \"dessa\", \"amura\", \"mashari\", \"babes\", \"lumpy\", \"sweethut\", \"patiolawn\", \"schigo\", \"pric\", \"venomous\", \"ancestors\", \"rhimes\", \"wayne\", \"lockshin\", \"crayeres\", \"raphael\", \"halt\", \"creame\", \"preplanning\", \"rested\", \"glutenous\", \"restaruant\", \"randy\", \"tanasbourne\", \"ricks\", \"derek\", \"voodoo\", \"hvac\", \"stinky\", \"like\", \"kungfu\", \"friends\", \"doll\", \"ride\", \"one\", \"experience\", \"bad\", \"room\", \"dresses\", \"wait\", \"sharks\", \"ordered\", \"time\", \"spot\", \"service\", \"said\", \"pictures\", \"it\", \"bar\", \"back\", \"place\", \"went\", \"customer\", \"minutes\", \"night\", \"go\", \"ive\", \"even\", \"always\", \"sushi\", \"could\", \"left\", \"better\", \"food\", \"try\", \"would\", \"great\", \"really\", \"good\", \"also\", \"well\", \"restaurant\", \"get\", \"im\", \"little\", \"us\", \"deidre\", \"nespresso\", \"lainey\", \"onethird\", \"timeless\", \"ali\", \"lululemon\", \"eatenand\", \"dumpsters\", \"bulkhead\", \"dewey\", \"beale\", \"matterhorn\", \"cites\", \"beefs\", \"torino\", \"cnn\", \"tampiquena\", \"listtasting\", \"centerville\", \"bartletts\", \"poisonings\", \"humm\", \"raza\", \"macand\", \"augustjust\", \"kerby\", \"sazarac\", \"pepsi\", \"grotesquely\", \"thyroid\", \"coppersmith\", \"lookie\", \"chambers\", \"gordo\", \"eden\", \"sonny\", \"yari\", \"everett\", \"piedmont\", \"unhelpful\", \"park\", \"balloon\", \"champion\", \"bacon\", \"kuni\", \"beignets\", \"disneyland\", \"lashes\", \"fries\", \"austins\", \"mcdonalds\", \"lauren\", \"food\", \"enjoyed\", \"would\", \"going\", \"awesome\", \"us\", \"best\", \"appointment\", \"hair\", \"one\", \"cheese\", \"home\", \"good\", \"better\", \"server\", \"times\", \"thing\", \"great\", \"experience\", \"like\", \"back\", \"staff\", \"also\", \"small\", \"ever\", \"friend\", \"place\", \"got\", \"well\", \"go\", \"im\", \"could\", \"service\", \"time\", \"get\", \"really\", \"ive\", \"ordered\", \"little\", \"went\"], \"Freq\": [4524.0, 3325.0, 4818.0, 4576.0, 3079.0, 3159.0, 2706.0, 2466.0, 2913.0, 2160.0, 2507.0, 3074.0, 3138.0, 1298.0, 1828.0, 1809.0, 1283.0, 1527.0, 1499.0, 1632.0, 1477.0, 1874.0, 1361.0, 4279.0, 1699.0, 1062.0, 1070.0, 1161.0, 1818.0, 1674.0, 24.379110868913546, 4.603523201268339, 4.5633771748853595, 3.603740843185983, 4.432702570019176, 3.4269851727034863, 4.2539631551817445, 2.4449679537996927, 2.4443133687682876, 2.444050219006919, 2.443849820342492, 2.4433903203745633, 2.4427805214083147, 2.442433366146201, 2.442112019802991, 2.4420606549938007, 2.441955901146487, 2.4418961863929454, 2.4416186140004243, 2.441503992037059, 2.440984018229739, 2.440925568619281, 2.4406606476575954, 2.4405055411155576, 2.439846907626286, 2.439718116060385, 2.439652075591426, 2.4372111085261134, 2.3942941657616443, 2.389240931257513, 9.48106424905002, 3.879114923084842, 1637.7793394336024, 1589.5227580616438, 524.0442726042805, 199.51022225114187, 216.53879715071656, 218.14333055414463, 123.49018319582365, 15.044496546866538, 300.2070451612051, 128.28902272872395, 7.470622844767809, 4.543534164706451, 6.243642043291956, 347.2700439909207, 210.73066897460444, 266.11951573422016, 358.651813663476, 208.6230580027651, 282.2568955065696, 432.64117054334764, 579.355048902385, 834.1313686706086, 279.14450587358255, 864.4894263226545, 505.4924573352514, 294.59186648704434, 856.7172940721688, 1158.5936317688459, 269.13006236109965, 238.16642018744463, 204.58140154476956, 441.31717769109866, 301.09300968086586, 792.6693303310241, 471.60291369180464, 758.4347933019649, 432.86147142664987, 949.153756906792, 411.1853802523355, 464.0549040688478, 361.1224741430155, 418.3969468326955, 395.9195201019766, 604.3624703111452, 682.198186041498, 570.1407587966094, 392.8792577943518, 437.6350890670374, 425.36424565917935, 442.1397595543903, 497.0850734639057, 431.21724694229164, 446.9236116962662, 4.450030194977629, 4.738840862997657, 2.279698052903718, 2.278726578970904, 2.2784364340854744, 2.2382145691984503, 2.1912148399542897, 2.1872740586901065, 2.0830502985963535, 2.7875049910601923, 2.091330529677529, 1.9953240070419325, 2.012856566836335, 2.0252161651523353, 1.905129862343342, 1.8679265770274744, 2.339160540317813, 1.8796443888277672, 1.876869675658595, 1.1956714803742428, 1.1952992566691174, 1.1951861176273784, 1.1951712735855184, 1.1951132695564022, 1.1950951822785056, 1.1950684879511273, 1.195032937094572, 1.1949891534080779, 1.194975182545151, 1.1947485302421303, 5.903752370142008, 2.3803219457366747, 5.44487588459026, 2.2921999793857863, 1.7417750486104668, 2.8904078809081097, 11.48200758413657, 2.241949030754766, 3.7161220544472635, 2.194731505736762, 2.149891272733597, 38.637942252730525, 521.676141101428, 806.3097526234523, 144.30159436526878, 114.83886465616489, 171.30771947069695, 122.877244133374, 476.88207381688653, 40.44865390491728, 168.05793708688108, 475.8545527736847, 248.48627895333365, 242.644717879511, 252.6960432372873, 407.6639683297275, 196.06162970539566, 414.59852988545305, 113.49404535751617, 509.97060170629766, 357.43490006588814, 188.68265100828836, 260.279347800539, 72.33368775337367, 107.62298580454203, 153.50925523596206, 86.34349346282421, 367.5993654633221, 235.98547014029924, 201.20659557032982, 144.71244950222484, 342.7551795040645, 147.5602063344545, 161.79338618373154, 183.9743105348978, 272.94783890209794, 221.46471404853366, 210.1707323251808, 180.9841147676151, 343.60010536048605, 324.950903390352, 209.97716801516532, 196.44939699344613, 198.10343539709484, 183.48065208921122, 189.7281984563411, 181.6015630421848, 3.099720281523191, 3.628138598107737, 3.547191557170236, 2.10047799644949, 2.099682392895137, 2.0996229220733897, 2.0987388375403393, 2.081802707912947, 2.0280705787128284, 1.9708903506078983, 1.8576748285923301, 3.0984605154576386, 1.8402961731957967, 4.372592168980398, 1.8408251250575178, 1.7485213329280274, 1.7755969959120501, 1.7507216324570285, 2.933823281491709, 3.4109654204132593, 1.7117806944048142, 1.6616470334230318, 1.6678449325797389, 1.6915193964126856, 1.6636209328521692, 3.454524654576255, 1.1019708771031629, 1.1017842450934514, 1.101733356443135, 1.1013357964172665, 7.800800743182103, 2.1530502028742253, 1.6151055551255793, 4.17263047565303, 2.175976446409171, 119.10690082094725, 7.795159718163182, 40.82036977326525, 127.00217362373954, 296.46740361996314, 63.92128539721684, 130.99117850894635, 124.14047249344115, 486.5517303130684, 59.985245322558825, 250.356339351125, 589.153739423695, 138.77195015626756, 215.5142744175236, 226.9775102916136, 194.7083909900934, 414.4557810935055, 310.7970905540495, 54.68553833822683, 139.1539713750685, 533.3839948197246, 53.90993438607521, 97.14645956315935, 216.29558370054204, 365.187653616409, 350.3282953687092, 243.27560213111119, 180.1801662778833, 173.40577631526116, 196.67739930676916, 131.53180405782413, 143.56384014522175, 396.9867155428375, 200.98745766493082, 297.43487301414, 369.9379237001923, 256.4920107541692, 198.8633571811796, 174.4215804989376, 204.24233538638262, 197.17915898137585, 250.78768557278272, 225.01659387471642, 199.0188361503477, 194.3068130574873, 198.61264753679703, 214.39333742506048, 2.8524920144742385, 2.847828947754539, 2.645302432909981, 1.932807028973295, 1.9315056777945157, 1.9309691900291712, 1.9302056266668637, 1.9299154985902094, 1.9285363610189585, 1.927982105888203, 1.921230723707119, 2.5491075331464463, 2.475993307752868, 1.8115123671009676, 2.3676327462119553, 1.763857476290572, 1.7634008333319844, 1.7509640025568967, 2.2857507593383044, 2.30492651347117, 2.267117559876046, 2.3109206158703968, 2.2703653042681085, 1.691271938355572, 1.6548440724083902, 2.136848103381568, 2.2417947306612667, 4.295857744985842, 1.5830235062244193, 1.548827286375446, 2.0883707135577443, 4.689409222348622, 2.5298139077113406, 5.019822849996236, 6.4654246684474, 4.337493182400021, 181.24511296867414, 284.15584284845505, 231.80964127426145, 115.95326574235153, 214.48835633954488, 408.76511247574143, 85.24913662828418, 399.5928392205995, 330.26484979656584, 494.70923910285325, 151.8273757784108, 341.7013059628383, 251.56958638184847, 137.84089185946868, 353.3330402088931, 231.66551933965147, 120.85965869810977, 474.8914954555323, 299.90991094858276, 210.1951784332835, 100.66650882036508, 199.7047712060048, 87.29528536469398, 184.44530495729, 84.46269236612996, 159.77818339646515, 183.30191172392168, 113.84884698099887, 177.6985873596518, 238.10052974531783, 299.53929583991476, 367.89034017655564, 264.0141611281534, 336.1404984706472, 189.8214289196884, 167.8370443306439, 158.49159733169273, 180.25039011546107, 154.99382884016185, 2.772823843212917, 1.8778712975203267, 1.8777921198481753, 1.87743938519499, 1.8754963426054223, 1.87352665729205, 1.8676733259221439, 1.855595166047594, 1.8325660961901633, 1.7253880470694254, 2.7722587172685587, 1.6328610569185198, 2.119246307321353, 1.6018517407824016, 2.1059163146776267, 1.5840958663652762, 1.5784530500383882, 3.1425257837157456, 3.116750449433488, 1.5474258157323872, 1.4827349370250482, 3.6631497485794986, 2.0739003914062213, 1.4654369609702096, 1.5023455765560374, 1.508633916060736, 2.006323561598898, 0.9851729701738504, 0.985087600882787, 0.9850529841043227, 2.476679273512244, 1.9103317039797085, 2.489722387813034, 2.4121076303751705, 3.9983452340096544, 1.969379109673305, 6.2889631695855375, 5.487683626417074, 667.0371157418783, 37.08435999803294, 193.10085440398913, 315.9697717172011, 64.09575905997065, 197.35144206473979, 472.79993340714594, 11.718361522309674, 6.281029641885916, 225.57632638555836, 105.31382696567238, 209.8501126798364, 148.46424434745558, 65.85973252560224, 72.46617339403836, 58.43334419535227, 132.60743176214066, 93.71108435768424, 286.1290564810947, 257.0554115307919, 84.35251466318752, 279.1022699819495, 18.364688424529174, 152.3654235677505, 373.7329981234245, 105.64250961850607, 261.6527418586193, 129.98214931936255, 76.89703097754459, 133.30969493566369, 194.13602704218997, 112.73369495833326, 242.29805034447784, 249.25254875469793, 143.25370208654846, 143.72818573202815, 164.77070805866595, 263.48206279600015, 150.2276414296539, 147.5666112060236, 192.11812065022949, 125.36810387196972, 130.23114696254387, 158.93342086198498, 132.98786884408852, 137.31378261477727, 130.43315734792387, 3.5425029756451294, 2.637700880990501, 1.8125826525420212, 1.8122477163269834, 1.8106290368732187, 1.8032629450072417, 1.791156217482267, 1.7609912035343374, 1.7504060024904964, 1.7603986240769627, 1.7158674945038992, 1.7060598750789442, 1.7201679896239046, 1.6539819455324314, 1.645938287722892, 1.6124899327054325, 1.6070187711030592, 2.554367068851248, 1.5382443070206921, 1.5260177038204636, 2.590555209264474, 2.5287601932656605, 1.5028840244423916, 2.4988812706680754, 1.4708654999604422, 1.508757037935243, 1.4863383185546555, 1.5103175687405637, 1.4798147558749035, 1.4871912250381414, 3.5315885637916358, 4.455020948650991, 1.8565895496844966, 218.73418889533002, 235.09920671451255, 555.2095990153502, 63.09498646775349, 562.0437635059014, 111.1080299139726, 218.46672085735207, 167.43017098285114, 330.98669299338434, 274.7236152064602, 114.71869956613467, 387.922047880646, 159.36770092256728, 104.55500572945941, 265.15694374173853, 188.09788820311243, 57.67457915276913, 106.75767223846691, 156.26504649023957, 136.60813813993565, 150.22674770067226, 71.41021027417516, 32.28299312318106, 354.68545127541444, 185.3109440745389, 156.70778063787117, 124.77089685833732, 106.42001073046565, 195.17483278362025, 251.76771682235707, 166.78179172459167, 144.43277486051568, 139.49966252327638, 212.81819621560268, 138.5104269808107, 199.03874856678326, 147.98046505343984, 177.8610694888566, 131.65893741356376, 143.24969999332652, 2.688492283898916, 1.8235754519635488, 1.8229324727767102, 1.822632641106211, 1.8211950772720922, 1.8208828038160858, 1.7000085535774645, 1.6653529584615234, 2.1038096206632346, 1.5458672729264427, 0.956234852689739, 0.9559092926356291, 0.9558869435024028, 0.9558289586378468, 0.9558010798221728, 0.9557562279534301, 0.9557481638331938, 0.9556382613945452, 0.9555758988647182, 0.9555318150074265, 0.9554900351844882, 0.9554595451298805, 0.9554392696275722, 0.9554421112699412, 0.955416997295491, 0.955394110554249, 0.9553629292893355, 0.9552988003331708, 0.955285283331632, 0.9552633950052764, 3.7878933032004043, 1.920305111805618, 1.405794886843052, 1.3957935345225954, 1.893085710763549, 2.749776832853341, 2.7847720426329468, 1.4036419971434035, 1.3986413209831752, 2.6936868061493953, 1.3746833573692339, 5.014006381382412, 1.6619271665828659, 1.6553846306334628, 1.3462721561573894, 2.433378694547806, 425.9548304870332, 6.269283004793736, 3.314294741031932, 6.745048895277137, 461.7103765184747, 262.3297868520268, 286.5629885665761, 395.9623047567937, 192.37453607318304, 70.95415719256772, 148.28153637326247, 56.56909873012355, 259.75750637444935, 232.66194441402467, 105.75471969237671, 239.74512847570708, 43.9298568642561, 84.3021372289421, 90.06589482113709, 48.95911533864767, 128.11634262803148, 125.48763481312074, 148.0142241508294, 86.24900816404492, 72.26021903398814, 54.82250552036749, 166.28552377644345, 122.65944554713572, 49.54720321105512, 101.2711745193865, 259.5014009751103, 104.16306572716934, 137.3601726906092, 182.94037679839118, 164.71315734361374, 110.73980952101248, 90.0043162773992, 124.69265817279567, 129.1390340491906, 170.64712101918644, 127.10102411680265, 107.15989801962685, 163.24699030542016, 104.65428830891247, 103.7976643110235, 1.7332576492854694, 1.7330345183420486, 1.7321463667287431, 1.7319933411155186, 1.73099633778522, 1.711771948603855, 1.707441851424132, 1.6682394030707526, 2.1785926381270304, 1.6328803852177969, 1.5692319820787028, 1.591631313515135, 2.1197781859601674, 1.5621334027949012, 1.5292701346969375, 1.5174258014692164, 3.8754473785782966, 1.3861192718320954, 1.4374534098849259, 1.3409836510818351, 0.9086832030577495, 0.9086280233784981, 0.908549475255848, 0.9085060551803714, 0.9084983662086725, 0.9084457495199875, 0.9082607619067595, 0.908166458930334, 0.9081334415812737, 0.908115877557687, 1.7454585397302111, 1.307375909606431, 1.7672814998175232, 1.3482224410260297, 1.3419482401196774, 1.373378193434464, 4.7429340512399945, 3.5306563989553705, 1.309567417304786, 3.293401869872604, 2.7857599773071913, 4.275345067603526, 397.2522003155039, 523.9951690576311, 214.89311302113066, 6.58781385955664, 216.16088273598743, 239.952942040045, 7.989840256956527, 122.22933610947848, 91.17331045412934, 218.26231789999275, 178.05704551397434, 136.32508467858, 17.546421570689596, 112.46431551730733, 114.7690048790709, 92.35741450799576, 210.8297079755505, 229.86109371530952, 197.20632158310482, 69.63061368677265, 69.32967396809795, 72.75488109541905, 88.66007929430502, 276.13637686607274, 51.50729128326472, 56.98141458107591, 71.0463927900231, 197.4075977552025, 83.87534135928684, 131.04304214577112, 99.36667869654227, 116.76916512925374, 107.04716900742694, 121.45389215709108, 115.16106886281226, 126.9664952906801, 170.19631364533393, 105.48574449766986, 108.1485626419635, 157.34624844603013, 167.30868564803438, 143.95184023383612, 106.3360253623674, 102.4218985362754, 1.5541280537092268, 1.5160691343261632, 3.4309523134298825, 1.453171693443454, 1.4203083166694177, 1.3511357124647074, 1.356610996483192, 1.2911853171427081, 1.6979142325325909, 0.8163617579253849, 0.8161499393401664, 0.8159735412499582, 0.8159222720959588, 0.8157154345178512, 0.8157054725036295, 0.8156659766391647, 0.8155642936556192, 0.8155571491807734, 0.8155085969397435, 0.8154109893256523, 0.8153840717619725, 0.8153667640200924, 0.8153656068164202, 0.8153535316476667, 0.8153499594102437, 0.8153521731911819, 0.8153474940632899, 0.8153433683806324, 0.8153373307962556, 0.8153199224279692, 1.7041858739303721, 2.0272032794306454, 1.2121206340686834, 1.2078337479083605, 6.877836604513199, 4.279267131344896, 1.4136858916193458, 218.01435752601193, 1.100604538727931, 55.316998509102106, 2.4835261204082326, 16.461588114874385, 184.00287692693323, 96.89937163332651, 66.96493813201637, 52.70253127125851, 7.740939881600684, 83.74919729630062, 2.4820559686124883, 103.59546809297503, 174.64048016506086, 48.42142348168995, 164.1569667752989, 77.0402013363783, 13.185499840708777, 108.42455670071469, 65.02802954322696, 125.74471507432648, 176.89724226388432, 82.85790172021859, 53.001155024601296, 61.66681132934883, 58.098054775069684, 108.05516601838609, 85.95326657872857, 88.75709500294283, 78.53545499292788, 35.26858616744827, 73.0776654789334, 43.25111958537998, 61.73715643243951, 149.17260328501382, 70.11266092224174, 108.00786999741219, 131.16291735507932, 92.9409123528528, 118.89584679965304, 84.9169015352639, 74.30926185080546, 68.32195525667531, 82.81016777312456, 70.184963812693, 67.44051301829619, 67.06630514864618, 1.4561196708103818, 1.4541903355065082, 1.4175132254175618, 1.292781953902149, 1.214639304809309, 1.5446962843935481, 1.1822607961803666, 0.7641669270705909, 0.7639969953257276, 0.7639583391665036, 0.7639377773796823, 0.7638915818986237, 0.76375738196997, 0.7636896194591788, 0.7636812119730119, 0.7636532936357945, 0.7635934359897147, 0.7635820584676736, 0.7635166262927222, 0.7634735379261166, 0.7634440203388132, 0.7634407304529217, 0.7634229102376766, 0.763402622608013, 0.7633787709353002, 0.7634113042513374, 0.7633531829339225, 0.7633371904330615, 0.7632977118023646, 0.7632829987015725, 2.169286969563773, 1.494089614668933, 1.4570804088763927, 2.43706522120927, 1.841248426359633, 1.4555761085525456, 2.094686796490228, 1.3795569894168913, 2.2803904370883346, 1.3759179186923958, 2.573209837967738, 49.66678441755522, 2.153584892518388, 1.3377007764633928, 35.958283181216856, 1.3356159026654308, 2.740870099394407, 2.476115070111677, 5.062434737813807, 54.66489603750593, 2.5906862601372236, 7.501961890298483, 2.6996900493773124, 259.2317787659349, 39.59776843133471, 157.18262991536307, 77.55636657007518, 49.33122190531743, 104.02148954281792, 95.04252826397062, 30.437179132194448, 40.3426307649231, 143.706344909127, 55.76044850974658, 50.819525341789124, 167.32132714693518, 63.65291693101242, 39.81130103391681, 54.78472391687164, 46.18610269050149, 150.0287979014076, 69.4630659679396, 125.94070375332753, 110.70684180583663, 75.56206991047559, 94.29503694601212, 48.60306926771438, 58.759075685589806, 37.83517624180985, 134.879203822225, 79.42105049858228, 74.11406976943093, 89.81503117795573, 72.27791573137414, 64.56959318973682, 90.68591807375773, 91.45868741273433, 77.19483004318184, 72.46591004640986, 64.73611112967342, 61.80972692366254, 60.106817650722384, 57.52513745321289], \"Total\": [4524.0, 3325.0, 4818.0, 4576.0, 3079.0, 3159.0, 2706.0, 2466.0, 2913.0, 2160.0, 2507.0, 3074.0, 3138.0, 1298.0, 1828.0, 1809.0, 1283.0, 1527.0, 1499.0, 1632.0, 1477.0, 1874.0, 1361.0, 4279.0, 1699.0, 1062.0, 1070.0, 1161.0, 1818.0, 1674.0, 28.94103013236473, 5.529503567334469, 5.515355604676485, 4.397077831336107, 5.50508536106722, 4.3686130963728385, 5.435211839795054, 3.238294134099436, 3.2376412050086394, 3.237380062902027, 3.237176478251553, 3.2367168279886385, 3.2361123446858615, 3.235764717843726, 3.2354447223299925, 3.2353980591734675, 3.2352916858825336, 3.235222768311001, 3.234950646133133, 3.2348370835816325, 3.234324207520441, 3.2342540890648763, 3.2340035891848897, 3.2338352919728264, 3.2331780955130878, 3.233065766271414, 3.2329872268538478, 3.230609497584421, 3.217496031803347, 3.2136117622363263, 13.67910236510455, 5.375905385599129, 4279.24055225798, 4818.927182015644, 1443.8908062810092, 485.98489067655885, 538.542960100563, 552.0154177641234, 288.5878887080139, 25.669523362979806, 805.2336056682683, 303.26110880984135, 11.587413030891728, 6.556954781649883, 9.467789819026724, 978.4323407920499, 553.9467123289471, 726.8102686087965, 1034.574823323365, 551.6756932917876, 799.9797993835056, 1329.8655962291843, 1874.9650146923946, 2913.273553919321, 820.7353164790222, 3138.7786910752234, 1663.1826688375613, 879.7830985977384, 3159.560871382249, 4576.328868679773, 790.9495865389647, 684.1469213967789, 574.3235158255804, 1477.1320053953775, 924.2375047189137, 3074.008139182127, 1632.9981885489613, 3079.033895627162, 1527.5580724392591, 4524.79402643738, 1433.4277130109133, 1710.454790143494, 1211.5699432849967, 1504.7150584998803, 1393.8786315440536, 2706.424191914755, 3325.646110302449, 2507.9830094698914, 1406.5052806815022, 1699.7365632705817, 1674.2010008187622, 1818.9660089529425, 2466.498476552913, 1828.17561994833, 2160.3106945755494, 5.2511682987914865, 6.1756111818241965, 3.08083002492848, 3.0798608626321675, 3.079569480022802, 3.0678596536701375, 3.058355423335566, 3.063269107638097, 3.0436098837612815, 4.077203742531189, 3.061241637256486, 3.0273545278121476, 3.058794771982827, 3.095597734123731, 2.988717085348734, 3.016919041313631, 3.8132037702287196, 3.1085428749262607, 3.104213845909207, 1.9967981295494655, 1.9964259053993112, 1.9963117825493735, 1.9962957759083206, 1.9962408982463986, 1.9962345388624598, 1.9961954802667041, 1.9961605886853513, 1.9961187152594524, 1.9961511247568722, 1.995873729906403, 9.97492840159816, 4.011080679165907, 9.772556629301517, 3.9415345470916914, 2.9889287716732373, 5.158670485361538, 23.186969576976885, 3.988134804817468, 7.109258595956366, 4.043304748340341, 3.9487447686855943, 116.58640926373815, 2507.9830094698914, 4576.328868679773, 585.6349414856554, 460.51850148367356, 780.3473472823371, 567.9203807154981, 3159.560871382249, 141.63261124755047, 872.5492972110502, 3325.646110302449, 1447.3732035259577, 1414.0828742748863, 1499.8015753538386, 2913.273553919321, 1161.2822486030389, 3138.7786910752234, 572.5657432494277, 4279.24055225798, 2706.424191914755, 1156.2576361985423, 1809.626719171771, 322.01537651987945, 560.0654779641148, 924.0738109870543, 421.2040343487796, 3074.008139182127, 1674.2010008187622, 1393.2552693316327, 879.5036448577474, 3079.033895627162, 907.5859462359382, 1055.9633754145711, 1282.5797964202184, 2466.498476552913, 1818.9660089529425, 1699.7365632705817, 1329.8655962291843, 4818.927182015644, 4524.79402643738, 1828.17561994833, 1663.1826688375613, 1874.9650146923946, 1433.4277130109133, 2160.3106945755494, 1504.7150584998803, 3.9100834108820974, 4.845762519195298, 4.886186703552437, 2.9102218094734864, 2.909386739969997, 2.9093214738039572, 2.9084397827147965, 2.903167555665548, 2.89844191589342, 2.885832814615795, 2.8364104987327403, 4.802113085134044, 2.879211371051265, 6.944163031089092, 2.92896249659464, 2.8027048359631332, 2.8771296174784613, 2.8421278045857234, 4.850629846106461, 5.665162598161641, 2.843334695970537, 2.7726501800347996, 2.8247526807390226, 2.8696258153825545, 2.8540513880246245, 5.954017036523429, 1.9116579004309073, 1.9114742381566787, 1.9114248845555053, 1.9110273439024874, 13.812373022704989, 3.7690287557118918, 2.8233821206094, 7.564033542217119, 3.889516663768073, 403.913006810299, 17.031086033899154, 119.6042930886261, 490.6888422072505, 1447.3732035259577, 239.36465987735798, 592.4815951670397, 563.1558454633453, 3325.646110302449, 244.61864180256487, 1504.7150584998803, 4524.79402643738, 729.7989702504509, 1298.0207370045944, 1393.2552693316327, 1154.6895395023187, 3138.7786910752234, 2160.3106945755494, 223.39997308198528, 786.7892089928858, 4818.927182015644, 224.1201181727337, 497.0194764575532, 1499.8015753538386, 3074.008139182127, 2913.273553919321, 1828.17561994833, 1211.5699432849967, 1156.9665643716012, 1393.8786315440536, 799.8923446024062, 933.0788126027388, 4279.24055225798, 1632.9981885489613, 3159.560871382249, 4576.328868679773, 2507.9830094698914, 1663.1826688375613, 1335.9526992627575, 1809.626719171771, 1699.7365632705817, 3079.033895627162, 2466.498476552913, 1818.9660089529425, 1710.454790143494, 1874.9650146923946, 2706.424191914755, 3.6703120305910066, 3.665651211098523, 3.644875695022972, 2.7506205542382847, 2.7493254674204888, 2.7487831687214794, 2.7480428606235208, 2.7477358036329167, 2.7463564835438494, 2.7458028576167735, 2.7466738170062275, 3.6470984828581012, 3.6382427230928296, 2.7199964068983804, 3.669749791503938, 2.7377922065464046, 2.737375989261224, 2.730581310769066, 3.641554125643459, 3.6764393561039923, 3.6301280875428197, 3.763660284526472, 3.716460982803628, 2.78256535579226, 2.7546526161239866, 3.5574032721517486, 3.7726851119362173, 7.318300491101489, 2.7359443981604423, 2.7090553274869396, 3.692533597081916, 8.870441652448962, 4.565433598174195, 10.05754641914559, 13.700948686017009, 8.688439668469583, 924.0738109870543, 1710.454790143494, 1328.1605047889468, 567.9203807154981, 1308.1895548939024, 3079.033895627162, 411.4882976934083, 3074.008139182127, 2507.9830094698914, 4279.24055225798, 906.2689465567908, 2706.424191914755, 1809.626719171771, 820.8108432040626, 2913.273553919321, 1674.2010008187622, 699.3851818310584, 4576.328868679773, 2466.498476552913, 1527.5580724392591, 566.1353478961016, 1433.4277130109133, 475.9498581248412, 1335.9526992627575, 473.81727152674034, 1156.2576361985423, 1414.0828742748863, 733.8832203289528, 1406.5052806815022, 2160.3106945755494, 3159.560871382249, 4524.79402643738, 3138.7786910752234, 4818.927182015644, 1818.9660089529425, 1663.1826688375613, 1441.8991902397668, 3325.646110302449, 1874.9650146923946, 3.5931559959066393, 2.6982099951019882, 2.6981146807345007, 2.6978135610820724, 2.6958249556634035, 2.69386138557584, 2.6984219210885416, 2.697131994402629, 2.697246862821411, 2.7307172405645628, 4.6015727065701, 2.7261309859158738, 3.5685508595391733, 2.698657827382524, 3.560216188811463, 2.680575726746191, 2.7015637787326425, 5.429120035341244, 5.439185007745717, 2.7143956615178375, 2.6255948298590175, 6.513412034307686, 3.7257698381267077, 2.6428726405579663, 2.70946240401954, 2.724066951647303, 3.6495778648512682, 1.805498599645947, 1.8054057457309909, 1.8053716762893766, 4.6463309255273275, 3.5563937919067605, 4.677101042689031, 4.543231526809335, 8.11843888739716, 3.7189992683449526, 14.91181699735237, 12.813021825522108, 4524.79402643738, 142.7789769169684, 1246.666030628127, 2466.498476552913, 311.0143418825101, 1361.7561451921536, 4576.328868679773, 35.71192483409498, 15.978010073545253, 1818.9660089529425, 659.857251393926, 1663.1826688375613, 1062.6306795042558, 368.5378287303041, 419.4627405323149, 314.7200579554713, 1037.0129008670956, 640.8501142402718, 3138.7786910752234, 2706.424191914755, 565.541575481238, 3074.008139182127, 66.64440908161977, 1335.9526992627575, 4818.927182015644, 808.3070535169643, 3079.033895627162, 1135.12514525054, 547.9672090003091, 1226.126126302218, 2160.3106945755494, 975.3561507630956, 3159.560871382249, 3325.646110302449, 1433.4277130109133, 1441.8991902397668, 1828.17561994833, 4279.24055225798, 1710.454790143494, 1674.2010008187622, 2913.273553919321, 1211.5699432849967, 1393.2552693316327, 2507.9830094698914, 1499.8015753538386, 1874.9650146923946, 1632.9981885489613, 4.365936666676978, 3.5100360671848803, 2.6360217684191123, 2.6356952669227414, 2.634072472090981, 2.6414207276071586, 2.6428891167845188, 2.63417144637946, 2.6324732392944026, 2.650751165792717, 2.647503145663585, 2.639531113535662, 2.66921557802247, 2.6134054278763625, 2.677621130714372, 2.6442846633915997, 2.7079929261175897, 4.391831405255113, 2.646990932753327, 2.6372135808388224, 4.491380190406314, 4.452838337936294, 2.647363870310948, 4.418744440119072, 2.6092991648867905, 2.6829318959800785, 2.6534997726425225, 2.7420915601634492, 2.689246533343674, 2.7080275186712086, 6.824661239053597, 9.227038234083405, 3.50453093985594, 1298.0207370045944, 1477.1320053953775, 4576.328868679773, 300.09845904155, 4818.927182015644, 638.2448614730959, 1632.9981885489613, 1226.126126302218, 3159.560871382249, 2466.498476552913, 774.6398688928494, 4279.24055225798, 1283.4899574363976, 738.9708555241994, 2706.424191914755, 1699.7365632705817, 336.5688943617106, 793.8175561289565, 1361.7561451921536, 1154.6895395023187, 1328.1605047889468, 465.95101327837114, 153.93296853899173, 4524.79402643738, 1818.9660089529425, 1443.8908062810092, 1070.1770669736945, 859.3008933291345, 2160.3106945755494, 3325.646110302449, 1809.626719171771, 1504.7150584998803, 1447.3732035259577, 3079.033895627162, 1441.8991902397668, 3138.7786910752234, 1828.17561994833, 3074.008139182127, 1527.5580724392591, 2507.9830094698914, 3.511472888614618, 2.6465303415417867, 2.6458921941238773, 2.64559488706628, 2.644161609978473, 2.643839520373637, 2.665885726251976, 2.6824366673221127, 3.4270037275566283, 2.6850823118944223, 1.7791854398056766, 1.778857746649562, 1.7788412616921983, 1.7787771994153188, 1.7787513236663506, 1.7787081580303303, 1.7787468549775338, 1.7785939805574065, 1.77852300002021, 1.7784858714320975, 1.7784377908432125, 1.7784107486316467, 1.7783875938406717, 1.778393149983836, 1.7783677711969414, 1.7783477148056674, 1.7783175970763474, 1.778248134444307, 1.778240831336293, 1.7782131780494876, 7.191014536207082, 3.6172210857129876, 2.6468213977149264, 2.652076346303895, 3.667994756712578, 5.523549128262791, 5.721928685833302, 2.7086350181371346, 2.711319508035183, 5.692220277993273, 2.7224374635143667, 13.187731929478504, 3.4691540553845, 3.461164665064736, 2.6921705494080963, 5.591488311913365, 3325.646110302449, 18.2970281934821, 8.285109675715665, 20.398291969108556, 4524.79402643738, 2507.9830094698914, 3079.033895627162, 4818.927182015644, 1874.9650146923946, 499.1773302122571, 1393.8786315440536, 388.409566576816, 3138.7786910752234, 2706.424191914755, 952.52846684396, 3074.008139182127, 289.9652974322221, 733.8832203289528, 809.7974132298792, 343.96643503977424, 1361.7561451921536, 1335.9526992627575, 1699.7365632705817, 780.8880756498243, 605.2378843122258, 411.2294162536168, 2160.3106945755494, 1406.5052806815022, 369.69912298882775, 1093.625868708101, 4576.328868679773, 1161.2822486030389, 1809.626719171771, 2913.273553919321, 2466.498476552913, 1308.1895548939024, 937.9782834361903, 1674.2010008187622, 1818.9660089529425, 3159.560871382249, 1828.17561994833, 1298.0207370045944, 4279.24055225798, 1441.8991902397668, 1663.1826688375613, 2.5605568881922744, 2.5603335165388668, 2.5594508722812424, 2.559302948383936, 2.5583104384049298, 2.5577413288634845, 2.5704797333366254, 2.5605302380637753, 3.4633489662560653, 2.5999131425762587, 2.557496237396274, 2.598202732570057, 3.52963947945921, 2.6282603919318155, 2.5839148421349827, 2.589563250008507, 6.88133405659043, 2.5294783550324635, 2.657724574378353, 2.553062170592981, 1.7359786262855685, 1.7359202142955947, 1.7358416786577002, 1.7357976167913798, 1.7357898609611926, 1.735749435698383, 1.735559940433139, 1.7354643440062074, 1.735425278692991, 1.7354115588611163, 3.3689770991087764, 2.5310364522432787, 3.4733504683908833, 2.625783526322812, 2.6281021917746994, 2.7069560770523253, 10.447075488536571, 7.604489248023963, 2.591622555487717, 7.157063490454374, 6.192322232112539, 10.60186123384275, 3079.033895627162, 4524.79402643738, 1527.5580724392591, 19.585919249873555, 1828.17561994833, 2160.3106945755494, 25.301927601922642, 1037.0129008670956, 708.6804893539086, 2466.498476552913, 1874.9650146923946, 1298.0207370045944, 75.75706001742368, 1070.1770669736945, 1154.6895395023187, 863.3367700559746, 2913.273553919321, 3325.646110302449, 2706.424191914755, 589.5718578473358, 589.1620439477834, 643.0205790718176, 879.5036448577474, 4818.927182015644, 394.8461372398909, 461.97172127113146, 653.4977043697027, 3074.008139182127, 846.0569671006631, 1699.7365632705817, 1156.2576361985423, 1504.7150584998803, 1329.8655962291843, 1632.9981885489613, 1499.8015753538386, 1809.626719171771, 3138.7786910752234, 1328.1605047889468, 1433.4277130109133, 3159.560871382249, 4576.328868679773, 4279.24055225798, 1674.2010008187622, 1710.454790143494, 2.389873422010503, 2.4018804902359716, 5.477144413136591, 2.4416571468282684, 2.470019761546639, 2.4415224746217175, 2.5067201646236086, 2.462884259366965, 3.254639715754559, 1.6520975036906596, 1.6518904434120252, 1.6517188914433514, 1.6516579462642966, 1.6514604657918075, 1.6514455193455775, 1.6514044785621547, 1.651302558995982, 1.6512955760478996, 1.651243751866149, 1.6511586809870562, 1.6511325403507835, 1.65110282334177, 1.6511120510845774, 1.6510890099481397, 1.6510869776754438, 1.6510957136000926, 1.6510865536030934, 1.651081105441241, 1.6510802107737708, 1.6510669073823228, 3.4697104189388384, 4.250592549002955, 2.504969923228056, 2.5022527879622523, 24.42011995600216, 15.194415330948866, 3.452344126861512, 3325.646110302449, 2.47985537281792, 558.271173895938, 7.597500886628934, 106.86111777241025, 3159.560871382249, 1283.4899574363976, 780.8880756498243, 565.541575481238, 38.146082725976754, 1093.625868708101, 7.818741095923601, 1499.8015753538386, 3138.7786910752234, 521.2979466451525, 3074.008139182127, 1070.1770669736945, 84.93832712692132, 1828.17561994833, 906.2689465567908, 2706.424191914755, 4576.328868679773, 1441.8991902397668, 729.7989702504509, 933.0788126027388, 859.3008933291345, 2466.498476552913, 1710.454790143494, 1818.9660089529425, 1504.7150584998803, 416.9919623111066, 1393.2552693316327, 584.6960389027084, 1062.6306795042558, 4818.927182015644, 1329.8655962291843, 2913.273553919321, 4279.24055225798, 2507.9830094698914, 4524.79402643738, 2160.3106945755494, 1674.2010008187622, 1361.7561451921536, 3079.033895627162, 1699.7365632705817, 1433.4277130109133, 1809.626719171771, 2.2966367137364703, 2.294722083062285, 2.3099008982902, 2.350211357423589, 2.432306987450424, 3.1975111879558584, 2.4492648956941587, 1.6046647836635186, 1.6044943618080687, 1.604454476468106, 1.6044388677398644, 1.6043912880605515, 1.6042544223021329, 1.6041916963864766, 1.6041819325894768, 1.6041607039148151, 1.604094937556639, 1.604077708189741, 1.6040156416270581, 1.6039779241132543, 1.6039486335928497, 1.6039420213661995, 1.6039271013477763, 1.603898451236521, 1.6038853754198488, 1.603972880453814, 1.6038718086510837, 1.6038439620190872, 1.603798915226721, 1.603784306870461, 4.672559736683081, 3.189027466655647, 3.190555339507112, 5.58770825823883, 4.154338606994062, 3.2329106272851305, 5.041721510378375, 3.1552477702120925, 5.912577792030087, 3.2345167035106863, 6.893170941781036, 282.0962557340131, 5.919163916792168, 3.267520367814392, 231.1139861579711, 3.298261734246763, 8.58922727307417, 7.542901139234052, 19.63309574705114, 502.12778503437505, 8.257892107244462, 36.14244153575003, 8.918949241443702, 4818.927182015644, 380.50654480943416, 2913.273553919321, 1161.2822486030389, 601.1522674832768, 1809.626719171771, 1632.9981885489613, 299.017778597523, 460.51850148367356, 3159.560871382249, 793.8175561289565, 708.6804893539086, 4524.79402643738, 1062.6306795042558, 511.94401919771906, 849.9081269369693, 651.2239323846775, 4279.24055225798, 1283.4899574363976, 3325.646110302449, 2706.424191914755, 1477.1320053953775, 2160.3106945755494, 738.9708555241994, 1034.574823323365, 515.5297187399244, 4576.328868679773, 1874.9650146923946, 1674.2010008187622, 2466.498476552913, 1699.7365632705817, 1393.2552693316327, 3074.008139182127, 3138.7786910752234, 3079.033895627162, 2507.9830094698914, 1710.454790143494, 1499.8015753538386, 1433.4277130109133, 1441.8991902397668], \"Category\": [\"Default\", \"Default\", \"Default\", \"Default\", \"Default\", \"Default\", \"Default\", \"Default\", \"Default\", \"Default\", \"Default\", \"Default\", \"Default\", \"Default\", \"Default\", \"Default\", \"Default\", \"Default\", \"Default\", \"Default\", \"Default\", \"Default\", \"Default\", \"Default\", \"Default\", \"Default\", \"Default\", \"Default\", \"Default\", \"Default\", \"Topic1\", \"Topic1\", \"Topic1\", \"Topic1\", \"Topic1\", \"Topic1\", \"Topic1\", \"Topic1\", \"Topic1\", \"Topic1\", \"Topic1\", \"Topic1\", \"Topic1\", \"Topic1\", \"Topic1\", \"Topic1\", \"Topic1\", \"Topic1\", \"Topic1\", \"Topic1\", \"Topic1\", \"Topic1\", \"Topic1\", \"Topic1\", \"Topic1\", \"Topic1\", \"Topic1\", \"Topic1\", \"Topic1\", \"Topic1\", \"Topic1\", \"Topic1\", \"Topic1\", \"Topic1\", \"Topic1\", \"Topic1\", \"Topic1\", \"Topic1\", \"Topic1\", \"Topic1\", \"Topic1\", \"Topic1\", \"Topic1\", \"Topic1\", \"Topic1\", \"Topic1\", \"Topic1\", \"Topic1\", \"Topic1\", \"Topic1\", \"Topic1\", \"Topic1\", \"Topic1\", \"Topic1\", \"Topic1\", \"Topic1\", \"Topic1\", \"Topic1\", \"Topic1\", \"Topic1\", \"Topic1\", \"Topic1\", \"Topic1\", \"Topic1\", \"Topic1\", \"Topic1\", \"Topic1\", \"Topic1\", \"Topic1\", \"Topic1\", \"Topic1\", \"Topic1\", \"Topic1\", \"Topic1\", \"Topic1\", \"Topic1\", \"Topic1\", \"Topic1\", \"Topic1\", \"Topic1\", \"Topic1\", \"Topic1\", \"Topic1\", \"Topic1\", \"Topic1\", \"Topic2\", \"Topic2\", \"Topic2\", \"Topic2\", \"Topic2\", \"Topic2\", \"Topic2\", \"Topic2\", \"Topic2\", \"Topic2\", \"Topic2\", \"Topic2\", \"Topic2\", \"Topic2\", \"Topic2\", \"Topic2\", \"Topic2\", \"Topic2\", \"Topic2\", \"Topic2\", \"Topic2\", \"Topic2\", \"Topic2\", \"Topic2\", \"Topic2\", \"Topic2\", \"Topic2\", \"Topic2\", \"Topic2\", \"Topic2\", \"Topic2\", \"Topic2\", \"Topic2\", \"Topic2\", \"Topic2\", \"Topic2\", \"Topic2\", \"Topic2\", \"Topic2\", \"Topic2\", \"Topic2\", \"Topic2\", \"Topic2\", \"Topic2\", \"Topic2\", \"Topic2\", \"Topic2\", \"Topic2\", \"Topic2\", \"Topic2\", \"Topic2\", \"Topic2\", \"Topic2\", \"Topic2\", \"Topic2\", \"Topic2\", \"Topic2\", \"Topic2\", \"Topic2\", \"Topic2\", \"Topic2\", \"Topic2\", \"Topic2\", \"Topic2\", \"Topic2\", \"Topic2\", \"Topic2\", \"Topic2\", \"Topic2\", \"Topic2\", \"Topic2\", \"Topic2\", \"Topic2\", \"Topic2\", \"Topic2\", \"Topic2\", \"Topic2\", \"Topic2\", \"Topic2\", \"Topic2\", \"Topic2\", \"Topic2\", \"Topic2\", \"Topic2\", \"Topic2\", \"Topic2\", \"Topic2\", \"Topic3\", \"Topic3\", \"Topic3\", \"Topic3\", \"Topic3\", \"Topic3\", \"Topic3\", \"Topic3\", \"Topic3\", \"Topic3\", \"Topic3\", \"Topic3\", \"Topic3\", \"Topic3\", \"Topic3\", \"Topic3\", \"Topic3\", \"Topic3\", \"Topic3\", \"Topic3\", \"Topic3\", \"Topic3\", \"Topic3\", \"Topic3\", \"Topic3\", \"Topic3\", \"Topic3\", \"Topic3\", \"Topic3\", \"Topic3\", \"Topic3\", \"Topic3\", \"Topic3\", \"Topic3\", \"Topic3\", \"Topic3\", \"Topic3\", \"Topic3\", \"Topic3\", \"Topic3\", \"Topic3\", \"Topic3\", \"Topic3\", \"Topic3\", \"Topic3\", \"Topic3\", \"Topic3\", \"Topic3\", \"Topic3\", \"Topic3\", \"Topic3\", \"Topic3\", \"Topic3\", \"Topic3\", \"Topic3\", \"Topic3\", \"Topic3\", \"Topic3\", \"Topic3\", \"Topic3\", \"Topic3\", \"Topic3\", \"Topic3\", \"Topic3\", \"Topic3\", \"Topic3\", \"Topic3\", \"Topic3\", \"Topic3\", \"Topic3\", \"Topic3\", \"Topic3\", \"Topic3\", \"Topic3\", \"Topic3\", \"Topic3\", \"Topic3\", \"Topic3\", \"Topic3\", \"Topic3\", \"Topic3\", \"Topic3\", \"Topic4\", \"Topic4\", \"Topic4\", \"Topic4\", \"Topic4\", \"Topic4\", \"Topic4\", \"Topic4\", \"Topic4\", \"Topic4\", \"Topic4\", \"Topic4\", \"Topic4\", \"Topic4\", \"Topic4\", \"Topic4\", \"Topic4\", \"Topic4\", \"Topic4\", \"Topic4\", \"Topic4\", \"Topic4\", \"Topic4\", \"Topic4\", \"Topic4\", \"Topic4\", \"Topic4\", \"Topic4\", \"Topic4\", \"Topic4\", \"Topic4\", \"Topic4\", \"Topic4\", \"Topic4\", \"Topic4\", \"Topic4\", \"Topic4\", \"Topic4\", \"Topic4\", \"Topic4\", \"Topic4\", \"Topic4\", \"Topic4\", \"Topic4\", \"Topic4\", \"Topic4\", \"Topic4\", \"Topic4\", \"Topic4\", \"Topic4\", \"Topic4\", \"Topic4\", \"Topic4\", \"Topic4\", \"Topic4\", \"Topic4\", \"Topic4\", \"Topic4\", \"Topic4\", \"Topic4\", \"Topic4\", \"Topic4\", \"Topic4\", \"Topic4\", \"Topic4\", \"Topic4\", \"Topic4\", \"Topic4\", \"Topic4\", \"Topic4\", \"Topic4\", \"Topic4\", \"Topic4\", \"Topic4\", \"Topic4\", \"Topic5\", \"Topic5\", \"Topic5\", \"Topic5\", \"Topic5\", \"Topic5\", \"Topic5\", \"Topic5\", \"Topic5\", \"Topic5\", \"Topic5\", \"Topic5\", \"Topic5\", \"Topic5\", \"Topic5\", \"Topic5\", \"Topic5\", \"Topic5\", \"Topic5\", \"Topic5\", \"Topic5\", \"Topic5\", \"Topic5\", \"Topic5\", \"Topic5\", \"Topic5\", \"Topic5\", \"Topic5\", \"Topic5\", \"Topic5\", \"Topic5\", \"Topic5\", \"Topic5\", \"Topic5\", \"Topic5\", \"Topic5\", \"Topic5\", \"Topic5\", \"Topic5\", \"Topic5\", \"Topic5\", \"Topic5\", \"Topic5\", \"Topic5\", \"Topic5\", \"Topic5\", \"Topic5\", \"Topic5\", \"Topic5\", \"Topic5\", \"Topic5\", \"Topic5\", \"Topic5\", \"Topic5\", \"Topic5\", \"Topic5\", \"Topic5\", \"Topic5\", \"Topic5\", \"Topic5\", \"Topic5\", \"Topic5\", \"Topic5\", \"Topic5\", \"Topic5\", \"Topic5\", \"Topic5\", \"Topic5\", \"Topic5\", \"Topic5\", \"Topic5\", \"Topic5\", \"Topic5\", \"Topic5\", \"Topic5\", \"Topic5\", \"Topic5\", \"Topic5\", \"Topic5\", \"Topic5\", \"Topic5\", \"Topic5\", \"Topic5\", \"Topic5\", \"Topic5\", \"Topic6\", \"Topic6\", \"Topic6\", \"Topic6\", \"Topic6\", \"Topic6\", \"Topic6\", \"Topic6\", \"Topic6\", \"Topic6\", \"Topic6\", \"Topic6\", \"Topic6\", \"Topic6\", \"Topic6\", \"Topic6\", \"Topic6\", \"Topic6\", \"Topic6\", \"Topic6\", \"Topic6\", \"Topic6\", \"Topic6\", \"Topic6\", \"Topic6\", \"Topic6\", \"Topic6\", \"Topic6\", \"Topic6\", \"Topic6\", \"Topic6\", \"Topic6\", \"Topic6\", \"Topic6\", \"Topic6\", \"Topic6\", \"Topic6\", \"Topic6\", \"Topic6\", \"Topic6\", \"Topic6\", \"Topic6\", \"Topic6\", \"Topic6\", \"Topic6\", \"Topic6\", \"Topic6\", \"Topic6\", \"Topic6\", \"Topic6\", \"Topic6\", \"Topic6\", \"Topic6\", \"Topic6\", \"Topic6\", \"Topic6\", \"Topic6\", \"Topic6\", \"Topic6\", \"Topic6\", \"Topic6\", \"Topic6\", \"Topic6\", \"Topic6\", \"Topic6\", \"Topic6\", \"Topic6\", \"Topic6\", \"Topic6\", \"Topic6\", \"Topic6\", \"Topic6\", \"Topic6\", \"Topic7\", \"Topic7\", \"Topic7\", \"Topic7\", \"Topic7\", \"Topic7\", \"Topic7\", \"Topic7\", \"Topic7\", \"Topic7\", \"Topic7\", \"Topic7\", \"Topic7\", \"Topic7\", \"Topic7\", \"Topic7\", \"Topic7\", \"Topic7\", \"Topic7\", \"Topic7\", \"Topic7\", \"Topic7\", \"Topic7\", \"Topic7\", \"Topic7\", \"Topic7\", \"Topic7\", \"Topic7\", \"Topic7\", \"Topic7\", \"Topic7\", \"Topic7\", \"Topic7\", \"Topic7\", \"Topic7\", \"Topic7\", \"Topic7\", \"Topic7\", \"Topic7\", \"Topic7\", \"Topic7\", \"Topic7\", \"Topic7\", \"Topic7\", \"Topic7\", \"Topic7\", \"Topic7\", \"Topic7\", \"Topic7\", \"Topic7\", \"Topic7\", \"Topic7\", \"Topic7\", \"Topic7\", \"Topic7\", \"Topic7\", \"Topic7\", \"Topic7\", \"Topic7\", \"Topic7\", \"Topic7\", \"Topic7\", \"Topic7\", \"Topic7\", \"Topic7\", \"Topic7\", \"Topic7\", \"Topic7\", \"Topic7\", \"Topic7\", \"Topic7\", \"Topic7\", \"Topic7\", \"Topic7\", \"Topic7\", \"Topic7\", \"Topic7\", \"Topic7\", \"Topic7\", \"Topic7\", \"Topic7\", \"Topic7\", \"Topic7\", \"Topic7\", \"Topic7\", \"Topic7\", \"Topic7\", \"Topic7\", \"Topic7\", \"Topic7\", \"Topic7\", \"Topic8\", \"Topic8\", \"Topic8\", \"Topic8\", \"Topic8\", \"Topic8\", \"Topic8\", \"Topic8\", \"Topic8\", \"Topic8\", \"Topic8\", \"Topic8\", \"Topic8\", \"Topic8\", \"Topic8\", \"Topic8\", \"Topic8\", \"Topic8\", \"Topic8\", \"Topic8\", \"Topic8\", \"Topic8\", \"Topic8\", \"Topic8\", \"Topic8\", \"Topic8\", \"Topic8\", \"Topic8\", \"Topic8\", \"Topic8\", \"Topic8\", \"Topic8\", \"Topic8\", \"Topic8\", \"Topic8\", \"Topic8\", \"Topic8\", \"Topic8\", \"Topic8\", \"Topic8\", \"Topic8\", \"Topic8\", \"Topic8\", \"Topic8\", \"Topic8\", \"Topic8\", \"Topic8\", \"Topic8\", \"Topic8\", \"Topic8\", \"Topic8\", \"Topic8\", \"Topic8\", \"Topic8\", \"Topic8\", \"Topic8\", \"Topic8\", \"Topic8\", \"Topic8\", \"Topic8\", \"Topic8\", \"Topic8\", \"Topic8\", \"Topic8\", \"Topic8\", \"Topic8\", \"Topic8\", \"Topic8\", \"Topic8\", \"Topic8\", \"Topic8\", \"Topic8\", \"Topic8\", \"Topic8\", \"Topic8\", \"Topic8\", \"Topic8\", \"Topic8\", \"Topic8\", \"Topic8\", \"Topic8\", \"Topic8\", \"Topic8\", \"Topic8\", \"Topic8\", \"Topic8\", \"Topic9\", \"Topic9\", \"Topic9\", \"Topic9\", \"Topic9\", \"Topic9\", \"Topic9\", \"Topic9\", \"Topic9\", \"Topic9\", \"Topic9\", \"Topic9\", \"Topic9\", \"Topic9\", \"Topic9\", \"Topic9\", \"Topic9\", \"Topic9\", \"Topic9\", \"Topic9\", \"Topic9\", \"Topic9\", \"Topic9\", \"Topic9\", \"Topic9\", \"Topic9\", \"Topic9\", \"Topic9\", \"Topic9\", \"Topic9\", \"Topic9\", \"Topic9\", \"Topic9\", \"Topic9\", \"Topic9\", \"Topic9\", \"Topic9\", \"Topic9\", \"Topic9\", \"Topic9\", \"Topic9\", \"Topic9\", \"Topic9\", \"Topic9\", \"Topic9\", \"Topic9\", \"Topic9\", \"Topic9\", \"Topic9\", \"Topic9\", \"Topic9\", \"Topic9\", \"Topic9\", \"Topic9\", \"Topic9\", \"Topic9\", \"Topic9\", \"Topic9\", \"Topic9\", \"Topic9\", \"Topic9\", \"Topic9\", \"Topic9\", \"Topic9\", \"Topic9\", \"Topic9\", \"Topic9\", \"Topic9\", \"Topic9\", \"Topic9\", \"Topic9\", \"Topic9\", \"Topic9\", \"Topic9\", \"Topic9\", \"Topic9\", \"Topic9\", \"Topic9\", \"Topic9\", \"Topic9\", \"Topic9\", \"Topic9\", \"Topic9\", \"Topic9\", \"Topic10\", \"Topic10\", \"Topic10\", \"Topic10\", \"Topic10\", \"Topic10\", \"Topic10\", \"Topic10\", \"Topic10\", \"Topic10\", \"Topic10\", \"Topic10\", \"Topic10\", \"Topic10\", \"Topic10\", \"Topic10\", \"Topic10\", \"Topic10\", \"Topic10\", \"Topic10\", \"Topic10\", \"Topic10\", \"Topic10\", \"Topic10\", \"Topic10\", \"Topic10\", \"Topic10\", \"Topic10\", \"Topic10\", \"Topic10\", \"Topic10\", \"Topic10\", \"Topic10\", \"Topic10\", \"Topic10\", \"Topic10\", \"Topic10\", \"Topic10\", \"Topic10\", \"Topic10\", \"Topic10\", \"Topic10\", \"Topic10\", \"Topic10\", \"Topic10\", \"Topic10\", \"Topic10\", \"Topic10\", \"Topic10\", \"Topic10\", \"Topic10\", \"Topic10\", \"Topic10\", \"Topic10\", \"Topic10\", \"Topic10\", \"Topic10\", \"Topic10\", \"Topic10\", \"Topic10\", \"Topic10\", \"Topic10\", \"Topic10\", \"Topic10\", \"Topic10\", \"Topic10\", \"Topic10\", \"Topic10\", \"Topic10\", \"Topic10\", \"Topic10\", \"Topic10\", \"Topic10\", \"Topic10\", \"Topic10\", \"Topic10\", \"Topic10\", \"Topic10\", \"Topic10\", \"Topic10\", \"Topic10\", \"Topic10\", \"Topic10\", \"Topic10\", \"Topic10\", \"Topic10\", \"Topic10\", \"Topic10\", \"Topic10\", \"Topic10\", \"Topic10\", \"Topic10\", \"Topic10\"], \"logprob\": [30.0, 29.0, 28.0, 27.0, 26.0, 25.0, 24.0, 23.0, 22.0, 21.0, 20.0, 19.0, 18.0, 17.0, 16.0, 15.0, 14.0, 13.0, 12.0, 11.0, 10.0, 9.0, 8.0, 7.0, 6.0, 5.0, 4.0, 3.0, 2.0, 1.0, -8.6493, -10.3162, -10.3249, -10.561, -10.354, -10.6113, -10.3951, -10.9489, -10.9492, -10.9493, -10.9494, -10.9496, -10.9498, -10.95, -10.9501, -10.9501, -10.9502, -10.9502, -10.9503, -10.9504, -10.9506, -10.9506, -10.9507, -10.9508, -10.951, -10.9511, -10.9511, -10.9521, -10.9699, -10.972, -9.5937, -10.4874, -4.4419, -4.4718, -5.5814, -6.5471, -6.4652, -6.4578, -7.0268, -9.132, -6.1385, -6.9887, -9.832, -10.3293, -10.0114, -5.9929, -6.4924, -6.259, -5.9606, -6.5024, -6.2002, -5.7731, -5.4811, -5.1166, -6.2112, -5.0808, -5.6174, -6.1574, -5.0899, -4.788, -6.2478, -6.37, -6.522, -5.7532, -6.1356, -5.1676, -5.6868, -5.2117, -5.7726, -4.9874, -5.8239, -5.703, -5.9538, -5.8065, -5.8618, -5.4388, -5.3177, -5.4971, -5.8695, -5.7616, -5.79, -5.7514, -5.6342, -5.7764, -5.7406, -9.6428, -9.5799, -10.3117, -10.3121, -10.3122, -10.33, -10.3512, -10.353, -10.4019, -10.1106, -10.3979, -10.4449, -10.4361, -10.43, -10.4912, -10.5109, -10.2859, -10.5046, -10.5061, -10.957, -10.9573, -10.9574, -10.9574, -10.9575, -10.9575, -10.9575, -10.9575, -10.9576, -10.9576, -10.9578, -9.3601, -10.2685, -9.441, -10.3062, -10.5808, -10.0743, -8.6949, -10.3284, -9.823, -10.3496, -10.3703, -7.4815, -4.8787, -4.4432, -6.1638, -6.3922, -5.9922, -6.3245, -4.9684, -7.4357, -6.0114, -4.9706, -5.6203, -5.6441, -5.6035, -5.1253, -5.8573, -5.1084, -6.404, -4.9014, -5.2568, -5.8956, -5.5739, -6.8544, -6.4571, -6.1019, -6.6774, -5.2287, -5.6719, -5.8314, -6.161, -5.2987, -6.1415, -6.0494, -5.9209, -5.5264, -5.7354, -5.7878, -5.9373, -5.2962, -5.352, -5.7887, -5.8553, -5.8469, -5.9236, -5.8901, -5.9339, -9.9729, -9.8155, -9.8381, -10.3621, -10.3625, -10.3625, -10.3629, -10.371, -10.3972, -10.4258, -10.4849, -9.9733, -10.4943, -9.6289, -10.494, -10.5455, -10.5301, -10.5442, -10.0279, -9.8772, -10.5667, -10.5964, -10.5927, -10.5786, -10.5952, -9.8646, -11.0071, -11.0073, -11.0074, -11.0077, -9.05, -10.3374, -10.6248, -9.6757, -10.3268, -6.3242, -9.0507, -7.3951, -6.26, -5.4123, -6.9466, -6.2291, -6.2828, -4.9169, -7.0101, -5.5814, -4.7255, -6.1714, -5.7312, -5.6794, -5.8327, -5.0773, -5.3651, -7.1026, -6.1687, -4.825, -7.1169, -6.528, -5.7276, -5.2038, -5.2454, -5.61, -5.9103, -5.9486, -5.8227, -6.225, -6.1375, -5.1203, -5.801, -5.409, -5.1909, -5.5571, -5.8116, -5.9428, -5.7849, -5.8201, -5.5796, -5.6881, -5.8108, -5.8348, -5.8129, -5.7364, -9.9465, -9.9482, -10.0219, -10.3358, -10.3364, -10.3367, -10.3371, -10.3373, -10.338, -10.3383, -10.3418, -10.059, -10.0881, -10.4006, -10.1328, -10.4272, -10.4275, -10.4346, -10.168, -10.1597, -10.1762, -10.1571, -10.1748, -10.4692, -10.491, -10.2354, -10.1874, -9.5371, -10.5354, -10.5572, -10.2583, -9.4494, -10.0666, -9.3813, -9.1283, -9.5274, -5.7949, -5.3452, -5.5488, -6.2415, -5.6265, -4.9816, -6.5491, -5.0043, -5.1948, -4.7908, -5.972, -5.1608, -5.467, -6.0686, -5.1273, -5.5494, -6.2001, -4.8316, -5.2912, -5.6467, -6.3829, -5.6979, -6.5254, -5.7774, -6.5584, -5.9209, -5.7836, -6.2599, -5.8146, -5.522, -5.2925, -5.0869, -5.4187, -5.1772, -5.7486, -5.8717, -5.929, -5.8004, -5.9513, -9.8309, -10.2206, -10.2207, -10.2209, -10.2219, -10.2229, -10.2261, -10.2326, -10.2451, -10.3053, -9.8311, -10.3604, -10.0997, -10.3796, -10.106, -10.3908, -10.3943, -9.7057, -9.714, -10.4142, -10.4569, -9.5524, -10.1213, -10.4686, -10.4437, -10.4396, -10.1545, -10.8657, -10.8658, -10.8658, -9.9439, -10.2035, -9.9386, -9.9703, -9.4649, -10.1731, -9.012, -9.1483, -4.3479, -7.2376, -5.5876, -5.0951, -6.6904, -5.5658, -4.6921, -8.3896, -9.0132, -5.4321, -6.1938, -5.5044, -5.8504, -6.6632, -6.5677, -6.7829, -5.9634, -6.3106, -5.1943, -5.3015, -6.4158, -5.2192, -7.9403, -5.8245, -4.9272, -6.1907, -5.2838, -5.9834, -6.5083, -5.9581, -5.5822, -6.1257, -5.3606, -5.3323, -5.8862, -5.8828, -5.7462, -5.2768, -5.8386, -5.8565, -5.5927, -6.0195, -5.9815, -5.7823, -5.9605, -5.9285, -5.9799, -9.5384, -9.8334, -10.2085, -10.2087, -10.2096, -10.2137, -10.2204, -10.2374, -10.2434, -10.2377, -10.2633, -10.2691, -10.2608, -10.3001, -10.3049, -10.3255, -10.3289, -9.8655, -10.3726, -10.3806, -9.8514, -9.8755, -10.3959, -9.8874, -10.4174, -10.392, -10.4069, -10.3909, -10.4113, -10.4064, -9.5415, -9.3092, -10.1845, -5.4154, -5.3433, -4.4839, -6.6586, -4.4717, -6.0928, -5.4166, -5.6827, -5.0012, -5.1875, -6.0608, -4.8425, -5.732, -6.1535, -5.2229, -5.5663, -6.7484, -6.1327, -5.7517, -5.8861, -5.7911, -6.5348, -7.3287, -4.932, -5.5812, -5.7489, -5.9768, -6.1359, -5.5294, -5.2748, -5.6866, -5.8304, -5.8652, -5.4428, -5.8723, -5.5098, -5.8062, -5.6223, -5.923, -5.8387, -9.6617, -10.0499, -10.0502, -10.0504, -10.0512, -10.0514, -10.1201, -10.1407, -9.9069, -10.2151, -10.6954, -10.6958, -10.6958, -10.6959, -10.6959, -10.6959, -10.696, -10.6961, -10.6961, -10.6962, -10.6962, -10.6963, -10.6963, -10.6963, -10.6963, -10.6963, -10.6964, -10.6964, -10.6964, -10.6965, -9.3189, -9.9982, -10.3101, -10.3172, -10.0125, -9.6392, -9.6265, -10.3116, -10.3152, -9.6598, -10.3325, -9.0385, -10.1427, -10.1467, -10.3534, -9.7614, -4.5964, -8.815, -9.4524, -8.7419, -4.5158, -5.0811, -4.9927, -4.6694, -5.3912, -6.3887, -5.6516, -6.6152, -5.0909, -5.2011, -5.9896, -5.1711, -6.8681, -6.2163, -6.1502, -6.7597, -5.7978, -5.8185, -5.6534, -6.1935, -6.3704, -6.6466, -5.537, -5.8413, -6.7478, -6.0329, -5.0919, -6.0047, -5.7281, -5.4415, -5.5465, -5.9435, -6.1508, -5.8248, -5.7898, -5.5111, -5.8057, -5.9764, -5.5554, -6.0, -6.0083, -10.082, -10.0822, -10.0827, -10.0828, -10.0833, -10.0945, -10.097, -10.1203, -9.8534, -10.1417, -10.1815, -10.1673, -9.8807, -10.186, -10.2073, -10.215, -9.2774, -10.3055, -10.2692, -10.3386, -10.7278, -10.7279, -10.7279, -10.728, -10.728, -10.7281, -10.7283, -10.7284, -10.7284, -10.7284, -10.075, -10.364, -10.0626, -10.3333, -10.3379, -10.3148, -9.0754, -9.3706, -10.3623, -9.4401, -9.6075, -9.1792, -4.6475, -4.3706, -5.2619, -8.7468, -5.256, -5.1516, -8.5539, -5.8261, -6.1193, -5.2463, -5.4499, -5.717, -7.7672, -5.9094, -5.8891, -6.1064, -5.281, -5.1946, -5.3478, -6.3888, -6.3932, -6.3449, -6.1472, -5.0111, -6.6903, -6.5893, -6.3687, -5.3468, -6.2027, -5.7565, -6.0332, -5.8718, -5.9588, -5.8325, -5.8857, -5.7881, -5.4951, -5.9735, -5.9485, -5.5736, -5.5122, -5.6626, -5.9654, -6.0029, -9.7868, -9.8116, -8.9949, -9.854, -9.8769, -9.9268, -9.9228, -9.9722, -9.6983, -10.4306, -10.4309, -10.4311, -10.4312, -10.4314, -10.4314, -10.4315, -10.4316, -10.4316, -10.4317, -10.4318, -10.4318, -10.4319, -10.4319, -10.4319, -10.4319, -10.4319, -10.4319, -10.4319, -10.4319, -10.4319, -9.6947, -9.5211, -10.0354, -10.0389, -8.2994, -8.774, -9.8815, -4.8432, -10.1319, -6.2147, -9.3181, -7.4267, -5.0128, -5.6541, -6.0236, -6.2631, -8.1812, -5.7999, -9.3187, -5.5872, -5.065, -6.3478, -5.1269, -5.8834, -7.6486, -5.5417, -6.0529, -5.3935, -5.0522, -5.8106, -6.2574, -6.106, -6.1656, -5.5451, -5.7739, -5.7418, -5.8642, -6.6647, -5.9362, -6.4607, -6.1049, -5.2226, -5.9776, -5.5455, -5.3513, -5.6958, -5.4495, -5.7861, -5.9195, -6.0035, -5.8112, -5.9766, -6.0165, -6.0221, -9.7556, -9.757, -9.7825, -9.8746, -9.937, -9.6966, -9.964, -10.4004, -10.4006, -10.4007, -10.4007, -10.4007, -10.4009, -10.401, -10.401, -10.4011, -10.4011, -10.4012, -10.4012, -10.4013, -10.4013, -10.4013, -10.4014, -10.4014, -10.4014, -10.4014, -10.4015, -10.4015, -10.4015, -10.4015, -9.357, -9.7299, -9.755, -9.2406, -9.521, -9.756, -9.392, -9.8097, -9.3071, -9.8123, -9.1863, -6.2261, -9.3643, -9.8405, -6.5491, -9.842, -9.1231, -9.2247, -8.5096, -6.1302, -9.1795, -8.1163, -9.1383, -4.5737, -6.4526, -5.074, -5.7804, -6.2329, -5.4868, -5.5771, -6.7158, -6.434, -5.1636, -6.1104, -6.2031, -5.0115, -5.978, -6.4473, -6.128, -6.2987, -5.1206, -5.8906, -5.2956, -5.4245, -5.8065, -5.585, -6.2477, -6.058, -6.4982, -5.227, -5.7567, -5.8258, -5.6337, -5.8509, -5.9637, -5.624, -5.6155, -5.7851, -5.8483, -5.9611, -6.0074, -6.0353, -6.0792], \"loglift\": [30.0, 29.0, 28.0, 27.0, 26.0, 25.0, 24.0, 23.0, 22.0, 21.0, 20.0, 19.0, 18.0, 17.0, 16.0, 15.0, 14.0, 13.0, 12.0, 11.0, 10.0, 9.0, 8.0, 7.0, 6.0, 5.0, 4.0, 3.0, 2.0, 1.0, 1.2404, 1.2287, 1.2225, 1.213, 1.1953, 1.1692, 1.1669, 1.131, 1.1309, 1.1309, 1.1308, 1.1308, 1.1307, 1.1307, 1.1307, 1.1307, 1.1307, 1.1307, 1.1306, 1.1306, 1.1306, 1.1306, 1.1305, 1.1305, 1.1304, 1.1304, 1.1304, 1.1302, 1.1165, 1.1156, 1.0454, 1.0857, 0.4515, 0.3029, 0.3985, 0.5217, 0.5009, 0.4836, 0.5631, 0.8777, 0.4253, 0.5517, 0.973, 1.0452, 0.9956, 0.3761, 0.4455, 0.4073, 0.3526, 0.4395, 0.3702, 0.2891, 0.2375, 0.1613, 0.3335, 0.1225, 0.221, 0.3179, 0.1069, 0.0383, 0.3339, 0.3568, 0.3797, 0.2039, 0.2904, 0.0566, 0.1699, 0.0109, 0.151, -0.1498, 0.1632, 0.1075, 0.2015, 0.132, 0.1533, -0.0872, -0.1721, -0.0694, 0.1366, 0.0551, 0.0418, -0.0024, -0.1898, -0.0325, -0.1636, 1.9537, 1.8544, 1.8181, 1.818, 1.8179, 1.8039, 1.7858, 1.7824, 1.74, 1.739, 1.7382, 1.7024, 1.7008, 1.6949, 1.669, 1.6398, 1.6306, 1.6162, 1.6161, 1.6064, 1.6063, 1.6062, 1.6062, 1.6062, 1.6062, 1.6062, 1.6062, 1.6062, 1.6062, 1.6061, 1.5948, 1.5974, 1.5343, 1.5772, 1.5792, 1.54, 1.4164, 1.5433, 1.4705, 1.5082, 1.5113, 1.0148, 0.5491, 0.3831, 0.7185, 0.7304, 0.603, 0.5885, 0.2283, 0.866, 0.4721, 0.1749, 0.3571, 0.3566, 0.3383, 0.1527, 0.3404, 0.095, 0.5009, -0.0079, 0.0948, 0.3064, 0.1801, 0.6259, 0.4698, 0.3242, 0.5345, -0.0045, 0.1599, 0.1842, 0.3146, -0.0761, 0.3027, 0.2434, 0.1774, -0.082, 0.0135, 0.0289, 0.1248, -0.5216, -0.5144, -0.0448, -0.0168, -0.1283, 0.0635, -0.3132, 0.0047, 1.9185, 1.8613, 1.8305, 1.8247, 1.8246, 1.8246, 1.8244, 1.8181, 1.7936, 1.7694, 1.7275, 1.7126, 1.7031, 1.6882, 1.6863, 1.6789, 1.6681, 1.6662, 1.6479, 1.6434, 1.6433, 1.6387, 1.6238, 1.6222, 1.611, 1.6063, 1.5998, 1.5998, 1.5998, 1.5996, 1.5794, 1.5908, 1.5922, 1.5559, 1.5699, 0.9295, 1.3692, 1.0757, 0.7991, 0.5651, 0.8304, 0.6415, 0.6386, 0.2286, 0.7451, 0.3572, 0.1121, 0.4908, 0.3551, 0.3362, 0.3706, 0.1261, 0.2118, 0.7434, 0.4183, -0.0503, 0.7258, 0.5183, 0.2143, 0.0204, 0.0326, 0.1338, 0.245, 0.2528, 0.1924, 0.3455, 0.279, -0.2269, 0.0558, -0.2123, -0.3646, -0.1294, 0.0268, 0.1148, -0.0309, -0.0034, -0.357, -0.2437, -0.0619, -0.0244, -0.0943, -0.3849, 2.0081, 2.0078, 1.9397, 1.9074, 1.9072, 1.9071, 1.907, 1.9069, 1.9067, 1.9066, 1.9028, 1.902, 1.8754, 1.8538, 1.822, 1.8206, 1.8205, 1.8159, 1.7945, 1.7933, 1.7895, 1.7725, 1.7674, 1.7623, 1.7506, 1.7505, 1.7397, 1.7275, 1.7131, 1.7011, 1.6903, 1.6228, 1.6699, 1.5653, 1.5092, 1.5655, 0.6313, 0.4652, 0.5146, 0.6714, 0.4521, 0.241, 0.686, 0.2199, 0.2329, 0.1027, 0.4736, 0.1908, 0.2871, 0.476, 0.1506, 0.2824, 0.5047, -0.0053, 0.1532, 0.2768, 0.5332, 0.2892, 0.5642, 0.2802, 0.5357, 0.2811, 0.2171, 0.3967, 0.1915, 0.0549, -0.0957, -0.2493, -0.2154, -0.4026, 0.0003, -0.0333, 0.0522, -0.6548, -0.2327, 2.145, 2.0417, 2.0417, 2.0416, 2.0413, 2.041, 2.0362, 2.0302, 2.0177, 1.9451, 1.8974, 1.8916, 1.8831, 1.8826, 1.8791, 1.8782, 1.8668, 1.8574, 1.8473, 1.8422, 1.8328, 1.8286, 1.8183, 1.8145, 1.8145, 1.8133, 1.8059, 1.7984, 1.7984, 1.7984, 1.775, 1.7827, 1.7737, 1.771, 1.6959, 1.7684, 1.5408, 1.5562, 0.4897, 1.0561, 0.5392, 0.3493, 0.8247, 0.4726, 0.1342, 1.2899, 1.4705, 0.3168, 0.5691, 0.3341, 0.436, 0.6822, 0.6483, 0.7204, 0.3475, 0.4816, 0.009, 0.0501, 0.5014, 0.005, 1.1152, 0.2331, -0.1526, 0.3693, -0.0612, 0.2371, 0.4404, 0.1852, -0.0053, 0.2464, -0.1638, -0.1868, 0.101, 0.0984, -0.0023, -0.3834, -0.0282, -0.0246, -0.3147, 0.1358, 0.0341, -0.3546, -0.0186, -0.2099, -0.1231, 2.2427, 2.166, 2.0772, 2.0771, 2.0768, 2.07, 2.0627, 2.049, 2.0436, 2.0424, 2.018, 2.0153, 2.0123, 1.9942, 1.9651, 1.9571, 1.9299, 1.9098, 1.9089, 1.9046, 1.9014, 1.8859, 1.8855, 1.8817, 1.8785, 1.8761, 1.8721, 1.8553, 1.8543, 1.8524, 1.7929, 1.7236, 1.8164, 0.671, 0.6138, 0.3424, 0.8922, 0.303, 0.7035, 0.4402, 0.4606, 0.1956, 0.2569, 0.5418, 0.051, 0.3656, 0.4961, 0.1286, 0.2504, 0.6877, 0.4454, 0.2867, 0.3172, 0.2723, 0.5761, 0.8897, -0.0944, 0.1677, 0.231, 0.3026, 0.363, 0.0476, -0.1292, 0.0675, 0.1081, 0.1122, -0.2202, 0.1089, -0.3064, -0.0623, -0.398, 0.0005, -0.411, 2.3372, 2.2318, 2.2317, 2.2316, 2.2314, 2.2313, 2.1544, 2.1276, 2.1163, 2.0521, 1.9834, 1.9832, 1.9832, 1.9832, 1.9831, 1.9831, 1.9831, 1.9831, 1.983, 1.983, 1.983, 1.983, 1.983, 1.983, 1.983, 1.9829, 1.9829, 1.9829, 1.9829, 1.9829, 1.9632, 1.971, 1.9715, 1.9624, 1.9428, 1.9068, 1.8841, 1.9469, 1.9423, 1.8561, 1.921, 1.6372, 1.8683, 1.8667, 1.9112, 1.7723, 0.5492, 1.5332, 1.688, 1.4976, 0.3219, 0.3466, 0.2298, 0.1053, 0.3274, 0.6533, 0.3635, 0.6777, 0.1124, 0.1505, 0.4063, 0.0531, 0.7171, 0.4403, 0.408, 0.6547, 0.2407, 0.2391, 0.1633, 0.4011, 0.4789, 0.5892, 0.04, 0.1648, 0.5945, 0.2248, -0.2656, 0.1929, 0.026, -0.1636, -0.1021, 0.135, 0.2604, 0.007, -0.0409, -0.3143, -0.0618, 0.11, -0.662, -0.0188, -0.1698, 2.2327, 2.2326, 2.2325, 2.2324, 2.2323, 2.2213, 2.2138, 2.1945, 2.1594, 2.1578, 2.1345, 2.1328, 2.113, 2.1026, 2.0984, 2.0884, 2.0488, 2.0214, 2.0083, 1.979, 1.9756, 1.9756, 1.9755, 1.9755, 1.9755, 1.9754, 1.9754, 1.9753, 1.9753, 1.9753, 1.9653, 1.9623, 1.9472, 1.9563, 1.9508, 1.9444, 1.8332, 1.8557, 1.9403, 1.8467, 1.8241, 1.7147, 0.5751, 0.4671, 0.6616, 1.5333, 0.4879, 0.4253, 1.4702, 0.4847, 0.5723, 0.1981, 0.2687, 0.3694, 1.1602, 0.37, 0.3142, 0.3878, -0.0031, -0.049, 0.0038, 0.4867, 0.4831, 0.4438, 0.3284, -0.2365, 0.5861, 0.5301, 0.4039, -0.1226, 0.3117, 0.0602, 0.1688, 0.0667, 0.1033, 0.0243, 0.0562, -0.034, -0.2917, 0.0899, 0.0386, -0.3768, -0.6859, -0.7691, -0.1336, -0.1925, 2.5969, 2.5671, 2.5595, 2.5083, 2.4739, 2.4355, 2.4132, 2.3814, 2.3765, 2.3223, 2.3221, 2.322, 2.322, 2.3219, 2.3219, 2.3218, 2.3218, 2.3218, 2.3217, 2.3217, 2.3217, 2.3216, 2.3216, 2.3216, 2.3216, 2.3216, 2.3216, 2.3216, 2.3216, 2.3216, 2.3162, 2.2868, 2.3013, 2.2988, 1.7601, 1.7601, 2.1344, 0.3024, 2.2149, 0.7154, 1.9091, 1.1567, 0.184, 0.4435, 0.5709, 0.6541, 1.4323, 0.4578, 1.8798, 0.3546, 0.1384, 0.6508, 0.0973, 0.396, 1.1644, 0.2022, 0.3927, -0.0419, -0.2259, 0.1706, 0.4048, 0.3105, 0.3332, -0.1007, 0.0365, 0.0071, 0.0744, 0.5571, 0.0793, 0.4231, 0.1816, -0.448, 0.0845, -0.2676, -0.4579, -0.2681, -0.6119, -0.2091, -0.0876, 0.0349, -0.5886, -0.1599, -0.0294, -0.268, 2.6679, 2.6674, 2.6352, 2.5258, 2.4291, 2.396, 2.3952, 2.3817, 2.3815, 2.3815, 2.3815, 2.3815, 2.3814, 2.3813, 2.3813, 2.3813, 2.3813, 2.3813, 2.3812, 2.3812, 2.3812, 2.3812, 2.3811, 2.3811, 2.3811, 2.3811, 2.3811, 2.3811, 2.3811, 2.381, 2.3562, 2.3653, 2.3398, 2.2938, 2.3098, 2.3256, 2.2452, 2.2962, 2.1708, 2.2688, 2.1382, 1.3866, 2.1125, 2.2305, 1.263, 2.2195, 1.9813, 2.0096, 1.7682, 0.9059, 1.9643, 1.5512, 1.9285, 0.201, 0.8608, 0.2039, 0.4173, 0.6232, 0.2673, 0.2797, 0.8387, 0.6886, 0.0331, 0.4677, 0.4884, -0.1739, 0.3085, 0.5695, 0.3818, 0.4774, -0.2272, 0.207, -0.1501, -0.073, 0.1506, -0.008, 0.402, 0.2552, 0.5116, -0.4007, -0.038, 0.006, -0.1893, -0.0342, 0.0519, -0.3998, -0.4122, -0.5625, -0.4206, -0.1507, -0.0655, -0.0482, -0.098]}, \"token.table\": {\"Topic\": [6, 1, 3, 4, 5, 6, 8, 10, 5, 8, 5, 4, 1, 4, 4, 10, 6, 1, 2, 3, 4, 5, 6, 7, 8, 9, 10, 1, 2, 3, 4, 5, 6, 7, 8, 9, 10, 1, 2, 3, 4, 5, 6, 7, 8, 9, 10, 3, 9, 9, 5, 7, 3, 5, 8, 1, 2, 3, 4, 5, 6, 7, 8, 9, 10, 3, 1, 2, 3, 4, 5, 6, 7, 8, 9, 10, 4, 7, 3, 1, 5, 1, 2, 3, 4, 5, 6, 7, 8, 9, 10, 1, 2, 3, 4, 5, 9, 10, 1, 7, 1, 2, 3, 4, 5, 6, 7, 8, 9, 10, 10, 2, 3, 5, 7, 8, 10, 7, 1, 2, 3, 4, 5, 6, 7, 8, 9, 10, 5, 9, 8, 1, 2, 3, 4, 5, 6, 7, 8, 9, 10, 1, 2, 3, 4, 5, 6, 7, 8, 9, 10, 1, 2, 3, 4, 5, 6, 7, 8, 9, 10, 1, 2, 7, 10, 1, 1, 2, 3, 4, 5, 6, 7, 8, 9, 10, 4, 5, 7, 8, 9, 10, 8, 1, 2, 3, 4, 5, 6, 7, 8, 9, 10, 10, 8, 10, 10, 2, 1, 3, 7, 8, 10, 9, 1, 2, 3, 4, 5, 6, 7, 8, 9, 10, 1, 2, 3, 4, 5, 6, 7, 8, 9, 10, 8, 1, 2, 3, 4, 5, 6, 7, 8, 9, 10, 2, 5, 7, 9, 1, 5, 6, 7, 1, 4, 5, 10, 1, 5, 9, 2, 4, 1, 3, 7, 9, 4, 1, 2, 3, 4, 5, 6, 7, 8, 9, 10, 7, 1, 2, 7, 6, 10, 1, 2, 3, 4, 5, 6, 7, 8, 9, 10, 1, 5, 8, 1, 2, 3, 4, 5, 6, 7, 8, 9, 10, 1, 2, 3, 4, 5, 6, 7, 8, 9, 10, 1, 2, 3, 4, 5, 6, 7, 8, 9, 10, 7, 6, 10, 3, 4, 4, 5, 7, 10, 3, 10, 1, 2, 3, 4, 5, 6, 7, 8, 9, 10, 6, 1, 2, 3, 4, 5, 6, 7, 8, 9, 10, 1, 2, 3, 4, 5, 6, 7, 8, 9, 10, 3, 5, 10, 8, 1, 2, 3, 4, 5, 6, 7, 8, 9, 10, 4, 10, 1, 2, 3, 4, 5, 6, 7, 8, 9, 10, 1, 2, 3, 4, 5, 6, 7, 8, 9, 10, 1, 2, 3, 4, 5, 6, 7, 8, 9, 10, 1, 2, 3, 4, 5, 6, 7, 8, 9, 10, 6, 5, 6, 7, 1, 3, 10, 6, 2, 1, 2, 3, 4, 5, 6, 7, 8, 9, 10, 1, 6, 9, 7, 9, 1, 2, 3, 4, 5, 6, 7, 8, 9, 10, 1, 9, 1, 2, 6, 4, 5, 1, 2, 3, 4, 5, 6, 7, 8, 9, 10, 1, 2, 3, 4, 5, 6, 7, 8, 9, 10, 8, 8, 5, 2, 1, 2, 3, 4, 5, 6, 7, 8, 9, 10, 5, 6, 2, 2, 9, 4, 1, 2, 3, 4, 5, 6, 7, 8, 9, 10, 2, 10, 8, 1, 2, 3, 4, 5, 6, 7, 8, 9, 10, 1, 3, 4, 5, 7, 8, 9, 10, 3, 3, 9, 5, 9, 10, 1, 2, 3, 4, 5, 6, 7, 8, 9, 10, 1, 2, 3, 4, 5, 6, 7, 8, 9, 10, 1, 2, 4, 7, 1, 2, 3, 4, 5, 6, 7, 8, 9, 10, 5, 1, 4, 8, 10, 7, 4, 2, 3, 4, 6, 9, 10, 1, 2, 3, 4, 5, 6, 7, 8, 9, 10, 1, 1, 2, 3, 4, 5, 6, 7, 8, 9, 10, 1, 2, 3, 4, 5, 6, 7, 8, 9, 10, 7, 3, 10, 1, 2, 3, 4, 5, 6, 7, 8, 9, 10, 10, 8, 10, 7, 3, 2, 3, 5, 8, 3, 2, 4, 2, 1, 2, 3, 4, 5, 6, 7, 8, 9, 10, 1, 2, 3, 4, 5, 6, 7, 8, 9, 10, 7, 4, 6, 2, 3, 3, 1, 1, 2, 3, 4, 5, 6, 7, 8, 9, 10, 1, 2, 3, 4, 5, 6, 7, 8, 9, 10, 3, 10, 1, 2, 3, 4, 5, 6, 7, 8, 9, 10, 5, 1, 2, 3, 4, 5, 6, 7, 8, 9, 10, 5, 1, 2, 3, 4, 5, 6, 7, 8, 9, 10, 8, 1, 2, 3, 5, 3, 1, 2, 3, 5, 8, 1, 2, 3, 4, 5, 6, 7, 8, 9, 10, 1, 2, 3, 4, 5, 6, 7, 8, 9, 10, 1, 2, 3, 6, 8, 1, 2, 3, 4, 5, 6, 7, 8, 9, 10, 4, 1, 3, 4, 1, 2, 3, 4, 5, 6, 7, 8, 9, 10, 3, 3, 4, 8, 9, 4, 6, 1, 2, 3, 4, 5, 6, 7, 8, 9, 10, 9, 1, 2, 3, 4, 5, 6, 7, 8, 9, 10, 1, 2, 3, 4, 5, 6, 7, 8, 9, 10, 1, 2, 3, 4, 5, 6, 7, 8, 9, 10, 1, 2, 3, 4, 5, 6, 7, 8, 9, 10, 1, 2, 3, 4, 5, 6, 7, 8, 9, 10, 1, 2, 3, 4, 5, 6, 7, 8, 9, 10, 2, 8, 2, 2, 1, 2, 3, 4, 5, 6, 7, 8, 9, 10, 1, 2, 3, 4, 5, 6, 7, 8, 9, 10, 7, 6, 7, 1, 2, 3, 4, 5, 6, 7, 8, 9, 10, 2, 5, 8, 1, 5, 7, 7, 9, 1, 2, 3, 4, 5, 6, 7, 8, 9, 10, 1, 2, 3, 4, 5, 6, 7, 8, 9, 10, 1, 2, 3, 4, 5, 6, 7, 8, 9, 10, 1, 7, 10, 1, 2, 3, 4, 5, 6, 7, 8, 9, 10, 7, 1, 2, 3, 4, 5, 6, 7, 8, 9, 10, 8, 1, 10, 2, 1, 2, 3, 4, 5, 6, 7, 8, 9, 10, 8, 7, 1, 2, 3, 4, 5, 6, 7, 8, 9, 10, 7, 9, 4, 9, 1, 2, 3, 4, 5, 6, 7, 8, 9, 10, 2, 1, 3, 1, 7, 1, 2, 3, 4, 5, 6, 7, 8, 9, 10, 1, 5, 7, 3, 1, 2, 3, 4, 5, 6, 7, 8, 9, 10, 1, 2, 3, 4, 5, 6, 7, 8, 10, 7, 1, 2, 3, 4, 5, 6, 7, 8, 9, 10, 3, 7, 1, 8, 10, 1, 2, 3, 4, 5, 6, 8, 9, 2, 8, 4, 1, 2, 3, 4, 5, 6, 7, 8, 9, 10, 1, 2, 3, 4, 5, 6, 7, 8, 9, 10, 2, 1, 6, 1, 6, 1, 2, 3, 4, 5, 6, 7, 8, 9, 10, 8, 1, 2, 3, 4, 5, 6, 7, 8, 9, 10, 6, 1, 2, 3, 5, 6, 1, 2, 3, 4, 5, 6, 7, 8, 9, 10, 1, 4, 6, 7, 3, 7, 1, 2, 3, 4, 5, 6, 7, 8, 9, 10, 8, 5, 7, 5, 4, 1, 2, 3, 5, 8, 10, 4, 1, 2, 3, 4, 5, 6, 7, 8, 9, 10, 3, 6, 9, 10, 5, 6, 8, 1, 9, 1, 7, 10, 3, 10, 1, 1, 2, 3, 4, 6, 7, 8, 10, 1, 2, 3, 10, 1, 2, 3, 4, 5, 6, 7, 8, 9, 10, 2, 4, 5, 8, 10, 2, 5, 1, 2, 3, 4, 5, 6, 7, 8, 9, 10, 2, 8, 8, 9, 1, 2, 3, 4, 5, 6, 7, 8, 9, 10, 1, 2, 3, 4, 5, 6, 7, 8, 9, 10, 10, 1, 2, 3, 4, 5, 6, 7, 8, 9, 10, 1, 2, 3, 4, 5, 6, 7, 8, 9, 10, 9, 6, 1, 2, 3, 4, 5, 6, 7, 8, 9, 10, 10, 1, 2, 3, 4, 5, 6, 7, 8, 9, 10, 4, 1, 2, 3, 4, 5, 6, 7, 8, 9, 10, 2, 10, 9, 1, 2, 3, 4, 5, 6, 7, 8, 9, 10, 5, 10, 1, 2, 3, 4, 5, 6, 7, 8, 9, 10, 1, 2, 3, 4, 5, 6, 7, 8, 9, 10, 2, 5, 1, 2, 3, 4, 5, 6, 7, 8, 9, 10, 6, 9, 1, 2, 3, 4, 5, 6, 7, 8, 9, 10, 2, 10, 4, 5, 8, 1, 2, 3, 4, 5, 6, 7, 8, 9, 10, 1, 2, 3, 4, 5, 6, 7, 8, 9, 10, 7, 5, 6, 1, 2, 3, 4, 5, 6, 7, 8, 9, 10, 2, 3, 4, 5, 9, 8, 2, 7, 1, 2, 3, 4, 8, 10, 1, 1, 2, 3, 4, 5, 6, 7, 8, 9, 10, 2, 1, 2, 3, 4, 5, 6, 7, 8, 1, 8, 1, 2, 3, 4, 5, 6, 7, 8, 9, 10, 8, 3, 2, 10, 1, 2, 3, 4, 5, 6, 7, 8, 9, 10, 5, 1, 2, 3, 4, 5, 6, 7, 8, 9, 10, 1, 2, 2, 3, 6, 10, 1, 2, 3, 4, 5, 6, 7, 8, 9, 10, 10, 6, 5, 1, 2, 3, 4, 5, 6, 7, 8, 9, 10, 1, 2, 3, 4, 5, 6, 7, 8, 9, 10, 1, 2, 3, 4, 5, 6, 7, 8, 9, 10, 4, 1, 2, 3, 4, 5, 6, 7, 8, 9, 10, 3, 2, 3, 4, 1, 4, 5, 6, 7, 1, 2, 3, 4, 5, 6, 7, 8, 9, 10, 6, 8, 9, 7, 1, 2, 3, 4, 5, 6, 7, 8, 9, 10, 10, 1, 2, 3, 4, 5, 6, 7, 8, 9, 10, 1, 2, 3, 4, 5, 6, 7, 8, 9, 10, 1, 2, 3, 4, 5, 6, 7, 8, 9, 10, 1, 4, 1, 2, 3, 4, 5, 6, 7, 8, 9, 10, 3, 1, 1, 2, 1, 2, 3, 4, 5, 6, 7, 8, 9, 10, 5, 1, 2, 3, 4, 5, 6, 7, 8, 9, 10, 9, 1, 4, 1, 2, 3, 4, 5, 6, 7, 8, 9, 10, 1, 2, 3, 4, 5, 6, 7, 8, 9, 10, 6, 1, 2, 3, 4, 5, 6, 7, 8, 9, 10, 10, 1, 2, 3, 4, 5, 6, 7, 8, 9, 10, 3, 8, 3, 1, 2, 3, 4, 5, 6, 7, 8, 9, 10, 6, 7, 1, 2, 3, 4, 5, 6, 7, 8, 9, 10, 7, 10, 1, 1, 1, 2, 3, 4, 5, 6, 7, 8, 9, 10, 1, 2, 3, 4, 5, 6, 7, 8, 9, 10, 1, 2, 3, 4, 5, 6, 7, 8, 9, 10, 7, 6, 10, 2, 1, 2, 3, 4, 5, 6, 7, 8, 9, 10, 1, 2, 3, 4, 5, 6, 7, 8, 9, 10, 2, 1, 2, 3, 4, 5, 6, 7, 8, 10, 9, 2, 9, 4, 4, 1, 1, 2, 3, 4, 5, 6, 7, 8, 9, 10, 1, 2, 3, 4, 5, 6, 7, 8, 9, 10, 6, 1, 9, 9, 10, 1, 2, 3, 4, 5, 6, 7, 8, 9, 10, 1, 2, 3, 4, 5, 6, 7, 8, 9, 10, 1, 2, 3, 4, 5, 6, 7, 8, 9, 10, 3, 8, 2, 1, 2, 3, 5, 8, 9, 5, 1, 9, 1, 4, 7, 8, 6, 5, 6, 3, 9, 1, 2, 3, 4, 5, 6, 7, 8, 9, 10, 9, 6, 1, 2, 3, 4, 5, 6, 7, 8, 9, 10, 9, 1, 2, 3, 4, 5, 6, 7, 8, 9, 10, 9, 1, 2, 3, 4, 5, 6, 7, 8, 9, 10, 3, 1, 2, 3, 4, 5, 6, 7, 8, 9, 10, 6, 1, 2, 3, 4, 5, 6, 7, 8, 9, 10, 7, 2, 1, 2, 3, 4, 5, 6, 7, 8, 9, 10, 7, 10, 1, 5, 9, 3, 5, 1, 5, 4, 1, 2, 3, 4, 5, 6, 7, 8, 9, 10, 1, 2, 3, 4, 5, 6, 7, 8, 9, 10, 1, 2, 3, 4, 5, 6, 7, 8, 9, 10, 1, 2, 3, 4, 5, 6, 7, 8, 9, 10, 1, 7, 1, 2, 1, 4, 8, 9, 6, 5, 1, 2, 3, 4, 5, 6, 7, 8, 9, 10, 2, 1, 2, 3, 6, 7, 4, 1, 2, 3, 4, 5, 6, 7, 8, 9, 10, 8, 3, 1, 2, 3, 4, 5, 6, 7, 8, 9, 10, 3, 10, 1, 2, 4, 5, 6, 8, 10, 4, 8, 1, 2, 3, 4, 5, 6, 7, 8, 9, 10, 7, 1, 2, 3, 4, 5, 6, 7, 8, 9, 10, 1, 2, 3, 4, 5, 6, 7, 8, 9, 10, 1, 2, 3, 4, 5, 6, 7, 8, 9, 10, 2, 9, 8, 8, 3, 4, 1, 1, 2, 3, 4, 5, 6, 7, 8, 9, 10, 9, 1, 2, 3, 4, 5, 6, 7, 8, 9, 10, 1, 2, 3, 4, 5, 6, 7, 8, 9, 10, 10, 2, 3, 9, 3, 2, 1, 2, 3, 4, 5, 6, 7, 8, 9, 10, 2, 1, 2, 3, 4, 5, 6, 7, 8, 9, 10, 1, 2, 3, 4, 5, 6, 7, 8, 9, 10, 1, 2, 3, 4, 5, 6, 7, 8, 9, 10, 8, 10, 6, 1, 2, 3, 4, 5, 6, 7, 8, 9, 10, 5, 10, 1, 2, 3, 4, 5, 6, 7, 8, 9, 10, 1, 2, 3, 4, 5, 6, 7, 8, 9, 10, 4, 1, 2, 3, 4, 5, 6, 7, 8, 9, 10, 10, 1, 2, 3, 4, 5, 6, 7, 8, 9, 10, 2, 7, 1, 2, 4, 5, 1, 2, 3, 4, 5, 6, 7, 8, 9, 10, 2, 4, 2, 3, 6, 8, 7, 8, 1, 3, 7, 10, 7, 5, 1, 2, 3, 4, 5, 6, 7, 8, 9, 10, 7, 1, 4, 1, 3, 9, 4, 4, 1, 3, 4, 5, 6, 8, 9, 8, 1, 2, 3, 4, 5, 6, 7, 8, 9, 10, 1, 2, 3, 4, 5, 6, 7, 8, 9, 10, 7, 1, 2, 3, 4, 5, 6, 7, 8, 9, 10, 9, 1, 2, 3, 4, 5, 6, 7, 8, 9, 10, 7, 1, 2, 3, 4, 5, 6, 7, 8, 9, 10, 1, 2, 3, 4, 5, 6, 7, 8, 9, 10, 6, 7, 1, 2, 3, 4, 5, 6, 7, 8, 9, 10, 1, 2, 3, 4, 5, 6, 7, 8, 9, 10, 1, 2, 3, 4, 5, 6, 7, 8, 9, 10, 3, 8, 10, 1, 2, 3, 4, 5, 6, 7, 8, 9, 10, 1, 2, 3, 4, 5, 6, 7, 8, 9, 10, 1, 4, 1, 8, 1, 2, 3, 7, 1, 2, 3, 4, 5, 6, 7, 8, 9, 10, 3, 2], \"Freq\": [0.7583761946819101, 0.23413680557574132, 0.07804560185858044, 0.07804560185858044, 0.3902280092929022, 0.07804560185858044, 0.07804560185858044, 0.07804560185858044, 0.3858586574972181, 0.3858586574972181, 0.7411739373927119, 0.7260443615624237, 0.26506320308476, 0.53012640616952, 0.3127432372298567, 0.6254864744597134, 0.7587190758289715, 0.20691468181979494, 0.08795031218291059, 0.14396077415202735, 0.11016933841859328, 0.08980189770255083, 0.09026479408246088, 0.07684079906506926, 0.11109513117841338, 0.03934619229235474, 0.043512259711545244, 0.27779345839518843, 0.1209531326026897, 0.16614441291578255, 0.07310354168294432, 0.05781825569469232, 0.09569918183949075, 0.05781825569469232, 0.07775558524458623, 0.05250163448138728, 0.019937329549893905, 0.25634596129413156, 0.06841665858863646, 0.1688765623390394, 0.08227319703696791, 0.0814071633839472, 0.11864661046383793, 0.04503374995707717, 0.0995938700973822, 0.03897151438593217, 0.04156961534499431, 0.7036981225028076, 0.605291151258371, 0.6056041083394578, 0.54800858457133, 0.7448561227119059, 0.5295523205235994, 0.1765174401745331, 0.1765174401745331, 0.22406694449490175, 0.1672141376827625, 0.107017048116968, 0.07691850333407074, 0.09029563434869174, 0.09029563434869174, 0.05016424130482875, 0.053508524058484, 0.040131393043863, 0.1003284826096575, 0.7051165552001608, 0.3353099195360677, 0.10570787293848914, 0.07956506565262624, 0.09206814739803892, 0.1091178043236017, 0.08638492842285134, 0.048875683186613256, 0.07047191529232609, 0.031826026261050494, 0.042055820416388154, 0.2764553164720068, 0.5529106329440135, 0.7080265871193907, 0.2201076467485886, 0.4402152934971772, 0.24671178676542052, 0.09448536514420361, 0.11548211295402663, 0.11023292600157088, 0.07033910516290713, 0.09133585297273016, 0.11128276339206203, 0.07348861733438058, 0.05984073125799562, 0.02624593476227878, 0.1174323232246695, 0.05871616161233475, 0.469729292898678, 0.1174323232246695, 0.05871616161233475, 0.05871616161233475, 0.05871616161233475, 0.6182691580206529, 0.7557064314006171, 0.16787396081530212, 0.21913318549173025, 0.11661473613887398, 0.09098512380065993, 0.10636289120358836, 0.0422888603580532, 0.07560735639773149, 0.07945179824846359, 0.0410073797411425, 0.05894810837789234, 0.623451937489784, 0.12109627820430381, 0.12109627820430381, 0.12109627820430381, 0.12109627820430381, 0.12109627820430381, 0.3632888346129114, 0.7564755669123793, 0.17632803822527174, 0.13640470881577624, 0.05489457793805629, 0.12975082058086032, 0.1164430441110285, 0.11976998822848646, 0.07485624264280404, 0.06653888234915914, 0.043250273526953445, 0.08151013087771995, 0.553902563739852, 0.6054298980174235, 0.5760439586400184, 0.2231727021227515, 0.1319083686387786, 0.07907112293753116, 0.12636600020857783, 0.0949592457707734, 0.09791517560021382, 0.08609145628245216, 0.07278977204997027, 0.04655589481368657, 0.041013526383485786, 0.22499720101083343, 0.08221051575395837, 0.060576169502916694, 0.06922990800333337, 0.06490303875312503, 0.12547920825604172, 0.07355677725354169, 0.07788364650375003, 0.06490303875312503, 0.15576729300750006, 0.23434856505871807, 0.1126922061484546, 0.0960444938765238, 0.09476390062483682, 0.09220271412146284, 0.06659084908772317, 0.11013101964508062, 0.07939678160459301, 0.08579974786302792, 0.02817305153711365, 0.168942778753446, 0.168942778753446, 0.168942778753446, 0.337885557506892, 0.6176091229452808, 0.21627134058235967, 0.11475622153349696, 0.11696307194760268, 0.16772063147203403, 0.07723976449369988, 0.08275689052896415, 0.07282606366548845, 0.05406783514558992, 0.0717226384584356, 0.027585630176321384, 0.46038185826576344, 0.11509546456644086, 0.11509546456644086, 0.11509546456644086, 0.11509546456644086, 0.11509546456644086, 0.7819399004232718, 0.11693401466132669, 0.12992668295702967, 0.08445234392206928, 0.1559120195484356, 0.0779560097742178, 0.20788269273124746, 0.08445234392206928, 0.0389780048871089, 0.0779560097742178, 0.032481670739257416, 0.6234613622008561, 0.7780648779533029, 0.6232893480796929, 0.6233706911196762, 0.6460787775987111, 0.11642490857528444, 0.23284981715056888, 0.11642490857528444, 0.11642490857528444, 0.34927472572585333, 0.4048550605011498, 0.28903889992640264, 0.07715868938713291, 0.12308648068899773, 0.08940610040096353, 0.07960817158989904, 0.13349678005075377, 0.055725720112929325, 0.07409683663367525, 0.020208228172820523, 0.058175202315695444, 0.2766718537969923, 0.10069349781046998, 0.10257561926487128, 0.052699400723236624, 0.1392769876256968, 0.0696384938128484, 0.06587425090404578, 0.07340273672165101, 0.05834576508644054, 0.06022788654084185, 0.7814176164348086, 0.1755328787397675, 0.11814712992099737, 0.2211039145664379, 0.11814712992099737, 0.05907356496049868, 0.08776643936988375, 0.07763954251951255, 0.060761381102227216, 0.03713195511802774, 0.043883219684941875, 0.5116368407636814, 0.20465473630547257, 0.10232736815273628, 0.10232736815273628, 0.6337276296461757, 0.10562127160769594, 0.10562127160769594, 0.10562127160769594, 0.11273395837330363, 0.5636697918665182, 0.11273395837330363, 0.11273395837330363, 0.6177835042967355, 0.7368122593010773, 0.4095579108225771, 0.2656987943655005, 0.531397588731001, 0.13220459618782793, 0.5288183847513117, 0.13220459618782793, 0.13220459618782793, 0.7274511598208372, 0.214170866905422, 0.0535427167263555, 0.24094222526859976, 0.08031407508953325, 0.07585218202900362, 0.058004609786885125, 0.11154732651324063, 0.058004609786885125, 0.0535427167263555, 0.049080823665825876, 0.5621584985553101, 0.3495324932922917, 0.17476624664614585, 0.5242987399384375, 0.5706897825482498, 0.6232648010065734, 0.29028322587572924, 0.24588696780061772, 0.0836698709877102, 0.05293400001263298, 0.0665943871126673, 0.056349096787641564, 0.05976419356265014, 0.06147174195015443, 0.03244341936258151, 0.05122645162512869, 0.21380765368820523, 0.42761530737641046, 0.5762321882056965, 0.26236086070290715, 0.1718428278997478, 0.09688258198463148, 0.12941250002326687, 0.07920327870276442, 0.05657377050197459, 0.05657377050197459, 0.06576700820854546, 0.04243032787648094, 0.03818729508883285, 0.30701348804836637, 0.062133682105026525, 0.1206124417332868, 0.16812643393124824, 0.07797167950434701, 0.05847875962826026, 0.057260452136004836, 0.05969706712051568, 0.04629568470570604, 0.043859069721195194, 0.12004007703335409, 0.09003005777501556, 0.060020038516677046, 0.09003005777501556, 0.2700901733250467, 0.09003005777501556, 0.12004007703335409, 0.09003005777501556, 0.04501502888750778, 0.030010019258338523, 0.7455907624453285, 0.759280551765669, 0.6234499770642676, 0.26907318672981706, 0.5381463734596341, 0.17896424684047238, 0.17896424684047238, 0.17896424684047238, 0.35792849368094476, 0.30604246873260926, 0.30604246873260926, 0.22423288402440383, 0.06802570638942589, 0.1511682364209464, 0.06802570638942589, 0.09825935367361517, 0.13479167747534387, 0.06424650047890222, 0.09322041245958362, 0.02771417667717351, 0.07054517699644165, 0.7492838032519394, 0.17950406596560814, 0.04545381927884498, 0.16640720278356805, 0.09090763855768996, 0.08243319767519344, 0.16871841393333983, 0.08243319767519344, 0.10477490545632064, 0.05084664529497913, 0.028504937513851938, 0.23760161753716558, 0.10560071890540693, 0.07920053917905519, 0.039600269589527594, 0.09240062904223106, 0.10560071890540693, 0.05280035945270346, 0.23760161753716558, 0.02640017972635173, 0.02640017972635173, 0.5231699179392792, 0.7412583365268763, 0.6233668970189479, 0.7810800881725297, 0.17840256817621594, 0.1872343784819692, 0.10244899954673786, 0.17840256817621594, 0.07242084450717677, 0.11128080985249113, 0.03709360328416371, 0.05122449977336893, 0.03709360328416371, 0.045925413589916975, 0.7281534442192796, 0.6234044984414715, 0.265471697865417, 0.19735724907100083, 0.1257497516204607, 0.09081926505922161, 0.06811444879441621, 0.05064920551379667, 0.08907274073115966, 0.06636792446635426, 0.01746524328061954, 0.027944389248991265, 0.24481907548863535, 0.14346085952200288, 0.11851114482252412, 0.11695178765380669, 0.060814929579979485, 0.0966801444604802, 0.07251010834536015, 0.07095075117664273, 0.04989942939895752, 0.025729393283837474, 0.20260975225885608, 0.12874161341448145, 0.11607850389830296, 0.17728353322649906, 0.06964710233898178, 0.08653124836055312, 0.09286280311864237, 0.07597865709707102, 0.029547255537749843, 0.021105182526964174, 0.1976134023725552, 0.03952268047451104, 0.03952268047451104, 0.07904536094902208, 0.07904536094902208, 0.11856804142353312, 0.03952268047451104, 0.3161814437960883, 0.03952268047451104, 0.03952268047451104, 0.7554684954452779, 0.733640463474677, 0.7554287530407102, 0.5622760439444852, 0.14400583562381664, 0.5760233424952665, 0.3135752233105431, 0.7469316614880511, 0.5064900663776589, 0.2232182478299126, 0.144266455992966, 0.16292778860897156, 0.07608081758833034, 0.09330666308002777, 0.0803872789612547, 0.0624436899074032, 0.05813722853447884, 0.05239528003724636, 0.04665333154001389, 0.364685123767491, 0.729370247534982, 0.6056524142883719, 0.5622643058249102, 0.6056584071795412, 0.2031111346095766, 0.07003832227916436, 0.08404598673499722, 0.0980536511908301, 0.2591417924329081, 0.07003832227916436, 0.06303449005124792, 0.11206131564666297, 0.014007664455832871, 0.021011496683749305, 0.6216013882320274, 0.40958050167239896, 0.14066164375688686, 0.5626465750275474, 0.14066164375688686, 0.18385107301478834, 0.551553219044365, 0.19457413039548238, 0.0931763441330479, 0.1904634093307891, 0.10550850732712777, 0.08769538271345685, 0.09180610377815014, 0.047958412421421716, 0.08495490200366132, 0.07262273880958145, 0.03014528780775079, 0.20335532604996898, 0.11120994393357679, 0.07943567423826914, 0.0635485393906153, 0.1842907642327844, 0.11438737090310755, 0.057193685451553775, 0.07625824726873837, 0.057193685451553775, 0.05401625848202301, 0.5760633419467277, 0.3805027076685789, 0.7413410729530974, 0.6519203046356319, 0.17210697146550952, 0.1634583799345794, 0.13837746449488203, 0.13837746449488203, 0.06399957732888294, 0.08648591530930126, 0.07783732377837113, 0.08562105615620826, 0.03545922527681352, 0.03805380273609256, 0.5604515890963849, 0.28022579454819246, 0.6691834465712344, 0.7617352505956755, 0.8326808965434874, 0.7278720164273805, 0.24851179250823285, 0.08308677400124653, 0.13024413221817024, 0.1377294271732375, 0.11377648331702227, 0.07709853803719273, 0.09356618693834068, 0.060630889136044766, 0.029192650324762294, 0.02470147335172194, 0.500927774364997, 0.4354193216623576, 0.7723310098694943, 0.2690741557163313, 0.09555190188790173, 0.0879077497368696, 0.16358485603208778, 0.09172982581238566, 0.07567710629521818, 0.08485008887645674, 0.06573970849887639, 0.03516309989474784, 0.032105439034334986, 0.0758280502930684, 0.0758280502930684, 0.0758280502930684, 0.0758280502930684, 0.379140251465342, 0.2274841508792052, 0.0758280502930684, 0.0758280502930684, 0.7033994284367303, 0.3996398784370484, 0.3996398784370484, 0.30725367086235505, 0.6145073417247101, 0.6232708644167145, 0.20028445690309638, 0.08995827301579752, 0.07807699167408841, 0.1205101393230495, 0.0848662952979222, 0.11372083569921573, 0.0848662952979222, 0.11711548751113263, 0.05940640670854553, 0.04922245127279487, 0.3478784929910825, 0.07893041437612795, 0.14909078271046391, 0.12570399326568527, 0.07162204267463462, 0.0555436249313493, 0.04969692757015464, 0.05262027625075197, 0.03215683548657065, 0.03800353284776531, 0.1810430172302115, 0.1810430172302115, 0.1810430172302115, 0.5431290516906344, 0.25073057746504435, 0.13169686897153846, 0.12156634058911242, 0.08104422705940828, 0.05571790610334319, 0.09117475544183432, 0.07091369867698225, 0.13169686897153846, 0.03545684933849112, 0.032924217242884614, 0.7418879314839746, 0.13257498428536285, 0.13257498428536285, 0.13257498428536285, 0.2651499685707257, 0.5623622703645097, 0.7310090078382928, 0.13162222879893695, 0.13162222879893695, 0.13162222879893695, 0.13162222879893695, 0.2632444575978739, 0.13162222879893695, 0.2306661363956666, 0.2165796547837175, 0.0739540284627328, 0.20425398337326203, 0.05106349584331551, 0.05458511624630279, 0.02993377342539185, 0.09156213047766919, 0.021129722417923658, 0.024651342820910936, 0.6186229204333361, 0.15729006941816634, 0.052430023139388784, 0.052430023139388784, 0.10486004627877757, 0.10486004627877757, 0.10486004627877757, 0.15729006941816634, 0.026215011569694392, 0.20972009255755514, 0.026215011569694392, 0.20875478033114428, 0.1086668719531984, 0.11009669921574049, 0.17300909876759218, 0.055763263239141284, 0.09722825385286173, 0.08721946301506714, 0.04289481787626252, 0.06005274502676754, 0.057193090501683364, 0.5623535251119675, 0.5306406848101219, 0.6232493075719645, 0.340097529068938, 0.09355842807100895, 0.15045206676283873, 0.05689363869182977, 0.05815794177387043, 0.09482273115304961, 0.07712248800448035, 0.07332957875835837, 0.034136183215097864, 0.021493152394691246, 0.6231831159882234, 0.5761066028155336, 0.30931878894522985, 0.3770630515194876, 0.6951372603618795, 0.13972210828278037, 0.13972210828278037, 0.13972210828278037, 0.4191663248483411, 0.700758230349966, 0.7357984023966275, 0.24526613413220918, 0.6606428092997053, 0.2207583578938675, 0.09198264912244479, 0.09198264912244479, 0.09986687619008291, 0.11037917894693375, 0.08935457343323208, 0.08672649774401937, 0.04993343809504146, 0.052561513784254166, 0.10512302756850833, 0.17639919310214064, 0.1102494956888379, 0.13569168700164666, 0.16113387831445541, 0.0712381356758645, 0.1000726191637144, 0.05936511306322041, 0.11873022612644082, 0.03561906783793225, 0.033922921750411665, 0.5621637082157109, 0.22630862987248318, 0.45261725974496636, 0.4946448819671438, 0.2473224409835719, 0.6876539139253416, 0.6179100941749176, 0.2429951949758698, 0.1214975974879349, 0.1094028140275975, 0.10445494806655037, 0.12424641191073886, 0.10170613364374641, 0.07091941210834209, 0.04618008230310648, 0.048928896725910435, 0.029687195766282735, 0.34700245154505516, 0.10922361288186973, 0.11308993546175893, 0.12178916126650961, 0.07732645159778388, 0.05219535482850412, 0.030930580639113553, 0.0657274838581163, 0.02706425805922436, 0.05702825805336561, 0.3382619341932242, 0.3382619341932242, 0.3061259585008351, 0.0886465130793924, 0.09337432711029334, 0.12646902532659984, 0.11701339726479798, 0.0590976753862616, 0.05318790784763544, 0.09928409464891949, 0.024821023662229873, 0.03191274470858126, 0.378376159582506, 0.251657598198236, 0.0950533343039777, 0.10440284259617222, 0.10829847105125327, 0.04908491853402127, 0.12388098487157748, 0.06856306080942653, 0.06934218650044274, 0.07557519202857242, 0.05375967268011853, 0.5538636253697993, 0.2636933967648774, 0.08486684033812146, 0.098506153963891, 0.054557254503078086, 0.15912532563397774, 0.08486684033812146, 0.06819656812884761, 0.0833513610463693, 0.06061917167008676, 0.04243342016906073, 0.3950950604104068, 0.16795383584993961, 0.16795383584993961, 0.5038615075498188, 0.7381538112626923, 0.6828356465216954, 0.8292724858180089, 0.03455302024241704, 0.03455302024241704, 0.03455302024241704, 0.03455302024241704, 0.21381868985371322, 0.11035803347288424, 0.11380672201891187, 0.06897377092055265, 0.08621721365069081, 0.05862770528246975, 0.15174229602521583, 0.07587114801260791, 0.08276852510466318, 0.03793557400630396, 0.16945249959454572, 0.2824208326575762, 0.1341498955123487, 0.07766572898083346, 0.07766572898083346, 0.04942364571507584, 0.056484166531515244, 0.04942364571507584, 0.06354468734795465, 0.03530260408219703, 0.0957205680285632, 0.0957205680285632, 0.0957205680285632, 0.1914411360571264, 0.478602840142816, 0.3629083291621288, 0.08726421655425234, 0.0907270822905322, 0.08380135081797248, 0.08241620452346055, 0.10873398411918744, 0.055405851780477675, 0.0692573147255971, 0.03670637680456646, 0.022854913859447042, 0.727594676349188, 0.7266009040093353, 0.6184763824862995, 0.20615879416209987, 0.32994895750529696, 0.07138518325900764, 0.11060553103793917, 0.06972506271810049, 0.07761063528740947, 0.1166234679987276, 0.08217596677490414, 0.05727415866129683, 0.030919745074395752, 0.05374640251186913, 0.5231564098736404, 0.13150127081313862, 0.13150127081313862, 0.5260050832525545, 0.13150127081313862, 0.5509447467881968, 0.2754723733940984, 0.2209183473480164, 0.10497538491005035, 0.10027499454094362, 0.09714140096153913, 0.09400780738213464, 0.17391444365694908, 0.05483788763957854, 0.057971481218983024, 0.06267187158808976, 0.03133593579404488, 0.836864405277783, 0.3256738646323842, 0.10927927019226179, 0.10711532424786056, 0.10278743235905811, 0.10170545938685752, 0.07573810805404282, 0.06600035130423731, 0.05085272969342876, 0.021639459444012236, 0.038951026999222024, 0.2770103538065002, 0.05504692928206093, 0.22018771712824373, 0.0514955144896699, 0.07457971064021159, 0.09233678460216672, 0.07457971064021159, 0.062149758866842986, 0.05504692928206093, 0.03906556271630131, 0.21919201918407052, 0.1571199429549532, 0.10086712387231564, 0.11056588578311523, 0.058192571464797484, 0.04461430478967807, 0.11444539054743506, 0.06789133337559707, 0.05625281908263757, 0.07371059052207682, 0.23867597241221483, 0.11143231519560819, 0.1227261309248928, 0.17467768327960204, 0.04366942081990051, 0.11293815729284613, 0.0466811050143764, 0.0790567101049923, 0.03538728928509179, 0.03388144718785384, 0.2059930825327479, 0.08597972140497304, 0.1415082914790181, 0.12896958210745954, 0.11643087273590098, 0.06985852364154059, 0.07881474462122529, 0.05015483748623427, 0.0985184307765316, 0.023286174547180197, 0.33059313773810756, 0.17525419349971966, 0.08961862167599301, 0.05775422285786216, 0.03783897359653038, 0.05576269793172898, 0.04779659822719627, 0.059745747783995336, 0.03783897359653038, 0.10953387093732478, 0.6494414277625558, 0.7697628729770696, 0.657114438572005, 0.5009640741112716, 0.1891273973204707, 0.12675559607648568, 0.19516337808601764, 0.08450373071765713, 0.060359807655469375, 0.06840778200953196, 0.06840778200953196, 0.07645575636359454, 0.05834781406695373, 0.07243176918656324, 0.4115354280285794, 0.10288385700714485, 0.07201869990500138, 0.04732657422328663, 0.1316913369691454, 0.053499605643715316, 0.03498051138242925, 0.04321121994300083, 0.07613405418528718, 0.028807479962000556, 0.5623053597620352, 0.2889200881118138, 0.5778401762236276, 0.24618111579626004, 0.11139857878379576, 0.08151907660271934, 0.1328338738267419, 0.08509162577654371, 0.0691775430931443, 0.0932110557170536, 0.12893654745529715, 0.026956507402492853, 0.025007844216770478, 0.8096364639528786, 0.16192729279057572, 0.7811482320880048, 0.21731700524305647, 0.6519510157291694, 0.7502197038324825, 0.5623071165495273, 0.6056640940123404, 0.20150022581590596, 0.1106832226312723, 0.09122243623456508, 0.12162991497942009, 0.1281168437783225, 0.11149408873113509, 0.06689645323868106, 0.08838440488504527, 0.043786769392591234, 0.03648897449382603, 0.24714060715665448, 0.16877895122893477, 0.0947228807917491, 0.08783394400689462, 0.0938617636936423, 0.055972611376942656, 0.08955617820310825, 0.050805908788301796, 0.044778089101554126, 0.06716713365233118, 0.2097333037603924, 0.07182647389054533, 0.13017167114317293, 0.08132966889760211, 0.14741002487690383, 0.0784566099419803, 0.1021040951920983, 0.11580637636506387, 0.026299539670691985, 0.036907757352987916, 0.2407122034579569, 0.2407122034579569, 0.4814244069159138, 0.30880576195443854, 0.10560197040928987, 0.10613531369418527, 0.08266820915878753, 0.07306803003067026, 0.04906758221037711, 0.10240191069991746, 0.09493510471138181, 0.03466731351820122, 0.042134119506736865, 0.5621839544203167, 0.382778200944019, 0.11918002593495097, 0.09277347116897164, 0.11567473105451123, 0.061459503570376675, 0.0906702942407078, 0.03809087103411178, 0.03365083085222145, 0.030612908622507016, 0.03505294880439735, 0.7810882176936768, 0.618153042824885, 0.6235252432113808, 0.5008017511643145, 0.6178223564382964, 0.47440438318089945, 0.08625534239652717, 0.043127671198263585, 0.043127671198263585, 0.12938301359479076, 0.043127671198263585, 0.043127671198263585, 0.043127671198263585, 0.043127671198263585, 0.7609596089259506, 0.562351215575713, 0.17154576796693743, 0.24971852298984565, 0.12594499420357433, 0.14331671754199837, 0.04125784292875711, 0.06948689335369618, 0.030400515842242078, 0.04994370459796913, 0.03257198125954509, 0.08685861669212022, 0.5765094222021605, 0.28825471110108025, 0.7277906864764866, 0.6056616117267756, 0.20848003573568546, 0.12672315897659311, 0.09947086672356234, 0.15533806584227544, 0.05722981373136463, 0.08175687675909234, 0.11445962746272927, 0.06949334524522849, 0.04224105299219771, 0.044966282217500785, 0.49861874142504015, 0.6867167986313168, 0.6874455153919401, 0.7359418763981108, 0.5623292496481255, 0.25508821084850763, 0.09536007882187202, 0.16211213399718244, 0.08820807291023161, 0.17164814187936964, 0.05244804335202961, 0.04768003941093601, 0.06913605714585722, 0.028608023646561606, 0.030992025617108405, 0.1390624361785051, 0.1390624361785051, 0.5562497447140204, 0.6874300939519045, 0.2215384822335579, 0.08184224184424432, 0.11288585081964735, 0.10583048514341939, 0.11147477768440175, 0.08043116870899873, 0.03104360897540302, 0.12840765530734885, 0.05362077913933249, 0.07196472989752518, 0.20118272646000535, 0.06706090882000178, 0.06706090882000178, 0.06706090882000178, 0.4023654529200107, 0.06706090882000178, 0.06706090882000178, 0.06706090882000178, 0.06706090882000178, 0.3714474925148636, 0.2032258772759632, 0.1321794323746102, 0.13052718946992758, 0.1487018614214365, 0.07600317361540086, 0.05287177294984408, 0.11896148913714918, 0.06443747328262248, 0.04461055842643094, 0.028088129379604667, 0.3688241083488799, 0.3688241083488799, 0.36941862798487884, 0.36941862798487884, 0.6234697319845162, 0.06581365443941381, 0.26325461775765524, 0.06581365443941381, 0.06581365443941381, 0.06581365443941381, 0.06581365443941381, 0.06581365443941381, 0.26325461775765524, 0.2833150540783315, 0.566630108156663, 0.8230733366562978, 0.23839223618067662, 0.12019776614151763, 0.10817798952736586, 0.10617469342500724, 0.08814502850377959, 0.06410547527547607, 0.1422340232674625, 0.05008240255896568, 0.05408899476368293, 0.028046145433020777, 0.2576869907164988, 0.1235485571928419, 0.11590031317614216, 0.08766064296063544, 0.05647934043101344, 0.11060537501073466, 0.08707231649781239, 0.07707076662982043, 0.04118285239761397, 0.042359505323260084, 0.5009415451203568, 0.6181954515126424, 0.9161836978832079, 0.6181619582571336, 0.7577103333784887, 0.23575415583552164, 0.11486861421220312, 0.13291939644554934, 0.07439110253742678, 0.09025391116673102, 0.08095502334955268, 0.06946816192833237, 0.11815057461826607, 0.059075287309133036, 0.023520716243451117, 0.7817659538015143, 0.2712728817351986, 0.10055805098804776, 0.11342012727721666, 0.16603771209654397, 0.08769597469887887, 0.0672335806024738, 0.04501726701209115, 0.059633262795237625, 0.05027902549402388, 0.03800158903618084, 0.6737275805504261, 0.14479771120519042, 0.07239885560259521, 0.5791908448207617, 0.07239885560259521, 0.07239885560259521, 0.10930736832511712, 0.16396105248767567, 0.10930736832511712, 0.05465368416255856, 0.05465368416255856, 0.05465368416255856, 0.32792210497535135, 0.05465368416255856, 0.05465368416255856, 0.05465368416255856, 0.39771131380369096, 0.4971391422546137, 0.7597418162306074, 0.36731789559974326, 0.693040840713522, 0.7559736412319027, 0.1609611265190941, 0.15666882981191826, 0.09013823085069271, 0.10301512097222024, 0.08584593414351686, 0.15237653310474245, 0.060092153900461805, 0.08799208249710479, 0.05150756048611012, 0.05150756048611012, 0.3916865055298428, 0.7324083102747428, 0.7563834193993471, 0.7414968305525926, 0.5440046213952638, 0.1938483961783646, 0.5815451885350938, 0.6247249797775762, 0.20824165992585875, 0.7740193164986359, 0.6234912257987983, 0.5622078372886496, 0.21781096166497443, 0.12187041902683093, 0.14952895384143086, 0.09939785948996849, 0.08989023814744977, 0.0959405426381435, 0.08211127523084354, 0.06568902018467483, 0.043216460647812385, 0.035437497731206156, 0.10837713843063293, 0.4335085537225317, 0.10837713843063293, 0.21675427686126586, 0.7411091468160805, 0.854692072268665, 0.7692564675519107, 0.6185864004137424, 0.40324932290856774, 0.3031900075172093, 0.3031900075172093, 0.3031900075172093, 0.7083702859067192, 0.43291900563362046, 0.618091911618585, 0.15280320733171157, 0.20373760977561542, 0.10186880488780771, 0.050934402443903855, 0.10186880488780771, 0.050934402443903855, 0.050934402443903855, 0.2546720122195193, 0.2242416618660184, 0.2242416618660184, 0.1121208309330092, 0.33636249279902763, 0.051057087862059675, 0.10211417572411935, 0.051057087862059675, 0.10211417572411935, 0.051057087862059675, 0.051057087862059675, 0.15317126358617902, 0.3573996150344177, 0.051057087862059675, 0.051057087862059675, 0.1231763906669757, 0.1231763906669757, 0.4927055626679028, 0.1231763906669757, 0.1231763906669757, 0.1841919120392308, 0.5525757361176924, 0.24286123139552918, 0.16760845547015393, 0.12656148678358561, 0.07525277592537524, 0.06841161447761385, 0.07354248556343489, 0.06328074339179281, 0.058149872305971774, 0.07354248556343489, 0.051308710858210385, 0.6539462302974319, 0.39533842936844027, 0.18257689127231375, 0.5477306738169412, 0.2050729324107116, 0.1431300818585025, 0.14643770980061077, 0.054124820870862296, 0.0748726688713595, 0.07577474921920721, 0.1280954093943741, 0.0691594933349907, 0.06555117194359988, 0.037887374609603605, 0.22271253618526407, 0.13236688471388336, 0.09874989811988123, 0.18279236460488654, 0.08614352814713044, 0.07984034316075504, 0.05042547989100318, 0.04832441822887805, 0.06303184986375399, 0.03151592493187699, 0.6234353169933147, 0.2867253062497968, 0.12766601227180735, 0.0718557336830391, 0.1395256964719206, 0.09976087297742323, 0.047438736800453005, 0.06208893493000467, 0.07534387609483713, 0.0467411083180934, 0.04185770894157618, 0.22474756899270953, 0.12472255202342672, 0.09508550995845404, 0.08644137268950366, 0.10372964722740441, 0.0777972354205533, 0.11113890774364757, 0.0790321121732605, 0.04939507010828781, 0.04816019335558062, 0.605655799180355, 0.7567476014405431, 0.35250890112140304, 0.09625243044804267, 0.1337533773758515, 0.09250233575526179, 0.04750119944189119, 0.07125179916283679, 0.07250183072709708, 0.041251041620589714, 0.057501451955973545, 0.03625091536354854, 0.3134250604017053, 0.26598802901017576, 0.09031221450112945, 0.09649798261764517, 0.09526082899434202, 0.13113828407013317, 0.12247820870701118, 0.06928060290497602, 0.056909066671944585, 0.040826069569003726, 0.032165994205881725, 0.7306267052264783, 0.283458945235758, 0.1171804877533503, 0.08772170591591587, 0.1374743152413607, 0.04909796972905739, 0.086412426723141, 0.026840223451884707, 0.14074751322329784, 0.036005177801308755, 0.036005177801308755, 0.40828576841893, 0.40828576841893, 0.6054522380144085, 0.3659827213354545, 0.10869411648684552, 0.14584273857728638, 0.07567311907312028, 0.05365912079730348, 0.07429724418088174, 0.06191437015073478, 0.06741786971968898, 0.017886373599101158, 0.030269247629248118, 0.7461083751689769, 0.6234859518799654, 0.29796051148413333, 0.08171216242916675, 0.14856756805303045, 0.08171216242916675, 0.10317192225904892, 0.09161666696603545, 0.03961801814747479, 0.06850615638000848, 0.05364939957470544, 0.033015015122895654, 0.2650624540398166, 0.09623806023599495, 0.10520940483426566, 0.11254959586921444, 0.10847171196090956, 0.13620132253738268, 0.05545922115294624, 0.06769287287786085, 0.02936076413979507, 0.024467303449829225, 0.5008951232778093, 0.5617636384794028, 0.26980279274640523, 0.10456471871989868, 0.09294641663990995, 0.08520088191991745, 0.059382432853275796, 0.1484560821331895, 0.07229165738659662, 0.06970981247993246, 0.06196427775993996, 0.03614582869329831, 0.7592520231547201, 0.6053670229694365, 0.12008260729884591, 0.33451583461821366, 0.06861863274219766, 0.08577329092774709, 0.13723726548439533, 0.06004130364942296, 0.042886645463873545, 0.09435062002052179, 0.025731987278324125, 0.025731987278324125, 0.5074165851154911, 0.6233425235412364, 0.5497159349225118, 0.562367419646096, 0.281183709823048, 0.19367811643482916, 0.08300490704349821, 0.055336604695665474, 0.055336604695665474, 0.13834151173916368, 0.08300490704349821, 0.055336604695665474, 0.055336604695665474, 0.055336604695665474, 0.2213464187826619, 0.2895741368502018, 0.09266372379206457, 0.11119646855047749, 0.08571394450765973, 0.07876416522325488, 0.09034713069726297, 0.07644757212845328, 0.10656328236087426, 0.02895741368502018, 0.03938208261162744, 0.3778116652915559, 0.7403119688472578, 0.38324467100474735, 0.19909699027072317, 0.12597729915359918, 0.13566786062695296, 0.1065961762068916, 0.11452481741236288, 0.09250081406383157, 0.07664353165288901, 0.07135777084924148, 0.03876224589341513, 0.03788128575947388, 0.6015080768939348, 0.10025134614898913, 0.10025134614898913, 0.10025134614898913, 0.10025134614898913, 0.5761040286761651, 0.272628524937218, 0.545257049874436, 0.07298764654308834, 0.07298764654308834, 0.14597529308617668, 0.43792587925853, 0.07298764654308834, 0.07298764654308834, 0.6180255154875179, 0.2829342992620269, 0.09538315391788027, 0.1543277995974692, 0.1264630580034817, 0.05144259986582307, 0.060016366510126914, 0.06751841232389277, 0.05572948318797499, 0.06644669149335479, 0.039653670729905284, 0.6493799847473379, 0.18775804910569507, 0.06258601636856502, 0.06258601636856502, 0.06258601636856502, 0.37551609821139015, 0.06258601636856502, 0.06258601636856502, 0.06258601636856502, 0.904240306406074, 0.5758128982954461, 0.19052053905928953, 0.11585708456308148, 0.07723805637538765, 0.12358089020062024, 0.09783487140882437, 0.09783487140882437, 0.14675230711323653, 0.07723805637538765, 0.04119363006687342, 0.03604442630851424, 0.7814627812088029, 0.6900259028939406, 0.524493344839014, 0.262246672419507, 0.24705894957674882, 0.11951877755498563, 0.11951877755498563, 0.07941180522109784, 0.15481291320880688, 0.0818182235611311, 0.068983992414287, 0.04893050624734311, 0.037700553993854524, 0.04251339067392106, 0.8349206111333968, 0.056003702104865404, 0.11200740420973081, 0.0840055531572981, 0.1680111063145962, 0.3360222126291924, 0.056003702104865404, 0.056003702104865404, 0.056003702104865404, 0.028001851052432702, 0.028001851052432702, 0.32214275486136995, 0.6442855097227399, 0.6691360526736061, 0.14652741945308248, 0.5861096778123299, 0.14652741945308248, 0.18755755775734986, 0.20417658186243148, 0.10208829093121574, 0.12820390023920117, 0.10683658353266763, 0.07834682792395627, 0.04036048711234111, 0.06885024272105247, 0.03798634081161516, 0.042734633413067054, 0.4357826193338016, 0.7652850103801874, 0.7341963452075053, 0.2840993405296237, 0.09398235759944623, 0.14133224768771685, 0.076046793172071, 0.07532937059497599, 0.07532937059497599, 0.10617854141006139, 0.06600287709274086, 0.0459150449340806, 0.03587112885475047, 0.21502893628203704, 0.1562710292747362, 0.16502220691412145, 0.07751043052026917, 0.06250841170989449, 0.0975131222674354, 0.04750639289951981, 0.09501278579903961, 0.04750639289951981, 0.036254878791738804, 0.3036347176182137, 0.11784634584786116, 0.11965011644757333, 0.101011153583881, 0.12626394197985125, 0.060726943523642746, 0.06253071412335491, 0.04569552185937474, 0.030664100195106733, 0.031866613928248175, 0.7352950889669025, 0.2490396573089939, 0.10357256775934794, 0.1233560919380998, 0.0942626740281706, 0.10357256775934794, 0.1233560919380998, 0.0686604662674329, 0.05004067880507822, 0.06749672955103574, 0.015128577313163182, 0.687232840290561, 0.6491757038905219, 0.5142027076604543, 0.7271086507800236, 0.6190782270328347, 0.5465749875758318, 0.13664374689395795, 0.13664374689395795, 0.5621935449677185, 0.16248100191926249, 0.19283459568439942, 0.10534482542018117, 0.10534482542018117, 0.06963471510825535, 0.09284628681100712, 0.09284628681100712, 0.09106078129541084, 0.06606370407706276, 0.024997077218348072, 0.7563482206317264, 0.3762617126095175, 0.39892765619099446, 0.854342350108131, 0.2712402244762192, 0.15097034664545692, 0.09400040451509581, 0.09494990355060183, 0.07659292219748548, 0.10476139358416402, 0.05412144502384304, 0.04969044952481495, 0.05823594084436912, 0.04557595370428888, 0.42549364628049724, 0.33293777919797846, 0.05832486642884294, 0.08505709687539596, 0.20656723526881876, 0.051034258125237576, 0.05832486642884294, 0.04860405535736912, 0.07047588026818521, 0.04374364982163221, 0.04374364982163221, 0.2459628236399192, 0.17134488837837067, 0.20450841516128113, 0.052508917406274884, 0.0649452399498663, 0.09603604630884485, 0.040763501670660764, 0.05043619698234298, 0.03869078124672886, 0.03454534039886505, 0.2220293707328834, 0.16868898136762614, 0.14401905128619463, 0.060007938035914435, 0.08867839731974021, 0.07467654511136018, 0.054673899099388704, 0.07667680971255733, 0.06934250617483445, 0.04133880175807439, 0.9096950641841494, 0.7324447699514584, 0.3949165059247522, 0.09057718025797068, 0.15035811922823134, 0.06521556978573889, 0.07608483141669538, 0.06340402618057948, 0.05072322094446358, 0.052534764549623, 0.02898469768255062, 0.027173154077391206, 0.6969549790356123, 0.6183806049011635, 0.3216941313777831, 0.6433882627555662, 0.21978313692493473, 0.10989156846246736, 0.07444267541005854, 0.19142402248300766, 0.056718228883854124, 0.04253867166289059, 0.03544889305240883, 0.056718228883854124, 0.03544889305240883, 0.17724446526204413, 0.7424286975970293, 0.42621331252209393, 0.09009387093962962, 0.0658378287635755, 0.06237267988128204, 0.06930297764586893, 0.05890753099898859, 0.10048931758650996, 0.03118633994064102, 0.05544238211669515, 0.04158178658752136, 0.6055301178789553, 0.618367198733388, 0.6571117365938162, 0.2577754374016269, 0.08140276970577691, 0.12753100587238383, 0.10582360061750999, 0.1790860933527092, 0.07326249273519922, 0.04612823616660692, 0.0624087901077623, 0.03527453353917, 0.027134256568592304, 0.5843505462837214, 0.038956703085581426, 0.07791340617116285, 0.038956703085581426, 0.07791340617116285, 0.07791340617116285, 0.038956703085581426, 0.038956703085581426, 0.038956703085581426, 0.038956703085581426, 0.3768607822431192, 0.2794159434720198, 0.1244218577801615, 0.11375712711329052, 0.12655480391353569, 0.05972249173447752, 0.08460686329050982, 0.08745079146834209, 0.05261267128989686, 0.03910401244519361, 0.03341615608952909, 0.6235195637718929, 0.35694167895130663, 0.12362370344167205, 0.0940236617725393, 0.09924719853768038, 0.050494188729697034, 0.08880012500739823, 0.07835305147711609, 0.04352947304284227, 0.02611768382570536, 0.04352947304284227, 0.7672470596537002, 0.5936520021252376, 0.5231061476923197, 0.15754900466458366, 0.06430571618962598, 0.12861143237925196, 0.15754900466458366, 0.20577829180680313, 0.06430571618962598, 0.04822928714221949, 0.07716685942755118, 0.04179871552325689, 0.05465985876118208, 0.37185136713986955, 0.5622057758521554, 0.20014521800738205, 0.10595923306273167, 0.09418598494465037, 0.08241273682656908, 0.11773248118081296, 0.07063948870848778, 0.09418598494465037, 0.05886624059040648, 0.15305222553505685, 0.023546496236162593, 0.30916519890424987, 0.30916519890424987, 0.6186078925040033, 0.6184285035082745, 0.339939069756274, 0.15230245060764966, 0.12671563890556453, 0.09503672917917338, 0.07797885471111662, 0.06944991747708824, 0.07066833708194944, 0.04142626656528071, 0.008528937234028382, 0.01827629407291796, 0.25325977071537703, 0.17612370595046925, 0.08085083275641888, 0.10379498799810533, 0.10335795646969226, 0.12127624913462833, 0.05681409869369976, 0.03649213262249177, 0.03867729026455714, 0.02949962816788257, 0.380903063966021, 0.0956770729393323, 0.1371973121394199, 0.03971501140877944, 0.10650843968718124, 0.07762479502625073, 0.05776728932186101, 0.05596206153055285, 0.023467961287006036, 0.023467961287006036, 0.5620549593240941, 0.7454531376650533, 0.6234639324108635, 0.5009722078929667, 0.1262648123236907, 0.05199139330975499, 0.29461789542194494, 0.1262648123236907, 0.07179763838013783, 0.0569429545773507, 0.06932185774633998, 0.10150700598571212, 0.06684607711254212, 0.03218514823937214, 0.25066356926181954, 0.03759953538927293, 0.26737447387927415, 0.0710213446241822, 0.05431044000672757, 0.0710213446241822, 0.09608770155036415, 0.06266589231545489, 0.04595498769800025, 0.04177726154363659, 0.6528972577084747, 0.14707113735518837, 0.14707113735518837, 0.049023712451729456, 0.049023712451729456, 0.049023712451729456, 0.09804742490345891, 0.34316598716210617, 0.049023712451729456, 0.049023712451729456, 0.6056617672875744, 0.6538523010170846, 0.6055825412200753, 0.544996284114607, 0.8173691977673433, 0.618247453756576, 0.2980416102857852, 0.07334008211220892, 0.14199888238746836, 0.06397751843830991, 0.14668016422441785, 0.1092299095288218, 0.048373245648478225, 0.06709837299627625, 0.02340640918474753, 0.028087691021697034, 0.22615113686965493, 0.05592985105378563, 0.10942796945305884, 0.13617702865269546, 0.07295197963537256, 0.13617702865269546, 0.13374529599818302, 0.038907722472198696, 0.029180791854149023, 0.06079331636281047, 0.3692724660681019, 0.2882084898329457, 0.5764169796658914, 0.6056608662372538, 0.6234808688973125, 0.22727426694987063, 0.20813538131198678, 0.10207405673538049, 0.1315798387604514, 0.06339755867549023, 0.057017930129528945, 0.10446641744011598, 0.039473951628135426, 0.037081590923399944, 0.028708328456825763, 0.23276636645303705, 0.08952552555886041, 0.24619519528686612, 0.13428828833829062, 0.044762762779430205, 0.09400180183680343, 0.06266786789120228, 0.044762762779430205, 0.022381381389715103, 0.03133393394560114, 0.2717897293429555, 0.15341441168487382, 0.10606428462164116, 0.10606428462164116, 0.08428322617255414, 0.07954821346623088, 0.07954821346623088, 0.06818418297105504, 0.028410076237939598, 0.021781058449087027, 0.28873786896531417, 0.5774757379306283, 0.5009529426779354, 0.09432306063465991, 0.09432306063465991, 0.18864612126931982, 0.09432306063465991, 0.37729224253863963, 0.09432306063465991, 0.3808660759945568, 0.6223527133869513, 0.40602801215556505, 0.16149030404363265, 0.16149030404363265, 0.16149030404363265, 0.484470912130898, 0.6679461263172655, 0.5538921111581541, 0.7571682841346459, 0.6946346559022358, 0.6056689741213733, 0.212960302051054, 0.11602664732436736, 0.11162057210951797, 0.06315374474617465, 0.14466613622088842, 0.11455795558608424, 0.0939962712501204, 0.05434159431647585, 0.04993551910162646, 0.037451639326219845, 0.6056637658225495, 0.7385543664869801, 0.2640854285719323, 0.10823173302128372, 0.06277440515234456, 0.08658538641702698, 0.1277134449651148, 0.07576221311489861, 0.07576221311489861, 0.12338417564426345, 0.032469519906385115, 0.04545732786893916, 0.6056353102308761, 0.20787104011001462, 0.06521444395608302, 0.25881982445070445, 0.04483493021980707, 0.1059734714286349, 0.05706263846157264, 0.06929034670333821, 0.09578371456049693, 0.06113854120882783, 0.034645173351669105, 0.39920638995590796, 0.19651675406133406, 0.09357940669587336, 0.04678970334793668, 0.09357940669587336, 0.1029373473654607, 0.08422146602628602, 0.09357940669587336, 0.06550558468711136, 0.14972705071339737, 0.07486352535669868, 0.6889027111428648, 0.2422456737745977, 0.1202387285888514, 0.11139764560437704, 0.05481471450374108, 0.14853019413916937, 0.08487439665095393, 0.0866426132478488, 0.0335961153410026, 0.0937154796354283, 0.022986815759633357, 0.7588130635204516, 0.23921275076836662, 0.13175389788413944, 0.09531133038427109, 0.07381955980742565, 0.05886876288440273, 0.11680310096111653, 0.06821301096129205, 0.1046555784611604, 0.07195071019204778, 0.038311417115246216, 0.5623197261561849, 0.653329673704693, 0.4029390709322042, 0.06499017273100068, 0.11512544883777263, 0.04456468987268618, 0.11512544883777263, 0.11141172468171545, 0.0612764485749435, 0.03899410363860041, 0.02599606909240027, 0.0204254828583145, 0.5836001822577392, 0.6235020511229129, 0.21522358523925125, 0.4304471704785025, 0.6055451665425301, 0.1535293629103706, 0.6141174516414823, 0.26888953932088966, 0.5377790786417793, 0.7382647300360986, 0.2537372178043511, 0.1172735040272211, 0.13646371377713, 0.09701717151342837, 0.0906204349301254, 0.06503348859691352, 0.09595104874954453, 0.04797552437477227, 0.05543838372195907, 0.04051266502758547, 0.2792137877723148, 0.10219589617810215, 0.09854604274316994, 0.14234428396235657, 0.14051935724489048, 0.08942140915583939, 0.0364985343493222, 0.03467360763185609, 0.04379824121918664, 0.03467360763185609, 0.19924053446282444, 0.13868703869471113, 0.13868703869471113, 0.10548028295090706, 0.08399355864609266, 0.08204022007292772, 0.08008688149976277, 0.05078680290228858, 0.04102011003646386, 0.07813354292659781, 0.25796938852965634, 0.11971341107050887, 0.11873748652373842, 0.13012327290272704, 0.0907609828496521, 0.05790485644171353, 0.07807396374163622, 0.06408571190459307, 0.053350541890118085, 0.0296030445853704, 0.1788432603658269, 0.3576865207316538, 0.7625491049584275, 0.1525098209916855, 0.2557956550118695, 0.12789782750593476, 0.12789782750593476, 0.2557956550118695, 0.7555749342592779, 0.7412321515488283, 0.23494374547689892, 0.19253926458594642, 0.09283143113965274, 0.1100224369062551, 0.1146067051106824, 0.0573033525553412, 0.08939322998633227, 0.05386515140202073, 0.03323594448209789, 0.01948313986881601, 0.5010337001864819, 0.12069846256001679, 0.12069846256001679, 0.12069846256001679, 0.12069846256001679, 0.36209538768005034, 0.7305156305207345, 0.23816906808205843, 0.08525370050664592, 0.15968153428228918, 0.05412933365501328, 0.10961190065140189, 0.14208950084440986, 0.05683580033776394, 0.039243766899884625, 0.05006963363088728, 0.06630843372739127, 0.380838705847323, 0.7135963710258885, 0.2097130948341361, 0.10676303009737838, 0.17666739504209042, 0.08007227257303379, 0.1080340185509186, 0.09786611092259685, 0.05465250350222941, 0.07625930721241313, 0.040671630513287, 0.049568549688068536, 0.39668989964697643, 0.39668989964697643, 0.6579379084814103, 0.07310421205349003, 0.07310421205349003, 0.07310421205349003, 0.07310421205349003, 0.07310421205349003, 0.07310421205349003, 0.8225717002434787, 0.5760894050967164, 0.30884449293561617, 0.10166930512787364, 0.09783272757587841, 0.10358759390387126, 0.059466952055926094, 0.0364474867439547, 0.08632299491989272, 0.061385240831923704, 0.09207786124788556, 0.05179379695193563, 0.5622997953478547, 0.29855151630944415, 0.09477825914585529, 0.12050378662830172, 0.08665440836192484, 0.06905273166340885, 0.15909207785197138, 0.026402515047773974, 0.054835992791530556, 0.03858829122366965, 0.05145105496489287, 0.14536302065118156, 0.14245576023815792, 0.09012507280373257, 0.14536302065118156, 0.1221049373469925, 0.04942342702140173, 0.14245576023815792, 0.043608906195354465, 0.06686698949954352, 0.05523794784744899, 0.35464894764118315, 0.11549086767565908, 0.08993979075626547, 0.0930059199865927, 0.10833656613822887, 0.04905806768523571, 0.07358710152785357, 0.04394785230135699, 0.038837636917478276, 0.03270537845682381, 0.2896582621122098, 0.2896582621122098, 0.5762276326602404, 0.5762146617726323, 0.5232787501396559, 0.7282375802209171, 0.6184606881384749, 0.19424834845993522, 0.14628579328464256, 0.15348017656093646, 0.06235132172788044, 0.11750826017946697, 0.11750826017946697, 0.04076817189899875, 0.04556442741652801, 0.08393447155676212, 0.038370044140234115, 0.6055246375640855, 0.37256269222771465, 0.14902507689108588, 0.09314067305692866, 0.06581940896022959, 0.047191274348843855, 0.0534006525526391, 0.09935005126072391, 0.049675025630361955, 0.028563139737458124, 0.03974002050428956, 0.19502285236354536, 0.1630699556486142, 0.11238605051458547, 0.10357145831736307, 0.09585869014479349, 0.0782295057503487, 0.0892477459968767, 0.0793313297750015, 0.05068390513402874, 0.031952896714931164, 0.6234111944168439, 0.235261316739137, 0.235261316739137, 0.470522633478274, 0.818634293505783, 0.5009237578726096, 0.28990485415306466, 0.053315835246540634, 0.13328958811635158, 0.10996391019599006, 0.06664479405817579, 0.20993110128325373, 0.03665463673199668, 0.06997703376108458, 0.016661198514543948, 0.016661198514543948, 0.5009616990076878, 0.3286120017370467, 0.09059863599292409, 0.1090254772118239, 0.0798496452818992, 0.06295837416457437, 0.07524293497717424, 0.06449394426614935, 0.0798496452818992, 0.0399248226409496, 0.07063622467244929, 0.2616688610481489, 0.10405545351622295, 0.12853908963768718, 0.07192068110680115, 0.09946477174344841, 0.08110204465235024, 0.04896727224292845, 0.10864613528899748, 0.05661840853088602, 0.038255681439787845, 0.14968891095398645, 0.1384109793067683, 0.14558784490045257, 0.12918358068631708, 0.11585511601233198, 0.08612238712421139, 0.07074338942345935, 0.0758697219903767, 0.059465457776241196, 0.029732728888120598, 0.21401545541499525, 0.4280309108299905, 0.7545031105935184, 0.2752663010159621, 0.13221703115928735, 0.13189843590348185, 0.0841091475326551, 0.09111824316037635, 0.06340045590529683, 0.08283476650943304, 0.05416119348693699, 0.05575416976596455, 0.028992168278301565, 0.741528410233763, 0.41113231395524336, 0.2882664516728049, 0.10942359185947288, 0.09530441871631509, 0.12942575381227975, 0.050593703762982084, 0.0741256590015784, 0.089421429906666, 0.04000432390561374, 0.0588298880964908, 0.06471287690613987, 0.20693490136636902, 0.16486571812155773, 0.10233044573062204, 0.12507054478187138, 0.09891943087293463, 0.03865816838712388, 0.0693573021063105, 0.10119344077805957, 0.03865816838712388, 0.05457623772299842, 0.8184084702103884, 0.37884576489661925, 0.06525572983865212, 0.1051342314067173, 0.1250734821907499, 0.08519498062268471, 0.06706838900083689, 0.029002546594956498, 0.059817752352097776, 0.04169116073024996, 0.04169116073024996, 0.6233789405011522, 0.18718307322926253, 0.09804827645342323, 0.14261567484134288, 0.14261567484134288, 0.0772501572057274, 0.17232727376662266, 0.05645203795803156, 0.04456739838791965, 0.032682758817807744, 0.047538558280447625, 0.5009431409647099, 0.5623133843271034, 0.6041037789313447, 0.08630053984733496, 0.08630053984733496, 0.08630053984733496, 0.3255968131123668, 0.1361039796151002, 0.0721877460941968, 0.10076206225648303, 0.09324250537167086, 0.04135756286646692, 0.0676760119633095, 0.08045925866749018, 0.05263689819368517, 0.030830183227729884, 0.5014875619510403, 0.25074378097552014, 0.14532065901411578, 0.14532065901411578, 0.14532065901411578, 0.5812826360564631, 0.5622912452427526, 0.5761829232762959, 0.29014223162196034, 0.14507111581098017, 0.14507111581098017, 0.43521334743294054, 0.5621921325904099, 0.5368018119459539, 0.21164585819958012, 0.14367603950885333, 0.11273043099925416, 0.1392552382931963, 0.059680816411369846, 0.09228422537684042, 0.07570622081812657, 0.07018021929855528, 0.037024210181127594, 0.057470415803541335, 0.3691896447118042, 0.6181822828300668, 0.5416335281500302, 0.744060714073414, 0.1860151785183535, 0.6055851020889508, 0.549216057483864, 0.7283844120316435, 0.16379935918442734, 0.08189967959221367, 0.16379935918442734, 0.040949839796106835, 0.20474919898053417, 0.040949839796106835, 0.28664887857274784, 0.7820148357426919, 0.26517295201015745, 0.11612746519065514, 0.1380728129432199, 0.09235333845871, 0.06492165376800406, 0.053948979891721684, 0.09235333845871, 0.06857921172676484, 0.07680871713397663, 0.032918021628847126, 0.42207852006589436, 0.1022221415784588, 0.0758422340743404, 0.0857346993883848, 0.06265228032228119, 0.0362723728181628, 0.0758422340743404, 0.052759815008236795, 0.046164838132207196, 0.0362723728181628, 0.7558886958590735, 0.17743270102633138, 0.12921729313874133, 0.11378836261471252, 0.0954665076174283, 0.12825298498098953, 0.07521603630464048, 0.0829305015666549, 0.11764559524571973, 0.034715093679064835, 0.04628679157208645, 0.6056448986145896, 0.2538524345596229, 0.14096276366134355, 0.10393017320793974, 0.13857356427725298, 0.08840037721135104, 0.04778398768181137, 0.07466248075283027, 0.06331378367840007, 0.04420018860567552, 0.04420018860567552, 0.5622418668518167, 0.25452542208514123, 0.09778769622344663, 0.10611005334884635, 0.10957770215109623, 0.09986828550479657, 0.09640063670254669, 0.0728206248472475, 0.06519179748229775, 0.05756297011734802, 0.04022472610609862, 0.2084877899091714, 0.09402390525315574, 0.2452797528343193, 0.0694959299697238, 0.04905595056686386, 0.0694959299697238, 0.07767192173086779, 0.08175991761143978, 0.05723194232800784, 0.04905595056686386, 0.6830863307754265, 0.22769544359180882, 0.1731463418805205, 0.16665335406000098, 0.1017234758548058, 0.19587179925233883, 0.07466935993597447, 0.10713429903857206, 0.0508617379274029, 0.06492987820519519, 0.029218445192337836, 0.036793597649610606, 0.16769385544129858, 0.22359180725506478, 0.09937413655780657, 0.12421767069725821, 0.05279251004633474, 0.10869046186010094, 0.06831971888349202, 0.07763604418578639, 0.04658162651147183, 0.027948975906883097, 0.2862758970498987, 0.1400486402834037, 0.12013976494899825, 0.1211695343628468, 0.06590524248630761, 0.0401610071400937, 0.06281593424476195, 0.07242711544068181, 0.037071698898548035, 0.05389126599140779, 0.8254634815790048, 0.3169323212714864, 0.3169323212714864, 0.23803140047659607, 0.0946715797350098, 0.062212752397292154, 0.11901570023829804, 0.11090099340386862, 0.062212752397292154, 0.13524511390715685, 0.062212752397292154, 0.0730323615098647, 0.040573534172147055, 0.2659323909148192, 0.1710676198867258, 0.062206407231536656, 0.1601814986212069, 0.04820996560444091, 0.07309252849705557, 0.04509964524286408, 0.1135266931975544, 0.03265836379655675, 0.031103203615768328, 0.6177336750304496, 0.7187611948940384, 0.9065598591250374, 0.5761200202249512, 0.175678373492696, 0.175678373492696, 0.175678373492696, 0.527035120478088, 0.21738350128230055, 0.05016542337283859, 0.342797059714397, 0.08360903895473097, 0.10033084674567717, 0.06688723116378478, 0.025082711686419294, 0.06688723116378478, 0.041804519477365486, 0.016721807790946196, 0.7213315312553775, 0.6629279647919082], \"Term\": [\"accolades\", \"admission\", \"admission\", \"admission\", \"admission\", \"admission\", \"admission\", \"admission\", \"adrienne\", \"adrienne\", \"ajisen\", \"ajitama\", \"alethea\", \"alethea\", \"ali\", \"ali\", \"allegro\", \"also\", \"also\", \"also\", \"also\", \"also\", \"also\", \"also\", \"also\", \"also\", \"also\", \"always\", \"always\", \"always\", \"always\", \"always\", \"always\", \"always\", \"always\", \"always\", \"always\", \"amazing\", \"amazing\", \"amazing\", \"amazing\", \"amazing\", \"amazing\", \"amazing\", \"amazing\", \"amazing\", \"amazing\", \"ammo\", \"amura\", \"ancestors\", \"anchovy\", \"anu\", \"apollos\", \"apollos\", \"apollos\", \"appointment\", \"appointment\", \"appointment\", \"appointment\", \"appointment\", \"appointment\", \"appointment\", \"appointment\", \"appointment\", \"appointment\", \"apptmt\", \"area\", \"area\", \"area\", \"area\", \"area\", \"area\", \"area\", \"area\", \"area\", \"area\", \"arista\", \"arista\", \"armadillo\", \"aromatic\", \"aromatic\", \"around\", \"around\", \"around\", \"around\", \"around\", \"around\", \"around\", \"around\", \"around\", \"around\", \"arrangement\", \"arrangement\", \"arrangement\", \"arrangement\", \"arrangement\", \"arrangement\", \"arrangement\", \"asha\", \"ashiatsu\", \"asked\", \"asked\", \"asked\", \"asked\", \"asked\", \"asked\", \"asked\", \"asked\", \"asked\", \"asked\", \"augustjust\", \"austins\", \"austins\", \"austins\", \"austins\", \"austins\", \"austins\", \"avis\", \"awesome\", \"awesome\", \"awesome\", \"awesome\", \"awesome\", \"awesome\", \"awesome\", \"awesome\", \"awesome\", \"awesome\", \"awesomehad\", \"babes\", \"bacc\", \"back\", \"back\", \"back\", \"back\", \"back\", \"back\", \"back\", \"back\", \"back\", \"back\", \"bacon\", \"bacon\", \"bacon\", \"bacon\", \"bacon\", \"bacon\", \"bacon\", \"bacon\", \"bacon\", \"bacon\", \"bad\", \"bad\", \"bad\", \"bad\", \"bad\", \"bad\", \"bad\", \"bad\", \"bad\", \"bad\", \"balloon\", \"balloon\", \"balloon\", \"balloon\", \"bambu\", \"bar\", \"bar\", \"bar\", \"bar\", \"bar\", \"bar\", \"bar\", \"bar\", \"bar\", \"bar\", \"barbeque\", \"barbeque\", \"barbeque\", \"barbeque\", \"barbeque\", \"barbeque\", \"barta\", \"bartender\", \"bartender\", \"bartender\", \"bartender\", \"bartender\", \"bartender\", \"bartender\", \"bartender\", \"bartender\", \"bartender\", \"bartletts\", \"bash\", \"beale\", \"beefs\", \"beezneez\", \"beignets\", \"beignets\", \"beignets\", \"beignets\", \"beignets\", \"berk\", \"best\", \"best\", \"best\", \"best\", \"best\", \"best\", \"best\", \"best\", \"best\", \"best\", \"better\", \"better\", \"better\", \"better\", \"better\", \"better\", \"better\", \"better\", \"better\", \"better\", \"bickfords\", \"big\", \"big\", \"big\", \"big\", \"big\", \"big\", \"big\", \"big\", \"big\", \"big\", \"bingo\", \"bingo\", \"bingo\", \"bingo\", \"birth\", \"birth\", \"birth\", \"birth\", \"bjs\", \"bjs\", \"bjs\", \"bjs\", \"blenz\", \"blistering\", \"boatload\", \"bookshelf\", \"bookshelf\", \"bouquet\", \"bouquet\", \"bouquet\", \"bouquet\", \"bourbons\", \"bowl\", \"bowl\", \"bowl\", \"bowl\", \"bowl\", \"bowl\", \"bowl\", \"bowl\", \"bowl\", \"bowl\", \"breadcant\", \"brunswick\", \"brunswick\", \"brunswick\", \"bukowski\", \"bulkhead\", \"burger\", \"burger\", \"burger\", \"burger\", \"burger\", \"burger\", \"burger\", \"burger\", \"burger\", \"burger\", \"butchers\", \"butchers\", \"californian\", \"came\", \"came\", \"came\", \"came\", \"came\", \"came\", \"came\", \"came\", \"came\", \"came\", \"cant\", \"cant\", \"cant\", \"cant\", \"cant\", \"cant\", \"cant\", \"cant\", \"cant\", \"cant\", \"cards\", \"cards\", \"cards\", \"cards\", \"cards\", \"cards\", \"cards\", \"cards\", \"cards\", \"cards\", \"causa\", \"cello\", \"centerville\", \"chadwick\", \"chadwick\", \"chambers\", \"chambers\", \"chambers\", \"chambers\", \"champion\", \"champion\", \"cheese\", \"cheese\", \"cheese\", \"cheese\", \"cheese\", \"cheese\", \"cheese\", \"cheese\", \"cheese\", \"cheese\", \"cheryls\", \"chicken\", \"chicken\", \"chicken\", \"chicken\", \"chicken\", \"chicken\", \"chicken\", \"chicken\", \"chicken\", \"chicken\", \"chili\", \"chili\", \"chili\", \"chili\", \"chili\", \"chili\", \"chili\", \"chili\", \"chili\", \"chili\", \"chineese\", \"chuan\", \"cites\", \"clarence\", \"clean\", \"clean\", \"clean\", \"clean\", \"clean\", \"clean\", \"clean\", \"clean\", \"clean\", \"clean\", \"clover\", \"cnn\", \"coffee\", \"coffee\", \"coffee\", \"coffee\", \"coffee\", \"coffee\", \"coffee\", \"coffee\", \"coffee\", \"coffee\", \"come\", \"come\", \"come\", \"come\", \"come\", \"come\", \"come\", \"come\", \"come\", \"come\", \"coming\", \"coming\", \"coming\", \"coming\", \"coming\", \"coming\", \"coming\", \"coming\", \"coming\", \"coming\", \"companies\", \"companies\", \"companies\", \"companies\", \"companies\", \"companies\", \"companies\", \"companies\", \"companies\", \"companies\", \"composition\", \"compressor\", \"connections\", \"consign\", \"contacting\", \"contacting\", \"coppersmith\", \"corals\", \"cory\", \"could\", \"could\", \"could\", \"could\", \"could\", \"could\", \"could\", \"could\", \"could\", \"could\", \"counterfeit\", \"counterfeit\", \"crayeres\", \"crayon\", \"creame\", \"credit\", \"credit\", \"credit\", \"credit\", \"credit\", \"credit\", \"credit\", \"credit\", \"credit\", \"credit\", \"crowleys\", \"cruises\", \"curl\", \"curl\", \"curl\", \"curtis\", \"curtis\", \"customer\", \"customer\", \"customer\", \"customer\", \"customer\", \"customer\", \"customer\", \"customer\", \"customer\", \"customer\", \"customers\", \"customers\", \"customers\", \"customers\", \"customers\", \"customers\", \"customers\", \"customers\", \"customers\", \"customers\", \"cynthia\", \"daby\", \"dalia\", \"darrin\", \"day\", \"day\", \"day\", \"day\", \"day\", \"day\", \"day\", \"day\", \"day\", \"day\", \"daym\", \"daym\", \"db\", \"dba\", \"debt\", \"decarli\", \"definitely\", \"definitely\", \"definitely\", \"definitely\", \"definitely\", \"definitely\", \"definitely\", \"definitely\", \"definitely\", \"definitely\", \"defintely\", \"deidre\", \"deleon\", \"delicious\", \"delicious\", \"delicious\", \"delicious\", \"delicious\", \"delicious\", \"delicious\", \"delicious\", \"delicious\", \"delicious\", \"delta\", \"delta\", \"delta\", \"delta\", \"delta\", \"delta\", \"delta\", \"delta\", \"der\", \"derek\", \"derek\", \"dessa\", \"dessa\", \"dewey\", \"different\", \"different\", \"different\", \"different\", \"different\", \"different\", \"different\", \"different\", \"different\", \"different\", \"dinner\", \"dinner\", \"dinner\", \"dinner\", \"dinner\", \"dinner\", \"dinner\", \"dinner\", \"dinner\", \"dinner\", \"dinosaurs\", \"dinosaurs\", \"dinosaurs\", \"dinosaurs\", \"disappointed\", \"disappointed\", \"disappointed\", \"disappointed\", \"disappointed\", \"disappointed\", \"disappointed\", \"disappointed\", \"disappointed\", \"disappointed\", \"disfigured\", \"disneyland\", \"disneyland\", \"disneyland\", \"disneyland\", \"displeased\", \"dissatisfying\", \"doll\", \"doll\", \"doll\", \"doll\", \"doll\", \"doll\", \"done\", \"done\", \"done\", \"done\", \"done\", \"done\", \"done\", \"done\", \"done\", \"done\", \"dq\", \"dresses\", \"dresses\", \"dresses\", \"dresses\", \"dresses\", \"dresses\", \"dresses\", \"dresses\", \"dresses\", \"dresses\", \"drinks\", \"drinks\", \"drinks\", \"drinks\", \"drinks\", \"drinks\", \"drinks\", \"drinks\", \"drinks\", \"drinks\", \"drivethe\", \"duas\", \"dumpsters\", \"eat\", \"eat\", \"eat\", \"eat\", \"eat\", \"eat\", \"eat\", \"eat\", \"eat\", \"eat\", \"eatenand\", \"ecopro\", \"eden\", \"edging\", \"elevations\", \"eleven\", \"eleven\", \"eleven\", \"eleven\", \"elston\", \"emissions\", \"emissions\", \"emma\", \"enjoyed\", \"enjoyed\", \"enjoyed\", \"enjoyed\", \"enjoyed\", \"enjoyed\", \"enjoyed\", \"enjoyed\", \"enjoyed\", \"enjoyed\", \"enough\", \"enough\", \"enough\", \"enough\", \"enough\", \"enough\", \"enough\", \"enough\", \"enough\", \"enough\", \"erased\", \"erika\", \"erika\", \"escort\", \"escort\", \"esog\", \"eurotrash\", \"even\", \"even\", \"even\", \"even\", \"even\", \"even\", \"even\", \"even\", \"even\", \"even\", \"ever\", \"ever\", \"ever\", \"ever\", \"ever\", \"ever\", \"ever\", \"ever\", \"ever\", \"ever\", \"everett\", \"everett\", \"every\", \"every\", \"every\", \"every\", \"every\", \"every\", \"every\", \"every\", \"every\", \"every\", \"expects\", \"experience\", \"experience\", \"experience\", \"experience\", \"experience\", \"experience\", \"experience\", \"experience\", \"experience\", \"experience\", \"fckn\", \"feel\", \"feel\", \"feel\", \"feel\", \"feel\", \"feel\", \"feel\", \"feel\", \"feel\", \"feel\", \"feil\", \"fern\", \"fern\", \"fern\", \"fi\", \"fiddlehead\", \"filler\", \"filler\", \"filler\", \"filler\", \"filler\", \"fine\", \"fine\", \"fine\", \"fine\", \"fine\", \"fine\", \"fine\", \"fine\", \"fine\", \"fine\", \"finished\", \"finished\", \"finished\", \"finished\", \"finished\", \"finished\", \"finished\", \"finished\", \"finished\", \"finished\", \"firestone\", \"firestone\", \"firestone\", \"firestone\", \"firestone\", \"first\", \"first\", \"first\", \"first\", \"first\", \"first\", \"first\", \"first\", \"first\", \"first\", \"fishbones\", \"floss\", \"flu\", \"flu\", \"food\", \"food\", \"food\", \"food\", \"food\", \"food\", \"food\", \"food\", \"food\", \"food\", \"foray\", \"ford\", \"ford\", \"ford\", \"ford\", \"fore\", \"fore\", \"found\", \"found\", \"found\", \"found\", \"found\", \"found\", \"found\", \"found\", \"found\", \"found\", \"frasca\", \"fresh\", \"fresh\", \"fresh\", \"fresh\", \"fresh\", \"fresh\", \"fresh\", \"fresh\", \"fresh\", \"fresh\", \"fried\", \"fried\", \"fried\", \"fried\", \"fried\", \"fried\", \"fried\", \"fried\", \"fried\", \"fried\", \"friend\", \"friend\", \"friend\", \"friend\", \"friend\", \"friend\", \"friend\", \"friend\", \"friend\", \"friend\", \"friendly\", \"friendly\", \"friendly\", \"friendly\", \"friendly\", \"friendly\", \"friendly\", \"friendly\", \"friendly\", \"friendly\", \"friends\", \"friends\", \"friends\", \"friends\", \"friends\", \"friends\", \"friends\", \"friends\", \"friends\", \"friends\", \"fries\", \"fries\", \"fries\", \"fries\", \"fries\", \"fries\", \"fries\", \"fries\", \"fries\", \"fries\", \"frissant\", \"fritos\", \"frizz\", \"fuchsia\", \"full\", \"full\", \"full\", \"full\", \"full\", \"full\", \"full\", \"full\", \"full\", \"full\", \"fun\", \"fun\", \"fun\", \"fun\", \"fun\", \"fun\", \"fun\", \"fun\", \"fun\", \"fun\", \"garnesh\", \"gasoline\", \"gasoline\", \"get\", \"get\", \"get\", \"get\", \"get\", \"get\", \"get\", \"get\", \"get\", \"get\", \"gilbert\", \"gilbert\", \"gilberts\", \"gingerman\", \"gingerman\", \"glorias\", \"gluey\", \"glutenous\", \"go\", \"go\", \"go\", \"go\", \"go\", \"go\", \"go\", \"go\", \"go\", \"go\", \"going\", \"going\", \"going\", \"going\", \"going\", \"going\", \"going\", \"going\", \"going\", \"going\", \"good\", \"good\", \"good\", \"good\", \"good\", \"good\", \"good\", \"good\", \"good\", \"good\", \"gordo\", \"gordo\", \"gordo\", \"got\", \"got\", \"got\", \"got\", \"got\", \"got\", \"got\", \"got\", \"got\", \"got\", \"gratuation\", \"great\", \"great\", \"great\", \"great\", \"great\", \"great\", \"great\", \"great\", \"great\", \"great\", \"greatness\", \"gressos\", \"grotesquely\", \"guey\", \"gus\", \"gyoza\", \"gyoza\", \"gyoza\", \"gyoza\", \"gyoza\", \"gyoza\", \"gyoza\", \"gyoza\", \"gyoza\", \"hae\", \"haikus\", \"hair\", \"hair\", \"hair\", \"hair\", \"hair\", \"hair\", \"hair\", \"hair\", \"hair\", \"hair\", \"halals\", \"halals\", \"halinas\", \"halt\", \"happy\", \"happy\", \"happy\", \"happy\", \"happy\", \"happy\", \"happy\", \"happy\", \"happy\", \"happy\", \"harassed\", \"hardie\", \"hatzu\", \"headlights\", \"hefeweizen\", \"high\", \"high\", \"high\", \"high\", \"high\", \"high\", \"high\", \"high\", \"high\", \"high\", \"highland\", \"highland\", \"highland\", \"hollow\", \"home\", \"home\", \"home\", \"home\", \"home\", \"home\", \"home\", \"home\", \"home\", \"home\", \"hong\", \"hong\", \"hong\", \"hong\", \"hong\", \"hong\", \"hong\", \"hong\", \"hong\", \"hoovers\", \"hour\", \"hour\", \"hour\", \"hour\", \"hour\", \"hour\", \"hour\", \"hour\", \"hour\", \"hour\", \"hp\", \"hp\", \"hugger\", \"hugger\", \"humm\", \"hvac\", \"hvac\", \"hvac\", \"hvac\", \"hvac\", \"hvac\", \"hvac\", \"hvac\", \"ibe\", \"ibe\", \"icemaker\", \"id\", \"id\", \"id\", \"id\", \"id\", \"id\", \"id\", \"id\", \"id\", \"id\", \"im\", \"im\", \"im\", \"im\", \"im\", \"im\", \"im\", \"im\", \"im\", \"im\", \"incompent\", \"inerja\", \"iona\", \"ipods\", \"iranian\", \"it\", \"it\", \"it\", \"it\", \"it\", \"it\", \"it\", \"it\", \"it\", \"it\", \"iuds\", \"ive\", \"ive\", \"ive\", \"ive\", \"ive\", \"ive\", \"ive\", \"ive\", \"ive\", \"ive\", \"jams\", \"jeff\", \"jeff\", \"jeff\", \"jeff\", \"jeff\", \"jesus\", \"jesus\", \"jesus\", \"jesus\", \"jesus\", \"jesus\", \"jesus\", \"jesus\", \"jesus\", \"jesus\", \"jets\", \"jets\", \"jeune\", \"jiang\", \"jill\", \"jims\", \"job\", \"job\", \"job\", \"job\", \"job\", \"job\", \"job\", \"job\", \"job\", \"job\", \"jobe\", \"johnathan\", \"jons\", \"joyce\", \"kalua\", \"kathy\", \"kathy\", \"keema\", \"keema\", \"kemper\", \"kerby\", \"km\", \"know\", \"know\", \"know\", \"know\", \"know\", \"know\", \"know\", \"know\", \"know\", \"know\", \"kona\", \"kona\", \"kona\", \"kona\", \"konditor\", \"koozies\", \"koreans\", \"krysten\", \"kungfu\", \"kuni\", \"kuni\", \"kuni\", \"kvs\", \"lainey\", \"lara\", \"lashes\", \"lashes\", \"lashes\", \"lashes\", \"lashes\", \"lashes\", \"lashes\", \"lashes\", \"lauren\", \"lauren\", \"lauren\", \"lauren\", \"lbs\", \"lbs\", \"lbs\", \"lbs\", \"lbs\", \"lbs\", \"lbs\", \"lbs\", \"lbs\", \"lbs\", \"league\", \"league\", \"league\", \"league\", \"league\", \"leagues\", \"leagues\", \"left\", \"left\", \"left\", \"left\", \"left\", \"left\", \"left\", \"left\", \"left\", \"left\", \"liability\", \"liars\", \"lice\", \"lice\", \"like\", \"like\", \"like\", \"like\", \"like\", \"like\", \"like\", \"like\", \"like\", \"like\", \"line\", \"line\", \"line\", \"line\", \"line\", \"line\", \"line\", \"line\", \"line\", \"line\", \"listtasting\", \"little\", \"little\", \"little\", \"little\", \"little\", \"little\", \"little\", \"little\", \"little\", \"little\", \"location\", \"location\", \"location\", \"location\", \"location\", \"location\", \"location\", \"location\", \"location\", \"location\", \"lockshin\", \"logoit\", \"long\", \"long\", \"long\", \"long\", \"long\", \"long\", \"long\", \"long\", \"long\", \"long\", \"lookie\", \"lot\", \"lot\", \"lot\", \"lot\", \"lot\", \"lot\", \"lot\", \"lot\", \"lot\", \"lot\", \"loui\", \"love\", \"love\", \"love\", \"love\", \"love\", \"love\", \"love\", \"love\", \"love\", \"love\", \"lululemon\", \"lululemon\", \"lumpy\", \"lunch\", \"lunch\", \"lunch\", \"lunch\", \"lunch\", \"lunch\", \"lunch\", \"lunch\", \"lunch\", \"lunch\", \"luv\", \"macand\", \"made\", \"made\", \"made\", \"made\", \"made\", \"made\", \"made\", \"made\", \"made\", \"made\", \"make\", \"make\", \"make\", \"make\", \"make\", \"make\", \"make\", \"make\", \"make\", \"make\", \"malas\", \"mallway\", \"many\", \"many\", \"many\", \"many\", \"many\", \"many\", \"many\", \"many\", \"many\", \"many\", \"mariee\", \"mashari\", \"massage\", \"massage\", \"massage\", \"massage\", \"massage\", \"massage\", \"massage\", \"massage\", \"massage\", \"massage\", \"masseuse\", \"matterhorn\", \"maureen\", \"maxed\", \"maxed\", \"mcdonalds\", \"mcdonalds\", \"mcdonalds\", \"mcdonalds\", \"mcdonalds\", \"mcdonalds\", \"mcdonalds\", \"mcdonalds\", \"mcdonalds\", \"mcdonalds\", \"me\", \"me\", \"me\", \"me\", \"me\", \"me\", \"me\", \"me\", \"me\", \"me\", \"meandered\", \"meister\", \"meltie\", \"menu\", \"menu\", \"menu\", \"menu\", \"menu\", \"menu\", \"menu\", \"menu\", \"menu\", \"menu\", \"mercedes\", \"mercedes\", \"mercedes\", \"mercedes\", \"mercedes\", \"metersor\", \"mian\", \"mian\", \"michael\", \"michael\", \"michael\", \"michael\", \"michael\", \"michael\", \"mika\", \"minutes\", \"minutes\", \"minutes\", \"minutes\", \"minutes\", \"minutes\", \"minutes\", \"minutes\", \"minutes\", \"minutes\", \"mira\", \"mistaken\", \"mistaken\", \"mistaken\", \"mistaken\", \"mistaken\", \"mistaken\", \"mistaken\", \"mistaken\", \"mogli\", \"molly\", \"money\", \"money\", \"money\", \"money\", \"money\", \"money\", \"money\", \"money\", \"money\", \"money\", \"moons\", \"moonshine\", \"mooo\", \"mooo\", \"much\", \"much\", \"much\", \"much\", \"much\", \"much\", \"much\", \"much\", \"much\", \"much\", \"muqueca\", \"museum\", \"museum\", \"museum\", \"museum\", \"museum\", \"museum\", \"museum\", \"museum\", \"museum\", \"museum\", \"nasser\", \"nasser\", \"nathan\", \"nayiri\", \"nayiri\", \"nayiri\", \"needed\", \"needed\", \"needed\", \"needed\", \"needed\", \"needed\", \"needed\", \"needed\", \"needed\", \"needed\", \"nespresso\", \"netcollections\", \"nevaes\", \"never\", \"never\", \"never\", \"never\", \"never\", \"never\", \"never\", \"never\", \"never\", \"never\", \"next\", \"next\", \"next\", \"next\", \"next\", \"next\", \"next\", \"next\", \"next\", \"next\", \"nice\", \"nice\", \"nice\", \"nice\", \"nice\", \"nice\", \"nice\", \"nice\", \"nice\", \"nice\", \"nicholas\", \"night\", \"night\", \"night\", \"night\", \"night\", \"night\", \"night\", \"night\", \"night\", \"night\", \"nim\", \"ninos\", \"nirvana\", \"nochip\", \"noe\", \"nom\", \"nom\", \"nom\", \"nonprocessed\", \"nothing\", \"nothing\", \"nothing\", \"nothing\", \"nothing\", \"nothing\", \"nothing\", \"nothing\", \"nothing\", \"nothing\", \"noticably\", \"ogwu\", \"ohana\", \"omlet\", \"one\", \"one\", \"one\", \"one\", \"one\", \"one\", \"one\", \"one\", \"one\", \"one\", \"onethird\", \"options\", \"options\", \"options\", \"options\", \"options\", \"options\", \"options\", \"options\", \"options\", \"options\", \"order\", \"order\", \"order\", \"order\", \"order\", \"order\", \"order\", \"order\", \"order\", \"order\", \"ordered\", \"ordered\", \"ordered\", \"ordered\", \"ordered\", \"ordered\", \"ordered\", \"ordered\", \"ordered\", \"ordered\", \"ornaments\", \"outgoing\", \"overall\", \"overall\", \"overall\", \"overall\", \"overall\", \"overall\", \"overall\", \"overall\", \"overall\", \"overall\", \"overjoyed\", \"palki\", \"papparoticanada\", \"papparoticanada\", \"park\", \"park\", \"park\", \"park\", \"park\", \"park\", \"park\", \"park\", \"park\", \"park\", \"parkatlanta\", \"party\", \"party\", \"party\", \"party\", \"party\", \"party\", \"party\", \"party\", \"party\", \"party\", \"patiolawn\", \"paturey\", \"paula\", \"pay\", \"pay\", \"pay\", \"pay\", \"pay\", \"pay\", \"pay\", \"pay\", \"pay\", \"pay\", \"pecan\", \"pecan\", \"pecan\", \"pecan\", \"pecan\", \"pecan\", \"pecan\", \"pecan\", \"pecan\", \"pecan\", \"peony\", \"people\", \"people\", \"people\", \"people\", \"people\", \"people\", \"people\", \"people\", \"people\", \"people\", \"pepsi\", \"perfect\", \"perfect\", \"perfect\", \"perfect\", \"perfect\", \"perfect\", \"perfect\", \"perfect\", \"perfect\", \"perfect\", \"permits\", \"pew\", \"pharaohs\", \"phone\", \"phone\", \"phone\", \"phone\", \"phone\", \"phone\", \"phone\", \"phone\", \"phone\", \"phone\", \"piah\", \"pickupdrop\", \"pictures\", \"pictures\", \"pictures\", \"pictures\", \"pictures\", \"pictures\", \"pictures\", \"pictures\", \"pictures\", \"pictures\", \"piedmont\", \"piedmont\", \"pinoy\", \"pirate\", \"pizza\", \"pizza\", \"pizza\", \"pizza\", \"pizza\", \"pizza\", \"pizza\", \"pizza\", \"pizza\", \"pizza\", \"place\", \"place\", \"place\", \"place\", \"place\", \"place\", \"place\", \"place\", \"place\", \"place\", \"places\", \"places\", \"places\", \"places\", \"places\", \"places\", \"places\", \"places\", \"places\", \"places\", \"plent\", \"poh\", \"poisonings\", \"polly\", \"pork\", \"pork\", \"pork\", \"pork\", \"pork\", \"pork\", \"pork\", \"pork\", \"pork\", \"pork\", \"portions\", \"portions\", \"portions\", \"portions\", \"portions\", \"portions\", \"portions\", \"portions\", \"portions\", \"portions\", \"pourover\", \"poutine\", \"poutine\", \"poutine\", \"poutine\", \"poutine\", \"poutine\", \"poutine\", \"poutine\", \"poutine\", \"preplanning\", \"pretaste\", \"pric\", \"pumpkins\", \"pyrolates\", \"qsr\", \"quality\", \"quality\", \"quality\", \"quality\", \"quality\", \"quality\", \"quality\", \"quality\", \"quality\", \"quality\", \"quick\", \"quick\", \"quick\", \"quick\", \"quick\", \"quick\", \"quick\", \"quick\", \"quick\", \"quick\", \"radiant\", \"randy\", \"randy\", \"raphael\", \"raza\", \"really\", \"really\", \"really\", \"really\", \"really\", \"really\", \"really\", \"really\", \"really\", \"really\", \"reasonable\", \"reasonable\", \"reasonable\", \"reasonable\", \"reasonable\", \"reasonable\", \"reasonable\", \"reasonable\", \"reasonable\", \"reasonable\", \"recommend\", \"recommend\", \"recommend\", \"recommend\", \"recommend\", \"recommend\", \"recommend\", \"recommend\", \"recommend\", \"recommend\", \"refi\", \"refi\", \"reflex\", \"regal\", \"regal\", \"regal\", \"regal\", \"regal\", \"regal\", \"regions\", \"rejoined\", \"reliant\", \"rellenos\", \"rellenos\", \"rellenos\", \"rellenos\", \"remade\", \"remodelled\", \"rene\", \"repairman\", \"restaruant\", \"restaurant\", \"restaurant\", \"restaurant\", \"restaurant\", \"restaurant\", \"restaurant\", \"restaurant\", \"restaurant\", \"restaurant\", \"restaurant\", \"rested\", \"resteraunts\", \"review\", \"review\", \"review\", \"review\", \"review\", \"review\", \"review\", \"review\", \"review\", \"review\", \"rhimes\", \"rice\", \"rice\", \"rice\", \"rice\", \"rice\", \"rice\", \"rice\", \"rice\", \"rice\", \"rice\", \"ricks\", \"ride\", \"ride\", \"ride\", \"ride\", \"ride\", \"ride\", \"ride\", \"ride\", \"ride\", \"ride\", \"rj\", \"room\", \"room\", \"room\", \"room\", \"room\", \"room\", \"room\", \"room\", \"room\", \"room\", \"rotis\", \"said\", \"said\", \"said\", \"said\", \"said\", \"said\", \"said\", \"said\", \"said\", \"said\", \"sandbox\", \"sandillada\", \"sandwich\", \"sandwich\", \"sandwich\", \"sandwich\", \"sandwich\", \"sandwich\", \"sandwich\", \"sandwich\", \"sandwich\", \"sandwich\", \"sawdust\", \"sazarac\", \"scarf\", \"scarf\", \"schigo\", \"scone\", \"scone\", \"scorpion\", \"scorpion\", \"scot\", \"see\", \"see\", \"see\", \"see\", \"see\", \"see\", \"see\", \"see\", \"see\", \"see\", \"selection\", \"selection\", \"selection\", \"selection\", \"selection\", \"selection\", \"selection\", \"selection\", \"selection\", \"selection\", \"server\", \"server\", \"server\", \"server\", \"server\", \"server\", \"server\", \"server\", \"server\", \"server\", \"service\", \"service\", \"service\", \"service\", \"service\", \"service\", \"service\", \"service\", \"service\", \"service\", \"servicing\", \"servicing\", \"shanti\", \"shanti\", \"sharks\", \"sharks\", \"sharks\", \"sharks\", \"shepards\", \"sidney\", \"since\", \"since\", \"since\", \"since\", \"since\", \"since\", \"since\", \"since\", \"since\", \"since\", \"sinthia\", \"sisterinlaw\", \"sisterinlaw\", \"sisterinlaw\", \"sisterinlaw\", \"sisterinlaw\", \"sitter\", \"small\", \"small\", \"small\", \"small\", \"small\", \"small\", \"small\", \"small\", \"small\", \"small\", \"socal\", \"soltans\", \"something\", \"something\", \"something\", \"something\", \"something\", \"something\", \"something\", \"something\", \"something\", \"something\", \"sonny\", \"sonny\", \"sorbet\", \"sorbet\", \"sorbet\", \"sorbet\", \"sorbet\", \"sorbet\", \"sorbet\", \"spencer\", \"spicevery\", \"spot\", \"spot\", \"spot\", \"spot\", \"spot\", \"spot\", \"spot\", \"spot\", \"spot\", \"spot\", \"springsmcneil\", \"staff\", \"staff\", \"staff\", \"staff\", \"staff\", \"staff\", \"staff\", \"staff\", \"staff\", \"staff\", \"steak\", \"steak\", \"steak\", \"steak\", \"steak\", \"steak\", \"steak\", \"steak\", \"steak\", \"steak\", \"still\", \"still\", \"still\", \"still\", \"still\", \"still\", \"still\", \"still\", \"still\", \"still\", \"stinky\", \"stinky\", \"streetno\", \"stylecut\", \"succeeds\", \"suffolk\", \"sunbusters\", \"sushi\", \"sushi\", \"sushi\", \"sushi\", \"sushi\", \"sushi\", \"sushi\", \"sushi\", \"sushi\", \"sushi\", \"sweethut\", \"table\", \"table\", \"table\", \"table\", \"table\", \"table\", \"table\", \"table\", \"table\", \"table\", \"take\", \"take\", \"take\", \"take\", \"take\", \"take\", \"take\", \"take\", \"take\", \"take\", \"tampiquena\", \"tanasbourne\", \"tanasbourne\", \"tanasbourne\", \"tanner\", \"targeted\", \"thai\", \"thai\", \"thai\", \"thai\", \"thai\", \"thai\", \"thai\", \"thai\", \"thai\", \"thai\", \"thaijapanese\", \"thing\", \"thing\", \"thing\", \"thing\", \"thing\", \"thing\", \"thing\", \"thing\", \"thing\", \"thing\", \"things\", \"things\", \"things\", \"things\", \"things\", \"things\", \"things\", \"things\", \"things\", \"things\", \"think\", \"think\", \"think\", \"think\", \"think\", \"think\", \"think\", \"think\", \"think\", \"think\", \"thyroid\", \"thyroid\", \"tills\", \"time\", \"time\", \"time\", \"time\", \"time\", \"time\", \"time\", \"time\", \"time\", \"time\", \"timecop\", \"timeless\", \"times\", \"times\", \"times\", \"times\", \"times\", \"times\", \"times\", \"times\", \"times\", \"times\", \"told\", \"told\", \"told\", \"told\", \"told\", \"told\", \"told\", \"told\", \"told\", \"told\", \"toni\", \"too\", \"too\", \"too\", \"too\", \"too\", \"too\", \"too\", \"too\", \"too\", \"too\", \"torino\", \"town\", \"town\", \"town\", \"town\", \"town\", \"town\", \"town\", \"town\", \"town\", \"town\", \"townand\", \"transformation\", \"trimmed\", \"trimmed\", \"trimmed\", \"trimmed\", \"try\", \"try\", \"try\", \"try\", \"try\", \"try\", \"try\", \"try\", \"try\", \"try\", \"twomey\", \"twomey\", \"ulta\", \"ulta\", \"ulta\", \"ulta\", \"underdelivered\", \"undered\", \"unhelpful\", \"unhelpful\", \"unhelpful\", \"unhelpful\", \"uniqu\", \"until\", \"us\", \"us\", \"us\", \"us\", \"us\", \"us\", \"us\", \"us\", \"us\", \"us\", \"usd\", \"vanbarrys\", \"vaping\", \"venden\", \"venden\", \"venomous\", \"victory\", \"vivian\", \"voodoo\", \"voodoo\", \"voodoo\", \"voodoo\", \"voodoo\", \"voodoo\", \"voodoo\", \"vpne\", \"wait\", \"wait\", \"wait\", \"wait\", \"wait\", \"wait\", \"wait\", \"wait\", \"wait\", \"wait\", \"waited\", \"waited\", \"waited\", \"waited\", \"waited\", \"waited\", \"waited\", \"waited\", \"waited\", \"waited\", \"wans\", \"way\", \"way\", \"way\", \"way\", \"way\", \"way\", \"way\", \"way\", \"way\", \"way\", \"wayne\", \"well\", \"well\", \"well\", \"well\", \"well\", \"well\", \"well\", \"well\", \"well\", \"well\", \"wellso\", \"went\", \"went\", \"went\", \"went\", \"went\", \"went\", \"went\", \"went\", \"went\", \"went\", \"wings\", \"wings\", \"wings\", \"wings\", \"wings\", \"wings\", \"wings\", \"wings\", \"wings\", \"wings\", \"wool\", \"wool\", \"work\", \"work\", \"work\", \"work\", \"work\", \"work\", \"work\", \"work\", \"work\", \"work\", \"working\", \"working\", \"working\", \"working\", \"working\", \"working\", \"working\", \"working\", \"working\", \"working\", \"would\", \"would\", \"would\", \"would\", \"would\", \"would\", \"would\", \"would\", \"would\", \"would\", \"xurros\", \"yari\", \"yari\", \"year\", \"year\", \"year\", \"year\", \"year\", \"year\", \"year\", \"year\", \"year\", \"year\", \"years\", \"years\", \"years\", \"years\", \"years\", \"years\", \"years\", \"years\", \"years\", \"years\", \"yen\", \"yessi\", \"yogli\", \"youtube\", \"yuk\", \"yuk\", \"yuk\", \"yuk\", \"yum\", \"yum\", \"yum\", \"yum\", \"yum\", \"yum\", \"yum\", \"yum\", \"yum\", \"yum\", \"zafron\", \"zola\"]}, \"R\": 30, \"lambda.step\": 0.01, \"plot.opts\": {\"xlab\": \"PC1\", \"ylab\": \"PC2\"}, \"topic.order\": [1, 5, 8, 3, 10, 4, 6, 7, 2, 9]};\n",
       "\n",
       "function LDAvis_load_lib(url, callback){\n",
       "  var s = document.createElement('script');\n",
       "  s.src = url;\n",
       "  s.async = true;\n",
       "  s.onreadystatechange = s.onload = callback;\n",
       "  s.onerror = function(){console.warn(\"failed to load library \" + url);};\n",
       "  document.getElementsByTagName(\"head\")[0].appendChild(s);\n",
       "}\n",
       "\n",
       "if(typeof(LDAvis) !== \"undefined\"){\n",
       "   // already loaded: just create the visualization\n",
       "   !function(LDAvis){\n",
       "       new LDAvis(\"#\" + \"ldavis_el1060417060269134564376950201\", ldavis_el1060417060269134564376950201_data);\n",
       "   }(LDAvis);\n",
       "}else if(typeof define === \"function\" && define.amd){\n",
       "   // require.js is available: use it to load d3/LDAvis\n",
       "   require.config({paths: {d3: \"https://d3js.org/d3.v5\"}});\n",
       "   require([\"d3\"], function(d3){\n",
       "      window.d3 = d3;\n",
       "      LDAvis_load_lib(\"https://cdn.jsdelivr.net/gh/bmabey/pyLDAvis@3.3.1/pyLDAvis/js/ldavis.v3.0.0.js\", function(){\n",
       "        new LDAvis(\"#\" + \"ldavis_el1060417060269134564376950201\", ldavis_el1060417060269134564376950201_data);\n",
       "      });\n",
       "    });\n",
       "}else{\n",
       "    // require.js not available: dynamically load d3 & LDAvis\n",
       "    LDAvis_load_lib(\"https://d3js.org/d3.v5.js\", function(){\n",
       "         LDAvis_load_lib(\"https://cdn.jsdelivr.net/gh/bmabey/pyLDAvis@3.3.1/pyLDAvis/js/ldavis.v3.0.0.js\", function(){\n",
       "                 new LDAvis(\"#\" + \"ldavis_el1060417060269134564376950201\", ldavis_el1060417060269134564376950201_data);\n",
       "            })\n",
       "         });\n",
       "}\n",
       "</script>"
      ],
      "text/plain": [
       "PreparedData(topic_coordinates=              x         y  topics  cluster       Freq\n",
       "topic                                                \n",
       "0     -0.007029 -0.000892       1        1  24.366157\n",
       "4      0.000131 -0.004583       2        1  12.012201\n",
       "7     -0.003752  0.003504       3        1  11.640087\n",
       "2     -0.013981 -0.009705       4        1  10.432697\n",
       "9     -0.006023  0.005254       5        1   9.033950\n",
       "3     -0.011930  0.002772       6        1   8.614770\n",
       "5      0.002704  0.007767       7        1   7.395799\n",
       "6     -0.005460 -0.005771       8        1   7.259145\n",
       "1      0.019438  0.024577       9        1   4.845062\n",
       "8      0.025902 -0.022923      10        1   4.400132, topic_info=        Term         Freq        Total Category  logprob  loglift\n",
       "61      good  4524.000000  4524.000000  Default  30.0000  30.0000\n",
       "217     like  3325.000000  3325.000000  Default  29.0000  29.0000\n",
       "104     food  4818.000000  4818.000000  Default  28.0000  28.0000\n",
       "63     place  4576.000000  4576.000000  Default  27.0000  27.0000\n",
       "203      get  3079.000000  3079.000000  Default  26.0000  26.0000\n",
       "..       ...          ...          ...      ...      ...      ...\n",
       "423   really    72.465910  2507.983009  Topic10  -5.8483  -0.4206\n",
       "276      ive    64.736111  1710.454790  Topic10  -5.9611  -0.1507\n",
       "290  ordered    61.809727  1499.801575  Topic10  -6.0074  -0.0655\n",
       "393   little    60.106818  1433.427713  Topic10  -6.0353  -0.0482\n",
       "464     went    57.525137  1441.899190  Topic10  -6.0792  -0.0980\n",
       "\n",
       "[871 rows x 6 columns], token_table=       Topic      Freq       Term\n",
       "term                             \n",
       "17769      6  0.758376  accolades\n",
       "7049       1  0.234137  admission\n",
       "7049       3  0.078046  admission\n",
       "7049       4  0.078046  admission\n",
       "7049       5  0.390228  admission\n",
       "...      ...       ...        ...\n",
       "1287       8  0.066887        yum\n",
       "1287       9  0.041805        yum\n",
       "1287      10  0.016722        yum\n",
       "28328      3  0.721332     zafron\n",
       "8126       2  0.662928       zola\n",
       "\n",
       "[2406 rows x 3 columns], R=30, lambda_step=0.01, plot_opts={'xlab': 'PC1', 'ylab': 'PC2'}, topic_order=[1, 5, 8, 3, 10, 4, 6, 7, 2, 9])"
      ]
     },
     "execution_count": 43,
     "metadata": {},
     "output_type": "execute_result"
    }
   ],
   "source": [
    "import pyLDAvis.gensim_models\n",
    "import pickle \n",
    "import pyLDAvis\n",
    "import os\n",
    "# Visualize the topics\n",
    "pyLDAvis.enable_notebook()\n",
    "LDAvis_data_filepath = os.path.join('./words_in_review2_'+ str(num_topics))\n",
    "# # this is a bit time consuming - make the if statement True\n",
    "# # if you want to execute visualization prep yourself\n",
    "if 1 == 1:\n",
    "    LDAvis_prepared = pyLDAvis.gensim_models.prepare(lda_model, corpus, id2word)\n",
    "    with open(LDAvis_data_filepath, 'wb') as f:\n",
    "        pickle.dump(LDAvis_prepared, f)\n",
    "# load the pre-prepared pyLDAvis data from disk\n",
    "with open(LDAvis_data_filepath, 'rb') as f:\n",
    "    LDAvis_prepared = pickle.load(f)\n",
    "pyLDAvis.save_html(LDAvis_prepared,'./words_in_review2_'+ str(num_topics) +'.html')\n",
    "LDAvis_prepared"
   ]
  },
  {
   "cell_type": "code",
   "execution_count": 55,
   "metadata": {},
   "outputs": [],
   "source": [
    "df.to_pickle('df for topic analysis and predict rating')"
   ]
  },
  {
   "cell_type": "code",
   "execution_count": 5,
   "metadata": {},
   "outputs": [],
   "source": [
    "df = pd.read_pickle('df for topic analysis and predict rating')"
   ]
  },
  {
   "cell_type": "code",
   "execution_count": 6,
   "metadata": {},
   "outputs": [],
   "source": [
    "import sklearn \n",
    "from sklearn.ensemble import RandomForestRegressor\n",
    "from sklearn.model_selection import train_test_split\n",
    "from sklearn.model_selection import RandomizedSearchCV\n",
    "from sklearn.metrics import mean_squared_error\n",
    "import numpy as np"
   ]
  },
  {
   "cell_type": "code",
   "execution_count": 7,
   "metadata": {},
   "outputs": [],
   "source": [
    "train, test = train_test_split(df, test_size=0.2)"
   ]
  },
  {
   "cell_type": "code",
   "execution_count": 8,
   "metadata": {},
   "outputs": [
    {
     "data": {
      "text/html": [
       "<div>\n",
       "<style scoped>\n",
       "    .dataframe tbody tr th:only-of-type {\n",
       "        vertical-align: middle;\n",
       "    }\n",
       "\n",
       "    .dataframe tbody tr th {\n",
       "        vertical-align: top;\n",
       "    }\n",
       "\n",
       "    .dataframe thead th {\n",
       "        text-align: right;\n",
       "    }\n",
       "</style>\n",
       "<table border=\"1\" class=\"dataframe\">\n",
       "  <thead>\n",
       "    <tr style=\"text-align: right;\">\n",
       "      <th></th>\n",
       "      <th>stars</th>\n",
       "      <th>text</th>\n",
       "      <th>new_text</th>\n",
       "      <th>0</th>\n",
       "      <th>1</th>\n",
       "      <th>2</th>\n",
       "      <th>3</th>\n",
       "      <th>4</th>\n",
       "      <th>5</th>\n",
       "      <th>6</th>\n",
       "      <th>7</th>\n",
       "      <th>8</th>\n",
       "      <th>9</th>\n",
       "    </tr>\n",
       "  </thead>\n",
       "  <tbody>\n",
       "    <tr>\n",
       "      <th>97776</th>\n",
       "      <td>2</td>\n",
       "      <td>I don't have especially high expectations for ...</td>\n",
       "      <td>especially high expectations bell every often ...</td>\n",
       "      <td>0.53235</td>\n",
       "      <td>0.532248</td>\n",
       "      <td>0.930688</td>\n",
       "      <td>0.954971</td>\n",
       "      <td>0.143865</td>\n",
       "      <td>0.438007</td>\n",
       "      <td>0.394262</td>\n",
       "      <td>0.440094</td>\n",
       "      <td>0.381254</td>\n",
       "      <td>0.082891</td>\n",
       "    </tr>\n",
       "    <tr>\n",
       "      <th>401483</th>\n",
       "      <td>4</td>\n",
       "      <td>We dined here because we love our kids, not be...</td>\n",
       "      <td>dined love kids expected good food buffet boat...</td>\n",
       "      <td>0.53235</td>\n",
       "      <td>0.532248</td>\n",
       "      <td>0.930688</td>\n",
       "      <td>0.954971</td>\n",
       "      <td>0.143865</td>\n",
       "      <td>0.438007</td>\n",
       "      <td>0.394262</td>\n",
       "      <td>0.440094</td>\n",
       "      <td>0.381254</td>\n",
       "      <td>0.082891</td>\n",
       "    </tr>\n",
       "    <tr>\n",
       "      <th>272139</th>\n",
       "      <td>1</td>\n",
       "      <td>Didn't seem to even be able to get an appointm...</td>\n",
       "      <td>seem even able get appointment told time avail...</td>\n",
       "      <td>0.53235</td>\n",
       "      <td>0.532248</td>\n",
       "      <td>0.930688</td>\n",
       "      <td>0.954971</td>\n",
       "      <td>0.143865</td>\n",
       "      <td>0.438007</td>\n",
       "      <td>0.394262</td>\n",
       "      <td>0.440094</td>\n",
       "      <td>0.381254</td>\n",
       "      <td>0.082891</td>\n",
       "    </tr>\n",
       "    <tr>\n",
       "      <th>335101</th>\n",
       "      <td>1</td>\n",
       "      <td>I have 3 credit cards with this bank never mis...</td>\n",
       "      <td>3 credit cards bank never missed payment whole...</td>\n",
       "      <td>0.53235</td>\n",
       "      <td>0.532248</td>\n",
       "      <td>0.930688</td>\n",
       "      <td>0.954971</td>\n",
       "      <td>0.143865</td>\n",
       "      <td>0.438007</td>\n",
       "      <td>0.394262</td>\n",
       "      <td>0.440094</td>\n",
       "      <td>0.381254</td>\n",
       "      <td>0.082891</td>\n",
       "    </tr>\n",
       "    <tr>\n",
       "      <th>227820</th>\n",
       "      <td>5</td>\n",
       "      <td>Strong margaritas.\\nTender, flavorful beef faj...</td>\n",
       "      <td>strong margaritas tender flavorful beef fajita...</td>\n",
       "      <td>0.53235</td>\n",
       "      <td>0.532248</td>\n",
       "      <td>0.930688</td>\n",
       "      <td>0.954971</td>\n",
       "      <td>0.143865</td>\n",
       "      <td>0.438007</td>\n",
       "      <td>0.394262</td>\n",
       "      <td>0.440094</td>\n",
       "      <td>0.381254</td>\n",
       "      <td>0.082891</td>\n",
       "    </tr>\n",
       "  </tbody>\n",
       "</table>\n",
       "</div>"
      ],
      "text/plain": [
       "        stars                                               text  \\\n",
       "97776       2  I don't have especially high expectations for ...   \n",
       "401483      4  We dined here because we love our kids, not be...   \n",
       "272139      1  Didn't seem to even be able to get an appointm...   \n",
       "335101      1  I have 3 credit cards with this bank never mis...   \n",
       "227820      5  Strong margaritas.\\nTender, flavorful beef faj...   \n",
       "\n",
       "                                                 new_text        0         1  \\\n",
       "97776   especially high expectations bell every often ...  0.53235  0.532248   \n",
       "401483  dined love kids expected good food buffet boat...  0.53235  0.532248   \n",
       "272139  seem even able get appointment told time avail...  0.53235  0.532248   \n",
       "335101  3 credit cards bank never missed payment whole...  0.53235  0.532248   \n",
       "227820  strong margaritas tender flavorful beef fajita...  0.53235  0.532248   \n",
       "\n",
       "               2         3         4         5         6         7         8  \\\n",
       "97776   0.930688  0.954971  0.143865  0.438007  0.394262  0.440094  0.381254   \n",
       "401483  0.930688  0.954971  0.143865  0.438007  0.394262  0.440094  0.381254   \n",
       "272139  0.930688  0.954971  0.143865  0.438007  0.394262  0.440094  0.381254   \n",
       "335101  0.930688  0.954971  0.143865  0.438007  0.394262  0.440094  0.381254   \n",
       "227820  0.930688  0.954971  0.143865  0.438007  0.394262  0.440094  0.381254   \n",
       "\n",
       "               9  \n",
       "97776   0.082891  \n",
       "401483  0.082891  \n",
       "272139  0.082891  \n",
       "335101  0.082891  \n",
       "227820  0.082891  "
      ]
     },
     "execution_count": 8,
     "metadata": {},
     "output_type": "execute_result"
    }
   ],
   "source": [
    "train.head()"
   ]
  },
  {
   "cell_type": "code",
   "execution_count": 9,
   "metadata": {},
   "outputs": [],
   "source": [
    "x_train, y_train = train.drop(columns = ['text', 'new_text', 'stars']), train['stars']"
   ]
  },
  {
   "cell_type": "code",
   "execution_count": 10,
   "metadata": {},
   "outputs": [],
   "source": [
    "parameters = {'bootstrap': [True, False],\n",
    " 'max_depth': [10, 20, 30, 40, 50, 60, 70, 80, 90, 100, None],\n",
    " 'max_features': ['auto', 'sqrt'],\n",
    " 'min_samples_leaf': [1, 2, 4],\n",
    " 'min_samples_split': [2, 5, 10],\n",
    " 'n_estimators': [200, 400, 600, 800, 1000, 1200, 1400, 1600, 1800, 2000]}\n"
   ]
  },
  {
   "cell_type": "code",
   "execution_count": 11,
   "metadata": {},
   "outputs": [
    {
     "name": "stdout",
     "output_type": "stream",
     "text": [
      "Fitting 5 folds for each of 20 candidates, totalling 100 fits\n"
     ]
    },
    {
     "name": "stderr",
     "output_type": "stream",
     "text": [
      "[Parallel(n_jobs=-1)]: Using backend LokyBackend with 12 concurrent workers.\n",
      "[Parallel(n_jobs=-1)]: Done  17 tasks      | elapsed:   19.9s\n",
      "[Parallel(n_jobs=-1)]: Done 100 out of 100 | elapsed:  1.6min finished\n"
     ]
    },
    {
     "data": {
      "text/plain": [
       "RandomizedSearchCV(estimator=RandomForestRegressor(), n_iter=20, n_jobs=-1,\n",
       "                   param_distributions={'bootstrap': [True, False],\n",
       "                                        'max_depth': [10, 20, 30, 40, 50, 60,\n",
       "                                                      70, 80, 90, 100, None],\n",
       "                                        'max_features': ['auto', 'sqrt'],\n",
       "                                        'min_samples_leaf': [1, 2, 4],\n",
       "                                        'min_samples_split': [2, 5, 10],\n",
       "                                        'n_estimators': [200, 400, 600, 800,\n",
       "                                                         1000, 1200, 1400, 1600,\n",
       "                                                         1800, 2000]},\n",
       "                   scoring='neg_mean_squared_error', verbose=2)"
      ]
     },
     "execution_count": 11,
     "metadata": {},
     "output_type": "execute_result"
    }
   ],
   "source": [
    "rf_model = RandomForestRegressor()\n",
    "\n",
    "#we perform a grid search to find the best parameters in the param dictionary created before \n",
    "clf = RandomizedSearchCV(estimator= rf_model, param_distributions = parameters, n_iter = 20, scoring = 'neg_mean_squared_error', verbose=2, n_jobs=-1)\n",
    "#we fit the model with the best parameters\n",
    "clf.fit(x_train, y_train)"
   ]
  },
  {
   "cell_type": "code",
   "execution_count": 12,
   "metadata": {},
   "outputs": [],
   "source": [
    "x_test, y_test = test.drop(columns = ['text', 'new_text', 'stars']), test['stars']"
   ]
  },
  {
   "cell_type": "code",
   "execution_count": 13,
   "metadata": {},
   "outputs": [],
   "source": [
    "y_pred = clf.predict(x_test)"
   ]
  },
  {
   "cell_type": "code",
   "execution_count": 14,
   "metadata": {},
   "outputs": [],
   "source": [
    "MSE = np.mean((y_pred-y_test)**2)"
   ]
  },
  {
   "cell_type": "code",
   "execution_count": 15,
   "metadata": {},
   "outputs": [
    {
     "data": {
      "text/plain": [
       "2.1637048825043608"
      ]
     },
     "execution_count": 15,
     "metadata": {},
     "output_type": "execute_result"
    }
   ],
   "source": [
    "MSE"
   ]
  },
  {
   "cell_type": "code",
   "execution_count": 16,
   "metadata": {},
   "outputs": [
    {
     "data": {
      "text/plain": [
       "83248     5\n",
       "450946    3\n",
       "416841    5\n",
       "240950    5\n",
       "50892     3\n",
       "         ..\n",
       "269048    5\n",
       "470891    1\n",
       "154991    5\n",
       "408391    5\n",
       "341358    4\n",
       "Name: stars, Length: 2000, dtype: int64"
      ]
     },
     "execution_count": 16,
     "metadata": {},
     "output_type": "execute_result"
    }
   ],
   "source": [
    "y_test"
   ]
  },
  {
   "cell_type": "code",
   "execution_count": 17,
   "metadata": {},
   "outputs": [
    {
     "data": {
      "text/plain": [
       "array([3.73326458, 3.73326458, 3.73326458, ..., 3.73326458, 3.73326458,\n",
       "       3.73326458])"
      ]
     },
     "execution_count": 17,
     "metadata": {},
     "output_type": "execute_result"
    }
   ],
   "source": [
    "y_pred"
   ]
  },
  {
   "cell_type": "code",
   "execution_count": 20,
   "metadata": {},
   "outputs": [],
   "source": [
    "from textblob import TextBlob"
   ]
  },
  {
   "cell_type": "code",
   "execution_count": 21,
   "metadata": {},
   "outputs": [],
   "source": [
    "def getPolarity(text):\n",
    "   return TextBlob(text).sentiment.polarity"
   ]
  },
  {
   "cell_type": "code",
   "execution_count": 22,
   "metadata": {},
   "outputs": [
    {
     "data": {
      "text/html": [
       "<div>\n",
       "<style scoped>\n",
       "    .dataframe tbody tr th:only-of-type {\n",
       "        vertical-align: middle;\n",
       "    }\n",
       "\n",
       "    .dataframe tbody tr th {\n",
       "        vertical-align: top;\n",
       "    }\n",
       "\n",
       "    .dataframe thead th {\n",
       "        text-align: right;\n",
       "    }\n",
       "</style>\n",
       "<table border=\"1\" class=\"dataframe\">\n",
       "  <thead>\n",
       "    <tr style=\"text-align: right;\">\n",
       "      <th></th>\n",
       "      <th>stars</th>\n",
       "      <th>text</th>\n",
       "      <th>new_text</th>\n",
       "      <th>0</th>\n",
       "      <th>1</th>\n",
       "      <th>2</th>\n",
       "      <th>3</th>\n",
       "      <th>4</th>\n",
       "      <th>5</th>\n",
       "      <th>6</th>\n",
       "      <th>7</th>\n",
       "      <th>8</th>\n",
       "      <th>9</th>\n",
       "    </tr>\n",
       "  </thead>\n",
       "  <tbody>\n",
       "    <tr>\n",
       "      <th>372339</th>\n",
       "      <td>1</td>\n",
       "      <td>Blue Host has been on a downward slide for ove...</td>\n",
       "      <td>blue host downward slide year theyve obviously...</td>\n",
       "      <td>0.53235</td>\n",
       "      <td>0.532248</td>\n",
       "      <td>0.930688</td>\n",
       "      <td>0.954971</td>\n",
       "      <td>0.143865</td>\n",
       "      <td>0.438007</td>\n",
       "      <td>0.394262</td>\n",
       "      <td>0.440094</td>\n",
       "      <td>0.381254</td>\n",
       "      <td>0.082891</td>\n",
       "    </tr>\n",
       "    <tr>\n",
       "      <th>144885</th>\n",
       "      <td>2</td>\n",
       "      <td>I was there a few years back. I appreciated th...</td>\n",
       "      <td>years back appreciated video showed us explain...</td>\n",
       "      <td>0.53235</td>\n",
       "      <td>0.532248</td>\n",
       "      <td>0.930688</td>\n",
       "      <td>0.954971</td>\n",
       "      <td>0.143865</td>\n",
       "      <td>0.438007</td>\n",
       "      <td>0.394262</td>\n",
       "      <td>0.440094</td>\n",
       "      <td>0.381254</td>\n",
       "      <td>0.082891</td>\n",
       "    </tr>\n",
       "    <tr>\n",
       "      <th>107653</th>\n",
       "      <td>2</td>\n",
       "      <td>Good place for nachos and drinks, that's about...</td>\n",
       "      <td>good place nachos drinks thats it</td>\n",
       "      <td>0.53235</td>\n",
       "      <td>0.532248</td>\n",
       "      <td>0.930688</td>\n",
       "      <td>0.954971</td>\n",
       "      <td>0.143865</td>\n",
       "      <td>0.438007</td>\n",
       "      <td>0.394262</td>\n",
       "      <td>0.440094</td>\n",
       "      <td>0.381254</td>\n",
       "      <td>0.082891</td>\n",
       "    </tr>\n",
       "    <tr>\n",
       "      <th>379595</th>\n",
       "      <td>5</td>\n",
       "      <td>First - great service.  My wife is pregnant an...</td>\n",
       "      <td>first  great service wife pregnant server poin...</td>\n",
       "      <td>0.53235</td>\n",
       "      <td>0.532248</td>\n",
       "      <td>0.930688</td>\n",
       "      <td>0.954971</td>\n",
       "      <td>0.143865</td>\n",
       "      <td>0.438007</td>\n",
       "      <td>0.394262</td>\n",
       "      <td>0.440094</td>\n",
       "      <td>0.381254</td>\n",
       "      <td>0.082891</td>\n",
       "    </tr>\n",
       "    <tr>\n",
       "      <th>245044</th>\n",
       "      <td>4</td>\n",
       "      <td>Friendly staff and is seemingly packed with us...</td>\n",
       "      <td>friendly staff seemingly packed usuals food gr...</td>\n",
       "      <td>0.53235</td>\n",
       "      <td>0.532248</td>\n",
       "      <td>0.930688</td>\n",
       "      <td>0.954971</td>\n",
       "      <td>0.143865</td>\n",
       "      <td>0.438007</td>\n",
       "      <td>0.394262</td>\n",
       "      <td>0.440094</td>\n",
       "      <td>0.381254</td>\n",
       "      <td>0.082891</td>\n",
       "    </tr>\n",
       "    <tr>\n",
       "      <th>...</th>\n",
       "      <td>...</td>\n",
       "      <td>...</td>\n",
       "      <td>...</td>\n",
       "      <td>...</td>\n",
       "      <td>...</td>\n",
       "      <td>...</td>\n",
       "      <td>...</td>\n",
       "      <td>...</td>\n",
       "      <td>...</td>\n",
       "      <td>...</td>\n",
       "      <td>...</td>\n",
       "      <td>...</td>\n",
       "      <td>...</td>\n",
       "    </tr>\n",
       "    <tr>\n",
       "      <th>355071</th>\n",
       "      <td>5</td>\n",
       "      <td>Halinas staff is always professional and effic...</td>\n",
       "      <td>halinas staff always professional efficient iv...</td>\n",
       "      <td>0.53235</td>\n",
       "      <td>0.532248</td>\n",
       "      <td>0.930688</td>\n",
       "      <td>0.954971</td>\n",
       "      <td>0.143865</td>\n",
       "      <td>0.438007</td>\n",
       "      <td>0.394262</td>\n",
       "      <td>0.440094</td>\n",
       "      <td>0.381254</td>\n",
       "      <td>0.082891</td>\n",
       "    </tr>\n",
       "    <tr>\n",
       "      <th>296070</th>\n",
       "      <td>4</td>\n",
       "      <td>This place may not impress people from the out...</td>\n",
       "      <td>place may impress people outside cheesesteaks ...</td>\n",
       "      <td>0.53235</td>\n",
       "      <td>0.532248</td>\n",
       "      <td>0.930688</td>\n",
       "      <td>0.954971</td>\n",
       "      <td>0.143865</td>\n",
       "      <td>0.438007</td>\n",
       "      <td>0.394262</td>\n",
       "      <td>0.440094</td>\n",
       "      <td>0.381254</td>\n",
       "      <td>0.082891</td>\n",
       "    </tr>\n",
       "    <tr>\n",
       "      <th>379786</th>\n",
       "      <td>4</td>\n",
       "      <td>Great place for a night out with friends. Good...</td>\n",
       "      <td>great place night friends good food good servi...</td>\n",
       "      <td>0.53235</td>\n",
       "      <td>0.532248</td>\n",
       "      <td>0.930688</td>\n",
       "      <td>0.954971</td>\n",
       "      <td>0.143865</td>\n",
       "      <td>0.438007</td>\n",
       "      <td>0.394262</td>\n",
       "      <td>0.440094</td>\n",
       "      <td>0.381254</td>\n",
       "      <td>0.082891</td>\n",
       "    </tr>\n",
       "    <tr>\n",
       "      <th>436895</th>\n",
       "      <td>3</td>\n",
       "      <td>Delish but king crabs had Lil meat and not wor...</td>\n",
       "      <td>delish king crabs lil meat worth 50 dollars 2 ...</td>\n",
       "      <td>0.53235</td>\n",
       "      <td>0.532248</td>\n",
       "      <td>0.930688</td>\n",
       "      <td>0.954971</td>\n",
       "      <td>0.143865</td>\n",
       "      <td>0.438007</td>\n",
       "      <td>0.394262</td>\n",
       "      <td>0.440094</td>\n",
       "      <td>0.381254</td>\n",
       "      <td>0.082891</td>\n",
       "    </tr>\n",
       "    <tr>\n",
       "      <th>383777</th>\n",
       "      <td>5</td>\n",
       "      <td>This is the best Thai Food on the North end. T...</td>\n",
       "      <td>best thai food north end place clean food wond...</td>\n",
       "      <td>0.53235</td>\n",
       "      <td>0.532248</td>\n",
       "      <td>0.930688</td>\n",
       "      <td>0.954971</td>\n",
       "      <td>0.143865</td>\n",
       "      <td>0.438007</td>\n",
       "      <td>0.394262</td>\n",
       "      <td>0.440094</td>\n",
       "      <td>0.381254</td>\n",
       "      <td>0.082891</td>\n",
       "    </tr>\n",
       "  </tbody>\n",
       "</table>\n",
       "<p>10000 rows × 13 columns</p>\n",
       "</div>"
      ],
      "text/plain": [
       "        stars                                               text  \\\n",
       "372339      1  Blue Host has been on a downward slide for ove...   \n",
       "144885      2  I was there a few years back. I appreciated th...   \n",
       "107653      2  Good place for nachos and drinks, that's about...   \n",
       "379595      5  First - great service.  My wife is pregnant an...   \n",
       "245044      4  Friendly staff and is seemingly packed with us...   \n",
       "...       ...                                                ...   \n",
       "355071      5  Halinas staff is always professional and effic...   \n",
       "296070      4  This place may not impress people from the out...   \n",
       "379786      4  Great place for a night out with friends. Good...   \n",
       "436895      3  Delish but king crabs had Lil meat and not wor...   \n",
       "383777      5  This is the best Thai Food on the North end. T...   \n",
       "\n",
       "                                                 new_text        0         1  \\\n",
       "372339  blue host downward slide year theyve obviously...  0.53235  0.532248   \n",
       "144885  years back appreciated video showed us explain...  0.53235  0.532248   \n",
       "107653                  good place nachos drinks thats it  0.53235  0.532248   \n",
       "379595  first  great service wife pregnant server poin...  0.53235  0.532248   \n",
       "245044  friendly staff seemingly packed usuals food gr...  0.53235  0.532248   \n",
       "...                                                   ...      ...       ...   \n",
       "355071  halinas staff always professional efficient iv...  0.53235  0.532248   \n",
       "296070  place may impress people outside cheesesteaks ...  0.53235  0.532248   \n",
       "379786  great place night friends good food good servi...  0.53235  0.532248   \n",
       "436895  delish king crabs lil meat worth 50 dollars 2 ...  0.53235  0.532248   \n",
       "383777  best thai food north end place clean food wond...  0.53235  0.532248   \n",
       "\n",
       "               2         3         4         5         6         7         8  \\\n",
       "372339  0.930688  0.954971  0.143865  0.438007  0.394262  0.440094  0.381254   \n",
       "144885  0.930688  0.954971  0.143865  0.438007  0.394262  0.440094  0.381254   \n",
       "107653  0.930688  0.954971  0.143865  0.438007  0.394262  0.440094  0.381254   \n",
       "379595  0.930688  0.954971  0.143865  0.438007  0.394262  0.440094  0.381254   \n",
       "245044  0.930688  0.954971  0.143865  0.438007  0.394262  0.440094  0.381254   \n",
       "...          ...       ...       ...       ...       ...       ...       ...   \n",
       "355071  0.930688  0.954971  0.143865  0.438007  0.394262  0.440094  0.381254   \n",
       "296070  0.930688  0.954971  0.143865  0.438007  0.394262  0.440094  0.381254   \n",
       "379786  0.930688  0.954971  0.143865  0.438007  0.394262  0.440094  0.381254   \n",
       "436895  0.930688  0.954971  0.143865  0.438007  0.394262  0.440094  0.381254   \n",
       "383777  0.930688  0.954971  0.143865  0.438007  0.394262  0.440094  0.381254   \n",
       "\n",
       "               9  \n",
       "372339  0.082891  \n",
       "144885  0.082891  \n",
       "107653  0.082891  \n",
       "379595  0.082891  \n",
       "245044  0.082891  \n",
       "...          ...  \n",
       "355071  0.082891  \n",
       "296070  0.082891  \n",
       "379786  0.082891  \n",
       "436895  0.082891  \n",
       "383777  0.082891  \n",
       "\n",
       "[10000 rows x 13 columns]"
      ]
     },
     "execution_count": 22,
     "metadata": {},
     "output_type": "execute_result"
    }
   ],
   "source": [
    "df"
   ]
  },
  {
   "cell_type": "code",
   "execution_count": 26,
   "metadata": {},
   "outputs": [],
   "source": [
    "df['polarity'] = df['text'].apply(lambda x: getPolarity(x))"
   ]
  },
  {
   "cell_type": "code",
   "execution_count": 27,
   "metadata": {},
   "outputs": [
    {
     "data": {
      "text/html": [
       "<div>\n",
       "<style scoped>\n",
       "    .dataframe tbody tr th:only-of-type {\n",
       "        vertical-align: middle;\n",
       "    }\n",
       "\n",
       "    .dataframe tbody tr th {\n",
       "        vertical-align: top;\n",
       "    }\n",
       "\n",
       "    .dataframe thead th {\n",
       "        text-align: right;\n",
       "    }\n",
       "</style>\n",
       "<table border=\"1\" class=\"dataframe\">\n",
       "  <thead>\n",
       "    <tr style=\"text-align: right;\">\n",
       "      <th></th>\n",
       "      <th>stars</th>\n",
       "      <th>text</th>\n",
       "      <th>new_text</th>\n",
       "      <th>0</th>\n",
       "      <th>1</th>\n",
       "      <th>2</th>\n",
       "      <th>3</th>\n",
       "      <th>4</th>\n",
       "      <th>5</th>\n",
       "      <th>6</th>\n",
       "      <th>7</th>\n",
       "      <th>8</th>\n",
       "      <th>9</th>\n",
       "      <th>polarity</th>\n",
       "    </tr>\n",
       "  </thead>\n",
       "  <tbody>\n",
       "    <tr>\n",
       "      <th>372339</th>\n",
       "      <td>1</td>\n",
       "      <td>Blue Host has been on a downward slide for ove...</td>\n",
       "      <td>blue host downward slide year theyve obviously...</td>\n",
       "      <td>0.53235</td>\n",
       "      <td>0.532248</td>\n",
       "      <td>0.930688</td>\n",
       "      <td>0.954971</td>\n",
       "      <td>0.143865</td>\n",
       "      <td>0.438007</td>\n",
       "      <td>0.394262</td>\n",
       "      <td>0.440094</td>\n",
       "      <td>0.381254</td>\n",
       "      <td>0.082891</td>\n",
       "      <td>-0.200000</td>\n",
       "    </tr>\n",
       "    <tr>\n",
       "      <th>144885</th>\n",
       "      <td>2</td>\n",
       "      <td>I was there a few years back. I appreciated th...</td>\n",
       "      <td>years back appreciated video showed us explain...</td>\n",
       "      <td>0.53235</td>\n",
       "      <td>0.532248</td>\n",
       "      <td>0.930688</td>\n",
       "      <td>0.954971</td>\n",
       "      <td>0.143865</td>\n",
       "      <td>0.438007</td>\n",
       "      <td>0.394262</td>\n",
       "      <td>0.440094</td>\n",
       "      <td>0.381254</td>\n",
       "      <td>0.082891</td>\n",
       "      <td>0.022511</td>\n",
       "    </tr>\n",
       "    <tr>\n",
       "      <th>107653</th>\n",
       "      <td>2</td>\n",
       "      <td>Good place for nachos and drinks, that's about...</td>\n",
       "      <td>good place nachos drinks thats it</td>\n",
       "      <td>0.53235</td>\n",
       "      <td>0.532248</td>\n",
       "      <td>0.930688</td>\n",
       "      <td>0.954971</td>\n",
       "      <td>0.143865</td>\n",
       "      <td>0.438007</td>\n",
       "      <td>0.394262</td>\n",
       "      <td>0.440094</td>\n",
       "      <td>0.381254</td>\n",
       "      <td>0.082891</td>\n",
       "      <td>0.700000</td>\n",
       "    </tr>\n",
       "    <tr>\n",
       "      <th>379595</th>\n",
       "      <td>5</td>\n",
       "      <td>First - great service.  My wife is pregnant an...</td>\n",
       "      <td>first  great service wife pregnant server poin...</td>\n",
       "      <td>0.53235</td>\n",
       "      <td>0.532248</td>\n",
       "      <td>0.930688</td>\n",
       "      <td>0.954971</td>\n",
       "      <td>0.143865</td>\n",
       "      <td>0.438007</td>\n",
       "      <td>0.394262</td>\n",
       "      <td>0.440094</td>\n",
       "      <td>0.381254</td>\n",
       "      <td>0.082891</td>\n",
       "      <td>0.506250</td>\n",
       "    </tr>\n",
       "    <tr>\n",
       "      <th>245044</th>\n",
       "      <td>4</td>\n",
       "      <td>Friendly staff and is seemingly packed with us...</td>\n",
       "      <td>friendly staff seemingly packed usuals food gr...</td>\n",
       "      <td>0.53235</td>\n",
       "      <td>0.532248</td>\n",
       "      <td>0.930688</td>\n",
       "      <td>0.954971</td>\n",
       "      <td>0.143865</td>\n",
       "      <td>0.438007</td>\n",
       "      <td>0.394262</td>\n",
       "      <td>0.440094</td>\n",
       "      <td>0.381254</td>\n",
       "      <td>0.082891</td>\n",
       "      <td>0.587500</td>\n",
       "    </tr>\n",
       "    <tr>\n",
       "      <th>...</th>\n",
       "      <td>...</td>\n",
       "      <td>...</td>\n",
       "      <td>...</td>\n",
       "      <td>...</td>\n",
       "      <td>...</td>\n",
       "      <td>...</td>\n",
       "      <td>...</td>\n",
       "      <td>...</td>\n",
       "      <td>...</td>\n",
       "      <td>...</td>\n",
       "      <td>...</td>\n",
       "      <td>...</td>\n",
       "      <td>...</td>\n",
       "      <td>...</td>\n",
       "    </tr>\n",
       "    <tr>\n",
       "      <th>355071</th>\n",
       "      <td>5</td>\n",
       "      <td>Halinas staff is always professional and effic...</td>\n",
       "      <td>halinas staff always professional efficient iv...</td>\n",
       "      <td>0.53235</td>\n",
       "      <td>0.532248</td>\n",
       "      <td>0.930688</td>\n",
       "      <td>0.954971</td>\n",
       "      <td>0.143865</td>\n",
       "      <td>0.438007</td>\n",
       "      <td>0.394262</td>\n",
       "      <td>0.440094</td>\n",
       "      <td>0.381254</td>\n",
       "      <td>0.082891</td>\n",
       "      <td>0.375000</td>\n",
       "    </tr>\n",
       "    <tr>\n",
       "      <th>296070</th>\n",
       "      <td>4</td>\n",
       "      <td>This place may not impress people from the out...</td>\n",
       "      <td>place may impress people outside cheesesteaks ...</td>\n",
       "      <td>0.53235</td>\n",
       "      <td>0.532248</td>\n",
       "      <td>0.930688</td>\n",
       "      <td>0.954971</td>\n",
       "      <td>0.143865</td>\n",
       "      <td>0.438007</td>\n",
       "      <td>0.394262</td>\n",
       "      <td>0.440094</td>\n",
       "      <td>0.381254</td>\n",
       "      <td>0.082891</td>\n",
       "      <td>0.312500</td>\n",
       "    </tr>\n",
       "    <tr>\n",
       "      <th>379786</th>\n",
       "      <td>4</td>\n",
       "      <td>Great place for a night out with friends. Good...</td>\n",
       "      <td>great place night friends good food good servi...</td>\n",
       "      <td>0.53235</td>\n",
       "      <td>0.532248</td>\n",
       "      <td>0.930688</td>\n",
       "      <td>0.954971</td>\n",
       "      <td>0.143865</td>\n",
       "      <td>0.438007</td>\n",
       "      <td>0.394262</td>\n",
       "      <td>0.440094</td>\n",
       "      <td>0.381254</td>\n",
       "      <td>0.082891</td>\n",
       "      <td>0.546875</td>\n",
       "    </tr>\n",
       "    <tr>\n",
       "      <th>436895</th>\n",
       "      <td>3</td>\n",
       "      <td>Delish but king crabs had Lil meat and not wor...</td>\n",
       "      <td>delish king crabs lil meat worth 50 dollars 2 ...</td>\n",
       "      <td>0.53235</td>\n",
       "      <td>0.532248</td>\n",
       "      <td>0.930688</td>\n",
       "      <td>0.954971</td>\n",
       "      <td>0.143865</td>\n",
       "      <td>0.438007</td>\n",
       "      <td>0.394262</td>\n",
       "      <td>0.440094</td>\n",
       "      <td>0.381254</td>\n",
       "      <td>0.082891</td>\n",
       "      <td>-0.075000</td>\n",
       "    </tr>\n",
       "    <tr>\n",
       "      <th>383777</th>\n",
       "      <td>5</td>\n",
       "      <td>This is the best Thai Food on the North end. T...</td>\n",
       "      <td>best thai food north end place clean food wond...</td>\n",
       "      <td>0.53235</td>\n",
       "      <td>0.532248</td>\n",
       "      <td>0.930688</td>\n",
       "      <td>0.954971</td>\n",
       "      <td>0.143865</td>\n",
       "      <td>0.438007</td>\n",
       "      <td>0.394262</td>\n",
       "      <td>0.440094</td>\n",
       "      <td>0.381254</td>\n",
       "      <td>0.082891</td>\n",
       "      <td>0.562037</td>\n",
       "    </tr>\n",
       "  </tbody>\n",
       "</table>\n",
       "<p>10000 rows × 14 columns</p>\n",
       "</div>"
      ],
      "text/plain": [
       "        stars                                               text  \\\n",
       "372339      1  Blue Host has been on a downward slide for ove...   \n",
       "144885      2  I was there a few years back. I appreciated th...   \n",
       "107653      2  Good place for nachos and drinks, that's about...   \n",
       "379595      5  First - great service.  My wife is pregnant an...   \n",
       "245044      4  Friendly staff and is seemingly packed with us...   \n",
       "...       ...                                                ...   \n",
       "355071      5  Halinas staff is always professional and effic...   \n",
       "296070      4  This place may not impress people from the out...   \n",
       "379786      4  Great place for a night out with friends. Good...   \n",
       "436895      3  Delish but king crabs had Lil meat and not wor...   \n",
       "383777      5  This is the best Thai Food on the North end. T...   \n",
       "\n",
       "                                                 new_text        0         1  \\\n",
       "372339  blue host downward slide year theyve obviously...  0.53235  0.532248   \n",
       "144885  years back appreciated video showed us explain...  0.53235  0.532248   \n",
       "107653                  good place nachos drinks thats it  0.53235  0.532248   \n",
       "379595  first  great service wife pregnant server poin...  0.53235  0.532248   \n",
       "245044  friendly staff seemingly packed usuals food gr...  0.53235  0.532248   \n",
       "...                                                   ...      ...       ...   \n",
       "355071  halinas staff always professional efficient iv...  0.53235  0.532248   \n",
       "296070  place may impress people outside cheesesteaks ...  0.53235  0.532248   \n",
       "379786  great place night friends good food good servi...  0.53235  0.532248   \n",
       "436895  delish king crabs lil meat worth 50 dollars 2 ...  0.53235  0.532248   \n",
       "383777  best thai food north end place clean food wond...  0.53235  0.532248   \n",
       "\n",
       "               2         3         4         5         6         7         8  \\\n",
       "372339  0.930688  0.954971  0.143865  0.438007  0.394262  0.440094  0.381254   \n",
       "144885  0.930688  0.954971  0.143865  0.438007  0.394262  0.440094  0.381254   \n",
       "107653  0.930688  0.954971  0.143865  0.438007  0.394262  0.440094  0.381254   \n",
       "379595  0.930688  0.954971  0.143865  0.438007  0.394262  0.440094  0.381254   \n",
       "245044  0.930688  0.954971  0.143865  0.438007  0.394262  0.440094  0.381254   \n",
       "...          ...       ...       ...       ...       ...       ...       ...   \n",
       "355071  0.930688  0.954971  0.143865  0.438007  0.394262  0.440094  0.381254   \n",
       "296070  0.930688  0.954971  0.143865  0.438007  0.394262  0.440094  0.381254   \n",
       "379786  0.930688  0.954971  0.143865  0.438007  0.394262  0.440094  0.381254   \n",
       "436895  0.930688  0.954971  0.143865  0.438007  0.394262  0.440094  0.381254   \n",
       "383777  0.930688  0.954971  0.143865  0.438007  0.394262  0.440094  0.381254   \n",
       "\n",
       "               9  polarity  \n",
       "372339  0.082891 -0.200000  \n",
       "144885  0.082891  0.022511  \n",
       "107653  0.082891  0.700000  \n",
       "379595  0.082891  0.506250  \n",
       "245044  0.082891  0.587500  \n",
       "...          ...       ...  \n",
       "355071  0.082891  0.375000  \n",
       "296070  0.082891  0.312500  \n",
       "379786  0.082891  0.546875  \n",
       "436895  0.082891 -0.075000  \n",
       "383777  0.082891  0.562037  \n",
       "\n",
       "[10000 rows x 14 columns]"
      ]
     },
     "execution_count": 27,
     "metadata": {},
     "output_type": "execute_result"
    }
   ],
   "source": [
    "df"
   ]
  },
  {
   "cell_type": "markdown",
   "metadata": {},
   "source": [
    "We train again our machine learning model with the additional feature"
   ]
  },
  {
   "cell_type": "code",
   "execution_count": 29,
   "metadata": {},
   "outputs": [],
   "source": [
    "train, test = train_test_split(df, test_size=0.2)\n",
    "x_train, y_train = train.drop(columns = ['text', 'new_text', 'stars']), train['stars']\n",
    "x_test, y_test = test.drop(columns = ['text', 'new_text', 'stars']), test['stars']"
   ]
  },
  {
   "cell_type": "code",
   "execution_count": 30,
   "metadata": {},
   "outputs": [
    {
     "data": {
      "text/html": [
       "<div>\n",
       "<style scoped>\n",
       "    .dataframe tbody tr th:only-of-type {\n",
       "        vertical-align: middle;\n",
       "    }\n",
       "\n",
       "    .dataframe tbody tr th {\n",
       "        vertical-align: top;\n",
       "    }\n",
       "\n",
       "    .dataframe thead th {\n",
       "        text-align: right;\n",
       "    }\n",
       "</style>\n",
       "<table border=\"1\" class=\"dataframe\">\n",
       "  <thead>\n",
       "    <tr style=\"text-align: right;\">\n",
       "      <th></th>\n",
       "      <th>0</th>\n",
       "      <th>1</th>\n",
       "      <th>2</th>\n",
       "      <th>3</th>\n",
       "      <th>4</th>\n",
       "      <th>5</th>\n",
       "      <th>6</th>\n",
       "      <th>7</th>\n",
       "      <th>8</th>\n",
       "      <th>9</th>\n",
       "      <th>polarity</th>\n",
       "    </tr>\n",
       "  </thead>\n",
       "  <tbody>\n",
       "    <tr>\n",
       "      <th>51588</th>\n",
       "      <td>0.53235</td>\n",
       "      <td>0.532248</td>\n",
       "      <td>0.930688</td>\n",
       "      <td>0.954971</td>\n",
       "      <td>0.143865</td>\n",
       "      <td>0.438007</td>\n",
       "      <td>0.394262</td>\n",
       "      <td>0.440094</td>\n",
       "      <td>0.381254</td>\n",
       "      <td>0.082891</td>\n",
       "      <td>0.477778</td>\n",
       "    </tr>\n",
       "    <tr>\n",
       "      <th>150680</th>\n",
       "      <td>0.53235</td>\n",
       "      <td>0.532248</td>\n",
       "      <td>0.930688</td>\n",
       "      <td>0.954971</td>\n",
       "      <td>0.143865</td>\n",
       "      <td>0.438007</td>\n",
       "      <td>0.394262</td>\n",
       "      <td>0.440094</td>\n",
       "      <td>0.381254</td>\n",
       "      <td>0.082891</td>\n",
       "      <td>0.120758</td>\n",
       "    </tr>\n",
       "    <tr>\n",
       "      <th>111775</th>\n",
       "      <td>0.53235</td>\n",
       "      <td>0.532248</td>\n",
       "      <td>0.930688</td>\n",
       "      <td>0.954971</td>\n",
       "      <td>0.143865</td>\n",
       "      <td>0.438007</td>\n",
       "      <td>0.394262</td>\n",
       "      <td>0.440094</td>\n",
       "      <td>0.381254</td>\n",
       "      <td>0.082891</td>\n",
       "      <td>0.265625</td>\n",
       "    </tr>\n",
       "    <tr>\n",
       "      <th>341257</th>\n",
       "      <td>0.53235</td>\n",
       "      <td>0.532248</td>\n",
       "      <td>0.930688</td>\n",
       "      <td>0.954971</td>\n",
       "      <td>0.143865</td>\n",
       "      <td>0.438007</td>\n",
       "      <td>0.394262</td>\n",
       "      <td>0.440094</td>\n",
       "      <td>0.381254</td>\n",
       "      <td>0.082891</td>\n",
       "      <td>0.210000</td>\n",
       "    </tr>\n",
       "    <tr>\n",
       "      <th>112575</th>\n",
       "      <td>0.53235</td>\n",
       "      <td>0.532248</td>\n",
       "      <td>0.930688</td>\n",
       "      <td>0.954971</td>\n",
       "      <td>0.143865</td>\n",
       "      <td>0.438007</td>\n",
       "      <td>0.394262</td>\n",
       "      <td>0.440094</td>\n",
       "      <td>0.381254</td>\n",
       "      <td>0.082891</td>\n",
       "      <td>-0.250000</td>\n",
       "    </tr>\n",
       "    <tr>\n",
       "      <th>...</th>\n",
       "      <td>...</td>\n",
       "      <td>...</td>\n",
       "      <td>...</td>\n",
       "      <td>...</td>\n",
       "      <td>...</td>\n",
       "      <td>...</td>\n",
       "      <td>...</td>\n",
       "      <td>...</td>\n",
       "      <td>...</td>\n",
       "      <td>...</td>\n",
       "      <td>...</td>\n",
       "    </tr>\n",
       "    <tr>\n",
       "      <th>88854</th>\n",
       "      <td>0.53235</td>\n",
       "      <td>0.532248</td>\n",
       "      <td>0.930688</td>\n",
       "      <td>0.954971</td>\n",
       "      <td>0.143865</td>\n",
       "      <td>0.438007</td>\n",
       "      <td>0.394262</td>\n",
       "      <td>0.440094</td>\n",
       "      <td>0.381254</td>\n",
       "      <td>0.082891</td>\n",
       "      <td>0.332143</td>\n",
       "    </tr>\n",
       "    <tr>\n",
       "      <th>244258</th>\n",
       "      <td>0.53235</td>\n",
       "      <td>0.532248</td>\n",
       "      <td>0.930688</td>\n",
       "      <td>0.954971</td>\n",
       "      <td>0.143865</td>\n",
       "      <td>0.438007</td>\n",
       "      <td>0.394262</td>\n",
       "      <td>0.440094</td>\n",
       "      <td>0.381254</td>\n",
       "      <td>0.082891</td>\n",
       "      <td>-0.362857</td>\n",
       "    </tr>\n",
       "    <tr>\n",
       "      <th>362121</th>\n",
       "      <td>0.53235</td>\n",
       "      <td>0.532248</td>\n",
       "      <td>0.930688</td>\n",
       "      <td>0.954971</td>\n",
       "      <td>0.143865</td>\n",
       "      <td>0.438007</td>\n",
       "      <td>0.394262</td>\n",
       "      <td>0.440094</td>\n",
       "      <td>0.381254</td>\n",
       "      <td>0.082891</td>\n",
       "      <td>0.215357</td>\n",
       "    </tr>\n",
       "    <tr>\n",
       "      <th>355749</th>\n",
       "      <td>0.53235</td>\n",
       "      <td>0.532248</td>\n",
       "      <td>0.930688</td>\n",
       "      <td>0.954971</td>\n",
       "      <td>0.143865</td>\n",
       "      <td>0.438007</td>\n",
       "      <td>0.394262</td>\n",
       "      <td>0.440094</td>\n",
       "      <td>0.381254</td>\n",
       "      <td>0.082891</td>\n",
       "      <td>-0.010606</td>\n",
       "    </tr>\n",
       "    <tr>\n",
       "      <th>78828</th>\n",
       "      <td>0.53235</td>\n",
       "      <td>0.532248</td>\n",
       "      <td>0.930688</td>\n",
       "      <td>0.954971</td>\n",
       "      <td>0.143865</td>\n",
       "      <td>0.438007</td>\n",
       "      <td>0.394262</td>\n",
       "      <td>0.440094</td>\n",
       "      <td>0.381254</td>\n",
       "      <td>0.082891</td>\n",
       "      <td>0.430417</td>\n",
       "    </tr>\n",
       "  </tbody>\n",
       "</table>\n",
       "<p>8000 rows × 11 columns</p>\n",
       "</div>"
      ],
      "text/plain": [
       "              0         1         2         3         4         5         6  \\\n",
       "51588   0.53235  0.532248  0.930688  0.954971  0.143865  0.438007  0.394262   \n",
       "150680  0.53235  0.532248  0.930688  0.954971  0.143865  0.438007  0.394262   \n",
       "111775  0.53235  0.532248  0.930688  0.954971  0.143865  0.438007  0.394262   \n",
       "341257  0.53235  0.532248  0.930688  0.954971  0.143865  0.438007  0.394262   \n",
       "112575  0.53235  0.532248  0.930688  0.954971  0.143865  0.438007  0.394262   \n",
       "...         ...       ...       ...       ...       ...       ...       ...   \n",
       "88854   0.53235  0.532248  0.930688  0.954971  0.143865  0.438007  0.394262   \n",
       "244258  0.53235  0.532248  0.930688  0.954971  0.143865  0.438007  0.394262   \n",
       "362121  0.53235  0.532248  0.930688  0.954971  0.143865  0.438007  0.394262   \n",
       "355749  0.53235  0.532248  0.930688  0.954971  0.143865  0.438007  0.394262   \n",
       "78828   0.53235  0.532248  0.930688  0.954971  0.143865  0.438007  0.394262   \n",
       "\n",
       "               7         8         9  polarity  \n",
       "51588   0.440094  0.381254  0.082891  0.477778  \n",
       "150680  0.440094  0.381254  0.082891  0.120758  \n",
       "111775  0.440094  0.381254  0.082891  0.265625  \n",
       "341257  0.440094  0.381254  0.082891  0.210000  \n",
       "112575  0.440094  0.381254  0.082891 -0.250000  \n",
       "...          ...       ...       ...       ...  \n",
       "88854   0.440094  0.381254  0.082891  0.332143  \n",
       "244258  0.440094  0.381254  0.082891 -0.362857  \n",
       "362121  0.440094  0.381254  0.082891  0.215357  \n",
       "355749  0.440094  0.381254  0.082891 -0.010606  \n",
       "78828   0.440094  0.381254  0.082891  0.430417  \n",
       "\n",
       "[8000 rows x 11 columns]"
      ]
     },
     "execution_count": 30,
     "metadata": {},
     "output_type": "execute_result"
    }
   ],
   "source": [
    "x_train"
   ]
  },
  {
   "cell_type": "code",
   "execution_count": 31,
   "metadata": {},
   "outputs": [
    {
     "name": "stdout",
     "output_type": "stream",
     "text": [
      "Fitting 5 folds for each of 20 candidates, totalling 100 fits\n"
     ]
    },
    {
     "name": "stderr",
     "output_type": "stream",
     "text": [
      "[Parallel(n_jobs=-1)]: Using backend LokyBackend with 12 concurrent workers.\n",
      "[Parallel(n_jobs=-1)]: Done  17 tasks      | elapsed:   34.4s\n",
      "[Parallel(n_jobs=-1)]: Done 100 out of 100 | elapsed:  2.4min finished\n"
     ]
    },
    {
     "data": {
      "text/plain": [
       "RandomizedSearchCV(estimator=RandomForestRegressor(), n_iter=20, n_jobs=-1,\n",
       "                   param_distributions={'bootstrap': [True, False],\n",
       "                                        'max_depth': [10, 20, 30, 40, 50, 60,\n",
       "                                                      70, 80, 90, 100, None],\n",
       "                                        'max_features': ['auto', 'sqrt'],\n",
       "                                        'min_samples_leaf': [1, 2, 4],\n",
       "                                        'min_samples_split': [2, 5, 10],\n",
       "                                        'n_estimators': [200, 400, 600, 800,\n",
       "                                                         1000, 1200, 1400, 1600,\n",
       "                                                         1800, 2000]},\n",
       "                   scoring='neg_mean_squared_error', verbose=2)"
      ]
     },
     "execution_count": 31,
     "metadata": {},
     "output_type": "execute_result"
    }
   ],
   "source": [
    "rf_model = RandomForestRegressor()\n",
    "\n",
    "#we perform a grid search to find the best parameters in the param dictionary created before \n",
    "clf = RandomizedSearchCV(estimator= rf_model, param_distributions = parameters, n_iter = 20, scoring = 'neg_mean_squared_error', verbose=2, n_jobs=-1)\n",
    "#we fit the model with the best parameters\n",
    "clf.fit(x_train, y_train)"
   ]
  },
  {
   "cell_type": "code",
   "execution_count": 32,
   "metadata": {},
   "outputs": [
    {
     "name": "stdout",
     "output_type": "stream",
     "text": [
      "1.1860093782853696\n"
     ]
    }
   ],
   "source": [
    "y_pred = clf.predict(x_test)\n",
    "MSE = np.mean((y_pred-y_test)**2)\n",
    "print(MSE)"
   ]
  },
  {
   "cell_type": "code",
   "execution_count": 33,
   "metadata": {},
   "outputs": [
    {
     "data": {
      "text/plain": [
       "array([4.35240547, 1.88548128, 4.43756448, ..., 1.17270517, 4.62865368,\n",
       "       2.25668362])"
      ]
     },
     "execution_count": 33,
     "metadata": {},
     "output_type": "execute_result"
    }
   ],
   "source": [
    "y_pred"
   ]
  },
  {
   "cell_type": "code",
   "execution_count": 36,
   "metadata": {},
   "outputs": [],
   "source": [
    "round_pred = [round(el) for el in y_pred]"
   ]
  },
  {
   "cell_type": "code",
   "execution_count": 34,
   "metadata": {},
   "outputs": [],
   "source": [
    "df_vis = pd.DataFrame({'true':y_test.values , 'pred': round})"
   ]
  },
  {
   "cell_type": "code",
   "execution_count": null,
   "metadata": {},
   "outputs": [],
   "source": []
  }
 ],
 "metadata": {
  "colab": {
   "collapsed_sections": [],
   "name": "Topic_analysis_and_predict.ipynb",
   "provenance": []
  },
  "kernelspec": {
   "display_name": "Python 3",
   "language": "python",
   "name": "python3"
  },
  "language_info": {
   "codemirror_mode": {
    "name": "ipython",
    "version": 3
   },
   "file_extension": ".py",
   "mimetype": "text/x-python",
   "name": "python",
   "nbconvert_exporter": "python",
   "pygments_lexer": "ipython3",
   "version": "3.8.5"
  }
 },
 "nbformat": 4,
 "nbformat_minor": 4
}
