{
 "cells": [
  {
   "cell_type": "code",
   "execution_count": 71,
   "metadata": {
    "colab": {
     "base_uri": "https://localhost:8080/"
    },
    "id": "BF3luvt1D17U",
    "outputId": "023609a1-1c5f-4ab1-b7a1-5cccbacd3bd0"
   },
   "outputs": [],
   "source": [
    "import pandas as pd\n",
    "import json"
   ]
  },
  {
   "cell_type": "code",
   "execution_count": 72,
   "metadata": {},
   "outputs": [],
   "source": [
    "df1 = pd.read_csv('review1.csv')\n",
    "df1=df1.drop(['review_id','funny','cool'], axis=1)"
   ]
  },
  {
   "cell_type": "code",
   "execution_count": 73,
   "metadata": {},
   "outputs": [],
   "source": [
    "df2 = pd.read_csv('review2.csv')\n",
    "df2=df2.drop(['review_id','funny','cool'], axis=1)"
   ]
  },
  {
   "cell_type": "code",
   "execution_count": 74,
   "metadata": {
    "tags": []
   },
   "outputs": [],
   "source": [
    "df3 = pd.read_csv('review3.csv')\n",
    "df3=df3.drop(['review_id','funny','cool'], axis=1)"
   ]
  },
  {
   "cell_type": "code",
   "execution_count": 75,
   "metadata": {},
   "outputs": [],
   "source": [
    "df4 = pd.read_csv('review4.csv')\n",
    "df4=df4.drop(['review_id','funny','cool'], axis=1)"
   ]
  },
  {
   "cell_type": "code",
   "execution_count": 76,
   "metadata": {},
   "outputs": [],
   "source": [
    "df5 = pd.read_csv('review5.csv')\n",
    "df5=df5.drop(['review_id','funny','cool'], axis=1)"
   ]
  },
  {
   "cell_type": "code",
   "execution_count": 77,
   "metadata": {},
   "outputs": [],
   "source": [
    "df6 = pd.read_csv('review6.csv')\n",
    "df6=df6.drop(['review_id','funny','cool'], axis=1)"
   ]
  },
  {
   "cell_type": "code",
   "execution_count": 78,
   "metadata": {},
   "outputs": [],
   "source": [
    "df7 = pd.read_csv('review7.csv')\n",
    "df7=df7.drop(['review_id','funny','cool'], axis=1)"
   ]
  },
  {
   "cell_type": "code",
   "execution_count": 79,
   "metadata": {},
   "outputs": [],
   "source": [
    "df8 = pd.read_csv('review8.csv')\n",
    "df8=df8.drop(['review_id','funny','cool'], axis=1)"
   ]
  },
  {
   "cell_type": "code",
   "execution_count": 80,
   "metadata": {},
   "outputs": [],
   "source": [
    "df9 = pd.read_csv('review9.csv')\n",
    "df9=df9.drop(['review_id','funny','cool'], axis=1)"
   ]
  },
  {
   "cell_type": "code",
   "execution_count": 81,
   "metadata": {},
   "outputs": [],
   "source": [
    "df10 = pd.read_csv('review10.csv')\n",
    "df10=df10.drop(['review_id','funny','cool'], axis=1)"
   ]
  },
  {
   "cell_type": "code",
   "execution_count": 82,
   "metadata": {},
   "outputs": [],
   "source": [
    "df11 = pd.read_csv('review11.csv')\n",
    "df11=df11.drop(['review_id','funny','cool'], axis=1)"
   ]
  },
  {
   "cell_type": "code",
   "execution_count": 83,
   "metadata": {},
   "outputs": [],
   "source": [
    "df12 = pd.read_csv('review12.csv')\n",
    "df12=df12.drop(['review_id','funny','cool'], axis=1)"
   ]
  },
  {
   "cell_type": "code",
   "execution_count": 84,
   "metadata": {},
   "outputs": [],
   "source": [
    "df13 = pd.read_csv('review13.csv')\n",
    "df13=df13.drop(['review_id','funny','cool'], axis=1)"
   ]
  },
  {
   "cell_type": "code",
   "execution_count": 85,
   "metadata": {},
   "outputs": [],
   "source": [
    "df14 = pd.read_csv('review14.csv')\n",
    "df14=df14.drop(['review_id','funny','cool'], axis=1)"
   ]
  },
  {
   "cell_type": "code",
   "execution_count": 86,
   "metadata": {},
   "outputs": [],
   "source": [
    "df15 = pd.read_csv('review15.csv')\n",
    "df15=df15.drop(['review_id','funny','cool'], axis=1)"
   ]
  },
  {
   "cell_type": "code",
   "execution_count": 87,
   "metadata": {},
   "outputs": [],
   "source": [
    "df16 = pd.read_csv('review16.csv')\n",
    "df16=df16.drop(['review_id','funny','cool'], axis=1)"
   ]
  },
  {
   "cell_type": "code",
   "execution_count": 88,
   "metadata": {},
   "outputs": [],
   "source": [
    "df17 = pd.read_csv('review17.csv')\n",
    "df17=df17.drop(['review_id','funny','cool'], axis=1)"
   ]
  },
  {
   "cell_type": "code",
   "execution_count": 89,
   "metadata": {},
   "outputs": [],
   "source": [
    "df18 = pd.read_csv('review18.csv')\n",
    "df18=df18.drop(['review_id','funny','cool'], axis=1)"
   ]
  },
  {
   "cell_type": "code",
   "execution_count": 90,
   "metadata": {},
   "outputs": [],
   "source": [
    "#create a dataframe with all the reviews but without the text which is not relevant for the analysis\n",
    "frames = [df1, df2, df3,df4, df5, df6,df7, df8, df9,df10, df11, df12,df13, df14, df15,df16, df17, df18]\n",
    "df_r = pd.concat(frames)"
   ]
  },
  {
   "cell_type": "code",
   "execution_count": 91,
   "metadata": {},
   "outputs": [
    {
     "data": {
      "text/html": [
       "<div>\n",
       "<style scoped>\n",
       "    .dataframe tbody tr th:only-of-type {\n",
       "        vertical-align: middle;\n",
       "    }\n",
       "\n",
       "    .dataframe tbody tr th {\n",
       "        vertical-align: top;\n",
       "    }\n",
       "\n",
       "    .dataframe thead th {\n",
       "        text-align: right;\n",
       "    }\n",
       "</style>\n",
       "<table border=\"1\" class=\"dataframe\">\n",
       "  <thead>\n",
       "    <tr style=\"text-align: right;\">\n",
       "      <th></th>\n",
       "      <th>user_id</th>\n",
       "      <th>business_id</th>\n",
       "      <th>stars</th>\n",
       "      <th>useful</th>\n",
       "      <th>text</th>\n",
       "      <th>date</th>\n",
       "    </tr>\n",
       "  </thead>\n",
       "  <tbody>\n",
       "    <tr>\n",
       "      <th>0</th>\n",
       "      <td>ak0TdVmGKo4pwqdJSTLwWw</td>\n",
       "      <td>buF9druCkbuXLX526sGELQ</td>\n",
       "      <td>4</td>\n",
       "      <td>3</td>\n",
       "      <td>Apparently Prides Osteria had a rough summer a...</td>\n",
       "      <td>2014-10-11 03:34:02</td>\n",
       "    </tr>\n",
       "    <tr>\n",
       "      <th>1</th>\n",
       "      <td>YoVfDbnISlW0f7abNQACIg</td>\n",
       "      <td>RA4V8pr014UyUbDvI-LW2A</td>\n",
       "      <td>4</td>\n",
       "      <td>1</td>\n",
       "      <td>This store is pretty good. Not as great as Wal...</td>\n",
       "      <td>2015-07-03 20:38:25</td>\n",
       "    </tr>\n",
       "  </tbody>\n",
       "</table>\n",
       "</div>"
      ],
      "text/plain": [
       "                  user_id             business_id  stars  useful  \\\n",
       "0  ak0TdVmGKo4pwqdJSTLwWw  buF9druCkbuXLX526sGELQ      4       3   \n",
       "1  YoVfDbnISlW0f7abNQACIg  RA4V8pr014UyUbDvI-LW2A      4       1   \n",
       "\n",
       "                                                text                 date  \n",
       "0  Apparently Prides Osteria had a rough summer a...  2014-10-11 03:34:02  \n",
       "1  This store is pretty good. Not as great as Wal...  2015-07-03 20:38:25  "
      ]
     },
     "execution_count": 91,
     "metadata": {},
     "output_type": "execute_result"
    }
   ],
   "source": [
    "df_r.head(2)"
   ]
  },
  {
   "cell_type": "code",
   "execution_count": 92,
   "metadata": {
    "id": "YcN11PO3Eib0"
   },
   "outputs": [],
   "source": [
    "import numpy as np\n",
    "import dask.bag as db\n",
    "import dask.dataframe as dd # substitute of pandas to load the data in streams\n",
    "import dask.array as da"
   ]
  },
  {
   "cell_type": "code",
   "execution_count": 93,
   "metadata": {
    "colab": {
     "base_uri": "https://localhost:8080/",
     "height": 204
    },
    "id": "WfSyUozGFfps",
    "outputId": "cdf1443b-fa07-4e6d-9c19-46c3fa28c193"
   },
   "outputs": [
    {
     "data": {
      "text/html": [
       "<div>\n",
       "<style scoped>\n",
       "    .dataframe tbody tr th:only-of-type {\n",
       "        vertical-align: middle;\n",
       "    }\n",
       "\n",
       "    .dataframe tbody tr th {\n",
       "        vertical-align: top;\n",
       "    }\n",
       "\n",
       "    .dataframe thead th {\n",
       "        text-align: right;\n",
       "    }\n",
       "</style>\n",
       "<table border=\"1\" class=\"dataframe\">\n",
       "  <thead>\n",
       "    <tr style=\"text-align: right;\">\n",
       "      <th></th>\n",
       "      <th>user_id</th>\n",
       "      <th>business_id</th>\n",
       "      <th>stars</th>\n",
       "      <th>useful</th>\n",
       "      <th>text</th>\n",
       "      <th>date</th>\n",
       "    </tr>\n",
       "  </thead>\n",
       "  <tbody>\n",
       "    <tr>\n",
       "      <th>0</th>\n",
       "      <td>ak0TdVmGKo4pwqdJSTLwWw</td>\n",
       "      <td>buF9druCkbuXLX526sGELQ</td>\n",
       "      <td>4</td>\n",
       "      <td>3</td>\n",
       "      <td>Apparently Prides Osteria had a rough summer a...</td>\n",
       "      <td>2014-10-11 03:34:02</td>\n",
       "    </tr>\n",
       "    <tr>\n",
       "      <th>1</th>\n",
       "      <td>YoVfDbnISlW0f7abNQACIg</td>\n",
       "      <td>RA4V8pr014UyUbDvI-LW2A</td>\n",
       "      <td>4</td>\n",
       "      <td>1</td>\n",
       "      <td>This store is pretty good. Not as great as Wal...</td>\n",
       "      <td>2015-07-03 20:38:25</td>\n",
       "    </tr>\n",
       "    <tr>\n",
       "      <th>2</th>\n",
       "      <td>eC5evKn1TWDyHCyQAwguUw</td>\n",
       "      <td>_sS2LBIGNT5NQb6PD1Vtjw</td>\n",
       "      <td>5</td>\n",
       "      <td>0</td>\n",
       "      <td>I called WVM on the recommendation of a couple...</td>\n",
       "      <td>2013-05-28 20:38:06</td>\n",
       "    </tr>\n",
       "    <tr>\n",
       "      <th>3</th>\n",
       "      <td>SFQ1jcnGguO0LYWnbbftAA</td>\n",
       "      <td>0AzLzHfOJgL7ROwhdww2ew</td>\n",
       "      <td>2</td>\n",
       "      <td>1</td>\n",
       "      <td>I've stayed at many Marriott and Renaissance M...</td>\n",
       "      <td>2010-01-08 02:29:15</td>\n",
       "    </tr>\n",
       "    <tr>\n",
       "      <th>4</th>\n",
       "      <td>0kA0PAJ8QFMeveQWHFqz2A</td>\n",
       "      <td>8zehGz9jnxPqXtOc7KaJxA</td>\n",
       "      <td>4</td>\n",
       "      <td>0</td>\n",
       "      <td>The food is always great here. The service fro...</td>\n",
       "      <td>2011-07-28 18:05:01</td>\n",
       "    </tr>\n",
       "  </tbody>\n",
       "</table>\n",
       "</div>"
      ],
      "text/plain": [
       "                  user_id             business_id  stars  useful  \\\n",
       "0  ak0TdVmGKo4pwqdJSTLwWw  buF9druCkbuXLX526sGELQ      4       3   \n",
       "1  YoVfDbnISlW0f7abNQACIg  RA4V8pr014UyUbDvI-LW2A      4       1   \n",
       "2  eC5evKn1TWDyHCyQAwguUw  _sS2LBIGNT5NQb6PD1Vtjw      5       0   \n",
       "3  SFQ1jcnGguO0LYWnbbftAA  0AzLzHfOJgL7ROwhdww2ew      2       1   \n",
       "4  0kA0PAJ8QFMeveQWHFqz2A  8zehGz9jnxPqXtOc7KaJxA      4       0   \n",
       "\n",
       "                                                text                 date  \n",
       "0  Apparently Prides Osteria had a rough summer a...  2014-10-11 03:34:02  \n",
       "1  This store is pretty good. Not as great as Wal...  2015-07-03 20:38:25  \n",
       "2  I called WVM on the recommendation of a couple...  2013-05-28 20:38:06  \n",
       "3  I've stayed at many Marriott and Renaissance M...  2010-01-08 02:29:15  \n",
       "4  The food is always great here. The service fro...  2011-07-28 18:05:01  "
      ]
     },
     "execution_count": 93,
     "metadata": {},
     "output_type": "execute_result"
    }
   ],
   "source": [
    "df_r.head()"
   ]
  },
  {
   "cell_type": "code",
   "execution_count": 94,
   "metadata": {
    "colab": {
     "base_uri": "https://localhost:8080/"
    },
    "id": "Ysfh_N0TFrXs",
    "outputId": "f1b35e52-7b31-4bca-f63a-1d78202a2a82"
   },
   "outputs": [
    {
     "name": "stdout",
     "output_type": "stream",
     "text": [
      "Requirement already satisfied: nltk in c:\\users\\ica\\anaconda3\\lib\\site-packages (3.6.1)\n",
      "Requirement already satisfied: tqdm in c:\\users\\ica\\anaconda3\\lib\\site-packages (from nltk) (4.59.0)\n",
      "Requirement already satisfied: joblib in c:\\users\\ica\\anaconda3\\lib\\site-packages (from nltk) (1.0.1)\n",
      "Requirement already satisfied: click in c:\\users\\ica\\anaconda3\\lib\\site-packages (from nltk) (7.1.2)\n",
      "Requirement already satisfied: regex in c:\\users\\ica\\anaconda3\\lib\\site-packages (from nltk) (2021.4.4)\n"
     ]
    }
   ],
   "source": [
    "!pip install nltk"
   ]
  },
  {
   "cell_type": "code",
   "execution_count": 95,
   "metadata": {
    "colab": {
     "base_uri": "https://localhost:8080/"
    },
    "id": "yq3nye3zHAL3",
    "outputId": "ec0ad4ae-033b-42a8-a5b7-deae49fe37d9"
   },
   "outputs": [
    {
     "name": "stderr",
     "output_type": "stream",
     "text": [
      "[nltk_data] Downloading package stopwords to\n",
      "[nltk_data]     C:\\Users\\Ica\\AppData\\Roaming\\nltk_data...\n",
      "[nltk_data]   Package stopwords is already up-to-date!\n"
     ]
    },
    {
     "data": {
      "text/plain": [
       "True"
      ]
     },
     "execution_count": 95,
     "metadata": {},
     "output_type": "execute_result"
    }
   ],
   "source": [
    "import nltk\n",
    "import string\n",
    "nltk.download(\"stopwords\")"
   ]
  },
  {
   "cell_type": "code",
   "execution_count": 96,
   "metadata": {
    "colab": {
     "base_uri": "https://localhost:8080/"
    },
    "id": "cy33u4uzH9A7",
    "outputId": "28386785-0c17-4efb-8a79-46c89d7b5017"
   },
   "outputs": [
    {
     "name": "stdout",
     "output_type": "stream",
     "text": [
      "['i', 'me', 'my', 'myself', 'we', 'our', 'ours', 'ourselves', 'you', \"you're\", \"you've\", \"you'll\", \"you'd\", 'your', 'yours', 'yourself', 'yourselves', 'he', 'him', 'his', 'himself', 'she', \"she's\", 'her', 'hers', 'herself', 'it', \"it's\", 'its', 'itself', 'they', 'them', 'their', 'theirs', 'themselves', 'what', 'which', 'who', 'whom', 'this', 'that', \"that'll\", 'these', 'those', 'am', 'is', 'are', 'was', 'were', 'be', 'been', 'being', 'have', 'has', 'had', 'having', 'do', 'does', 'did', 'doing', 'a', 'an', 'the', 'and', 'but', 'if', 'or', 'because', 'as', 'until', 'while', 'of', 'at', 'by', 'for', 'with', 'about', 'against', 'between', 'into', 'through', 'during', 'before', 'after', 'above', 'below', 'to', 'from', 'up', 'down', 'in', 'out', 'on', 'off', 'over', 'under', 'again', 'further', 'then', 'once', 'here', 'there', 'when', 'where', 'why', 'how', 'all', 'any', 'both', 'each', 'few', 'more', 'most', 'other', 'some', 'such', 'no', 'nor', 'not', 'only', 'own', 'same', 'so', 'than', 'too', 'very', 's', 't', 'can', 'will', 'just', 'don', \"don't\", 'should', \"should've\", 'now', 'd', 'll', 'm', 'o', 're', 've', 'y', 'ain', 'aren', \"aren't\", 'couldn', \"couldn't\", 'didn', \"didn't\", 'doesn', \"doesn't\", 'hadn', \"hadn't\", 'hasn', \"hasn't\", 'haven', \"haven't\", 'isn', \"isn't\", 'ma', 'mightn', \"mightn't\", 'mustn', \"mustn't\", 'needn', \"needn't\", 'shan', \"shan't\", 'shouldn', \"shouldn't\", 'wasn', \"wasn't\", 'weren', \"weren't\", 'won', \"won't\", 'wouldn', \"wouldn't\"]\n"
     ]
    }
   ],
   "source": [
    "from nltk.corpus import stopwords\n",
    "sw_nltk = stopwords.words('english')\n",
    "print(sw_nltk)"
   ]
  },
  {
   "cell_type": "code",
   "execution_count": 97,
   "metadata": {
    "id": "aYitT2A9IAXg"
   },
   "outputs": [],
   "source": [
    "#n = len(df_r['text'])\n",
    "df = df_r.sample(10000)\n",
    "nt = []\n",
    "for i in range(10000):\n",
    "  s = str(df['text'].values[i])\n",
    "  words = [word for word in s.split() if word.lower() not in sw_nltk]\n",
    "  new_text = \" \".join(words)\n",
    "  new_text = new_text.translate(str.maketrans('', '', string.punctuation))\n",
    "  nt.append(new_text.lower()) \n",
    "df['new_text'] = nt"
   ]
  },
  {
   "cell_type": "code",
   "execution_count": 98,
   "metadata": {
    "colab": {
     "base_uri": "https://localhost:8080/",
     "height": 419
    },
    "id": "BrPrPg1PMteM",
    "outputId": "85c0ef7e-e0f5-4d63-d3a3-17720ab8c5d8"
   },
   "outputs": [
    {
     "data": {
      "text/html": [
       "<div>\n",
       "<style scoped>\n",
       "    .dataframe tbody tr th:only-of-type {\n",
       "        vertical-align: middle;\n",
       "    }\n",
       "\n",
       "    .dataframe tbody tr th {\n",
       "        vertical-align: top;\n",
       "    }\n",
       "\n",
       "    .dataframe thead th {\n",
       "        text-align: right;\n",
       "    }\n",
       "</style>\n",
       "<table border=\"1\" class=\"dataframe\">\n",
       "  <thead>\n",
       "    <tr style=\"text-align: right;\">\n",
       "      <th></th>\n",
       "      <th>user_id</th>\n",
       "      <th>business_id</th>\n",
       "      <th>stars</th>\n",
       "      <th>useful</th>\n",
       "      <th>text</th>\n",
       "      <th>date</th>\n",
       "      <th>new_text</th>\n",
       "    </tr>\n",
       "  </thead>\n",
       "  <tbody>\n",
       "    <tr>\n",
       "      <th>96467</th>\n",
       "      <td>b4iw8MWDBenCxCFJWdRMaA</td>\n",
       "      <td>iL-B07dWnzz3UMZv6GNmVA</td>\n",
       "      <td>5</td>\n",
       "      <td>0</td>\n",
       "      <td>My wife had chosen this restaurant for my birt...</td>\n",
       "      <td>2017-01-16 01:20:04</td>\n",
       "      <td>wife chosen restaurant birthday celebration di...</td>\n",
       "    </tr>\n",
       "    <tr>\n",
       "      <th>155038</th>\n",
       "      <td>-umrORXJod7F70tW0nvA3g</td>\n",
       "      <td>-0-S47lFMcMZ1SgEDN_gNg</td>\n",
       "      <td>5</td>\n",
       "      <td>0</td>\n",
       "      <td>I come here often and have always been treated...</td>\n",
       "      <td>2016-02-16 06:43:48</td>\n",
       "      <td>come often always treated w kindness respect s...</td>\n",
       "    </tr>\n",
       "    <tr>\n",
       "      <th>416761</th>\n",
       "      <td>6Z7IsfFoxbL7AYJ4EYTdMA</td>\n",
       "      <td>C6QvZLrdEcw3YhKFekFYCw</td>\n",
       "      <td>5</td>\n",
       "      <td>0</td>\n",
       "      <td>Easy, quick to set up an appointment, superb c...</td>\n",
       "      <td>2018-03-03 22:41:12</td>\n",
       "      <td>easy quick set appointment superb communicatio...</td>\n",
       "    </tr>\n",
       "    <tr>\n",
       "      <th>23077</th>\n",
       "      <td>sUtYlawOJp-1HHF8SB_ZPw</td>\n",
       "      <td>9SxRj08nP0q-bZHyOT9pBw</td>\n",
       "      <td>1</td>\n",
       "      <td>0</td>\n",
       "      <td>I went and had my nails done today. The worse ...</td>\n",
       "      <td>2016-01-20 03:07:36</td>\n",
       "      <td>went nails done today worse experience life ca...</td>\n",
       "    </tr>\n",
       "    <tr>\n",
       "      <th>156850</th>\n",
       "      <td>CX4uqNIZunRPtvp2z8_DLg</td>\n",
       "      <td>iDyLmQbZbgLZbcOa4Hr5kg</td>\n",
       "      <td>1</td>\n",
       "      <td>0</td>\n",
       "      <td>Wish I could give a review. Can't because they...</td>\n",
       "      <td>2019-06-06 06:40:16</td>\n",
       "      <td>wish could give review cant closed said would ...</td>\n",
       "    </tr>\n",
       "    <tr>\n",
       "      <th>...</th>\n",
       "      <td>...</td>\n",
       "      <td>...</td>\n",
       "      <td>...</td>\n",
       "      <td>...</td>\n",
       "      <td>...</td>\n",
       "      <td>...</td>\n",
       "      <td>...</td>\n",
       "    </tr>\n",
       "    <tr>\n",
       "      <th>343009</th>\n",
       "      <td>BQLc7jSHfPXDvleNFJ6lyg</td>\n",
       "      <td>vRpR9ajFYUnCCJj4IOeiYQ</td>\n",
       "      <td>2</td>\n",
       "      <td>2</td>\n",
       "      <td>Food was great. the service was not good at al...</td>\n",
       "      <td>2019-02-19 13:06:27</td>\n",
       "      <td>food great service good all ask several times ...</td>\n",
       "    </tr>\n",
       "    <tr>\n",
       "      <th>494304</th>\n",
       "      <td>-u6xIwd4In3KUXPKL_bjMw</td>\n",
       "      <td>uwQa6mjxITbZjV80jUoNtQ</td>\n",
       "      <td>5</td>\n",
       "      <td>0</td>\n",
       "      <td>Haven't been here in years (moved across town)...</td>\n",
       "      <td>2017-01-14 17:53:38</td>\n",
       "      <td>years moved across town stopped thursday morni...</td>\n",
       "    </tr>\n",
       "    <tr>\n",
       "      <th>380889</th>\n",
       "      <td>KE2IQHX3ReIY02CgYUy4XA</td>\n",
       "      <td>iPbKAH4Mp5d_25Fr-xYeQw</td>\n",
       "      <td>4</td>\n",
       "      <td>0</td>\n",
       "      <td>One of the only good breakfast joints in the a...</td>\n",
       "      <td>2017-07-12 13:23:22</td>\n",
       "      <td>one good breakfast joints area opinion size jo...</td>\n",
       "    </tr>\n",
       "    <tr>\n",
       "      <th>437517</th>\n",
       "      <td>mPUgr9pYKc3dRAFsbIKcmA</td>\n",
       "      <td>K37CTQeJL0-tyjie5VlxFQ</td>\n",
       "      <td>1</td>\n",
       "      <td>10</td>\n",
       "      <td>DO NOT MOVE TO THIS PLACE!!  We moved here alm...</td>\n",
       "      <td>2018-02-14 20:42:11</td>\n",
       "      <td>move place moved almost 2 years ago decided pl...</td>\n",
       "    </tr>\n",
       "    <tr>\n",
       "      <th>189304</th>\n",
       "      <td>1YHmFsW8WNdwLqWMT3HWzg</td>\n",
       "      <td>jzy4Iz6fql1by1GZB3k10g</td>\n",
       "      <td>1</td>\n",
       "      <td>1</td>\n",
       "      <td>Zero stars!  IF YOU HAVE A DOG GROOMED REGULAR...</td>\n",
       "      <td>2018-05-20 23:46:28</td>\n",
       "      <td>zero stars dog groomed regularly drop early pi...</td>\n",
       "    </tr>\n",
       "  </tbody>\n",
       "</table>\n",
       "<p>10000 rows × 7 columns</p>\n",
       "</div>"
      ],
      "text/plain": [
       "                       user_id             business_id  stars  useful  \\\n",
       "96467   b4iw8MWDBenCxCFJWdRMaA  iL-B07dWnzz3UMZv6GNmVA      5       0   \n",
       "155038  -umrORXJod7F70tW0nvA3g  -0-S47lFMcMZ1SgEDN_gNg      5       0   \n",
       "416761  6Z7IsfFoxbL7AYJ4EYTdMA  C6QvZLrdEcw3YhKFekFYCw      5       0   \n",
       "23077   sUtYlawOJp-1HHF8SB_ZPw  9SxRj08nP0q-bZHyOT9pBw      1       0   \n",
       "156850  CX4uqNIZunRPtvp2z8_DLg  iDyLmQbZbgLZbcOa4Hr5kg      1       0   \n",
       "...                        ...                     ...    ...     ...   \n",
       "343009  BQLc7jSHfPXDvleNFJ6lyg  vRpR9ajFYUnCCJj4IOeiYQ      2       2   \n",
       "494304  -u6xIwd4In3KUXPKL_bjMw  uwQa6mjxITbZjV80jUoNtQ      5       0   \n",
       "380889  KE2IQHX3ReIY02CgYUy4XA  iPbKAH4Mp5d_25Fr-xYeQw      4       0   \n",
       "437517  mPUgr9pYKc3dRAFsbIKcmA  K37CTQeJL0-tyjie5VlxFQ      1      10   \n",
       "189304  1YHmFsW8WNdwLqWMT3HWzg  jzy4Iz6fql1by1GZB3k10g      1       1   \n",
       "\n",
       "                                                     text  \\\n",
       "96467   My wife had chosen this restaurant for my birt...   \n",
       "155038  I come here often and have always been treated...   \n",
       "416761  Easy, quick to set up an appointment, superb c...   \n",
       "23077   I went and had my nails done today. The worse ...   \n",
       "156850  Wish I could give a review. Can't because they...   \n",
       "...                                                   ...   \n",
       "343009  Food was great. the service was not good at al...   \n",
       "494304  Haven't been here in years (moved across town)...   \n",
       "380889  One of the only good breakfast joints in the a...   \n",
       "437517  DO NOT MOVE TO THIS PLACE!!  We moved here alm...   \n",
       "189304  Zero stars!  IF YOU HAVE A DOG GROOMED REGULAR...   \n",
       "\n",
       "                       date                                           new_text  \n",
       "96467   2017-01-16 01:20:04  wife chosen restaurant birthday celebration di...  \n",
       "155038  2016-02-16 06:43:48  come often always treated w kindness respect s...  \n",
       "416761  2018-03-03 22:41:12  easy quick set appointment superb communicatio...  \n",
       "23077   2016-01-20 03:07:36  went nails done today worse experience life ca...  \n",
       "156850  2019-06-06 06:40:16  wish could give review cant closed said would ...  \n",
       "...                     ...                                                ...  \n",
       "343009  2019-02-19 13:06:27  food great service good all ask several times ...  \n",
       "494304  2017-01-14 17:53:38  years moved across town stopped thursday morni...  \n",
       "380889  2017-07-12 13:23:22  one good breakfast joints area opinion size jo...  \n",
       "437517  2018-02-14 20:42:11  move place moved almost 2 years ago decided pl...  \n",
       "189304  2018-05-20 23:46:28  zero stars dog groomed regularly drop early pi...  \n",
       "\n",
       "[10000 rows x 7 columns]"
      ]
     },
     "execution_count": 98,
     "metadata": {},
     "output_type": "execute_result"
    }
   ],
   "source": [
    "df"
   ]
  },
  {
   "cell_type": "code",
   "execution_count": 99,
   "metadata": {
    "colab": {
     "base_uri": "https://localhost:8080/"
    },
    "id": "my_AFFRPLFqz",
    "outputId": "fd44f8e9-aa86-41c1-f7a0-8c1d0bb7083a"
   },
   "outputs": [
    {
     "name": "stdout",
     "output_type": "stream",
     "text": [
      "Requirement already satisfied: gensim in c:\\users\\ica\\anaconda3\\lib\\site-packages (4.1.2)\n",
      "Requirement already satisfied: smart-open>=1.8.1 in c:\\users\\ica\\anaconda3\\lib\\site-packages (from gensim) (5.2.1)\n",
      "Requirement already satisfied: numpy>=1.17.0 in c:\\users\\ica\\anaconda3\\lib\\site-packages (from gensim) (1.20.1)\n",
      "Requirement already satisfied: scipy>=0.18.1 in c:\\users\\ica\\anaconda3\\lib\\site-packages (from gensim) (1.6.2)\n",
      "Requirement already satisfied: Cython==0.29.23 in c:\\users\\ica\\anaconda3\\lib\\site-packages (from gensim) (0.29.23)\n"
     ]
    }
   ],
   "source": [
    "!pip install gensim"
   ]
  },
  {
   "cell_type": "code",
   "execution_count": 100,
   "metadata": {
    "id": "ajbD0f-vRX8s"
   },
   "outputs": [],
   "source": [
    "import gensim"
   ]
  },
  {
   "cell_type": "code",
   "execution_count": 101,
   "metadata": {
    "id": "R-A-xLIgRbyv"
   },
   "outputs": [],
   "source": [
    "from gensim.utils import simple_preprocess\n",
    "import gensim.corpora as corpora"
   ]
  },
  {
   "cell_type": "code",
   "execution_count": 102,
   "metadata": {
    "id": "YDU-8jDZU1Jp"
   },
   "outputs": [],
   "source": [
    "def sent_to_words(sentences):\n",
    "    for sentence in sentences:\n",
    "        # deacc=True removes punctuations\n",
    "        yield(gensim.utils.simple_preprocess(str(sentence), deacc=True))"
   ]
  },
  {
   "cell_type": "code",
   "execution_count": 103,
   "metadata": {
    "id": "KnNPP0NnWBNP"
   },
   "outputs": [],
   "source": [
    "data = df.new_text.values.tolist()\n",
    "data_words = list(sent_to_words(data))"
   ]
  },
  {
   "cell_type": "code",
   "execution_count": 104,
   "metadata": {
    "id": "D7TismQgWGx1"
   },
   "outputs": [],
   "source": [
    "id2word = corpora.Dictionary(data_words)"
   ]
  },
  {
   "cell_type": "code",
   "execution_count": 105,
   "metadata": {
    "id": "C2Iih2m0WPWC"
   },
   "outputs": [],
   "source": [
    "texts = data_words\n",
    "corpus = [id2word.doc2bow(text) for text in texts]"
   ]
  },
  {
   "cell_type": "code",
   "execution_count": 106,
   "metadata": {
    "colab": {
     "base_uri": "https://localhost:8080/"
    },
    "id": "LczeToKXRh7m",
    "outputId": "9fb244f2-3f8a-4c0f-ae91-e435399848bf"
   },
   "outputs": [
    {
     "name": "stdout",
     "output_type": "stream",
     "text": [
      "[(0,\n",
      "  '0.013*\"place\" + 0.011*\"food\" + 0.007*\"good\" + 0.007*\"great\" + '\n",
      "  '0.006*\"service\" + 0.006*\"time\" + 0.005*\"like\" + 0.005*\"would\" + 0.005*\"get\" '\n",
      "  '+ 0.005*\"also\"'),\n",
      " (1,\n",
      "  '0.012*\"food\" + 0.009*\"place\" + 0.009*\"great\" + 0.009*\"good\" + 0.008*\"get\" + '\n",
      "  '0.007*\"service\" + 0.007*\"time\" + 0.006*\"one\" + 0.006*\"go\" + 0.005*\"would\"'),\n",
      " (2,\n",
      "  '0.008*\"good\" + 0.007*\"one\" + 0.006*\"like\" + 0.006*\"time\" + 0.005*\"food\" + '\n",
      "  '0.005*\"service\" + 0.005*\"great\" + 0.005*\"would\" + 0.005*\"get\" + '\n",
      "  '0.004*\"also\"'),\n",
      " (3,\n",
      "  '0.008*\"good\" + 0.007*\"go\" + 0.006*\"great\" + 0.006*\"like\" + 0.006*\"food\" + '\n",
      "  '0.006*\"get\" + 0.005*\"well\" + 0.005*\"one\" + 0.005*\"time\" + 0.005*\"really\"'),\n",
      " (4,\n",
      "  '0.008*\"great\" + 0.007*\"food\" + 0.006*\"time\" + 0.006*\"place\" + 0.006*\"would\" '\n",
      "  '+ 0.005*\"us\" + 0.005*\"like\" + 0.005*\"one\" + 0.005*\"even\" + 0.005*\"good\"'),\n",
      " (5,\n",
      "  '0.008*\"great\" + 0.008*\"good\" + 0.008*\"back\" + 0.007*\"food\" + 0.007*\"one\" + '\n",
      "  '0.006*\"service\" + 0.006*\"time\" + 0.006*\"place\" + 0.006*\"im\" + '\n",
      "  '0.005*\"would\"'),\n",
      " (6,\n",
      "  '0.008*\"like\" + 0.006*\"great\" + 0.006*\"back\" + 0.006*\"one\" + 0.005*\"time\" + '\n",
      "  '0.005*\"would\" + 0.005*\"get\" + 0.005*\"food\" + 0.005*\"place\" + 0.004*\"it\"'),\n",
      " (7,\n",
      "  '0.009*\"place\" + 0.007*\"great\" + 0.006*\"good\" + 0.006*\"food\" + 0.006*\"like\" '\n",
      "  '+ 0.005*\"go\" + 0.005*\"service\" + 0.005*\"time\" + 0.005*\"one\" + 0.005*\"got\"'),\n",
      " (8,\n",
      "  '0.010*\"place\" + 0.009*\"good\" + 0.008*\"food\" + 0.007*\"great\" + 0.007*\"one\" + '\n",
      "  '0.006*\"like\" + 0.006*\"get\" + 0.006*\"service\" + 0.006*\"time\" + 0.005*\"back\"'),\n",
      " (9,\n",
      "  '0.016*\"good\" + 0.011*\"food\" + 0.009*\"like\" + 0.007*\"really\" + 0.006*\"great\" '\n",
      "  '+ 0.006*\"place\" + 0.006*\"would\" + 0.005*\"back\" + 0.005*\"get\" + '\n",
      "  '0.005*\"service\"')]\n"
     ]
    }
   ],
   "source": [
    "from pprint import pprint\n",
    "# number of topics\n",
    "num_topics = 10\n",
    "# Build LDA model\n",
    "lda_model = gensim.models.LdaMulticore(corpus=corpus,\n",
    "                                       id2word=id2word,\n",
    "                                       num_topics=num_topics)\n",
    "# Print the Keyword in the 10 topics\n",
    "pprint(lda_model.print_topics())\n",
    "doc_lda = lda_model[corpus]"
   ]
  },
  {
   "cell_type": "code",
   "execution_count": 115,
   "metadata": {},
   "outputs": [
    {
     "name": "stderr",
     "output_type": "stream",
     "text": [
      "C:\\Users\\Ica\\anaconda3\\lib\\site-packages\\ipykernel\\ipkernel.py:287: DeprecationWarning: `should_run_async` will not call `transform_cell` automatically in the future. Please pass the result to `transformed_cell` argument and any exception that happen during thetransform in `preprocessing_exc_tuple` in IPython 7.17 and above.\n",
      "  and should_run_async(code)\n"
     ]
    }
   ],
   "source": [
    "df=df.drop(['date','useful','user_id','business_id'],axis=1)   "
   ]
  },
  {
   "cell_type": "code",
   "execution_count": 117,
   "metadata": {},
   "outputs": [
    {
     "name": "stderr",
     "output_type": "stream",
     "text": [
      "C:\\Users\\Ica\\anaconda3\\lib\\site-packages\\ipykernel\\ipkernel.py:287: DeprecationWarning: `should_run_async` will not call `transform_cell` automatically in the future. Please pass the result to `transformed_cell` argument and any exception that happen during thetransform in `preprocessing_exc_tuple` in IPython 7.17 and above.\n",
      "  and should_run_async(code)\n"
     ]
    }
   ],
   "source": [
    "for i in range(10):\n",
    "    s=str(i)\n",
    "    df[s]=np.zeros(len(df))\n",
    "for i in range(len(df)):\n",
    "    l=lda_model.get_document_topics(corpus[i])\n",
    "    for a in l:\n",
    "        df[str(a[0])]=a[1]"
   ]
  },
  {
   "cell_type": "code",
   "execution_count": 108,
   "metadata": {
    "id": "IBJh1-vzipWa"
   },
   "outputs": [],
   "source": [
    "review_topics = lda_model.get_document_topics(corpus[100])"
   ]
  },
  {
   "cell_type": "code",
   "execution_count": 109,
   "metadata": {
    "colab": {
     "base_uri": "https://localhost:8080/"
    },
    "id": "772eqKiuiuLW",
    "outputId": "724498f7-d7ff-47ee-99f4-80917a10f5be"
   },
   "outputs": [
    {
     "data": {
      "text/plain": [
       "int"
      ]
     },
     "execution_count": 109,
     "metadata": {},
     "output_type": "execute_result"
    }
   ],
   "source": [
    "type(review_topics[0][0])"
   ]
  },
  {
   "cell_type": "code",
   "execution_count": 118,
   "metadata": {
    "colab": {
     "base_uri": "https://localhost:8080/",
     "height": 419
    },
    "id": "JuiKKIXHkhQ7",
    "outputId": "38a5771e-c235-4d19-ba67-cef31f3f7d91"
   },
   "outputs": [
    {
     "name": "stderr",
     "output_type": "stream",
     "text": [
      "C:\\Users\\Ica\\anaconda3\\lib\\site-packages\\ipykernel\\ipkernel.py:287: DeprecationWarning: `should_run_async` will not call `transform_cell` automatically in the future. Please pass the result to `transformed_cell` argument and any exception that happen during thetransform in `preprocessing_exc_tuple` in IPython 7.17 and above.\n",
      "  and should_run_async(code)\n"
     ]
    },
    {
     "data": {
      "text/html": [
       "<div>\n",
       "<style scoped>\n",
       "    .dataframe tbody tr th:only-of-type {\n",
       "        vertical-align: middle;\n",
       "    }\n",
       "\n",
       "    .dataframe tbody tr th {\n",
       "        vertical-align: top;\n",
       "    }\n",
       "\n",
       "    .dataframe thead th {\n",
       "        text-align: right;\n",
       "    }\n",
       "</style>\n",
       "<table border=\"1\" class=\"dataframe\">\n",
       "  <thead>\n",
       "    <tr style=\"text-align: right;\">\n",
       "      <th></th>\n",
       "      <th>stars</th>\n",
       "      <th>text</th>\n",
       "      <th>new_text</th>\n",
       "      <th>0</th>\n",
       "      <th>1</th>\n",
       "      <th>2</th>\n",
       "      <th>3</th>\n",
       "      <th>4</th>\n",
       "      <th>5</th>\n",
       "      <th>6</th>\n",
       "      <th>7</th>\n",
       "      <th>8</th>\n",
       "      <th>9</th>\n",
       "    </tr>\n",
       "  </thead>\n",
       "  <tbody>\n",
       "    <tr>\n",
       "      <th>96467</th>\n",
       "      <td>5</td>\n",
       "      <td>My wife had chosen this restaurant for my birt...</td>\n",
       "      <td>wife chosen restaurant birthday celebration di...</td>\n",
       "      <td>0.365361</td>\n",
       "      <td>0.424266</td>\n",
       "      <td>0.952583</td>\n",
       "      <td>0.010025</td>\n",
       "      <td>0.973418</td>\n",
       "      <td>0.029317</td>\n",
       "      <td>0.010025</td>\n",
       "      <td>0.561791</td>\n",
       "      <td>0.05508</td>\n",
       "      <td>0.918239</td>\n",
       "    </tr>\n",
       "    <tr>\n",
       "      <th>155038</th>\n",
       "      <td>5</td>\n",
       "      <td>I come here often and have always been treated...</td>\n",
       "      <td>come often always treated w kindness respect s...</td>\n",
       "      <td>0.365361</td>\n",
       "      <td>0.424266</td>\n",
       "      <td>0.952583</td>\n",
       "      <td>0.010025</td>\n",
       "      <td>0.973418</td>\n",
       "      <td>0.029317</td>\n",
       "      <td>0.010025</td>\n",
       "      <td>0.561791</td>\n",
       "      <td>0.05508</td>\n",
       "      <td>0.918239</td>\n",
       "    </tr>\n",
       "    <tr>\n",
       "      <th>416761</th>\n",
       "      <td>5</td>\n",
       "      <td>Easy, quick to set up an appointment, superb c...</td>\n",
       "      <td>easy quick set appointment superb communicatio...</td>\n",
       "      <td>0.365361</td>\n",
       "      <td>0.424266</td>\n",
       "      <td>0.952583</td>\n",
       "      <td>0.010025</td>\n",
       "      <td>0.973418</td>\n",
       "      <td>0.029317</td>\n",
       "      <td>0.010025</td>\n",
       "      <td>0.561791</td>\n",
       "      <td>0.05508</td>\n",
       "      <td>0.918239</td>\n",
       "    </tr>\n",
       "    <tr>\n",
       "      <th>23077</th>\n",
       "      <td>1</td>\n",
       "      <td>I went and had my nails done today. The worse ...</td>\n",
       "      <td>went nails done today worse experience life ca...</td>\n",
       "      <td>0.365361</td>\n",
       "      <td>0.424266</td>\n",
       "      <td>0.952583</td>\n",
       "      <td>0.010025</td>\n",
       "      <td>0.973418</td>\n",
       "      <td>0.029317</td>\n",
       "      <td>0.010025</td>\n",
       "      <td>0.561791</td>\n",
       "      <td>0.05508</td>\n",
       "      <td>0.918239</td>\n",
       "    </tr>\n",
       "    <tr>\n",
       "      <th>156850</th>\n",
       "      <td>1</td>\n",
       "      <td>Wish I could give a review. Can't because they...</td>\n",
       "      <td>wish could give review cant closed said would ...</td>\n",
       "      <td>0.365361</td>\n",
       "      <td>0.424266</td>\n",
       "      <td>0.952583</td>\n",
       "      <td>0.010025</td>\n",
       "      <td>0.973418</td>\n",
       "      <td>0.029317</td>\n",
       "      <td>0.010025</td>\n",
       "      <td>0.561791</td>\n",
       "      <td>0.05508</td>\n",
       "      <td>0.918239</td>\n",
       "    </tr>\n",
       "    <tr>\n",
       "      <th>282316</th>\n",
       "      <td>2</td>\n",
       "      <td>I've been coming here over ten years and every...</td>\n",
       "      <td>ive coming ten years every time try give anoth...</td>\n",
       "      <td>0.365361</td>\n",
       "      <td>0.424266</td>\n",
       "      <td>0.952583</td>\n",
       "      <td>0.010025</td>\n",
       "      <td>0.973418</td>\n",
       "      <td>0.029317</td>\n",
       "      <td>0.010025</td>\n",
       "      <td>0.561791</td>\n",
       "      <td>0.05508</td>\n",
       "      <td>0.918239</td>\n",
       "    </tr>\n",
       "    <tr>\n",
       "      <th>263539</th>\n",
       "      <td>5</td>\n",
       "      <td>We were visiting Canada for a short vacation a...</td>\n",
       "      <td>visiting canada short vacation were looking de...</td>\n",
       "      <td>0.365361</td>\n",
       "      <td>0.424266</td>\n",
       "      <td>0.952583</td>\n",
       "      <td>0.010025</td>\n",
       "      <td>0.973418</td>\n",
       "      <td>0.029317</td>\n",
       "      <td>0.010025</td>\n",
       "      <td>0.561791</td>\n",
       "      <td>0.05508</td>\n",
       "      <td>0.918239</td>\n",
       "    </tr>\n",
       "    <tr>\n",
       "      <th>420835</th>\n",
       "      <td>2</td>\n",
       "      <td>Five slices of heaven. Thin and crispy just th...</td>\n",
       "      <td>five slices heaven thin crispy way like it rea...</td>\n",
       "      <td>0.365361</td>\n",
       "      <td>0.424266</td>\n",
       "      <td>0.952583</td>\n",
       "      <td>0.010025</td>\n",
       "      <td>0.973418</td>\n",
       "      <td>0.029317</td>\n",
       "      <td>0.010025</td>\n",
       "      <td>0.561791</td>\n",
       "      <td>0.05508</td>\n",
       "      <td>0.918239</td>\n",
       "    </tr>\n",
       "    <tr>\n",
       "      <th>496691</th>\n",
       "      <td>5</td>\n",
       "      <td>This is one of the best vegetarian ramen I hav...</td>\n",
       "      <td>one best vegetarian ramen ever tried usually v...</td>\n",
       "      <td>0.365361</td>\n",
       "      <td>0.424266</td>\n",
       "      <td>0.952583</td>\n",
       "      <td>0.010025</td>\n",
       "      <td>0.973418</td>\n",
       "      <td>0.029317</td>\n",
       "      <td>0.010025</td>\n",
       "      <td>0.561791</td>\n",
       "      <td>0.05508</td>\n",
       "      <td>0.918239</td>\n",
       "    </tr>\n",
       "  </tbody>\n",
       "</table>\n",
       "</div>"
      ],
      "text/plain": [
       "        stars                                               text  \\\n",
       "96467       5  My wife had chosen this restaurant for my birt...   \n",
       "155038      5  I come here often and have always been treated...   \n",
       "416761      5  Easy, quick to set up an appointment, superb c...   \n",
       "23077       1  I went and had my nails done today. The worse ...   \n",
       "156850      1  Wish I could give a review. Can't because they...   \n",
       "282316      2  I've been coming here over ten years and every...   \n",
       "263539      5  We were visiting Canada for a short vacation a...   \n",
       "420835      2  Five slices of heaven. Thin and crispy just th...   \n",
       "496691      5  This is one of the best vegetarian ramen I hav...   \n",
       "\n",
       "                                                 new_text         0         1  \\\n",
       "96467   wife chosen restaurant birthday celebration di...  0.365361  0.424266   \n",
       "155038  come often always treated w kindness respect s...  0.365361  0.424266   \n",
       "416761  easy quick set appointment superb communicatio...  0.365361  0.424266   \n",
       "23077   went nails done today worse experience life ca...  0.365361  0.424266   \n",
       "156850  wish could give review cant closed said would ...  0.365361  0.424266   \n",
       "282316  ive coming ten years every time try give anoth...  0.365361  0.424266   \n",
       "263539  visiting canada short vacation were looking de...  0.365361  0.424266   \n",
       "420835  five slices heaven thin crispy way like it rea...  0.365361  0.424266   \n",
       "496691  one best vegetarian ramen ever tried usually v...  0.365361  0.424266   \n",
       "\n",
       "               2         3         4         5         6         7        8  \\\n",
       "96467   0.952583  0.010025  0.973418  0.029317  0.010025  0.561791  0.05508   \n",
       "155038  0.952583  0.010025  0.973418  0.029317  0.010025  0.561791  0.05508   \n",
       "416761  0.952583  0.010025  0.973418  0.029317  0.010025  0.561791  0.05508   \n",
       "23077   0.952583  0.010025  0.973418  0.029317  0.010025  0.561791  0.05508   \n",
       "156850  0.952583  0.010025  0.973418  0.029317  0.010025  0.561791  0.05508   \n",
       "282316  0.952583  0.010025  0.973418  0.029317  0.010025  0.561791  0.05508   \n",
       "263539  0.952583  0.010025  0.973418  0.029317  0.010025  0.561791  0.05508   \n",
       "420835  0.952583  0.010025  0.973418  0.029317  0.010025  0.561791  0.05508   \n",
       "496691  0.952583  0.010025  0.973418  0.029317  0.010025  0.561791  0.05508   \n",
       "\n",
       "               9  \n",
       "96467   0.918239  \n",
       "155038  0.918239  \n",
       "416761  0.918239  \n",
       "23077   0.918239  \n",
       "156850  0.918239  \n",
       "282316  0.918239  \n",
       "263539  0.918239  \n",
       "420835  0.918239  \n",
       "496691  0.918239  "
      ]
     },
     "execution_count": 118,
     "metadata": {},
     "output_type": "execute_result"
    }
   ],
   "source": [
    "df.head(9)"
   ]
  },
  {
   "cell_type": "code",
   "execution_count": 112,
   "metadata": {},
   "outputs": [
    {
     "name": "stdout",
     "output_type": "stream",
     "text": [
      "Requirement already satisfied: pyLDAvis in c:\\users\\ica\\anaconda3\\lib\\site-packages (3.3.1)\n",
      "Requirement already satisfied: joblib in c:\\users\\ica\\anaconda3\\lib\\site-packages (from pyLDAvis) (1.0.1)\n",
      "Requirement already satisfied: sklearn in c:\\users\\ica\\anaconda3\\lib\\site-packages (from pyLDAvis) (0.0)\n",
      "Requirement already satisfied: gensim in c:\\users\\ica\\anaconda3\\lib\\site-packages (from pyLDAvis) (4.1.2)\n",
      "Requirement already satisfied: future in c:\\users\\ica\\anaconda3\\lib\\site-packages (from pyLDAvis) (0.18.2)\n",
      "Requirement already satisfied: scikit-learn in c:\\users\\ica\\anaconda3\\lib\\site-packages (from pyLDAvis) (0.24.1)\n",
      "Requirement already satisfied: scipy in c:\\users\\ica\\anaconda3\\lib\\site-packages (from pyLDAvis) (1.6.2)\n",
      "Requirement already satisfied: jinja2 in c:\\users\\ica\\anaconda3\\lib\\site-packages (from pyLDAvis) (2.11.3)\n",
      "Requirement already satisfied: numpy>=1.20.0 in c:\\users\\ica\\anaconda3\\lib\\site-packages (from pyLDAvis) (1.20.1)\n",
      "Requirement already satisfied: numexpr in c:\\users\\ica\\anaconda3\\lib\\site-packages (from pyLDAvis) (2.7.3)\n",
      "Requirement already satisfied: setuptools in c:\\users\\ica\\anaconda3\\lib\\site-packages (from pyLDAvis) (52.0.0.post20210125)\n",
      "Requirement already satisfied: pandas>=1.2.0 in c:\\users\\ica\\anaconda3\\lib\\site-packages (from pyLDAvis) (1.2.4)\n",
      "Requirement already satisfied: funcy in c:\\users\\ica\\anaconda3\\lib\\site-packages (from pyLDAvis) (1.16)\n",
      "Requirement already satisfied: python-dateutil>=2.7.3 in c:\\users\\ica\\anaconda3\\lib\\site-packages (from pandas>=1.2.0->pyLDAvis) (2.8.1)\n",
      "Requirement already satisfied: pytz>=2017.3 in c:\\users\\ica\\anaconda3\\lib\\site-packages (from pandas>=1.2.0->pyLDAvis) (2021.1)\n",
      "Requirement already satisfied: six>=1.5 in c:\\users\\ica\\anaconda3\\lib\\site-packages (from python-dateutil>=2.7.3->pandas>=1.2.0->pyLDAvis) (1.15.0)\n",
      "Requirement already satisfied: Cython==0.29.23 in c:\\users\\ica\\anaconda3\\lib\\site-packages (from gensim->pyLDAvis) (0.29.23)\n",
      "Requirement already satisfied: smart-open>=1.8.1 in c:\\users\\ica\\anaconda3\\lib\\site-packages (from gensim->pyLDAvis) (5.2.1)\n",
      "Requirement already satisfied: MarkupSafe>=0.23 in c:\\users\\ica\\anaconda3\\lib\\site-packages (from jinja2->pyLDAvis) (1.1.1)\n",
      "Requirement already satisfied: threadpoolctl>=2.0.0 in c:\\users\\ica\\anaconda3\\lib\\site-packages (from scikit-learn->pyLDAvis) (2.1.0)\n"
     ]
    }
   ],
   "source": [
    "!pip install pyLDAvis"
   ]
  },
  {
   "cell_type": "code",
   "execution_count": 114,
   "metadata": {},
   "outputs": [
    {
     "data": {
      "text/html": [
       "\n",
       "<link rel=\"stylesheet\" type=\"text/css\" href=\"https://cdn.jsdelivr.net/gh/bmabey/pyLDAvis@3.3.1/pyLDAvis/js/ldavis.v1.0.0.css\">\n",
       "\n",
       "\n",
       "<div id=\"ldavis_el1101625490072020002911965276\"></div>\n",
       "<script type=\"text/javascript\">\n",
       "\n",
       "var ldavis_el1101625490072020002911965276_data = {\"mdsDat\": {\"x\": [-0.008439381605073414, -0.019173667874794312, -0.011315958433111312, -0.005296618615859157, -0.0015475272521826542, -0.012134823402648086, 0.005000276577376992, 0.010490932988661298, 0.011779162481100364, 0.030637605136530285], \"y\": [0.0021802931936849663, 0.0033531522091666435, 0.004659344037488456, 0.0007321882569289329, 0.0054647438570691745, -0.01146136765195166, 0.0009525750624836877, 0.019259812098090634, -0.030336881852742036, 0.005196140789781195], \"topics\": [1, 2, 3, 4, 5, 6, 7, 8, 9, 10], \"cluster\": [1, 1, 1, 1, 1, 1, 1, 1, 1, 1], \"Freq\": [14.737903848412023, 14.464275920839317, 14.045308991990279, 11.747410757329083, 10.94409991117347, 10.581021249070437, 9.73156684582775, 6.056791394239901, 4.637484072997533, 3.0541370081201973]}, \"tinfo\": {\"Term\": [\"good\", \"one\", \"like\", \"well\", \"time\", \"go\", \"really\", \"would\", \"us\", \"back\", \"great\", \"also\", \"store\", \"service\", \"get\", \"got\", \"food\", \"even\", \"told\", \"best\", \"car\", \"want\", \"ordered\", \"pizza\", \"friendly\", \"here\", \"staff\", \"room\", \"definitely\", \"love\", \"pelican\", \"blarney\", \"sweetberry\", \"blossoming\", \"shepards\", \"mona\", \"graeters\", \"toasties\", \"dmv\", \"backpacks\", \"cosi\", \"abp\", \"retrieved\", \"flames\", \"flavorable\", \"seligman\", \"avacado\", \"ricard\", \"prudential\", \"gnats\", \"bl\", \"chopping\", \"inserts\", \"veterans\", \"iam\", \"imaginable\", \"soho\", \"staplehouse\", \"verizon\", \"carbohydrate\", \"tamales\", \"eagle\", \"kellys\", \"bus\", \"sudra\", \"location\", \"car\", \"food\", \"love\", \"get\", \"pretty\", \"go\", \"people\", \"service\", \"great\", \"place\", \"find\", \"one\", \"sometimes\", \"much\", \"always\", \"burger\", \"time\", \"customers\", \"good\", \"friendly\", \"need\", \"got\", \"new\", \"night\", \"staff\", \"would\", \"arrived\", \"customer\", \"want\", \"order\", \"could\", \"wait\", \"back\", \"well\", \"like\", \"also\", \"first\", \"im\", \"nice\", \"even\", \"really\", \"haunt\", \"octane\", \"felisha\", \"feijoada\", \"drellis\", \"gi\", \"hoagies\", \"sunrise\", \"bombb\", \"alons\", \"karisa\", \"dobie\", \"koong\", \"motza\", \"kgsr\", \"ord\", \"beads\", \"kameel\", \"suburb\", \"leased\", \"lukes\", \"giacomo\", \"comparative\", \"excise\", \"keefer\", \"disguise\", \"macaroon\", \"higgins\", \"shepherds\", \"eith\", \"shawarma\", \"ut\", \"coffee\", \"stumptown\", \"sez\", \"lf\", \"place\", \"large\", \"food\", \"years\", \"delicious\", \"menu\", \"amazing\", \"selection\", \"home\", \"visiting\", \"every\", \"also\", \"beer\", \"loved\", \"service\", \"much\", \"try\", \"ordered\", \"sure\", \"ive\", \"came\", \"time\", \"soup\", \"thing\", \"perfect\", \"make\", \"good\", \"would\", \"great\", \"staff\", \"definitely\", \"like\", \"get\", \"back\", \"really\", \"it\", \"love\", \"got\", \"well\", \"nice\", \"go\", \"one\", \"schmidt\", \"tammie\", \"pearson\", \"ausha\", \"pakoras\", \"shane\", \"icee\", \"marsh\", \"playscape\", \"ent\", \"henna\", \"vfood\", \"zalima\", \"bansal\", \"kenton\", \"diorama\", \"ding\", \"franks\", \"duvall\", \"kings\", \"kruy\", \"fong\", \"maggie\", \"gilt\", \"comics\", \"monarch\", \"schnitzel\", \"afloat\", \"nora\", \"posters\", \"smore\", \"witches\", \"bryant\", \"witch\", \"class\", \"dr\", \"place\", \"many\", \"try\", \"recommend\", \"us\", \"love\", \"everything\", \"drinks\", \"out\", \"one\", \"always\", \"never\", \"im\", \"get\", \"good\", \"best\", \"regularly\", \"like\", \"check\", \"come\", \"doughnuts\", \"really\", \"food\", \"experience\", \"drink\", \"flavor\", \"atmosphere\", \"go\", \"service\", \"back\", \"ive\", \"great\", \"amazing\", \"time\", \"order\", \"went\", \"first\", \"staff\", \"would\", \"it\", \"also\", \"even\", \"quik\", \"vege\", \"madame\", \"nicola\", \"gelatto\", \"butane\", \"jaime\", \"chima\", \"adeana\", \"maxines\", \"noho\", \"spangler\", \"cardamon\", \"olv\", \"fiorellas\", \"mayan\", \"snip\", \"arandinas\", \"pips\", \"pinto\", \"unphogettable\", \"prosciuttoyawn\", \"misohot\", \"boudin\", \"insta\", \"wingtastic\", \"hahahaha\", \"crispyness\", \"tewksbury\", \"assign\", \"tofrom\", \"amie\", \"residence\", \"croque\", \"thrilling\", \"thermonuclear\", \"principal\", \"radius\", \"taylor\", \"janel\", \"rite\", \"ihop\", \"simulator\", \"make\", \"minutes\", \"waited\", \"chicken\", \"brunch\", \"restaurant\", \"waitress\", \"well\", \"table\", \"got\", \"bar\", \"line\", \"us\", \"go\", \"delicious\", \"order\", \"place\", \"around\", \"told\", \"meal\", \"want\", \"sushi\", \"open\", \"people\", \"great\", \"finally\", \"me\", \"like\", \"two\", \"service\", \"came\", \"one\", \"time\", \"nice\", \"good\", \"food\", \"get\", \"would\", \"little\", \"really\", \"it\", \"back\", \"also\", \"best\", \"ordered\", \"volvos\", \"caleb\", \"fog\", \"megaburn\", \"megaformer\", \"canneles\", \"bjk\", \"ralph\", \"shenoy\", \"anthonys\", \"marias\", \"sandras\", \"midafternoon\", \"skittles\", \"soozie\", \"kelli\", \"aida\", \"carwash\", \"sensation\", \"deposits\", \"janet\", \"milton\", \"agostino\", \"flowmaster\", \"barlow\", \"kroeker\", \"giraffe\", \"bridgetown\", \"cuando\", \"beansi\", \"bangs\", \"nobodys\", \"windshield\", \"london\", \"grille\", \"hair\", \"im\", \"know\", \"back\", \"latte\", \"burger\", \"definitely\", \"one\", \"recommend\", \"great\", \"free\", \"wait\", \"it\", \"two\", \"service\", \"nice\", \"time\", \"hot\", \"sandwich\", \"good\", \"work\", \"would\", \"sure\", \"lunch\", \"classes\", \"table\", \"told\", \"thats\", \"food\", \"also\", \"really\", \"get\", \"never\", \"ive\", \"go\", \"best\", \"place\", \"even\", \"got\", \"first\", \"like\", \"staff\", \"come\", \"ordered\", \"jills\", \"bibles\", \"bargains\", \"nihari\", \"kickstand\", \"hotcake\", \"fpr\", \"wollaston\", \"gaus\", \"kuples\", \"pok\", \"contemplate\", \"chilli\", \"habaneros\", \"aldos\", \"westpark\", \"jacki\", \"kra\", \"sheesh\", \"temaki\", \"lowdown\", \"primo\", \"sighing\", \"fimi\", \"niknacs\", \"yvonne\", \"fallon\", \"roman\", \"fetting\", \"woburn\", \"echo\", \"bertuccis\", \"sanctum\", \"handcut\", \"worm\", \"smokehouse\", \"gander\", \"rodizio\", \"port\", \"mcmenamins\", \"dog\", \"et\", \"villa\", \"good\", \"thai\", \"rebate\", \"japanese\", \"like\", \"rolls\", \"roll\", \"really\", \"sushi\", \"food\", \"park\", \"restaurant\", \"fries\", \"ordered\", \"would\", \"sauce\", \"nice\", \"it\", \"next\", \"pretty\", \"spicy\", \"back\", \"great\", \"night\", \"bit\", \"little\", \"rice\", \"parking\", \"get\", \"think\", \"place\", \"order\", \"service\", \"even\", \"go\", \"time\", \"also\", \"us\", \"well\", \"one\", \"ive\", \"chicken\", \"try\", \"came\", \"definitely\", \"went\", \"picadillo\", \"athens\", \"halfscoop\", \"mahalo\", \"tittle\", \"brent\", \"tailgate\", \"blts\", \"benway\", \"muffler\", \"piazza\", \"xing\", \"aveeno\", \"marylous\", \"wnb\", \"pedals\", \"detroit\", \"fakes\", \"dermatology\", \"abel\", \"straightening\", \"ramble\", \"klein\", \"marshalls\", \"nouveau\", \"ntb\", \"muffled\", \"byi\", \"pellana\", \"ag\", \"ala\", \"receiver\", \"progressive\", \"donburi\", \"elliot\", \"fu\", \"dax\", \"freebirds\", \"little\", \"give\", \"pizza\", \"best\", \"tea\", \"ever\", \"called\", \"rice\", \"like\", \"company\", \"went\", \"back\", \"think\", \"definitely\", \"store\", \"it\", \"help\", \"could\", \"call\", \"love\", \"one\", \"never\", \"bike\", \"even\", \"ive\", \"got\", \"also\", \"great\", \"something\", \"me\", \"new\", \"time\", \"would\", \"get\", \"really\", \"came\", \"first\", \"us\", \"place\", \"food\", \"good\", \"go\", \"im\", \"imax\", \"akasaka\", \"zukes\", \"mcds\", \"tutu\", \"pablos\", \"pmp\", \"jordens\", \"houte\", \"dearen\", \"sweats\", \"joining\", \"operationally\", \"tulips\", \"veras\", \"jaymie\", \"donovans\", \"tienda\", \"desde\", \"frigging\", \"conde\", \"barbuild\", \"naturalistic\", \"siempre\", \"ouchinsanely\", \"savin\", \"vietname\", \"yearsbest\", \"donnies\", \"moondog\", \"playset\", \"brusters\", \"caps\", \"macarons\", \"huli\", \"joey\", \"berkeley\", \"cigars\", \"feast\", \"scooped\", \"robberies\", \"cream\", \"dates\", \"earnest\", \"ice\", \"us\", \"even\", \"sales\", \"paid\", \"great\", \"got\", \"time\", \"would\", \"staff\", \"store\", \"think\", \"helpful\", \"come\", \"made\", \"beer\", \"price\", \"really\", \"nice\", \"give\", \"one\", \"food\", \"make\", \"love\", \"also\", \"like\", \"amazing\", \"well\", \"experience\", \"place\", \"day\", \"going\", \"back\", \"service\", \"get\", \"good\", \"ordered\", \"go\", \"sophies\", \"hk\", \"whimp\", \"claypot\", \"ryuji\", \"spiro\", \"renatto\", \"jenis\", \"blick\", \"viga\", \"clermont\", \"bling\", \"injected\", \"corriidors\", \"erection\", \"programmed\", \"heatedcooled\", \"tacodeli\", \"delaware\", \"placeit\", \"caannot\", \"xcellent\", \"regina\", \"schwarma\", \"mykita\", \"jigae\", \"cryfry\", \"bruleeesque\", \"curled\", \"chap\", \"gingerbread\", \"candies\", \"glorias\", \"sunglasses\", \"katzingers\", \"mattress\", \"lush\", \"store\", \"pep\", \"gene\", \"mae\", \"manifesto\", \"babka\", \"watertown\", \"breakfast\", \"appliance\", \"tan\", \"go\", \"well\", \"pizza\", \"room\", \"soup\", \"candy\", \"pepperoni\", \"good\", \"best\", \"get\", \"like\", \"week\", \"restaurant\", \"told\", \"said\", \"really\", \"one\", \"great\", \"cheese\", \"even\", \"time\", \"night\", \"area\", \"try\", \"food\", \"im\", \"service\", \"also\", \"back\", \"would\", \"ive\", \"it\", \"place\", \"got\", \"us\", \"could\", \"much\", \"chicken\", \"kaitlyn\", \"lovin\", \"baaji\", \"shucked\", \"abe\", \"santouka\", \"massjunk\", \"lucia\", \"undivided\", \"herd\", \"pricesand\", \"sandwichs\", \"decentdecor\", \"poorest\", \"pricesi\", \"stubborn\", \"wisdow\", \"satai\", \"ohhhh\", \"johnathan\", \"bali\", \"cheesemustard\", \"trackline\", \"chatt\", \"spikes\", \"wellbut\", \"disconcerting\", \"tao\", \"foodgreat\", \"wasps\", \"randy\", \"glk\", \"hancock\", \"poori\", \"frustating\", \"bulgogi\", \"corral\", \"amc\", \"walgreens\", \"rash\", \"benz\", \"isler\", \"movie\", \"alarms\", \"one\", \"car\", \"want\", \"coming\", \"friendly\", \"good\", \"another\", \"here\", \"time\", \"fish\", \"like\", \"minutes\", \"also\", \"service\", \"would\", \"ordered\", \"well\", \"told\", \"staff\", \"get\", \"lot\", \"first\", \"customer\", \"back\", \"location\", \"really\", \"food\", \"great\", \"got\", \"always\", \"pretty\", \"bar\", \"definitely\", \"place\", \"go\", \"nice\", \"it\", \"came\", \"us\"], \"Freq\": [4581.0, 2965.0, 3292.0, 1669.0, 3201.0, 2447.0, 2454.0, 2735.0, 1805.0, 2748.0, 4011.0, 2091.0, 605.0, 3057.0, 3052.0, 1881.0, 4781.0, 1706.0, 849.0, 1553.0, 658.0, 962.0, 1418.0, 798.0, 1301.0, 924.0, 1527.0, 659.0, 1320.0, 1534.0, 3.1294556633436597, 3.1251708220617567, 3.8743134119562557, 3.6698662192131613, 2.8263729271089275, 2.848596523937189, 2.8923080007794795, 2.1214321913426613, 2.1210831936003895, 2.119504933166249, 2.0951873498843554, 2.0934465859619205, 2.06438894039145, 2.0083222192231984, 2.011376741616002, 2.6314450891258616, 3.2471139225115664, 1.8989842291872023, 1.871611821741867, 1.8694334903950525, 1.88060247434499, 1.8095127055299327, 3.091807362150077, 2.4469464443748943, 3.0712097055166807, 1.8108774632380393, 1.7869405636153555, 1.7575425207657822, 4.770418302314652, 2.3206130338053743, 3.4364928020122294, 3.4125711418067395, 5.587060646635155, 32.136658461131304, 3.3568941574168227, 222.40930533679503, 184.69554647068998, 970.7693918974236, 364.6314409100995, 637.6647454750528, 293.65431100319654, 500.57103048038744, 302.7807048673985, 594.3713489164538, 731.7964804960503, 774.8164390587601, 194.73912993969267, 534.8240547056283, 56.37176420654787, 277.60053798110147, 286.7276657514939, 125.61900479770858, 543.9348047799822, 91.93223748166864, 707.7406578934567, 261.29994071918003, 147.2843404315802, 331.84024193622446, 209.69571320712933, 189.53038525984556, 270.98510758077293, 408.3283313668558, 82.05845672914114, 150.20400273356677, 182.37026127298947, 237.3074464954903, 226.5267508248278, 191.85572839750847, 343.80658237081025, 249.53416912110416, 368.06287724330974, 277.8860854291322, 223.67444372913184, 251.41455266085165, 239.6641930927743, 233.55873092817464, 238.87012590807475, 3.3589708542307193, 3.318089320659967, 3.3053233002808335, 2.2777885293767746, 2.276881959490441, 2.2758201976340193, 2.2751576700823275, 2.2762712613180724, 2.2736014559471625, 2.2730981186319634, 2.274241178571952, 5.345406747267493, 2.2464025823498606, 2.2056131569903625, 2.1730887406256287, 2.144951903346517, 2.781045138827965, 2.1172387342223877, 2.0956529824057912, 2.104211641855406, 2.663807082798826, 2.0348004043102725, 2.015142113068736, 2.027403315293262, 2.00307475272288, 1.9237614382160733, 3.121761408790875, 1.916097946189341, 1.9199821879597645, 2.5405654076367665, 8.471200481769715, 4.757550226618527, 245.81139989509887, 11.795728196013155, 15.424031160316726, 8.825772077581192, 1039.9661559321798, 136.3410123527961, 916.9063444349755, 172.152049904576, 299.7942656434394, 271.8657196816163, 270.5731198393971, 132.8315603748062, 184.57057295392383, 59.12934422973633, 205.95078544519012, 398.91567547576346, 135.82873195223686, 121.77230100386674, 528.2917006431343, 270.545559640984, 254.65841313316614, 278.2633060696561, 195.79636870949741, 315.87543291532677, 273.3245336778142, 513.5715219313992, 104.11314178012631, 142.07234895120504, 128.29513086578194, 225.0330953134679, 598.9061983965922, 407.84461111929267, 533.5736676377744, 261.30917804266704, 235.58400739331907, 444.09885798289895, 407.3735857200032, 372.0333745426962, 344.94420152883026, 293.56837133052096, 250.0889170724694, 267.7128868131603, 243.92185828628715, 231.467851955351, 241.527381240386, 229.07904237803686, 2.964427970528321, 2.0102543423934485, 2.010118168911393, 2.0097543685844657, 2.009578651588614, 2.00893416421103, 2.0089091439513913, 2.0081276203241782, 2.0065031727774207, 2.0024313412131534, 4.061610069232313, 1.9904124137325676, 1.9264718460750963, 1.93395549200972, 1.9199326430445267, 1.8366469570540533, 3.6970513696078124, 3.674626314831153, 3.0042840937756394, 2.9970241922318057, 2.3260898250315147, 1.7548642121770357, 1.726407405497762, 3.537179963015342, 4.0670595968172485, 2.2431153105459702, 2.848995133356495, 1.6777867140580067, 1.6880675962612925, 1.687125454070768, 3.9259286522831838, 3.29475780461063, 4.186482446428433, 6.461226097254746, 49.94784653595324, 76.03364943584171, 798.8849679588444, 191.97148172392926, 269.5839544068723, 223.84284292337347, 359.2131642911204, 314.03904064994845, 204.92124108732602, 183.36894818398127, 153.3627202261625, 518.0711387836265, 275.68261220929514, 266.62521840161713, 330.2809738290725, 500.00464774669166, 676.466614639483, 289.5375274925085, 23.999626305157232, 507.9565395003629, 114.55896865530336, 236.6014774124082, 13.821347872811033, 399.08103268100916, 670.4875571292023, 232.95020822892252, 124.81323045269049, 114.71556442100753, 130.48392792997578, 371.1667883188713, 437.7092766209477, 403.8425157798109, 279.7526112552361, 530.5862105355241, 211.03272766839203, 435.03614199044944, 240.16233775702, 237.48463851087823, 238.11391126988858, 250.32451579608343, 346.3237572450419, 268.0935337764467, 253.54256982472904, 238.68054940375887, 2.1399990601037926, 2.1399790954626474, 2.1399644226540953, 2.1398821587110652, 2.129715105073635, 2.126825523940237, 2.0814247272878275, 2.080462575907357, 2.7685942053711394, 2.047471848298099, 1.9756758717495557, 1.9316655041108481, 1.9065068090075417, 2.5387850697593293, 1.8891999907824084, 1.8190041922485096, 1.7868406742886112, 2.9692431785571896, 2.3332245543138233, 1.7456560249854225, 1.733299836419577, 1.1227533280917057, 1.1226435225654094, 1.1225333562323456, 1.1225163983142648, 1.1223907172901908, 1.1223833808859147, 1.1223705121112009, 1.1223587257567902, 1.122260345778137, 2.260663907955651, 1.6929361427817746, 3.9491337440292824, 2.2174979484222286, 3.3251167555680583, 1.67231796031183, 1.6612040294470944, 4.193651287794343, 3.1223366170742666, 2.6265546835264417, 3.5134915635934476, 4.847633278311091, 3.003957359826715, 286.5621485776917, 205.4609000644804, 79.02543385008514, 271.4969516009297, 63.678211060679715, 251.42188626653595, 86.95324563950811, 290.160625529495, 153.06168944582404, 308.84095622275896, 172.95360734064255, 106.512982694522, 290.086578359254, 361.11973627742464, 216.2985116364102, 231.24360133204527, 568.4248727135686, 168.31328208522174, 152.59864062385336, 128.2710894069008, 164.93619231745913, 88.0239046040624, 88.09605826038663, 207.94549821171873, 466.32928095100687, 80.89035262782322, 147.65432171547016, 373.41396806727613, 171.9186249492761, 348.9230743347639, 198.12732066484696, 327.06936826122154, 332.44325312353504, 220.18029213789026, 397.5640600836147, 392.3323888925458, 285.20666971288506, 262.9152078528618, 181.19587329283635, 235.5887231495157, 206.63832704342272, 214.79866388126675, 195.11215376036208, 180.91857356777376, 174.82318293106212, 2.931555885219195, 2.896542813076553, 2.644736469254958, 1.9860467470571752, 1.9856790163543983, 1.9854486524528416, 1.9851571121455212, 1.9842972811238546, 1.9835163295704255, 1.982697282819268, 1.982346807000168, 1.9825527451572988, 1.9103674995184163, 1.8652746621462761, 1.8509401115093285, 1.8295075291780132, 1.8119992003915049, 1.7664502290489184, 1.7623822221550365, 1.7486762422806053, 1.7457806711191601, 3.48162902783297, 1.6427183713639322, 1.6233790081030852, 2.7548661004569728, 2.121535230939898, 1.6039087766335718, 1.5606520157472343, 1.0411102693527703, 1.0410456195613316, 4.163313459558325, 2.052170374469297, 3.5605456949104357, 4.891633584163815, 5.148340539039053, 102.41817718846261, 341.4006645706459, 220.95735286879045, 462.35257674197425, 25.69141927508795, 104.20750772940121, 222.9423475161221, 409.02391795673765, 173.8224963719285, 503.6372012306603, 105.96723695716858, 179.696922864271, 274.7080454925398, 185.2305470286637, 386.4239750696805, 248.1668254372577, 382.7857097932589, 107.79992252219472, 87.7172385924133, 474.0608426548207, 140.4451656892759, 320.1451720236689, 142.29526210420025, 110.93536704290712, 25.613102719419402, 121.14228418248874, 131.2269668297455, 94.50567016666473, 453.43463616371963, 243.6124970418922, 271.48425596740157, 310.46935751459, 174.75549706396114, 197.24234113528743, 247.40599711180488, 186.1694421682319, 346.7574983341365, 191.46516585642084, 200.48583618576347, 166.09549234684258, 221.74851393521087, 164.6771391158849, 155.09521985745138, 158.1241914377649, 2.2191111767765577, 2.219126125976097, 2.218510392279145, 2.21851169220954, 2.2180850983850156, 2.216906928137294, 2.2157792385198998, 2.2152529833651156, 2.1600286903726666, 2.1149640033799226, 13.495926755034235, 1.9203639899845877, 1.8542922111585758, 1.8343807439929662, 1.8569733175976255, 1.7995734827621284, 1.8272059948345365, 3.058763950555725, 2.3742099886133596, 2.414917092268034, 1.7500548009270427, 1.6974384932889417, 1.1639727329331582, 1.1636371342362621, 1.163618393573072, 1.1636048526314606, 1.1635342230800159, 5.1207243753674625, 1.163491433704524, 1.163338583555615, 2.335207527016256, 3.2730774083865453, 1.7269137650233568, 1.7353655874670373, 3.8517240911778643, 1.7398910784810873, 2.2687858502590066, 4.388424186683172, 8.289709857399146, 7.2921207403866335, 95.73430640040249, 11.68340347400773, 3.5507466571387365, 966.9747232061927, 81.29607310156088, 4.059436935774577, 31.469325095338615, 532.214548752425, 63.11196731034055, 69.79259732658362, 402.9453382589635, 97.07899599844322, 647.4094301949751, 68.39357410452587, 215.31245607238034, 101.98739450955334, 222.0636775087767, 360.28105420232083, 135.73067571164077, 225.71854100760285, 244.82854388794823, 126.51943133152115, 171.7496739928517, 68.75458730725832, 295.8185944046577, 386.21515781671053, 136.21760537212455, 120.47326440935664, 171.1677766174534, 89.5286952157468, 88.35888265384301, 288.3548724527287, 123.27232306593947, 360.83460962863387, 166.59985587532069, 268.23303148500446, 179.67377236040224, 221.40071994044652, 257.45438303218253, 200.37414128394175, 184.57582027822417, 176.65893219126286, 218.33958145036982, 170.01797258418472, 153.92440445426286, 145.10836664597764, 149.2625836733798, 145.5600213952711, 139.61434082585671, 2.717455005543922, 2.5870660593392842, 1.9268425986444104, 1.926328503221084, 1.9262306656812183, 1.9235057606757955, 1.9229711412878943, 1.9233559158082214, 1.9204219851830042, 2.503828032448955, 1.8918759401247331, 1.8061100781412567, 1.752491718844425, 1.6673526348276435, 1.6978475598424436, 1.7155396158293887, 1.6390095379045113, 1.6019252246904918, 1.6044035432283306, 1.5781307763239438, 2.0982254740527493, 1.4771537672946566, 2.5438067228224823, 2.5338113528128288, 1.50935427361797, 1.4922799291861848, 1.0097346216938963, 1.0096072934088167, 1.0096890903744273, 1.0094551570306345, 1.5164153144788226, 4.785329720488374, 3.8723444700140712, 1.9226571047037229, 5.15055825311575, 3.52087097888756, 1.9440932897621044, 3.02070216146477, 231.53648905483732, 158.37545299234864, 142.36384661966406, 240.69107951253196, 76.52722130782746, 161.0313671890081, 112.13429606829071, 102.60850480353928, 413.27441476012115, 57.662562280151775, 205.02165015802578, 345.1255811195764, 144.53119003150334, 190.81071999441497, 105.22962948541215, 245.78297389851596, 67.58287276390553, 173.55861491504527, 82.58143218612801, 193.2297007617415, 307.2866276321794, 172.26452913316464, 24.13790874397161, 200.30483979290082, 197.30963855778919, 212.41004785532076, 226.91739029612546, 353.64187069966874, 109.73495454318241, 122.34823235233921, 136.7628622665682, 289.5696846444623, 258.9231317675732, 258.50389770998714, 221.2123434647823, 157.68621761252584, 152.9577639823715, 171.47291463871323, 255.72795458621204, 256.2932076849662, 237.28849152893864, 182.036569714548, 157.41858830266088, 1.676170076154713, 1.6746358524643152, 1.6727340401377249, 1.6437017309085018, 1.6435364152364218, 1.610619249722201, 1.6046743344507675, 1.5230310876931146, 1.4973725575661128, 1.9721275432510956, 1.4727167110165795, 1.413753583897804, 1.4373958333071206, 1.4242162180758584, 1.4045637439752303, 1.3787660659231917, 0.8783629055940416, 0.8781257216309113, 0.8781068089227401, 0.8780869040725009, 0.8780607363254576, 0.8779602199321936, 0.8779091246156918, 0.877832667667577, 0.8777898195320153, 0.8777181992764819, 0.8777253302975956, 0.8776805598867772, 0.8776592908411945, 0.8776228296201957, 1.7671533483404824, 1.3099854450060764, 3.2816088560688716, 2.5041951037069836, 1.2950183618215605, 1.2598961605612178, 1.6344939084109456, 2.6252939802424695, 5.927267544399032, 3.562486259802745, 1.2293809709936159, 87.82588422928846, 5.916290484558722, 1.252716028415129, 69.64804775073827, 182.74433017717615, 167.69529704998584, 23.008931394484264, 34.081687305821255, 266.5526660648668, 150.07991781548753, 218.52986274205008, 188.0176367028051, 124.1862956569056, 64.36332365419082, 82.0797227940525, 42.8697721958068, 103.08460062969738, 95.2483530283378, 56.92606796976007, 71.64437252286797, 155.86082009737646, 121.20172595082275, 76.33878399466248, 169.63032331658647, 231.24272672170756, 93.68936447978085, 108.28000416014727, 131.69217582389552, 174.0042570261451, 88.8073905343158, 110.6600497984952, 90.65896574729311, 191.57374373714615, 83.65587143181752, 82.95329991635494, 137.1389087830102, 135.56643503946506, 134.31035143283563, 159.53036468720393, 92.16474373245929, 93.32751836187781, 2.2795569219909875, 1.5436138463259503, 1.543702250622673, 3.102418228595947, 1.4937471760347787, 1.4937907609673198, 1.4589889994616942, 2.3115911827146784, 2.2239453967570455, 1.262758428320969, 1.6758911729432697, 2.4585920502907794, 0.810208762113977, 0.8102020202180937, 0.8097504081501958, 0.8097374940961096, 0.8095689466990283, 0.8095365666075327, 0.809514346838002, 0.8095382758205736, 0.8094216695086773, 0.8094218594212375, 0.8094184409951558, 0.8094096100611116, 0.8093918532367429, 0.809377324925896, 0.809373241805854, 0.8093440902278799, 0.809325573753271, 0.8092837929900508, 1.594892896326523, 4.810570607772217, 1.541235666292203, 1.8782553500372734, 1.4772280118203314, 5.559322146140072, 2.371062110994802, 87.24505830143588, 1.9812004918358854, 1.4175779010397611, 1.4600343731487184, 1.4501054596382896, 1.4475443938091743, 1.905892375344603, 50.592906556065145, 1.645245742771529, 5.392962921576155, 179.03283719466663, 132.30547469732605, 73.13336395505326, 60.2304676115551, 42.79535511978586, 6.9885467197962905, 9.82446236202874, 217.81513329485165, 96.89552125660822, 148.60139441843512, 155.52607430392285, 36.579878621502274, 79.35803525984625, 59.78437060440234, 66.105742346193, 117.79427117373187, 130.42031450642898, 155.86712687583776, 54.78008652656085, 86.7321971539578, 125.81333358150103, 59.54264382071583, 55.65131419423226, 68.70877809143825, 149.218279031228, 82.17768679043245, 112.17439084990515, 89.22130967195578, 101.70392496206979, 100.35242818083297, 74.85391097746391, 75.33442925630816, 103.4654080166333, 71.56805297856197, 66.76144204766766, 62.593909670988786, 60.970822735816185, 60.82905376935805, 1.8241216129833513, 1.266658236865059, 1.266084406954367, 1.2647986677473244, 1.8704304872363888, 1.1039226756885272, 1.0962578939934688, 1.0159868064243618, 1.0539288078307132, 1.0069328510549238, 0.9999692224721886, 0.6641387692531981, 0.6640156359604614, 0.6640589108403872, 0.6638476643889577, 0.6638456007024872, 0.6638392845711686, 0.6637887555206194, 0.6637258443512476, 0.6637202786513727, 0.6637086469639939, 0.6636754403726057, 0.6636674357705385, 0.6636611196392199, 0.6636147804975653, 0.6635397373531854, 0.6635067809056119, 0.663495336826094, 0.6634946489306037, 0.6634855186813708, 1.29353306294612, 0.9538289451501912, 1.8201933545188769, 1.2661096714796416, 0.9343218549843515, 5.22517359686593, 1.4338145896770123, 1.5251879977773608, 2.442356428283395, 1.3117710484685878, 1.3449002203460863, 1.1155589907279857, 10.837718904445778, 1.1149177470592593, 122.02306643691175, 43.446462573368485, 52.85901410966415, 32.16900485090996, 62.68429093314631, 144.68313433688448, 44.1602329397, 47.50292674685218, 102.10941752920297, 25.06939308768203, 102.48118326761164, 42.7565099004879, 73.7897917928469, 93.07969809367387, 82.2152598275278, 53.667598987481554, 58.97111612621724, 38.80999694099915, 54.81216903246729, 81.84399837904937, 34.02827579721752, 50.04765378082908, 33.72506147091228, 71.38324820435592, 35.82826265946493, 66.48815788149665, 93.19318734178252, 83.20425242673558, 55.88659074723718, 46.61885446924012, 43.34065774324434, 37.40195141667076, 42.11597363846912, 63.18026007953056, 50.30029903357483, 44.80275034073041, 45.40886281155923, 42.66350042676816, 43.81096813770221], \"Total\": [4581.0, 2965.0, 3292.0, 1669.0, 3201.0, 2447.0, 2454.0, 2735.0, 1805.0, 2748.0, 4011.0, 2091.0, 605.0, 3057.0, 3052.0, 1881.0, 4781.0, 1706.0, 849.0, 1553.0, 658.0, 962.0, 1418.0, 798.0, 1301.0, 924.0, 1527.0, 659.0, 1320.0, 1534.0, 3.94531671460836, 3.940929031950177, 4.94508525266688, 4.944000497405243, 3.8231181636757725, 3.8691349692611503, 3.9327969011585866, 2.9371836143760657, 2.9368340107823925, 2.9352698928735212, 2.93664600879703, 2.935317374881105, 2.9332698671444537, 2.932296516842612, 2.9369122782358987, 3.9148327307813755, 4.844184133432998, 2.91430201565663, 2.879829612096719, 2.9183048282527255, 2.9371761827350347, 2.8501729636915845, 4.895033350255586, 3.8906080804185597, 4.897988646883964, 2.9212887110013863, 2.911368862470088, 2.8809178979178673, 7.850314910823337, 3.855594348753754, 5.795792287874709, 5.790440137984673, 9.796908051648943, 73.02072865341825, 5.80994954382311, 802.5485401407403, 658.6585537988552, 4781.287149492526, 1534.688085875429, 3052.3335205622584, 1200.7368536870272, 2447.888877673988, 1342.220347797189, 3057.240861727866, 4011.4039147348344, 4503.631910045646, 838.7470697870998, 2965.767435427727, 178.34021102630186, 1325.6436649014584, 1382.7226736757295, 495.59165412331146, 3201.248113148024, 339.13959586864104, 4581.030220722039, 1301.4180887671635, 638.5338584463673, 1881.546010619489, 1060.123841081061, 939.5855450474027, 1527.1088803191371, 2735.3465902887815, 312.8753763462681, 721.1370834011115, 962.3136650144199, 1396.1224160613494, 1316.0833603301878, 1068.2371844858028, 2748.0039707902283, 1669.511617001377, 3292.7812348392845, 2091.0637904006444, 1400.750649005155, 1751.2243408246413, 1703.3801129207216, 1706.2883505160446, 2454.2692701111823, 4.168473415964737, 4.160573435115133, 4.162429356794961, 3.086081926212596, 3.0851774772552485, 3.084114156442036, 3.083455277310404, 3.0850815459491754, 3.081902286003204, 3.081421129226457, 3.083105184249111, 7.267331190482324, 3.0755828434625476, 3.073094999186782, 3.0697424830658164, 3.0660713734626297, 3.983507032789063, 3.0464152088600613, 3.061040986742232, 3.07932845431851, 3.9893502216237393, 3.050521322950307, 3.045046987991831, 3.0756175084460096, 3.0637673535267784, 3.0190230670260005, 4.929973755036867, 3.0561608729214695, 3.071997624836375, 4.081736460336746, 14.953922870631377, 8.132629049061833, 651.481791761012, 22.531669479218372, 32.01440897351785, 16.98955699419426, 4503.631910045646, 451.61564959439033, 4781.287149492526, 629.8281700949346, 1278.473505007762, 1147.5375361536549, 1160.9026786284526, 483.86666897966825, 731.0564109162401, 180.0132280505249, 860.9701437817195, 2091.0637904006444, 535.2261971694369, 470.51514484459494, 3057.240861727866, 1325.6436649014584, 1251.9786888710707, 1418.5549390693718, 905.677489759161, 1681.2726666666813, 1413.8481748295544, 3201.248113148024, 414.3850529364721, 646.166111456841, 563.8041707125556, 1219.9057961399394, 4581.030220722039, 2735.3465902887815, 4011.4039147348344, 1527.1088803191371, 1320.6370875754492, 3292.7812348392845, 3052.3335205622584, 2748.0039707902283, 2454.2692701111823, 1910.631568255599, 1534.688085875429, 1881.546010619489, 1669.511617001377, 1703.3801129207216, 2447.888877673988, 2965.767435427727, 3.785447642698779, 2.8312861349365215, 2.831138397361224, 2.830775071010081, 2.8306056043407883, 2.8299572842249208, 2.8299587470667764, 2.8291627174918923, 2.832376928485436, 2.8310903293132545, 5.757242625584578, 2.8325408429024628, 2.8165491704681864, 2.834868761095965, 2.8281933073696024, 2.786399532593549, 5.6625623299910055, 5.6549889121991495, 4.713640878289843, 4.721740714228973, 3.731563642174923, 2.820555943119491, 2.781099871453177, 5.747670636142698, 6.701030667637851, 3.704347542394925, 4.726777671392331, 2.8013879963275317, 2.830698110633202, 2.8291537762092838, 6.586890846054908, 5.626636646451314, 7.3369583815519634, 12.44321494860661, 129.98532827219654, 216.60318060980836, 4503.631910045646, 798.9516526727934, 1251.9786888710707, 995.9630475488008, 1805.3252915534756, 1534.688085875429, 902.9239479266253, 787.3192712871902, 645.9831019216357, 2965.767435427727, 1382.7226736757295, 1330.0276708176739, 1751.2243408246413, 3052.3335205622584, 4581.030220722039, 1553.4742768689357, 65.71542260476406, 3292.7812348392845, 492.9518499239601, 1251.1716984188674, 32.81292532063619, 2454.2692701111823, 4781.287149492526, 1235.2287326126188, 562.4443920743864, 504.73986127720934, 599.042173019916, 2447.888877673988, 3057.240861727866, 2748.0039707902283, 1681.2726666666813, 4011.4039147348344, 1160.9026786284526, 3201.248113148024, 1396.1224160613494, 1374.0707512370482, 1400.750649005155, 1527.1088803191371, 2735.3465902887815, 1910.631568255599, 2091.0637904006444, 1706.2883505160446, 2.954750803880416, 2.9547395994262633, 2.9547213770881626, 2.95462901441341, 2.955936182716786, 2.955460967724273, 2.9518061659795687, 2.951384127951695, 3.9631395716222717, 2.9460860906496094, 2.9432870659528425, 2.941007915569887, 2.958493821875985, 3.9828203422319546, 2.971826074804296, 2.869987351389597, 2.929616711073967, 4.927502742691368, 3.939046481081637, 2.9491826536563233, 2.9399309332216887, 1.937490036880672, 1.93738512387832, 1.9372800654350577, 1.9372561866833482, 1.9371306659366185, 1.9371227951317267, 1.9371146477687702, 1.9371020739426363, 1.9369974719731256, 3.902051458893495, 2.9326860667886128, 6.9134724114760635, 3.8994596756797013, 5.942345420859967, 2.935623908405484, 2.920720214129402, 7.793741315175775, 5.816454351597371, 4.886987382824432, 6.784867633136528, 9.901879371392054, 5.707326066282777, 1219.9057961399394, 870.7640846315818, 292.5929043647089, 1321.7011193484534, 234.36546300125002, 1303.0964472326355, 360.5583469656941, 1669.511617001377, 757.8304948490284, 1881.546010619489, 905.8163204624142, 498.67037459976876, 1805.3252915534756, 2447.888877673988, 1278.473505007762, 1396.1224160613494, 4503.631910045646, 961.8664553096911, 849.155199471559, 686.1483407190203, 962.3136650144199, 417.71617505924627, 426.58271370874235, 1342.220347797189, 4011.4039147348344, 380.8180257931605, 895.936485841881, 3292.7812348392845, 1138.3284226419821, 3057.240861727866, 1413.8481748295544, 2965.767435427727, 3201.248113148024, 1703.3801129207216, 4581.030220722039, 4781.287149492526, 3052.3335205622584, 2735.3465902887815, 1352.3920212223368, 2454.2692701111823, 1910.631568255599, 2748.0039707902283, 2091.0637904006444, 1553.4742768689357, 1418.5549390693718, 3.7537653016981927, 3.7378837422074707, 3.707447607576555, 2.808254754538946, 2.8078891973648195, 2.807657513837742, 2.8073611285148425, 2.806526189952992, 2.805727793007945, 2.8049434398388406, 2.804562015575375, 2.8059767015540817, 2.816174904670871, 2.806943065683623, 2.804119397017226, 2.8263457132927474, 2.8120126491030657, 2.820224684056104, 2.819680133581085, 2.8021112956192584, 2.7980015545391446, 5.771801444893545, 2.7738254809018676, 2.755096861273651, 4.714038240389374, 3.7236086870857337, 2.832188400844493, 2.7659434782878973, 1.863317791558893, 1.8632460942079958, 7.524010144103574, 3.6986797255313837, 6.618031788174971, 9.321295456751654, 10.170591221909206, 371.0941372005597, 1751.2243408246413, 1072.4694482613272, 2748.0039707902283, 83.69145152055201, 495.59165412331146, 1320.6370875754492, 2965.767435427727, 995.9630475488008, 4011.4039147348344, 535.5031023613635, 1068.2371844858028, 1910.631568255599, 1138.3284226419821, 3057.240861727866, 1703.3801129207216, 3201.248113148024, 602.7468293087361, 464.6596998878335, 4581.030220722039, 885.7342807643879, 2735.3465902887815, 905.677489759161, 660.0448806327124, 89.10897909424827, 757.8304948490284, 849.155199471559, 541.341303895611, 4781.287149492526, 2091.0637904006444, 2454.2692701111823, 3052.3335205622584, 1330.0276708176739, 1681.2726666666813, 2447.888877673988, 1553.4742768689357, 4503.631910045646, 1706.2883505160446, 1881.546010619489, 1400.750649005155, 3292.7812348392845, 1527.1088803191371, 1251.1716984188674, 1418.5549390693718, 3.030105653437327, 3.030139599245847, 3.0295170145873307, 3.0295247167976362, 3.0290943168618423, 3.02791407497541, 3.0267835902183586, 3.0293641866511933, 3.012586753747344, 3.0145503796844757, 20.56157008669259, 2.978799013670064, 2.918634526327625, 2.9379684118143405, 2.9803787018782586, 2.9451071517081546, 2.9961287649677235, 5.024409485169996, 3.9089219027307083, 4.028350236396283, 2.9576571383957186, 2.8765333087016143, 1.9749672012977104, 1.9746340192548946, 1.9746117699543158, 1.9745984245694073, 1.9745296018288196, 8.690103436238873, 1.9744999729382033, 1.9743336522191073, 3.968268695288828, 5.721397318597426, 2.9657591528679474, 2.9912358744747296, 6.913293500766012, 3.004851669396525, 3.9956245278681886, 8.150686822080601, 17.232013332618386, 15.091096344437515, 283.7418252930246, 26.463976811844187, 6.692408661641378, 4581.030220722039, 275.83134301312094, 7.833269065152123, 96.76003494597447, 3292.7812348392845, 236.57597520079236, 271.75875870598014, 2454.2692701111823, 417.71617505924627, 4781.287149492526, 288.08175860937433, 1303.0964472326355, 497.94035652152843, 1418.5549390693718, 2735.3465902887815, 767.9860259287354, 1703.3801129207216, 1910.631568255599, 782.2265918153754, 1200.7368536870272, 353.8028259656136, 2748.0039707902283, 4011.4039147348344, 939.5855450474027, 798.7657278269724, 1352.3920212223368, 543.993916719746, 533.9661131333027, 3052.3335205622584, 878.7504075733993, 4503.631910045646, 1396.1224160613494, 3057.240861727866, 1706.2883505160446, 2447.888877673988, 3201.248113148024, 2091.0637904006444, 1805.3252915534756, 1669.511617001377, 2965.767435427727, 1681.2726666666813, 1321.7011193484534, 1251.9786888710707, 1413.8481748295544, 1320.6370875754492, 1374.0707512370482, 3.687395566216648, 3.6725853444943324, 2.751908961986536, 2.751388211029667, 2.7512938532121307, 2.7485736766891242, 2.748038956344032, 2.750361246469103, 2.750340470427376, 3.593286888004479, 2.752272119428972, 2.755484921834406, 2.738156369597597, 2.66236096225254, 2.7191542163528357, 2.784836436272786, 2.7537667694401633, 2.728102121229205, 2.76920549550929, 2.759492101423904, 3.6765154662478436, 2.651679375000778, 4.567979680318821, 4.570627342104527, 2.7328813536556047, 2.7115113034138383, 1.8347889131699264, 1.8346612481638753, 1.8348250169158193, 1.8345131438963929, 2.761459506843376, 9.318024258313446, 7.5137861411205025, 3.6161823684168106, 10.919587796213674, 7.397364418739605, 3.6940900462408224, 6.3442226123676235, 1352.3920212223368, 853.5033356196834, 798.3188973500427, 1553.4742768689357, 365.2676813493971, 957.6379135829386, 604.4735786893889, 543.993916719746, 3292.7812348392845, 261.987919435929, 1374.0707512370482, 2748.0039707902283, 878.7504075733993, 1320.6370875754492, 605.212234456354, 1910.631568255599, 345.5125617719775, 1316.0833603301878, 476.77898078331145, 1534.688085875429, 2965.767435427727, 1330.0276708176739, 88.81786671472412, 1706.2883505160446, 1681.2726666666813, 1881.546010619489, 2091.0637904006444, 4011.4039147348344, 756.2937068097876, 895.936485841881, 1060.123841081061, 3201.248113148024, 2735.3465902887815, 3052.3335205622584, 2454.2692701111823, 1413.8481748295544, 1400.750649005155, 1805.3252915534756, 4503.631910045646, 4781.287149492526, 4581.030220722039, 2447.888877673988, 1751.2243408246413, 2.5132336604552847, 2.511701384583433, 2.5098063941429376, 2.518772507463969, 2.5222063724391965, 2.5241575632282527, 2.5282963711888287, 2.561102047111086, 2.5736379326712613, 3.404939018744305, 2.5674413176986395, 2.5391096626135883, 2.5959921478602306, 2.5906223378953483, 2.581582585201566, 2.6146527769694394, 1.7154203919427489, 1.7151909489315325, 1.7151688489135437, 1.7151489366294064, 1.7151220179485347, 1.7150271029098583, 1.714970237287983, 1.7148951539534507, 1.7148527206412432, 1.714776150504501, 1.7147902796600505, 1.7147517198865447, 1.7147174468439628, 1.714688704057809, 3.4805850844052877, 2.6156997415154892, 7.03047156369057, 5.304399299294035, 2.6469860807946133, 2.574630842482536, 3.5015423508109915, 6.143801738041785, 16.114314638117143, 8.909046272082433, 2.5515416632407253, 411.2683534186321, 16.986231448770415, 2.628475427865356, 338.972027300528, 1805.3252915534756, 1706.2883505160446, 121.16520136974754, 221.57007072026394, 4011.4039147348344, 1881.546010619489, 3201.248113148024, 2735.3465902887815, 1527.1088803191371, 605.212234456354, 878.7504075733993, 344.85461729335793, 1251.1716984188674, 1123.7549581112592, 535.2261971694369, 768.3780245463856, 2454.2692701111823, 1703.3801129207216, 853.5033356196834, 2965.767435427727, 4781.287149492526, 1219.9057961399394, 1534.688085875429, 2091.0637904006444, 3292.7812348392845, 1160.9026786284526, 1669.511617001377, 1235.2287326126188, 4503.631910045646, 1109.853355345003, 1100.021659841758, 2748.0039707902283, 3057.240861727866, 3052.3335205622584, 4581.030220722039, 1418.5549390693718, 2447.888877673988, 3.12286692454132, 2.386918393015804, 2.3888016378712695, 4.878740521425616, 2.400647520663734, 2.4067062340120597, 2.414761186988706, 4.022170244652005, 4.078572226125176, 2.473560062920335, 3.3311394621112607, 4.905354715442828, 1.6535056176389642, 1.6535022358637617, 1.6530476132860876, 1.6530433235941657, 1.6528630495527568, 1.6528330946716947, 1.652810164685263, 1.6528628776051189, 1.6527158784913563, 1.6527169284271719, 1.6527108436019258, 1.652710184178468, 1.6526850749811917, 1.6526681151908333, 1.652672931487322, 1.6526351165347857, 1.6526226761268705, 1.6525745106289493, 3.372668450660718, 11.04091873549234, 3.367908980580503, 4.257575647048261, 3.3118798140024506, 16.406183261650924, 6.028105453303696, 605.212234456354, 5.079286778336787, 3.339462221141641, 3.4809413204445474, 3.4613799810128154, 3.4911763849875355, 5.073094727573433, 414.27146244443446, 4.263978491372477, 21.27023452482786, 2447.888877673988, 1669.511617001377, 798.3188973500427, 659.4194974833748, 414.3850529364721, 31.99909713150009, 52.39129880720548, 4581.030220722039, 1553.4742768689357, 3052.3335205622584, 3292.7812348392845, 394.5207473775455, 1303.0964472326355, 849.155199471559, 997.7387721273512, 2454.2692701111823, 2965.767435427727, 4011.4039147348344, 789.829778989786, 1706.2883505160446, 3201.248113148024, 939.5855450474027, 871.0760955829458, 1251.9786888710707, 4781.287149492526, 1751.2243408246413, 3057.240861727866, 2091.0637904006444, 2748.0039707902283, 2735.3465902887815, 1681.2726666666813, 1910.631568255599, 4503.631910045646, 1881.546010619489, 1805.3252915534756, 1316.0833603301878, 1325.6436649014584, 1321.7011193484534, 2.766986646375985, 2.1232618816586193, 2.122682967360087, 2.122795051617808, 3.7209611278841015, 2.2136609648280587, 2.225486118575163, 2.178150856860773, 2.263747332063068, 2.275490862481288, 2.260081486120944, 1.5207342366112273, 1.5206118616271067, 1.5207118263779524, 1.520437149787898, 1.5204325985206002, 1.52044671965404, 1.5203803024810096, 1.5203255854132918, 1.5203214220992798, 1.5203051563135939, 1.5202753246258913, 1.520260584340872, 1.520255638000214, 1.5202040524900375, 1.520140644247098, 1.52009851106355, 1.5200909781096223, 1.5200917660764484, 1.5201071440543703, 2.999857965586023, 2.2236918998858664, 4.741381558792955, 3.175641358097052, 2.243079752085189, 17.095701671155037, 3.913205268567144, 4.684479256506043, 9.035183065774715, 3.889103922493817, 4.038559838351399, 3.1160831041487187, 74.93497776521373, 3.185151325755889, 2965.767435427727, 658.6585537988552, 962.3136650144199, 462.1914252392451, 1301.4180887671635, 4581.030220722039, 823.7125845405899, 924.565628948566, 3201.248113148024, 364.4123666335673, 3292.7812348392845, 870.7640846315818, 2091.0637904006444, 3057.240861727866, 2735.3465902887815, 1418.5549390693718, 1669.511617001377, 849.155199471559, 1527.1088803191371, 3052.3335205622584, 728.1631082254002, 1400.750649005155, 721.1370834011115, 2748.0039707902283, 802.5485401407403, 2454.2692701111823, 4781.287149492526, 4011.4039147348344, 1881.546010619489, 1382.7226736757295, 1200.7368536870272, 905.8163204624142, 1320.6370875754492, 4503.631910045646, 2447.888877673988, 1703.3801129207216, 1910.631568255599, 1413.8481748295544, 1805.3252915534756], \"Category\": [\"Default\", \"Default\", \"Default\", \"Default\", \"Default\", \"Default\", \"Default\", \"Default\", \"Default\", \"Default\", \"Default\", \"Default\", \"Default\", \"Default\", \"Default\", \"Default\", \"Default\", \"Default\", \"Default\", \"Default\", \"Default\", \"Default\", \"Default\", \"Default\", \"Default\", \"Default\", \"Default\", \"Default\", \"Default\", \"Default\", \"Topic1\", \"Topic1\", \"Topic1\", \"Topic1\", \"Topic1\", \"Topic1\", \"Topic1\", \"Topic1\", \"Topic1\", \"Topic1\", \"Topic1\", \"Topic1\", \"Topic1\", \"Topic1\", \"Topic1\", \"Topic1\", \"Topic1\", \"Topic1\", \"Topic1\", \"Topic1\", \"Topic1\", \"Topic1\", \"Topic1\", \"Topic1\", \"Topic1\", \"Topic1\", \"Topic1\", \"Topic1\", \"Topic1\", \"Topic1\", \"Topic1\", \"Topic1\", \"Topic1\", \"Topic1\", \"Topic1\", \"Topic1\", \"Topic1\", \"Topic1\", \"Topic1\", \"Topic1\", \"Topic1\", \"Topic1\", \"Topic1\", \"Topic1\", \"Topic1\", \"Topic1\", \"Topic1\", \"Topic1\", \"Topic1\", \"Topic1\", \"Topic1\", \"Topic1\", \"Topic1\", \"Topic1\", \"Topic1\", \"Topic1\", \"Topic1\", \"Topic1\", \"Topic1\", \"Topic1\", \"Topic1\", \"Topic1\", \"Topic1\", \"Topic1\", \"Topic1\", \"Topic1\", \"Topic1\", \"Topic1\", \"Topic1\", \"Topic1\", \"Topic1\", \"Topic1\", \"Topic1\", \"Topic1\", \"Topic1\", \"Topic1\", \"Topic1\", \"Topic2\", \"Topic2\", \"Topic2\", \"Topic2\", \"Topic2\", \"Topic2\", \"Topic2\", \"Topic2\", \"Topic2\", \"Topic2\", \"Topic2\", \"Topic2\", \"Topic2\", \"Topic2\", \"Topic2\", \"Topic2\", \"Topic2\", \"Topic2\", \"Topic2\", \"Topic2\", \"Topic2\", \"Topic2\", \"Topic2\", \"Topic2\", \"Topic2\", \"Topic2\", \"Topic2\", \"Topic2\", \"Topic2\", \"Topic2\", \"Topic2\", \"Topic2\", \"Topic2\", \"Topic2\", \"Topic2\", \"Topic2\", \"Topic2\", \"Topic2\", \"Topic2\", \"Topic2\", \"Topic2\", \"Topic2\", \"Topic2\", \"Topic2\", \"Topic2\", \"Topic2\", \"Topic2\", \"Topic2\", \"Topic2\", \"Topic2\", \"Topic2\", \"Topic2\", \"Topic2\", \"Topic2\", \"Topic2\", \"Topic2\", \"Topic2\", \"Topic2\", \"Topic2\", \"Topic2\", \"Topic2\", \"Topic2\", \"Topic2\", \"Topic2\", \"Topic2\", \"Topic2\", \"Topic2\", \"Topic2\", \"Topic2\", \"Topic2\", \"Topic2\", \"Topic2\", \"Topic2\", \"Topic2\", \"Topic2\", \"Topic2\", \"Topic2\", \"Topic2\", \"Topic3\", \"Topic3\", \"Topic3\", \"Topic3\", \"Topic3\", \"Topic3\", \"Topic3\", \"Topic3\", \"Topic3\", \"Topic3\", \"Topic3\", \"Topic3\", \"Topic3\", \"Topic3\", \"Topic3\", \"Topic3\", \"Topic3\", \"Topic3\", \"Topic3\", \"Topic3\", \"Topic3\", \"Topic3\", \"Topic3\", \"Topic3\", \"Topic3\", \"Topic3\", \"Topic3\", \"Topic3\", \"Topic3\", \"Topic3\", \"Topic3\", \"Topic3\", \"Topic3\", \"Topic3\", \"Topic3\", \"Topic3\", \"Topic3\", \"Topic3\", \"Topic3\", \"Topic3\", \"Topic3\", \"Topic3\", \"Topic3\", \"Topic3\", \"Topic3\", \"Topic3\", \"Topic3\", \"Topic3\", \"Topic3\", \"Topic3\", \"Topic3\", \"Topic3\", \"Topic3\", \"Topic3\", \"Topic3\", \"Topic3\", \"Topic3\", \"Topic3\", \"Topic3\", \"Topic3\", \"Topic3\", \"Topic3\", \"Topic3\", \"Topic3\", \"Topic3\", \"Topic3\", \"Topic3\", \"Topic3\", \"Topic3\", \"Topic3\", \"Topic3\", \"Topic3\", \"Topic3\", \"Topic3\", \"Topic3\", \"Topic3\", \"Topic3\", \"Topic3\", \"Topic4\", \"Topic4\", \"Topic4\", \"Topic4\", \"Topic4\", \"Topic4\", \"Topic4\", \"Topic4\", \"Topic4\", \"Topic4\", \"Topic4\", \"Topic4\", \"Topic4\", \"Topic4\", \"Topic4\", \"Topic4\", \"Topic4\", \"Topic4\", \"Topic4\", \"Topic4\", \"Topic4\", \"Topic4\", \"Topic4\", \"Topic4\", \"Topic4\", \"Topic4\", \"Topic4\", \"Topic4\", \"Topic4\", \"Topic4\", \"Topic4\", \"Topic4\", \"Topic4\", \"Topic4\", \"Topic4\", \"Topic4\", \"Topic4\", \"Topic4\", \"Topic4\", \"Topic4\", \"Topic4\", \"Topic4\", \"Topic4\", \"Topic4\", \"Topic4\", \"Topic4\", \"Topic4\", \"Topic4\", \"Topic4\", \"Topic4\", \"Topic4\", \"Topic4\", \"Topic4\", \"Topic4\", \"Topic4\", \"Topic4\", \"Topic4\", \"Topic4\", \"Topic4\", \"Topic4\", \"Topic4\", \"Topic4\", \"Topic4\", \"Topic4\", \"Topic4\", \"Topic4\", \"Topic4\", \"Topic4\", \"Topic4\", \"Topic4\", \"Topic4\", \"Topic4\", \"Topic4\", \"Topic4\", \"Topic4\", \"Topic4\", \"Topic4\", \"Topic4\", \"Topic4\", \"Topic4\", \"Topic4\", \"Topic4\", \"Topic4\", \"Topic4\", \"Topic4\", \"Topic4\", \"Topic4\", \"Topic4\", \"Topic5\", \"Topic5\", \"Topic5\", \"Topic5\", \"Topic5\", \"Topic5\", \"Topic5\", \"Topic5\", \"Topic5\", \"Topic5\", \"Topic5\", \"Topic5\", \"Topic5\", \"Topic5\", \"Topic5\", \"Topic5\", \"Topic5\", \"Topic5\", \"Topic5\", \"Topic5\", \"Topic5\", \"Topic5\", \"Topic5\", \"Topic5\", \"Topic5\", \"Topic5\", \"Topic5\", \"Topic5\", \"Topic5\", \"Topic5\", \"Topic5\", \"Topic5\", \"Topic5\", \"Topic5\", \"Topic5\", \"Topic5\", \"Topic5\", \"Topic5\", \"Topic5\", \"Topic5\", \"Topic5\", \"Topic5\", \"Topic5\", \"Topic5\", \"Topic5\", \"Topic5\", \"Topic5\", \"Topic5\", \"Topic5\", \"Topic5\", \"Topic5\", \"Topic5\", \"Topic5\", \"Topic5\", \"Topic5\", \"Topic5\", \"Topic5\", \"Topic5\", \"Topic5\", \"Topic5\", \"Topic5\", \"Topic5\", \"Topic5\", \"Topic5\", \"Topic5\", \"Topic5\", \"Topic5\", \"Topic5\", \"Topic5\", \"Topic5\", \"Topic5\", \"Topic5\", \"Topic5\", \"Topic5\", \"Topic5\", \"Topic5\", \"Topic5\", \"Topic5\", \"Topic5\", \"Topic6\", \"Topic6\", \"Topic6\", \"Topic6\", \"Topic6\", \"Topic6\", \"Topic6\", \"Topic6\", \"Topic6\", \"Topic6\", \"Topic6\", \"Topic6\", \"Topic6\", \"Topic6\", \"Topic6\", \"Topic6\", \"Topic6\", \"Topic6\", \"Topic6\", \"Topic6\", \"Topic6\", \"Topic6\", \"Topic6\", \"Topic6\", \"Topic6\", \"Topic6\", \"Topic6\", \"Topic6\", \"Topic6\", \"Topic6\", \"Topic6\", \"Topic6\", \"Topic6\", \"Topic6\", \"Topic6\", \"Topic6\", \"Topic6\", \"Topic6\", \"Topic6\", \"Topic6\", \"Topic6\", \"Topic6\", \"Topic6\", \"Topic6\", \"Topic6\", \"Topic6\", \"Topic6\", \"Topic6\", \"Topic6\", \"Topic6\", \"Topic6\", \"Topic6\", \"Topic6\", \"Topic6\", \"Topic6\", \"Topic6\", \"Topic6\", \"Topic6\", \"Topic6\", \"Topic6\", \"Topic6\", \"Topic6\", \"Topic6\", \"Topic6\", \"Topic6\", \"Topic6\", \"Topic6\", \"Topic6\", \"Topic6\", \"Topic6\", \"Topic6\", \"Topic6\", \"Topic6\", \"Topic6\", \"Topic6\", \"Topic6\", \"Topic6\", \"Topic6\", \"Topic6\", \"Topic6\", \"Topic6\", \"Topic6\", \"Topic6\", \"Topic6\", \"Topic6\", \"Topic6\", \"Topic6\", \"Topic6\", \"Topic6\", \"Topic7\", \"Topic7\", \"Topic7\", \"Topic7\", \"Topic7\", \"Topic7\", \"Topic7\", \"Topic7\", \"Topic7\", \"Topic7\", \"Topic7\", \"Topic7\", \"Topic7\", \"Topic7\", \"Topic7\", \"Topic7\", \"Topic7\", \"Topic7\", \"Topic7\", \"Topic7\", \"Topic7\", \"Topic7\", \"Topic7\", \"Topic7\", \"Topic7\", \"Topic7\", \"Topic7\", \"Topic7\", \"Topic7\", \"Topic7\", \"Topic7\", \"Topic7\", \"Topic7\", \"Topic7\", \"Topic7\", \"Topic7\", \"Topic7\", \"Topic7\", \"Topic7\", \"Topic7\", \"Topic7\", \"Topic7\", \"Topic7\", \"Topic7\", \"Topic7\", \"Topic7\", \"Topic7\", \"Topic7\", \"Topic7\", \"Topic7\", \"Topic7\", \"Topic7\", \"Topic7\", \"Topic7\", \"Topic7\", \"Topic7\", \"Topic7\", \"Topic7\", \"Topic7\", \"Topic7\", \"Topic7\", \"Topic7\", \"Topic7\", \"Topic7\", \"Topic7\", \"Topic7\", \"Topic7\", \"Topic7\", \"Topic7\", \"Topic7\", \"Topic7\", \"Topic7\", \"Topic7\", \"Topic7\", \"Topic7\", \"Topic7\", \"Topic7\", \"Topic7\", \"Topic7\", \"Topic7\", \"Topic7\", \"Topic8\", \"Topic8\", \"Topic8\", \"Topic8\", \"Topic8\", \"Topic8\", \"Topic8\", \"Topic8\", \"Topic8\", \"Topic8\", \"Topic8\", \"Topic8\", \"Topic8\", \"Topic8\", \"Topic8\", \"Topic8\", \"Topic8\", \"Topic8\", \"Topic8\", \"Topic8\", \"Topic8\", \"Topic8\", \"Topic8\", \"Topic8\", \"Topic8\", \"Topic8\", \"Topic8\", \"Topic8\", \"Topic8\", \"Topic8\", \"Topic8\", \"Topic8\", \"Topic8\", \"Topic8\", \"Topic8\", \"Topic8\", \"Topic8\", \"Topic8\", \"Topic8\", \"Topic8\", \"Topic8\", \"Topic8\", \"Topic8\", \"Topic8\", \"Topic8\", \"Topic8\", \"Topic8\", \"Topic8\", \"Topic8\", \"Topic8\", \"Topic8\", \"Topic8\", \"Topic8\", \"Topic8\", \"Topic8\", \"Topic8\", \"Topic8\", \"Topic8\", \"Topic8\", \"Topic8\", \"Topic8\", \"Topic8\", \"Topic8\", \"Topic8\", \"Topic8\", \"Topic8\", \"Topic8\", \"Topic8\", \"Topic8\", \"Topic8\", \"Topic8\", \"Topic8\", \"Topic8\", \"Topic8\", \"Topic8\", \"Topic8\", \"Topic8\", \"Topic8\", \"Topic8\", \"Topic8\", \"Topic8\", \"Topic8\", \"Topic9\", \"Topic9\", \"Topic9\", \"Topic9\", \"Topic9\", \"Topic9\", \"Topic9\", \"Topic9\", \"Topic9\", \"Topic9\", \"Topic9\", \"Topic9\", \"Topic9\", \"Topic9\", \"Topic9\", \"Topic9\", \"Topic9\", \"Topic9\", \"Topic9\", \"Topic9\", \"Topic9\", \"Topic9\", \"Topic9\", \"Topic9\", \"Topic9\", \"Topic9\", \"Topic9\", \"Topic9\", \"Topic9\", \"Topic9\", \"Topic9\", \"Topic9\", \"Topic9\", \"Topic9\", \"Topic9\", \"Topic9\", \"Topic9\", \"Topic9\", \"Topic9\", \"Topic9\", \"Topic9\", \"Topic9\", \"Topic9\", \"Topic9\", \"Topic9\", \"Topic9\", \"Topic9\", \"Topic9\", \"Topic9\", \"Topic9\", \"Topic9\", \"Topic9\", \"Topic9\", \"Topic9\", \"Topic9\", \"Topic9\", \"Topic9\", \"Topic9\", \"Topic9\", \"Topic9\", \"Topic9\", \"Topic9\", \"Topic9\", \"Topic9\", \"Topic9\", \"Topic9\", \"Topic9\", \"Topic9\", \"Topic9\", \"Topic9\", \"Topic9\", \"Topic9\", \"Topic9\", \"Topic9\", \"Topic9\", \"Topic9\", \"Topic9\", \"Topic9\", \"Topic9\", \"Topic9\", \"Topic9\", \"Topic9\", \"Topic9\", \"Topic9\", \"Topic9\", \"Topic10\", \"Topic10\", \"Topic10\", \"Topic10\", \"Topic10\", \"Topic10\", \"Topic10\", \"Topic10\", \"Topic10\", \"Topic10\", \"Topic10\", \"Topic10\", \"Topic10\", \"Topic10\", \"Topic10\", \"Topic10\", \"Topic10\", \"Topic10\", \"Topic10\", \"Topic10\", \"Topic10\", \"Topic10\", \"Topic10\", \"Topic10\", \"Topic10\", \"Topic10\", \"Topic10\", \"Topic10\", \"Topic10\", \"Topic10\", \"Topic10\", \"Topic10\", \"Topic10\", \"Topic10\", \"Topic10\", \"Topic10\", \"Topic10\", \"Topic10\", \"Topic10\", \"Topic10\", \"Topic10\", \"Topic10\", \"Topic10\", \"Topic10\", \"Topic10\", \"Topic10\", \"Topic10\", \"Topic10\", \"Topic10\", \"Topic10\", \"Topic10\", \"Topic10\", \"Topic10\", \"Topic10\", \"Topic10\", \"Topic10\", \"Topic10\", \"Topic10\", \"Topic10\", \"Topic10\", \"Topic10\", \"Topic10\", \"Topic10\", \"Topic10\", \"Topic10\", \"Topic10\", \"Topic10\", \"Topic10\", \"Topic10\", \"Topic10\", \"Topic10\", \"Topic10\", \"Topic10\", \"Topic10\", \"Topic10\", \"Topic10\", \"Topic10\", \"Topic10\", \"Topic10\", \"Topic10\", \"Topic10\", \"Topic10\", \"Topic10\"], \"logprob\": [30.0, 29.0, 28.0, 27.0, 26.0, 25.0, 24.0, 23.0, 22.0, 21.0, 20.0, 19.0, 18.0, 17.0, 16.0, 15.0, 14.0, 13.0, 12.0, 11.0, 10.0, 9.0, 8.0, 7.0, 6.0, 5.0, 4.0, 3.0, 2.0, 1.0, -10.1851, -10.1865, -9.9716, -10.0258, -10.287, -10.2792, -10.2639, -10.5739, -10.5741, -10.5748, -10.5864, -10.5872, -10.6012, -10.6287, -10.6272, -10.3585, -10.1482, -10.6847, -10.6992, -10.7004, -10.6944, -10.7329, -10.1972, -10.4312, -10.2039, -10.7322, -10.7455, -10.7621, -9.7636, -10.4842, -10.0915, -10.0985, -9.6055, -7.856, -10.115, -5.9215, -6.1073, -4.4479, -5.4271, -4.8682, -5.6436, -5.1102, -5.613, -4.9385, -4.7305, -4.6734, -6.0543, -5.0441, -7.294, -5.6998, -5.6675, -6.4927, -5.0272, -6.8049, -4.7639, -5.7603, -6.3336, -5.5213, -5.9803, -6.0814, -5.7239, -5.3139, -6.9186, -6.314, -6.12, -5.8566, -5.9031, -6.0693, -5.4859, -5.8064, -5.4177, -5.6988, -5.9158, -5.7989, -5.8468, -5.8726, -5.8501, -10.0956, -10.1079, -10.1117, -10.484, -10.4844, -10.4849, -10.4852, -10.4847, -10.4859, -10.4861, -10.4856, -9.631, -10.4979, -10.5162, -10.5311, -10.5441, -10.2844, -10.5571, -10.5674, -10.5633, -10.3275, -10.5969, -10.6066, -10.6005, -10.6126, -10.653, -10.1689, -10.657, -10.6549, -10.3749, -9.1706, -9.7475, -5.8027, -8.8395, -8.5713, -9.1296, -4.3603, -6.3921, -4.4862, -6.1589, -5.6042, -5.7019, -5.7067, -6.4182, -6.0892, -7.2275, -5.9796, -5.3185, -6.3959, -6.5051, -5.0376, -5.7068, -5.7673, -5.6787, -6.0302, -5.5519, -5.6966, -5.0659, -6.6618, -6.3509, -6.4529, -5.891, -4.9121, -5.2964, -5.0277, -5.7415, -5.8452, -5.2112, -5.2975, -5.3883, -5.4639, -5.6251, -5.7854, -5.7173, -5.8104, -5.8628, -5.8203, -5.8732, -10.1912, -10.5796, -10.5797, -10.5798, -10.5799, -10.5803, -10.5803, -10.5807, -10.5815, -10.5835, -9.8763, -10.5895, -10.6222, -10.6183, -10.6256, -10.6699, -9.9703, -9.9764, -10.1778, -10.1802, -10.4337, -10.7155, -10.7318, -10.0145, -9.8749, -10.47, -10.2309, -10.7604, -10.7543, -10.7548, -9.9103, -10.0855, -9.846, -9.412, -7.3669, -6.9467, -4.5946, -6.0205, -5.681, -5.8669, -5.3939, -5.5283, -5.9552, -6.0664, -6.2451, -5.0277, -5.6586, -5.692, -5.4779, -5.0632, -4.761, -5.6096, -8.0998, -5.0475, -6.5368, -5.8115, -8.6516, -5.2887, -4.7699, -5.827, -6.451, -6.5354, -6.4066, -5.3612, -5.1963, -5.2768, -5.644, -5.0039, -5.9258, -5.2024, -5.7965, -5.8078, -5.8051, -5.7551, -5.4305, -5.6865, -5.7423, -5.8027, -10.3384, -10.3384, -10.3384, -10.3385, -10.3432, -10.3446, -10.3662, -10.3666, -10.0809, -10.3826, -10.4183, -10.4408, -10.4539, -10.1675, -10.4631, -10.5009, -10.5188, -10.0109, -10.252, -10.5421, -10.5492, -10.9834, -10.9835, -10.9836, -10.9836, -10.9837, -10.9838, -10.9838, -10.9838, -10.9839, -10.2835, -10.5727, -9.7257, -10.3028, -9.8977, -10.585, -10.5917, -9.6656, -9.9606, -10.1335, -9.8426, -9.5207, -9.9993, -5.4412, -5.7739, -6.7294, -5.4953, -6.9454, -5.5721, -6.6338, -5.4288, -6.0684, -5.3664, -5.9462, -6.4309, -5.429, -5.21, -5.7225, -5.6557, -4.7563, -5.9734, -6.0714, -6.2451, -5.9936, -6.6216, -6.6208, -5.7619, -4.9543, -6.7061, -6.1043, -5.1765, -5.9522, -5.2444, -5.8103, -5.309, -5.2927, -5.7048, -5.1138, -5.1271, -5.446, -5.5274, -5.8996, -5.6371, -5.7682, -5.7295, -5.8256, -5.9012, -5.9354, -9.9528, -9.9649, -10.0558, -10.3422, -10.3424, -10.3425, -10.3427, -10.3431, -10.3435, -10.3439, -10.3441, -10.344, -10.3811, -10.405, -10.4127, -10.4243, -10.4339, -10.4594, -10.4617, -10.4695, -10.4712, -9.7809, -10.532, -10.5439, -10.015, -10.2762, -10.5559, -10.5833, -10.9881, -10.9881, -9.6021, -10.3095, -9.7585, -9.4408, -9.3897, -6.3993, -5.1953, -5.6304, -4.892, -7.7822, -6.382, -5.6215, -5.0146, -5.8703, -4.8065, -6.3652, -5.8371, -5.4127, -5.8068, -5.0714, -5.5143, -5.0809, -6.3481, -6.5543, -4.867, -6.0836, -5.2596, -6.0705, -6.3194, -7.7853, -6.2314, -6.1514, -6.4797, -4.9115, -5.5328, -5.4245, -5.2903, -5.865, -5.7439, -5.5173, -5.8017, -5.1797, -5.7737, -5.7276, -5.9158, -5.6268, -5.9244, -5.9843, -5.965, -10.1975, -10.1975, -10.1978, -10.1978, -10.198, -10.1985, -10.199, -10.1993, -10.2245, -10.2456, -8.3922, -10.3421, -10.3771, -10.3879, -10.3757, -10.4071, -10.3918, -9.8766, -10.13, -10.113, -10.435, -10.4655, -10.8428, -10.8431, -10.8431, -10.8431, -10.8432, -9.3613, -10.8432, -10.8433, -10.1465, -9.8089, -10.4483, -10.4434, -9.6461, -10.4408, -10.1754, -9.5157, -8.8796, -9.0078, -6.4331, -8.5365, -9.7275, -4.1205, -6.5965, -9.5936, -7.5456, -4.7176, -6.8497, -6.7491, -4.9958, -6.4191, -4.5217, -6.7694, -5.6225, -6.3698, -5.5917, -5.1077, -6.084, -5.5753, -5.4941, -6.1542, -5.8486, -6.7641, -5.3049, -5.0382, -6.0804, -6.2032, -5.852, -6.5001, -6.5132, -5.3304, -6.1802, -5.1062, -5.879, -5.4028, -5.8035, -5.5947, -5.4438, -5.6944, -5.7766, -5.8204, -5.6086, -5.8587, -5.9582, -6.0172, -5.9889, -6.014, -6.0557, -9.9113, -9.9604, -10.2551, -10.2553, -10.2554, -10.2568, -10.2571, -10.2569, -10.2584, -9.9931, -10.2734, -10.3198, -10.3499, -10.3997, -10.3816, -10.3712, -10.4169, -10.4397, -10.4382, -10.4547, -10.1699, -10.5208, -9.9773, -9.9812, -10.4993, -10.5106, -10.9013, -10.9014, -10.9013, -10.9015, -10.4946, -9.3454, -9.5571, -10.2572, -9.2718, -9.6522, -10.2462, -9.8055, -5.4662, -5.846, -5.9526, -5.4274, -6.5733, -5.8293, -6.1912, -6.28, -4.8868, -6.8563, -5.5878, -5.067, -5.9375, -5.6597, -6.2548, -5.4065, -6.6976, -5.7544, -6.4972, -5.6471, -5.1832, -5.7619, -7.7272, -5.6111, -5.6262, -5.5524, -5.4864, -5.0427, -6.2129, -6.1041, -5.9927, -5.2426, -5.3544, -5.356, -5.5118, -5.8503, -5.8808, -5.7665, -5.3668, -5.3646, -5.4417, -5.7067, -5.852, -9.9202, -9.9212, -9.9223, -9.9398, -9.9399, -9.9601, -9.9638, -10.016, -10.033, -9.7576, -10.0496, -10.0905, -10.0739, -10.0831, -10.097, -10.1156, -10.5664, -10.5667, -10.5667, -10.5668, -10.5668, -10.5669, -10.567, -10.5671, -10.5671, -10.5672, -10.5672, -10.5672, -10.5672, -10.5673, -9.8674, -10.1667, -9.2484, -9.5188, -10.1782, -10.2057, -9.9454, -9.4716, -8.6572, -9.1663, -10.2302, -5.9614, -8.659, -10.2114, -6.1933, -5.2287, -5.3146, -7.3009, -6.908, -4.8512, -5.4256, -5.0498, -5.2002, -5.615, -6.2722, -6.0291, -6.6786, -5.8012, -5.8803, -6.395, -6.165, -5.3878, -5.6393, -6.1016, -5.3031, -4.9933, -5.8968, -5.752, -5.5563, -5.2777, -5.9503, -5.7303, -5.9296, -5.1815, -6.01, -6.0185, -5.5158, -5.5273, -5.5366, -5.3645, -5.9132, -5.9006, -9.3458, -9.7356, -9.7356, -9.0376, -9.7685, -9.7684, -9.792, -9.3318, -9.3705, -9.9364, -9.6534, -9.2702, -10.3802, -10.3802, -10.3808, -10.3808, -10.381, -10.381, -10.3811, -10.381, -10.3812, -10.3812, -10.3812, -10.3812, -10.3812, -10.3812, -10.3812, -10.3813, -10.3813, -10.3813, -9.7029, -8.5989, -9.7372, -9.5394, -9.7796, -8.4543, -9.3064, -5.701, -9.486, -9.8208, -9.7913, -9.7981, -9.7999, -9.5248, -6.2459, -9.6719, -8.4846, -4.9822, -5.2846, -5.8775, -6.0716, -6.4133, -8.2255, -7.8849, -4.7861, -5.5961, -5.1685, -5.1229, -6.5702, -5.7958, -6.079, -5.9785, -5.4008, -5.299, -5.1207, -6.1664, -5.7069, -5.3349, -6.0831, -6.1506, -5.9399, -5.1643, -5.7609, -5.4497, -5.6786, -5.5477, -5.5611, -5.8542, -5.8478, -5.5305, -5.8991, -5.9686, -6.0331, -6.0593, -6.0617, -9.151, -9.5157, -9.5161, -9.5172, -9.1259, -9.6532, -9.6602, -9.7362, -9.6995, -9.7452, -9.7521, -10.1613, -10.1615, -10.1615, -10.1618, -10.1618, -10.1618, -10.1619, -10.162, -10.162, -10.162, -10.162, -10.162, -10.1621, -10.1621, -10.1622, -10.1623, -10.1623, -10.1623, -10.1623, -9.4947, -9.7993, -9.1531, -9.5161, -9.82, -8.0986, -9.3917, -9.33, -8.8591, -9.4807, -9.4557, -9.6427, -7.369, -9.6433, -4.9479, -5.9805, -5.7844, -6.2811, -5.614, -4.7775, -5.9642, -5.8913, -5.126, -6.5304, -5.1224, -5.9965, -5.4508, -5.2186, -5.3427, -5.7693, -5.675, -6.0934, -5.7482, -5.3473, -6.2249, -5.8391, -6.2338, -5.484, -6.1733, -5.555, -5.2174, -5.3308, -5.7287, -5.9101, -5.983, -6.1303, -6.0116, -5.6061, -5.8341, -5.9498, -5.9364, -5.9987, -5.9722], \"loglift\": [30.0, 29.0, 28.0, 27.0, 26.0, 25.0, 24.0, 23.0, 22.0, 21.0, 20.0, 19.0, 18.0, 17.0, 16.0, 15.0, 14.0, 13.0, 12.0, 11.0, 10.0, 9.0, 8.0, 7.0, 6.0, 5.0, 4.0, 3.0, 2.0, 1.0, 1.6831, 1.6828, 1.6707, 1.6167, 1.6127, 1.6085, 1.6075, 1.5894, 1.5893, 1.5891, 1.5771, 1.5767, 1.5635, 1.5363, 1.5362, 1.5175, 1.5147, 1.4864, 1.4838, 1.4694, 1.4689, 1.4604, 1.4553, 1.451, 1.448, 1.4365, 1.4266, 1.4206, 1.4166, 1.4071, 1.3921, 1.386, 1.3531, 1.094, 1.3662, 0.6315, 0.6433, 0.3204, 0.4776, 0.3489, 0.5065, 0.3275, 0.4257, 0.277, 0.2134, 0.1547, 0.4545, 0.2018, 0.763, 0.3513, 0.3415, 0.5422, 0.1423, 0.6094, 0.0471, 0.3092, 0.4479, 0.1796, 0.2943, 0.3139, 0.1857, 0.0128, 0.5764, 0.3459, 0.2514, 0.1427, 0.1552, 0.1977, -0.1638, 0.0141, -0.2765, -0.1035, 0.0802, -0.0262, -0.0464, -0.0739, -0.4149, 1.7176, 1.7072, 1.7029, 1.6298, 1.6297, 1.6296, 1.6295, 1.6294, 1.6293, 1.6292, 1.6292, 1.6263, 1.6193, 1.6018, 1.588, 1.5762, 1.5742, 1.5696, 1.5546, 1.5527, 1.5296, 1.5286, 1.5207, 1.5167, 1.5085, 1.4828, 1.4766, 1.4666, 1.4635, 1.4594, 1.3652, 1.3973, 0.9588, 1.2863, 1.2032, 1.2786, 0.4678, 0.7358, 0.282, 0.6364, 0.4832, 0.4934, 0.4771, 0.6408, 0.557, 0.8202, 0.5031, 0.2768, 0.5622, 0.5818, 0.1779, 0.3443, 0.3409, 0.3047, 0.4019, 0.2615, 0.2901, 0.1036, 0.5522, 0.4188, 0.4531, 0.2432, -0.1011, 0.0304, -0.0838, 0.1681, 0.2097, -0.07, -0.0804, -0.0662, -0.0287, 0.0604, 0.1192, -0.0164, 0.01, -0.0624, -0.3825, -0.6273, 1.7184, 1.6204, 1.6204, 1.6203, 1.6203, 1.6202, 1.6202, 1.6201, 1.6182, 1.6166, 1.614, 1.61, 1.5831, 1.5805, 1.5755, 1.5461, 1.5365, 1.5318, 1.5125, 1.5083, 1.4902, 1.4883, 1.4861, 1.4774, 1.4635, 1.4612, 1.4566, 1.4502, 1.4459, 1.4459, 1.4454, 1.4277, 1.4018, 1.3075, 1.0064, 0.916, 0.2335, 0.5369, 0.4273, 0.4701, 0.3483, 0.3763, 0.4799, 0.5057, 0.5249, 0.2181, 0.3503, 0.3558, 0.2948, 0.1538, 0.0501, 0.2829, 0.9556, 0.0938, 0.5036, 0.2974, 1.0983, 0.1465, -0.0016, 0.2947, 0.4574, 0.4813, 0.4388, 0.0766, 0.0192, 0.0453, 0.1695, -0.06, 0.2579, -0.033, 0.2027, 0.2075, 0.1909, 0.1545, -0.1038, -0.001, -0.147, -0.0041, 1.8189, 1.8189, 1.8189, 1.8189, 1.8137, 1.8125, 1.7922, 1.7919, 1.7828, 1.7777, 1.7429, 1.7212, 1.7021, 1.6912, 1.6885, 1.6855, 1.6471, 1.635, 1.6178, 1.6171, 1.6132, 1.5959, 1.5959, 1.5958, 1.5958, 1.5958, 1.5958, 1.5958, 1.5958, 1.5957, 1.5957, 1.5921, 1.5816, 1.5771, 1.5609, 1.5788, 1.5772, 1.5218, 1.5194, 1.5206, 1.4835, 1.4273, 1.4997, 0.693, 0.6974, 0.8325, 0.5588, 0.8385, 0.4962, 0.7193, 0.3917, 0.5419, 0.3345, 0.4857, 0.5979, 0.3132, 0.2278, 0.3648, 0.3436, 0.0718, 0.3985, 0.4251, 0.4646, 0.3778, 0.5843, 0.5642, 0.2767, -0.0105, 0.5923, 0.3385, -0.0353, 0.2512, -0.0289, 0.1764, -0.0632, -0.1233, 0.0956, -0.3028, -0.3588, -0.2289, -0.2006, 0.1315, -0.202, -0.0827, -0.4074, -0.2303, -0.0087, 0.0479, 1.9651, 1.9574, 1.8746, 1.866, 1.8659, 1.8659, 1.8658, 1.8657, 1.8656, 1.8654, 1.8654, 1.865, 1.8243, 1.8037, 1.797, 1.7774, 1.7729, 1.7445, 1.7424, 1.7409, 1.7407, 1.7069, 1.6885, 1.6834, 1.6752, 1.6498, 1.6438, 1.6401, 1.6303, 1.6303, 1.6206, 1.6233, 1.5925, 1.5676, 1.5315, 0.925, 0.5774, 0.6326, 0.4301, 1.0314, 0.653, 0.4334, 0.2313, 0.4667, 0.1373, 0.5923, 0.4299, 0.2729, 0.3967, 0.144, 0.2861, 0.0885, 0.4911, 0.5452, -0.056, 0.3708, 0.0671, 0.3616, 0.429, 0.9656, 0.3789, 0.3451, 0.467, -0.1432, 0.0625, 0.0107, -0.0732, 0.1828, 0.0695, -0.0796, 0.0908, -0.3516, 0.025, -0.0267, 0.0802, -0.4856, -0.0148, 0.1246, 0.0184, 1.9346, 1.9346, 1.9345, 1.9345, 1.9345, 1.9343, 1.9342, 1.9331, 1.9134, 1.8917, 1.8251, 1.8071, 1.7925, 1.7751, 1.773, 1.7535, 1.7516, 1.7498, 1.7475, 1.7344, 1.7214, 1.7186, 1.7174, 1.7173, 1.7173, 1.7173, 1.7172, 1.7172, 1.7172, 1.7172, 1.7159, 1.6876, 1.7053, 1.7016, 1.6612, 1.6997, 1.6802, 1.627, 1.5144, 1.5188, 1.1596, 1.4285, 1.6123, 0.6906, 1.0244, 1.5888, 1.1229, 0.4237, 0.9247, 0.8867, 0.4393, 0.7868, 0.2466, 0.8081, 0.4457, 0.6605, 0.3917, 0.219, 0.513, 0.225, 0.1915, 0.4244, 0.3015, 0.6079, 0.0172, -0.0944, 0.3149, 0.3545, 0.1791, 0.4417, 0.4472, -0.1134, 0.282, -0.2781, 0.1202, -0.1873, -0.0048, -0.1569, -0.2743, -0.0991, -0.0343, 0.0, -0.3627, -0.0453, 0.0959, 0.0911, -0.0023, 0.0408, -0.0405, 2.0246, 1.9794, 1.9734, 1.9733, 1.9733, 1.9729, 1.9728, 1.9721, 1.9706, 1.9685, 1.9549, 1.9074, 1.8835, 1.8618, 1.8588, 1.8453, 1.8109, 1.7974, 1.784, 1.771, 1.7689, 1.7447, 1.7444, 1.7399, 1.7361, 1.7326, 1.7326, 1.7325, 1.7325, 1.7324, 1.7304, 1.6634, 1.6669, 1.6981, 1.5783, 1.5874, 1.6879, 1.5877, 0.5649, 0.6454, 0.6057, 0.4651, 0.7668, 0.5469, 0.6451, 0.6618, 0.2544, 0.8161, 0.4274, 0.2551, 0.5248, 0.3952, 0.5804, 0.2791, 0.6981, 0.3039, 0.5765, 0.2576, 0.0627, 0.2859, 1.027, 0.1876, 0.1873, 0.1485, 0.109, -0.0988, 0.3994, 0.3388, 0.2819, -0.0731, -0.0277, -0.139, -0.0767, 0.1363, 0.1152, -0.0243, -0.5387, -0.5963, -0.6306, -0.269, -0.0794, 2.3989, 2.3986, 2.3982, 2.3772, 2.3757, 2.3547, 2.3494, 2.2843, 2.2624, 2.2579, 2.2482, 2.2184, 2.2129, 2.2057, 2.1953, 2.164, 2.1346, 2.1345, 2.1345, 2.1345, 2.1345, 2.1344, 2.1344, 2.1343, 2.1343, 2.1343, 2.1343, 2.1342, 2.1342, 2.1342, 2.1262, 2.1125, 2.0421, 2.0534, 2.0891, 2.0893, 2.0421, 1.9537, 1.8038, 1.8874, 2.0738, 1.2601, 1.7493, 2.0629, 1.2215, 0.5136, 0.4841, 1.1427, 0.932, 0.0927, 0.2753, 0.1196, 0.1265, 0.2946, 0.563, 0.4332, 0.719, 0.3077, 0.336, 0.5631, 0.4314, 0.0474, 0.1611, 0.3898, -0.0573, -0.225, 0.2374, 0.1526, 0.039, -0.1364, 0.2335, 0.0902, 0.1921, -0.3534, 0.2187, 0.2192, -0.1936, -0.3118, -0.3195, -0.5535, 0.0702, -0.4629, 2.7562, 2.6351, 2.6344, 2.6183, 2.5965, 2.5941, 2.5671, 2.5171, 2.4645, 2.3986, 2.384, 2.3803, 2.3576, 2.3576, 2.3573, 2.3573, 2.3572, 2.3572, 2.3572, 2.3572, 2.3571, 2.3571, 2.3571, 2.3571, 2.3571, 2.3571, 2.3571, 2.3571, 2.3571, 2.3571, 2.3221, 2.2402, 2.2893, 2.2526, 2.2636, 1.9888, 2.1379, 1.1341, 2.1295, 2.2141, 2.2022, 2.201, 2.1906, 2.092, 0.9683, 2.1187, 1.6988, 0.4556, 0.5358, 0.6808, 0.6778, 0.8006, 1.5496, 1.3971, 0.025, 0.2964, 0.0486, 0.0183, 0.6928, 0.2725, 0.4175, 0.3568, 0.0344, -0.0531, -0.1769, 0.4025, 0.0917, -0.1655, 0.3123, 0.3204, 0.1684, -0.3961, 0.0118, -0.2342, -0.0833, -0.2256, -0.2343, -0.0408, -0.1623, -0.7024, -0.1982, -0.2264, 0.0253, -0.0083, -0.0076, 3.072, 2.9721, 2.9719, 2.9709, 2.8009, 2.7929, 2.7806, 2.7261, 2.7242, 2.6734, 2.6732, 2.6602, 2.6601, 2.6601, 2.66, 2.66, 2.66, 2.6599, 2.6599, 2.6599, 2.6599, 2.6598, 2.6598, 2.6598, 2.6598, 2.6597, 2.6597, 2.6597, 2.6597, 2.6596, 2.6475, 2.6422, 2.5313, 2.5691, 2.6129, 2.3033, 2.4847, 2.3665, 2.1805, 2.4019, 2.3891, 2.4615, 1.5551, 2.439, 0.298, 0.77, 0.587, 0.8237, 0.4556, 0.0335, 0.5627, 0.5201, 0.0434, 0.812, 0.0189, 0.4748, 0.1445, -0.0031, -0.016, 0.2141, 0.1454, 0.4031, 0.1615, -0.1302, 0.4253, 0.1569, 0.4261, -0.1619, 0.3796, -0.1199, -0.4491, -0.3869, -0.0279, 0.0989, 0.1671, 0.3016, 0.0432, -0.778, -0.3963, -0.1494, -0.2508, -0.0121, -0.2299]}, \"token.table\": {\"Topic\": [4, 10, 7, 1, 4, 3, 7, 5, 5, 8, 7, 2, 10, 6, 2, 1, 2, 3, 4, 5, 6, 7, 8, 9, 10, 1, 2, 3, 4, 5, 6, 7, 8, 9, 10, 1, 2, 3, 4, 5, 6, 7, 8, 9, 10, 4, 7, 8, 10, 4, 1, 2, 3, 4, 5, 6, 7, 8, 9, 10, 5, 4, 7, 9, 4, 6, 1, 2, 3, 4, 5, 6, 7, 8, 9, 10, 1, 2, 3, 4, 5, 6, 7, 8, 9, 10, 1, 2, 3, 4, 5, 6, 7, 8, 9, 10, 4, 7, 1, 2, 3, 4, 5, 6, 7, 8, 9, 10, 3, 1, 7, 10, 2, 9, 1, 2, 3, 4, 5, 6, 7, 8, 9, 10, 1, 10, 3, 5, 6, 3, 1, 2, 3, 4, 5, 6, 7, 8, 9, 10, 8, 6, 4, 5, 2, 5, 1, 2, 3, 4, 5, 6, 7, 8, 9, 10, 7, 2, 8, 10, 5, 8, 6, 8, 1, 2, 3, 4, 5, 6, 7, 8, 9, 10, 6, 1, 2, 3, 4, 5, 6, 7, 8, 9, 10, 1, 2, 3, 4, 5, 6, 7, 8, 9, 10, 5, 1, 1, 7, 9, 7, 9, 1, 7, 2, 4, 1, 2, 3, 4, 5, 6, 7, 8, 9, 10, 7, 5, 9, 1, 2, 3, 4, 5, 6, 7, 8, 9, 10, 8, 3, 5, 8, 1, 3, 4, 5, 9, 10, 1, 2, 3, 4, 5, 6, 7, 8, 9, 10, 1, 2, 3, 4, 5, 6, 7, 8, 9, 10, 4, 7, 9, 5, 1, 2, 3, 4, 5, 6, 7, 8, 9, 10, 1, 2, 3, 4, 5, 6, 7, 8, 9, 10, 1, 2, 3, 4, 5, 6, 7, 8, 9, 10, 5, 6, 7, 8, 9, 1, 2, 3, 4, 5, 6, 7, 8, 9, 10, 5, 3, 4, 6, 8, 1, 2, 3, 4, 5, 6, 7, 8, 9, 10, 1, 4, 5, 9, 10, 1, 2, 3, 4, 5, 6, 7, 8, 9, 10, 1, 2, 3, 4, 5, 6, 7, 8, 9, 10, 10, 1, 2, 3, 4, 5, 6, 7, 8, 9, 10, 6, 4, 1, 1, 5, 8, 1, 2, 3, 4, 5, 6, 7, 8, 9, 10, 1, 2, 3, 4, 5, 6, 7, 8, 9, 10, 2, 9, 1, 9, 1, 2, 3, 4, 5, 6, 7, 8, 9, 10, 1, 2, 3, 4, 5, 6, 7, 8, 9, 10, 3, 6, 7, 1, 2, 3, 4, 5, 6, 7, 8, 9, 10, 1, 2, 3, 4, 5, 6, 7, 8, 9, 10, 2, 8, 6, 1, 10, 9, 1, 1, 2, 3, 4, 5, 6, 7, 8, 9, 10, 1, 2, 3, 4, 5, 6, 7, 8, 9, 10, 4, 3, 4, 9, 5, 9, 1, 2, 3, 4, 5, 6, 7, 8, 9, 10, 1, 2, 3, 4, 5, 6, 7, 8, 9, 10, 1, 2, 3, 4, 5, 6, 7, 8, 5, 7, 1, 2, 3, 4, 5, 6, 7, 8, 9, 10, 7, 8, 10, 1, 2, 3, 4, 5, 6, 7, 8, 9, 10, 9, 1, 2, 3, 4, 5, 6, 7, 8, 9, 10, 5, 7, 8, 7, 2, 3, 3, 10, 2, 1, 2, 3, 1, 2, 3, 4, 5, 6, 7, 8, 9, 10, 6, 7, 8, 8, 1, 2, 3, 4, 5, 6, 7, 8, 10, 1, 2, 3, 4, 5, 6, 7, 8, 9, 10, 2, 1, 2, 3, 4, 5, 6, 7, 8, 9, 10, 1, 2, 3, 4, 5, 6, 7, 8, 9, 10, 3, 5, 1, 4, 8, 5, 6, 2, 5, 2, 4, 7, 8, 3, 9, 2, 3, 5, 6, 7, 8, 9, 10, 1, 2, 3, 4, 5, 6, 7, 8, 9, 10, 1, 2, 3, 4, 5, 6, 7, 8, 9, 10, 1, 2, 3, 4, 5, 6, 7, 8, 9, 10, 1, 2, 3, 4, 5, 6, 7, 8, 9, 10, 2, 1, 2, 3, 4, 5, 6, 7, 8, 9, 10, 7, 6, 1, 2, 3, 4, 6, 7, 8, 10, 2, 2, 6, 6, 1, 2, 3, 4, 5, 6, 7, 8, 9, 10, 1, 2, 3, 4, 5, 6, 7, 8, 9, 10, 4, 1, 2, 3, 4, 5, 6, 7, 8, 9, 10, 1, 2, 3, 4, 5, 6, 7, 8, 9, 10, 1, 1, 2, 3, 4, 5, 6, 7, 8, 9, 10, 1, 5, 5, 3, 1, 2, 3, 4, 5, 6, 7, 8, 9, 10, 10, 6, 3, 7, 1, 2, 3, 4, 5, 6, 7, 8, 9, 10, 6, 7, 8, 1, 2, 3, 4, 5, 6, 7, 8, 9, 10, 1, 2, 3, 4, 5, 6, 7, 8, 9, 10, 8, 10, 2, 3, 4, 7, 9, 3, 6, 6, 4, 7, 9, 1, 2, 3, 4, 5, 6, 7, 8, 9, 10, 2, 2, 1, 2, 3, 4, 9, 5, 1, 2, 3, 4, 5, 6, 7, 8, 9, 10, 10, 9, 1, 1, 2, 3, 4, 5, 6, 7, 8, 9, 10, 1, 2, 3, 4, 5, 6, 7, 8, 9, 10, 1, 2, 3, 4, 5, 6, 7, 8, 9, 10, 1, 2, 3, 4, 5, 6, 7, 8, 9, 10, 1, 1, 2, 3, 4, 5, 6, 7, 8, 9, 10, 4, 5, 8, 6, 4, 1, 2, 3, 4, 5, 6, 7, 8, 9, 10, 7, 1, 6, 10, 6, 2, 9, 1, 2, 3, 4, 5, 6, 7, 8, 9, 10, 1, 2, 3, 4, 5, 6, 7, 8, 9, 10, 3, 4, 10, 1, 2, 3, 4, 5, 6, 7, 8, 9, 10, 2, 9, 2, 1, 2, 3, 4, 5, 6, 7, 8, 9, 10, 1, 2, 3, 4, 5, 6, 7, 8, 9, 10, 6, 8, 2, 8, 1, 3, 1, 2, 3, 4, 5, 6, 7, 8, 9, 10, 3, 2, 3, 4, 5, 1, 2, 3, 4, 5, 6, 7, 8, 9, 10, 1, 8, 9, 1, 3, 5, 4, 7, 10, 1, 2, 3, 4, 5, 6, 7, 8, 9, 10, 1, 2, 3, 4, 5, 6, 7, 8, 9, 10, 6, 4, 4, 5, 5, 1, 2, 3, 4, 5, 6, 7, 8, 9, 10, 2, 8, 5, 9, 9, 6, 8, 10, 8, 8, 10, 2, 2, 7, 9, 2, 5, 1, 2, 3, 7, 3, 2, 6, 3, 5, 7, 1, 2, 3, 4, 5, 6, 7, 8, 9, 10, 2, 2, 6, 7, 5, 3, 6, 1, 2, 3, 4, 5, 6, 7, 8, 9, 10, 1, 2, 3, 4, 5, 6, 7, 8, 9, 10, 2, 1, 2, 5, 7, 8, 1, 2, 3, 4, 5, 6, 7, 8, 9, 10, 1, 2, 3, 4, 5, 6, 7, 8, 9, 10, 1, 2, 3, 4, 5, 6, 7, 8, 9, 10, 1, 2, 3, 4, 5, 6, 7, 8, 9, 10, 3, 5, 6, 9, 1, 2, 3, 4, 5, 6, 7, 8, 9, 10, 1, 2, 3, 4, 5, 6, 7, 8, 9, 10, 1, 2, 3, 4, 5, 6, 7, 8, 9, 10, 10, 6, 10, 2, 1, 2, 3, 4, 5, 6, 7, 8, 9, 10, 1, 4, 9, 1, 2, 8, 2, 8, 4, 1, 2, 3, 4, 5, 6, 7, 8, 9, 10, 6, 9, 3, 7, 1, 2, 3, 4, 5, 6, 7, 8, 9, 10, 2, 9, 1, 2, 3, 4, 5, 6, 7, 8, 9, 10, 5, 3, 3, 7, 7, 10, 1, 3, 4, 5, 6, 7, 8, 9, 4, 4, 8, 1, 2, 3, 4, 5, 6, 1, 2, 3, 4, 5, 6, 7, 8, 9, 10, 1, 2, 3, 4, 5, 6, 7, 8, 9, 10, 5, 5, 1, 2, 3, 4, 5, 6, 7, 8, 9, 10, 5, 2, 5, 1, 2, 3, 4, 5, 6, 7, 8, 9, 10, 4, 1, 3, 8, 2, 1, 2, 3, 4, 5, 6, 7, 8, 9, 10, 1, 2, 3, 4, 5, 6, 7, 8, 9, 10, 7, 7, 9, 8, 1, 2, 3, 4, 5, 6, 7, 8, 9, 10, 1, 2, 3, 4, 5, 6, 7, 8, 9, 10, 1, 2, 3, 4, 5, 6, 7, 8, 9, 10, 1, 2, 3, 4, 5, 6, 7, 8, 9, 10, 1, 2, 3, 4, 5, 6, 7, 8, 9, 10, 4, 1, 2, 3, 4, 5, 6, 7, 8, 9, 10, 6, 6, 5, 7, 4, 3, 7, 7, 2, 10, 1, 4, 1, 2, 3, 4, 5, 6, 7, 8, 9, 10, 1, 2, 3, 4, 5, 6, 7, 8, 9, 10, 8, 2, 1, 2, 3, 4, 5, 6, 7, 8, 9, 10, 1, 2, 3, 4, 5, 6, 7, 8, 9, 10, 8, 1, 2, 3, 4, 5, 6, 7, 8, 9, 10, 8, 1, 2, 3, 4, 5, 6, 7, 8, 9, 10, 3, 1, 2, 3, 4, 5, 6, 7, 8, 9, 10, 1, 2, 3, 4, 5, 6, 7, 8, 9, 10, 3, 7, 1, 7, 1, 2, 3, 4, 5, 6, 7, 8, 9, 10, 5, 7, 9, 1, 2, 3, 4, 5, 6, 7, 8, 9, 10, 1, 2, 3, 4, 5, 6, 7, 8, 9, 10, 7, 7, 4, 4, 6, 1, 2, 3, 4, 5, 6, 7, 8, 9, 10, 1, 2, 3, 4, 5, 6, 7, 8, 9, 10, 9, 3, 4, 8, 8, 1, 2, 3, 5, 6, 10, 6, 10, 1, 2, 3, 4, 5, 6, 7, 9, 3, 1, 2, 3, 4, 5, 6, 7, 8, 9, 10, 1, 2, 3, 4, 5, 6, 7, 8, 9, 10, 10, 10, 6, 4, 5, 9, 1, 2, 3, 7, 4, 1, 4, 2, 3, 4, 6, 8, 5, 7, 10, 7, 8, 10, 1, 2, 3, 4, 5, 6, 7, 8, 9, 10, 5, 6, 7, 4, 7, 1, 2, 3, 4, 5, 6, 7, 8, 9, 10, 9, 1, 2, 3, 4, 5, 6, 7, 8, 9, 10, 9, 1, 3, 4, 1, 2, 3, 4, 5, 6, 7, 8, 9, 10, 1, 1, 1, 2, 3, 4, 5, 6, 7, 8, 9, 10, 1, 2, 4, 8, 2, 3, 6, 1, 2, 3, 4, 5, 6, 7, 8, 9, 10, 1, 2, 3, 4, 5, 6, 7, 8, 9, 10, 1, 5, 6, 10, 1, 2, 3, 4, 5, 6, 7, 8, 9, 10, 9, 1, 2, 3, 4, 5, 6, 7, 8, 9, 10, 1, 2, 3, 4, 5, 6, 7, 8, 9, 10, 6, 7, 5, 1, 2, 3, 4, 5, 6, 7, 8, 9, 10, 10, 10, 10, 1, 2, 3, 4, 5, 6, 7, 8, 9, 10, 8, 3, 2, 3, 9, 2, 3, 4, 6, 8, 1, 2, 3, 4, 5, 6, 7, 8, 9, 10, 1, 5, 5, 1, 2, 3, 4, 5, 6, 7, 8, 9, 10, 1, 2, 5, 6, 7, 8, 3, 1, 2, 3, 4, 7, 8, 9, 6, 5, 1, 2, 10, 8, 6, 4, 7, 5, 1, 6, 3, 4, 4, 1, 1, 2, 3, 4, 5, 6, 7, 8, 9, 10, 1, 2, 3, 4, 5, 6, 7, 8, 9, 10, 5, 9, 1, 2, 3, 4, 5, 6, 7, 8, 9, 10, 4, 1, 2, 3, 4, 5, 6, 7, 8, 9, 10, 10, 9, 1, 2, 3, 4, 5, 6, 7, 8, 9, 10, 1, 1, 2, 3, 4, 5, 6, 7, 8, 9, 10, 2, 7, 10, 1, 2, 3, 4, 5, 6, 7, 2, 1, 2, 3, 1, 5, 9, 2, 1, 2, 3, 4, 5, 6, 7, 8, 9, 10, 1, 2, 3, 4, 5, 6, 7, 8, 9, 10, 8, 1, 1, 2, 3, 4, 5, 6, 7, 8, 9, 10, 9, 7, 1, 5, 6, 3, 1, 2, 3, 4, 5, 6, 9, 10, 10, 3, 4, 1, 2, 3, 4, 5, 6, 7, 8, 9, 10, 1, 6, 4, 1, 2, 3, 4, 5, 6, 7, 8, 9, 10, 1, 2, 3, 4, 5, 6, 7, 8, 9, 10, 4, 1, 2, 3, 4, 5, 6, 7, 8, 9, 10, 1, 2, 3, 4, 5, 6, 7, 8, 9, 10, 1, 4, 6, 8, 1, 2, 3, 4, 5, 6, 7, 8, 9, 10, 7, 1, 4, 1, 2, 3, 4, 5, 6, 7, 8, 9, 10, 10, 1, 2, 3, 4, 5, 6, 7, 8, 9, 10, 8, 8, 1, 2, 3, 4, 5, 6, 7, 8, 9, 10, 10, 4, 1, 2, 3, 4, 5, 6, 7, 8, 9, 10, 2, 3, 4, 8, 1, 2, 5, 1, 3, 8, 9, 6, 8, 1, 2, 3, 4, 5, 6, 7, 8, 9, 10, 5, 1, 2, 3, 4, 5, 6, 7, 8, 9, 10, 1, 2, 3, 4, 5, 6, 7, 8, 9, 10, 1, 2, 3, 4, 5, 6, 7, 8, 9, 10, 1, 2, 4, 5, 7, 9, 10, 1, 2, 3, 4, 5, 6, 7, 8, 9, 10, 10, 3, 4, 8, 9, 1, 2, 3, 4, 5, 6, 7, 8, 9, 10, 1, 2, 3, 4, 5, 6, 7, 8, 9, 10, 10, 1, 2, 3, 4, 5, 6, 7, 8, 9, 10, 6, 9, 1, 5, 7, 4, 10, 1, 3, 4, 5, 6, 7, 3, 4, 7, 6, 6, 1, 2, 3, 4, 5, 6, 7, 8, 9, 10, 1, 6, 1, 2, 3, 4, 5, 6, 7, 8, 9, 10, 9, 7, 1, 2, 3, 4, 5, 6, 7, 8, 9, 10, 8, 6, 3, 8], \"Freq\": [0.2687477685553364, 0.5374955371106728, 0.7247710544154106, 0.6813573268481777, 0.7569756113262446, 0.7139318090253446, 0.5451037531821994, 0.7210258950212434, 0.7112343540267966, 0.7962730013511145, 0.72425469033446, 0.3139568258229249, 0.3139568258229249, 0.6710556610606511, 0.6490511735090455, 0.13294668545082294, 0.19081196940603723, 0.1214692737572267, 0.09325397001046933, 0.11668701888489495, 0.0956450974466352, 0.10855718560193095, 0.06312576431477923, 0.04256206836375266, 0.035388686055255025, 0.20756150561779685, 0.13017794777422798, 0.19960618658714957, 0.10848162314518998, 0.09907988247260685, 0.09618703918873513, 0.05351760075162706, 0.04556228172097979, 0.02675880037581353, 0.03399090858549286, 0.13179399342997616, 0.23343903411453293, 0.18175511512238543, 0.07149608793913739, 0.0887240609365199, 0.08613986498691252, 0.08786266228665077, 0.07666447983835215, 0.02153496624672813, 0.01981216894698988, 0.21347089937716113, 0.21347089937716113, 0.21347089937716113, 0.42694179875432225, 0.6819686643753402, 0.15903605512238564, 0.11897353741979995, 0.14810991393077136, 0.11654550604388567, 0.10440534916431424, 0.11290345898001423, 0.10076330210044282, 0.037634486326671414, 0.04734661183032855, 0.05341669027011426, 0.7130268552277513, 0.2345227589734213, 0.2345227589734213, 0.4690455179468426, 0.6088276672092567, 0.20294255573641892, 0.12283657024062053, 0.16875678341468428, 0.17908883137884862, 0.08724840503072112, 0.09413643700683069, 0.1079125009590498, 0.09987646365358865, 0.044772207844712156, 0.06428829844368925, 0.029848138563141436, 0.12683673427484254, 0.11332134455703145, 0.18193793850899545, 0.17466042096863563, 0.12995567036356817, 0.07485446612941526, 0.05925978568578709, 0.07901304758104945, 0.03742723306470763, 0.022872197983988, 0.2620851821501231, 0.11186562652749157, 0.10866946576956324, 0.12145410880127656, 0.1054733050116349, 0.08949250122199326, 0.08629634046406492, 0.06072705440063828, 0.031961607579283305, 0.019176964547569984, 0.5162629350163005, 0.8168632498894485, 0.18863446530039737, 0.12686919790115223, 0.21701310167302354, 0.07678925136122372, 0.06677326205323801, 0.14022385031179982, 0.06176526739924516, 0.07345058825856181, 0.030047967923957107, 0.016693315513309503, 0.706520281488263, 0.6192993324293696, 0.7304184750755935, 0.4711019098832588, 0.28643640129445086, 0.28643640129445086, 0.12518176962498268, 0.1353709834316673, 0.1470157992107355, 0.07823860601561418, 0.1681220278102965, 0.10771454595638044, 0.12554567011807857, 0.04985436755413555, 0.03711785029577975, 0.025836935009807473, 0.6813683487354117, 0.6577626839237857, 0.13290784845414932, 0.5316313938165973, 0.13290784845414932, 0.7055000314112589, 0.1148135639098538, 0.15345274407182383, 0.10929368102957236, 0.19098794765773758, 0.09383800896478435, 0.12143742336619152, 0.09935789184506578, 0.04305508646619517, 0.030911344129576024, 0.0408471333140826, 0.5830811643170632, 0.6601712386396458, 0.21213234789487012, 0.6363970436846104, 0.7531052349867554, 0.5366977572681116, 0.214862427527243, 0.2540981751626526, 0.07847149527081917, 0.05044596124552662, 0.09528681568599472, 0.06165617485564364, 0.07286638846576067, 0.10649702929611174, 0.03923574763540959, 0.028025534025292564, 0.7271826966532691, 0.24761302048906003, 0.24761302048906003, 0.24761302048906003, 0.2855884349844834, 0.5711768699689668, 0.5243474334929489, 0.17478247783098297, 0.084970830843784, 0.13518086725147455, 0.18667834049013152, 0.11651303320246138, 0.11973162527987745, 0.06565927837928763, 0.1551361381314541, 0.05085375482317375, 0.06244068630187157, 0.023173862957395635, 0.6600355972040918, 0.1463669471116094, 0.11258995931662263, 0.03377698779498679, 0.045035983726649055, 0.15762594304327168, 0.022517991863324528, 0.27021590235989434, 0.12384895524828489, 0.06755397558997359, 0.022517991863324528, 0.1702626881225682, 0.1665068935316292, 0.08888713865222311, 0.11142190619785713, 0.10766611160691814, 0.15023178363756018, 0.0826274810006581, 0.045069535091268056, 0.04381760356095506, 0.03255021978813804, 0.7124127992247457, 0.6809261261738966, 0.7612418228489245, 0.24518383997089205, 0.4903676799417841, 0.20385885588494607, 0.40771771176989213, 0.8090614072752051, 0.7271772035646545, 0.6489498414934238, 0.5161876270973906, 0.15931582545069098, 0.10621055030046064, 0.11586605487322979, 0.12310768330280666, 0.11586605487322979, 0.12069380715961438, 0.09896892187088378, 0.01689713300234601, 0.12310768330280666, 0.0193110091455383, 0.7276501324895024, 0.7230805747476764, 0.6050942461496166, 0.1664067712903244, 0.07680312521091896, 0.07253628492142346, 0.27307777852771187, 0.07680312521091896, 0.10240416694789195, 0.15360625042183793, 0.025601041736972988, 0.03413472231596398, 0.02133420144747749, 0.38230687724907525, 0.5451850469886259, 0.13629626174715648, 0.13629626174715648, 0.3509654131437953, 0.05849423552396589, 0.05849423552396589, 0.11698847104793178, 0.05849423552396589, 0.29247117761982944, 0.25424156954961374, 0.12510299454028612, 0.10694288242959943, 0.07264044844274678, 0.20985018439015737, 0.11299625313316165, 0.04842696562849785, 0.03632022422137339, 0.014124531641645207, 0.02219569257972818, 0.43823172666330296, 0.06847370729114109, 0.08216844874936931, 0.09586319020759752, 0.09586319020759752, 0.041084224374684654, 0.06847370729114109, 0.027389482916456435, 0.05477896583291287, 0.041084224374684654, 0.6767133864535572, 0.5450597493138298, 0.6050646774888053, 0.8025931802331281, 0.11745484230029662, 0.10487039491097913, 0.14681855287537077, 0.09018853962344205, 0.1321366975878337, 0.10277298701275954, 0.17408485555222536, 0.05453260535370914, 0.039850750066172065, 0.0356559342697329, 0.0942969254728827, 0.14558121827392417, 0.10256858560208294, 0.11745757383464336, 0.1323465620672038, 0.08933392939536255, 0.1852851868940853, 0.07609927318864218, 0.0314323084909609, 0.02646931241344076, 0.12943398255761193, 0.19309003955315876, 0.12377566638022998, 0.14004332539020306, 0.09406950644897479, 0.10538613880373868, 0.11175174450329335, 0.043144660852537306, 0.02829158088690971, 0.03041344945342794, 0.09057217283788002, 0.18114434567576004, 0.09057217283788002, 0.09057217283788002, 0.45286086418940014, 0.06250176346479441, 0.09375264519719162, 0.09375264519719162, 0.06250176346479441, 0.09375264519719162, 0.21875617212678045, 0.06250176346479441, 0.09375264519719162, 0.21875617212678045, 0.03125088173239721, 0.7123375946470879, 0.14223796952178563, 0.14223796952178563, 0.14223796952178563, 0.42671390856535696, 0.28087390489807, 0.06983891689357417, 0.09109423942640109, 0.11083132463545466, 0.13360488449205493, 0.03340122112301373, 0.12449546054941482, 0.03340122112301373, 0.056174780979614, 0.06528420492225412, 0.518726769232469, 0.6760196641991962, 0.7091633554258379, 0.6051164371520001, 0.6577841088064817, 0.1967737822973231, 0.16634484689052054, 0.23328850478548613, 0.07100084928253926, 0.08114382775147344, 0.06694365789496558, 0.08114382775147344, 0.052743488038457735, 0.030428935406802537, 0.022314552631655195, 0.18231776495459562, 0.20510748557392008, 0.11521469868658474, 0.07849792657767311, 0.10888422073677238, 0.10255374278696004, 0.07976402216763559, 0.03545067651894915, 0.06963525744793583, 0.021523625029361983, 0.6577755909088898, 0.1588861482568175, 0.15358994331492357, 0.12408251578151461, 0.20503879132189304, 0.049179045889014936, 0.11651650872166616, 0.0953316889540905, 0.025724424003484736, 0.046152643065075556, 0.024211222591515046, 0.6852519498275456, 0.6776481519496516, 0.7017117997672575, 0.16276566898441783, 0.32553133796883565, 0.48829700695325345, 0.05385223157910259, 0.0923181112784616, 0.38465879699358996, 0.05385223157910259, 0.1307839909778206, 0.06923858345884619, 0.0461590556392308, 0.06923858345884619, 0.061545407518974395, 0.030772703759487197, 0.08977770906272652, 0.11222213632840813, 0.19077763175829385, 0.04488885453136326, 0.29177755445386117, 0.05611106816420407, 0.0785554954298857, 0.0785554954298857, 0.04488885453136326, 0.011222213632840814, 0.20497093370888889, 0.6149128011266667, 0.3001975784484882, 0.6003951568969764, 0.04758383180012491, 0.3776007297687332, 0.08135300275505228, 0.1611710431939715, 0.11051728676158044, 0.06446841727758859, 0.07060826654212084, 0.01688458547746368, 0.03990902021945961, 0.029164284006528172, 0.11509211739841614, 0.15905091223808895, 0.18942244321822657, 0.07273182418927686, 0.1238838763663507, 0.08711833886407888, 0.10869811087628191, 0.08232283397247821, 0.034367785056471485, 0.027973778534337256, 0.5969231001012597, 0.14923077502531493, 0.14923077502531493, 0.14712518728533533, 0.12548913033160955, 0.15361600437145306, 0.06707177655654993, 0.10168946768251118, 0.1601068214575708, 0.09087143920564829, 0.04110850821207899, 0.043272113907451566, 0.06923538225192251, 0.14122788592566618, 0.11069212680660323, 0.09542424724707174, 0.09160727735718888, 0.09924121713695462, 0.05725454834824305, 0.22138425361320646, 0.09924121713695462, 0.06107151823812592, 0.02290181933929722, 0.6568043146417829, 0.5830488965421274, 0.6714115288818618, 0.2555449896872287, 0.2555449896872287, 0.6047769263992661, 0.6810490586910343, 0.17248147559820887, 0.12309250681458077, 0.13676945201620086, 0.10485657987908732, 0.11549420392479183, 0.08510099236563609, 0.1322104702823275, 0.05622744138443813, 0.0478693082056703, 0.026594060114261277, 0.09239709227352004, 0.13859563841028005, 0.1872256869752906, 0.07780807770401688, 0.04376704370850949, 0.15075315055153268, 0.03647253642375791, 0.2139722136860464, 0.03647253642375791, 0.0267465267107558, 0.5162317063431592, 0.2564457856140527, 0.5128915712281054, 0.6050804009357439, 0.53667710603642, 0.6050988011029995, 0.2080048349372804, 0.12064280426362263, 0.09984232076989459, 0.14282998665693256, 0.13866988995818694, 0.0721083427782572, 0.07072164387867534, 0.06101475158160225, 0.03882756918829234, 0.047147762585783556, 0.27127472321348867, 0.10025370205715885, 0.0589727659159758, 0.15332919138153706, 0.1149968935361528, 0.10320234035295764, 0.10025370205715885, 0.04422957443698185, 0.03538365954958548, 0.01769182977479274, 0.11774242014963092, 0.05887121007481546, 0.17661363022444637, 0.05887121007481546, 0.05887121007481546, 0.05887121007481546, 0.11774242014963092, 0.35322726044889274, 0.2707026595135707, 0.5414053190271414, 0.1738968477867106, 0.14416318987499324, 0.10541933259608881, 0.138757070254681, 0.11352851202655717, 0.10001321297577656, 0.08469587405155853, 0.07568567468437146, 0.0459520167726541, 0.018921418671092864, 0.29369101604902936, 0.5873820320980587, 0.6576300140983813, 0.08707918404073288, 0.17870162985750399, 0.1196392267690069, 0.0863219737447265, 0.16885789600942114, 0.11055270321693043, 0.14462716653721722, 0.0333172530242804, 0.03937493539233139, 0.03180283243226766, 0.6050301609746122, 0.13140671225641085, 0.23465484331501935, 0.096990668570208, 0.16895148718681394, 0.09386193732600774, 0.096990668570208, 0.07978264672710658, 0.03832695774145316, 0.045366603040903744, 0.013297107787851096, 0.7137475242781197, 0.7222288137313465, 0.5830329769768381, 0.7262779194646891, 0.17659849759244742, 0.7063939903697897, 0.7177721560046425, 0.6578521015064618, 0.6624659552436521, 0.6810054612065687, 0.6880104771540151, 0.137602095430803, 0.10925424888623952, 0.0634379509662036, 0.10220558766777245, 0.05286495913850299, 0.07048661218467066, 0.3383357384864192, 0.10220558766777245, 0.07401094279390419, 0.04934062852926946, 0.0422919673108024, 0.2765347258849135, 0.553069451769827, 0.5831864613266508, 0.5829474831341368, 0.15237897722137803, 0.09142738633282681, 0.42666113621985846, 0.09142738633282681, 0.060951590888551205, 0.030475795444275602, 0.030475795444275602, 0.09142738633282681, 0.030475795444275602, 0.05540084852962962, 0.050784111152160485, 0.35087204068765426, 0.09695148492685184, 0.14311885870154317, 0.06463432328456789, 0.15235233345648144, 0.023083686887345675, 0.02770042426481481, 0.03693389901975308, 0.6482609233162544, 0.13512446931811273, 0.065784281115397, 0.22224419295742226, 0.16712763310398154, 0.10312130553224393, 0.08889767718296891, 0.12623470159981584, 0.040892931504165696, 0.02666930315489067, 0.02666930315489067, 0.1409847364951779, 0.11812234679325717, 0.2324342953028609, 0.08255862947915824, 0.12066261231569281, 0.13082367440543535, 0.07366770015063351, 0.048265044926277124, 0.03302345179166329, 0.019051991418267286, 0.6364506922488398, 0.21215023074961326, 0.5180953310129774, 0.38044867735823673, 0.38044867735823673, 0.25199906477784906, 0.5039981295556981, 0.7349813073802658, 0.24499376912675527, 0.18315709689091858, 0.09157854844545929, 0.4578927422272964, 0.09157854844545929, 0.7064416063634202, 0.604943252670202, 0.0377872156973944, 0.0377872156973944, 0.22672329418436638, 0.45344658836873275, 0.0755744313947888, 0.0377872156973944, 0.0755744313947888, 0.0377872156973944, 0.13713977472168157, 0.11604134784142286, 0.14007011178838416, 0.10138966250790989, 0.11193887594803924, 0.10549213440129351, 0.11721348266810391, 0.09845932544120728, 0.0509878649606252, 0.022270561706939744, 0.11695443383288726, 0.13366221009472828, 0.1576796384711248, 0.06369839699826896, 0.10337936562014141, 0.12948526602926805, 0.16812199863477542, 0.05534450886734844, 0.040725204638237526, 0.03028284447458688, 0.18351391292850397, 0.23926497508399883, 0.13821617492716437, 0.08827251507953356, 0.11034064384941694, 0.07781919092537826, 0.07317326907908703, 0.051105140309203635, 0.029037011539320246, 0.01045332415415529, 0.10521373391208362, 0.13843912356853108, 0.22704016265239096, 0.14286917552272407, 0.0863860131067634, 0.06755829230144317, 0.12182642874030736, 0.05537564942741243, 0.0387629545991887, 0.018827720805320226, 0.6502759184156558, 0.14491243222734873, 0.11010106582636552, 0.18862903189369976, 0.11414889912880542, 0.10929149916587753, 0.1020053992214857, 0.09876713257953378, 0.07367056610440634, 0.026715699796103397, 0.03238266641951927, 0.7331103863145918, 0.5064497382433744, 0.12411325240411761, 0.12411325240411761, 0.062056626202058804, 0.12411325240411761, 0.062056626202058804, 0.062056626202058804, 0.3723397572123528, 0.062056626202058804, 0.6480709351920888, 0.7207329525251036, 0.5064573379111904, 0.5064229574943404, 0.16018149317630218, 0.12079260141163771, 0.12341852752928201, 0.21270001552918813, 0.09190741411755043, 0.09190741411755043, 0.07877778352932893, 0.05514444847053026, 0.03676296564702017, 0.02625926117644298, 0.2324896348663216, 0.10253389024873671, 0.11684094470204881, 0.1001493811731847, 0.1001493811731847, 0.13949378091979298, 0.09895712663540869, 0.05007469058659235, 0.03934439974660827, 0.02026832714219214, 0.6729868941377083, 0.1599142575154899, 0.1399249753260537, 0.16990889861020803, 0.08067103169308197, 0.11850788726594343, 0.09566299333515915, 0.10922714910656231, 0.047117593732242564, 0.042834176120220516, 0.03569514676685043, 0.2058107980605823, 0.14543963062947818, 0.112509902939785, 0.07134774332766854, 0.05213873550868085, 0.15641620652604257, 0.09878918306907951, 0.03292972768969317, 0.05213873550868085, 0.06860359935352744, 0.6820592625992428, 0.10698580425836932, 0.21397160851673863, 0.2278401386983791, 0.07330508810295676, 0.10698580425836932, 0.10698580425836932, 0.09113605547935164, 0.033680716155412564, 0.025755841765903724, 0.013868530181640467, 0.6809873127028944, 0.7259272906562791, 0.80918203506617, 0.7090800680195093, 0.2030833893971542, 0.19178935950277076, 0.14012963017105387, 0.08198629108515391, 0.09474436189177224, 0.1353192100308535, 0.05354206764744745, 0.04831335010375141, 0.0311631565604284, 0.01945082926254927, 0.6578550205433505, 0.6607674253499292, 0.707340025260006, 0.1768350063150015, 0.08963533504911249, 0.0971049463032052, 0.17927067009822498, 0.1045745575572979, 0.19794469823345676, 0.11391157162491379, 0.11764637725196014, 0.0485524731516026, 0.028011042202847652, 0.020541430948754946, 0.15762372493842966, 0.472871174815289, 0.15762372493842966, 0.20055046280111716, 0.13831066400077044, 0.15521530071197573, 0.10911174604505225, 0.07914443551155198, 0.09067032417828286, 0.09220710933384697, 0.062239798800346705, 0.02458856248902586, 0.04840873240026966, 0.22090999164725095, 0.08635572400756174, 0.12652117703433463, 0.08836399665890038, 0.10844672317228682, 0.2048438104365418, 0.07832263340220715, 0.02811581711874103, 0.0401654530267729, 0.018074453862047805, 0.5830397457874359, 0.44581562428638133, 0.13518328196279186, 0.13518328196279186, 0.13518328196279186, 0.5407331278511674, 0.13518328196279186, 0.2502737664726311, 0.5005475329452622, 0.6638812965343516, 0.6766045937303727, 0.29944941244406, 0.29944941244406, 0.2090204087142078, 0.13334060555906357, 0.16380909773840735, 0.09337118571089219, 0.10156164059781256, 0.09435404029732264, 0.08485311262849501, 0.04390083819389317, 0.04881511112604539, 0.026864692029098806, 0.648484426499726, 0.6556256417397217, 0.17398352538013678, 0.17398352538013678, 0.6959341015205471, 0.2965011280026936, 0.5930022560053873, 0.7061677109487654, 0.14528355640223736, 0.14528355640223736, 0.11950744155667913, 0.07849998612056373, 0.12185072472445714, 0.06092536236222857, 0.18511937025446373, 0.08904476037556483, 0.021089548510002196, 0.031634322765003296, 0.4497025869686921, 0.5938402764243569, 0.6853293667740181, 0.20466615317769485, 0.09886069674451528, 0.15155916732320318, 0.14747401456516535, 0.10090327312353418, 0.09028187595263586, 0.07434978019628835, 0.03799192064975174, 0.07312423436887701, 0.020425763790189108, 0.1499970464433726, 0.11636134511970724, 0.18363274776703797, 0.07727120574355559, 0.11545227211095951, 0.10454339600598697, 0.10181617697974382, 0.07545305972606016, 0.05454438052486277, 0.02090867920119739, 0.1545503884251627, 0.13075661393597804, 0.14756506013475987, 0.08688002061188525, 0.10347017530159199, 0.21108788927561065, 0.05173508765079599, 0.03492664145201417, 0.04758754897836931, 0.03165226881588784, 0.17645064118878007, 0.14243605975479837, 0.08025315307080057, 0.16422665098594288, 0.1062955669811928, 0.07015507420758725, 0.11267330100006438, 0.0797216752358946, 0.03826640411322941, 0.029762758754733987, 0.7628158980485902, 0.18247975411082165, 0.13312047635953383, 0.13237260851481736, 0.1161688052126269, 0.125641797912369, 0.09622566268685405, 0.0882484056765449, 0.06656023817976692, 0.038889127925257075, 0.02069101037048934, 0.1966454020580097, 0.4916135051450243, 0.09832270102900485, 0.6807425130772258, 0.5162295351193773, 0.07006308479066099, 0.0916209570339413, 0.15359983973337218, 0.07545255285148107, 0.2748628711018239, 0.06197888269943088, 0.15898930779419226, 0.06467361672984091, 0.04850521254738069, 0.005389468060820077, 0.7267682280289711, 0.21090899089221934, 0.21090899089221934, 0.4218179817844387, 0.6686199564088895, 0.71968792904145, 0.6050108024803307, 0.10419302793326037, 0.13313553569249936, 0.08972177405364087, 0.15918379267581445, 0.11866428181287986, 0.05788501551847798, 0.19680905276282512, 0.05209651396663018, 0.060779266294401876, 0.031836758535162886, 0.16528704312377449, 0.15078817969186445, 0.12179045282804436, 0.08989295327784226, 0.14208886163271842, 0.08409340790507824, 0.05799545372764017, 0.12469022551442636, 0.026097954177438078, 0.034797272236584104, 0.6947770417429383, 0.17369426043573458, 0.43946561882017804, 0.13628021208541968, 0.08652711878439344, 0.1871148943712508, 0.15466722482710327, 0.07571122893634426, 0.08652711878439344, 0.11897478832854098, 0.04758991533141639, 0.05516103822505082, 0.05191627127063606, 0.6544158122435957, 0.8379004518344912, 0.6486229959996481, 0.09711972829978334, 0.2530584469783087, 0.14636353419826503, 0.10122337879132348, 0.07112994185336244, 0.08617666032234296, 0.13268469922646456, 0.042404388412581456, 0.043772271909761504, 0.025989786446420894, 0.18415692062171615, 0.17752063519390654, 0.09788521006019146, 0.08958985327542947, 0.17917970655085894, 0.11447592362971544, 0.08129449649066749, 0.02322699899733357, 0.03484049849600035, 0.018249784926476373, 0.6605207249866369, 0.38855504393427553, 0.3777881596188086, 0.3777881596188086, 0.6124963155863092, 0.20416543852876973, 0.10620345367932939, 0.14750479677684636, 0.15930518051899406, 0.0973531658727186, 0.047201534968590836, 0.1298042211636248, 0.03835124716198005, 0.2065067154875849, 0.041301343097516985, 0.023600767484295418, 0.706724082841483, 0.10099092934712404, 0.10099092934712404, 0.5049546467356202, 0.2019818586942481, 0.14332829560934812, 0.11991610389626735, 0.18843959183699155, 0.0993590575140501, 0.19472091156489127, 0.06167113914665178, 0.08965156338911416, 0.037687918367398314, 0.04682438342616154, 0.017701901051353754, 0.6846293529523898, 0.7957875272280454, 0.6047756895001646, 0.6128661002571841, 0.20428870008572805, 0.20428870008572805, 0.5161939896612413, 0.3209157030082449, 0.3209157030082449, 0.10049033167357087, 0.1538758203751554, 0.14026775462769267, 0.10834113883556859, 0.14393146463662496, 0.12822985031262948, 0.12875323745676268, 0.03349677722452362, 0.039254035809988624, 0.023552421485993173, 0.10825132865618768, 0.1879528563481061, 0.16654050562490413, 0.09992430337494247, 0.11717314145752183, 0.10111387841512036, 0.11717314145752183, 0.043419488966492864, 0.04460906400667075, 0.013680112962045696, 0.6675280526608293, 0.6775512643921495, 0.6138751269429616, 0.20462504231432055, 0.7147958859263098, 0.16535752605849643, 0.08267876302924822, 0.11368329916521631, 0.10334845378656028, 0.0723439176505922, 0.3203802067383369, 0.05167422689328014, 0.04133938151462411, 0.04133938151462411, 0.020669690757312054, 0.3824599613410497, 0.3824599613410497, 0.24862199737309207, 0.49724399474618414, 0.6050821642943902, 0.660042991481573, 0.3884051971644098, 0.6577556465784629, 0.39383883836299827, 0.7809138266302168, 0.7228079696804707, 0.6565093274821131, 0.6486966485015007, 0.3019433240820073, 0.3019433240820073, 0.6527910801379062, 0.7076275172544131, 0.612438125209323, 0.1020730208682205, 0.204146041736441, 0.1020730208682205, 0.707165240363335, 0.6515204487128698, 0.6602633628364568, 0.6353589029061878, 0.21178630096872925, 0.6567454782965706, 0.14918839903494668, 0.09697245937271536, 0.08858061192699959, 0.11002644428827318, 0.20606647616702012, 0.09604003187874693, 0.12028314672192578, 0.06993206204763126, 0.03356738978286301, 0.02983767980698934, 0.650283247694399, 0.199028364020009, 0.597085092060027, 0.199028364020009, 0.5371133671850173, 0.5359683477981123, 0.663448855749206, 0.1948559578903775, 0.3011410258305834, 0.09964225119394303, 0.0642138952138744, 0.08414234545266301, 0.08414234545266301, 0.08192807320390871, 0.042071172726331506, 0.026571266985051478, 0.0221427224875429, 0.059743258231961194, 0.1553324714030991, 0.14338381975670686, 0.11948651646392239, 0.3106649428061982, 0.08364056152474568, 0.07169190987835343, 0.02389730329278448, 0.01194865164639224, 0.02389730329278448, 0.6494922609490265, 0.17657905977331675, 0.5297371793199502, 0.11771937318221118, 0.05885968659110559, 0.11771937318221118, 0.11175962621092911, 0.1348404185805775, 0.154276875312913, 0.11327809939314282, 0.06742020929028875, 0.16156554658753883, 0.1254258848508525, 0.05284286674103713, 0.04737636328506777, 0.030976852917159698, 0.12433062631755697, 0.13235195704772193, 0.13836795509534566, 0.21457059703191284, 0.05013331706353103, 0.09826130144452083, 0.1463892858255106, 0.048127984380989794, 0.03007999023811862, 0.020053326825412412, 0.13679465502376364, 0.07172476506651392, 0.13975237729454773, 0.13383693275297956, 0.09982312663896266, 0.12644262707601936, 0.17154789170547657, 0.05841501484798556, 0.040668681223281086, 0.021443486463184572, 0.2766187824116764, 0.14578557451426188, 0.06977771087862107, 0.07600786363564081, 0.08971419970108424, 0.0859761080468724, 0.10342053576652767, 0.07351580253283292, 0.034888855439310536, 0.04485709985054212, 0.214562451032635, 0.5364061275815876, 0.1072812255163175, 0.1072812255163175, 0.14145182423622146, 0.10849217587049995, 0.15930496710098727, 0.08377243959620882, 0.12085204400764551, 0.12771863741717082, 0.10849217587049995, 0.061799340685727816, 0.04257287913905694, 0.04669283518477213, 0.23783334435139883, 0.16289955092561562, 0.20460183596257323, 0.050824659888792076, 0.05799224012951917, 0.046263472462874836, 0.12575845331457527, 0.07037260599986594, 0.024109133536991113, 0.01889634790737141, 0.10414117491623796, 0.2592902722404292, 0.15302376722385985, 0.08501320401325548, 0.07226122341126716, 0.057383912708947445, 0.11476782541789489, 0.09563985451491241, 0.040381271906296354, 0.017002640802651094, 0.4709734624062644, 0.6762109015397344, 0.4591050233505107, 0.7520021640965241, 0.16817038243459523, 0.175745624886604, 0.07120727904888266, 0.08484271546249848, 0.16817038243459523, 0.13938446111696182, 0.09393300640490904, 0.016665533394419348, 0.049996600183258036, 0.030300969808035174, 0.16588959960080843, 0.16588959960080843, 0.33177919920161686, 0.18852276074561175, 0.18852276074561175, 0.5655682822368353, 0.6085225092598014, 0.2028408364199338, 0.676882773282323, 0.11479370931258498, 0.18242411169829398, 0.16551651110186671, 0.0889873715601434, 0.1254721938998022, 0.09254686642254914, 0.07919876068852763, 0.08453800298213623, 0.04004431720206453, 0.025806337752441587, 0.2872786145881629, 0.2872786145881629, 0.7191399419090125, 0.726905782318348, 0.08443274909088515, 0.18444047131504038, 0.10656560564869, 0.23526406785518486, 0.08771169080315254, 0.11148401821709107, 0.06475909881728084, 0.07705513023828355, 0.02295259198587169, 0.024592062842005383, 0.2889021157704262, 0.2889021157704262, 0.185242748425245, 0.1364287809348088, 0.24031491687599352, 0.09762793498087237, 0.08010497229199784, 0.06383364979518578, 0.09136973402056003, 0.045059046914248786, 0.03754920576187399, 0.021277883265061925, 0.7131238278536288, 0.706922930814329, 0.21878834679607767, 0.6563650403882331, 0.7512129378233757, 0.4493400303212119, 0.060952628899219784, 0.060952628899219784, 0.18285788669765934, 0.12190525779843957, 0.060952628899219784, 0.12190525779843957, 0.060952628899219784, 0.3657157733953187, 0.6788667874804031, 0.6968671827182916, 0.7940375695198071, 0.06626423801002329, 0.06626423801002329, 0.19879271403006987, 0.06626423801002329, 0.06626423801002329, 0.4638496660701631, 0.12054425922671971, 0.12947346361388415, 0.12054425922671971, 0.16519028116254184, 0.10380200100078642, 0.08929204387164423, 0.13617036690425746, 0.04576217248421767, 0.05245907577459099, 0.03683296809705325, 0.17051706323066346, 0.08598723701375337, 0.1880059927927828, 0.18654858199593952, 0.08161500462322353, 0.06849830745163403, 0.08890205860743992, 0.06266866426426093, 0.04372232390529832, 0.02331857274949244, 0.7121860994866743, 0.7122788185078611, 0.13855755911300313, 0.23702928351406824, 0.16644335717348174, 0.08888598131777559, 0.0967288620222852, 0.11590034818886426, 0.04705728422705767, 0.041828697090717924, 0.045314421848277754, 0.020914348545358962, 0.7101831625169396, 0.17325613321032113, 0.5197683996309633, 0.1538878352529837, 0.1332163349951202, 0.12173216818519604, 0.23542541960344518, 0.08383441771244633, 0.0734986675835146, 0.06775658417855251, 0.05053033396366628, 0.029858833705802803, 0.04938191728267387, 0.516159635828197, 0.7753671101767948, 0.5399061446343032, 0.58319623709744, 0.6508096887760548, 0.06672451436051666, 0.10675922297682665, 0.17348373733734332, 0.06672451436051666, 0.1334490287210333, 0.04003470861630999, 0.1334490287210333, 0.06672451436051666, 0.053379611488413324, 0.14679393159313664, 0.20970944708634437, 0.20442899338273138, 0.12220478571218628, 0.08599596031598294, 0.08373290872872023, 0.10334602248499704, 0.08901336243233322, 0.033945773808940635, 0.04601538227434175, 0.02112181481445195, 0.5450218239395839, 0.8348901976112576, 0.6050759549646084, 0.5831004983394805, 0.23021488689365568, 0.12372092560951564, 0.06890785730150238, 0.0736061202993321, 0.05951133130584297, 0.1299852762732886, 0.1472122405986642, 0.08926699695876446, 0.05168089297612679, 0.025057402655091775, 0.13082434585216438, 0.09699046330419082, 0.20074770311797638, 0.12706502556905622, 0.13157620990878602, 0.0812013181151365, 0.12932061773892112, 0.05714166830324421, 0.024811513868513935, 0.021052193585405762, 0.19809006444553925, 0.17828105800098532, 0.13300332898486206, 0.10847789243446197, 0.06320016341833871, 0.08112259782055417, 0.12923018490018512, 0.05376730320664637, 0.03490158278326168, 0.021695578486892395, 0.08437452867311575, 0.16747065539663883, 0.11889138131211764, 0.12272658716089563, 0.12656179300967363, 0.1623570475982682, 0.08309612672352308, 0.07798251892515243, 0.031960048739816574, 0.024289637042260594, 0.14089632618082001, 0.13561271394903926, 0.10449810858410817, 0.1291549656657517, 0.14559287038684735, 0.13267737382027217, 0.08629899978575226, 0.07103523111616342, 0.028179265236164, 0.02641806115890375, 0.6769039328604389, 0.20221681889584028, 0.10962280182248184, 0.12133009133750416, 0.1064299046820212, 0.06917943804331378, 0.14474467036754882, 0.0883368208860776, 0.06811513899649357, 0.06385794280921273, 0.0266074761705053, 0.6601695602319109, 0.5064286637079732, 0.5407334909790447, 0.27036674548952233, 0.6795123802688039, 0.7065394902011002, 0.731828331048739, 0.36879802003442996, 0.7210544524175627, 0.6577538453568521, 0.25107836007476164, 0.7532350802242849, 0.18039175749559122, 0.07721441582521568, 0.17465968295834813, 0.1102581396281464, 0.137906969748966, 0.07350542641876427, 0.10351452252550748, 0.057320745372430856, 0.043833511167153005, 0.041136064326097434, 0.19456953442485217, 0.09845687284149146, 0.14065267548784494, 0.2062905907155059, 0.07267054900205322, 0.07970318277644546, 0.08673581655083772, 0.051572647678876475, 0.04922843642074573, 0.018753690065045993, 0.38520917747161093, 0.6523005358943503, 0.16975588764530342, 0.09884520040106276, 0.17190469634967437, 0.16545827023656157, 0.10600789608229919, 0.11961701787664841, 0.07664084378922982, 0.03223213056556394, 0.04082736538304766, 0.01862300877121472, 0.07683875823061764, 0.19597408062487803, 0.10856118135334969, 0.12336497881062465, 0.11138095229759254, 0.15649728740547814, 0.09023267021577118, 0.06485473171758553, 0.03383725133091419, 0.038066907747278465, 0.5831404574650966, 0.1578988671632058, 0.16563900771042178, 0.23684830074480873, 0.13777450174044428, 0.06811323681550055, 0.055729011939955, 0.07275732114383013, 0.044892815173852636, 0.03870070273607986, 0.020124365422761525, 0.7923435641006954, 0.11734436837737643, 0.10831787850219363, 0.13088410319015065, 0.09477814368941943, 0.11283112343978503, 0.08123840887664523, 0.12637085825255923, 0.15345032787810764, 0.04513244937591401, 0.027079469625548407, 0.7065625804361305, 0.10760834059623532, 0.1353782349436509, 0.12496452456337005, 0.15273441891078562, 0.06942473586853892, 0.23604410195303233, 0.07983844624881975, 0.038183604727696406, 0.04165484152112335, 0.013884947173707782, 0.13296723940658592, 0.14420390752545234, 0.13109446138677486, 0.1404583514858302, 0.10113001306979774, 0.1648044657433741, 0.07678389881225385, 0.03745556039622139, 0.05056500653489887, 0.018727780198110694, 0.7064296121532276, 0.71817503317243, 0.7603952273063079, 0.5450110995766303, 0.22574534836792953, 0.14006642076954043, 0.11250015710745004, 0.15496710383012985, 0.06332790300750499, 0.09536437158777221, 0.09983457650594904, 0.05513252732418081, 0.023096058743913583, 0.029056331968149347, 0.19687803497629053, 0.19687803497629053, 0.39375606995258106, 0.11452283368807814, 0.13360997263609117, 0.07634855579205209, 0.15269711158410418, 0.05726141684403907, 0.019087138948013022, 0.1717842505321172, 0.019087138948013022, 0.19087138948013024, 0.038174277896026045, 0.18800854180633936, 0.22702918255859847, 0.1294775806779507, 0.08158861248199632, 0.11706192225677735, 0.07449395052704012, 0.07094661954956202, 0.04611530270721532, 0.04434163721847627, 0.02128398586486861, 0.726672332245603, 0.8135823635211636, 0.678153995487682, 0.5077370905891958, 0.2538685452945979, 0.10647374161146739, 0.19666326391765152, 0.1002105803402046, 0.08142109652641624, 0.0739053030009009, 0.0826737287806688, 0.17787378010386318, 0.05386318693285997, 0.0914421545604367, 0.03507370311907161, 0.17208333529019362, 0.23092473380877596, 0.17741236760885767, 0.1261204315417161, 0.07704892560735122, 0.08015752779323858, 0.056843011399083314, 0.042632258549312484, 0.022870430367599927, 0.01398870983649316, 0.6050108654197189, 0.7061207072709298, 0.2873080174021563, 0.5746160348043126, 0.79104650182272, 0.14590325482690616, 0.09726883655127078, 0.04863441827563539, 0.04863441827563539, 0.6322474375832601, 0.6575867844612023, 0.314897019920169, 0.314897019920169, 0.11606304854779857, 0.17409457282169785, 0.058031524273899286, 0.058031524273899286, 0.058031524273899286, 0.4642521941911943, 0.058031524273899286, 0.058031524273899286, 0.7069251649798098, 0.24484965135969025, 0.14657666203845401, 0.08911194794383284, 0.1082668526420399, 0.08244937239663039, 0.1432453742648528, 0.08911194794383284, 0.03248005579261197, 0.028315946075610436, 0.0358113435662132, 0.08979954891439583, 0.19261352520768962, 0.15226880033310597, 0.08068944974916727, 0.14185725842998761, 0.08979954891439583, 0.06767502237026933, 0.09370387712806522, 0.06116780868082035, 0.02993318297146528, 0.44246192278506496, 0.6577055816739947, 0.6952813631428949, 0.6847626110589826, 0.3423813055294913, 0.6049448225142267, 0.13308869606060864, 0.13308869606060864, 0.13308869606060864, 0.5323547842424345, 0.51613168633888, 0.6944855319214038, 0.6768760321085079, 0.12830808203151745, 0.12830808203151745, 0.5132323281260698, 0.12830808203151745, 0.12830808203151745, 0.7126247412761536, 0.37711949997714433, 0.3333491156820985, 0.2571286393804484, 0.2571286393804484, 0.2571286393804484, 0.09738132767688239, 0.14057137258796829, 0.1625738482973894, 0.09615896791524788, 0.11041983180098379, 0.1642036613129021, 0.09004716910707534, 0.06356270760499436, 0.04807948395762394, 0.026891914755959152, 0.2553212437062073, 0.5106424874124146, 0.12766062185310365, 0.2146377756224041, 0.5365944390560102, 0.13353909096058425, 0.10140938486480458, 0.2249079426704577, 0.10341749149579081, 0.17470527689580195, 0.05421887903662819, 0.05923914561409376, 0.07229183871550425, 0.04919861245916262, 0.02610538620282098, 0.6050665207838749, 0.16738840844344738, 0.04565138412094019, 0.36521107296752153, 0.04565138412094019, 0.10651989628219379, 0.07608564020156698, 0.07608564020156698, 0.015217128040313397, 0.030434256080626793, 0.04565138412094019, 0.41411962615112097, 0.14464511326320525, 0.14464511326320525, 0.578580453052821, 0.13583031430704304, 0.12124965909894238, 0.14734135789238567, 0.19261812932806668, 0.07367067894619284, 0.16499162472324438, 0.05602041211533414, 0.03606793656740691, 0.06062482954947119, 0.010743640679653122, 0.6818329340924248, 0.6862706710750341, 0.10661883932404405, 0.1746343057893825, 0.06617721061492389, 0.09375104837114218, 0.08823628081989852, 0.16544302653730972, 0.1893403525926989, 0.053309419662022024, 0.03676511700829105, 0.027573837756218286, 0.1473868104833929, 0.1473868104833929, 0.5895472419335716, 0.39191991822304606, 0.2453780943443814, 0.1226890471721907, 0.4907561886887628, 0.1619083050331572, 0.11407176036426984, 0.07727441831127958, 0.11407176036426984, 0.09935282354307375, 0.2575813943709319, 0.06991494990068152, 0.022078405231794166, 0.06255548149008347, 0.018398671026495138, 0.14794401659041656, 0.1563979603955832, 0.13103612898008324, 0.06763155044133329, 0.0972203537594166, 0.2662992298627498, 0.05917760663616662, 0.033815775220666644, 0.021134859512916652, 0.021134859512916652, 0.11507342891108391, 0.11507342891108391, 0.5753671445554196, 0.11507342891108391, 0.156197989888215, 0.07279129625858563, 0.12738476845252486, 0.1425496218397302, 0.10463748837171685, 0.15316501921077394, 0.05610995753265976, 0.05156050151649816, 0.09098912032323205, 0.04549456016161602, 0.41655428020666635, 0.12227649501870609, 0.12127422866609375, 0.12127422866609375, 0.1553512846549135, 0.1312968921922172, 0.07717450915115057, 0.12829009313438017, 0.05412238304106663, 0.06614957927241477, 0.02405439246269628, 0.13205111549457527, 0.1403043102129862, 0.06602555774728763, 0.09078514190252049, 0.1237979207761643, 0.06602555774728763, 0.1237979207761643, 0.18982347852345194, 0.04126597359205477, 0.03301277887364382, 0.6743635935729847, 0.33718179678649235, 0.7127642930507249, 0.13988731972170315, 0.19153802238817816, 0.1269746440550844, 0.09469295488853752, 0.18938590977707503, 0.0839323918330219, 0.051650702666475014, 0.05595492788868126, 0.03228168916654688, 0.03443380177765001, 0.6575770939624397, 0.4517403594717463, 0.6577301734100114, 0.16146127118660158, 0.123700167441348, 0.1015643480044752, 0.1210959533899512, 0.0833348496446976, 0.1770865554949824, 0.10547066908157039, 0.0442716388737456, 0.0481779599508408, 0.0338547826681584, 0.5831664965166398, 0.7925086497461616, 0.21156061687695954, 0.6346818506308787, 0.6050667622025223, 0.11224546033997154, 0.11224546033997154, 0.11224546033997154, 0.11224546033997154, 0.44898184135988617, 0.17980159737693294, 0.27486910863370206, 0.10746762142069555, 0.06200055081963205, 0.07440066098355846, 0.09300082622944808, 0.07026729092891633, 0.043400385573742435, 0.043400385573742435, 0.051667125683026706, 0.7663162659318064, 0.2554387553106021, 0.7093003125357824, 0.19429283686346124, 0.17270474387863222, 0.1432664352629563, 0.11415521896523229, 0.12625763472945462, 0.08766074121112394, 0.049718032328697155, 0.04448455524146588, 0.03663433961061896, 0.030419585569531813, 0.21865154548973129, 0.46853902604942416, 0.09370780520988484, 0.031235935069961612, 0.062471870139923225, 0.09370780520988484, 0.7067244481563854, 0.13374416982769666, 0.5349766793107866, 0.06687208491384833, 0.06687208491384833, 0.06687208491384833, 0.06687208491384833, 0.06687208491384833, 0.5116500277487849, 0.7128275255297856, 0.784699784721177, 0.6510421700298439, 0.4710770355517307, 0.5831260282558033, 0.5063375226398295, 0.5256401973812445, 0.17521339912708148, 0.7125189051573818, 0.33279512935187033, 0.6655902587037407, 0.6072667808660779, 0.15181669521651947, 0.682683162080551, 0.6869620767679514, 0.13090152556948234, 0.1666019416338866, 0.12032362451336256, 0.13619047609754223, 0.09520110950507807, 0.10313453529716791, 0.14544613952164706, 0.047600554752539034, 0.023800277376269517, 0.031733703168359356, 0.3140065814531365, 0.100930686895651, 0.11775246804492617, 0.08971616612946756, 0.08410890574637583, 0.11775246804492617, 0.07289438498019239, 0.03364356229855033, 0.04485808306473378, 0.02242904153236689, 0.7132363914772756, 0.6404371522471313, 0.14479286734601016, 0.2509743033997509, 0.08204929149607242, 0.07480964812877192, 0.07963607704030558, 0.1279003661556423, 0.08204929149607242, 0.03619821683650254, 0.10376822159797394, 0.01689250119036785, 0.6800389721536858, 0.13849521938177609, 0.13001592023595307, 0.13566878633316842, 0.10740445584709167, 0.14132165243038378, 0.1950238803539296, 0.06500796011797653, 0.033917196583292106, 0.028264330486076752, 0.028264330486076752, 0.6578064295790012, 0.4155056341599974, 0.17745951417908465, 0.17091119262266086, 0.16370803891059468, 0.09887965550199919, 0.1080473056809925, 0.0648283834085955, 0.07334120143194642, 0.08119918729965497, 0.02619328622569515, 0.036015768560330834, 0.694223185410964, 0.12061884384338982, 0.1140095921259438, 0.0760063947506292, 0.07765870767999071, 0.09583414990296726, 0.06444020424509868, 0.17349285758295796, 0.10574802747913628, 0.14375122485445088, 0.02643700686978407, 0.2719966797856488, 0.5439933595712976, 0.6577075504517678, 0.0887639507513928, 0.5325837045083568, 0.0887639507513928, 0.1331459261270892, 0.0443819753756964, 0.0443819753756964, 0.0443819753756964, 0.6533724993106139, 0.5163556029827268, 0.1721185343275756, 0.1721185343275756, 0.23487545093727014, 0.23487545093727014, 0.46975090187454027, 0.6482810811357881, 0.1148311636051105, 0.21641257756347748, 0.11703945521290109, 0.0993731223505764, 0.15678870415313165, 0.09606068493889051, 0.08391508109604229, 0.05741558180255525, 0.03202022831296351, 0.02649949929348704, 0.0909708607635563, 0.13406232112524086, 0.09336483078364989, 0.21066936176823564, 0.05027337042196532, 0.2322150919490779, 0.07660704064299478, 0.05266734044205891, 0.023939700200935866, 0.033515580281310214, 0.38949283596337986, 0.8088839313422966, 0.10292539100783853, 0.11348184136761683, 0.15174897392181322, 0.20189211313076016, 0.15966631169164694, 0.1293165169072843, 0.050143139208946974, 0.05278225179889155, 0.01847378812961204, 0.01979334442458433, 0.605021767305931, 0.7277917204859363, 0.5176168935999063, 0.17253896453330206, 0.17253896453330206, 0.7063927503903948, 0.09402811227424329, 0.18805622454848658, 0.047014056137121646, 0.14104216841136494, 0.09402811227424329, 0.047014056137121646, 0.23507028068560823, 0.047014056137121646, 0.6578553615544742, 0.17192604627342606, 0.5157781388202782, 0.05475436514425426, 0.13141047634621023, 0.15604994066112465, 0.11498416680293394, 0.13688591286063564, 0.09855785725965767, 0.2108043058053789, 0.04654121037261612, 0.035590337343765266, 0.013688591286063565, 0.24824058021692497, 0.49648116043384993, 0.5162350572289012, 0.07250807606388888, 0.14864155593097222, 0.16314317114375, 0.06888267226069444, 0.08338428747347222, 0.29365770805875, 0.08338428747347222, 0.04350484563833333, 0.0072508076063888885, 0.03262863422875, 0.13854475810414524, 0.12376665057303642, 0.1126830699247048, 0.14593381186969967, 0.17549002693191731, 0.07019601077276692, 0.10529401615915039, 0.05357063980026949, 0.03879253226916067, 0.03694526882777206, 0.6812861805197389, 0.1485686084396459, 0.21975773331697623, 0.10368850797350286, 0.11761681501471967, 0.1222595840284586, 0.10214091830225655, 0.06345117652109877, 0.06964153520608402, 0.030951793424926228, 0.018571076054955737, 0.11265997619663218, 0.1422474446927174, 0.0990042215061313, 0.11379795575417392, 0.07169271212512957, 0.13997148557763392, 0.1650070358435522, 0.09331432371842262, 0.0318634276111687, 0.02844948893854348, 0.16828372118685783, 0.5048511635605735, 0.16828372118685783, 0.583025464670825, 0.16993371984061698, 0.1605623749964653, 0.13588450024019924, 0.10370954960861183, 0.11964083584366966, 0.08028118749823265, 0.09058966682679949, 0.0684108173623072, 0.039359648345437016, 0.03186257247011568, 0.7269307121320405, 0.6809244032994689, 0.5125509033053962, 0.10009948717607414, 0.08596779486886368, 0.09538892307367065, 0.18017907691693347, 0.15427097435371429, 0.08596779486886368, 0.10127712820167502, 0.08243487179206106, 0.07065846153605233, 0.04592799999843402, 0.6577819686310965, 0.0782760927730872, 0.20367758833813504, 0.21565862294626065, 0.07428241457037867, 0.08786092045958767, 0.11581666787854737, 0.09584827686500473, 0.06070390868116966, 0.055112759197377716, 0.012779770248667296, 0.3860076342939325, 0.7929565248325906, 0.16866837037625854, 0.15022026736635527, 0.08609114737954862, 0.15109874846206495, 0.16251900270629077, 0.07115696875248406, 0.09311899614522606, 0.05622279012541951, 0.03865316821122591, 0.022840508488451677, 0.4417454129426402, 0.6802880902403797, 0.08031793532080196, 0.12296952856012439, 0.19885612951839934, 0.16063587064160392, 0.07699443454890671, 0.10247460713343699, 0.09471977199901473, 0.10136677354280524, 0.03711242528616367, 0.024372338993898526, 0.6148073359594327, 0.24592293438377308, 0.6768785988411128, 0.38735929105360056, 0.6369171245737456, 0.12738342491474913, 0.12738342491474913, 0.5140584604411853, 0.7060798452426301, 0.5831616914683266, 0.4042756086623503, 0.5976921318219324, 0.1494230329554831, 0.06110662043631924, 0.3277536914311668, 0.12221324087263848, 0.0666617677487119, 0.08332720968588987, 0.1333235354974238, 0.055551473123926574, 0.04444117849914126, 0.04999632581153392, 0.04999632581153392, 0.7991975413707427, 0.17973536475648844, 0.1750547562992882, 0.1235680632700858, 0.12263194157864576, 0.1685019044592079, 0.09548441252688449, 0.050550571337762376, 0.03370038089184158, 0.03370038089184158, 0.017786312137360837, 0.1606327402301452, 0.12303784358053675, 0.08886066480816543, 0.2699997123017334, 0.10936697207158821, 0.10594925419435108, 0.0751897932992169, 0.03417717877237132, 0.01708858938618566, 0.01708858938618566, 0.11093904866333842, 0.15531466812867378, 0.11371252487992188, 0.24129243084276109, 0.07765733406433689, 0.06656342919800305, 0.14699423947892343, 0.04160214324875191, 0.024961285949251146, 0.019414333516084223, 0.2213568873414422, 0.1106784436707211, 0.1106784436707211, 0.1106784436707211, 0.1106784436707211, 0.1106784436707211, 0.2213568873414422, 0.18912752319408535, 0.12366030362690197, 0.10599454596591597, 0.17146176553309936, 0.0893679505202821, 0.0717021928592961, 0.0956029238123948, 0.04052732639873258, 0.057153921844366455, 0.05507559741366222, 0.6578483654335306, 0.19711833776033608, 0.19711833776033608, 0.19711833776033608, 0.39423667552067215, 0.09378467481354541, 0.1470138145725847, 0.11406244234079846, 0.12166660516351836, 0.16475686115893112, 0.09124995387263878, 0.09124995387263878, 0.053229139759039285, 0.09378467481354541, 0.02788193034997296, 0.1497443907871854, 0.14615052540829293, 0.08565379153027004, 0.17370349331313506, 0.07547117295674144, 0.10601902867732726, 0.08265890371452633, 0.06648650950951031, 0.07906503833563389, 0.03533967622577575, 0.65783386805981, 0.13026985680238803, 0.12371997573411153, 0.17248020146461432, 0.10407033252928205, 0.10115927427671473, 0.10188703883985656, 0.14919173544407566, 0.05239904854621194, 0.041482580099084454, 0.022560701457396807, 0.6790924394176983, 0.8372398814085953, 0.15110232649332228, 0.6044093059732891, 0.15110232649332228, 0.5162274376140196, 0.6577014419995844, 0.08036508282869291, 0.4821904969721575, 0.16073016565738582, 0.08036508282869291, 0.08036508282869291, 0.08036508282869291, 0.5331782001405906, 0.17772606671353017, 0.7355228283751307, 0.5065000026089927, 0.6602045435187168, 0.11741670414997159, 0.10838464998458916, 0.13435180571006364, 0.1546739275821741, 0.1580609478941925, 0.11741670414997159, 0.0937075619658427, 0.04403126405623934, 0.03387020312018411, 0.03725722343220252, 0.1446488565673072, 0.5785954262692288, 0.1491584289349328, 0.1491584289349328, 0.12649219708697734, 0.09614869316148855, 0.11698700308622181, 0.13161037847199955, 0.09468635562291078, 0.06872986431315532, 0.036558438464444315, 0.02997791954084434, 0.6050642931041205, 0.7258250568355649, 0.15242252499682543, 0.2730903572859789, 0.17623854452757942, 0.049219773696891546, 0.11272915911223548, 0.04445656979074075, 0.07303579322764553, 0.049219773696891546, 0.03969336588458996, 0.030166958072288367, 0.5831748050768331, 0.5064320864218587, 0.7100887926865292, 0.7968742149463568], \"Term\": [\"abe\", \"abe\", \"abel\", \"abp\", \"adeana\", \"afloat\", \"ag\", \"agostino\", \"aida\", \"akasaka\", \"ala\", \"alarms\", \"alarms\", \"aldos\", \"alons\", \"also\", \"also\", \"also\", \"also\", \"also\", \"also\", \"also\", \"also\", \"also\", \"also\", \"always\", \"always\", \"always\", \"always\", \"always\", \"always\", \"always\", \"always\", \"always\", \"always\", \"amazing\", \"amazing\", \"amazing\", \"amazing\", \"amazing\", \"amazing\", \"amazing\", \"amazing\", \"amazing\", \"amazing\", \"amc\", \"amc\", \"amc\", \"amc\", \"amie\", \"another\", \"another\", \"another\", \"another\", \"another\", \"another\", \"another\", \"another\", \"another\", \"another\", \"anthonys\", \"appliance\", \"appliance\", \"appliance\", \"arandinas\", \"arandinas\", \"area\", \"area\", \"area\", \"area\", \"area\", \"area\", \"area\", \"area\", \"area\", \"area\", \"around\", \"around\", \"around\", \"around\", \"around\", \"around\", \"around\", \"around\", \"around\", \"around\", \"arrived\", \"arrived\", \"arrived\", \"arrived\", \"arrived\", \"arrived\", \"arrived\", \"arrived\", \"arrived\", \"arrived\", \"assign\", \"athens\", \"atmosphere\", \"atmosphere\", \"atmosphere\", \"atmosphere\", \"atmosphere\", \"atmosphere\", \"atmosphere\", \"atmosphere\", \"atmosphere\", \"atmosphere\", \"ausha\", \"avacado\", \"aveeno\", \"baaji\", \"babka\", \"babka\", \"back\", \"back\", \"back\", \"back\", \"back\", \"back\", \"back\", \"back\", \"back\", \"back\", \"backpacks\", \"bali\", \"bangs\", \"bangs\", \"bangs\", \"bansal\", \"bar\", \"bar\", \"bar\", \"bar\", \"bar\", \"bar\", \"bar\", \"bar\", \"bar\", \"bar\", \"barbuild\", \"bargains\", \"barlow\", \"barlow\", \"beads\", \"beansi\", \"beer\", \"beer\", \"beer\", \"beer\", \"beer\", \"beer\", \"beer\", \"beer\", \"beer\", \"beer\", \"benway\", \"benz\", \"benz\", \"benz\", \"berkeley\", \"berkeley\", \"bertuccis\", \"bertuccis\", \"best\", \"best\", \"best\", \"best\", \"best\", \"best\", \"best\", \"best\", \"best\", \"best\", \"bibles\", \"bike\", \"bike\", \"bike\", \"bike\", \"bike\", \"bike\", \"bike\", \"bike\", \"bike\", \"bike\", \"bit\", \"bit\", \"bit\", \"bit\", \"bit\", \"bit\", \"bit\", \"bit\", \"bit\", \"bit\", \"bjk\", \"bl\", \"blarney\", \"blick\", \"blick\", \"bling\", \"bling\", \"blossoming\", \"blts\", \"bombb\", \"boudin\", \"breakfast\", \"breakfast\", \"breakfast\", \"breakfast\", \"breakfast\", \"breakfast\", \"breakfast\", \"breakfast\", \"breakfast\", \"breakfast\", \"brent\", \"bridgetown\", \"bruleeesque\", \"brunch\", \"brunch\", \"brunch\", \"brunch\", \"brunch\", \"brunch\", \"brunch\", \"brunch\", \"brunch\", \"brunch\", \"brusters\", \"bryant\", \"bryant\", \"bryant\", \"bulgogi\", \"bulgogi\", \"bulgogi\", \"bulgogi\", \"bulgogi\", \"bulgogi\", \"burger\", \"burger\", \"burger\", \"burger\", \"burger\", \"burger\", \"burger\", \"burger\", \"burger\", \"burger\", \"bus\", \"bus\", \"bus\", \"bus\", \"bus\", \"bus\", \"bus\", \"bus\", \"bus\", \"bus\", \"butane\", \"byi\", \"caannot\", \"caleb\", \"call\", \"call\", \"call\", \"call\", \"call\", \"call\", \"call\", \"call\", \"call\", \"call\", \"called\", \"called\", \"called\", \"called\", \"called\", \"called\", \"called\", \"called\", \"called\", \"called\", \"came\", \"came\", \"came\", \"came\", \"came\", \"came\", \"came\", \"came\", \"came\", \"came\", \"candies\", \"candies\", \"candies\", \"candies\", \"candies\", \"candy\", \"candy\", \"candy\", \"candy\", \"candy\", \"candy\", \"candy\", \"candy\", \"candy\", \"candy\", \"canneles\", \"caps\", \"caps\", \"caps\", \"caps\", \"car\", \"car\", \"car\", \"car\", \"car\", \"car\", \"car\", \"car\", \"car\", \"car\", \"carbohydrate\", \"cardamon\", \"carwash\", \"chap\", \"chatt\", \"check\", \"check\", \"check\", \"check\", \"check\", \"check\", \"check\", \"check\", \"check\", \"check\", \"cheese\", \"cheese\", \"cheese\", \"cheese\", \"cheese\", \"cheese\", \"cheese\", \"cheese\", \"cheese\", \"cheese\", \"cheesemustard\", \"chicken\", \"chicken\", \"chicken\", \"chicken\", \"chicken\", \"chicken\", \"chicken\", \"chicken\", \"chicken\", \"chicken\", \"chilli\", \"chima\", \"chopping\", \"cigars\", \"cigars\", \"cigars\", \"class\", \"class\", \"class\", \"class\", \"class\", \"class\", \"class\", \"class\", \"class\", \"class\", \"classes\", \"classes\", \"classes\", \"classes\", \"classes\", \"classes\", \"classes\", \"classes\", \"classes\", \"classes\", \"claypot\", \"claypot\", \"clermont\", \"clermont\", \"coffee\", \"coffee\", \"coffee\", \"coffee\", \"coffee\", \"coffee\", \"coffee\", \"coffee\", \"coffee\", \"coffee\", \"come\", \"come\", \"come\", \"come\", \"come\", \"come\", \"come\", \"come\", \"come\", \"come\", \"comics\", \"comics\", \"comics\", \"coming\", \"coming\", \"coming\", \"coming\", \"coming\", \"coming\", \"coming\", \"coming\", \"coming\", \"coming\", \"company\", \"company\", \"company\", \"company\", \"company\", \"company\", \"company\", \"company\", \"company\", \"company\", \"comparative\", \"conde\", \"contemplate\", \"corral\", \"corral\", \"corriidors\", \"cosi\", \"could\", \"could\", \"could\", \"could\", \"could\", \"could\", \"could\", \"could\", \"could\", \"could\", \"cream\", \"cream\", \"cream\", \"cream\", \"cream\", \"cream\", \"cream\", \"cream\", \"cream\", \"cream\", \"crispyness\", \"croque\", \"croque\", \"cryfry\", \"cuando\", \"curled\", \"customer\", \"customer\", \"customer\", \"customer\", \"customer\", \"customer\", \"customer\", \"customer\", \"customer\", \"customer\", \"customers\", \"customers\", \"customers\", \"customers\", \"customers\", \"customers\", \"customers\", \"customers\", \"customers\", \"customers\", \"dates\", \"dates\", \"dates\", \"dates\", \"dates\", \"dates\", \"dates\", \"dates\", \"dax\", \"dax\", \"day\", \"day\", \"day\", \"day\", \"day\", \"day\", \"day\", \"day\", \"day\", \"day\", \"dearen\", \"dearen\", \"decentdecor\", \"definitely\", \"definitely\", \"definitely\", \"definitely\", \"definitely\", \"definitely\", \"definitely\", \"definitely\", \"definitely\", \"definitely\", \"delaware\", \"delicious\", \"delicious\", \"delicious\", \"delicious\", \"delicious\", \"delicious\", \"delicious\", \"delicious\", \"delicious\", \"delicious\", \"deposits\", \"dermatology\", \"desde\", \"detroit\", \"ding\", \"ding\", \"diorama\", \"disconcerting\", \"disguise\", \"dmv\", \"dobie\", \"dobie\", \"dog\", \"dog\", \"dog\", \"dog\", \"dog\", \"dog\", \"dog\", \"dog\", \"dog\", \"dog\", \"donburi\", \"donburi\", \"donnies\", \"donovans\", \"doughnuts\", \"doughnuts\", \"doughnuts\", \"doughnuts\", \"doughnuts\", \"doughnuts\", \"doughnuts\", \"doughnuts\", \"doughnuts\", \"dr\", \"dr\", \"dr\", \"dr\", \"dr\", \"dr\", \"dr\", \"dr\", \"dr\", \"dr\", \"drellis\", \"drink\", \"drink\", \"drink\", \"drink\", \"drink\", \"drink\", \"drink\", \"drink\", \"drink\", \"drink\", \"drinks\", \"drinks\", \"drinks\", \"drinks\", \"drinks\", \"drinks\", \"drinks\", \"drinks\", \"drinks\", \"drinks\", \"duvall\", \"duvall\", \"eagle\", \"earnest\", \"earnest\", \"echo\", \"echo\", \"eith\", \"eith\", \"elliot\", \"elliot\", \"elliot\", \"elliot\", \"ent\", \"erection\", \"et\", \"et\", \"et\", \"et\", \"et\", \"et\", \"et\", \"et\", \"even\", \"even\", \"even\", \"even\", \"even\", \"even\", \"even\", \"even\", \"even\", \"even\", \"ever\", \"ever\", \"ever\", \"ever\", \"ever\", \"ever\", \"ever\", \"ever\", \"ever\", \"ever\", \"every\", \"every\", \"every\", \"every\", \"every\", \"every\", \"every\", \"every\", \"every\", \"every\", \"everything\", \"everything\", \"everything\", \"everything\", \"everything\", \"everything\", \"everything\", \"everything\", \"everything\", \"everything\", \"excise\", \"experience\", \"experience\", \"experience\", \"experience\", \"experience\", \"experience\", \"experience\", \"experience\", \"experience\", \"experience\", \"fakes\", \"fallon\", \"feast\", \"feast\", \"feast\", \"feast\", \"feast\", \"feast\", \"feast\", \"feast\", \"feijoada\", \"felisha\", \"fetting\", \"fimi\", \"finally\", \"finally\", \"finally\", \"finally\", \"finally\", \"finally\", \"finally\", \"finally\", \"finally\", \"finally\", \"find\", \"find\", \"find\", \"find\", \"find\", \"find\", \"find\", \"find\", \"find\", \"find\", \"fiorellas\", \"first\", \"first\", \"first\", \"first\", \"first\", \"first\", \"first\", \"first\", \"first\", \"first\", \"fish\", \"fish\", \"fish\", \"fish\", \"fish\", \"fish\", \"fish\", \"fish\", \"fish\", \"fish\", \"flames\", \"flavor\", \"flavor\", \"flavor\", \"flavor\", \"flavor\", \"flavor\", \"flavor\", \"flavor\", \"flavor\", \"flavor\", \"flavorable\", \"flowmaster\", \"fog\", \"fong\", \"food\", \"food\", \"food\", \"food\", \"food\", \"food\", \"food\", \"food\", \"food\", \"food\", \"foodgreat\", \"fpr\", \"franks\", \"franks\", \"free\", \"free\", \"free\", \"free\", \"free\", \"free\", \"free\", \"free\", \"free\", \"free\", \"freebirds\", \"freebirds\", \"freebirds\", \"friendly\", \"friendly\", \"friendly\", \"friendly\", \"friendly\", \"friendly\", \"friendly\", \"friendly\", \"friendly\", \"friendly\", \"fries\", \"fries\", \"fries\", \"fries\", \"fries\", \"fries\", \"fries\", \"fries\", \"fries\", \"fries\", \"frigging\", \"frustating\", \"fu\", \"fu\", \"fu\", \"fu\", \"fu\", \"gander\", \"gander\", \"gaus\", \"gelatto\", \"gene\", \"gene\", \"get\", \"get\", \"get\", \"get\", \"get\", \"get\", \"get\", \"get\", \"get\", \"get\", \"gi\", \"giacomo\", \"gilt\", \"gilt\", \"gilt\", \"gingerbread\", \"gingerbread\", \"giraffe\", \"give\", \"give\", \"give\", \"give\", \"give\", \"give\", \"give\", \"give\", \"give\", \"give\", \"glk\", \"glorias\", \"gnats\", \"go\", \"go\", \"go\", \"go\", \"go\", \"go\", \"go\", \"go\", \"go\", \"go\", \"going\", \"going\", \"going\", \"going\", \"going\", \"going\", \"going\", \"going\", \"going\", \"going\", \"good\", \"good\", \"good\", \"good\", \"good\", \"good\", \"good\", \"good\", \"good\", \"good\", \"got\", \"got\", \"got\", \"got\", \"got\", \"got\", \"got\", \"got\", \"got\", \"got\", \"graeters\", \"great\", \"great\", \"great\", \"great\", \"great\", \"great\", \"great\", \"great\", \"great\", \"great\", \"grille\", \"grille\", \"grille\", \"habaneros\", \"hahahaha\", \"hair\", \"hair\", \"hair\", \"hair\", \"hair\", \"hair\", \"hair\", \"hair\", \"hair\", \"hair\", \"halfscoop\", \"hancock\", \"hancock\", \"hancock\", \"handcut\", \"haunt\", \"heatedcooled\", \"help\", \"help\", \"help\", \"help\", \"help\", \"help\", \"help\", \"help\", \"help\", \"help\", \"helpful\", \"helpful\", \"helpful\", \"helpful\", \"helpful\", \"helpful\", \"helpful\", \"helpful\", \"helpful\", \"helpful\", \"henna\", \"henna\", \"herd\", \"here\", \"here\", \"here\", \"here\", \"here\", \"here\", \"here\", \"here\", \"here\", \"here\", \"higgins\", \"hk\", \"hoagies\", \"home\", \"home\", \"home\", \"home\", \"home\", \"home\", \"home\", \"home\", \"home\", \"home\", \"hot\", \"hot\", \"hot\", \"hot\", \"hot\", \"hot\", \"hot\", \"hot\", \"hot\", \"hot\", \"hotcake\", \"houte\", \"huli\", \"huli\", \"iam\", \"iam\", \"ice\", \"ice\", \"ice\", \"ice\", \"ice\", \"ice\", \"ice\", \"ice\", \"ice\", \"ice\", \"icee\", \"ihop\", \"ihop\", \"ihop\", \"ihop\", \"im\", \"im\", \"im\", \"im\", \"im\", \"im\", \"im\", \"im\", \"im\", \"im\", \"imaginable\", \"imax\", \"injected\", \"inserts\", \"inserts\", \"inserts\", \"insta\", \"isler\", \"isler\", \"it\", \"it\", \"it\", \"it\", \"it\", \"it\", \"it\", \"it\", \"it\", \"it\", \"ive\", \"ive\", \"ive\", \"ive\", \"ive\", \"ive\", \"ive\", \"ive\", \"ive\", \"ive\", \"jacki\", \"jaime\", \"janel\", \"janel\", \"janet\", \"japanese\", \"japanese\", \"japanese\", \"japanese\", \"japanese\", \"japanese\", \"japanese\", \"japanese\", \"japanese\", \"japanese\", \"jaymie\", \"jaymie\", \"jenis\", \"jenis\", \"jigae\", \"jills\", \"joey\", \"johnathan\", \"joining\", \"jordens\", \"kaitlyn\", \"kameel\", \"karisa\", \"katzingers\", \"katzingers\", \"keefer\", \"kelli\", \"kellys\", \"kellys\", \"kellys\", \"kellys\", \"kenton\", \"kgsr\", \"kickstand\", \"kings\", \"kings\", \"klein\", \"know\", \"know\", \"know\", \"know\", \"know\", \"know\", \"know\", \"know\", \"know\", \"know\", \"koong\", \"kra\", \"kra\", \"kra\", \"kroeker\", \"kruy\", \"kuples\", \"large\", \"large\", \"large\", \"large\", \"large\", \"large\", \"large\", \"large\", \"large\", \"large\", \"latte\", \"latte\", \"latte\", \"latte\", \"latte\", \"latte\", \"latte\", \"latte\", \"latte\", \"latte\", \"leased\", \"lf\", \"lf\", \"lf\", \"lf\", \"lf\", \"like\", \"like\", \"like\", \"like\", \"like\", \"like\", \"like\", \"like\", \"like\", \"like\", \"line\", \"line\", \"line\", \"line\", \"line\", \"line\", \"line\", \"line\", \"line\", \"line\", \"little\", \"little\", \"little\", \"little\", \"little\", \"little\", \"little\", \"little\", \"little\", \"little\", \"location\", \"location\", \"location\", \"location\", \"location\", \"location\", \"location\", \"location\", \"location\", \"location\", \"london\", \"london\", \"london\", \"london\", \"lot\", \"lot\", \"lot\", \"lot\", \"lot\", \"lot\", \"lot\", \"lot\", \"lot\", \"lot\", \"love\", \"love\", \"love\", \"love\", \"love\", \"love\", \"love\", \"love\", \"love\", \"love\", \"loved\", \"loved\", \"loved\", \"loved\", \"loved\", \"loved\", \"loved\", \"loved\", \"loved\", \"loved\", \"lovin\", \"lowdown\", \"lucia\", \"lukes\", \"lunch\", \"lunch\", \"lunch\", \"lunch\", \"lunch\", \"lunch\", \"lunch\", \"lunch\", \"lunch\", \"lunch\", \"lush\", \"lush\", \"lush\", \"macarons\", \"macarons\", \"macarons\", \"macaroon\", \"macaroon\", \"madame\", \"made\", \"made\", \"made\", \"made\", \"made\", \"made\", \"made\", \"made\", \"made\", \"made\", \"mae\", \"mae\", \"maggie\", \"mahalo\", \"make\", \"make\", \"make\", \"make\", \"make\", \"make\", \"make\", \"make\", \"make\", \"make\", \"manifesto\", \"manifesto\", \"many\", \"many\", \"many\", \"many\", \"many\", \"many\", \"many\", \"many\", \"many\", \"many\", \"marias\", \"marsh\", \"marshalls\", \"marshalls\", \"marylous\", \"massjunk\", \"mattress\", \"mattress\", \"mattress\", \"mattress\", \"mattress\", \"mattress\", \"mattress\", \"mattress\", \"maxines\", \"mayan\", \"mcds\", \"mcmenamins\", \"mcmenamins\", \"mcmenamins\", \"mcmenamins\", \"mcmenamins\", \"mcmenamins\", \"me\", \"me\", \"me\", \"me\", \"me\", \"me\", \"me\", \"me\", \"me\", \"me\", \"meal\", \"meal\", \"meal\", \"meal\", \"meal\", \"meal\", \"meal\", \"meal\", \"meal\", \"meal\", \"megaburn\", \"megaformer\", \"menu\", \"menu\", \"menu\", \"menu\", \"menu\", \"menu\", \"menu\", \"menu\", \"menu\", \"menu\", \"midafternoon\", \"milton\", \"milton\", \"minutes\", \"minutes\", \"minutes\", \"minutes\", \"minutes\", \"minutes\", \"minutes\", \"minutes\", \"minutes\", \"minutes\", \"misohot\", \"mona\", \"monarch\", \"moondog\", \"motza\", \"movie\", \"movie\", \"movie\", \"movie\", \"movie\", \"movie\", \"movie\", \"movie\", \"movie\", \"movie\", \"much\", \"much\", \"much\", \"much\", \"much\", \"much\", \"much\", \"much\", \"much\", \"much\", \"muffled\", \"muffler\", \"mykita\", \"naturalistic\", \"need\", \"need\", \"need\", \"need\", \"need\", \"need\", \"need\", \"need\", \"need\", \"need\", \"never\", \"never\", \"never\", \"never\", \"never\", \"never\", \"never\", \"never\", \"never\", \"never\", \"new\", \"new\", \"new\", \"new\", \"new\", \"new\", \"new\", \"new\", \"new\", \"new\", \"next\", \"next\", \"next\", \"next\", \"next\", \"next\", \"next\", \"next\", \"next\", \"next\", \"nice\", \"nice\", \"nice\", \"nice\", \"nice\", \"nice\", \"nice\", \"nice\", \"nice\", \"nice\", \"nicola\", \"night\", \"night\", \"night\", \"night\", \"night\", \"night\", \"night\", \"night\", \"night\", \"night\", \"nihari\", \"niknacs\", \"nobodys\", \"nobodys\", \"noho\", \"nora\", \"nouveau\", \"ntb\", \"octane\", \"ohhhh\", \"olv\", \"olv\", \"one\", \"one\", \"one\", \"one\", \"one\", \"one\", \"one\", \"one\", \"one\", \"one\", \"open\", \"open\", \"open\", \"open\", \"open\", \"open\", \"open\", \"open\", \"open\", \"open\", \"operationally\", \"ord\", \"order\", \"order\", \"order\", \"order\", \"order\", \"order\", \"order\", \"order\", \"order\", \"order\", \"ordered\", \"ordered\", \"ordered\", \"ordered\", \"ordered\", \"ordered\", \"ordered\", \"ordered\", \"ordered\", \"ordered\", \"ouchinsanely\", \"out\", \"out\", \"out\", \"out\", \"out\", \"out\", \"out\", \"out\", \"out\", \"out\", \"pablos\", \"paid\", \"paid\", \"paid\", \"paid\", \"paid\", \"paid\", \"paid\", \"paid\", \"paid\", \"paid\", \"pakoras\", \"park\", \"park\", \"park\", \"park\", \"park\", \"park\", \"park\", \"park\", \"park\", \"park\", \"parking\", \"parking\", \"parking\", \"parking\", \"parking\", \"parking\", \"parking\", \"parking\", \"parking\", \"parking\", \"pearson\", \"pedals\", \"pelican\", \"pellana\", \"people\", \"people\", \"people\", \"people\", \"people\", \"people\", \"people\", \"people\", \"people\", \"people\", \"pep\", \"pep\", \"pep\", \"pepperoni\", \"pepperoni\", \"pepperoni\", \"pepperoni\", \"pepperoni\", \"pepperoni\", \"pepperoni\", \"pepperoni\", \"pepperoni\", \"pepperoni\", \"perfect\", \"perfect\", \"perfect\", \"perfect\", \"perfect\", \"perfect\", \"perfect\", \"perfect\", \"perfect\", \"perfect\", \"piazza\", \"picadillo\", \"pinto\", \"pips\", \"pips\", \"pizza\", \"pizza\", \"pizza\", \"pizza\", \"pizza\", \"pizza\", \"pizza\", \"pizza\", \"pizza\", \"pizza\", \"place\", \"place\", \"place\", \"place\", \"place\", \"place\", \"place\", \"place\", \"place\", \"place\", \"placeit\", \"playscape\", \"playset\", \"playset\", \"pmp\", \"pok\", \"pok\", \"pok\", \"pok\", \"pok\", \"poorest\", \"poori\", \"poori\", \"port\", \"port\", \"port\", \"port\", \"port\", \"port\", \"port\", \"port\", \"posters\", \"pretty\", \"pretty\", \"pretty\", \"pretty\", \"pretty\", \"pretty\", \"pretty\", \"pretty\", \"pretty\", \"pretty\", \"price\", \"price\", \"price\", \"price\", \"price\", \"price\", \"price\", \"price\", \"price\", \"price\", \"pricesand\", \"pricesi\", \"primo\", \"principal\", \"principal\", \"programmed\", \"progressive\", \"progressive\", \"progressive\", \"progressive\", \"prosciuttoyawn\", \"prudential\", \"quik\", \"radius\", \"radius\", \"radius\", \"radius\", \"radius\", \"ralph\", \"ramble\", \"randy\", \"rash\", \"rash\", \"rash\", \"really\", \"really\", \"really\", \"really\", \"really\", \"really\", \"really\", \"really\", \"really\", \"really\", \"rebate\", \"rebate\", \"rebate\", \"receiver\", \"receiver\", \"recommend\", \"recommend\", \"recommend\", \"recommend\", \"recommend\", \"recommend\", \"recommend\", \"recommend\", \"recommend\", \"recommend\", \"regina\", \"regularly\", \"regularly\", \"regularly\", \"regularly\", \"regularly\", \"regularly\", \"regularly\", \"regularly\", \"regularly\", \"regularly\", \"renatto\", \"residence\", \"residence\", \"residence\", \"restaurant\", \"restaurant\", \"restaurant\", \"restaurant\", \"restaurant\", \"restaurant\", \"restaurant\", \"restaurant\", \"restaurant\", \"restaurant\", \"retrieved\", \"ricard\", \"rice\", \"rice\", \"rice\", \"rice\", \"rice\", \"rice\", \"rice\", \"rice\", \"rice\", \"rice\", \"rite\", \"rite\", \"rite\", \"robberies\", \"rodizio\", \"rodizio\", \"rodizio\", \"roll\", \"roll\", \"roll\", \"roll\", \"roll\", \"roll\", \"roll\", \"roll\", \"roll\", \"roll\", \"rolls\", \"rolls\", \"rolls\", \"rolls\", \"rolls\", \"rolls\", \"rolls\", \"rolls\", \"rolls\", \"rolls\", \"roman\", \"roman\", \"roman\", \"roman\", \"room\", \"room\", \"room\", \"room\", \"room\", \"room\", \"room\", \"room\", \"room\", \"room\", \"ryuji\", \"said\", \"said\", \"said\", \"said\", \"said\", \"said\", \"said\", \"said\", \"said\", \"said\", \"sales\", \"sales\", \"sales\", \"sales\", \"sales\", \"sales\", \"sales\", \"sales\", \"sales\", \"sales\", \"sanctum\", \"sanctum\", \"sandras\", \"sandwich\", \"sandwich\", \"sandwich\", \"sandwich\", \"sandwich\", \"sandwich\", \"sandwich\", \"sandwich\", \"sandwich\", \"sandwich\", \"sandwichs\", \"santouka\", \"satai\", \"sauce\", \"sauce\", \"sauce\", \"sauce\", \"sauce\", \"sauce\", \"sauce\", \"sauce\", \"sauce\", \"sauce\", \"savin\", \"schmidt\", \"schnitzel\", \"schnitzel\", \"schwarma\", \"scooped\", \"scooped\", \"scooped\", \"scooped\", \"scooped\", \"selection\", \"selection\", \"selection\", \"selection\", \"selection\", \"selection\", \"selection\", \"selection\", \"selection\", \"selection\", \"seligman\", \"seligman\", \"sensation\", \"service\", \"service\", \"service\", \"service\", \"service\", \"service\", \"service\", \"service\", \"service\", \"service\", \"sez\", \"sez\", \"sez\", \"sez\", \"sez\", \"sez\", \"shane\", \"shawarma\", \"shawarma\", \"shawarma\", \"shawarma\", \"shawarma\", \"shawarma\", \"shawarma\", \"sheesh\", \"shenoy\", \"shepards\", \"shepherds\", \"shucked\", \"siempre\", \"sighing\", \"simulator\", \"simulator\", \"skittles\", \"smokehouse\", \"smokehouse\", \"smore\", \"smore\", \"snip\", \"soho\", \"something\", \"something\", \"something\", \"something\", \"something\", \"something\", \"something\", \"something\", \"something\", \"something\", \"sometimes\", \"sometimes\", \"sometimes\", \"sometimes\", \"sometimes\", \"sometimes\", \"sometimes\", \"sometimes\", \"sometimes\", \"sometimes\", \"soozie\", \"sophies\", \"soup\", \"soup\", \"soup\", \"soup\", \"soup\", \"soup\", \"soup\", \"soup\", \"soup\", \"soup\", \"spangler\", \"spicy\", \"spicy\", \"spicy\", \"spicy\", \"spicy\", \"spicy\", \"spicy\", \"spicy\", \"spicy\", \"spicy\", \"spikes\", \"spiro\", \"staff\", \"staff\", \"staff\", \"staff\", \"staff\", \"staff\", \"staff\", \"staff\", \"staff\", \"staff\", \"staplehouse\", \"store\", \"store\", \"store\", \"store\", \"store\", \"store\", \"store\", \"store\", \"store\", \"store\", \"straightening\", \"straightening\", \"stubborn\", \"stumptown\", \"stumptown\", \"stumptown\", \"stumptown\", \"stumptown\", \"stumptown\", \"stumptown\", \"suburb\", \"sudra\", \"sudra\", \"sudra\", \"sunglasses\", \"sunglasses\", \"sunglasses\", \"sunrise\", \"sure\", \"sure\", \"sure\", \"sure\", \"sure\", \"sure\", \"sure\", \"sure\", \"sure\", \"sure\", \"sushi\", \"sushi\", \"sushi\", \"sushi\", \"sushi\", \"sushi\", \"sushi\", \"sushi\", \"sushi\", \"sushi\", \"sweats\", \"sweetberry\", \"table\", \"table\", \"table\", \"table\", \"table\", \"table\", \"table\", \"table\", \"table\", \"table\", \"tacodeli\", \"tailgate\", \"tamales\", \"tamales\", \"tamales\", \"tammie\", \"tan\", \"tan\", \"tan\", \"tan\", \"tan\", \"tan\", \"tan\", \"tan\", \"tao\", \"taylor\", \"taylor\", \"tea\", \"tea\", \"tea\", \"tea\", \"tea\", \"tea\", \"tea\", \"tea\", \"tea\", \"tea\", \"temaki\", \"temaki\", \"tewksbury\", \"thai\", \"thai\", \"thai\", \"thai\", \"thai\", \"thai\", \"thai\", \"thai\", \"thai\", \"thai\", \"thats\", \"thats\", \"thats\", \"thats\", \"thats\", \"thats\", \"thats\", \"thats\", \"thats\", \"thats\", \"thermonuclear\", \"thing\", \"thing\", \"thing\", \"thing\", \"thing\", \"thing\", \"thing\", \"thing\", \"thing\", \"thing\", \"think\", \"think\", \"think\", \"think\", \"think\", \"think\", \"think\", \"think\", \"think\", \"think\", \"thrilling\", \"thrilling\", \"thrilling\", \"tienda\", \"time\", \"time\", \"time\", \"time\", \"time\", \"time\", \"time\", \"time\", \"time\", \"time\", \"tittle\", \"toasties\", \"tofrom\", \"told\", \"told\", \"told\", \"told\", \"told\", \"told\", \"told\", \"told\", \"told\", \"told\", \"trackline\", \"try\", \"try\", \"try\", \"try\", \"try\", \"try\", \"try\", \"try\", \"try\", \"try\", \"tulips\", \"tutu\", \"two\", \"two\", \"two\", \"two\", \"two\", \"two\", \"two\", \"two\", \"two\", \"two\", \"undivided\", \"unphogettable\", \"us\", \"us\", \"us\", \"us\", \"us\", \"us\", \"us\", \"us\", \"us\", \"us\", \"ut\", \"ut\", \"vege\", \"veras\", \"verizon\", \"verizon\", \"verizon\", \"veterans\", \"vfood\", \"vietname\", \"viga\", \"villa\", \"villa\", \"visiting\", \"visiting\", \"visiting\", \"visiting\", \"visiting\", \"visiting\", \"visiting\", \"visiting\", \"visiting\", \"visiting\", \"volvos\", \"wait\", \"wait\", \"wait\", \"wait\", \"wait\", \"wait\", \"wait\", \"wait\", \"wait\", \"wait\", \"waited\", \"waited\", \"waited\", \"waited\", \"waited\", \"waited\", \"waited\", \"waited\", \"waited\", \"waited\", \"waitress\", \"waitress\", \"waitress\", \"waitress\", \"waitress\", \"waitress\", \"waitress\", \"waitress\", \"waitress\", \"waitress\", \"walgreens\", \"walgreens\", \"walgreens\", \"walgreens\", \"walgreens\", \"walgreens\", \"walgreens\", \"want\", \"want\", \"want\", \"want\", \"want\", \"want\", \"want\", \"want\", \"want\", \"want\", \"wasps\", \"watertown\", \"watertown\", \"watertown\", \"watertown\", \"week\", \"week\", \"week\", \"week\", \"week\", \"week\", \"week\", \"week\", \"week\", \"week\", \"well\", \"well\", \"well\", \"well\", \"well\", \"well\", \"well\", \"well\", \"well\", \"well\", \"wellbut\", \"went\", \"went\", \"went\", \"went\", \"went\", \"went\", \"went\", \"went\", \"went\", \"went\", \"westpark\", \"whimp\", \"windshield\", \"windshield\", \"windshield\", \"wingtastic\", \"wisdow\", \"witch\", \"witch\", \"witch\", \"witch\", \"witch\", \"witch\", \"witches\", \"witches\", \"wnb\", \"woburn\", \"wollaston\", \"work\", \"work\", \"work\", \"work\", \"work\", \"work\", \"work\", \"work\", \"work\", \"work\", \"worm\", \"worm\", \"would\", \"would\", \"would\", \"would\", \"would\", \"would\", \"would\", \"would\", \"would\", \"would\", \"xcellent\", \"xing\", \"years\", \"years\", \"years\", \"years\", \"years\", \"years\", \"years\", \"years\", \"years\", \"years\", \"yearsbest\", \"yvonne\", \"zalima\", \"zukes\"]}, \"R\": 30, \"lambda.step\": 0.01, \"plot.opts\": {\"xlab\": \"PC1\", \"ylab\": \"PC2\"}, \"topic.order\": [2, 1, 9, 8, 6, 10, 7, 5, 4, 3]};\n",
       "\n",
       "function LDAvis_load_lib(url, callback){\n",
       "  var s = document.createElement('script');\n",
       "  s.src = url;\n",
       "  s.async = true;\n",
       "  s.onreadystatechange = s.onload = callback;\n",
       "  s.onerror = function(){console.warn(\"failed to load library \" + url);};\n",
       "  document.getElementsByTagName(\"head\")[0].appendChild(s);\n",
       "}\n",
       "\n",
       "if(typeof(LDAvis) !== \"undefined\"){\n",
       "   // already loaded: just create the visualization\n",
       "   !function(LDAvis){\n",
       "       new LDAvis(\"#\" + \"ldavis_el1101625490072020002911965276\", ldavis_el1101625490072020002911965276_data);\n",
       "   }(LDAvis);\n",
       "}else if(typeof define === \"function\" && define.amd){\n",
       "   // require.js is available: use it to load d3/LDAvis\n",
       "   require.config({paths: {d3: \"https://d3js.org/d3.v5\"}});\n",
       "   require([\"d3\"], function(d3){\n",
       "      window.d3 = d3;\n",
       "      LDAvis_load_lib(\"https://cdn.jsdelivr.net/gh/bmabey/pyLDAvis@3.3.1/pyLDAvis/js/ldavis.v3.0.0.js\", function(){\n",
       "        new LDAvis(\"#\" + \"ldavis_el1101625490072020002911965276\", ldavis_el1101625490072020002911965276_data);\n",
       "      });\n",
       "    });\n",
       "}else{\n",
       "    // require.js not available: dynamically load d3 & LDAvis\n",
       "    LDAvis_load_lib(\"https://d3js.org/d3.v5.js\", function(){\n",
       "         LDAvis_load_lib(\"https://cdn.jsdelivr.net/gh/bmabey/pyLDAvis@3.3.1/pyLDAvis/js/ldavis.v3.0.0.js\", function(){\n",
       "                 new LDAvis(\"#\" + \"ldavis_el1101625490072020002911965276\", ldavis_el1101625490072020002911965276_data);\n",
       "            })\n",
       "         });\n",
       "}\n",
       "</script>"
      ],
      "text/plain": [
       "PreparedData(topic_coordinates=              x         y  topics  cluster       Freq\n",
       "topic                                                \n",
       "1     -0.008439  0.002180       1        1  14.737904\n",
       "0     -0.019174  0.003353       2        1  14.464276\n",
       "8     -0.011316  0.004659       3        1  14.045309\n",
       "7     -0.005297  0.000732       4        1  11.747411\n",
       "5     -0.001548  0.005465       5        1  10.944100\n",
       "9     -0.012135 -0.011461       6        1  10.581021\n",
       "6      0.005000  0.000953       7        1   9.731567\n",
       "4      0.010491  0.019260       8        1   6.056791\n",
       "3      0.011779 -0.030337       9        1   4.637484\n",
       "2      0.030638  0.005196      10        1   3.054137, topic_info=     Term         Freq        Total Category  logprob  loglift\n",
       "268  good  4581.000000  4581.000000  Default  30.0000  30.0000\n",
       "52    one  2965.000000  2965.000000  Default  29.0000  29.0000\n",
       "170  like  3292.000000  3292.000000  Default  28.0000  28.0000\n",
       "217  well  1669.000000  1669.000000  Default  27.0000  27.0000\n",
       "255  time  3201.000000  3201.000000  Default  26.0000  26.0000\n",
       "..    ...          ...          ...      ...      ...      ...\n",
       "151    go    50.300299  2447.888878  Topic10  -5.8341  -0.3963\n",
       "182  nice    44.802750  1703.380113  Topic10  -5.9498  -0.1494\n",
       "163    it    45.408863  1910.631568  Topic10  -5.9364  -0.2508\n",
       "296  came    42.663500  1413.848175  Topic10  -5.9987  -0.0121\n",
       "237    us    43.810968  1805.325292  Topic10  -5.9722  -0.2299\n",
       "\n",
       "[850 rows x 6 columns], token_table=       Topic      Freq       Term\n",
       "term                             \n",
       "5243       4  0.268748        abe\n",
       "5243      10  0.537496        abe\n",
       "7760       7  0.724771       abel\n",
       "14699      1  0.681357        abp\n",
       "12591      4  0.756976     adeana\n",
       "...      ...       ...        ...\n",
       "224       10  0.030167      years\n",
       "24014      8  0.583175  yearsbest\n",
       "23228      6  0.506432     yvonne\n",
       "8444       3  0.710089     zalima\n",
       "21121      8  0.796874      zukes\n",
       "\n",
       "[2245 rows x 3 columns], R=30, lambda_step=0.01, plot_opts={'xlab': 'PC1', 'ylab': 'PC2'}, topic_order=[2, 1, 9, 8, 6, 10, 7, 5, 4, 3])"
      ]
     },
     "execution_count": 114,
     "metadata": {},
     "output_type": "execute_result"
    }
   ],
   "source": [
    "import pyLDAvis.gensim_models\n",
    "import pickle \n",
    "import pyLDAvis\n",
    "import os\n",
    "# Visualize the topics\n",
    "pyLDAvis.enable_notebook()\n",
    "LDAvis_data_filepath = os.path.join('./words_in_review2_'+ str(num_topics))\n",
    "# # this is a bit time consuming - make the if statement True\n",
    "# # if you want to execute visualization prep yourself\n",
    "if 1 == 1:\n",
    "    LDAvis_prepared = pyLDAvis.gensim_models.prepare(lda_model, corpus, id2word)\n",
    "    with open(LDAvis_data_filepath, 'wb') as f:\n",
    "        pickle.dump(LDAvis_prepared, f)\n",
    "# load the pre-prepared pyLDAvis data from disk\n",
    "with open(LDAvis_data_filepath, 'rb') as f:\n",
    "    LDAvis_prepared = pickle.load(f)\n",
    "pyLDAvis.save_html(LDAvis_prepared,'./words_in_review2_'+ str(num_topics) +'.html')\n",
    "LDAvis_prepared"
   ]
  }
 ],
 "metadata": {
  "colab": {
   "collapsed_sections": [],
   "name": "Topic_analysis_and_predict.ipynb",
   "provenance": []
  },
  "kernelspec": {
   "display_name": "Python 3",
   "language": "python",
   "name": "python3"
  },
  "language_info": {
   "codemirror_mode": {
    "name": "ipython",
    "version": 3
   },
   "file_extension": ".py",
   "mimetype": "text/x-python",
   "name": "python",
   "nbconvert_exporter": "python",
   "pygments_lexer": "ipython3",
   "version": "3.8.8"
  }
 },
 "nbformat": 4,
 "nbformat_minor": 4
}
