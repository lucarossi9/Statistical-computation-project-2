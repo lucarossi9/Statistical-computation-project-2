{
 "cells": [
  {
   "cell_type": "code",
   "execution_count": 1,
   "metadata": {
    "colab": {
     "base_uri": "https://localhost:8080/"
    },
    "id": "BF3luvt1D17U",
    "outputId": "023609a1-1c5f-4ab1-b7a1-5cccbacd3bd0"
   },
   "outputs": [],
   "source": [
    "import pandas as pd\n",
    "import json"
   ]
  },
  {
   "cell_type": "code",
   "execution_count": 2,
   "metadata": {},
   "outputs": [],
   "source": [
    "df1 = pd.read_csv('review1.csv')\n",
    "df1=df1.drop(['review_id','funny','cool'], axis=1)"
   ]
  },
  {
   "cell_type": "code",
   "execution_count": 3,
   "metadata": {},
   "outputs": [],
   "source": [
    "df2 = pd.read_csv('review2.csv')\n",
    "df2=df2.drop(['review_id','funny','cool'], axis=1)"
   ]
  },
  {
   "cell_type": "code",
   "execution_count": 4,
   "metadata": {
    "tags": []
   },
   "outputs": [],
   "source": [
    "df3 = pd.read_csv('review3.csv')\n",
    "df3=df3.drop(['review_id','funny','cool'], axis=1)"
   ]
  },
  {
   "cell_type": "code",
   "execution_count": 5,
   "metadata": {},
   "outputs": [],
   "source": [
    "df4 = pd.read_csv('review4.csv')\n",
    "df4=df4.drop(['review_id','funny','cool'], axis=1)"
   ]
  },
  {
   "cell_type": "code",
   "execution_count": 6,
   "metadata": {},
   "outputs": [],
   "source": [
    "df5 = pd.read_csv('review5.csv')\n",
    "df5=df5.drop(['review_id','funny','cool'], axis=1)"
   ]
  },
  {
   "cell_type": "code",
   "execution_count": 7,
   "metadata": {},
   "outputs": [],
   "source": [
    "df6 = pd.read_csv('review6.csv')\n",
    "df6=df6.drop(['review_id','funny','cool'], axis=1)"
   ]
  },
  {
   "cell_type": "code",
   "execution_count": 8,
   "metadata": {},
   "outputs": [],
   "source": [
    "df7 = pd.read_csv('review7.csv')\n",
    "df7=df7.drop(['review_id','funny','cool'], axis=1)"
   ]
  },
  {
   "cell_type": "code",
   "execution_count": 9,
   "metadata": {},
   "outputs": [],
   "source": [
    "df8 = pd.read_csv('review8.csv')\n",
    "df8=df8.drop(['review_id','funny','cool'], axis=1)"
   ]
  },
  {
   "cell_type": "code",
   "execution_count": 10,
   "metadata": {},
   "outputs": [],
   "source": [
    "df9 = pd.read_csv('review9.csv')\n",
    "df9=df9.drop(['review_id','funny','cool'], axis=1)"
   ]
  },
  {
   "cell_type": "code",
   "execution_count": 11,
   "metadata": {},
   "outputs": [],
   "source": [
    "df10 = pd.read_csv('review10.csv')\n",
    "df10=df10.drop(['review_id','funny','cool'], axis=1)"
   ]
  },
  {
   "cell_type": "code",
   "execution_count": 12,
   "metadata": {},
   "outputs": [],
   "source": [
    "df11 = pd.read_csv('review11.csv')\n",
    "df11=df11.drop(['review_id','funny','cool'], axis=1)"
   ]
  },
  {
   "cell_type": "code",
   "execution_count": 13,
   "metadata": {},
   "outputs": [],
   "source": [
    "df12 = pd.read_csv('review12.csv')\n",
    "df12=df12.drop(['review_id','funny','cool'], axis=1)"
   ]
  },
  {
   "cell_type": "code",
   "execution_count": 14,
   "metadata": {},
   "outputs": [],
   "source": [
    "df13 = pd.read_csv('review13.csv')\n",
    "df13=df13.drop(['review_id','funny','cool'], axis=1)"
   ]
  },
  {
   "cell_type": "code",
   "execution_count": 15,
   "metadata": {},
   "outputs": [],
   "source": [
    "df14 = pd.read_csv('review14.csv')\n",
    "df14=df14.drop(['review_id','funny','cool'], axis=1)"
   ]
  },
  {
   "cell_type": "code",
   "execution_count": 16,
   "metadata": {},
   "outputs": [],
   "source": [
    "df15 = pd.read_csv('review15.csv')\n",
    "df15=df15.drop(['review_id','funny','cool'], axis=1)"
   ]
  },
  {
   "cell_type": "code",
   "execution_count": 17,
   "metadata": {},
   "outputs": [],
   "source": [
    "df16 = pd.read_csv('review16.csv')\n",
    "df16=df16.drop(['review_id','funny','cool'], axis=1)"
   ]
  },
  {
   "cell_type": "code",
   "execution_count": 18,
   "metadata": {},
   "outputs": [],
   "source": [
    "df17 = pd.read_csv('review17.csv')\n",
    "df17=df17.drop(['review_id','funny','cool'], axis=1)"
   ]
  },
  {
   "cell_type": "code",
   "execution_count": 19,
   "metadata": {},
   "outputs": [],
   "source": [
    "df18 = pd.read_csv('review18.csv')\n",
    "df18=df18.drop(['review_id','funny','cool'], axis=1)"
   ]
  },
  {
   "cell_type": "code",
   "execution_count": null,
   "metadata": {},
   "outputs": [],
   "source": [
    "#create a dataframe with all the reviews but without the text which is not relevant for the analysis\n",
    "frames = [df1, df2, df3,df4, df5, df6,df7, df8, df9,df10, df11, df12,df13, df14, df15,df16, df17, df18]\n",
    "df_r = pd.concat(frames)"
   ]
  },
  {
   "cell_type": "code",
   "execution_count": null,
   "metadata": {},
   "outputs": [],
   "source": [
    "df_r.head(2)"
   ]
  },
  {
   "cell_type": "code",
   "execution_count": null,
   "metadata": {
    "id": "YcN11PO3Eib0"
   },
   "outputs": [],
   "source": [
    "import numpy as np\n",
    "import dask.bag as db\n",
    "import dask.dataframe as dd # substitute of pandas to load the data in streams\n",
    "import dask.array as da"
   ]
  },
  {
   "cell_type": "code",
   "execution_count": null,
   "metadata": {
    "colab": {
     "base_uri": "https://localhost:8080/",
     "height": 204
    },
    "id": "WfSyUozGFfps",
    "outputId": "cdf1443b-fa07-4e6d-9c19-46c3fa28c193"
   },
   "outputs": [],
   "source": [
    "df_r.head()"
   ]
  },
  {
   "cell_type": "code",
   "execution_count": null,
   "metadata": {
    "colab": {
     "base_uri": "https://localhost:8080/"
    },
    "id": "Ysfh_N0TFrXs",
    "outputId": "f1b35e52-7b31-4bca-f63a-1d78202a2a82"
   },
   "outputs": [],
   "source": [
    "!pip install nltk"
   ]
  },
  {
   "cell_type": "code",
   "execution_count": null,
   "metadata": {
    "colab": {
     "base_uri": "https://localhost:8080/"
    },
    "id": "yq3nye3zHAL3",
    "outputId": "ec0ad4ae-033b-42a8-a5b7-deae49fe37d9"
   },
   "outputs": [],
   "source": [
    "import nltk\n",
    "import string\n",
    "nltk.download(\"stopwords\")"
   ]
  },
  {
   "cell_type": "code",
   "execution_count": null,
   "metadata": {
    "colab": {
     "base_uri": "https://localhost:8080/"
    },
    "id": "cy33u4uzH9A7",
    "outputId": "28386785-0c17-4efb-8a79-46c89d7b5017"
   },
   "outputs": [],
   "source": [
    "from nltk.corpus import stopwords\n",
    "sw_nltk = stopwords.words('english')\n",
    "print(sw_nltk)"
   ]
  },
  {
   "cell_type": "code",
   "execution_count": null,
   "metadata": {
    "id": "aYitT2A9IAXg"
   },
   "outputs": [],
   "source": [
    "#n = len(df_r['text'])\n",
    "df = df_r.sample(10000)\n",
    "nt = []\n",
    "for i in range(10000):\n",
    "  s = str(df['text'].values[i])\n",
    "  words = [word for word in s.split() if word.lower() not in sw_nltk]\n",
    "  new_text = \" \".join(words)\n",
    "  new_text = new_text.translate(str.maketrans('', '', string.punctuation))\n",
    "  nt.append(new_text.lower()) \n",
    "df['new_text'] = nt"
   ]
  },
  {
   "cell_type": "code",
   "execution_count": null,
   "metadata": {
    "colab": {
     "base_uri": "https://localhost:8080/",
     "height": 419
    },
    "id": "BrPrPg1PMteM",
    "outputId": "85c0ef7e-e0f5-4d63-d3a3-17720ab8c5d8"
   },
   "outputs": [],
   "source": [
    "df"
   ]
  },
  {
   "cell_type": "code",
   "execution_count": null,
   "metadata": {
    "colab": {
     "base_uri": "https://localhost:8080/"
    },
    "id": "my_AFFRPLFqz",
    "outputId": "fd44f8e9-aa86-41c1-f7a0-8c1d0bb7083a"
   },
   "outputs": [],
   "source": [
    "!pip install gensim"
   ]
  },
  {
   "cell_type": "code",
   "execution_count": null,
   "metadata": {
    "id": "ajbD0f-vRX8s"
   },
   "outputs": [],
   "source": [
    "import gensim"
   ]
  },
  {
   "cell_type": "code",
   "execution_count": null,
   "metadata": {
    "id": "R-A-xLIgRbyv"
   },
   "outputs": [],
   "source": [
    "from gensim.utils import simple_preprocess\n",
    "import gensim.corpora as corpora"
   ]
  },
  {
   "cell_type": "code",
   "execution_count": null,
   "metadata": {
    "id": "YDU-8jDZU1Jp"
   },
   "outputs": [],
   "source": [
    "def sent_to_words(sentences):\n",
    "    for sentence in sentences:\n",
    "        # deacc=True removes punctuations\n",
    "        yield(gensim.utils.simple_preprocess(str(sentence), deacc=True))"
   ]
  },
  {
   "cell_type": "code",
   "execution_count": null,
   "metadata": {
    "id": "KnNPP0NnWBNP"
   },
   "outputs": [],
   "source": [
    "data = df.new_text.values.tolist()\n",
    "data_words = list(sent_to_words(data))"
   ]
  },
  {
   "cell_type": "code",
   "execution_count": null,
   "metadata": {
    "id": "D7TismQgWGx1"
   },
   "outputs": [],
   "source": [
    "id2word = corpora.Dictionary(data_words)"
   ]
  },
  {
   "cell_type": "code",
   "execution_count": null,
   "metadata": {
    "id": "C2Iih2m0WPWC"
   },
   "outputs": [],
   "source": [
    "texts = data_words\n",
    "corpus = [id2word.doc2bow(text) for text in texts]"
   ]
  },
  {
   "cell_type": "code",
   "execution_count": null,
   "metadata": {
    "colab": {
     "base_uri": "https://localhost:8080/"
    },
    "id": "LczeToKXRh7m",
    "outputId": "9fb244f2-3f8a-4c0f-ae91-e435399848bf"
   },
   "outputs": [],
   "source": [
    "from pprint import pprint\n",
    "# number of topics\n",
    "num_topics = 10\n",
    "# Build LDA model\n",
    "lda_model = gensim.models.LdaMulticore(corpus=corpus,\n",
    "                                       id2word=id2word,\n",
    "                                       num_topics=num_topics)\n",
    "# Print the Keyword in the 10 topics\n",
    "pprint(lda_model.print_topics())\n",
    "doc_lda = lda_model[corpus]"
   ]
  },
  {
   "cell_type": "code",
   "execution_count": null,
   "metadata": {},
   "outputs": [],
   "source": [
    "df=df.drop(['date','useful','user_id','business_id'],axis=1)   "
   ]
  },
  {
   "cell_type": "code",
   "execution_count": null,
   "metadata": {},
   "outputs": [],
   "source": [
    "for i in range(10):\n",
    "    s=str(i)\n",
    "    df[s]=np.zeros(len(df))\n",
    "for i in range(len(df)):\n",
    "    l=lda_model.get_document_topics(corpus[i])\n",
    "    for a in l:\n",
    "        df[str(a[0])]=a[1]"
   ]
  },
  {
   "cell_type": "code",
   "execution_count": null,
   "metadata": {
    "id": "IBJh1-vzipWa"
   },
   "outputs": [],
   "source": [
    "review_topics = lda_model.get_document_topics(corpus[100])"
   ]
  },
  {
   "cell_type": "code",
   "execution_count": null,
   "metadata": {
    "colab": {
     "base_uri": "https://localhost:8080/"
    },
    "id": "772eqKiuiuLW",
    "outputId": "724498f7-d7ff-47ee-99f4-80917a10f5be"
   },
   "outputs": [],
   "source": [
    "type(review_topics[0][0])"
   ]
  },
  {
   "cell_type": "code",
   "execution_count": null,
   "metadata": {
    "colab": {
     "base_uri": "https://localhost:8080/",
     "height": 419
    },
    "id": "JuiKKIXHkhQ7",
    "outputId": "38a5771e-c235-4d19-ba67-cef31f3f7d91"
   },
   "outputs": [],
   "source": [
    "df.head(9)"
   ]
  },
  {
   "cell_type": "code",
   "execution_count": null,
   "metadata": {},
   "outputs": [],
   "source": [
    "!pip install pyLDAvis"
   ]
  },
  {
   "cell_type": "code",
   "execution_count": null,
   "metadata": {},
   "outputs": [],
   "source": [
    "import pyLDAvis.gensim_models\n",
    "import pickle \n",
    "import pyLDAvis\n",
    "import os\n",
    "# Visualize the topics\n",
    "pyLDAvis.enable_notebook()\n",
    "LDAvis_data_filepath = os.path.join('./words_in_review2_'+ str(num_topics))\n",
    "# # this is a bit time consuming - make the if statement True\n",
    "# # if you want to execute visualization prep yourself\n",
    "if 1 == 1:\n",
    "    LDAvis_prepared = pyLDAvis.gensim_models.prepare(lda_model, corpus, id2word)\n",
    "    with open(LDAvis_data_filepath, 'wb') as f:\n",
    "        pickle.dump(LDAvis_prepared, f)\n",
    "# load the pre-prepared pyLDAvis data from disk\n",
    "with open(LDAvis_data_filepath, 'rb') as f:\n",
    "    LDAvis_prepared = pickle.load(f)\n",
    "pyLDAvis.save_html(LDAvis_prepared,'./words_in_review2_'+ str(num_topics) +'.html')\n",
    "LDAvis_prepared"
   ]
  },
  {
   "cell_type": "code",
   "execution_count": null,
   "metadata": {},
   "outputs": [],
   "source": [
    "import sklearn \n",
    "from sklearn.ensemble import RandomForestRegressor\n",
    "from sklearn.model_selection import train_test_split\n",
    "from sklearn.model_selection import RandomizedSearchCV\n",
    "from sklearn.metrics import mean_squared_error"
   ]
  },
  {
   "cell_type": "code",
   "execution_count": null,
   "metadata": {},
   "outputs": [],
   "source": [
    "train, test = train_test_split(df, test_size=0.2)"
   ]
  },
  {
   "cell_type": "code",
   "execution_count": null,
   "metadata": {},
   "outputs": [],
   "source": [
    "train.head()"
   ]
  },
  {
   "cell_type": "code",
   "execution_count": null,
   "metadata": {},
   "outputs": [],
   "source": [
    "x_train, y_train = train.drop(columns = ['text', 'new_text', 'stars']), train['stars']"
   ]
  },
  {
   "cell_type": "code",
   "execution_count": null,
   "metadata": {},
   "outputs": [],
   "source": [
    "parameters = {'bootstrap': [True, False],\n",
    " 'max_depth': [10, 20, 30, 40, 50, 60, 70, 80, 90, 100, None],\n",
    " 'max_features': ['auto', 'sqrt'],\n",
    " 'min_samples_leaf': [1, 2, 4],\n",
    " 'min_samples_split': [2, 5, 10],\n",
    " 'n_estimators': [200, 400, 600, 800, 1000, 1200, 1400, 1600, 1800, 2000]}\n"
   ]
  },
  {
   "cell_type": "code",
   "execution_count": null,
   "metadata": {},
   "outputs": [],
   "source": [
    "rf_model = RandomForestRegressor()\n",
    "\n",
    "#we perform a grid search to find the best parameters in the param dictionary created before \n",
    "clf = RandomizedSearchCV(estimator= rf_model, param_distributions = parameters, n_iter = 20, scoring = 'neg_mean_squared_error', verbose=2, n_jobs=-1)\n",
    "#we fit the model with the best parameters\n",
    "clf.fit(x_train, y_train)"
   ]
  },
  {
   "cell_type": "code",
   "execution_count": null,
   "metadata": {},
   "outputs": [],
   "source": [
    "x_test, y_test = test.drop(columns = ['text', 'new_text', 'stars']), test['stars']"
   ]
  },
  {
   "cell_type": "code",
   "execution_count": null,
   "metadata": {},
   "outputs": [],
   "source": [
    "y_pred = clf.predict(x_test)"
   ]
  },
  {
   "cell_type": "code",
   "execution_count": null,
   "metadata": {},
   "outputs": [],
   "source": [
    "MSE = np.mean((y_pred-y_test)**2)"
   ]
  }
 ],
 "metadata": {
  "colab": {
   "collapsed_sections": [],
   "name": "Topic_analysis_and_predict.ipynb",
   "provenance": []
  },
  "kernelspec": {
   "display_name": "Python 3",
   "language": "python",
   "name": "python3"
  },
  "language_info": {
   "codemirror_mode": {
    "name": "ipython",
    "version": 3
   },
   "file_extension": ".py",
   "mimetype": "text/x-python",
   "name": "python",
   "nbconvert_exporter": "python",
   "pygments_lexer": "ipython3",
   "version": "3.8.8"
  }
 },
 "nbformat": 4,
 "nbformat_minor": 4
}
