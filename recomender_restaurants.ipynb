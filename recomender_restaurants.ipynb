{
  "nbformat": 4,
  "nbformat_minor": 5,
  "metadata": {
    "kernelspec": {
      "display_name": "Python 3 (ipykernel)",
      "language": "python",
      "name": "python3"
    },
    "language_info": {
      "codemirror_mode": {
        "name": "ipython",
        "version": 3
      },
      "file_extension": ".py",
      "mimetype": "text/x-python",
      "name": "python",
      "nbconvert_exporter": "python",
      "pygments_lexer": "ipython3",
      "version": "3.8.10"
    },
    "colab": {
      "name": "recomender_restaurants.ipynb",
      "provenance": [],
      "collapsed_sections": []
    }
  },
  "cells": [
    {
      "cell_type": "code",
      "metadata": {
        "colab": {
          "base_uri": "https://localhost:8080/",
          "height": 35
        },
        "id": "iJbSFCLaBWAu",
        "outputId": "9984a182-40e8-4331-9ccc-e420e09eced1"
      },
      "source": [
        "pwd"
      ],
      "id": "iJbSFCLaBWAu",
      "execution_count": null,
      "outputs": [
        {
          "output_type": "execute_result",
          "data": {
            "application/vnd.google.colaboratory.intrinsic+json": {
              "type": "string"
            },
            "text/plain": [
              "'/content'"
            ]
          },
          "metadata": {},
          "execution_count": 2
        }
      ]
    },
    {
      "cell_type": "code",
      "metadata": {
        "colab": {
          "base_uri": "https://localhost:8080/"
        },
        "id": "072ts1vCBbi2",
        "outputId": "e4085b47-05b6-4eec-b78b-17521beda12e"
      },
      "source": [
        "from google.colab import drive \n",
        "drive.mount('/content/drive')\n",
        "%cd /content/drive/MyDrive/Colab\\ Notebooks"
      ],
      "id": "072ts1vCBbi2",
      "execution_count": null,
      "outputs": [
        {
          "output_type": "stream",
          "name": "stdout",
          "text": [
            "Mounted at /content/drive\n",
            "/content/drive/MyDrive/Colab Notebooks\n"
          ]
        }
      ]
    },
    {
      "cell_type": "code",
      "metadata": {
        "colab": {
          "base_uri": "https://localhost:8080/"
        },
        "id": "A0-ntJCLB7gH",
        "outputId": "2640e6a7-175d-424f-fe50-7998b46a2c5a"
      },
      "source": [
        "!pip install \"dask[dataframe]\"\n",
        "!pip install \"dask[bag]\"\n",
        "!pip install \"dask[array]\""
      ],
      "id": "A0-ntJCLB7gH",
      "execution_count": null,
      "outputs": [
        {
          "output_type": "stream",
          "name": "stdout",
          "text": [
            "Requirement already satisfied: dask[dataframe] in /usr/local/lib/python3.7/dist-packages (2.12.0)\n",
            "Collecting partd>=0.3.10\n",
            "  Downloading partd-1.2.0-py3-none-any.whl (19 kB)\n",
            "Requirement already satisfied: pandas>=0.23.0 in /usr/local/lib/python3.7/dist-packages (from dask[dataframe]) (1.1.5)\n",
            "Collecting fsspec>=0.6.0\n",
            "  Downloading fsspec-2021.11.0-py3-none-any.whl (132 kB)\n",
            "\u001b[K     |████████████████████████████████| 132 kB 5.4 MB/s \n",
            "\u001b[?25hRequirement already satisfied: numpy>=1.13.0 in /usr/local/lib/python3.7/dist-packages (from dask[dataframe]) (1.19.5)\n",
            "Requirement already satisfied: toolz>=0.7.3 in /usr/local/lib/python3.7/dist-packages (from dask[dataframe]) (0.11.2)\n",
            "Requirement already satisfied: python-dateutil>=2.7.3 in /usr/local/lib/python3.7/dist-packages (from pandas>=0.23.0->dask[dataframe]) (2.8.2)\n",
            "Requirement already satisfied: pytz>=2017.2 in /usr/local/lib/python3.7/dist-packages (from pandas>=0.23.0->dask[dataframe]) (2018.9)\n",
            "Collecting locket\n",
            "  Downloading locket-0.2.1-py2.py3-none-any.whl (4.1 kB)\n",
            "Requirement already satisfied: six>=1.5 in /usr/local/lib/python3.7/dist-packages (from python-dateutil>=2.7.3->pandas>=0.23.0->dask[dataframe]) (1.15.0)\n",
            "Installing collected packages: locket, partd, fsspec\n",
            "Successfully installed fsspec-2021.11.0 locket-0.2.1 partd-1.2.0\n",
            "Requirement already satisfied: dask[bag] in /usr/local/lib/python3.7/dist-packages (2.12.0)\n",
            "Requirement already satisfied: cloudpickle>=0.2.1 in /usr/local/lib/python3.7/dist-packages (from dask[bag]) (1.3.0)\n",
            "Requirement already satisfied: fsspec>=0.6.0 in /usr/local/lib/python3.7/dist-packages (from dask[bag]) (2021.11.0)\n",
            "Requirement already satisfied: partd>=0.3.10 in /usr/local/lib/python3.7/dist-packages (from dask[bag]) (1.2.0)\n",
            "Requirement already satisfied: toolz>=0.7.3 in /usr/local/lib/python3.7/dist-packages (from dask[bag]) (0.11.2)\n",
            "Requirement already satisfied: locket in /usr/local/lib/python3.7/dist-packages (from partd>=0.3.10->dask[bag]) (0.2.1)\n",
            "Requirement already satisfied: dask[array] in /usr/local/lib/python3.7/dist-packages (2.12.0)\n",
            "Requirement already satisfied: numpy>=1.13.0 in /usr/local/lib/python3.7/dist-packages (from dask[array]) (1.19.5)\n",
            "Requirement already satisfied: toolz>=0.7.3 in /usr/local/lib/python3.7/dist-packages (from dask[array]) (0.11.2)\n"
          ]
        }
      ]
    },
    {
      "cell_type": "code",
      "metadata": {
        "id": "45b337bd-f8bc-4aad-928c-cec653c52ad8"
      },
      "source": [
        "import pandas as pd\n",
        "import json\n",
        "import numpy as np\n",
        "import dask.bag as db\n",
        "import dask.dataframe as dd # substitute of pandas to load the data in streams\n",
        "import dask.array as da"
      ],
      "id": "45b337bd-f8bc-4aad-928c-cec653c52ad8",
      "execution_count": null,
      "outputs": []
    },
    {
      "cell_type": "code",
      "metadata": {
        "colab": {
          "base_uri": "https://localhost:8080/",
          "height": 204
        },
        "id": "b57e6866-8e06-420e-b05d-c300b6e129df",
        "outputId": "dfd82fca-ea3b-47f8-a8df-ced59fc55ecc"
      },
      "source": [
        "# Import the review dataset as streams to avoid running out of memory\n",
        "dict_bag = db.read_text('yelp_academic_dataset_review.json', blocksize=int(5e6)).map(json.loads)\n",
        "df_r = dict_bag.to_dataframe(columns=['user_id', 'business_id', 'stars', 'useful', 'date'])\n",
        "df_r = df_r.repartition(npartitions=10)\n",
        "df_r.head()"
      ],
      "id": "b57e6866-8e06-420e-b05d-c300b6e129df",
      "execution_count": null,
      "outputs": [
        {
          "output_type": "execute_result",
          "data": {
            "text/html": [
              "<div>\n",
              "<style scoped>\n",
              "    .dataframe tbody tr th:only-of-type {\n",
              "        vertical-align: middle;\n",
              "    }\n",
              "\n",
              "    .dataframe tbody tr th {\n",
              "        vertical-align: top;\n",
              "    }\n",
              "\n",
              "    .dataframe thead th {\n",
              "        text-align: right;\n",
              "    }\n",
              "</style>\n",
              "<table border=\"1\" class=\"dataframe\">\n",
              "  <thead>\n",
              "    <tr style=\"text-align: right;\">\n",
              "      <th></th>\n",
              "      <th>user_id</th>\n",
              "      <th>business_id</th>\n",
              "      <th>stars</th>\n",
              "      <th>useful</th>\n",
              "      <th>date</th>\n",
              "    </tr>\n",
              "  </thead>\n",
              "  <tbody>\n",
              "    <tr>\n",
              "      <th>0</th>\n",
              "      <td>ak0TdVmGKo4pwqdJSTLwWw</td>\n",
              "      <td>buF9druCkbuXLX526sGELQ</td>\n",
              "      <td>4.0</td>\n",
              "      <td>3</td>\n",
              "      <td>2014-10-11 03:34:02</td>\n",
              "    </tr>\n",
              "    <tr>\n",
              "      <th>1</th>\n",
              "      <td>YoVfDbnISlW0f7abNQACIg</td>\n",
              "      <td>RA4V8pr014UyUbDvI-LW2A</td>\n",
              "      <td>4.0</td>\n",
              "      <td>1</td>\n",
              "      <td>2015-07-03 20:38:25</td>\n",
              "    </tr>\n",
              "    <tr>\n",
              "      <th>2</th>\n",
              "      <td>eC5evKn1TWDyHCyQAwguUw</td>\n",
              "      <td>_sS2LBIGNT5NQb6PD1Vtjw</td>\n",
              "      <td>5.0</td>\n",
              "      <td>0</td>\n",
              "      <td>2013-05-28 20:38:06</td>\n",
              "    </tr>\n",
              "    <tr>\n",
              "      <th>3</th>\n",
              "      <td>SFQ1jcnGguO0LYWnbbftAA</td>\n",
              "      <td>0AzLzHfOJgL7ROwhdww2ew</td>\n",
              "      <td>2.0</td>\n",
              "      <td>1</td>\n",
              "      <td>2010-01-08 02:29:15</td>\n",
              "    </tr>\n",
              "    <tr>\n",
              "      <th>4</th>\n",
              "      <td>0kA0PAJ8QFMeveQWHFqz2A</td>\n",
              "      <td>8zehGz9jnxPqXtOc7KaJxA</td>\n",
              "      <td>4.0</td>\n",
              "      <td>0</td>\n",
              "      <td>2011-07-28 18:05:01</td>\n",
              "    </tr>\n",
              "  </tbody>\n",
              "</table>\n",
              "</div>"
            ],
            "text/plain": [
              "                  user_id             business_id  ...  useful                 date\n",
              "0  ak0TdVmGKo4pwqdJSTLwWw  buF9druCkbuXLX526sGELQ  ...       3  2014-10-11 03:34:02\n",
              "1  YoVfDbnISlW0f7abNQACIg  RA4V8pr014UyUbDvI-LW2A  ...       1  2015-07-03 20:38:25\n",
              "2  eC5evKn1TWDyHCyQAwguUw  _sS2LBIGNT5NQb6PD1Vtjw  ...       0  2013-05-28 20:38:06\n",
              "3  SFQ1jcnGguO0LYWnbbftAA  0AzLzHfOJgL7ROwhdww2ew  ...       1  2010-01-08 02:29:15\n",
              "4  0kA0PAJ8QFMeveQWHFqz2A  8zehGz9jnxPqXtOc7KaJxA  ...       0  2011-07-28 18:05:01\n",
              "\n",
              "[5 rows x 5 columns]"
            ]
          },
          "metadata": {},
          "execution_count": 244
        }
      ]
    },
    {
      "cell_type": "code",
      "metadata": {
        "id": "d9ed0cf5-bc20-4ca6-84fa-0b4ee76777bc"
      },
      "source": [
        ""
      ],
      "id": "d9ed0cf5-bc20-4ca6-84fa-0b4ee76777bc",
      "execution_count": null,
      "outputs": []
    },
    {
      "cell_type": "code",
      "metadata": {
        "colab": {
          "base_uri": "https://localhost:8080/",
          "height": 204
        },
        "id": "4d99dcba-f9e6-4001-a014-ef9c12692663",
        "outputId": "6a360ddb-6420-40c1-e33f-f0a83f7b634b"
      },
      "source": [
        "# Business dataset\n",
        "dict_bag = db.read_text('yelp_academic_dataset_business.json', blocksize=int(5e6)).map(json.loads)\n",
        "df_b = dict_bag.to_dataframe(columns=['business_id', 'city', 'stars', 'review_count'])\n",
        "df_b = df_b.repartition(npartitions=10)\n",
        "df_b.head()"
      ],
      "id": "4d99dcba-f9e6-4001-a014-ef9c12692663",
      "execution_count": null,
      "outputs": [
        {
          "output_type": "execute_result",
          "data": {
            "text/html": [
              "<div>\n",
              "<style scoped>\n",
              "    .dataframe tbody tr th:only-of-type {\n",
              "        vertical-align: middle;\n",
              "    }\n",
              "\n",
              "    .dataframe tbody tr th {\n",
              "        vertical-align: top;\n",
              "    }\n",
              "\n",
              "    .dataframe thead th {\n",
              "        text-align: right;\n",
              "    }\n",
              "</style>\n",
              "<table border=\"1\" class=\"dataframe\">\n",
              "  <thead>\n",
              "    <tr style=\"text-align: right;\">\n",
              "      <th></th>\n",
              "      <th>business_id</th>\n",
              "      <th>city</th>\n",
              "      <th>stars</th>\n",
              "      <th>review_count</th>\n",
              "    </tr>\n",
              "  </thead>\n",
              "  <tbody>\n",
              "    <tr>\n",
              "      <th>0</th>\n",
              "      <td>6iYb2HFDywm3zjuRg0shjw</td>\n",
              "      <td>Boulder</td>\n",
              "      <td>4.0</td>\n",
              "      <td>86</td>\n",
              "    </tr>\n",
              "    <tr>\n",
              "      <th>1</th>\n",
              "      <td>tCbdrRPZA0oiIYSmHG3J0w</td>\n",
              "      <td>Portland</td>\n",
              "      <td>4.0</td>\n",
              "      <td>126</td>\n",
              "    </tr>\n",
              "    <tr>\n",
              "      <th>2</th>\n",
              "      <td>bvN78flM8NLprQ1a1y5dRg</td>\n",
              "      <td>Portland</td>\n",
              "      <td>4.5</td>\n",
              "      <td>13</td>\n",
              "    </tr>\n",
              "    <tr>\n",
              "      <th>3</th>\n",
              "      <td>oaepsyvc0J17qwi8cfrOWg</td>\n",
              "      <td>Orange City</td>\n",
              "      <td>3.0</td>\n",
              "      <td>8</td>\n",
              "    </tr>\n",
              "    <tr>\n",
              "      <th>4</th>\n",
              "      <td>PE9uqAjdw0E4-8mjGl3wVA</td>\n",
              "      <td>Atlanta</td>\n",
              "      <td>4.0</td>\n",
              "      <td>14</td>\n",
              "    </tr>\n",
              "  </tbody>\n",
              "</table>\n",
              "</div>"
            ],
            "text/plain": [
              "              business_id         city  stars  review_count\n",
              "0  6iYb2HFDywm3zjuRg0shjw      Boulder    4.0            86\n",
              "1  tCbdrRPZA0oiIYSmHG3J0w     Portland    4.0           126\n",
              "2  bvN78flM8NLprQ1a1y5dRg     Portland    4.5            13\n",
              "3  oaepsyvc0J17qwi8cfrOWg  Orange City    3.0             8\n",
              "4  PE9uqAjdw0E4-8mjGl3wVA      Atlanta    4.0            14"
            ]
          },
          "metadata": {},
          "execution_count": 245
        }
      ]
    },
    {
      "cell_type": "code",
      "metadata": {
        "colab": {
          "base_uri": "https://localhost:8080/",
          "height": 204
        },
        "id": "c38479f4-fbeb-400c-b579-970f8100c7c0",
        "outputId": "cbbbb84d-696a-4fab-d488-570e760f315b"
      },
      "source": [
        "# Users dataset (Import it in streams again)\n",
        "dict_bag = db.read_text('yelp_academic_dataset_user.json', blocksize=int(5e6)).map(json.loads)\n",
        "df_u = dict_bag.to_dataframe(columns=['user_id', 'friends', 'review_count'])\n",
        "df_u = df_u.repartition(npartitions=10)\n",
        "df_u.head()"
      ],
      "id": "c38479f4-fbeb-400c-b579-970f8100c7c0",
      "execution_count": null,
      "outputs": [
        {
          "output_type": "execute_result",
          "data": {
            "text/html": [
              "<div>\n",
              "<style scoped>\n",
              "    .dataframe tbody tr th:only-of-type {\n",
              "        vertical-align: middle;\n",
              "    }\n",
              "\n",
              "    .dataframe tbody tr th {\n",
              "        vertical-align: top;\n",
              "    }\n",
              "\n",
              "    .dataframe thead th {\n",
              "        text-align: right;\n",
              "    }\n",
              "</style>\n",
              "<table border=\"1\" class=\"dataframe\">\n",
              "  <thead>\n",
              "    <tr style=\"text-align: right;\">\n",
              "      <th></th>\n",
              "      <th>user_id</th>\n",
              "      <th>friends</th>\n",
              "      <th>review_count</th>\n",
              "    </tr>\n",
              "  </thead>\n",
              "  <tbody>\n",
              "    <tr>\n",
              "      <th>0</th>\n",
              "      <td>q_QQ5kBBwlCcbL1s4NVK3g</td>\n",
              "      <td>xBDpTUbai0DXrvxCe3X16Q, 7GPNBO496aecrjJfW6UWtg...</td>\n",
              "      <td>1220</td>\n",
              "    </tr>\n",
              "    <tr>\n",
              "      <th>1</th>\n",
              "      <td>dIIKEfOgo0KqUfGQvGikPg</td>\n",
              "      <td>XPzYf9_mwG2eXYP2BAGSTA, 2LooM5dcIk2o01nftYdPIg...</td>\n",
              "      <td>2136</td>\n",
              "    </tr>\n",
              "    <tr>\n",
              "      <th>2</th>\n",
              "      <td>D6ErcUnFALnCQN4b1W_TlA</td>\n",
              "      <td>GfB6sC4NJQvSI2ewbQrDNA, jhZtzZNNZJOU2YSZ6jPlXQ...</td>\n",
              "      <td>119</td>\n",
              "    </tr>\n",
              "    <tr>\n",
              "      <th>3</th>\n",
              "      <td>JnPIjvC0cmooNDfsa9BmXg</td>\n",
              "      <td>HQZPQhKMwRAyS6BCselVWQ, kP2U1s_sjQfHO9grxiyDTA...</td>\n",
              "      <td>987</td>\n",
              "    </tr>\n",
              "    <tr>\n",
              "      <th>4</th>\n",
              "      <td>37Hc8hr3cw0iHLoPzLK6Ow</td>\n",
              "      <td>-Q88pZUcrfN0BLBDp-bkAQ, etPn4Pv1Gc4cRZjRgB_BOw...</td>\n",
              "      <td>495</td>\n",
              "    </tr>\n",
              "  </tbody>\n",
              "</table>\n",
              "</div>"
            ],
            "text/plain": [
              "                  user_id  ... review_count\n",
              "0  q_QQ5kBBwlCcbL1s4NVK3g  ...         1220\n",
              "1  dIIKEfOgo0KqUfGQvGikPg  ...         2136\n",
              "2  D6ErcUnFALnCQN4b1W_TlA  ...          119\n",
              "3  JnPIjvC0cmooNDfsa9BmXg  ...          987\n",
              "4  37Hc8hr3cw0iHLoPzLK6Ow  ...          495\n",
              "\n",
              "[5 rows x 3 columns]"
            ]
          },
          "metadata": {},
          "execution_count": 246
        }
      ]
    },
    {
      "cell_type": "code",
      "metadata": {
        "colab": {
          "base_uri": "https://localhost:8080/",
          "height": 204
        },
        "id": "ea79753d-981a-4d80-acef-6b0d33ef9e1c",
        "outputId": "8c3457bc-a5a0-485e-a59a-ded3302153e4"
      },
      "source": [
        "# Recommender system using the rating of the reviews\n",
        "# We appoach it using low rank approximation techniques\n",
        "# We have 3 goals\n",
        "#   - Suggest new friends (to the users)\n",
        "#   - Recommend new restaurants (to the users)\n",
        "#   - Tell the restaurant which are possible competitors\n",
        "\n",
        "### Data Cleaning ###\n",
        "# Select a city\n",
        "area = 'Vancouver'\n",
        "df_b = df_b[df_b.city == area]\n",
        "df_b = df_b.drop('city', axis=1)\n",
        "# Active users / business\n",
        "df_b = df_b[df_b.review_count > 200]\n",
        "df_u = df_u[df_u.review_count > 100]\n",
        "# Select only the variables that we need now\n",
        "df_r = df_r[['user_id', 'business_id', 'stars']]\n",
        "df_u = df_u[['user_id']]\n",
        "df_b = df_b[['business_id']]\n",
        "\n",
        "# subset of users that reviewd in that city\n",
        "df_r = dd.merge(df_r, df_u, how='inner', on='user_id')\n",
        "df = dd.merge(df_r, df_b, how='inner', on='business_id')\n",
        "df.head()\n"
      ],
      "id": "ea79753d-981a-4d80-acef-6b0d33ef9e1c",
      "execution_count": null,
      "outputs": [
        {
          "output_type": "execute_result",
          "data": {
            "text/html": [
              "<div>\n",
              "<style scoped>\n",
              "    .dataframe tbody tr th:only-of-type {\n",
              "        vertical-align: middle;\n",
              "    }\n",
              "\n",
              "    .dataframe tbody tr th {\n",
              "        vertical-align: top;\n",
              "    }\n",
              "\n",
              "    .dataframe thead th {\n",
              "        text-align: right;\n",
              "    }\n",
              "</style>\n",
              "<table border=\"1\" class=\"dataframe\">\n",
              "  <thead>\n",
              "    <tr style=\"text-align: right;\">\n",
              "      <th></th>\n",
              "      <th>user_id</th>\n",
              "      <th>business_id</th>\n",
              "      <th>stars</th>\n",
              "    </tr>\n",
              "  </thead>\n",
              "  <tbody>\n",
              "    <tr>\n",
              "      <th>0</th>\n",
              "      <td>jKn_HycMvKa3yPHAUoCQAQ</td>\n",
              "      <td>eYmf3scmgHqJASKkRF0QCg</td>\n",
              "      <td>4.0</td>\n",
              "    </tr>\n",
              "    <tr>\n",
              "      <th>1</th>\n",
              "      <td>Z2x-sMYhTKmYEU5yuv75pA</td>\n",
              "      <td>eYmf3scmgHqJASKkRF0QCg</td>\n",
              "      <td>4.0</td>\n",
              "    </tr>\n",
              "    <tr>\n",
              "      <th>2</th>\n",
              "      <td>YWeHmeVtoc_RMmEfuEqBrA</td>\n",
              "      <td>eYmf3scmgHqJASKkRF0QCg</td>\n",
              "      <td>5.0</td>\n",
              "    </tr>\n",
              "    <tr>\n",
              "      <th>3</th>\n",
              "      <td>xC-q_yh0XwcjRLimkS3RNg</td>\n",
              "      <td>eYmf3scmgHqJASKkRF0QCg</td>\n",
              "      <td>5.0</td>\n",
              "    </tr>\n",
              "    <tr>\n",
              "      <th>4</th>\n",
              "      <td>mXRomu-YuObER_HJtpf_UA</td>\n",
              "      <td>eYmf3scmgHqJASKkRF0QCg</td>\n",
              "      <td>4.0</td>\n",
              "    </tr>\n",
              "  </tbody>\n",
              "</table>\n",
              "</div>"
            ],
            "text/plain": [
              "                  user_id             business_id  stars\n",
              "0  jKn_HycMvKa3yPHAUoCQAQ  eYmf3scmgHqJASKkRF0QCg    4.0\n",
              "1  Z2x-sMYhTKmYEU5yuv75pA  eYmf3scmgHqJASKkRF0QCg    4.0\n",
              "2  YWeHmeVtoc_RMmEfuEqBrA  eYmf3scmgHqJASKkRF0QCg    5.0\n",
              "3  xC-q_yh0XwcjRLimkS3RNg  eYmf3scmgHqJASKkRF0QCg    5.0\n",
              "4  mXRomu-YuObER_HJtpf_UA  eYmf3scmgHqJASKkRF0QCg    4.0"
            ]
          },
          "metadata": {},
          "execution_count": 247
        }
      ]
    },
    {
      "cell_type": "code",
      "metadata": {
        "id": "0f0cd8d0-8d7f-4abf-870d-7da25afde678"
      },
      "source": [
        "#df['stars'] = df['stars'].astype(np.int8)"
      ],
      "id": "0f0cd8d0-8d7f-4abf-870d-7da25afde678",
      "execution_count": null,
      "outputs": []
    },
    {
      "cell_type": "code",
      "metadata": {
        "id": "0d9a3aa2-f238-4da5-9fe5-6dc0b213b648"
      },
      "source": [
        "# reexpress the dataset in matrix form\n",
        "df = df.categorize(columns=['business_id'])\n",
        "#df.stars = df.stars.astype(np.int8)\n",
        "M = dd.reshape.pivot_table(df, index='user_id', columns='business_id', values='stars').fillna(0)\n"
      ],
      "id": "0d9a3aa2-f238-4da5-9fe5-6dc0b213b648",
      "execution_count": null,
      "outputs": []
    },
    {
      "cell_type": "code",
      "metadata": {
        "id": "FF0sJ3VKHZpw"
      },
      "source": [
        "M_df = M\n",
        "M = M.compute()\n",
        "M = M.to_numpy()\n",
        "star_mean = np.mean(M, axis = 1)\n",
        "M_std = M - star_mean.reshape(-1, 1)\n"
      ],
      "id": "FF0sJ3VKHZpw",
      "execution_count": null,
      "outputs": []
    },
    {
      "cell_type": "code",
      "metadata": {
        "id": "78767131-a3bb-4792-8d81-e054bf90821f"
      },
      "source": [
        "# Compute the SVD decomposition\n",
        "# choose rank\n",
        "k = 300  \n",
        "from scipy.sparse.linalg import svds\n",
        "U, sigma, Vt = svds(M_std, k)"
      ],
      "id": "78767131-a3bb-4792-8d81-e054bf90821f",
      "execution_count": null,
      "outputs": []
    },
    {
      "cell_type": "code",
      "metadata": {
        "id": "4b2342b7-b13a-4add-a80c-8c7b1cb07a99"
      },
      "source": [
        "# compute predicted rating for all the pairs user / business\n",
        "sigma = np.diag(sigma)\n",
        "pred_ratings = np.dot(np.dot(U, sigma), Vt) + star_mean.reshape(-1, 1)\n",
        "preds_df = pd.DataFrame(pred_ratings, index = M_df.index, columns = M_df.columns)"
      ],
      "id": "4b2342b7-b13a-4add-a80c-8c7b1cb07a99",
      "execution_count": null,
      "outputs": []
    },
    {
      "cell_type": "code",
      "metadata": {
        "id": "df7f79c6-41d6-442c-999d-f5a255fe16f4",
        "colab": {
          "base_uri": "https://localhost:8080/"
        },
        "outputId": "585b1ca8-935b-46a9-d8bf-3df72a815622"
      },
      "source": [
        "\n",
        "# user := user_id of the person that we want to suggest rec\n",
        "# n := number of recommendations\n",
        "user = 'YWeHmeVtoc_RMmEfuEqBrA'\n",
        "n = 10\n",
        "# select real reviews from user\n",
        "A = M_df.compute()\n",
        "A = A[A.index == user]\n",
        "A = A.T\n",
        "data = np.array([A.index, A[user]])\n",
        "user_data = pd.DataFrame(data.T, columns = ['business_id', 'stars'])\n",
        "# predicted reviews from user\n",
        "B = preds_df[preds_df.index == user]\n",
        "B = B.T\n",
        "data_B = np.array([B.index, B[user]])\n",
        "user_pred = pd.DataFrame(data_B.T, columns = ['business_id', 'stars'])\n",
        "#only recommend non previously rated business\n",
        "not_rated = pd.merge(user_data, user_pred, how='outer', on='business_id', indicator=True)\n",
        "#not_rated = not_rated[not_rated['_merge'] == 'right_only']\n",
        "not_rated = not_rated.sort_values(by=['stars_y'], ascending=False)\n",
        "not_rated['business_id'][:n]"
      ],
      "id": "df7f79c6-41d6-442c-999d-f5a255fe16f4",
      "execution_count": null,
      "outputs": [
        {
          "output_type": "execute_result",
          "data": {
            "text/plain": [
              "310    BdHvzCsxbLCErx36UcnMZQ\n",
              "128    UebEhMTqHL1XHOtRDmq6PQ\n",
              "0      eYmf3scmgHqJASKkRF0QCg\n",
              "220    R1yQ3WO1DT0TMZQ1AVsjAw\n",
              "407    HTJTTobu5hXM2Xgqj8OBgg\n",
              "270    l2f2PU8Rtr5TPtzwaGQ_sA\n",
              "225    DF60u_0flQzqTcBqaLL4Iw\n",
              "83     VPqWLp9kMiZEbctCebIZUA\n",
              "406    X0z6FAw48MIXuo6uhuwJQw\n",
              "301    K1943yeGQELTUeiH6bDa2g\n",
              "Name: business_id, dtype: object"
            ]
          },
          "metadata": {},
          "execution_count": 252
        }
      ]
    }
  ]
}