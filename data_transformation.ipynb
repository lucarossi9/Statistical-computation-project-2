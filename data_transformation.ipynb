{
  "nbformat": 4,
  "nbformat_minor": 0,
  "metadata": {
    "colab": {
      "name": "data_transformation.ipynb",
      "provenance": [],
      "collapsed_sections": []
    },
    "kernelspec": {
      "name": "python3",
      "display_name": "Python 3"
    },
    "language_info": {
      "name": "python"
    }
  },
  "cells": [
    {
      "cell_type": "code",
      "metadata": {
        "colab": {
          "base_uri": "https://localhost:8080/"
        },
        "id": "l0VGXhhWBiFD",
        "outputId": "b4f2c4da-43a5-4ff6-f06f-443fcf8531cf"
      },
      "source": [
        "from google.colab import drive \n",
        "drive.mount('/content/drive')\n",
        "%cd /content/drive/MyDrive/Colab\\ Notebooks"
      ],
      "execution_count": null,
      "outputs": [
        {
          "output_type": "stream",
          "name": "stdout",
          "text": [
            "Mounted at /content/drive\n",
            "/content/drive/MyDrive/Colab Notebooks\n"
          ]
        }
      ]
    },
    {
      "cell_type": "code",
      "metadata": {
        "colab": {
          "base_uri": "https://localhost:8080/"
        },
        "id": "4UliQTPDBzBA",
        "outputId": "cf946733-d6eb-4094-ee8a-a11c692d7a82"
      },
      "source": [
        "!pip install \"dask[dataframe]\"\n",
        "!pip install \"dask[bag]\"\n",
        "!pip install \"dask[array]\""
      ],
      "execution_count": null,
      "outputs": [
        {
          "output_type": "stream",
          "name": "stdout",
          "text": [
            "Requirement already satisfied: dask[dataframe] in /usr/local/lib/python3.7/dist-packages (2.12.0)\n",
            "Collecting partd>=0.3.10\n",
            "  Downloading partd-1.2.0-py3-none-any.whl (19 kB)\n",
            "Requirement already satisfied: pandas>=0.23.0 in /usr/local/lib/python3.7/dist-packages (from dask[dataframe]) (1.1.5)\n",
            "Requirement already satisfied: toolz>=0.7.3 in /usr/local/lib/python3.7/dist-packages (from dask[dataframe]) (0.11.2)\n",
            "Requirement already satisfied: numpy>=1.13.0 in /usr/local/lib/python3.7/dist-packages (from dask[dataframe]) (1.19.5)\n",
            "Collecting fsspec>=0.6.0\n",
            "  Downloading fsspec-2021.11.0-py3-none-any.whl (132 kB)\n",
            "\u001b[K     |████████████████████████████████| 132 kB 4.3 MB/s \n",
            "\u001b[?25hRequirement already satisfied: python-dateutil>=2.7.3 in /usr/local/lib/python3.7/dist-packages (from pandas>=0.23.0->dask[dataframe]) (2.8.2)\n",
            "Requirement already satisfied: pytz>=2017.2 in /usr/local/lib/python3.7/dist-packages (from pandas>=0.23.0->dask[dataframe]) (2018.9)\n",
            "Collecting locket\n",
            "  Downloading locket-0.2.1-py2.py3-none-any.whl (4.1 kB)\n",
            "Requirement already satisfied: six>=1.5 in /usr/local/lib/python3.7/dist-packages (from python-dateutil>=2.7.3->pandas>=0.23.0->dask[dataframe]) (1.15.0)\n",
            "Installing collected packages: locket, partd, fsspec\n",
            "Successfully installed fsspec-2021.11.0 locket-0.2.1 partd-1.2.0\n",
            "Requirement already satisfied: dask[bag] in /usr/local/lib/python3.7/dist-packages (2.12.0)\n",
            "Requirement already satisfied: partd>=0.3.10 in /usr/local/lib/python3.7/dist-packages (from dask[bag]) (1.2.0)\n",
            "Requirement already satisfied: fsspec>=0.6.0 in /usr/local/lib/python3.7/dist-packages (from dask[bag]) (2021.11.0)\n",
            "Requirement already satisfied: cloudpickle>=0.2.1 in /usr/local/lib/python3.7/dist-packages (from dask[bag]) (1.3.0)\n",
            "Requirement already satisfied: toolz>=0.7.3 in /usr/local/lib/python3.7/dist-packages (from dask[bag]) (0.11.2)\n",
            "Requirement already satisfied: locket in /usr/local/lib/python3.7/dist-packages (from partd>=0.3.10->dask[bag]) (0.2.1)\n",
            "Requirement already satisfied: dask[array] in /usr/local/lib/python3.7/dist-packages (2.12.0)\n",
            "Requirement already satisfied: toolz>=0.7.3 in /usr/local/lib/python3.7/dist-packages (from dask[array]) (0.11.2)\n",
            "Requirement already satisfied: numpy>=1.13.0 in /usr/local/lib/python3.7/dist-packages (from dask[array]) (1.19.5)\n"
          ]
        }
      ]
    },
    {
      "cell_type": "code",
      "metadata": {
        "id": "iZWdLFzUB7MP"
      },
      "source": [
        "import pandas as pd\n",
        "import json\n",
        "import numpy as np\n",
        "import dask.bag as db\n",
        "import dask.dataframe as dd # substitute of pandas to load the data in streams\n",
        "import dask.array as da\n",
        "import matplotlib.pyplot as plt"
      ],
      "execution_count": null,
      "outputs": []
    },
    {
      "cell_type": "code",
      "metadata": {
        "id": "MXWX83dsCBCZ"
      },
      "source": [
        "# Import the review dataset as streams to avoid running out of memory\n",
        "dict_bag = db.read_text('yelp_academic_dataset_review.json', blocksize=int(5e6)).map(json.loads)\n",
        "df_r = dict_bag.to_dataframe(columns=['business_id', 'stars', 'text'])\n",
        "df_r = df_r.repartition(npartitions=10)\n",
        "#df_r.head()"
      ],
      "execution_count": null,
      "outputs": []
    },
    {
      "cell_type": "code",
      "metadata": {
        "id": "Y1ZYVr39CGbV"
      },
      "source": [
        "# Business dataset\n",
        "dict_bag = db.read_text('yelp_academic_dataset_business.json', blocksize=int(5e6)).map(json.loads)\n",
        "df_b = dict_bag.to_dataframe(columns=['business_id', 'city', 'stars', 'categories'])\n",
        "df_b = df_b.repartition(npartitions=10)\n",
        "#df_b.head()"
      ],
      "execution_count": null,
      "outputs": []
    },
    {
      "cell_type": "code",
      "metadata": {
        "id": "gZmlJCuoCKlp"
      },
      "source": [
        "# Users dataset (Import it in streams again)\n",
        "dict_bag = db.read_text('yelp_academic_dataset_user.json', blocksize=int(5e6)).map(json.loads)\n",
        "df_u = dict_bag.to_dataframe(columns=['user_id', 'friends', 'review_count'])\n",
        "df_u = df_u.repartition(npartitions=10)\n",
        "#df_u.head()"
      ],
      "execution_count": null,
      "outputs": []
    },
    {
      "cell_type": "code",
      "metadata": {
        "id": "-VWsGB9wCgxb"
      },
      "source": [
        "df_b = df_b.compute()\n",
        "df_b = df_b.dropna()"
      ],
      "execution_count": null,
      "outputs": []
    },
    {
      "cell_type": "code",
      "metadata": {
        "id": "vMsmFVbFLrLm"
      },
      "source": [
        "df_b_mex = df_b[df_b['categories'].str.contains(\"Mexican\")]\n",
        "df_b_amer = df_b[df_b['categories'].str.contains(\"American\")]"
      ],
      "execution_count": null,
      "outputs": []
    },
    {
      "cell_type": "code",
      "metadata": {
        "id": "sDCUdLvQL3KK"
      },
      "source": [
        "df_r = df_r.compute()"
      ],
      "execution_count": null,
      "outputs": []
    },
    {
      "cell_type": "code",
      "metadata": {
        "id": "XqpAu_GpCuk9"
      },
      "source": [
        "df = pd.merge(df_b_mex, df_r, how='inner', on='business_id')"
      ],
      "execution_count": null,
      "outputs": []
    },
    {
      "cell_type": "code",
      "metadata": {
        "colab": {
          "base_uri": "https://localhost:8080/",
          "height": 204
        },
        "id": "Qo85TcUYNyki",
        "outputId": "437d9b77-c8ff-4b4c-8551-aae1d31b7ea8"
      },
      "source": [
        "df.head()"
      ],
      "execution_count": null,
      "outputs": [
        {
          "output_type": "execute_result",
          "data": {
            "text/html": [
              "<div>\n",
              "<style scoped>\n",
              "    .dataframe tbody tr th:only-of-type {\n",
              "        vertical-align: middle;\n",
              "    }\n",
              "\n",
              "    .dataframe tbody tr th {\n",
              "        vertical-align: top;\n",
              "    }\n",
              "\n",
              "    .dataframe thead th {\n",
              "        text-align: right;\n",
              "    }\n",
              "</style>\n",
              "<table border=\"1\" class=\"dataframe\">\n",
              "  <thead>\n",
              "    <tr style=\"text-align: right;\">\n",
              "      <th></th>\n",
              "      <th>business_id</th>\n",
              "      <th>city</th>\n",
              "      <th>stars_x</th>\n",
              "      <th>categories</th>\n",
              "      <th>stars_y</th>\n",
              "      <th>text</th>\n",
              "    </tr>\n",
              "  </thead>\n",
              "  <tbody>\n",
              "    <tr>\n",
              "      <th>0</th>\n",
              "      <td>Xw8tuI30T-xihpzwBV-zJg</td>\n",
              "      <td>Austin</td>\n",
              "      <td>5.0</td>\n",
              "      <td>Food Trucks, Restaurants, Specialty Food, Food...</td>\n",
              "      <td>5.0</td>\n",
              "      <td>I don't like the closeness to the road or the ...</td>\n",
              "    </tr>\n",
              "    <tr>\n",
              "      <th>1</th>\n",
              "      <td>Xw8tuI30T-xihpzwBV-zJg</td>\n",
              "      <td>Austin</td>\n",
              "      <td>5.0</td>\n",
              "      <td>Food Trucks, Restaurants, Specialty Food, Food...</td>\n",
              "      <td>4.0</td>\n",
              "      <td>Pretty solid food truck. I tried the Chicken T...</td>\n",
              "    </tr>\n",
              "    <tr>\n",
              "      <th>2</th>\n",
              "      <td>Xw8tuI30T-xihpzwBV-zJg</td>\n",
              "      <td>Austin</td>\n",
              "      <td>5.0</td>\n",
              "      <td>Food Trucks, Restaurants, Specialty Food, Food...</td>\n",
              "      <td>4.0</td>\n",
              "      <td>This is another trailer within about a mile of...</td>\n",
              "    </tr>\n",
              "    <tr>\n",
              "      <th>3</th>\n",
              "      <td>Xw8tuI30T-xihpzwBV-zJg</td>\n",
              "      <td>Austin</td>\n",
              "      <td>5.0</td>\n",
              "      <td>Food Trucks, Restaurants, Specialty Food, Food...</td>\n",
              "      <td>5.0</td>\n",
              "      <td>I love this stand and eat here frequently. The...</td>\n",
              "    </tr>\n",
              "    <tr>\n",
              "      <th>4</th>\n",
              "      <td>Xw8tuI30T-xihpzwBV-zJg</td>\n",
              "      <td>Austin</td>\n",
              "      <td>5.0</td>\n",
              "      <td>Food Trucks, Restaurants, Specialty Food, Food...</td>\n",
              "      <td>5.0</td>\n",
              "      <td>While doing the touristy thing we happened upo...</td>\n",
              "    </tr>\n",
              "  </tbody>\n",
              "</table>\n",
              "</div>"
            ],
            "text/plain": [
              "              business_id  ...                                               text\n",
              "0  Xw8tuI30T-xihpzwBV-zJg  ...  I don't like the closeness to the road or the ...\n",
              "1  Xw8tuI30T-xihpzwBV-zJg  ...  Pretty solid food truck. I tried the Chicken T...\n",
              "2  Xw8tuI30T-xihpzwBV-zJg  ...  This is another trailer within about a mile of...\n",
              "3  Xw8tuI30T-xihpzwBV-zJg  ...  I love this stand and eat here frequently. The...\n",
              "4  Xw8tuI30T-xihpzwBV-zJg  ...  While doing the touristy thing we happened upo...\n",
              "\n",
              "[5 rows x 6 columns]"
            ]
          },
          "metadata": {},
          "execution_count": 17
        }
      ]
    },
    {
      "cell_type": "code",
      "metadata": {
        "id": "w7lB3_mNHXDp"
      },
      "source": [
        "import feather\n",
        "path = 'business_mex.feather'\n",
        "feather.write_dataframe(df_b, path)\n",
        "path2 = 'review_mex.feather'\n",
        "feather.write_dataframe(df, path2)"
      ],
      "execution_count": null,
      "outputs": []
    },
    {
      "cell_type": "code",
      "metadata": {
        "id": "BRjdOPuT1D2s"
      },
      "source": [
        "df_b.to_csv('american.csv')"
      ],
      "execution_count": null,
      "outputs": []
    },
    {
      "cell_type": "code",
      "metadata": {
        "id": "JW31HAmrTkIM"
      },
      "source": [
        "df_b.to_csv('business.csv')"
      ],
      "execution_count": null,
      "outputs": []
    },
    {
      "cell_type": "code",
      "metadata": {
        "id": "LzoTXGe3E5BB"
      },
      "source": [
        "# Text analysis of reviews to mexican restaurants"
      ],
      "execution_count": null,
      "outputs": []
    },
    {
      "cell_type": "code",
      "metadata": {
        "colab": {
          "base_uri": "https://localhost:8080/"
        },
        "id": "4IYl-HlKFLe7",
        "outputId": "8b58ff6d-8ec5-4a22-bb99-de843c4811b4"
      },
      "source": [
        "!pip install sklearn\n",
        "!pip install nltk"
      ],
      "execution_count": null,
      "outputs": [
        {
          "output_type": "stream",
          "name": "stdout",
          "text": [
            "Requirement already satisfied: sklearn in /usr/local/lib/python3.7/dist-packages (0.0)\n",
            "Requirement already satisfied: scikit-learn in /usr/local/lib/python3.7/dist-packages (from sklearn) (1.0.1)\n",
            "Requirement already satisfied: numpy>=1.14.6 in /usr/local/lib/python3.7/dist-packages (from scikit-learn->sklearn) (1.19.5)\n",
            "Requirement already satisfied: threadpoolctl>=2.0.0 in /usr/local/lib/python3.7/dist-packages (from scikit-learn->sklearn) (3.0.0)\n",
            "Requirement already satisfied: scipy>=1.1.0 in /usr/local/lib/python3.7/dist-packages (from scikit-learn->sklearn) (1.4.1)\n",
            "Requirement already satisfied: joblib>=0.11 in /usr/local/lib/python3.7/dist-packages (from scikit-learn->sklearn) (1.1.0)\n",
            "Requirement already satisfied: nltk in /usr/local/lib/python3.7/dist-packages (3.2.5)\n",
            "Requirement already satisfied: six in /usr/local/lib/python3.7/dist-packages (from nltk) (1.15.0)\n"
          ]
        }
      ]
    },
    {
      "cell_type": "code",
      "metadata": {
        "colab": {
          "base_uri": "https://localhost:8080/"
        },
        "id": "fGDv6gQVE9GI",
        "outputId": "23a81157-269a-4ee7-c7b4-af0674d90036"
      },
      "source": [
        "#Cleaning\n",
        "import nltk\n",
        "import string\n",
        "from nltk.corpus import stopwords\n",
        "nltk.download(\"stopwords\")\n",
        "sw_nltk = stopwords.words('english')\n",
        "nt = []\n",
        "n = 480501\n",
        "for i in range(n):\n",
        "  s = str(df['text'].values[i])\n",
        "  words = [word for word in s.split() if word.lower() not in sw_nltk]\n",
        "  new_text = \" \".join(words)\n",
        "  new_text = new_text.translate(str.maketrans('', '', string.punctuation))\n",
        "  nt.append(new_text.lower()) \n",
        "df['new_text'] = nt"
      ],
      "execution_count": null,
      "outputs": [
        {
          "output_type": "stream",
          "name": "stdout",
          "text": [
            "[nltk_data] Downloading package stopwords to /root/nltk_data...\n",
            "[nltk_data]   Unzipping corpora/stopwords.zip.\n"
          ]
        }
      ]
    },
    {
      "cell_type": "code",
      "metadata": {
        "id": "7-CSG6XjHasC"
      },
      "source": [
        "df = df.drop(columns='text')"
      ],
      "execution_count": null,
      "outputs": []
    },
    {
      "cell_type": "code",
      "metadata": {
        "id": "XMhHedQ4NRkQ"
      },
      "source": [
        "tokens = df['new_text'].str.split().tolist()\n",
        "# # Create a counter for each work and it's frequency\n",
        "# from collections import Counter\n",
        "# counter = Counter(tokens) \n",
        "# # Keep top X words with higher frequency\n",
        "# most_occur = Counter.most_common(1000) "
      ],
      "execution_count": null,
      "outputs": []
    },
    {
      "cell_type": "code",
      "metadata": {
        "id": "yInM5jLJRUWh"
      },
      "source": [
        "from collections import Counter\n",
        "count = dict(Counter(word for sentence in tokens for word in sentence))\n",
        "important = {key: value for key, value in count.items() if value > 1000}"
      ],
      "execution_count": null,
      "outputs": []
    },
    {
      "cell_type": "code",
      "metadata": {
        "id": "7w9xZRwkRdCC"
      },
      "source": [
        "words = np.array([key for key, value in important.items()])\n",
        "vec_words = full_text = ' '.join(words)"
      ],
      "execution_count": null,
      "outputs": []
    },
    {
      "cell_type": "code",
      "metadata": {
        "colab": {
          "base_uri": "https://localhost:8080/",
          "height": 215
        },
        "id": "y5Nr6Jm5UVk_",
        "outputId": "c869b98f-1268-40d0-d8ab-afab99cc650a"
      },
      "source": [
        "from wordcloud import WordCloud\n",
        "my_stop_words = set(stopwords.words('english')+ ['one', 'order', 'side', 'make'])\n",
        "cloud_no_stopword = WordCloud(background_color='white', stopwords=my_stop_words).generate(vec_words)\n",
        "plt.imshow(cloud_no_stopword, interpolation='bilinear')\n",
        "plt.axis('off')\n",
        "plt.show()\n",
        "plt.savefig('words1.png')\n"
      ],
      "execution_count": null,
      "outputs": [
        {
          "output_type": "display_data",
          "data": {
            "image/png": "[encoded data removed]",
            "text/plain": [
              "<Figure size 432x288 with 1 Axes>"
            ]
          },
          "metadata": {
            "needs_background": "light"
          }
        },
        {
          "output_type": "display_data",
          "data": {
            "text/plain": [
              "<Figure size 432x288 with 0 Axes>"
            ]
          },
          "metadata": {}
        }
      ]
    },
    {
      "cell_type": "code",
      "metadata": {
        "colab": {
          "base_uri": "https://localhost:8080/",
          "height": 419
        },
        "id": "Zsv9KT1BTodS",
        "outputId": "c235ef90-1dc3-4006-b160-aa910f93f3f3"
      },
      "source": [
        "# Analyz only bad reviews\n",
        "df2 = df\n",
        "df = df[df.stars_x < 2.5]\n",
        "df"
      ],
      "execution_count": null,
      "outputs": [
        {
          "output_type": "execute_result",
          "data": {
            "text/html": [
              "<div>\n",
              "<style scoped>\n",
              "    .dataframe tbody tr th:only-of-type {\n",
              "        vertical-align: middle;\n",
              "    }\n",
              "\n",
              "    .dataframe tbody tr th {\n",
              "        vertical-align: top;\n",
              "    }\n",
              "\n",
              "    .dataframe thead th {\n",
              "        text-align: right;\n",
              "    }\n",
              "</style>\n",
              "<table border=\"1\" class=\"dataframe\">\n",
              "  <thead>\n",
              "    <tr style=\"text-align: right;\">\n",
              "      <th></th>\n",
              "      <th>business_id</th>\n",
              "      <th>city</th>\n",
              "      <th>stars_x</th>\n",
              "      <th>categories</th>\n",
              "      <th>stars_y</th>\n",
              "      <th>text</th>\n",
              "    </tr>\n",
              "  </thead>\n",
              "  <tbody>\n",
              "    <tr>\n",
              "      <th>11</th>\n",
              "      <td>Of6xu3pY3eHe2yhiyz2dvg</td>\n",
              "      <td>Boulder</td>\n",
              "      <td>1.5</td>\n",
              "      <td>Restaurants, Tex-Mex, Tacos, Fast Food, Breakf...</td>\n",
              "      <td>4.0</td>\n",
              "      <td>Literally not a thing, anything at all,  in my...</td>\n",
              "    </tr>\n",
              "    <tr>\n",
              "      <th>12</th>\n",
              "      <td>Of6xu3pY3eHe2yhiyz2dvg</td>\n",
              "      <td>Boulder</td>\n",
              "      <td>1.5</td>\n",
              "      <td>Restaurants, Tex-Mex, Tacos, Fast Food, Breakf...</td>\n",
              "      <td>1.0</td>\n",
              "      <td>This is probably the worst Taco Bell I've ever...</td>\n",
              "    </tr>\n",
              "    <tr>\n",
              "      <th>13</th>\n",
              "      <td>Of6xu3pY3eHe2yhiyz2dvg</td>\n",
              "      <td>Boulder</td>\n",
              "      <td>1.5</td>\n",
              "      <td>Restaurants, Tex-Mex, Tacos, Fast Food, Breakf...</td>\n",
              "      <td>2.0</td>\n",
              "      <td>A few years back a guy offered to take me here...</td>\n",
              "    </tr>\n",
              "    <tr>\n",
              "      <th>14</th>\n",
              "      <td>Of6xu3pY3eHe2yhiyz2dvg</td>\n",
              "      <td>Boulder</td>\n",
              "      <td>1.5</td>\n",
              "      <td>Restaurants, Tex-Mex, Tacos, Fast Food, Breakf...</td>\n",
              "      <td>1.0</td>\n",
              "      <td>the employee is bathing in the parking lot whi...</td>\n",
              "    </tr>\n",
              "    <tr>\n",
              "      <th>15</th>\n",
              "      <td>Of6xu3pY3eHe2yhiyz2dvg</td>\n",
              "      <td>Boulder</td>\n",
              "      <td>1.5</td>\n",
              "      <td>Restaurants, Tex-Mex, Tacos, Fast Food, Breakf...</td>\n",
              "      <td>1.0</td>\n",
              "      <td>Like others have said, this place is always cl...</td>\n",
              "    </tr>\n",
              "    <tr>\n",
              "      <th>...</th>\n",
              "      <td>...</td>\n",
              "      <td>...</td>\n",
              "      <td>...</td>\n",
              "      <td>...</td>\n",
              "      <td>...</td>\n",
              "      <td>...</td>\n",
              "    </tr>\n",
              "    <tr>\n",
              "      <th>479626</th>\n",
              "      <td>sexYEzEBgE2sxgI5InSaDQ</td>\n",
              "      <td>Austin</td>\n",
              "      <td>2.0</td>\n",
              "      <td>Restaurants, Mexican, Breakfast &amp; Brunch, Tex-...</td>\n",
              "      <td>1.0</td>\n",
              "      <td>Long time Taco Bell supporter (yes, I know whe...</td>\n",
              "    </tr>\n",
              "    <tr>\n",
              "      <th>479627</th>\n",
              "      <td>sexYEzEBgE2sxgI5InSaDQ</td>\n",
              "      <td>Austin</td>\n",
              "      <td>2.0</td>\n",
              "      <td>Restaurants, Mexican, Breakfast &amp; Brunch, Tex-...</td>\n",
              "      <td>1.0</td>\n",
              "      <td>Let me start by saying, I rarely eat fast food...</td>\n",
              "    </tr>\n",
              "    <tr>\n",
              "      <th>479628</th>\n",
              "      <td>sexYEzEBgE2sxgI5InSaDQ</td>\n",
              "      <td>Austin</td>\n",
              "      <td>2.0</td>\n",
              "      <td>Restaurants, Mexican, Breakfast &amp; Brunch, Tex-...</td>\n",
              "      <td>1.0</td>\n",
              "      <td>The worst service of all of the chains, was th...</td>\n",
              "    </tr>\n",
              "    <tr>\n",
              "      <th>479629</th>\n",
              "      <td>sexYEzEBgE2sxgI5InSaDQ</td>\n",
              "      <td>Austin</td>\n",
              "      <td>2.0</td>\n",
              "      <td>Restaurants, Mexican, Breakfast &amp; Brunch, Tex-...</td>\n",
              "      <td>1.0</td>\n",
              "      <td>I love Taco Bell but this one here is by far t...</td>\n",
              "    </tr>\n",
              "    <tr>\n",
              "      <th>479630</th>\n",
              "      <td>sexYEzEBgE2sxgI5InSaDQ</td>\n",
              "      <td>Austin</td>\n",
              "      <td>2.0</td>\n",
              "      <td>Restaurants, Mexican, Breakfast &amp; Brunch, Tex-...</td>\n",
              "      <td>1.0</td>\n",
              "      <td>Intensely unfriendly, slow, and unhygienic. Wo...</td>\n",
              "    </tr>\n",
              "  </tbody>\n",
              "</table>\n",
              "<p>12300 rows × 6 columns</p>\n",
              "</div>"
            ],
            "text/plain": [
              "                   business_id  ...                                               text\n",
              "11      Of6xu3pY3eHe2yhiyz2dvg  ...  Literally not a thing, anything at all,  in my...\n",
              "12      Of6xu3pY3eHe2yhiyz2dvg  ...  This is probably the worst Taco Bell I've ever...\n",
              "13      Of6xu3pY3eHe2yhiyz2dvg  ...  A few years back a guy offered to take me here...\n",
              "14      Of6xu3pY3eHe2yhiyz2dvg  ...  the employee is bathing in the parking lot whi...\n",
              "15      Of6xu3pY3eHe2yhiyz2dvg  ...  Like others have said, this place is always cl...\n",
              "...                        ...  ...                                                ...\n",
              "479626  sexYEzEBgE2sxgI5InSaDQ  ...  Long time Taco Bell supporter (yes, I know whe...\n",
              "479627  sexYEzEBgE2sxgI5InSaDQ  ...  Let me start by saying, I rarely eat fast food...\n",
              "479628  sexYEzEBgE2sxgI5InSaDQ  ...  The worst service of all of the chains, was th...\n",
              "479629  sexYEzEBgE2sxgI5InSaDQ  ...  I love Taco Bell but this one here is by far t...\n",
              "479630  sexYEzEBgE2sxgI5InSaDQ  ...  Intensely unfriendly, slow, and unhygienic. Wo...\n",
              "\n",
              "[12300 rows x 6 columns]"
            ]
          },
          "metadata": {},
          "execution_count": 13
        }
      ]
    },
    {
      "cell_type": "code",
      "metadata": {
        "colab": {
          "base_uri": "https://localhost:8080/"
        },
        "id": "rY5AwR2I15-M",
        "outputId": "1f4f2f7b-04c7-4d30-9519-4ac536428571"
      },
      "source": [
        "import nltk\n",
        "import string\n",
        "from nltk.corpus import stopwords\n",
        "nltk.download(\"stopwords\")\n",
        "sw_nltk = stopwords.words('english')\n",
        "nt = []\n",
        "n = 12300\n",
        "for i in range(n):\n",
        "  s = str(df['text'].values[i])\n",
        "  words = [word for word in s.split() if word.lower() not in sw_nltk]\n",
        "  new_text = \" \".join(words)\n",
        "  new_text = new_text.translate(str.maketrans('', '', string.punctuation))\n",
        "  nt.append(new_text.lower()) \n",
        "df['new_text'] = nt"
      ],
      "execution_count": null,
      "outputs": [
        {
          "output_type": "stream",
          "name": "stdout",
          "text": [
            "[nltk_data] Downloading package stopwords to /root/nltk_data...\n",
            "[nltk_data]   Unzipping corpora/stopwords.zip.\n"
          ]
        },
        {
          "output_type": "stream",
          "name": "stderr",
          "text": [
            "/usr/local/lib/python3.7/dist-packages/ipykernel_launcher.py:14: SettingWithCopyWarning: \n",
            "A value is trying to be set on a copy of a slice from a DataFrame.\n",
            "Try using .loc[row_indexer,col_indexer] = value instead\n",
            "\n",
            "See the caveats in the documentation: https://pandas.pydata.org/pandas-docs/stable/user_guide/indexing.html#returning-a-view-versus-a-copy\n",
            "  \n"
          ]
        }
      ]
    },
    {
      "cell_type": "code",
      "metadata": {
        "id": "1_6Er4gv2jKY"
      },
      "source": [
        "df = df.drop(columns='text')\n",
        "tokens = df['new_text'].str.split().tolist()\n",
        "from collections import Counter\n",
        "count = dict(Counter(word for sentence in tokens for word in sentence))\n",
        "important = {key: value for key, value in count.items() if value > 1000}\n",
        "words = np.array([key for key, value in important.items()])\n",
        "vec_words = full_text = ' '.join(words)"
      ],
      "execution_count": null,
      "outputs": []
    },
    {
      "cell_type": "code",
      "metadata": {
        "colab": {
          "base_uri": "https://localhost:8080/",
          "height": 215
        },
        "id": "r9WFceOU2ykq",
        "outputId": "c418c394-4fca-4db8-eb2b-79c02c0929e8"
      },
      "source": [
        "from wordcloud import WordCloud\n",
        "my_stop_words = set(stopwords.words('english')+ ['one', 'order', 'side', 'make'])\n",
        "cloud_no_stopword = WordCloud(background_color='white', stopwords=my_stop_words).generate(vec_words)\n",
        "plt.imshow(cloud_no_stopword, interpolation='bilinear')\n",
        "plt.axis('off')\n",
        "plt.show()\n",
        "plt.savefig('words2.png')\n"
      ],
      "execution_count": null,
      "outputs": [
        {
          "output_type": "display_data",
          "data": {
            "image/png": "[encoded data removed]",
            "text/plain": [
              "<Figure size 432x288 with 1 Axes>"
            ]
          },
          "metadata": {
            "needs_background": "light"
          }
        },
        {
          "output_type": "display_data",
          "data": {
            "text/plain": [
              "<Figure size 432x288 with 0 Axes>"
            ]
          },
          "metadata": {}
        }
      ]
    },
    {
      "cell_type": "code",
      "metadata": {
        "id": "ZxbgIH2h5Rup"
      },
      "source": [
        "from nltk import FreqDist\n",
        "token_dist = FreqDist(vec_words)\n",
        "dist = pd.DataFrame(token_dist.most_common(20),columns=['Word', 'Frequency'])"
      ],
      "execution_count": null,
      "outputs": []
    },
    {
      "cell_type": "code",
      "metadata": {
        "id": "kEQee9tm5hc0"
      },
      "source": [
        "important = {key: value for key, value in important.items() if key not in sw_nltk}\n",
        "normal_words = ['get', 'one', 'like' ,'good', 'even', 'bad', 'go', 'even', 'drive', 'back', 'got', 'would']\n",
        "important = {key: value for key, value in important.items() if key not in normal_words}"
      ],
      "execution_count": null,
      "outputs": []
    },
    {
      "cell_type": "code",
      "metadata": {
        "colab": {
          "base_uri": "https://localhost:8080/"
        },
        "id": "Elav0UTK9US6",
        "outputId": "ef16317c-6a22-4c0f-caaa-2efab5e07ac7"
      },
      "source": [
        "important"
      ],
      "execution_count": null,
      "outputs": [
        {
          "output_type": "execute_result",
          "data": {
            "text/plain": [
              "{'2': 1326,\n",
              " '3': 1102,\n",
              " 'also': 1642,\n",
              " 'always': 2441,\n",
              " 'another': 1158,\n",
              " 'around': 1244,\n",
              " 'asked': 1802,\n",
              " 'beans': 1050,\n",
              " 'bell': 3267,\n",
              " 'better': 1346,\n",
              " 'burrito': 2101,\n",
              " 'came': 1437,\n",
              " 'cheese': 1560,\n",
              " 'chicken': 1974,\n",
              " 'chipotle': 2621,\n",
              " 'chips': 1304,\n",
              " 'come': 1610,\n",
              " 'could': 1703,\n",
              " 'customer': 1509,\n",
              " 'eat': 1432,\n",
              " 'employees': 1367,\n",
              " 'ever': 1961,\n",
              " 'every': 1250,\n",
              " 'experience': 1158,\n",
              " 'fast': 1769,\n",
              " 'first': 1341,\n",
              " 'food': 10125,\n",
              " 'give': 1748,\n",
              " 'going': 1731,\n",
              " 'great': 1590,\n",
              " 'im': 2425,\n",
              " 'ive': 2443,\n",
              " 'know': 1650,\n",
              " 'last': 1166,\n",
              " 'line': 2189,\n",
              " 'location': 4132,\n",
              " 'long': 1301,\n",
              " 'love': 1091,\n",
              " 'made': 1216,\n",
              " 'make': 1503,\n",
              " 'manager': 1575,\n",
              " 'mexican': 1158,\n",
              " 'minutes': 2765,\n",
              " 'much': 1283,\n",
              " 'never': 2553,\n",
              " 'night': 1162,\n",
              " 'order': 6348,\n",
              " 'ordered': 2512,\n",
              " 'orders': 1061,\n",
              " 'people': 2190,\n",
              " 'place': 4164,\n",
              " 'pretty': 1172,\n",
              " 'really': 1985,\n",
              " 'restaurant': 1581,\n",
              " 'rice': 1226,\n",
              " 'right': 1284,\n",
              " 'rude': 1002,\n",
              " 'said': 1967,\n",
              " 'salsa': 1322,\n",
              " 'say': 1239,\n",
              " 'service': 4226,\n",
              " 'something': 1326,\n",
              " 'staff': 1801,\n",
              " 'still': 1379,\n",
              " 'taco': 5800,\n",
              " 'tacos': 2113,\n",
              " 'take': 1201,\n",
              " 'think': 1040,\n",
              " 'thru': 1482,\n",
              " 'time': 4981,\n",
              " 'times': 1746,\n",
              " 'told': 1328,\n",
              " 'took': 1277,\n",
              " 'two': 1437,\n",
              " 'us': 1770,\n",
              " 'wait': 1654,\n",
              " 'waiting': 1038,\n",
              " 'want': 1362,\n",
              " 'way': 1395,\n",
              " 'well': 1286,\n",
              " 'went': 1944,\n",
              " 'work': 1159,\n",
              " 'worst': 1552,\n",
              " 'wrong': 1193}"
            ]
          },
          "metadata": {},
          "execution_count": 19
        }
      ]
    },
    {
      "cell_type": "code",
      "metadata": {
        "colab": {
          "base_uri": "https://localhost:8080/",
          "height": 419
        },
        "id": "t7uJjqSU6CLe",
        "outputId": "41dfce6c-5077-4bb6-e265-9c89597b9d17"
      },
      "source": [
        "important\n",
        "df_bad = important. items()\n",
        "df_bad = list(df_bad)\n",
        "df_bad = pd.DataFrame(df_bad, columns=['word', 'freq'])\n",
        "df_bad = df_bad.sort_values(by='freq', ascending=False)\n",
        "df_bad"
      ],
      "execution_count": null,
      "outputs": [
        {
          "output_type": "execute_result",
          "data": {
            "text/html": [
              "<div>\n",
              "<style scoped>\n",
              "    .dataframe tbody tr th:only-of-type {\n",
              "        vertical-align: middle;\n",
              "    }\n",
              "\n",
              "    .dataframe tbody tr th {\n",
              "        vertical-align: top;\n",
              "    }\n",
              "\n",
              "    .dataframe thead th {\n",
              "        text-align: right;\n",
              "    }\n",
              "</style>\n",
              "<table border=\"1\" class=\"dataframe\">\n",
              "  <thead>\n",
              "    <tr style=\"text-align: right;\">\n",
              "      <th></th>\n",
              "      <th>word</th>\n",
              "      <th>freq</th>\n",
              "    </tr>\n",
              "  </thead>\n",
              "  <tbody>\n",
              "    <tr>\n",
              "      <th>2</th>\n",
              "      <td>food</td>\n",
              "      <td>10125</td>\n",
              "    </tr>\n",
              "    <tr>\n",
              "      <th>0</th>\n",
              "      <td>order</td>\n",
              "      <td>6348</td>\n",
              "    </tr>\n",
              "    <tr>\n",
              "      <th>8</th>\n",
              "      <td>taco</td>\n",
              "      <td>5800</td>\n",
              "    </tr>\n",
              "    <tr>\n",
              "      <th>22</th>\n",
              "      <td>time</td>\n",
              "      <td>4981</td>\n",
              "    </tr>\n",
              "    <tr>\n",
              "      <th>25</th>\n",
              "      <td>service</td>\n",
              "      <td>4226</td>\n",
              "    </tr>\n",
              "    <tr>\n",
              "      <th>...</th>\n",
              "      <td>...</td>\n",
              "      <td>...</td>\n",
              "    </tr>\n",
              "    <tr>\n",
              "      <th>74</th>\n",
              "      <td>orders</td>\n",
              "      <td>1061</td>\n",
              "    </tr>\n",
              "    <tr>\n",
              "      <th>79</th>\n",
              "      <td>beans</td>\n",
              "      <td>1050</td>\n",
              "    </tr>\n",
              "    <tr>\n",
              "      <th>55</th>\n",
              "      <td>think</td>\n",
              "      <td>1040</td>\n",
              "    </tr>\n",
              "    <tr>\n",
              "      <th>24</th>\n",
              "      <td>waiting</td>\n",
              "      <td>1038</td>\n",
              "    </tr>\n",
              "    <tr>\n",
              "      <th>60</th>\n",
              "      <td>rude</td>\n",
              "      <td>1002</td>\n",
              "    </tr>\n",
              "  </tbody>\n",
              "</table>\n",
              "<p>84 rows × 2 columns</p>\n",
              "</div>"
            ],
            "text/plain": [
              "       word   freq\n",
              "2      food  10125\n",
              "0     order   6348\n",
              "8      taco   5800\n",
              "22     time   4981\n",
              "25  service   4226\n",
              "..      ...    ...\n",
              "74   orders   1061\n",
              "79    beans   1050\n",
              "55    think   1040\n",
              "24  waiting   1038\n",
              "60     rude   1002\n",
              "\n",
              "[84 rows x 2 columns]"
            ]
          },
          "metadata": {},
          "execution_count": 20
        }
      ]
    },
    {
      "cell_type": "code",
      "metadata": {
        "colab": {
          "base_uri": "https://localhost:8080/",
          "height": 359
        },
        "id": "pyROFWgh7dQ4",
        "outputId": "45a554e3-f2c2-43e5-e4df-9308c7f2f9fd"
      },
      "source": [
        "df_bad.head(10)"
      ],
      "execution_count": null,
      "outputs": [
        {
          "output_type": "execute_result",
          "data": {
            "text/html": [
              "<div>\n",
              "<style scoped>\n",
              "    .dataframe tbody tr th:only-of-type {\n",
              "        vertical-align: middle;\n",
              "    }\n",
              "\n",
              "    .dataframe tbody tr th {\n",
              "        vertical-align: top;\n",
              "    }\n",
              "\n",
              "    .dataframe thead th {\n",
              "        text-align: right;\n",
              "    }\n",
              "</style>\n",
              "<table border=\"1\" class=\"dataframe\">\n",
              "  <thead>\n",
              "    <tr style=\"text-align: right;\">\n",
              "      <th></th>\n",
              "      <th>word</th>\n",
              "      <th>freq</th>\n",
              "    </tr>\n",
              "  </thead>\n",
              "  <tbody>\n",
              "    <tr>\n",
              "      <th>2</th>\n",
              "      <td>food</td>\n",
              "      <td>10125</td>\n",
              "    </tr>\n",
              "    <tr>\n",
              "      <th>0</th>\n",
              "      <td>order</td>\n",
              "      <td>6348</td>\n",
              "    </tr>\n",
              "    <tr>\n",
              "      <th>8</th>\n",
              "      <td>taco</td>\n",
              "      <td>5800</td>\n",
              "    </tr>\n",
              "    <tr>\n",
              "      <th>22</th>\n",
              "      <td>time</td>\n",
              "      <td>4981</td>\n",
              "    </tr>\n",
              "    <tr>\n",
              "      <th>25</th>\n",
              "      <td>service</td>\n",
              "      <td>4226</td>\n",
              "    </tr>\n",
              "    <tr>\n",
              "      <th>20</th>\n",
              "      <td>place</td>\n",
              "      <td>4164</td>\n",
              "    </tr>\n",
              "    <tr>\n",
              "      <th>12</th>\n",
              "      <td>location</td>\n",
              "      <td>4132</td>\n",
              "    </tr>\n",
              "    <tr>\n",
              "      <th>9</th>\n",
              "      <td>bell</td>\n",
              "      <td>3267</td>\n",
              "    </tr>\n",
              "    <tr>\n",
              "      <th>37</th>\n",
              "      <td>minutes</td>\n",
              "      <td>2765</td>\n",
              "    </tr>\n",
              "    <tr>\n",
              "      <th>83</th>\n",
              "      <td>chipotle</td>\n",
              "      <td>2621</td>\n",
              "    </tr>\n",
              "  </tbody>\n",
              "</table>\n",
              "</div>"
            ],
            "text/plain": [
              "        word   freq\n",
              "2       food  10125\n",
              "0      order   6348\n",
              "8       taco   5800\n",
              "22      time   4981\n",
              "25   service   4226\n",
              "20     place   4164\n",
              "12  location   4132\n",
              "9       bell   3267\n",
              "37   minutes   2765\n",
              "83  chipotle   2621"
            ]
          },
          "metadata": {},
          "execution_count": 21
        }
      ]
    },
    {
      "cell_type": "code",
      "metadata": {
        "id": "vVKaco9t7y9z"
      },
      "source": [
        "df_bad = df_bad.head(10)\n",
        "bad_words = df_bad['word'].values"
      ],
      "execution_count": null,
      "outputs": []
    },
    {
      "cell_type": "code",
      "metadata": {
        "id": "sQcG3wA_Rlix"
      },
      "source": [
        "nt = []\n",
        "n = 480501\n",
        "for i in range(n):\n",
        "  s = str(df2['text'].values[i])\n",
        "  words = [word for word in s.split() if word.lower() not in sw_nltk]\n",
        "  new_text = \" \".join(words)\n",
        "  new_text = new_text.translate(str.maketrans('', '', string.punctuation))\n",
        "  nt.append(new_text.lower()) \n",
        "df2['new_text'] = nt"
      ],
      "execution_count": null,
      "outputs": []
    },
    {
      "cell_type": "code",
      "metadata": {
        "id": "F-nQi7osRrk3"
      },
      "source": [
        "df2 = df2.drop(columns='text')"
      ],
      "execution_count": null,
      "outputs": []
    },
    {
      "cell_type": "code",
      "metadata": {
        "colab": {
          "base_uri": "https://localhost:8080/",
          "height": 419
        },
        "id": "1lMvVwiQTt66",
        "outputId": "e5bbb93e-0a17-467e-c931-40bf2a6abba3"
      },
      "source": [
        "df2"
      ],
      "execution_count": null,
      "outputs": [
        {
          "output_type": "execute_result",
          "data": {
            "text/html": [
              "<div>\n",
              "<style scoped>\n",
              "    .dataframe tbody tr th:only-of-type {\n",
              "        vertical-align: middle;\n",
              "    }\n",
              "\n",
              "    .dataframe tbody tr th {\n",
              "        vertical-align: top;\n",
              "    }\n",
              "\n",
              "    .dataframe thead th {\n",
              "        text-align: right;\n",
              "    }\n",
              "</style>\n",
              "<table border=\"1\" class=\"dataframe\">\n",
              "  <thead>\n",
              "    <tr style=\"text-align: right;\">\n",
              "      <th></th>\n",
              "      <th>business_id</th>\n",
              "      <th>city</th>\n",
              "      <th>stars_x</th>\n",
              "      <th>categories</th>\n",
              "      <th>stars_y</th>\n",
              "      <th>new_text</th>\n",
              "    </tr>\n",
              "  </thead>\n",
              "  <tbody>\n",
              "    <tr>\n",
              "      <th>0</th>\n",
              "      <td>Xw8tuI30T-xihpzwBV-zJg</td>\n",
              "      <td>Austin</td>\n",
              "      <td>5.0</td>\n",
              "      <td>Food Trucks, Restaurants, Specialty Food, Food...</td>\n",
              "      <td>5.0</td>\n",
              "      <td>like closeness road east side vibe general neg...</td>\n",
              "    </tr>\n",
              "    <tr>\n",
              "      <th>1</th>\n",
              "      <td>Xw8tuI30T-xihpzwBV-zJg</td>\n",
              "      <td>Austin</td>\n",
              "      <td>5.0</td>\n",
              "      <td>Food Trucks, Restaurants, Specialty Food, Food...</td>\n",
              "      <td>4.0</td>\n",
              "      <td>pretty solid food truck tried chicken torta de...</td>\n",
              "    </tr>\n",
              "    <tr>\n",
              "      <th>2</th>\n",
              "      <td>Xw8tuI30T-xihpzwBV-zJg</td>\n",
              "      <td>Austin</td>\n",
              "      <td>5.0</td>\n",
              "      <td>Food Trucks, Restaurants, Specialty Food, Food...</td>\n",
              "      <td>4.0</td>\n",
              "      <td>another trailer within mile apartment ive twic...</td>\n",
              "    </tr>\n",
              "    <tr>\n",
              "      <th>3</th>\n",
              "      <td>Xw8tuI30T-xihpzwBV-zJg</td>\n",
              "      <td>Austin</td>\n",
              "      <td>5.0</td>\n",
              "      <td>Food Trucks, Restaurants, Specialty Food, Food...</td>\n",
              "      <td>5.0</td>\n",
              "      <td>love stand eat frequently char cooked chicken ...</td>\n",
              "    </tr>\n",
              "    <tr>\n",
              "      <th>4</th>\n",
              "      <td>Xw8tuI30T-xihpzwBV-zJg</td>\n",
              "      <td>Austin</td>\n",
              "      <td>5.0</td>\n",
              "      <td>Food Trucks, Restaurants, Specialty Food, Food...</td>\n",
              "      <td>5.0</td>\n",
              "      <td>touristy thing happened upon hidden gem portio...</td>\n",
              "    </tr>\n",
              "    <tr>\n",
              "      <th>...</th>\n",
              "      <td>...</td>\n",
              "      <td>...</td>\n",
              "      <td>...</td>\n",
              "      <td>...</td>\n",
              "      <td>...</td>\n",
              "      <td>...</td>\n",
              "    </tr>\n",
              "    <tr>\n",
              "      <th>480496</th>\n",
              "      <td>uXdQkuEtvLAzfc3MsO-sTQ</td>\n",
              "      <td>Atlanta</td>\n",
              "      <td>3.0</td>\n",
              "      <td>Restaurants, Mexican, Latin American</td>\n",
              "      <td>5.0</td>\n",
              "      <td>forget literally anyone crying about business ...</td>\n",
              "    </tr>\n",
              "    <tr>\n",
              "      <th>480497</th>\n",
              "      <td>uXdQkuEtvLAzfc3MsO-sTQ</td>\n",
              "      <td>Atlanta</td>\n",
              "      <td>3.0</td>\n",
              "      <td>Restaurants, Mexican, Latin American</td>\n",
              "      <td>3.0</td>\n",
              "      <td>really appreciate fact restaurant open 24hours...</td>\n",
              "    </tr>\n",
              "    <tr>\n",
              "      <th>480498</th>\n",
              "      <td>uXdQkuEtvLAzfc3MsO-sTQ</td>\n",
              "      <td>Atlanta</td>\n",
              "      <td>3.0</td>\n",
              "      <td>Restaurants, Mexican, Latin American</td>\n",
              "      <td>5.0</td>\n",
              "      <td>24hr mexican spot open drivethru corona take c...</td>\n",
              "    </tr>\n",
              "    <tr>\n",
              "      <th>480499</th>\n",
              "      <td>uXdQkuEtvLAzfc3MsO-sTQ</td>\n",
              "      <td>Atlanta</td>\n",
              "      <td>3.0</td>\n",
              "      <td>Restaurants, Mexican, Latin American</td>\n",
              "      <td>5.0</td>\n",
              "      <td>always line moves quickly food always fresh ho...</td>\n",
              "    </tr>\n",
              "    <tr>\n",
              "      <th>480500</th>\n",
              "      <td>uXdQkuEtvLAzfc3MsO-sTQ</td>\n",
              "      <td>Atlanta</td>\n",
              "      <td>3.0</td>\n",
              "      <td>Restaurants, Mexican, Latin American</td>\n",
              "      <td>3.0</td>\n",
              "      <td>come coming one thing drinks food okay go bufo...</td>\n",
              "    </tr>\n",
              "  </tbody>\n",
              "</table>\n",
              "<p>480501 rows × 6 columns</p>\n",
              "</div>"
            ],
            "text/plain": [
              "                   business_id  ...                                           new_text\n",
              "0       Xw8tuI30T-xihpzwBV-zJg  ...  like closeness road east side vibe general neg...\n",
              "1       Xw8tuI30T-xihpzwBV-zJg  ...  pretty solid food truck tried chicken torta de...\n",
              "2       Xw8tuI30T-xihpzwBV-zJg  ...  another trailer within mile apartment ive twic...\n",
              "3       Xw8tuI30T-xihpzwBV-zJg  ...  love stand eat frequently char cooked chicken ...\n",
              "4       Xw8tuI30T-xihpzwBV-zJg  ...  touristy thing happened upon hidden gem portio...\n",
              "...                        ...  ...                                                ...\n",
              "480496  uXdQkuEtvLAzfc3MsO-sTQ  ...  forget literally anyone crying about business ...\n",
              "480497  uXdQkuEtvLAzfc3MsO-sTQ  ...  really appreciate fact restaurant open 24hours...\n",
              "480498  uXdQkuEtvLAzfc3MsO-sTQ  ...  24hr mexican spot open drivethru corona take c...\n",
              "480499  uXdQkuEtvLAzfc3MsO-sTQ  ...  always line moves quickly food always fresh ho...\n",
              "480500  uXdQkuEtvLAzfc3MsO-sTQ  ...  come coming one thing drinks food okay go bufo...\n",
              "\n",
              "[480501 rows x 6 columns]"
            ]
          },
          "metadata": {},
          "execution_count": 26
        }
      ]
    },
    {
      "cell_type": "code",
      "metadata": {
        "id": "DbvFQrXGB5o7"
      },
      "source": [
        "ratings = []\n",
        "for wd in bad_words:\n",
        "  df_aux = df2[df2['new_text'].str.contains(wd)]\n",
        "  ratings.append(np.mean(df_aux['stars_x'].values))"
      ],
      "execution_count": null,
      "outputs": []
    },
    {
      "cell_type": "code",
      "metadata": {
        "colab": {
          "base_uri": "https://localhost:8080/",
          "height": 461
        },
        "id": "vfFYLu75FrMk",
        "outputId": "e38ca980-04aa-4275-93bd-72b4b61c0270"
      },
      "source": [
        "df_bad['rating'] = ratings\n",
        "df_bad"
      ],
      "execution_count": null,
      "outputs": [
        {
          "output_type": "stream",
          "name": "stderr",
          "text": [
            "/usr/local/lib/python3.7/dist-packages/ipykernel_launcher.py:1: SettingWithCopyWarning: \n",
            "A value is trying to be set on a copy of a slice from a DataFrame.\n",
            "Try using .loc[row_indexer,col_indexer] = value instead\n",
            "\n",
            "See the caveats in the documentation: https://pandas.pydata.org/pandas-docs/stable/user_guide/indexing.html#returning-a-view-versus-a-copy\n",
            "  \"\"\"Entry point for launching an IPython kernel.\n"
          ]
        },
        {
          "output_type": "execute_result",
          "data": {
            "text/html": [
              "<div>\n",
              "<style scoped>\n",
              "    .dataframe tbody tr th:only-of-type {\n",
              "        vertical-align: middle;\n",
              "    }\n",
              "\n",
              "    .dataframe tbody tr th {\n",
              "        vertical-align: top;\n",
              "    }\n",
              "\n",
              "    .dataframe thead th {\n",
              "        text-align: right;\n",
              "    }\n",
              "</style>\n",
              "<table border=\"1\" class=\"dataframe\">\n",
              "  <thead>\n",
              "    <tr style=\"text-align: right;\">\n",
              "      <th></th>\n",
              "      <th>word</th>\n",
              "      <th>freq</th>\n",
              "      <th>rating</th>\n",
              "    </tr>\n",
              "  </thead>\n",
              "  <tbody>\n",
              "    <tr>\n",
              "      <th>2</th>\n",
              "      <td>food</td>\n",
              "      <td>10125</td>\n",
              "      <td>3.666006</td>\n",
              "    </tr>\n",
              "    <tr>\n",
              "      <th>0</th>\n",
              "      <td>order</td>\n",
              "      <td>6348</td>\n",
              "      <td>3.618024</td>\n",
              "    </tr>\n",
              "    <tr>\n",
              "      <th>8</th>\n",
              "      <td>taco</td>\n",
              "      <td>5800</td>\n",
              "      <td>3.807968</td>\n",
              "    </tr>\n",
              "    <tr>\n",
              "      <th>22</th>\n",
              "      <td>time</td>\n",
              "      <td>4981</td>\n",
              "      <td>3.615171</td>\n",
              "    </tr>\n",
              "    <tr>\n",
              "      <th>25</th>\n",
              "      <td>service</td>\n",
              "      <td>4226</td>\n",
              "      <td>3.617980</td>\n",
              "    </tr>\n",
              "    <tr>\n",
              "      <th>20</th>\n",
              "      <td>place</td>\n",
              "      <td>4164</td>\n",
              "      <td>3.716509</td>\n",
              "    </tr>\n",
              "    <tr>\n",
              "      <th>12</th>\n",
              "      <td>location</td>\n",
              "      <td>4132</td>\n",
              "      <td>3.410268</td>\n",
              "    </tr>\n",
              "    <tr>\n",
              "      <th>9</th>\n",
              "      <td>bell</td>\n",
              "      <td>3267</td>\n",
              "      <td>3.357516</td>\n",
              "    </tr>\n",
              "    <tr>\n",
              "      <th>37</th>\n",
              "      <td>minutes</td>\n",
              "      <td>2765</td>\n",
              "      <td>3.444142</td>\n",
              "    </tr>\n",
              "    <tr>\n",
              "      <th>83</th>\n",
              "      <td>chipotle</td>\n",
              "      <td>2621</td>\n",
              "      <td>3.268289</td>\n",
              "    </tr>\n",
              "  </tbody>\n",
              "</table>\n",
              "</div>"
            ],
            "text/plain": [
              "        word   freq    rating\n",
              "2       food  10125  3.666006\n",
              "0      order   6348  3.618024\n",
              "8       taco   5800  3.807968\n",
              "22      time   4981  3.615171\n",
              "25   service   4226  3.617980\n",
              "20     place   4164  3.716509\n",
              "12  location   4132  3.410268\n",
              "9       bell   3267  3.357516\n",
              "37   minutes   2765  3.444142\n",
              "83  chipotle   2621  3.268289"
            ]
          },
          "metadata": {},
          "execution_count": 28
        }
      ]
    },
    {
      "cell_type": "code",
      "metadata": {
        "id": "Z__ihwA9Wx6N"
      },
      "source": [
        "# analyze taco bell"
      ],
      "execution_count": null,
      "outputs": []
    },
    {
      "cell_type": "code",
      "metadata": {
        "id": "-XhAMudPE8Tj"
      },
      "source": [
        "df_bell = df2[df2['new_text'].str.contains(\"taco bell\")]\n",
        "df_no = df2[~df2['new_text'].str.contains(\"taco bell\")]"
      ],
      "execution_count": null,
      "outputs": []
    },
    {
      "cell_type": "code",
      "metadata": {
        "colab": {
          "base_uri": "https://localhost:8080/"
        },
        "id": "3hEi4RZCcF4I",
        "outputId": "b79ab2de-d198-4bbe-8818-ceaf9f7802e8"
      },
      "source": [
        "print(np.mean(df_bell['stars_x']))\n",
        "print(np.mean(df_no['stars_x']))"
      ],
      "execution_count": null,
      "outputs": [
        {
          "output_type": "stream",
          "name": "stdout",
          "text": [
            "2.901899936668778\n",
            "3.703067671591135\n"
          ]
        }
      ]
    },
    {
      "cell_type": "code",
      "metadata": {
        "id": "QNzVUV0xegOl"
      },
      "source": [
        "df_b_mex = pd.merge(df_b_mex, df_no, how='inner', on='business_id')"
      ],
      "execution_count": null,
      "outputs": []
    },
    {
      "cell_type": "code",
      "metadata": {
        "colab": {
          "base_uri": "https://localhost:8080/"
        },
        "id": "dTtGDOyblNUr",
        "outputId": "463daaa1-226b-4924-a36c-50318a2ade02"
      },
      "source": [
        "np.mean(df_b_mex['stars'])"
      ],
      "execution_count": null,
      "outputs": [
        {
          "output_type": "execute_result",
          "data": {
            "text/plain": [
              "3.703067671591135"
            ]
          },
          "metadata": {},
          "execution_count": 46
        }
      ]
    },
    {
      "cell_type": "code",
      "metadata": {
        "colab": {
          "base_uri": "https://localhost:8080/"
        },
        "id": "KhYtwijvldIZ",
        "outputId": "932c95a8-0a8f-4bd9-e873-091cf1a51fd7"
      },
      "source": [
        "np.mean(df_b['stars'])"
      ],
      "execution_count": null,
      "outputs": [
        {
          "output_type": "execute_result",
          "data": {
            "text/plain": [
              "3.6580046114538542"
            ]
          },
          "metadata": {},
          "execution_count": 47
        }
      ]
    },
    {
      "cell_type": "code",
      "metadata": {
        "colab": {
          "base_uri": "https://localhost:8080/"
        },
        "id": "yaaozazJlzAh",
        "outputId": "aef8887c-b5e4-4a81-b981-39095f0537df"
      },
      "source": [
        "df_b.stars.quantile([0.25,0.5,0.75])"
      ],
      "execution_count": null,
      "outputs": [
        {
          "output_type": "execute_result",
          "data": {
            "text/plain": [
              "0.25    3.0\n",
              "0.50    4.0\n",
              "0.75    4.5\n",
              "Name: stars, dtype: float64"
            ]
          },
          "metadata": {},
          "execution_count": 49
        }
      ]
    },
    {
      "cell_type": "code",
      "metadata": {
        "id": "YVQJzqwNfP2h"
      },
      "source": [
        "df_b_mex.to_csv('notacobell.csv')"
      ],
      "execution_count": null,
      "outputs": []
    }
  ]
}