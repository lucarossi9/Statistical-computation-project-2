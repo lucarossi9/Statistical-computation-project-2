{
 "cells": [
  {
   "cell_type": "code",
   "execution_count": null,
   "id": "isolated-timing",
   "metadata": {},
   "outputs": [],
   "source": [
    "#irrelevant code\n",
    "#import json\n",
    "#import bz2\n",
    "#tweets = []\n",
    "#for line in open('yelp_academic_dataset_business.json', 'r'):\n",
    "#    tweets.append(json.loads(line))"
   ]
  },
  {
   "cell_type": "code",
   "execution_count": 1,
   "id": "fantastic-chaos",
   "metadata": {},
   "outputs": [],
   "source": [
    "#opening json file\n",
    "import pandas as pd\n",
    "df_b = pd.read_json('yelp_academic_dataset_business.json', lines=True)"
   ]
  },
  {
   "cell_type": "code",
   "execution_count": 2,
   "id": "figured-casting",
   "metadata": {},
   "outputs": [],
   "source": [
    "#dropping irrelevant columns\n",
    "drop_columns = ['latitude','longitude','postal_code','state','address','name']\n",
    "df_b = df_b.drop(drop_columns, axis=1)"
   ]
  },
  {
   "cell_type": "code",
   "execution_count": 3,
   "id": "optimum-encoding",
   "metadata": {},
   "outputs": [],
   "source": [
    "df1 = pd.read_csv('review1.csv')"
   ]
  },
  {
   "cell_type": "code",
   "execution_count": 4,
   "id": "warming-mercury",
   "metadata": {},
   "outputs": [],
   "source": [
    "df1=df1.drop(['text','review_id','user_id','funny','cool'], axis=1)"
   ]
  },
  {
   "cell_type": "code",
   "execution_count": 5,
   "id": "automatic-advertising",
   "metadata": {},
   "outputs": [],
   "source": [
    "df2 = pd.read_csv('review2.csv')\n",
    "df2=df2.drop(['text','review_id','user_id','funny','cool'], axis=1)"
   ]
  },
  {
   "cell_type": "code",
   "execution_count": 6,
   "id": "instructional-share",
   "metadata": {},
   "outputs": [],
   "source": [
    "df3 = pd.read_csv('review3.csv')\n",
    "df3=df3.drop(['text','review_id','user_id','funny','cool'], axis=1)"
   ]
  },
  {
   "cell_type": "code",
   "execution_count": 7,
   "id": "limiting-hudson",
   "metadata": {},
   "outputs": [],
   "source": [
    "df4 = pd.read_csv('review4.csv')\n",
    "df4=df4.drop(['text','review_id','user_id','funny','cool'], axis=1)"
   ]
  },
  {
   "cell_type": "code",
   "execution_count": 8,
   "id": "inner-harmony",
   "metadata": {},
   "outputs": [],
   "source": [
    "df5 = pd.read_csv('review5.csv')\n",
    "df5=df5.drop(['text','review_id','user_id','funny','cool'], axis=1)"
   ]
  },
  {
   "cell_type": "code",
   "execution_count": 9,
   "id": "atlantic-polls",
   "metadata": {},
   "outputs": [],
   "source": [
    "df6 = pd.read_csv('review6.csv')\n",
    "df6=df6.drop(['text','review_id','user_id','funny','cool'], axis=1)"
   ]
  },
  {
   "cell_type": "code",
   "execution_count": 10,
   "id": "manufactured-layer",
   "metadata": {},
   "outputs": [],
   "source": [
    "df7 = pd.read_csv('review7.csv')\n",
    "df7=df7.drop(['text','review_id','user_id','funny','cool'], axis=1)"
   ]
  },
  {
   "cell_type": "code",
   "execution_count": 11,
   "id": "usual-haven",
   "metadata": {},
   "outputs": [],
   "source": [
    "df8 = pd.read_csv('review8.csv')\n",
    "df8=df8.drop(['text','review_id','user_id','funny','cool'], axis=1)"
   ]
  },
  {
   "cell_type": "code",
   "execution_count": 12,
   "id": "endless-distinction",
   "metadata": {},
   "outputs": [],
   "source": [
    "df9 = pd.read_csv('review9.csv')\n",
    "df9=df9.drop(['text','review_id','user_id','funny','cool'], axis=1)"
   ]
  },
  {
   "cell_type": "code",
   "execution_count": 13,
   "id": "hindu-collins",
   "metadata": {},
   "outputs": [],
   "source": [
    "df10 = pd.read_csv('review10.csv')\n",
    "df10=df10.drop(['text','review_id','user_id','funny','cool'], axis=1)"
   ]
  },
  {
   "cell_type": "code",
   "execution_count": 14,
   "id": "sexual-corrections",
   "metadata": {},
   "outputs": [],
   "source": [
    "df11 = pd.read_csv('review11.csv')\n",
    "df11=df11.drop(['text','review_id','user_id','funny','cool'], axis=1)"
   ]
  },
  {
   "cell_type": "code",
   "execution_count": 15,
   "id": "romance-demonstration",
   "metadata": {},
   "outputs": [],
   "source": [
    "df12 = pd.read_csv('review12.csv')\n",
    "df12=df12.drop(['text','review_id','user_id','funny','cool'], axis=1)"
   ]
  },
  {
   "cell_type": "code",
   "execution_count": 16,
   "id": "reasonable-jonathan",
   "metadata": {},
   "outputs": [],
   "source": [
    "df13 = pd.read_csv('review13.csv')\n",
    "df13=df13.drop(['text','review_id','user_id','funny','cool'], axis=1)"
   ]
  },
  {
   "cell_type": "code",
   "execution_count": 17,
   "id": "developmental-captain",
   "metadata": {},
   "outputs": [],
   "source": [
    "df14 = pd.read_csv('review14.csv')\n",
    "df14=df14.drop(['text','review_id','user_id','funny','cool'], axis=1)"
   ]
  },
  {
   "cell_type": "code",
   "execution_count": 18,
   "id": "joint-exchange",
   "metadata": {},
   "outputs": [],
   "source": [
    "df15 = pd.read_csv('review15.csv')\n",
    "df15=df15.drop(['text','review_id','user_id','funny','cool'], axis=1)"
   ]
  },
  {
   "cell_type": "code",
   "execution_count": 19,
   "id": "discrete-necklace",
   "metadata": {},
   "outputs": [],
   "source": [
    "df16 = pd.read_csv('review16.csv')\n",
    "df16=df16.drop(['text','review_id','user_id','funny','cool'], axis=1)"
   ]
  },
  {
   "cell_type": "code",
   "execution_count": 20,
   "id": "structural-grain",
   "metadata": {},
   "outputs": [],
   "source": [
    "df17 = pd.read_csv('review17.csv')\n",
    "df17=df17.drop(['text','review_id','user_id','funny','cool'], axis=1)"
   ]
  },
  {
   "cell_type": "code",
   "execution_count": 21,
   "id": "administrative-cover",
   "metadata": {},
   "outputs": [],
   "source": [
    "df18 = pd.read_csv('review18.csv')\n",
    "df18=df18.drop(['text','review_id','user_id','funny','cool'], axis=1)"
   ]
  },
  {
   "cell_type": "code",
   "execution_count": 22,
   "id": "welcome-excitement",
   "metadata": {},
   "outputs": [],
   "source": [
    "#create a dataframe with all the reviews but without the text which is not relevant for the analysis\n",
    "frames = [df1, df2, df3,df4, df5, df6,df7, df8, df9,df10, df11, df12,df13, df14, df15,df16, df17, df18]\n",
    "result = pd.concat(frames)"
   ]
  },
  {
   "cell_type": "code",
   "execution_count": 23,
   "id": "current-functionality",
   "metadata": {},
   "outputs": [
    {
     "data": {
      "text/html": [
       "<div>\n",
       "<style scoped>\n",
       "    .dataframe tbody tr th:only-of-type {\n",
       "        vertical-align: middle;\n",
       "    }\n",
       "\n",
       "    .dataframe tbody tr th {\n",
       "        vertical-align: top;\n",
       "    }\n",
       "\n",
       "    .dataframe thead th {\n",
       "        text-align: right;\n",
       "    }\n",
       "</style>\n",
       "<table border=\"1\" class=\"dataframe\">\n",
       "  <thead>\n",
       "    <tr style=\"text-align: right;\">\n",
       "      <th></th>\n",
       "      <th>business_id</th>\n",
       "      <th>stars</th>\n",
       "      <th>useful</th>\n",
       "      <th>date</th>\n",
       "    </tr>\n",
       "  </thead>\n",
       "  <tbody>\n",
       "    <tr>\n",
       "      <th>0</th>\n",
       "      <td>buF9druCkbuXLX526sGELQ</td>\n",
       "      <td>4</td>\n",
       "      <td>3</td>\n",
       "      <td>2014-10-11 03:34:02</td>\n",
       "    </tr>\n",
       "    <tr>\n",
       "      <th>1</th>\n",
       "      <td>RA4V8pr014UyUbDvI-LW2A</td>\n",
       "      <td>4</td>\n",
       "      <td>1</td>\n",
       "      <td>2015-07-03 20:38:25</td>\n",
       "    </tr>\n",
       "    <tr>\n",
       "      <th>2</th>\n",
       "      <td>_sS2LBIGNT5NQb6PD1Vtjw</td>\n",
       "      <td>5</td>\n",
       "      <td>0</td>\n",
       "      <td>2013-05-28 20:38:06</td>\n",
       "    </tr>\n",
       "    <tr>\n",
       "      <th>3</th>\n",
       "      <td>0AzLzHfOJgL7ROwhdww2ew</td>\n",
       "      <td>2</td>\n",
       "      <td>1</td>\n",
       "      <td>2010-01-08 02:29:15</td>\n",
       "    </tr>\n",
       "    <tr>\n",
       "      <th>4</th>\n",
       "      <td>8zehGz9jnxPqXtOc7KaJxA</td>\n",
       "      <td>4</td>\n",
       "      <td>0</td>\n",
       "      <td>2011-07-28 18:05:01</td>\n",
       "    </tr>\n",
       "    <tr>\n",
       "      <th>...</th>\n",
       "      <td>...</td>\n",
       "      <td>...</td>\n",
       "      <td>...</td>\n",
       "      <td>...</td>\n",
       "    </tr>\n",
       "    <tr>\n",
       "      <th>135398</th>\n",
       "      <td>yyTtwwQ4JnQMJ2rn3W0S0g</td>\n",
       "      <td>1</td>\n",
       "      <td>0</td>\n",
       "      <td>2021-01-26 04:07:14</td>\n",
       "    </tr>\n",
       "    <tr>\n",
       "      <th>135399</th>\n",
       "      <td>RDgwjgbu5xziFIAaNn3WCQ</td>\n",
       "      <td>1</td>\n",
       "      <td>13</td>\n",
       "      <td>2019-05-01 21:21:43</td>\n",
       "    </tr>\n",
       "    <tr>\n",
       "      <th>135400</th>\n",
       "      <td>rbuj2X4SXIc3MDul4dcxIA</td>\n",
       "      <td>5</td>\n",
       "      <td>39</td>\n",
       "      <td>2020-06-13 02:39:26</td>\n",
       "    </tr>\n",
       "    <tr>\n",
       "      <th>135401</th>\n",
       "      <td>IRzjEZ2pX4iOpnBG7oZJ7g</td>\n",
       "      <td>2</td>\n",
       "      <td>2</td>\n",
       "      <td>2020-06-22 21:54:10</td>\n",
       "    </tr>\n",
       "    <tr>\n",
       "      <th>135402</th>\n",
       "      <td>pxwYIa1jZzHJ4R0Sp1cHFw</td>\n",
       "      <td>5</td>\n",
       "      <td>11</td>\n",
       "      <td>2019-04-17 04:27:39</td>\n",
       "    </tr>\n",
       "  </tbody>\n",
       "</table>\n",
       "<p>8635403 rows × 4 columns</p>\n",
       "</div>"
      ],
      "text/plain": [
       "                   business_id  stars  useful                 date\n",
       "0       buF9druCkbuXLX526sGELQ      4       3  2014-10-11 03:34:02\n",
       "1       RA4V8pr014UyUbDvI-LW2A      4       1  2015-07-03 20:38:25\n",
       "2       _sS2LBIGNT5NQb6PD1Vtjw      5       0  2013-05-28 20:38:06\n",
       "3       0AzLzHfOJgL7ROwhdww2ew      2       1  2010-01-08 02:29:15\n",
       "4       8zehGz9jnxPqXtOc7KaJxA      4       0  2011-07-28 18:05:01\n",
       "...                        ...    ...     ...                  ...\n",
       "135398  yyTtwwQ4JnQMJ2rn3W0S0g      1       0  2021-01-26 04:07:14\n",
       "135399  RDgwjgbu5xziFIAaNn3WCQ      1      13  2019-05-01 21:21:43\n",
       "135400  rbuj2X4SXIc3MDul4dcxIA      5      39  2020-06-13 02:39:26\n",
       "135401  IRzjEZ2pX4iOpnBG7oZJ7g      2       2  2020-06-22 21:54:10\n",
       "135402  pxwYIa1jZzHJ4R0Sp1cHFw      5      11  2019-04-17 04:27:39\n",
       "\n",
       "[8635403 rows x 4 columns]"
      ]
     },
     "execution_count": 23,
     "metadata": {},
     "output_type": "execute_result"
    }
   ],
   "source": [
    "result"
   ]
  },
  {
   "cell_type": "code",
   "execution_count": 26,
   "id": "professional-tulsa",
   "metadata": {},
   "outputs": [],
   "source": [
    "#drop all the elements of the list without attributes\n",
    "#for i in range(len(tweets)):\n",
    "#    if None in tweets[i]:\n",
    "#        tweets.pop(i)"
   ]
  },
  {
   "cell_type": "code",
   "execution_count": 27,
   "id": "increasing-shoulder",
   "metadata": {},
   "outputs": [],
   "source": [
    "#check if there are any attributes in common\n",
    "#import numpy as np\n",
    "#a=1\n",
    "#for i in range(len(tweets)):\n",
    "#    if np.logical_not('ByAppointmentOnly' in tweets[i]):\n",
    "#        a=0\n",
    "#    if a==0:\n",
    "#        break"
   ]
  },
  {
   "cell_type": "code",
   "execution_count": 24,
   "id": "derived-advocate",
   "metadata": {},
   "outputs": [],
   "source": [
    "#after different check to see if there are any attributes in common for the restaurants we decide to drop also attribute column\n",
    "df_b=df_b.drop('attributes',axis=1)\n"
   ]
  },
  {
   "cell_type": "code",
   "execution_count": 25,
   "id": "broad-rendering",
   "metadata": {},
   "outputs": [],
   "source": [
    "#we want to study only restaurants and bars so we drop all the other activities\n",
    "df_b.dropna( axis=0, how=\"any\", thresh=None, subset=None, inplace=True)\n",
    "df_new=df_b[df_b.categories.str.contains(\"Restaurants\", na=False)==True]"
   ]
  },
  {
   "cell_type": "code",
   "execution_count": 26,
   "id": "characteristic-subscriber",
   "metadata": {},
   "outputs": [],
   "source": [
    "def contaM(st):\n",
    "    a=st.get('Monday')\n",
    "    a=a.split('-')\n",
    "    a[0]=a[0].replace(':','.')\n",
    "    a[1]=a[1].replace(':','.')\n",
    "    a[0]=float(a[0])\n",
    "    a[1]=float(a[1])\n",
    "    if a[0]%1!=0:\n",
    "        b=a[0]%1\n",
    "        a[0]=a[0]-b\n",
    "        b=b/0.6\n",
    "        a[0]+=b\n",
    "    if a[1]%1!=0:\n",
    "        b=a[1]%1\n",
    "        a[1]=a[1]-b\n",
    "        b=b/0.6\n",
    "        a[1]+=b\n",
    "    if a[1]<=a[0]:\n",
    "        return 24+a[1]-a[0]\n",
    "    return a[1]-a[0]\n",
    "def contaTu(st):\n",
    "    a=st.get('Tuesday')\n",
    "    a=a.split('-')\n",
    "    a[0]=a[0].replace(':','.')\n",
    "    a[1]=a[1].replace(':','.')\n",
    "    a[0]=float(a[0])\n",
    "    a[1]=float(a[1])\n",
    "    if a[0]%1!=0:\n",
    "        b=a[0]%1\n",
    "        a[0]=a[0]-b\n",
    "        b=b/0.6\n",
    "        a[0]+=b\n",
    "    if a[1]%1!=0:\n",
    "        b=a[1]%1\n",
    "        a[1]=a[1]-b\n",
    "        b=b/0.6\n",
    "        a[1]+=b\n",
    "    if a[1]<=a[0]:\n",
    "        return 24+a[1]-a[0]\n",
    "    return a[1]-a[0]\n",
    "def contaW(st):\n",
    "    a=st.get('Wednesday')\n",
    "    a=a.split('-')\n",
    "    a[0]=a[0].replace(':','.')\n",
    "    a[1]=a[1].replace(':','.')\n",
    "    a[0]=float(a[0])\n",
    "    a[1]=float(a[1])\n",
    "    if a[0]%1!=0:\n",
    "        b=a[0]%1\n",
    "        a[0]=a[0]-b\n",
    "        b=b/0.6\n",
    "        a[0]+=b\n",
    "    if a[1]%1!=0:\n",
    "        b=a[1]%1\n",
    "        a[1]=a[1]-b\n",
    "        b=b/0.6\n",
    "        a[1]+=b\n",
    "    if a[1]<=a[0]:\n",
    "        return 24+a[1]-a[0]\n",
    "    return a[1]-a[0]\n",
    "def contaT(st):\n",
    "    a=st.get('Thursday')\n",
    "    a=a.split('-')\n",
    "    a[0]=a[0].replace(':','.')\n",
    "    a[1]=a[1].replace(':','.')\n",
    "    a[0]=float(a[0])\n",
    "    a[1]=float(a[1])\n",
    "    if a[0]%1!=0:\n",
    "        b=a[0]%1\n",
    "        a[0]=a[0]-b\n",
    "        b=b/0.6\n",
    "        a[0]+=b\n",
    "    if a[1]%1!=0:\n",
    "        b=a[1]%1\n",
    "        a[1]=a[1]-b\n",
    "        b=b/0.6\n",
    "        a[1]+=b\n",
    "    if a[1]<=a[0]:\n",
    "        return 24+a[1]-a[0]\n",
    "    return a[1]-a[0]\n",
    "def contaF(st):\n",
    "    a=st.get('Friday')\n",
    "    a=a.split('-')\n",
    "    a[0]=a[0].replace(':','.')\n",
    "    a[1]=a[1].replace(':','.')\n",
    "    a[0]=float(a[0])\n",
    "    a[1]=float(a[1])\n",
    "    if a[0]%1!=0:\n",
    "        b=a[0]%1\n",
    "        a[0]=a[0]-b\n",
    "        b=b/0.6\n",
    "        a[0]+=b\n",
    "    if a[1]%1!=0:\n",
    "        b=a[1]%1\n",
    "        a[1]=a[1]-b\n",
    "        b=b/0.6\n",
    "        a[1]+=b\n",
    "    if a[1]<=a[0]:\n",
    "        return 24+a[1]-a[0]\n",
    "    return a[1]-a[0]\n",
    "def contaSa(st):\n",
    "    a=st.get('Saturday')\n",
    "    a=a.split('-')\n",
    "    a[0]=a[0].replace(':','.')\n",
    "    a[1]=a[1].replace(':','.')\n",
    "    a[0]=float(a[0])\n",
    "    a[1]=float(a[1])\n",
    "    if a[0]%1!=0:\n",
    "        b=a[0]%1\n",
    "        a[0]=a[0]-b\n",
    "        b=b/0.6\n",
    "        a[0]+=b\n",
    "    if a[1]%1!=0:\n",
    "        b=a[1]%1\n",
    "        a[1]=a[1]-b\n",
    "        b=b/0.6\n",
    "        a[1]+=b\n",
    "    if a[1]<=a[0]:\n",
    "        return 24+a[1]-a[0]\n",
    "    return a[1]-a[0]\n",
    "def contaS(st):\n",
    "    a=st.get('Sunday')\n",
    "    a=a.split('-')\n",
    "    a[0]=a[0].replace(':','.')\n",
    "    a[1]=a[1].replace(':','.')\n",
    "    a[0]=float(a[0])\n",
    "    a[1]=float(a[1])\n",
    "    if a[0]%1!=0:\n",
    "        b=a[0]%1\n",
    "        a[0]=a[0]-b\n",
    "        b=b/0.6\n",
    "        a[0]+=b\n",
    "    if a[1]%1!=0:\n",
    "        b=a[1]%1\n",
    "        a[1]=a[1]-b\n",
    "        b=b/0.6\n",
    "        a[1]+=b\n",
    "    if a[1]<=a[0]:\n",
    "        return 24+a[1]-a[0]\n",
    "    return a[1]-a[0]\n",
    "\n",
    "def converti(st):\n",
    "    hours=0\n",
    "    if 'Monday' in st:\n",
    "        hours+=contaM(st)\n",
    "    if 'Tuesday' in st:\n",
    "        hours+=contaTu(st)\n",
    "    if 'Wednesday' in st:\n",
    "        hours+=contaW(st)\n",
    "    if 'Thursday' in st:\n",
    "        hours+=contaT(st)\n",
    "    if 'Friday' in st:\n",
    "        hours+=contaF(st)\n",
    "    if 'Saturday' in st:\n",
    "        hours+=contaSa(st)\n",
    "    if 'Sunday' in st:\n",
    "        hours+=contaS(st)\n",
    "    return hours"
   ]
  },
  {
   "cell_type": "code",
   "execution_count": 27,
   "id": "conceptual-universal",
   "metadata": {},
   "outputs": [],
   "source": [
    "df_new=df_new.reset_index()"
   ]
  },
  {
   "cell_type": "code",
   "execution_count": 28,
   "id": "spatial-equality",
   "metadata": {},
   "outputs": [
    {
     "name": "stderr",
     "output_type": "stream",
     "text": [
      "<ipython-input-28-f80e3afcfa7b>:3: SettingWithCopyWarning: \n",
      "A value is trying to be set on a copy of a slice from a DataFrame\n",
      "\n",
      "See the caveats in the documentation: https://pandas.pydata.org/pandas-docs/stable/user_guide/indexing.html#returning-a-view-versus-a-copy\n",
      "  df_new['nhours'][i]=converti(df_new['hours'][i])\n"
     ]
    }
   ],
   "source": [
    "df_new['nhours']=float(0)\n",
    "for i in range(len(df_new)):\n",
    "    df_new['nhours'][i]=converti(df_new['hours'][i])"
   ]
  },
  {
   "cell_type": "code",
   "execution_count": 30,
   "id": "corresponding-cartridge",
   "metadata": {},
   "outputs": [
    {
     "data": {
      "text/html": [
       "<div>\n",
       "<style scoped>\n",
       "    .dataframe tbody tr th:only-of-type {\n",
       "        vertical-align: middle;\n",
       "    }\n",
       "\n",
       "    .dataframe tbody tr th {\n",
       "        vertical-align: top;\n",
       "    }\n",
       "\n",
       "    .dataframe thead th {\n",
       "        text-align: right;\n",
       "    }\n",
       "</style>\n",
       "<table border=\"1\" class=\"dataframe\">\n",
       "  <thead>\n",
       "    <tr style=\"text-align: right;\">\n",
       "      <th></th>\n",
       "      <th>index</th>\n",
       "      <th>business_id</th>\n",
       "      <th>city</th>\n",
       "      <th>stars</th>\n",
       "      <th>review_count</th>\n",
       "      <th>is_open</th>\n",
       "      <th>categories</th>\n",
       "      <th>nhours</th>\n",
       "    </tr>\n",
       "  </thead>\n",
       "  <tbody>\n",
       "    <tr>\n",
       "      <th>8</th>\n",
       "      <td>26</td>\n",
       "      <td>hcRxdDg7DYryCxCoI8ySQA</td>\n",
       "      <td>Boston</td>\n",
       "      <td>2.5</td>\n",
       "      <td>24</td>\n",
       "      <td>1</td>\n",
       "      <td>Restaurants, Shopping, Shopping Centers</td>\n",
       "      <td>106.5</td>\n",
       "    </tr>\n",
       "    <tr>\n",
       "      <th>10</th>\n",
       "      <td>33</td>\n",
       "      <td>QciD6FbNklaJvUbLExD4Nw</td>\n",
       "      <td>Burnaby</td>\n",
       "      <td>4.0</td>\n",
       "      <td>76</td>\n",
       "      <td>1</td>\n",
       "      <td>Food Delivery Services, Food, Restaurants, Med...</td>\n",
       "      <td>71.5</td>\n",
       "    </tr>\n",
       "    <tr>\n",
       "      <th>13</th>\n",
       "      <td>41</td>\n",
       "      <td>NRPemqVb4qpWFF0Avq_6OQ</td>\n",
       "      <td>Austin</td>\n",
       "      <td>4.5</td>\n",
       "      <td>395</td>\n",
       "      <td>1</td>\n",
       "      <td>Bars, Nightlife, Cocktail Bars, Seafood, Resta...</td>\n",
       "      <td>84.5</td>\n",
       "    </tr>\n",
       "    <tr>\n",
       "      <th>20</th>\n",
       "      <td>61</td>\n",
       "      <td>bRsDZ44CD3uhGnRY3NeQhQ</td>\n",
       "      <td>Austin</td>\n",
       "      <td>2.0</td>\n",
       "      <td>46</td>\n",
       "      <td>1</td>\n",
       "      <td>Fast Food, Restaurants, Burgers</td>\n",
       "      <td>129.5</td>\n",
       "    </tr>\n",
       "    <tr>\n",
       "      <th>23</th>\n",
       "      <td>65</td>\n",
       "      <td>z-0oY7VxQMQw3JHvdPejrA</td>\n",
       "      <td>Austin</td>\n",
       "      <td>3.0</td>\n",
       "      <td>21</td>\n",
       "      <td>0</td>\n",
       "      <td>Coffee &amp; Tea, Tex-Mex, Restaurants, Mexican, Food</td>\n",
       "      <td>115.5</td>\n",
       "    </tr>\n",
       "    <tr>\n",
       "      <th>...</th>\n",
       "      <td>...</td>\n",
       "      <td>...</td>\n",
       "      <td>...</td>\n",
       "      <td>...</td>\n",
       "      <td>...</td>\n",
       "      <td>...</td>\n",
       "      <td>...</td>\n",
       "      <td>...</td>\n",
       "    </tr>\n",
       "    <tr>\n",
       "      <th>42864</th>\n",
       "      <td>160555</td>\n",
       "      <td>cjyyjjBQXp2HdvlHKT_bCw</td>\n",
       "      <td>Columbus</td>\n",
       "      <td>3.0</td>\n",
       "      <td>81</td>\n",
       "      <td>1</td>\n",
       "      <td>Breakfast &amp; Brunch, Restaurants, American (Tra...</td>\n",
       "      <td>59.5</td>\n",
       "    </tr>\n",
       "    <tr>\n",
       "      <th>42865</th>\n",
       "      <td>160556</td>\n",
       "      <td>87f7kR7nTz8WHnmtLM_S6w</td>\n",
       "      <td>Boston</td>\n",
       "      <td>4.5</td>\n",
       "      <td>737</td>\n",
       "      <td>1</td>\n",
       "      <td>Japanese, Sushi Bars, Restaurants</td>\n",
       "      <td>47.5</td>\n",
       "    </tr>\n",
       "    <tr>\n",
       "      <th>42866</th>\n",
       "      <td>160561</td>\n",
       "      <td>jYgqSazE0gUyI7qq086Dzw</td>\n",
       "      <td>Portland</td>\n",
       "      <td>3.5</td>\n",
       "      <td>457</td>\n",
       "      <td>1</td>\n",
       "      <td>Event Planning &amp; Services, Steakhouses, Seafoo...</td>\n",
       "      <td>43.5</td>\n",
       "    </tr>\n",
       "    <tr>\n",
       "      <th>42869</th>\n",
       "      <td>160569</td>\n",
       "      <td>_-nynGfhsMVVWWbAZ6YhTw</td>\n",
       "      <td>Quincy</td>\n",
       "      <td>3.0</td>\n",
       "      <td>30</td>\n",
       "      <td>0</td>\n",
       "      <td>Restaurants, American (New), Nightlife</td>\n",
       "      <td>81.0</td>\n",
       "    </tr>\n",
       "    <tr>\n",
       "      <th>42870</th>\n",
       "      <td>160572</td>\n",
       "      <td>r5Uag1JqYjr2nbxQCVqm8A</td>\n",
       "      <td>Orlando</td>\n",
       "      <td>4.5</td>\n",
       "      <td>437</td>\n",
       "      <td>1</td>\n",
       "      <td>Restaurants, Noodles, Salad, Vietnamese, Veget...</td>\n",
       "      <td>90.5</td>\n",
       "    </tr>\n",
       "  </tbody>\n",
       "</table>\n",
       "<p>10274 rows × 8 columns</p>\n",
       "</div>"
      ],
      "text/plain": [
       "        index             business_id      city  stars  review_count  is_open  \\\n",
       "8          26  hcRxdDg7DYryCxCoI8ySQA    Boston    2.5            24        1   \n",
       "10         33  QciD6FbNklaJvUbLExD4Nw   Burnaby    4.0            76        1   \n",
       "13         41  NRPemqVb4qpWFF0Avq_6OQ    Austin    4.5           395        1   \n",
       "20         61  bRsDZ44CD3uhGnRY3NeQhQ    Austin    2.0            46        1   \n",
       "23         65  z-0oY7VxQMQw3JHvdPejrA    Austin    3.0            21        0   \n",
       "...       ...                     ...       ...    ...           ...      ...   \n",
       "42864  160555  cjyyjjBQXp2HdvlHKT_bCw  Columbus    3.0            81        1   \n",
       "42865  160556  87f7kR7nTz8WHnmtLM_S6w    Boston    4.5           737        1   \n",
       "42866  160561  jYgqSazE0gUyI7qq086Dzw  Portland    3.5           457        1   \n",
       "42869  160569  _-nynGfhsMVVWWbAZ6YhTw    Quincy    3.0            30        0   \n",
       "42870  160572  r5Uag1JqYjr2nbxQCVqm8A   Orlando    4.5           437        1   \n",
       "\n",
       "                                              categories  nhours  \n",
       "8                Restaurants, Shopping, Shopping Centers   106.5  \n",
       "10     Food Delivery Services, Food, Restaurants, Med...    71.5  \n",
       "13     Bars, Nightlife, Cocktail Bars, Seafood, Resta...    84.5  \n",
       "20                       Fast Food, Restaurants, Burgers   129.5  \n",
       "23     Coffee & Tea, Tex-Mex, Restaurants, Mexican, Food   115.5  \n",
       "...                                                  ...     ...  \n",
       "42864  Breakfast & Brunch, Restaurants, American (Tra...    59.5  \n",
       "42865                  Japanese, Sushi Bars, Restaurants    47.5  \n",
       "42866  Event Planning & Services, Steakhouses, Seafoo...    43.5  \n",
       "42869             Restaurants, American (New), Nightlife    81.0  \n",
       "42870  Restaurants, Noodles, Salad, Vietnamese, Veget...    90.5  \n",
       "\n",
       "[10274 rows x 8 columns]"
      ]
     },
     "execution_count": 30,
     "metadata": {},
     "output_type": "execute_result"
    }
   ],
   "source": [
    "df_new[df_new['nhours']%1!=0]"
   ]
  },
  {
   "cell_type": "code",
   "execution_count": 29,
   "id": "rural-initial",
   "metadata": {},
   "outputs": [
    {
     "data": {
      "text/html": [
       "<div>\n",
       "<style scoped>\n",
       "    .dataframe tbody tr th:only-of-type {\n",
       "        vertical-align: middle;\n",
       "    }\n",
       "\n",
       "    .dataframe tbody tr th {\n",
       "        vertical-align: top;\n",
       "    }\n",
       "\n",
       "    .dataframe thead th {\n",
       "        text-align: right;\n",
       "    }\n",
       "</style>\n",
       "<table border=\"1\" class=\"dataframe\">\n",
       "  <thead>\n",
       "    <tr style=\"text-align: right;\">\n",
       "      <th></th>\n",
       "      <th>index</th>\n",
       "      <th>business_id</th>\n",
       "      <th>city</th>\n",
       "      <th>stars</th>\n",
       "      <th>review_count</th>\n",
       "      <th>is_open</th>\n",
       "      <th>categories</th>\n",
       "      <th>nhours</th>\n",
       "    </tr>\n",
       "  </thead>\n",
       "  <tbody>\n",
       "    <tr>\n",
       "      <th>0</th>\n",
       "      <td>0</td>\n",
       "      <td>6iYb2HFDywm3zjuRg0shjw</td>\n",
       "      <td>Boulder</td>\n",
       "      <td>4.0</td>\n",
       "      <td>86</td>\n",
       "      <td>1</td>\n",
       "      <td>Gastropubs, Food, Beer Gardens, Restaurants, B...</td>\n",
       "      <td>84.0</td>\n",
       "    </tr>\n",
       "    <tr>\n",
       "      <th>1</th>\n",
       "      <td>1</td>\n",
       "      <td>tCbdrRPZA0oiIYSmHG3J0w</td>\n",
       "      <td>Portland</td>\n",
       "      <td>4.0</td>\n",
       "      <td>126</td>\n",
       "      <td>1</td>\n",
       "      <td>Salad, Soup, Sandwiches, Delis, Restaurants, C...</td>\n",
       "      <td>90.0</td>\n",
       "    </tr>\n",
       "    <tr>\n",
       "      <th>2</th>\n",
       "      <td>5</td>\n",
       "      <td>D4JtQNTI4X3KcbzacDJsMw</td>\n",
       "      <td>Vancouver</td>\n",
       "      <td>3.5</td>\n",
       "      <td>169</td>\n",
       "      <td>1</td>\n",
       "      <td>Restaurants, Thai</td>\n",
       "      <td>28.0</td>\n",
       "    </tr>\n",
       "    <tr>\n",
       "      <th>3</th>\n",
       "      <td>7</td>\n",
       "      <td>jFYIsSb7r1QeESVUnXPHBw</td>\n",
       "      <td>Columbus</td>\n",
       "      <td>4.5</td>\n",
       "      <td>11</td>\n",
       "      <td>1</td>\n",
       "      <td>Breakfast &amp; Brunch, Restaurants</td>\n",
       "      <td>12.0</td>\n",
       "    </tr>\n",
       "    <tr>\n",
       "      <th>4</th>\n",
       "      <td>12</td>\n",
       "      <td>HPA_qyMEddpAEtFof02ixg</td>\n",
       "      <td>Peabody</td>\n",
       "      <td>4.0</td>\n",
       "      <td>39</td>\n",
       "      <td>1</td>\n",
       "      <td>Food, Pizza, Restaurants</td>\n",
       "      <td>62.0</td>\n",
       "    </tr>\n",
       "    <tr>\n",
       "      <th>...</th>\n",
       "      <td>...</td>\n",
       "      <td>...</td>\n",
       "      <td>...</td>\n",
       "      <td>...</td>\n",
       "      <td>...</td>\n",
       "      <td>...</td>\n",
       "      <td>...</td>\n",
       "      <td>...</td>\n",
       "    </tr>\n",
       "    <tr>\n",
       "      <th>42870</th>\n",
       "      <td>160572</td>\n",
       "      <td>r5Uag1JqYjr2nbxQCVqm8A</td>\n",
       "      <td>Orlando</td>\n",
       "      <td>4.5</td>\n",
       "      <td>437</td>\n",
       "      <td>1</td>\n",
       "      <td>Restaurants, Noodles, Salad, Vietnamese, Veget...</td>\n",
       "      <td>90.5</td>\n",
       "    </tr>\n",
       "    <tr>\n",
       "      <th>42871</th>\n",
       "      <td>160573</td>\n",
       "      <td>Zl6SUy6x9jqjRu2HbtEO6A</td>\n",
       "      <td>Tigard</td>\n",
       "      <td>2.0</td>\n",
       "      <td>48</td>\n",
       "      <td>0</td>\n",
       "      <td>American (Traditional), Desserts, American (Ne...</td>\n",
       "      <td>87.0</td>\n",
       "    </tr>\n",
       "    <tr>\n",
       "      <th>42872</th>\n",
       "      <td>160574</td>\n",
       "      <td>Q78fYV6B6P6GmX07YVgi4g</td>\n",
       "      <td>Bee Cave</td>\n",
       "      <td>3.0</td>\n",
       "      <td>310</td>\n",
       "      <td>1</td>\n",
       "      <td>Mexican, Bars, Nightlife, Tex-Mex, Restaurants</td>\n",
       "      <td>97.0</td>\n",
       "    </tr>\n",
       "    <tr>\n",
       "      <th>42873</th>\n",
       "      <td>160575</td>\n",
       "      <td>uXdQkuEtvLAzfc3MsO-sTQ</td>\n",
       "      <td>Atlanta</td>\n",
       "      <td>3.0</td>\n",
       "      <td>185</td>\n",
       "      <td>1</td>\n",
       "      <td>Restaurants, Mexican, Latin American</td>\n",
       "      <td>168.0</td>\n",
       "    </tr>\n",
       "    <tr>\n",
       "      <th>42874</th>\n",
       "      <td>160584</td>\n",
       "      <td>ngmLL5Y5OT-bYHKU0kKrYA</td>\n",
       "      <td>Altamonte Springs</td>\n",
       "      <td>4.5</td>\n",
       "      <td>82</td>\n",
       "      <td>0</td>\n",
       "      <td>Restaurants, Middle Eastern, Mediterranean, Pe...</td>\n",
       "      <td>33.0</td>\n",
       "    </tr>\n",
       "  </tbody>\n",
       "</table>\n",
       "<p>42875 rows × 8 columns</p>\n",
       "</div>"
      ],
      "text/plain": [
       "        index             business_id               city  stars  review_count  \\\n",
       "0           0  6iYb2HFDywm3zjuRg0shjw            Boulder    4.0            86   \n",
       "1           1  tCbdrRPZA0oiIYSmHG3J0w           Portland    4.0           126   \n",
       "2           5  D4JtQNTI4X3KcbzacDJsMw          Vancouver    3.5           169   \n",
       "3           7  jFYIsSb7r1QeESVUnXPHBw           Columbus    4.5            11   \n",
       "4          12  HPA_qyMEddpAEtFof02ixg            Peabody    4.0            39   \n",
       "...       ...                     ...                ...    ...           ...   \n",
       "42870  160572  r5Uag1JqYjr2nbxQCVqm8A            Orlando    4.5           437   \n",
       "42871  160573  Zl6SUy6x9jqjRu2HbtEO6A             Tigard    2.0            48   \n",
       "42872  160574  Q78fYV6B6P6GmX07YVgi4g           Bee Cave    3.0           310   \n",
       "42873  160575  uXdQkuEtvLAzfc3MsO-sTQ            Atlanta    3.0           185   \n",
       "42874  160584  ngmLL5Y5OT-bYHKU0kKrYA  Altamonte Springs    4.5            82   \n",
       "\n",
       "       is_open                                         categories  nhours  \n",
       "0            1  Gastropubs, Food, Beer Gardens, Restaurants, B...    84.0  \n",
       "1            1  Salad, Soup, Sandwiches, Delis, Restaurants, C...    90.0  \n",
       "2            1                                  Restaurants, Thai    28.0  \n",
       "3            1                    Breakfast & Brunch, Restaurants    12.0  \n",
       "4            1                           Food, Pizza, Restaurants    62.0  \n",
       "...        ...                                                ...     ...  \n",
       "42870        1  Restaurants, Noodles, Salad, Vietnamese, Veget...    90.5  \n",
       "42871        0  American (Traditional), Desserts, American (Ne...    87.0  \n",
       "42872        1     Mexican, Bars, Nightlife, Tex-Mex, Restaurants    97.0  \n",
       "42873        1               Restaurants, Mexican, Latin American   168.0  \n",
       "42874        0  Restaurants, Middle Eastern, Mediterranean, Pe...    33.0  \n",
       "\n",
       "[42875 rows x 8 columns]"
      ]
     },
     "execution_count": 29,
     "metadata": {},
     "output_type": "execute_result"
    }
   ],
   "source": [
    "df_new=df_new.drop('hours',axis=1)\n",
    "df_new"
   ]
  },
  {
   "cell_type": "code",
   "execution_count": 35,
   "id": "wanted-attendance",
   "metadata": {},
   "outputs": [
    {
     "data": {
      "text/plain": [
       "'Portland'"
      ]
     },
     "execution_count": 35,
     "metadata": {},
     "output_type": "execute_result"
    }
   ],
   "source": [
    "np.where(df_new.groupby(by = 'city').count()['index'].values==4898)\n",
    "df_new.groupby(by = 'city').count().index.values[314]\n"
   ]
  },
  {
   "cell_type": "markdown",
   "id": "useful-mileage",
   "metadata": {},
   "source": [
    "We will focus on the restaurants of Portland"
   ]
  },
  {
   "cell_type": "code",
   "execution_count": 34,
   "id": "adjusted-estate",
   "metadata": {},
   "outputs": [
    {
     "data": {
      "text/html": [
       "<div>\n",
       "<style scoped>\n",
       "    .dataframe tbody tr th:only-of-type {\n",
       "        vertical-align: middle;\n",
       "    }\n",
       "\n",
       "    .dataframe tbody tr th {\n",
       "        vertical-align: top;\n",
       "    }\n",
       "\n",
       "    .dataframe thead th {\n",
       "        text-align: right;\n",
       "    }\n",
       "</style>\n",
       "<table border=\"1\" class=\"dataframe\">\n",
       "  <thead>\n",
       "    <tr style=\"text-align: right;\">\n",
       "      <th></th>\n",
       "      <th>index</th>\n",
       "      <th>business_id</th>\n",
       "      <th>city</th>\n",
       "      <th>stars</th>\n",
       "      <th>review_count</th>\n",
       "      <th>is_open</th>\n",
       "      <th>categories</th>\n",
       "      <th>nhours</th>\n",
       "    </tr>\n",
       "  </thead>\n",
       "  <tbody>\n",
       "    <tr>\n",
       "      <th>29201</th>\n",
       "      <td>109714</td>\n",
       "      <td>vYY9CAMgS2QZ2uAkKg8zEA</td>\n",
       "      <td>Portland</td>\n",
       "      <td>3.5</td>\n",
       "      <td>8</td>\n",
       "      <td>0</td>\n",
       "      <td>American (Traditional), Sandwiches, Hot Dogs, ...</td>\n",
       "      <td>91.0</td>\n",
       "    </tr>\n",
       "    <tr>\n",
       "      <th>18919</th>\n",
       "      <td>71599</td>\n",
       "      <td>LP6pSgYMqm0dY4ctTSuhWg</td>\n",
       "      <td>Portland</td>\n",
       "      <td>4.5</td>\n",
       "      <td>22</td>\n",
       "      <td>1</td>\n",
       "      <td>Vegan, Ethiopian, African, Restaurants, Food T...</td>\n",
       "      <td>56.5</td>\n",
       "    </tr>\n",
       "    <tr>\n",
       "      <th>16843</th>\n",
       "      <td>63705</td>\n",
       "      <td>13fxyzYjSadC0mZC_KW2ig</td>\n",
       "      <td>Portland</td>\n",
       "      <td>3.5</td>\n",
       "      <td>306</td>\n",
       "      <td>1</td>\n",
       "      <td>Mexican, Restaurants</td>\n",
       "      <td>50.0</td>\n",
       "    </tr>\n",
       "    <tr>\n",
       "      <th>14416</th>\n",
       "      <td>54345</td>\n",
       "      <td>IjDXcfC08t3ZUUruUXzM0w</td>\n",
       "      <td>Portland</td>\n",
       "      <td>4.0</td>\n",
       "      <td>8</td>\n",
       "      <td>1</td>\n",
       "      <td>Thai, Noodles, Restaurants, Gluten-Free, Vegan...</td>\n",
       "      <td>60.0</td>\n",
       "    </tr>\n",
       "    <tr>\n",
       "      <th>26123</th>\n",
       "      <td>98618</td>\n",
       "      <td>ZMPzmjXmYHUSvj3RRcoGBQ</td>\n",
       "      <td>Portland</td>\n",
       "      <td>3.0</td>\n",
       "      <td>194</td>\n",
       "      <td>1</td>\n",
       "      <td>Bagels, Food, Coffee &amp; Tea, Coffee Roasteries,...</td>\n",
       "      <td>66.0</td>\n",
       "    </tr>\n",
       "    <tr>\n",
       "      <th>39174</th>\n",
       "      <td>146971</td>\n",
       "      <td>Nq816Zl4rMKf5LSrgbAscw</td>\n",
       "      <td>Portland</td>\n",
       "      <td>3.5</td>\n",
       "      <td>145</td>\n",
       "      <td>1</td>\n",
       "      <td>Breakfast &amp; Brunch, Restaurants, American (Tra...</td>\n",
       "      <td>57.5</td>\n",
       "    </tr>\n",
       "    <tr>\n",
       "      <th>40263</th>\n",
       "      <td>150950</td>\n",
       "      <td>8qT8FUfJnsvNdbk_VPU0cA</td>\n",
       "      <td>Portland</td>\n",
       "      <td>3.5</td>\n",
       "      <td>12</td>\n",
       "      <td>0</td>\n",
       "      <td>Burgers, Coffee &amp; Tea, Breakfast &amp; Brunch, Hot...</td>\n",
       "      <td>30.0</td>\n",
       "    </tr>\n",
       "    <tr>\n",
       "      <th>23202</th>\n",
       "      <td>87520</td>\n",
       "      <td>_kKMZjWDx5HMA_nEjLKlkg</td>\n",
       "      <td>Portland</td>\n",
       "      <td>4.5</td>\n",
       "      <td>11</td>\n",
       "      <td>0</td>\n",
       "      <td>Nightlife, Bars, Beer Bar, Beer, Wine &amp; Spirit...</td>\n",
       "      <td>44.0</td>\n",
       "    </tr>\n",
       "    <tr>\n",
       "      <th>10410</th>\n",
       "      <td>39336</td>\n",
       "      <td>3MIhYQRC6XUKZjIZbxRrYA</td>\n",
       "      <td>Portland</td>\n",
       "      <td>4.0</td>\n",
       "      <td>32</td>\n",
       "      <td>1</td>\n",
       "      <td>Comfort Food, Food Stands, Food Trucks, Food, ...</td>\n",
       "      <td>52.0</td>\n",
       "    </tr>\n",
       "    <tr>\n",
       "      <th>21114</th>\n",
       "      <td>79790</td>\n",
       "      <td>4QnOtrOdhvNkuutUjkaNuw</td>\n",
       "      <td>Portland</td>\n",
       "      <td>4.0</td>\n",
       "      <td>25</td>\n",
       "      <td>0</td>\n",
       "      <td>Food, Food Stands, Breakfast &amp; Brunch, Restaur...</td>\n",
       "      <td>35.0</td>\n",
       "    </tr>\n",
       "  </tbody>\n",
       "</table>\n",
       "</div>"
      ],
      "text/plain": [
       "        index             business_id      city  stars  review_count  is_open  \\\n",
       "29201  109714  vYY9CAMgS2QZ2uAkKg8zEA  Portland    3.5             8        0   \n",
       "18919   71599  LP6pSgYMqm0dY4ctTSuhWg  Portland    4.5            22        1   \n",
       "16843   63705  13fxyzYjSadC0mZC_KW2ig  Portland    3.5           306        1   \n",
       "14416   54345  IjDXcfC08t3ZUUruUXzM0w  Portland    4.0             8        1   \n",
       "26123   98618  ZMPzmjXmYHUSvj3RRcoGBQ  Portland    3.0           194        1   \n",
       "39174  146971  Nq816Zl4rMKf5LSrgbAscw  Portland    3.5           145        1   \n",
       "40263  150950  8qT8FUfJnsvNdbk_VPU0cA  Portland    3.5            12        0   \n",
       "23202   87520  _kKMZjWDx5HMA_nEjLKlkg  Portland    4.5            11        0   \n",
       "10410   39336  3MIhYQRC6XUKZjIZbxRrYA  Portland    4.0            32        1   \n",
       "21114   79790  4QnOtrOdhvNkuutUjkaNuw  Portland    4.0            25        0   \n",
       "\n",
       "                                              categories  nhours  \n",
       "29201  American (Traditional), Sandwiches, Hot Dogs, ...    91.0  \n",
       "18919  Vegan, Ethiopian, African, Restaurants, Food T...    56.5  \n",
       "16843                               Mexican, Restaurants    50.0  \n",
       "14416  Thai, Noodles, Restaurants, Gluten-Free, Vegan...    60.0  \n",
       "26123  Bagels, Food, Coffee & Tea, Coffee Roasteries,...    66.0  \n",
       "39174  Breakfast & Brunch, Restaurants, American (Tra...    57.5  \n",
       "40263  Burgers, Coffee & Tea, Breakfast & Brunch, Hot...    30.0  \n",
       "23202  Nightlife, Bars, Beer Bar, Beer, Wine & Spirit...    44.0  \n",
       "10410  Comfort Food, Food Stands, Food Trucks, Food, ...    52.0  \n",
       "21114  Food, Food Stands, Breakfast & Brunch, Restaur...    35.0  "
      ]
     },
     "execution_count": 34,
     "metadata": {},
     "output_type": "execute_result"
    }
   ],
   "source": [
    "df_city = df_new[df_new['city']=='Portland']\n",
    "df_city.sample(10)"
   ]
  },
  {
   "cell_type": "code",
   "execution_count": 35,
   "id": "filled-prisoner",
   "metadata": {},
   "outputs": [],
   "source": [
    "df_closed = df_city[df_city['is_open']==0]"
   ]
  },
  {
   "cell_type": "code",
   "execution_count": 36,
   "id": "republican-directory",
   "metadata": {},
   "outputs": [],
   "source": [
    "array_attributes = df_city['categories'].values\n",
    "attributes_list = []\n",
    "for i in array_attributes:\n",
    "    attributes_list.append(i.split(','))\n",
    "new_list_attributes = [el for sublist in attributes_list for el in sublist]\n",
    "list_attributes = list(set(new_list_attributes))"
   ]
  },
  {
   "cell_type": "code",
   "execution_count": 37,
   "id": "alike-england",
   "metadata": {},
   "outputs": [
    {
     "data": {
      "text/html": [
       "<div>\n",
       "<style scoped>\n",
       "    .dataframe tbody tr th:only-of-type {\n",
       "        vertical-align: middle;\n",
       "    }\n",
       "\n",
       "    .dataframe tbody tr th {\n",
       "        vertical-align: top;\n",
       "    }\n",
       "\n",
       "    .dataframe thead th {\n",
       "        text-align: right;\n",
       "    }\n",
       "</style>\n",
       "<table border=\"1\" class=\"dataframe\">\n",
       "  <thead>\n",
       "    <tr style=\"text-align: right;\">\n",
       "      <th></th>\n",
       "      <th>index</th>\n",
       "      <th>business_id</th>\n",
       "      <th>city</th>\n",
       "      <th>stars</th>\n",
       "      <th>review_count</th>\n",
       "      <th>is_open</th>\n",
       "      <th>categories</th>\n",
       "      <th>nhours</th>\n",
       "    </tr>\n",
       "  </thead>\n",
       "  <tbody>\n",
       "    <tr>\n",
       "      <th>1</th>\n",
       "      <td>1</td>\n",
       "      <td>tCbdrRPZA0oiIYSmHG3J0w</td>\n",
       "      <td>Portland</td>\n",
       "      <td>4.0</td>\n",
       "      <td>126</td>\n",
       "      <td>1</td>\n",
       "      <td>Salad, Soup, Sandwiches, Delis, Restaurants, C...</td>\n",
       "      <td>90.0</td>\n",
       "    </tr>\n",
       "    <tr>\n",
       "      <th>12</th>\n",
       "      <td>36</td>\n",
       "      <td>jx91IMdGOmLOo8h_F9z39g</td>\n",
       "      <td>Portland</td>\n",
       "      <td>3.5</td>\n",
       "      <td>19</td>\n",
       "      <td>1</td>\n",
       "      <td>Nightlife, Sandwiches, Seafood, Restaurants</td>\n",
       "      <td>114.0</td>\n",
       "    </tr>\n",
       "    <tr>\n",
       "      <th>16</th>\n",
       "      <td>50</td>\n",
       "      <td>5PsApTz-WqhF_-8mfqGtGw</td>\n",
       "      <td>Portland</td>\n",
       "      <td>3.5</td>\n",
       "      <td>158</td>\n",
       "      <td>1</td>\n",
       "      <td>Vegetarian, Vegan, Sandwiches, Soup, American ...</td>\n",
       "      <td>47.0</td>\n",
       "    </tr>\n",
       "    <tr>\n",
       "      <th>30</th>\n",
       "      <td>93</td>\n",
       "      <td>HMXiuCxHDXqMH1hBpaHd9g</td>\n",
       "      <td>Portland</td>\n",
       "      <td>5.0</td>\n",
       "      <td>7</td>\n",
       "      <td>0</td>\n",
       "      <td>Food Stands, Restaurants, Sandwiches</td>\n",
       "      <td>75.0</td>\n",
       "    </tr>\n",
       "    <tr>\n",
       "      <th>31</th>\n",
       "      <td>94</td>\n",
       "      <td>ZA3u0Nu5V6TqkcYh8U0zdg</td>\n",
       "      <td>Portland</td>\n",
       "      <td>4.5</td>\n",
       "      <td>131</td>\n",
       "      <td>0</td>\n",
       "      <td>Restaurants, Food, Sandwiches, Breakfast &amp; Bru...</td>\n",
       "      <td>55.5</td>\n",
       "    </tr>\n",
       "    <tr>\n",
       "      <th>...</th>\n",
       "      <td>...</td>\n",
       "      <td>...</td>\n",
       "      <td>...</td>\n",
       "      <td>...</td>\n",
       "      <td>...</td>\n",
       "      <td>...</td>\n",
       "      <td>...</td>\n",
       "      <td>...</td>\n",
       "    </tr>\n",
       "    <tr>\n",
       "      <th>42850</th>\n",
       "      <td>160509</td>\n",
       "      <td>ny28j9D88xot0Eq54ojpVQ</td>\n",
       "      <td>Portland</td>\n",
       "      <td>3.5</td>\n",
       "      <td>131</td>\n",
       "      <td>0</td>\n",
       "      <td>Italian, Restaurants</td>\n",
       "      <td>25.0</td>\n",
       "    </tr>\n",
       "    <tr>\n",
       "      <th>42851</th>\n",
       "      <td>160512</td>\n",
       "      <td>7r311z2Uq_UzHqu5hiipxA</td>\n",
       "      <td>Portland</td>\n",
       "      <td>4.0</td>\n",
       "      <td>165</td>\n",
       "      <td>1</td>\n",
       "      <td>Food Stands, Food, Street Vendors, Restaurants...</td>\n",
       "      <td>63.0</td>\n",
       "    </tr>\n",
       "    <tr>\n",
       "      <th>42854</th>\n",
       "      <td>160521</td>\n",
       "      <td>68nXXzFyK8tzcBlv8eM3tw</td>\n",
       "      <td>Portland</td>\n",
       "      <td>3.5</td>\n",
       "      <td>108</td>\n",
       "      <td>1</td>\n",
       "      <td>Pubs, Breweries, Food, American (Traditional),...</td>\n",
       "      <td>56.0</td>\n",
       "    </tr>\n",
       "    <tr>\n",
       "      <th>42859</th>\n",
       "      <td>160537</td>\n",
       "      <td>ER_VMRSD-9FSbw4SGGNQvA</td>\n",
       "      <td>Portland</td>\n",
       "      <td>3.5</td>\n",
       "      <td>13</td>\n",
       "      <td>0</td>\n",
       "      <td>Fashion, Men's Clothing, Restaurants, Shopping...</td>\n",
       "      <td>49.0</td>\n",
       "    </tr>\n",
       "    <tr>\n",
       "      <th>42866</th>\n",
       "      <td>160561</td>\n",
       "      <td>jYgqSazE0gUyI7qq086Dzw</td>\n",
       "      <td>Portland</td>\n",
       "      <td>3.5</td>\n",
       "      <td>457</td>\n",
       "      <td>1</td>\n",
       "      <td>Event Planning &amp; Services, Steakhouses, Seafoo...</td>\n",
       "      <td>43.5</td>\n",
       "    </tr>\n",
       "  </tbody>\n",
       "</table>\n",
       "<p>4898 rows × 8 columns</p>\n",
       "</div>"
      ],
      "text/plain": [
       "        index             business_id      city  stars  review_count  is_open  \\\n",
       "1           1  tCbdrRPZA0oiIYSmHG3J0w  Portland    4.0           126        1   \n",
       "12         36  jx91IMdGOmLOo8h_F9z39g  Portland    3.5            19        1   \n",
       "16         50  5PsApTz-WqhF_-8mfqGtGw  Portland    3.5           158        1   \n",
       "30         93  HMXiuCxHDXqMH1hBpaHd9g  Portland    5.0             7        0   \n",
       "31         94  ZA3u0Nu5V6TqkcYh8U0zdg  Portland    4.5           131        0   \n",
       "...       ...                     ...       ...    ...           ...      ...   \n",
       "42850  160509  ny28j9D88xot0Eq54ojpVQ  Portland    3.5           131        0   \n",
       "42851  160512  7r311z2Uq_UzHqu5hiipxA  Portland    4.0           165        1   \n",
       "42854  160521  68nXXzFyK8tzcBlv8eM3tw  Portland    3.5           108        1   \n",
       "42859  160537  ER_VMRSD-9FSbw4SGGNQvA  Portland    3.5            13        0   \n",
       "42866  160561  jYgqSazE0gUyI7qq086Dzw  Portland    3.5           457        1   \n",
       "\n",
       "                                              categories  nhours  \n",
       "1      Salad, Soup, Sandwiches, Delis, Restaurants, C...    90.0  \n",
       "12           Nightlife, Sandwiches, Seafood, Restaurants   114.0  \n",
       "16     Vegetarian, Vegan, Sandwiches, Soup, American ...    47.0  \n",
       "30                  Food Stands, Restaurants, Sandwiches    75.0  \n",
       "31     Restaurants, Food, Sandwiches, Breakfast & Bru...    55.5  \n",
       "...                                                  ...     ...  \n",
       "42850                               Italian, Restaurants    25.0  \n",
       "42851  Food Stands, Food, Street Vendors, Restaurants...    63.0  \n",
       "42854  Pubs, Breweries, Food, American (Traditional),...    56.0  \n",
       "42859  Fashion, Men's Clothing, Restaurants, Shopping...    49.0  \n",
       "42866  Event Planning & Services, Steakhouses, Seafoo...    43.5  \n",
       "\n",
       "[4898 rows x 8 columns]"
      ]
     },
     "execution_count": 37,
     "metadata": {},
     "output_type": "execute_result"
    }
   ],
   "source": [
    "df_city[df_city['categories'].str.contains('Restaurants')] "
   ]
  },
  {
   "cell_type": "code",
   "execution_count": 40,
   "id": "revised-entrepreneur",
   "metadata": {},
   "outputs": [],
   "source": [
    "#import matplotlib.pyplot as plt\n",
    "#for el in set_attributes:\n",
    "    #sb.countplot(data = df_city[df_city['categories'].str.contains(el)], x='is_open')\n",
    "    #plt.title(el)\n",
    "    #plt.show()"
   ]
  },
  {
   "cell_type": "code",
   "execution_count": 41,
   "id": "popular-morocco",
   "metadata": {},
   "outputs": [
    {
     "data": {
      "text/html": [
       "<div>\n",
       "<style scoped>\n",
       "    .dataframe tbody tr th:only-of-type {\n",
       "        vertical-align: middle;\n",
       "    }\n",
       "\n",
       "    .dataframe tbody tr th {\n",
       "        vertical-align: top;\n",
       "    }\n",
       "\n",
       "    .dataframe thead th {\n",
       "        text-align: right;\n",
       "    }\n",
       "</style>\n",
       "<table border=\"1\" class=\"dataframe\">\n",
       "  <thead>\n",
       "    <tr style=\"text-align: right;\">\n",
       "      <th></th>\n",
       "      <th>index</th>\n",
       "      <th>business_id</th>\n",
       "      <th>city</th>\n",
       "      <th>stars</th>\n",
       "      <th>review_count</th>\n",
       "      <th>categories</th>\n",
       "      <th>nhours</th>\n",
       "    </tr>\n",
       "    <tr>\n",
       "      <th>is_open</th>\n",
       "      <th></th>\n",
       "      <th></th>\n",
       "      <th></th>\n",
       "      <th></th>\n",
       "      <th></th>\n",
       "      <th></th>\n",
       "      <th></th>\n",
       "    </tr>\n",
       "  </thead>\n",
       "  <tbody>\n",
       "    <tr>\n",
       "      <th>0</th>\n",
       "      <td>2</td>\n",
       "      <td>2</td>\n",
       "      <td>2</td>\n",
       "      <td>2</td>\n",
       "      <td>2</td>\n",
       "      <td>2</td>\n",
       "      <td>2</td>\n",
       "    </tr>\n",
       "  </tbody>\n",
       "</table>\n",
       "</div>"
      ],
      "text/plain": [
       "         index  business_id  city  stars  review_count  categories  nhours\n",
       "is_open                                                                   \n",
       "0            2            2     2      2             2           2       2"
      ]
     },
     "execution_count": 41,
     "metadata": {},
     "output_type": "execute_result"
    }
   ],
   "source": [
    "#df_city[df_city['categories'].str.contains('Pet Services')].groupby(by='is_open').count()"
   ]
  },
  {
   "cell_type": "code",
   "execution_count": 38,
   "id": "level-advocacy",
   "metadata": {},
   "outputs": [
    {
     "data": {
      "text/plain": [
       "1        Salad,Soup,Sandwiches,Delis,Restaurants,Cafes,...\n",
       "12                Nightlife,Sandwiches,Seafood,Restaurants\n",
       "16       Vegetarian,Vegan,Sandwiches,Soup,American(New)...\n",
       "30                       FoodStands,Restaurants,Sandwiches\n",
       "31       Restaurants,Food,Sandwiches,Breakfast&Brunch,G...\n",
       "                               ...                        \n",
       "42850                                  Italian,Restaurants\n",
       "42851       FoodStands,Food,StreetVendors,Restaurants,Thai\n",
       "42854    Pubs,Breweries,Food,American(Traditional),Bars...\n",
       "42859    Fashion,Men'sClothing,Restaurants,Shopping,Wom...\n",
       "42866    EventPlanning&Services,Steakhouses,Seafood,Ven...\n",
       "Name: categories, Length: 4898, dtype: object"
      ]
     },
     "execution_count": 38,
     "metadata": {},
     "output_type": "execute_result"
    }
   ],
   "source": [
    "cat=df_city.categories.str.replace(' ', '')\n",
    "cat"
   ]
  },
  {
   "cell_type": "code",
   "execution_count": 39,
   "id": "satisfied-edinburgh",
   "metadata": {},
   "outputs": [],
   "source": [
    "array_attributes = cat.values\n",
    "attributes_list = []\n",
    "for i in array_attributes:\n",
    "    attributes_list.append(i.split(','))\n",
    "new_list_attributes = [el for sublist in attributes_list for el in sublist]\n",
    "list_attributes = list(set(new_list_attributes))"
   ]
  },
  {
   "cell_type": "code",
   "execution_count": 44,
   "id": "suited-world",
   "metadata": {},
   "outputs": [
    {
     "data": {
      "text/plain": [
       "4898"
      ]
     },
     "execution_count": 44,
     "metadata": {},
     "output_type": "execute_result"
    }
   ],
   "source": [
    "df_city[df_city['categories'].str.contains('Restaurant')].count().values[0]"
   ]
  },
  {
   "cell_type": "code",
   "execution_count": 40,
   "id": "satisfactory-ozone",
   "metadata": {},
   "outputs": [
    {
     "name": "stderr",
     "output_type": "stream",
     "text": [
      "/Applications/anaconda/anaconda3/lib/python3.8/site-packages/pandas/core/strings/accessor.py:101: UserWarning: This pattern has match groups. To actually get the groups, use str.extract.\n",
      "  return func(self, *args, **kwargs)\n"
     ]
    }
   ],
   "source": [
    "mag = []\n",
    "for el in list_attributes:\n",
    "    if df_city[df_city['categories'].str.contains(el)].count().values[0] > 300:\n",
    "        mag.append(el)"
   ]
  },
  {
   "cell_type": "code",
   "execution_count": 41,
   "id": "incomplete-cleaning",
   "metadata": {},
   "outputs": [
    {
     "data": {
      "text/plain": [
       "['Beer',\n",
       " 'Cafes',\n",
       " 'Mexican',\n",
       " 'Bars',\n",
       " 'Nightlife',\n",
       " 'Burgers',\n",
       " 'Pizza',\n",
       " 'Sandwiches']"
      ]
     },
     "execution_count": 41,
     "metadata": {},
     "output_type": "execute_result"
    }
   ],
   "source": [
    "mag.remove('Restaurants')\n",
    "mag.remove('Food')\n",
    "mag"
   ]
  },
  {
   "cell_type": "code",
   "execution_count": 42,
   "id": "literary-transcript",
   "metadata": {},
   "outputs": [
    {
     "data": {
      "image/png": "[encoded data removed]",
      "text/plain": [
       "<Figure size 1152x864 with 8 Axes>"
      ]
     },
     "metadata": {
      "needs_background": "light"
     },
     "output_type": "display_data"
    }
   ],
   "source": [
    "import matplotlib.pyplot as plt\n",
    "import seaborn as sb\n",
    "fig, axes = plt.subplots(2,4, sharex=True, sharey= True, figsize = (16,12))\n",
    "for i in range(4):\n",
    "    sb.countplot(data = df_city[df_city['categories'].str.contains(mag[i])], x = 'is_open', ax = axes[0, i]).set_title(mag[i])\n",
    "for i in range(4):\n",
    "    sb.countplot(data = df_city[df_city['categories'].str.contains(mag[4+i])], x = 'is_open', ax = axes[1, i]).set_title(mag[4+i])"
   ]
  },
  {
   "cell_type": "code",
   "execution_count": null,
   "id": "endless-shipping",
   "metadata": {},
   "outputs": [],
   "source": []
  },
  {
   "cell_type": "code",
   "execution_count": 44,
   "id": "indoor-syracuse",
   "metadata": {},
   "outputs": [],
   "source": [
    "import numpy as np\n",
    "for i in mag:\n",
    "    array = np.zeros(len(df_city))\n",
    "    indices_true = np.where(df_city['categories'].str.contains(i).values==True)\n",
    "    array[indices_true]= 1\n",
    "    df_city.insert(1, i, array.tolist())"
   ]
  },
  {
   "cell_type": "code",
   "execution_count": 46,
   "id": "blessed-diameter",
   "metadata": {},
   "outputs": [
    {
     "data": {
      "text/plain": [
       "'2014-10-11 03:34:02'"
      ]
     },
     "execution_count": 46,
     "metadata": {},
     "output_type": "execute_result"
    }
   ],
   "source": [
    "from datetime import datetime\n",
    "result['date'].values[0]"
   ]
  },
  {
   "cell_type": "code",
   "execution_count": 50,
   "id": "hearing-champion",
   "metadata": {},
   "outputs": [
    {
     "ename": "TypeError",
     "evalue": "fromisoformat: argument must be str",
     "output_type": "error",
     "traceback": [
      "\u001b[0;31m---------------------------------------------------------------------------\u001b[0m",
      "\u001b[0;31mTypeError\u001b[0m                                 Traceback (most recent call last)",
      "\u001b[0;32m<ipython-input-50-1e60eb3a1559>\u001b[0m in \u001b[0;36m<module>\u001b[0;34m\u001b[0m\n\u001b[1;32m      1\u001b[0m \u001b[0;32mfor\u001b[0m \u001b[0mi\u001b[0m \u001b[0;32min\u001b[0m \u001b[0mrange\u001b[0m\u001b[0;34m(\u001b[0m\u001b[0;36m1\u001b[0m\u001b[0;34m,\u001b[0m\u001b[0mlen\u001b[0m\u001b[0;34m(\u001b[0m\u001b[0mresult\u001b[0m\u001b[0;34m)\u001b[0m\u001b[0;34m)\u001b[0m\u001b[0;34m:\u001b[0m\u001b[0;34m\u001b[0m\u001b[0;34m\u001b[0m\u001b[0m\n\u001b[0;32m----> 2\u001b[0;31m     \u001b[0mresult\u001b[0m\u001b[0;34m[\u001b[0m\u001b[0;34m'date'\u001b[0m\u001b[0;34m]\u001b[0m\u001b[0;34m.\u001b[0m\u001b[0mvalues\u001b[0m\u001b[0;34m[\u001b[0m\u001b[0mi\u001b[0m\u001b[0;34m]\u001b[0m\u001b[0;34m=\u001b[0m\u001b[0mdatetime\u001b[0m\u001b[0;34m.\u001b[0m\u001b[0mfromisoformat\u001b[0m\u001b[0;34m(\u001b[0m\u001b[0mresult\u001b[0m\u001b[0;34m[\u001b[0m\u001b[0;34m'date'\u001b[0m\u001b[0;34m]\u001b[0m\u001b[0;34m.\u001b[0m\u001b[0mvalues\u001b[0m\u001b[0;34m[\u001b[0m\u001b[0mi\u001b[0m\u001b[0;34m]\u001b[0m\u001b[0;34m)\u001b[0m\u001b[0;34m.\u001b[0m\u001b[0mtimestamp\u001b[0m\u001b[0;34m(\u001b[0m\u001b[0;34m)\u001b[0m\u001b[0;34m\u001b[0m\u001b[0;34m\u001b[0m\u001b[0m\n\u001b[0m",
      "\u001b[0;31mTypeError\u001b[0m: fromisoformat: argument must be str"
     ]
    }
   ],
   "source": [
    "for i in range(len(result)):\n",
    "    result['date'].values[i]=datetime.fromisoformat(result['date'].values[i]).timestamp()"
   ]
  },
  {
   "cell_type": "code",
   "execution_count": 51,
   "id": "13c0666c",
   "metadata": {},
   "outputs": [
    {
     "data": {
      "text/html": [
       "<div>\n",
       "<style scoped>\n",
       "    .dataframe tbody tr th:only-of-type {\n",
       "        vertical-align: middle;\n",
       "    }\n",
       "\n",
       "    .dataframe tbody tr th {\n",
       "        vertical-align: top;\n",
       "    }\n",
       "\n",
       "    .dataframe thead th {\n",
       "        text-align: right;\n",
       "    }\n",
       "</style>\n",
       "<table border=\"1\" class=\"dataframe\">\n",
       "  <thead>\n",
       "    <tr style=\"text-align: right;\">\n",
       "      <th></th>\n",
       "      <th>business_id</th>\n",
       "      <th>stars</th>\n",
       "      <th>useful</th>\n",
       "      <th>date</th>\n",
       "    </tr>\n",
       "  </thead>\n",
       "  <tbody>\n",
       "    <tr>\n",
       "      <th>0</th>\n",
       "      <td>buF9druCkbuXLX526sGELQ</td>\n",
       "      <td>4</td>\n",
       "      <td>3</td>\n",
       "      <td>1412991242.0</td>\n",
       "    </tr>\n",
       "    <tr>\n",
       "      <th>1</th>\n",
       "      <td>RA4V8pr014UyUbDvI-LW2A</td>\n",
       "      <td>4</td>\n",
       "      <td>1</td>\n",
       "      <td>1435948705.0</td>\n",
       "    </tr>\n",
       "    <tr>\n",
       "      <th>2</th>\n",
       "      <td>_sS2LBIGNT5NQb6PD1Vtjw</td>\n",
       "      <td>5</td>\n",
       "      <td>0</td>\n",
       "      <td>1369766286.0</td>\n",
       "    </tr>\n",
       "    <tr>\n",
       "      <th>3</th>\n",
       "      <td>0AzLzHfOJgL7ROwhdww2ew</td>\n",
       "      <td>2</td>\n",
       "      <td>1</td>\n",
       "      <td>1262914155.0</td>\n",
       "    </tr>\n",
       "    <tr>\n",
       "      <th>4</th>\n",
       "      <td>8zehGz9jnxPqXtOc7KaJxA</td>\n",
       "      <td>4</td>\n",
       "      <td>0</td>\n",
       "      <td>1311869101.0</td>\n",
       "    </tr>\n",
       "    <tr>\n",
       "      <th>...</th>\n",
       "      <td>...</td>\n",
       "      <td>...</td>\n",
       "      <td>...</td>\n",
       "      <td>...</td>\n",
       "    </tr>\n",
       "    <tr>\n",
       "      <th>135398</th>\n",
       "      <td>yyTtwwQ4JnQMJ2rn3W0S0g</td>\n",
       "      <td>1</td>\n",
       "      <td>0</td>\n",
       "      <td>1611630434.0</td>\n",
       "    </tr>\n",
       "    <tr>\n",
       "      <th>135399</th>\n",
       "      <td>RDgwjgbu5xziFIAaNn3WCQ</td>\n",
       "      <td>1</td>\n",
       "      <td>13</td>\n",
       "      <td>1556738503.0</td>\n",
       "    </tr>\n",
       "    <tr>\n",
       "      <th>135400</th>\n",
       "      <td>rbuj2X4SXIc3MDul4dcxIA</td>\n",
       "      <td>5</td>\n",
       "      <td>39</td>\n",
       "      <td>1592008766.0</td>\n",
       "    </tr>\n",
       "    <tr>\n",
       "      <th>135401</th>\n",
       "      <td>IRzjEZ2pX4iOpnBG7oZJ7g</td>\n",
       "      <td>2</td>\n",
       "      <td>2</td>\n",
       "      <td>1592855650.0</td>\n",
       "    </tr>\n",
       "    <tr>\n",
       "      <th>135402</th>\n",
       "      <td>pxwYIa1jZzHJ4R0Sp1cHFw</td>\n",
       "      <td>5</td>\n",
       "      <td>11</td>\n",
       "      <td>1555468059.0</td>\n",
       "    </tr>\n",
       "  </tbody>\n",
       "</table>\n",
       "<p>8635403 rows × 4 columns</p>\n",
       "</div>"
      ],
      "text/plain": [
       "                   business_id  stars  useful          date\n",
       "0       buF9druCkbuXLX526sGELQ      4       3  1412991242.0\n",
       "1       RA4V8pr014UyUbDvI-LW2A      4       1  1435948705.0\n",
       "2       _sS2LBIGNT5NQb6PD1Vtjw      5       0  1369766286.0\n",
       "3       0AzLzHfOJgL7ROwhdww2ew      2       1  1262914155.0\n",
       "4       8zehGz9jnxPqXtOc7KaJxA      4       0  1311869101.0\n",
       "...                        ...    ...     ...           ...\n",
       "135398  yyTtwwQ4JnQMJ2rn3W0S0g      1       0  1611630434.0\n",
       "135399  RDgwjgbu5xziFIAaNn3WCQ      1      13  1556738503.0\n",
       "135400  rbuj2X4SXIc3MDul4dcxIA      5      39  1592008766.0\n",
       "135401  IRzjEZ2pX4iOpnBG7oZJ7g      2       2  1592855650.0\n",
       "135402  pxwYIa1jZzHJ4R0Sp1cHFw      5      11  1555468059.0\n",
       "\n",
       "[8635403 rows x 4 columns]"
      ]
     },
     "execution_count": 51,
     "metadata": {},
     "output_type": "execute_result"
    }
   ],
   "source": [
    "result"
   ]
  },
  {
   "cell_type": "code",
   "execution_count": 96,
   "id": "ac47838e",
   "metadata": {},
   "outputs": [],
   "source": [
    "result = result.rename(columns={'stars': 'rates'})\n",
    "#useful=result[result['useful']>=1]"
   ]
  },
  {
   "cell_type": "code",
   "execution_count": 94,
   "id": "05c3f9bd",
   "metadata": {},
   "outputs": [],
   "source": [
    "merged=pd.merge(df_city, result)\n",
    "top10=merged.sort_values(['business_id','date'],ascending=False).groupby('business_id').head(10)"
   ]
  },
  {
   "cell_type": "code",
   "execution_count": 98,
   "id": "ea1be345",
   "metadata": {},
   "outputs": [],
   "source": [
    "#grouped=merged.groupby(by='business_id')\n",
    "#meanuseful=grouped['rates'].mean()\n",
    "top10gr=top10.groupby(by='business_id')"
   ]
  },
  {
   "cell_type": "code",
   "execution_count": 109,
   "id": "8e134af6",
   "metadata": {},
   "outputs": [],
   "source": [
    "#meanuseful\n",
    "top10means=top10gr['rates'].mean()\n",
    "top10means=top10means.to_frame().reset_index()\n",
    "top10means=top10means.rename(columns={'rates': 'mean_of_recent_10'})\n",
    "df_city=pd.merge(df_city,top10means)"
   ]
  },
  {
   "cell_type": "code",
   "execution_count": 110,
   "id": "29a2fb5e",
   "metadata": {},
   "outputs": [],
   "source": [
    "top20=merged.sort_values(['business_id','date'],ascending=False).groupby('business_id').head(20)"
   ]
  },
  {
   "cell_type": "code",
   "execution_count": 111,
   "id": "c144151a",
   "metadata": {},
   "outputs": [],
   "source": [
    "top20gr=top20.groupby(by='business_id')"
   ]
  },
  {
   "cell_type": "code",
   "execution_count": 116,
   "id": "80dff53d",
   "metadata": {},
   "outputs": [],
   "source": [
    "top20means=top20gr['rates'].mean()\n",
    "top20means=top20means.to_frame().reset_index()\n",
    "top20means=top20means.rename(columns={'rates': 'mean_of_recent_20'})\n",
    "df_city=pd.merge(df_city,top20means)"
   ]
  },
  {
   "cell_type": "code",
   "execution_count": 117,
   "id": "dbdb5550",
   "metadata": {},
   "outputs": [
    {
     "data": {
      "text/html": [
       "<div>\n",
       "<style scoped>\n",
       "    .dataframe tbody tr th:only-of-type {\n",
       "        vertical-align: middle;\n",
       "    }\n",
       "\n",
       "    .dataframe tbody tr th {\n",
       "        vertical-align: top;\n",
       "    }\n",
       "\n",
       "    .dataframe thead th {\n",
       "        text-align: right;\n",
       "    }\n",
       "</style>\n",
       "<table border=\"1\" class=\"dataframe\">\n",
       "  <thead>\n",
       "    <tr style=\"text-align: right;\">\n",
       "      <th></th>\n",
       "      <th>index</th>\n",
       "      <th>Sandwiches</th>\n",
       "      <th>Pizza</th>\n",
       "      <th>Burgers</th>\n",
       "      <th>Nightlife</th>\n",
       "      <th>Bars</th>\n",
       "      <th>Mexican</th>\n",
       "      <th>Cafes</th>\n",
       "      <th>Beer</th>\n",
       "      <th>business_id</th>\n",
       "      <th>city</th>\n",
       "      <th>stars</th>\n",
       "      <th>review_count</th>\n",
       "      <th>is_open</th>\n",
       "      <th>categories</th>\n",
       "      <th>nhours</th>\n",
       "      <th>mean_of_recent_10</th>\n",
       "      <th>mean_of_recent_20</th>\n",
       "    </tr>\n",
       "  </thead>\n",
       "  <tbody>\n",
       "    <tr>\n",
       "      <th>0</th>\n",
       "      <td>1</td>\n",
       "      <td>1.0</td>\n",
       "      <td>0.0</td>\n",
       "      <td>0.0</td>\n",
       "      <td>0.0</td>\n",
       "      <td>0.0</td>\n",
       "      <td>0.0</td>\n",
       "      <td>1.0</td>\n",
       "      <td>0.0</td>\n",
       "      <td>tCbdrRPZA0oiIYSmHG3J0w</td>\n",
       "      <td>Portland</td>\n",
       "      <td>4.0</td>\n",
       "      <td>126</td>\n",
       "      <td>1</td>\n",
       "      <td>Salad, Soup, Sandwiches, Delis, Restaurants, C...</td>\n",
       "      <td>90.0</td>\n",
       "      <td>4.4</td>\n",
       "      <td>3.650000</td>\n",
       "    </tr>\n",
       "    <tr>\n",
       "      <th>1</th>\n",
       "      <td>36</td>\n",
       "      <td>1.0</td>\n",
       "      <td>0.0</td>\n",
       "      <td>0.0</td>\n",
       "      <td>1.0</td>\n",
       "      <td>0.0</td>\n",
       "      <td>0.0</td>\n",
       "      <td>0.0</td>\n",
       "      <td>0.0</td>\n",
       "      <td>jx91IMdGOmLOo8h_F9z39g</td>\n",
       "      <td>Portland</td>\n",
       "      <td>3.5</td>\n",
       "      <td>19</td>\n",
       "      <td>1</td>\n",
       "      <td>Nightlife, Sandwiches, Seafood, Restaurants</td>\n",
       "      <td>114.0</td>\n",
       "      <td>3.4</td>\n",
       "      <td>3.450000</td>\n",
       "    </tr>\n",
       "    <tr>\n",
       "      <th>2</th>\n",
       "      <td>50</td>\n",
       "      <td>1.0</td>\n",
       "      <td>0.0</td>\n",
       "      <td>0.0</td>\n",
       "      <td>0.0</td>\n",
       "      <td>0.0</td>\n",
       "      <td>0.0</td>\n",
       "      <td>0.0</td>\n",
       "      <td>0.0</td>\n",
       "      <td>5PsApTz-WqhF_-8mfqGtGw</td>\n",
       "      <td>Portland</td>\n",
       "      <td>3.5</td>\n",
       "      <td>158</td>\n",
       "      <td>1</td>\n",
       "      <td>Vegetarian, Vegan, Sandwiches, Soup, American ...</td>\n",
       "      <td>47.0</td>\n",
       "      <td>2.0</td>\n",
       "      <td>2.800000</td>\n",
       "    </tr>\n",
       "    <tr>\n",
       "      <th>3</th>\n",
       "      <td>93</td>\n",
       "      <td>1.0</td>\n",
       "      <td>0.0</td>\n",
       "      <td>0.0</td>\n",
       "      <td>0.0</td>\n",
       "      <td>0.0</td>\n",
       "      <td>0.0</td>\n",
       "      <td>0.0</td>\n",
       "      <td>0.0</td>\n",
       "      <td>HMXiuCxHDXqMH1hBpaHd9g</td>\n",
       "      <td>Portland</td>\n",
       "      <td>5.0</td>\n",
       "      <td>7</td>\n",
       "      <td>0</td>\n",
       "      <td>Food Stands, Restaurants, Sandwiches</td>\n",
       "      <td>75.0</td>\n",
       "      <td>5.0</td>\n",
       "      <td>5.000000</td>\n",
       "    </tr>\n",
       "    <tr>\n",
       "      <th>4</th>\n",
       "      <td>94</td>\n",
       "      <td>1.0</td>\n",
       "      <td>0.0</td>\n",
       "      <td>0.0</td>\n",
       "      <td>0.0</td>\n",
       "      <td>0.0</td>\n",
       "      <td>0.0</td>\n",
       "      <td>0.0</td>\n",
       "      <td>0.0</td>\n",
       "      <td>ZA3u0Nu5V6TqkcYh8U0zdg</td>\n",
       "      <td>Portland</td>\n",
       "      <td>4.5</td>\n",
       "      <td>131</td>\n",
       "      <td>0</td>\n",
       "      <td>Restaurants, Food, Sandwiches, Breakfast &amp; Bru...</td>\n",
       "      <td>55.5</td>\n",
       "      <td>4.8</td>\n",
       "      <td>4.850000</td>\n",
       "    </tr>\n",
       "    <tr>\n",
       "      <th>...</th>\n",
       "      <td>...</td>\n",
       "      <td>...</td>\n",
       "      <td>...</td>\n",
       "      <td>...</td>\n",
       "      <td>...</td>\n",
       "      <td>...</td>\n",
       "      <td>...</td>\n",
       "      <td>...</td>\n",
       "      <td>...</td>\n",
       "      <td>...</td>\n",
       "      <td>...</td>\n",
       "      <td>...</td>\n",
       "      <td>...</td>\n",
       "      <td>...</td>\n",
       "      <td>...</td>\n",
       "      <td>...</td>\n",
       "      <td>...</td>\n",
       "      <td>...</td>\n",
       "    </tr>\n",
       "    <tr>\n",
       "      <th>4893</th>\n",
       "      <td>160509</td>\n",
       "      <td>0.0</td>\n",
       "      <td>0.0</td>\n",
       "      <td>0.0</td>\n",
       "      <td>0.0</td>\n",
       "      <td>0.0</td>\n",
       "      <td>0.0</td>\n",
       "      <td>0.0</td>\n",
       "      <td>0.0</td>\n",
       "      <td>ny28j9D88xot0Eq54ojpVQ</td>\n",
       "      <td>Portland</td>\n",
       "      <td>3.5</td>\n",
       "      <td>131</td>\n",
       "      <td>0</td>\n",
       "      <td>Italian, Restaurants</td>\n",
       "      <td>25.0</td>\n",
       "      <td>2.5</td>\n",
       "      <td>2.800000</td>\n",
       "    </tr>\n",
       "    <tr>\n",
       "      <th>4894</th>\n",
       "      <td>160512</td>\n",
       "      <td>0.0</td>\n",
       "      <td>0.0</td>\n",
       "      <td>0.0</td>\n",
       "      <td>0.0</td>\n",
       "      <td>0.0</td>\n",
       "      <td>0.0</td>\n",
       "      <td>0.0</td>\n",
       "      <td>0.0</td>\n",
       "      <td>7r311z2Uq_UzHqu5hiipxA</td>\n",
       "      <td>Portland</td>\n",
       "      <td>4.0</td>\n",
       "      <td>165</td>\n",
       "      <td>1</td>\n",
       "      <td>Food Stands, Food, Street Vendors, Restaurants...</td>\n",
       "      <td>63.0</td>\n",
       "      <td>3.5</td>\n",
       "      <td>3.850000</td>\n",
       "    </tr>\n",
       "    <tr>\n",
       "      <th>4895</th>\n",
       "      <td>160521</td>\n",
       "      <td>0.0</td>\n",
       "      <td>0.0</td>\n",
       "      <td>0.0</td>\n",
       "      <td>1.0</td>\n",
       "      <td>1.0</td>\n",
       "      <td>0.0</td>\n",
       "      <td>0.0</td>\n",
       "      <td>0.0</td>\n",
       "      <td>68nXXzFyK8tzcBlv8eM3tw</td>\n",
       "      <td>Portland</td>\n",
       "      <td>3.5</td>\n",
       "      <td>108</td>\n",
       "      <td>1</td>\n",
       "      <td>Pubs, Breweries, Food, American (Traditional),...</td>\n",
       "      <td>56.0</td>\n",
       "      <td>4.8</td>\n",
       "      <td>4.650000</td>\n",
       "    </tr>\n",
       "    <tr>\n",
       "      <th>4896</th>\n",
       "      <td>160537</td>\n",
       "      <td>0.0</td>\n",
       "      <td>0.0</td>\n",
       "      <td>0.0</td>\n",
       "      <td>0.0</td>\n",
       "      <td>0.0</td>\n",
       "      <td>0.0</td>\n",
       "      <td>0.0</td>\n",
       "      <td>0.0</td>\n",
       "      <td>ER_VMRSD-9FSbw4SGGNQvA</td>\n",
       "      <td>Portland</td>\n",
       "      <td>3.5</td>\n",
       "      <td>13</td>\n",
       "      <td>0</td>\n",
       "      <td>Fashion, Men's Clothing, Restaurants, Shopping...</td>\n",
       "      <td>49.0</td>\n",
       "      <td>3.6</td>\n",
       "      <td>3.692308</td>\n",
       "    </tr>\n",
       "    <tr>\n",
       "      <th>4897</th>\n",
       "      <td>160561</td>\n",
       "      <td>0.0</td>\n",
       "      <td>0.0</td>\n",
       "      <td>0.0</td>\n",
       "      <td>0.0</td>\n",
       "      <td>0.0</td>\n",
       "      <td>0.0</td>\n",
       "      <td>0.0</td>\n",
       "      <td>0.0</td>\n",
       "      <td>jYgqSazE0gUyI7qq086Dzw</td>\n",
       "      <td>Portland</td>\n",
       "      <td>3.5</td>\n",
       "      <td>457</td>\n",
       "      <td>1</td>\n",
       "      <td>Event Planning &amp; Services, Steakhouses, Seafoo...</td>\n",
       "      <td>43.5</td>\n",
       "      <td>3.0</td>\n",
       "      <td>3.550000</td>\n",
       "    </tr>\n",
       "  </tbody>\n",
       "</table>\n",
       "<p>4898 rows × 18 columns</p>\n",
       "</div>"
      ],
      "text/plain": [
       "       index  Sandwiches  Pizza  Burgers  Nightlife  Bars  Mexican  Cafes  \\\n",
       "0          1         1.0    0.0      0.0        0.0   0.0      0.0    1.0   \n",
       "1         36         1.0    0.0      0.0        1.0   0.0      0.0    0.0   \n",
       "2         50         1.0    0.0      0.0        0.0   0.0      0.0    0.0   \n",
       "3         93         1.0    0.0      0.0        0.0   0.0      0.0    0.0   \n",
       "4         94         1.0    0.0      0.0        0.0   0.0      0.0    0.0   \n",
       "...      ...         ...    ...      ...        ...   ...      ...    ...   \n",
       "4893  160509         0.0    0.0      0.0        0.0   0.0      0.0    0.0   \n",
       "4894  160512         0.0    0.0      0.0        0.0   0.0      0.0    0.0   \n",
       "4895  160521         0.0    0.0      0.0        1.0   1.0      0.0    0.0   \n",
       "4896  160537         0.0    0.0      0.0        0.0   0.0      0.0    0.0   \n",
       "4897  160561         0.0    0.0      0.0        0.0   0.0      0.0    0.0   \n",
       "\n",
       "      Beer             business_id      city  stars  review_count  is_open  \\\n",
       "0      0.0  tCbdrRPZA0oiIYSmHG3J0w  Portland    4.0           126        1   \n",
       "1      0.0  jx91IMdGOmLOo8h_F9z39g  Portland    3.5            19        1   \n",
       "2      0.0  5PsApTz-WqhF_-8mfqGtGw  Portland    3.5           158        1   \n",
       "3      0.0  HMXiuCxHDXqMH1hBpaHd9g  Portland    5.0             7        0   \n",
       "4      0.0  ZA3u0Nu5V6TqkcYh8U0zdg  Portland    4.5           131        0   \n",
       "...    ...                     ...       ...    ...           ...      ...   \n",
       "4893   0.0  ny28j9D88xot0Eq54ojpVQ  Portland    3.5           131        0   \n",
       "4894   0.0  7r311z2Uq_UzHqu5hiipxA  Portland    4.0           165        1   \n",
       "4895   0.0  68nXXzFyK8tzcBlv8eM3tw  Portland    3.5           108        1   \n",
       "4896   0.0  ER_VMRSD-9FSbw4SGGNQvA  Portland    3.5            13        0   \n",
       "4897   0.0  jYgqSazE0gUyI7qq086Dzw  Portland    3.5           457        1   \n",
       "\n",
       "                                             categories  nhours  \\\n",
       "0     Salad, Soup, Sandwiches, Delis, Restaurants, C...    90.0   \n",
       "1           Nightlife, Sandwiches, Seafood, Restaurants   114.0   \n",
       "2     Vegetarian, Vegan, Sandwiches, Soup, American ...    47.0   \n",
       "3                  Food Stands, Restaurants, Sandwiches    75.0   \n",
       "4     Restaurants, Food, Sandwiches, Breakfast & Bru...    55.5   \n",
       "...                                                 ...     ...   \n",
       "4893                               Italian, Restaurants    25.0   \n",
       "4894  Food Stands, Food, Street Vendors, Restaurants...    63.0   \n",
       "4895  Pubs, Breweries, Food, American (Traditional),...    56.0   \n",
       "4896  Fashion, Men's Clothing, Restaurants, Shopping...    49.0   \n",
       "4897  Event Planning & Services, Steakhouses, Seafoo...    43.5   \n",
       "\n",
       "      mean_of_recent_10  mean_of_recent_20  \n",
       "0                   4.4           3.650000  \n",
       "1                   3.4           3.450000  \n",
       "2                   2.0           2.800000  \n",
       "3                   5.0           5.000000  \n",
       "4                   4.8           4.850000  \n",
       "...                 ...                ...  \n",
       "4893                2.5           2.800000  \n",
       "4894                3.5           3.850000  \n",
       "4895                4.8           4.650000  \n",
       "4896                3.6           3.692308  \n",
       "4897                3.0           3.550000  \n",
       "\n",
       "[4898 rows x 18 columns]"
      ]
     },
     "execution_count": 117,
     "metadata": {},
     "output_type": "execute_result"
    }
   ],
   "source": [
    "df_city"
   ]
  },
  {
   "cell_type": "code",
   "execution_count": 51,
   "id": "designing-polish",
   "metadata": {},
   "outputs": [],
   "source": [
    "#dic = {}\n",
    "#for ids in df_city.business_id.values:\n",
    "#    df_temp=result[result['business_id']==ids]\n",
    "#    df_temp.sort_values('date', ascending=False).head(100)\n",
    "#    dic[ids]=df_temp['stars'].head(100).mean()"
   ]
  },
  {
   "cell_type": "code",
   "execution_count": 123,
   "id": "satellite-survey",
   "metadata": {},
   "outputs": [],
   "source": [
    "#df_to_add = pd.DataFrame(columns=['business_id','medium_stars_last100'])\n",
    "#df_to_add['business_id']=dic.keys()\n",
    "#df_to_add['medium_stars_last100']=dic.values()\n",
    "#df_to_add"
   ]
  },
  {
   "cell_type": "code",
   "execution_count": 59,
   "id": "auburn-dining",
   "metadata": {},
   "outputs": [],
   "source": [
    "#df_final = pd.merge(df_to_add, df_city)\n",
    "#df_final=df_final.drop('categories',axis=1)"
   ]
  },
  {
   "cell_type": "code",
   "execution_count": 118,
   "id": "central-tribute",
   "metadata": {},
   "outputs": [],
   "source": [
    "#df_final"
   ]
  },
  {
   "cell_type": "code",
   "execution_count": 119,
   "id": "front-burke",
   "metadata": {},
   "outputs": [],
   "source": [
    "#result.rename(columns={'stars': 'rates'})"
   ]
  },
  {
   "cell_type": "code",
   "execution_count": 120,
   "id": "special-johns",
   "metadata": {},
   "outputs": [],
   "source": [
    "#pd.merge(df_final, result, right_on = 'business_id', left_on = 'business_id')"
   ]
  },
  {
   "cell_type": "code",
   "execution_count": 121,
   "id": "improved-threshold",
   "metadata": {},
   "outputs": [],
   "source": [
    "#dic2 = {}\n",
    "#for ids in df_final.business_id.values:\n",
    "#    df_temp=result[result['business_id']==ids]\n",
    "#    df_temp.sort_values('date', ascending=False).head(10)\n",
    "#    dic2[ids]=df_temp['stars'].head(10).mean()"
   ]
  },
  {
   "cell_type": "code",
   "execution_count": null,
   "id": "fantastic-wrestling",
   "metadata": {},
   "outputs": [],
   "source": [
    "#df_to_add = pd.DataFrame(columns=['business_id','medium_stars_last10'])\n",
    "#df_to_add['business_id']=dic2.keys()\n",
    "#df_to_add['medium_stars']=dic2.values()\n",
    "#df_to_add"
   ]
  },
  {
   "cell_type": "code",
   "execution_count": null,
   "id": "dominant-magic",
   "metadata": {},
   "outputs": [],
   "source": [
    "#df_final = pd.merge(df_final, df_to_add)"
   ]
  },
  {
   "cell_type": "code",
   "execution_count": null,
   "id": "floral-chambers",
   "metadata": {},
   "outputs": [],
   "source": [
    "#df_final"
   ]
  },
  {
   "cell_type": "code",
   "execution_count": 56,
   "id": "residential-network",
   "metadata": {},
   "outputs": [],
   "source": [
    "#df_final.to_csv('finaldf_closed_restaurants.csv', index=False)"
   ]
  },
  {
   "cell_type": "code",
   "execution_count": 57,
   "id": "numeric-student",
   "metadata": {},
   "outputs": [],
   "source": [
    "#df_final_copy = pd.read_csv('finaldf_closed_restaurants.csv')"
   ]
  },
  {
   "cell_type": "code",
   "execution_count": 122,
   "id": "affecting-graduate",
   "metadata": {},
   "outputs": [],
   "source": [
    "#df_final_copy"
   ]
  },
  {
   "cell_type": "markdown",
   "id": "talented-dylan",
   "metadata": {},
   "source": [
    "### Logistic Regression model"
   ]
  },
  {
   "cell_type": "code",
   "execution_count": 59,
   "id": "polar-beaver",
   "metadata": {},
   "outputs": [],
   "source": [
    "from statsmodels.stats import diagnostic\n",
    "import statsmodels.api as sm\n",
    "import statsmodels.formula.api as smf"
   ]
  },
  {
   "cell_type": "code",
   "execution_count": 60,
   "id": "above-minority",
   "metadata": {},
   "outputs": [],
   "source": [
    "from sklearn.model_selection import train_test_split\n",
    "\n",
    "# We split between train and test\n",
    "\n",
    "train, test = train_test_split(df_final, test_size=0.2)"
   ]
  },
  {
   "cell_type": "code",
   "execution_count": 61,
   "id": "sudden-hazard",
   "metadata": {},
   "outputs": [
    {
     "name": "stdout",
     "output_type": "stream",
     "text": [
      "Optimization terminated successfully.\n",
      "         Current function value: 0.633269\n",
      "         Iterations 6\n",
      "                           Logit Regression Results                           \n",
      "==============================================================================\n",
      "Dep. Variable:                is_open   No. Observations:                 3918\n",
      "Model:                          Logit   Df Residuals:                     3905\n",
      "Method:                           MLE   Df Model:                           12\n",
      "Date:                Thu, 04 Nov 2021   Pseudo R-squ.:                 0.06791\n",
      "Time:                        19:02:07   Log-Likelihood:                -2481.1\n",
      "converged:                       True   LL-Null:                       -2661.9\n",
      "Covariance Type:            nonrobust   LLR p-value:                 5.140e-70\n",
      "================================================================================\n",
      "                   coef    std err          z      P>|z|      [0.025      0.975]\n",
      "--------------------------------------------------------------------------------\n",
      "Intercept       -2.4400      0.270     -9.043      0.000      -2.969      -1.911\n",
      "medium_stars     0.7002      0.215      3.251      0.001       0.278       1.122\n",
      "Cafes            0.0776      0.135      0.576      0.565      -0.186       0.342\n",
      "Sandwiches      -0.2148      0.097     -2.223      0.026      -0.404      -0.025\n",
      "Bars             0.3303      0.146      2.264      0.024       0.044       0.616\n",
      "Beer            -0.1618      0.146     -1.109      0.267      -0.448       0.124\n",
      "Pizza            0.1786      0.129      1.381      0.167      -0.075       0.432\n",
      "Mexican          0.7089      0.124      5.701      0.000       0.465       0.953\n",
      "Burgers          0.2343      0.130      1.803      0.071      -0.020       0.489\n",
      "Nightlife       -0.3237      0.156     -2.082      0.037      -0.628      -0.019\n",
      "stars           -0.3244      0.211     -1.541      0.123      -0.737       0.088\n",
      "review_count     0.0026      0.000     10.132      0.000       0.002       0.003\n",
      "nhours           0.0150      0.001     10.623      0.000       0.012       0.018\n",
      "================================================================================\n"
     ]
    }
   ],
   "source": [
    "# logit is logistic regression.\n",
    "\n",
    "mod = smf.logit(formula='is_open ~  medium_stars + Cafes + Sandwiches + \\\n",
    "                        Bars + Beer + Pizza\t + \\\n",
    "                        Mexican + Burgers +\\\n",
    "                        Nightlife + stars + review_count +nhours', data=train)\n",
    "res = mod.fit()\n",
    "print(res.summary())"
   ]
  },
  {
   "cell_type": "markdown",
   "id": "immune-software",
   "metadata": {},
   "source": [
    "From the summary we can see that the factor which are the most important are (with a statistical significance of 0.05):\n",
    "- medium_stars(as expected)\n",
    "- Mexicans\n",
    "- Nightlife\n",
    "- review_count\n",
    "- n_hours"
   ]
  },
  {
   "cell_type": "markdown",
   "id": "better-clear",
   "metadata": {},
   "source": [
    "We have a small Pseudo R-square, we don't expect a lot from the model"
   ]
  },
  {
   "cell_type": "code",
   "execution_count": 62,
   "id": "sapphire-nelson",
   "metadata": {},
   "outputs": [],
   "source": [
    "y_pred = [0 if el <0.5 else 1 for el in res.predict(test).values]"
   ]
  },
  {
   "cell_type": "markdown",
   "id": "otherwise-explosion",
   "metadata": {},
   "source": [
    "We compute the accuracy"
   ]
  },
  {
   "cell_type": "code",
   "execution_count": 63,
   "id": "wrong-hungarian",
   "metadata": {},
   "outputs": [
    {
     "name": "stdout",
     "output_type": "stream",
     "text": [
      "0.6346938775510204\n"
     ]
    }
   ],
   "source": [
    "from sklearn.metrics import accuracy_score as acc\n",
    "\n",
    "print(acc(y_pred, test['is_open'].values))"
   ]
  },
  {
   "cell_type": "markdown",
   "id": "comprehensive-newton",
   "metadata": {},
   "source": [
    "As we can see the accuracy is low"
   ]
  },
  {
   "cell_type": "code",
   "execution_count": 64,
   "id": "positive-rapid",
   "metadata": {},
   "outputs": [
    {
     "data": {
      "image/png": "[encoded data removed]",
      "text/plain": [
       "<Figure size 720x504 with 2 Axes>"
      ]
     },
     "metadata": {
      "needs_background": "light"
     },
     "output_type": "display_data"
    }
   ],
   "source": [
    "from sklearn import metrics\n",
    "\n",
    "cm=metrics.confusion_matrix(test['is_open'].values, y_pred)\n",
    "df_cm = pd.DataFrame(cm, range(2),range(2))\n",
    "plt.figure(figsize = (10,7))\n",
    "sb.heatmap(df_cm, annot=True)\n",
    "plt.xlabel('model predictions')\n",
    "plt.ylabel('true labels')\n",
    "plt.show()"
   ]
  },
  {
   "cell_type": "markdown",
   "id": "cultural-bolivia",
   "metadata": {},
   "source": [
    "The model has high bias. This suggests us that we should look for a more powerful and complex model to obtain higher accuracy"
   ]
  },
  {
   "cell_type": "markdown",
   "id": "rotary-journalist",
   "metadata": {},
   "source": [
    "### We use a more powerful method (Support Vector Machine)"
   ]
  },
  {
   "cell_type": "code",
   "execution_count": 147,
   "id": "brutal-cliff",
   "metadata": {},
   "outputs": [
    {
     "name": "stdout",
     "output_type": "stream",
     "text": [
      "      medium_stars  Cafes  Burgers  Pizza  Bars  Sandwiches  Beer  Mexican  \\\n",
      "2268      4.561404    0.0      0.0    0.0   0.0         0.0   0.0      1.0   \n",
      "101       3.636364    0.0      0.0    0.0   0.0         1.0   0.0      0.0   \n",
      "393       3.649123    0.0      0.0    0.0   1.0         0.0   0.0      0.0   \n",
      "3416      4.285714    0.0      0.0    0.0   0.0         0.0   0.0      1.0   \n",
      "1363      4.250000    0.0      0.0    0.0   1.0         0.0   0.0      0.0   \n",
      "...            ...    ...      ...    ...   ...         ...   ...      ...   \n",
      "4894      3.810000    0.0      0.0    0.0   0.0         0.0   0.0      0.0   \n",
      "1100      3.500000    0.0      0.0    0.0   1.0         0.0   0.0      1.0   \n",
      "2005      4.108696    0.0      0.0    0.0   0.0         0.0   0.0      0.0   \n",
      "3027      4.253731    0.0      0.0    0.0   0.0         0.0   0.0      0.0   \n",
      "109       3.540000    0.0      0.0    0.0   1.0         0.0   0.0      0.0   \n",
      "\n",
      "      Nightlife  stars  review_count  nhours  \n",
      "2268        0.0    4.5            54    64.0  \n",
      "101         0.0    3.5            11    55.0  \n",
      "393         1.0    3.5            56    84.0  \n",
      "3416        0.0    4.5            82   105.0  \n",
      "1363        1.0    4.0           281    62.5  \n",
      "...         ...    ...           ...     ...  \n",
      "4894        0.0    4.0           165    63.0  \n",
      "1100        1.0    3.5            50    89.0  \n",
      "2005        0.0    4.0            91    24.0  \n",
      "3027        0.0    4.5            67    51.0  \n",
      "109         1.0    3.5           233    57.0  \n",
      "\n",
      "[3918 rows x 12 columns]\n",
      "2268    1\n",
      "101     0\n",
      "393     1\n",
      "3416    1\n",
      "1363    1\n",
      "       ..\n",
      "4894    1\n",
      "1100    0\n",
      "2005    1\n",
      "3027    1\n",
      "109     1\n",
      "Name: is_open, Length: 3918, dtype: int64\n"
     ]
    }
   ],
   "source": [
    "y_train = train['is_open']\n",
    "x_train = train.drop(columns = ['is_open', 'business_id', 'index', 'city'])\n",
    "y_test = test['is_open']\n",
    "x_test = test.drop(columns = ['is_open', 'business_id', 'index', 'city'])\n",
    "print(x_train)\n",
    "print(y_train)"
   ]
  },
  {
   "cell_type": "code",
   "execution_count": 148,
   "id": "understanding-disney",
   "metadata": {},
   "outputs": [],
   "source": [
    "from sklearn.preprocessing import MinMaxScaler\n",
    "scaling = MinMaxScaler(feature_range=(-1,1)).fit(x_train)\n",
    "x_train = scaling.transform(x_train)\n",
    "x_test = scaling.transform(x_test)"
   ]
  },
  {
   "cell_type": "code",
   "execution_count": 166,
   "id": "veterinary-folder",
   "metadata": {},
   "outputs": [
    {
     "name": "stdout",
     "output_type": "stream",
     "text": [
      "Fitting 5 folds for each of 150 candidates, totalling 750 fits\n"
     ]
    },
    {
     "data": {
      "text/plain": [
       "GridSearchCV(estimator=SVC(), n_jobs=-1,\n",
       "             param_grid=({'C': [0.1, 1, 10, 100, 1000],\n",
       "                          'coef0': [7, 5, 1, 0.1, 0.01],\n",
       "                          'gamma': ['auto', 'scale'],\n",
       "                          'kernel': ['poly', 'rbf', 'sigmoid']},),\n",
       "             verbose=2)"
      ]
     },
     "execution_count": 166,
     "metadata": {},
     "output_type": "execute_result"
    }
   ],
   "source": [
    "from sklearn.svm import SVC\n",
    "from sklearn.model_selection import GridSearchCV, cross_val_score\n",
    "\n",
    "# we set some of the possible values of the parameters which we will use to fit the models\n",
    "param = {'kernel' : ['poly', 'rbf', 'sigmoid'],'C' : [0.1,1,10,100,1000],'coef0' : [7,5,1,0.1,0.01],'gamma' : ['auto','scale']},\n",
    "\n",
    "#we define the model\n",
    "modelsvc = SVC()\n",
    "\n",
    "#we perform a grid search to find the best parameters in the param dictionary created before \n",
    "clf = GridSearchCV(estimator= modelsvc, param_grid=param, verbose=2, n_jobs=-1)\n",
    "\n",
    "#we fit the model with the best parameters\n",
    "clf.fit(x_train, y_train)"
   ]
  },
  {
   "cell_type": "code",
   "execution_count": 167,
   "id": "prompt-disorder",
   "metadata": {},
   "outputs": [
    {
     "name": "stdout",
     "output_type": "stream",
     "text": [
      "SVC(C=100, coef0=5, gamma='auto', kernel='poly')\n"
     ]
    }
   ],
   "source": [
    "print(clf.best_estimator_) #we print the best parameters found with gridsearch\n",
    "y_pred = clf.predict(x_test) #we predict now the labels"
   ]
  },
  {
   "cell_type": "code",
   "execution_count": 168,
   "id": "connected-thermal",
   "metadata": {},
   "outputs": [],
   "source": [
    "#we round each value of the list because the final mark is an integer from 0 to 20\n",
    "\n",
    "pred = [round(el) for el in y_pred] #python comprehension"
   ]
  },
  {
   "cell_type": "code",
   "execution_count": 169,
   "id": "alone-marble",
   "metadata": {},
   "outputs": [
    {
     "name": "stdout",
     "output_type": "stream",
     "text": [
      "0.6663265306122449\n"
     ]
    }
   ],
   "source": [
    "accuracy = acc(y_test, pred)\n",
    "print(accuracy)"
   ]
  },
  {
   "cell_type": "code",
   "execution_count": 170,
   "id": "written-georgia",
   "metadata": {},
   "outputs": [
    {
     "data": {
      "image/png": "[encoded data removed]",
      "text/plain": [
       "<Figure size 720x504 with 2 Axes>"
      ]
     },
     "metadata": {
      "needs_background": "light"
     },
     "output_type": "display_data"
    }
   ],
   "source": [
    "cm=metrics.confusion_matrix(y_test, np.array(pred))\n",
    "df_cm = pd.DataFrame(cm, range(2),range(2))\n",
    "plt.figure(figsize = (10,7))\n",
    "sb.heatmap(df_cm, annot=True)\n",
    "plt.xlabel('model predictions')\n",
    "plt.ylabel('true labels')\n",
    "plt.show()"
   ]
  },
  {
   "cell_type": "code",
   "execution_count": null,
   "id": "neutral-governor",
   "metadata": {},
   "outputs": [],
   "source": []
  }
 ],
 "metadata": {
  "kernelspec": {
   "display_name": "Python 3",
   "language": "python",
   "name": "python3"
  },
  "language_info": {
   "codemirror_mode": {
    "name": "ipython",
    "version": 3
   },
   "file_extension": ".py",
   "mimetype": "text/x-python",
   "name": "python",
   "nbconvert_exporter": "python",
   "pygments_lexer": "ipython3",
   "version": "3.8.8"
  }
 },
 "nbformat": 4,
 "nbformat_minor": 5
}
