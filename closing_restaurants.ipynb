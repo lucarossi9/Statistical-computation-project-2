{
 "cells": [
  {
   "cell_type": "code",
   "execution_count": 38,
   "id": "0405446d",
   "metadata": {},
   "outputs": [],
   "source": [
    "import json\n",
    "import bz2\n",
    "tweets = []\n",
    "for line in open('yelp_academic_dataset_business.json', 'r'):\n",
    "    tweets.append(json.loads(line))"
   ]
  },
  {
   "cell_type": "code",
   "execution_count": 148,
   "id": "8bab95da",
   "metadata": {},
   "outputs": [],
   "source": [
    "#opening json file\n",
    "import pandas as pd\n",
    "df_b = pd.read_json('yelp_academic_dataset_business.json', lines=True)"
   ]
  },
  {
   "cell_type": "code",
   "execution_count": 149,
   "id": "f694e3f0",
   "metadata": {},
   "outputs": [],
   "source": [
    "#dropping irrelevant columns\n",
    "drop_columns = ['latitude','longitude','postal_code','state','address','name']\n",
    "df_b = df_b.drop(drop_columns, axis=1)"
   ]
  },
  {
   "cell_type": "code",
   "execution_count": 141,
   "id": "18659db5",
   "metadata": {},
   "outputs": [],
   "source": []
  },
  {
   "cell_type": "code",
   "execution_count": 109,
   "id": "e48ffb8a",
   "metadata": {},
   "outputs": [],
   "source": [
    "df1 = pd.read_csv('review1.csv')"
   ]
  },
  {
   "cell_type": "code",
   "execution_count": 110,
   "id": "49d6da99",
   "metadata": {},
   "outputs": [],
   "source": [
    "df1=df1.drop(['text','review_id','user_id','funny','cool'], axis=1)"
   ]
  },
  {
   "cell_type": "code",
   "execution_count": 111,
   "id": "dff75468",
   "metadata": {},
   "outputs": [],
   "source": [
    "df2 = pd.read_csv('review2.csv')\n",
    "df2=df2.drop(['text','review_id','user_id','funny','cool'], axis=1)"
   ]
  },
  {
   "cell_type": "code",
   "execution_count": 112,
   "id": "ac0c7011",
   "metadata": {},
   "outputs": [],
   "source": [
    "df3 = pd.read_csv('review3.csv')\n",
    "df3=df3.drop(['text','review_id','user_id','funny','cool'], axis=1)"
   ]
  },
  {
   "cell_type": "code",
   "execution_count": 113,
   "id": "292b0ff9",
   "metadata": {},
   "outputs": [],
   "source": [
    "df4 = pd.read_csv('review4.csv')\n",
    "df4=df4.drop(['text','review_id','user_id','funny','cool'], axis=1)"
   ]
  },
  {
   "cell_type": "code",
   "execution_count": 114,
   "id": "b47930ac",
   "metadata": {},
   "outputs": [],
   "source": [
    "df5 = pd.read_csv('review5.csv')\n",
    "df5=df5.drop(['text','review_id','user_id','funny','cool'], axis=1)"
   ]
  },
  {
   "cell_type": "code",
   "execution_count": 115,
   "id": "bdcf2f46",
   "metadata": {},
   "outputs": [],
   "source": [
    "df6 = pd.read_csv('review6.csv')\n",
    "df6=df6.drop(['text','review_id','user_id','funny','cool'], axis=1)"
   ]
  },
  {
   "cell_type": "code",
   "execution_count": 116,
   "id": "b97594b2",
   "metadata": {},
   "outputs": [],
   "source": [
    "df7 = pd.read_csv('review7.csv')\n",
    "df7=df7.drop(['text','review_id','user_id','funny','cool'], axis=1)"
   ]
  },
  {
   "cell_type": "code",
   "execution_count": 118,
   "id": "478f26e4",
   "metadata": {},
   "outputs": [],
   "source": [
    "df8 = pd.read_csv('review8.csv')\n",
    "df8=df8.drop(['text','review_id','user_id','funny','cool'], axis=1)"
   ]
  },
  {
   "cell_type": "code",
   "execution_count": 119,
   "id": "f1e6e758",
   "metadata": {},
   "outputs": [],
   "source": [
    "df9 = pd.read_csv('review9.csv')\n",
    "df9=df9.drop(['text','review_id','user_id','funny','cool'], axis=1)"
   ]
  },
  {
   "cell_type": "code",
   "execution_count": 120,
   "id": "170e89b8",
   "metadata": {},
   "outputs": [],
   "source": [
    "df10 = pd.read_csv('review10.csv')\n",
    "df10=df10.drop(['text','review_id','user_id','funny','cool'], axis=1)"
   ]
  },
  {
   "cell_type": "code",
   "execution_count": 121,
   "id": "a7857aa9",
   "metadata": {},
   "outputs": [],
   "source": [
    "df11 = pd.read_csv('review11.csv')\n",
    "df11=df11.drop(['text','review_id','user_id','funny','cool'], axis=1)"
   ]
  },
  {
   "cell_type": "code",
   "execution_count": 122,
   "id": "8f980617",
   "metadata": {},
   "outputs": [],
   "source": [
    "df12 = pd.read_csv('review12.csv')\n",
    "df12=df12.drop(['text','review_id','user_id','funny','cool'], axis=1)"
   ]
  },
  {
   "cell_type": "code",
   "execution_count": 123,
   "id": "e1b0a1d6",
   "metadata": {},
   "outputs": [],
   "source": [
    "df13 = pd.read_csv('review13.csv')\n",
    "df13=df13.drop(['text','review_id','user_id','funny','cool'], axis=1)"
   ]
  },
  {
   "cell_type": "code",
   "execution_count": 124,
   "id": "d528a0e6",
   "metadata": {},
   "outputs": [],
   "source": [
    "df14 = pd.read_csv('review14.csv')\n",
    "df14=df14.drop(['text','review_id','user_id','funny','cool'], axis=1)"
   ]
  },
  {
   "cell_type": "code",
   "execution_count": 125,
   "id": "926394ba",
   "metadata": {},
   "outputs": [],
   "source": [
    "df15 = pd.read_csv('review15.csv')\n",
    "df15=df15.drop(['text','review_id','user_id','funny','cool'], axis=1)"
   ]
  },
  {
   "cell_type": "code",
   "execution_count": 126,
   "id": "5a3870bd",
   "metadata": {},
   "outputs": [],
   "source": [
    "df16 = pd.read_csv('review16.csv')\n",
    "df16=df16.drop(['text','review_id','user_id','funny','cool'], axis=1)"
   ]
  },
  {
   "cell_type": "code",
   "execution_count": 127,
   "id": "805fc94e",
   "metadata": {},
   "outputs": [],
   "source": [
    "df17 = pd.read_csv('review17.csv')\n",
    "df17=df17.drop(['text','review_id','user_id','funny','cool'], axis=1)"
   ]
  },
  {
   "cell_type": "code",
   "execution_count": 128,
   "id": "739231ef",
   "metadata": {},
   "outputs": [],
   "source": [
    "df18 = pd.read_csv('review18.csv')\n",
    "df18=df18.drop(['text','review_id','user_id','funny','cool'], axis=1)"
   ]
  },
  {
   "cell_type": "code",
   "execution_count": 129,
   "id": "1726ec01",
   "metadata": {},
   "outputs": [],
   "source": [
    "#create a dataframe with all the reviews but without the text which is not relevant for the analysis\n",
    "frames = [df1, df2, df3,df4, df5, df6,df7, df8, df9,df10, df11, df12,df13, df14, df15,df16, df17, df18]\n",
    "result = pd.concat(frames)"
   ]
  },
  {
   "cell_type": "code",
   "execution_count": 135,
   "id": "da83c9f3",
   "metadata": {},
   "outputs": [],
   "source": [
    "#drop all the elements of the list without attributes\n",
    "for i in range(len(tweets)):\n",
    "    if None in tweets[i]:\n",
    "        tweets.pop(i)"
   ]
  },
  {
   "cell_type": "code",
   "execution_count": 143,
   "id": "5b3104d8",
   "metadata": {},
   "outputs": [],
   "source": [
    "#check if there are any attributes in common\n",
    "import numpy as np\n",
    "a=1\n",
    "for i in range(len(tweets)):\n",
    "    if np.logical_not('ByAppointmentOnly' in tweets[i]):\n",
    "        a=0\n",
    "    if a==0:\n",
    "        break"
   ]
  },
  {
   "cell_type": "code",
   "execution_count": 150,
   "id": "25acfe3c",
   "metadata": {},
   "outputs": [],
   "source": [
    "#after different check to see if there are any attribbutes in common for the restaurants we decide to drop also attribute column\n",
    "df_b=df_b.drop('attributes',axis=1)\n"
   ]
  },
  {
   "cell_type": "code",
   "execution_count": 223,
   "id": "62246032",
   "metadata": {},
   "outputs": [],
   "source": [
    "#we want to study only restaurants and bars so we drop all the other activities\n",
    "df_b.dropna( axis=0, how=\"any\", thresh=None, subset=None, inplace=True)\n",
    "df_new=df_b[df_b.categories.str.contains(\"Restaurants\", na=False)==True]"
   ]
  },
  {
   "cell_type": "code",
   "execution_count": 262,
   "id": "14cfe33e",
   "metadata": {},
   "outputs": [],
   "source": [
    "def contaM(st):\n",
    "    a=st.get('Monday')\n",
    "    a=a.split('-')\n",
    "    a[0]=a[0].replace(':','.')\n",
    "    a[1]=a[1].replace(':','.')\n",
    "    a[0]=float(a[0])\n",
    "    a[1]=float(a[1])\n",
    "    if a[1]-a[0]==0:\n",
    "        return 24\n",
    "    return a[1]-a[0]\n",
    "def contaTu(st):\n",
    "    a=st.get('Tuesday')\n",
    "    a=a.split('-')\n",
    "    a[0]=a[0].replace(':','.')\n",
    "    a[1]=a[1].replace(':','.')\n",
    "    a[0]=float(a[0])\n",
    "    a[1]=float(a[1])\n",
    "    if a[1]-a[0]==0:\n",
    "        return 24\n",
    "    return a[1]-a[0]\n",
    "def contaW(st):\n",
    "    a=st.get('Wednesday')\n",
    "    a=a.split('-')\n",
    "    a[0]=a[0].replace(':','.')\n",
    "    a[1]=a[1].replace(':','.')\n",
    "    a[0]=float(a[0])\n",
    "    a[1]=float(a[1])\n",
    "    if a[1]-a[0]==0:\n",
    "        return 24\n",
    "    return a[1]-a[0]\n",
    "def contaT(st):\n",
    "    a=st.get('Thursday')\n",
    "    a=a.split('-')\n",
    "    a[0]=a[0].replace(':','.')\n",
    "    a[1]=a[1].replace(':','.')\n",
    "    a[0]=float(a[0])\n",
    "    a[1]=float(a[1])\n",
    "    if a[1]-a[0]==0:\n",
    "        return 24\n",
    "    return a[1]-a[0]\n",
    "def contaF(st):\n",
    "    a=st.get('Friday')\n",
    "    a=a.split('-')\n",
    "    a[0]=a[0].replace(':','.')\n",
    "    a[1]=a[1].replace(':','.')\n",
    "    a[0]=float(a[0])\n",
    "    a[1]=float(a[1])\n",
    "    if a[1]-a[0]==0:\n",
    "        return 24\n",
    "    return a[1]-a[0]\n",
    "def contaSa(st):\n",
    "    a=st.get('Saturday')\n",
    "    a=a.split('-')\n",
    "    a[0]=a[0].replace(':','.')\n",
    "    a[1]=a[1].replace(':','.')\n",
    "    a[0]=float(a[0])\n",
    "    a[1]=float(a[1])\n",
    "    if a[1]-a[0]==0:\n",
    "        return 24\n",
    "    return a[1]-a[0]\n",
    "def contaS(st):\n",
    "    a=st.get('Sunday')\n",
    "    a=a.split('-')\n",
    "    a[0]=a[0].replace(':','.')\n",
    "    a[1]=a[1].replace(':','.')\n",
    "    a[0]=float(a[0])\n",
    "    a[1]=float(a[1])\n",
    "    if a[1]-a[0]==0:\n",
    "        return 24\n",
    "    return a[1]-a[0]\n",
    "\n",
    "def converti(st):\n",
    "    hours=0\n",
    "    if 'Monday' in st:\n",
    "        hours+=contaM(st)\n",
    "    if 'Tuesday' in st:\n",
    "        hours+=contaTu(st)\n",
    "    if 'Wednesday' in st:\n",
    "        hours+=contaW(st)\n",
    "    if 'Thursday' in st:\n",
    "        hours+=contaT(st)\n",
    "    if 'Friday' in st:\n",
    "        hours+=contaF(st)\n",
    "    if 'Saturday' in st:\n",
    "        hours+=contaSa(st)\n",
    "    if 'Sunday' in st:\n",
    "        hours+=contaS(st)\n",
    "    return hours"
   ]
  },
  {
   "cell_type": "code",
   "execution_count": 281,
   "id": "d922016e",
   "metadata": {},
   "outputs": [
    {
     "name": "stderr",
     "output_type": "stream",
     "text": [
      "<ipython-input-281-a3bcf929fa00>:1: SettingWithCopyWarning: \n",
      "A value is trying to be set on a copy of a slice from a DataFrame.\n",
      "Try using .loc[row_indexer,col_indexer] = value instead\n",
      "\n",
      "See the caveats in the documentation: https://pandas.pydata.org/pandas-docs/stable/user_guide/indexing.html#returning-a-view-versus-a-copy\n",
      "  df_new['nhours']=converti(df_new['hours'])\n"
     ]
    }
   ],
   "source": [
    "df_new['nhours']=converti(df_new.loc[])"
   ]
  },
  {
   "cell_type": "code",
   "execution_count": 286,
   "id": "2cc85802",
   "metadata": {},
   "outputs": [
    {
     "data": {
      "text/plain": [
       "0         {'Monday': '11:0-23:0', 'Tuesday': '11:0-23:0'...\n",
       "1         {'Monday': '5:0-18:0', 'Tuesday': '5:0-17:0', ...\n",
       "5         {'Monday': '17:0-21:0', 'Tuesday': '17:0-21:0'...\n",
       "7            {'Saturday': '8:0-14:0', 'Sunday': '8:0-14:0'}\n",
       "12        {'Monday': '11:0-21:0', 'Tuesday': '11:0-21:0'...\n",
       "                                ...                        \n",
       "160572    {'Monday': '0:0-0:0', 'Tuesday': '10:30-21:30'...\n",
       "160573    {'Monday': '11:0-23:0', 'Tuesday': '11:0-23:0'...\n",
       "160574    {'Monday': '0:0-0:0', 'Tuesday': '9:0-21:0', '...\n",
       "160575    {'Monday': '0:0-0:0', 'Tuesday': '0:0-0:0', 'W...\n",
       "160584    {'Tuesday': '17:0-21:0', 'Wednesday': '17:0-21...\n",
       "Name: hours, Length: 42875, dtype: object"
      ]
     },
     "execution_count": 286,
     "metadata": {},
     "output_type": "execute_result"
    }
   ],
   "source": [
    "df_new['hours']"
   ]
  }
 ],
 "metadata": {
  "kernelspec": {
   "display_name": "Python 3",
   "language": "python",
   "name": "python3"
  },
  "language_info": {
   "codemirror_mode": {
    "name": "ipython",
    "version": 3
   },
   "file_extension": ".py",
   "mimetype": "text/x-python",
   "name": "python",
   "nbconvert_exporter": "python",
   "pygments_lexer": "ipython3",
   "version": "3.8.8"
  }
 },
 "nbformat": 4,
 "nbformat_minor": 5
}
