{
 "cells": [
  {
   "cell_type": "code",
   "execution_count": 1,
   "id": "4eabd06d-b643-4457-af17-9f6db845b5cc",
   "metadata": {},
   "outputs": [],
   "source": [
    "import pandas as pd\n",
    "import json"
   ]
  },
  {
   "cell_type": "code",
   "execution_count": 2,
   "id": "7514b74b-bada-4762-a634-2c8f296d9191",
   "metadata": {},
   "outputs": [],
   "source": [
    "df_b = pd.read_json('yelp_academic_dataset_business.json', lines=True)\n",
    "drop_columns = ['latitude','longitude','postal_code','state','address','name']\n",
    "df_b = df_b.drop(drop_columns, axis=1)"
   ]
  },
  {
   "cell_type": "code",
   "execution_count": 3,
   "id": "2b708249-1eda-4ddb-bea3-292139994e4f",
   "metadata": {},
   "outputs": [],
   "source": [
    "df1 = pd.read_csv('review1.csv')\n",
    "df1=df1.drop(['review_id','funny','cool'], axis=1)"
   ]
  },
  {
   "cell_type": "code",
   "execution_count": 4,
   "id": "7648247c-a7cd-476b-b9ce-a1dbc36c5ffe",
   "metadata": {},
   "outputs": [],
   "source": [
    "df2 = pd.read_csv('review2.csv')\n",
    "df2=df2.drop(['review_id','funny','cool'], axis=1)"
   ]
  },
  {
   "cell_type": "code",
   "execution_count": 5,
   "id": "ba8beaa2-af41-4d25-9ab7-bbe53f9de6f1",
   "metadata": {},
   "outputs": [],
   "source": [
    "df3 = pd.read_csv('review3.csv')\n",
    "df3=df3.drop(['review_id','funny','cool'], axis=1)"
   ]
  },
  {
   "cell_type": "code",
   "execution_count": 6,
   "id": "05900c20-6792-4306-b7b4-dd84ba5008b8",
   "metadata": {},
   "outputs": [],
   "source": [
    "df4 = pd.read_csv('review4.csv')\n",
    "df4=df4.drop(['review_id','funny','cool'], axis=1)"
   ]
  },
  {
   "cell_type": "code",
   "execution_count": 7,
   "id": "df670222-8c3e-48b8-b37b-789e37c1036d",
   "metadata": {},
   "outputs": [],
   "source": [
    "df5 = pd.read_csv('review5.csv')\n",
    "df5=df5.drop(['review_id','funny','cool'], axis=1)"
   ]
  },
  {
   "cell_type": "code",
   "execution_count": 8,
   "id": "0d93ab44-2cb0-4bfc-8eaa-d1add6e60cc4",
   "metadata": {},
   "outputs": [],
   "source": [
    "df6 = pd.read_csv('review6.csv')\n",
    "df6=df6.drop(['review_id','funny','cool'], axis=1)"
   ]
  },
  {
   "cell_type": "code",
   "execution_count": 9,
   "id": "1e20cc3f-d8ce-4957-9ccc-e811f144c32c",
   "metadata": {},
   "outputs": [],
   "source": [
    "df7 = pd.read_csv('review7.csv')\n",
    "df7=df7.drop(['review_id','funny','cool'], axis=1)"
   ]
  },
  {
   "cell_type": "code",
   "execution_count": 10,
   "id": "b2a3b49c-f1e2-44b7-8888-5657ad2af6fc",
   "metadata": {},
   "outputs": [],
   "source": [
    "df8 = pd.read_csv('review8.csv')\n",
    "df8=df8.drop(['review_id','funny','cool'], axis=1)"
   ]
  },
  {
   "cell_type": "code",
   "execution_count": 11,
   "id": "f50b2d94-fadc-4050-9b1b-ec1d53f100fd",
   "metadata": {},
   "outputs": [],
   "source": [
    "df9 = pd.read_csv('review9.csv')\n",
    "df9=df9.drop(['review_id','funny','cool'], axis=1)"
   ]
  },
  {
   "cell_type": "code",
   "execution_count": 12,
   "id": "e9d69549-0a25-496f-83ea-2329276232c7",
   "metadata": {},
   "outputs": [],
   "source": [
    "df10 = pd.read_csv('review10.csv')\n",
    "df10=df10.drop(['review_id','funny','cool'], axis=1)"
   ]
  },
  {
   "cell_type": "code",
   "execution_count": 13,
   "id": "2a1a3b2e-bb5c-44f5-9d76-a1b36df6a444",
   "metadata": {},
   "outputs": [],
   "source": [
    "df11 = pd.read_csv('review11.csv')\n",
    "df11=df11.drop(['review_id','funny','cool'], axis=1)"
   ]
  },
  {
   "cell_type": "code",
   "execution_count": 14,
   "id": "5a45f75c-4b2b-491b-a496-5f32a24d728d",
   "metadata": {},
   "outputs": [],
   "source": [
    "df12 = pd.read_csv('review12.csv')\n",
    "df12=df12.drop(['review_id','funny','cool'], axis=1)"
   ]
  },
  {
   "cell_type": "code",
   "execution_count": 15,
   "id": "76c0c672-4971-468f-bd40-55fe561675a2",
   "metadata": {},
   "outputs": [],
   "source": [
    "df13 = pd.read_csv('review13.csv')\n",
    "df13=df13.drop(['review_id','funny','cool'], axis=1)"
   ]
  },
  {
   "cell_type": "code",
   "execution_count": 16,
   "id": "42297f1c-cde2-46c8-8554-8ccd55b9c517",
   "metadata": {},
   "outputs": [],
   "source": [
    "df14 = pd.read_csv('review14.csv')\n",
    "df14=df14.drop(['review_id','funny','cool'], axis=1)"
   ]
  },
  {
   "cell_type": "code",
   "execution_count": 17,
   "id": "e59b8c2a-f42c-41aa-abbb-4f89bfcdce3b",
   "metadata": {},
   "outputs": [],
   "source": [
    "df15 = pd.read_csv('review15.csv')\n",
    "df15=df15.drop(['review_id','funny','cool'], axis=1)"
   ]
  },
  {
   "cell_type": "code",
   "execution_count": 18,
   "id": "b67571de-d4f2-4fbf-a6c3-690310400d11",
   "metadata": {},
   "outputs": [],
   "source": [
    "df16 = pd.read_csv('review16.csv')\n",
    "df16=df16.drop(['review_id','funny','cool'], axis=1)"
   ]
  },
  {
   "cell_type": "code",
   "execution_count": 19,
   "id": "0ef4656b-783e-439b-a569-03abb16b06de",
   "metadata": {},
   "outputs": [],
   "source": [
    "df17 = pd.read_csv('review17.csv')\n",
    "df17=df17.drop(['review_id','funny','cool'], axis=1)"
   ]
  },
  {
   "cell_type": "code",
   "execution_count": 20,
   "id": "5f8ad719-d9a2-4913-bdd6-d049d03a17fe",
   "metadata": {},
   "outputs": [],
   "source": [
    "df18 = pd.read_csv('review18.csv')\n",
    "df18=df18.drop(['review_id','funny','cool'], axis=1)"
   ]
  },
  {
   "cell_type": "code",
   "execution_count": 21,
   "id": "699ba92a-c478-4f7a-81f1-a252e0c96cee",
   "metadata": {},
   "outputs": [],
   "source": [
    "#create a dataframe with all the reviews but without the text which is not relevant for the analysis\n",
    "frames = [df1, df2, df3,df4, df5, df6,df7, df8, df9,df10, df11, df12,df13, df14, df15,df16, df17, df18]\n",
    "df = pd.concat(frames)"
   ]
  },
  {
   "cell_type": "code",
   "execution_count": 22,
   "id": "74729664-8bd8-45a6-b1af-826e6d5f4c61",
   "metadata": {},
   "outputs": [
    {
     "data": {
      "text/html": [
       "<div>\n",
       "<style scoped>\n",
       "    .dataframe tbody tr th:only-of-type {\n",
       "        vertical-align: middle;\n",
       "    }\n",
       "\n",
       "    .dataframe tbody tr th {\n",
       "        vertical-align: top;\n",
       "    }\n",
       "\n",
       "    .dataframe thead th {\n",
       "        text-align: right;\n",
       "    }\n",
       "</style>\n",
       "<table border=\"1\" class=\"dataframe\">\n",
       "  <thead>\n",
       "    <tr style=\"text-align: right;\">\n",
       "      <th></th>\n",
       "      <th>business_id</th>\n",
       "      <th>city</th>\n",
       "      <th>stars</th>\n",
       "      <th>review_count</th>\n",
       "      <th>is_open</th>\n",
       "      <th>attributes</th>\n",
       "      <th>categories</th>\n",
       "      <th>hours</th>\n",
       "    </tr>\n",
       "  </thead>\n",
       "  <tbody>\n",
       "    <tr>\n",
       "      <th>26</th>\n",
       "      <td>hcRxdDg7DYryCxCoI8ySQA</td>\n",
       "      <td>Boston</td>\n",
       "      <td>2.5</td>\n",
       "      <td>24</td>\n",
       "      <td>1</td>\n",
       "      <td>{'RestaurantsPriceRange2': '1', 'BusinessAccep...</td>\n",
       "      <td>Restaurants, Shopping, Shopping Centers</td>\n",
       "      <td>{'Monday': '6:30-22:0', 'Tuesday': '6:30-22:0'...</td>\n",
       "    </tr>\n",
       "    <tr>\n",
       "      <th>29</th>\n",
       "      <td>jGennaZUr2MsJyRhijNBfA</td>\n",
       "      <td>Boston</td>\n",
       "      <td>3.5</td>\n",
       "      <td>856</td>\n",
       "      <td>1</td>\n",
       "      <td>{'NoiseLevel': 'u'average'', 'BikeParking': 'F...</td>\n",
       "      <td>Sandwiches, Food, Restaurants, Breakfast &amp; Bru...</td>\n",
       "      <td>{'Monday': '6:0-21:0', 'Tuesday': '6:0-21:0', ...</td>\n",
       "    </tr>\n",
       "    <tr>\n",
       "      <th>35</th>\n",
       "      <td>iPD8BBvea6YldQZPHzVrSQ</td>\n",
       "      <td>Boston</td>\n",
       "      <td>4.5</td>\n",
       "      <td>7</td>\n",
       "      <td>0</td>\n",
       "      <td>{'NoiseLevel': ''quiet'', 'GoodForKids': 'True...</td>\n",
       "      <td>Creperies, Restaurants, Food, Coffee &amp; Tea, Br...</td>\n",
       "      <td>{'Tuesday': '8:0-20:0', 'Wednesday': '8:0-20:0...</td>\n",
       "    </tr>\n",
       "    <tr>\n",
       "      <th>341</th>\n",
       "      <td>loRoCo53b30zgHZ_mIMatQ</td>\n",
       "      <td>Boston</td>\n",
       "      <td>3.5</td>\n",
       "      <td>436</td>\n",
       "      <td>1</td>\n",
       "      <td>{'RestaurantsGoodForGroups': 'True', 'BYOBCork...</td>\n",
       "      <td>American (New), Nightlife, Breakfast &amp; Brunch,...</td>\n",
       "      <td>{'Monday': '5:0-21:0', 'Tuesday': '5:0-21:0', ...</td>\n",
       "    </tr>\n",
       "    <tr>\n",
       "      <th>383</th>\n",
       "      <td>-Eg1pMVoWg8YR6-O4QuTxw</td>\n",
       "      <td>Boston</td>\n",
       "      <td>4.0</td>\n",
       "      <td>158</td>\n",
       "      <td>1</td>\n",
       "      <td>{'BusinessParking': '{'garage': False, 'street...</td>\n",
       "      <td>Halal, Persian/Iranian, Restaurants, Middle Ea...</td>\n",
       "      <td>{'Monday': '12:0-20:0', 'Tuesday': '12:0-20:0'...</td>\n",
       "    </tr>\n",
       "    <tr>\n",
       "      <th>...</th>\n",
       "      <td>...</td>\n",
       "      <td>...</td>\n",
       "      <td>...</td>\n",
       "      <td>...</td>\n",
       "      <td>...</td>\n",
       "      <td>...</td>\n",
       "      <td>...</td>\n",
       "      <td>...</td>\n",
       "    </tr>\n",
       "    <tr>\n",
       "      <th>160487</th>\n",
       "      <td>yzdSWz86E1LF1172i3JOjA</td>\n",
       "      <td>Boston</td>\n",
       "      <td>2.5</td>\n",
       "      <td>25</td>\n",
       "      <td>0</td>\n",
       "      <td>{'OutdoorSeating': 'False', 'GoodForKids': 'Fa...</td>\n",
       "      <td>Food, Restaurants, Mexican, Tex-Mex</td>\n",
       "      <td>{'Monday': '11:0-20:0', 'Tuesday': '11:0-20:0'...</td>\n",
       "    </tr>\n",
       "    <tr>\n",
       "      <th>160497</th>\n",
       "      <td>WoI1IisL_AgmWdiJLRb-Zw</td>\n",
       "      <td>Boston</td>\n",
       "      <td>4.0</td>\n",
       "      <td>216</td>\n",
       "      <td>1</td>\n",
       "      <td>{'RestaurantsPriceRange2': '2', 'RestaurantsAt...</td>\n",
       "      <td>Restaurants, Food, Bars, Venues &amp; Event Spaces...</td>\n",
       "      <td>{'Monday': '0:0-0:0', 'Tuesday': '12:0-20:0', ...</td>\n",
       "    </tr>\n",
       "    <tr>\n",
       "      <th>160501</th>\n",
       "      <td>pXj9QQVummN5ANuseK4CvQ</td>\n",
       "      <td>Boston</td>\n",
       "      <td>4.5</td>\n",
       "      <td>87</td>\n",
       "      <td>0</td>\n",
       "      <td>{'BikeParking': 'True', 'GoodForMeal': '{'dess...</td>\n",
       "      <td>Pizza, Restaurants</td>\n",
       "      <td>{'Monday': '11:0-22:0', 'Tuesday': '11:0-22:0'...</td>\n",
       "    </tr>\n",
       "    <tr>\n",
       "      <th>160532</th>\n",
       "      <td>o7gK1JweWUr9jGwYzF1Olg</td>\n",
       "      <td>Boston</td>\n",
       "      <td>3.5</td>\n",
       "      <td>8</td>\n",
       "      <td>0</td>\n",
       "      <td>{'RestaurantsTakeOut': 'True', 'RestaurantsDel...</td>\n",
       "      <td>Pizza, Delis, Restaurants</td>\n",
       "      <td>None</td>\n",
       "    </tr>\n",
       "    <tr>\n",
       "      <th>160556</th>\n",
       "      <td>87f7kR7nTz8WHnmtLM_S6w</td>\n",
       "      <td>Boston</td>\n",
       "      <td>4.5</td>\n",
       "      <td>737</td>\n",
       "      <td>1</td>\n",
       "      <td>{'RestaurantsPriceRange2': '4', 'RestaurantsGo...</td>\n",
       "      <td>Japanese, Sushi Bars, Restaurants</td>\n",
       "      <td>{'Monday': '0:0-0:0', 'Tuesday': '17:0-21:30',...</td>\n",
       "    </tr>\n",
       "  </tbody>\n",
       "</table>\n",
       "<p>2845 rows × 8 columns</p>\n",
       "</div>"
      ],
      "text/plain": [
       "                   business_id    city  stars  review_count  is_open  \\\n",
       "26      hcRxdDg7DYryCxCoI8ySQA  Boston    2.5            24        1   \n",
       "29      jGennaZUr2MsJyRhijNBfA  Boston    3.5           856        1   \n",
       "35      iPD8BBvea6YldQZPHzVrSQ  Boston    4.5             7        0   \n",
       "341     loRoCo53b30zgHZ_mIMatQ  Boston    3.5           436        1   \n",
       "383     -Eg1pMVoWg8YR6-O4QuTxw  Boston    4.0           158        1   \n",
       "...                        ...     ...    ...           ...      ...   \n",
       "160487  yzdSWz86E1LF1172i3JOjA  Boston    2.5            25        0   \n",
       "160497  WoI1IisL_AgmWdiJLRb-Zw  Boston    4.0           216        1   \n",
       "160501  pXj9QQVummN5ANuseK4CvQ  Boston    4.5            87        0   \n",
       "160532  o7gK1JweWUr9jGwYzF1Olg  Boston    3.5             8        0   \n",
       "160556  87f7kR7nTz8WHnmtLM_S6w  Boston    4.5           737        1   \n",
       "\n",
       "                                               attributes  \\\n",
       "26      {'RestaurantsPriceRange2': '1', 'BusinessAccep...   \n",
       "29      {'NoiseLevel': 'u'average'', 'BikeParking': 'F...   \n",
       "35      {'NoiseLevel': ''quiet'', 'GoodForKids': 'True...   \n",
       "341     {'RestaurantsGoodForGroups': 'True', 'BYOBCork...   \n",
       "383     {'BusinessParking': '{'garage': False, 'street...   \n",
       "...                                                   ...   \n",
       "160487  {'OutdoorSeating': 'False', 'GoodForKids': 'Fa...   \n",
       "160497  {'RestaurantsPriceRange2': '2', 'RestaurantsAt...   \n",
       "160501  {'BikeParking': 'True', 'GoodForMeal': '{'dess...   \n",
       "160532  {'RestaurantsTakeOut': 'True', 'RestaurantsDel...   \n",
       "160556  {'RestaurantsPriceRange2': '4', 'RestaurantsGo...   \n",
       "\n",
       "                                               categories  \\\n",
       "26                Restaurants, Shopping, Shopping Centers   \n",
       "29      Sandwiches, Food, Restaurants, Breakfast & Bru...   \n",
       "35      Creperies, Restaurants, Food, Coffee & Tea, Br...   \n",
       "341     American (New), Nightlife, Breakfast & Brunch,...   \n",
       "383     Halal, Persian/Iranian, Restaurants, Middle Ea...   \n",
       "...                                                   ...   \n",
       "160487                Food, Restaurants, Mexican, Tex-Mex   \n",
       "160497  Restaurants, Food, Bars, Venues & Event Spaces...   \n",
       "160501                                 Pizza, Restaurants   \n",
       "160532                          Pizza, Delis, Restaurants   \n",
       "160556                  Japanese, Sushi Bars, Restaurants   \n",
       "\n",
       "                                                    hours  \n",
       "26      {'Monday': '6:30-22:0', 'Tuesday': '6:30-22:0'...  \n",
       "29      {'Monday': '6:0-21:0', 'Tuesday': '6:0-21:0', ...  \n",
       "35      {'Tuesday': '8:0-20:0', 'Wednesday': '8:0-20:0...  \n",
       "341     {'Monday': '5:0-21:0', 'Tuesday': '5:0-21:0', ...  \n",
       "383     {'Monday': '12:0-20:0', 'Tuesday': '12:0-20:0'...  \n",
       "...                                                   ...  \n",
       "160487  {'Monday': '11:0-20:0', 'Tuesday': '11:0-20:0'...  \n",
       "160497  {'Monday': '0:0-0:0', 'Tuesday': '12:0-20:0', ...  \n",
       "160501  {'Monday': '11:0-22:0', 'Tuesday': '11:0-22:0'...  \n",
       "160532                                               None  \n",
       "160556  {'Monday': '0:0-0:0', 'Tuesday': '17:0-21:30',...  \n",
       "\n",
       "[2845 rows x 8 columns]"
      ]
     },
     "execution_count": 22,
     "metadata": {},
     "output_type": "execute_result"
    }
   ],
   "source": [
    "import numpy as np\n",
    "df_Bos=df_b[df_b['city']=='Boston']\n",
    "df_Bos=df_Bos.replace(to_replace='None', value=np.nan)\n",
    "df_Bos=df_Bos[~df_Bos['categories'].isnull()]\n",
    "df_Bos=df_Bos[df_Bos['categories'].str.contains('Restaurants')]\n",
    "df_Bos"
   ]
  },
  {
   "cell_type": "code",
   "execution_count": 23,
   "id": "8de645b3-83b7-4a04-8afa-98cb242ee6e1",
   "metadata": {},
   "outputs": [
    {
     "data": {
      "text/html": [
       "<div>\n",
       "<style scoped>\n",
       "    .dataframe tbody tr th:only-of-type {\n",
       "        vertical-align: middle;\n",
       "    }\n",
       "\n",
       "    .dataframe tbody tr th {\n",
       "        vertical-align: top;\n",
       "    }\n",
       "\n",
       "    .dataframe thead th {\n",
       "        text-align: right;\n",
       "    }\n",
       "</style>\n",
       "<table border=\"1\" class=\"dataframe\">\n",
       "  <thead>\n",
       "    <tr style=\"text-align: right;\">\n",
       "      <th></th>\n",
       "      <th>business_id</th>\n",
       "    </tr>\n",
       "  </thead>\n",
       "  <tbody>\n",
       "    <tr>\n",
       "      <th>26</th>\n",
       "      <td>hcRxdDg7DYryCxCoI8ySQA</td>\n",
       "    </tr>\n",
       "    <tr>\n",
       "      <th>29</th>\n",
       "      <td>jGennaZUr2MsJyRhijNBfA</td>\n",
       "    </tr>\n",
       "    <tr>\n",
       "      <th>35</th>\n",
       "      <td>iPD8BBvea6YldQZPHzVrSQ</td>\n",
       "    </tr>\n",
       "    <tr>\n",
       "      <th>341</th>\n",
       "      <td>loRoCo53b30zgHZ_mIMatQ</td>\n",
       "    </tr>\n",
       "    <tr>\n",
       "      <th>383</th>\n",
       "      <td>-Eg1pMVoWg8YR6-O4QuTxw</td>\n",
       "    </tr>\n",
       "    <tr>\n",
       "      <th>...</th>\n",
       "      <td>...</td>\n",
       "    </tr>\n",
       "    <tr>\n",
       "      <th>160487</th>\n",
       "      <td>yzdSWz86E1LF1172i3JOjA</td>\n",
       "    </tr>\n",
       "    <tr>\n",
       "      <th>160497</th>\n",
       "      <td>WoI1IisL_AgmWdiJLRb-Zw</td>\n",
       "    </tr>\n",
       "    <tr>\n",
       "      <th>160501</th>\n",
       "      <td>pXj9QQVummN5ANuseK4CvQ</td>\n",
       "    </tr>\n",
       "    <tr>\n",
       "      <th>160532</th>\n",
       "      <td>o7gK1JweWUr9jGwYzF1Olg</td>\n",
       "    </tr>\n",
       "    <tr>\n",
       "      <th>160556</th>\n",
       "      <td>87f7kR7nTz8WHnmtLM_S6w</td>\n",
       "    </tr>\n",
       "  </tbody>\n",
       "</table>\n",
       "<p>2845 rows × 1 columns</p>\n",
       "</div>"
      ],
      "text/plain": [
       "                   business_id\n",
       "26      hcRxdDg7DYryCxCoI8ySQA\n",
       "29      jGennaZUr2MsJyRhijNBfA\n",
       "35      iPD8BBvea6YldQZPHzVrSQ\n",
       "341     loRoCo53b30zgHZ_mIMatQ\n",
       "383     -Eg1pMVoWg8YR6-O4QuTxw\n",
       "...                        ...\n",
       "160487  yzdSWz86E1LF1172i3JOjA\n",
       "160497  WoI1IisL_AgmWdiJLRb-Zw\n",
       "160501  pXj9QQVummN5ANuseK4CvQ\n",
       "160532  o7gK1JweWUr9jGwYzF1Olg\n",
       "160556  87f7kR7nTz8WHnmtLM_S6w\n",
       "\n",
       "[2845 rows x 1 columns]"
      ]
     },
     "execution_count": 23,
     "metadata": {},
     "output_type": "execute_result"
    }
   ],
   "source": [
    "remove=['city','stars','is_open','review_count','attributes','categories','hours']\n",
    "df_Bos=df_Bos.drop(remove,axis=1)\n",
    "df_Bos"
   ]
  },
  {
   "cell_type": "code",
   "execution_count": 24,
   "id": "54d3366a-ccf8-4cce-bedb-d29ba14cf4a8",
   "metadata": {},
   "outputs": [
    {
     "data": {
      "text/html": [
       "<div>\n",
       "<style scoped>\n",
       "    .dataframe tbody tr th:only-of-type {\n",
       "        vertical-align: middle;\n",
       "    }\n",
       "\n",
       "    .dataframe tbody tr th {\n",
       "        vertical-align: top;\n",
       "    }\n",
       "\n",
       "    .dataframe thead th {\n",
       "        text-align: right;\n",
       "    }\n",
       "</style>\n",
       "<table border=\"1\" class=\"dataframe\">\n",
       "  <thead>\n",
       "    <tr style=\"text-align: right;\">\n",
       "      <th></th>\n",
       "      <th>business_id</th>\n",
       "      <th>user_id</th>\n",
       "      <th>stars</th>\n",
       "      <th>useful</th>\n",
       "      <th>text</th>\n",
       "      <th>date</th>\n",
       "    </tr>\n",
       "  </thead>\n",
       "  <tbody>\n",
       "    <tr>\n",
       "      <th>0</th>\n",
       "      <td>hcRxdDg7DYryCxCoI8ySQA</td>\n",
       "      <td>34Al3p8NZfjLU_iPauoWsA</td>\n",
       "      <td>3</td>\n",
       "      <td>2</td>\n",
       "      <td>The Longwood Galleria isn't much of a mall. It...</td>\n",
       "      <td>2006-06-27 16:37:40</td>\n",
       "    </tr>\n",
       "    <tr>\n",
       "      <th>1</th>\n",
       "      <td>hcRxdDg7DYryCxCoI8ySQA</td>\n",
       "      <td>XX1zm34nF9OS70WGAC6pEQ</td>\n",
       "      <td>3</td>\n",
       "      <td>1</td>\n",
       "      <td>The food court can get a bit crowded during lu...</td>\n",
       "      <td>2013-12-29 22:42:55</td>\n",
       "    </tr>\n",
       "    <tr>\n",
       "      <th>2</th>\n",
       "      <td>hcRxdDg7DYryCxCoI8ySQA</td>\n",
       "      <td>pAnq3j5kx1IBSNZqgOFNSg</td>\n",
       "      <td>5</td>\n",
       "      <td>0</td>\n",
       "      <td>I'll give 5 stars to this cozy, cute and shiny...</td>\n",
       "      <td>2016-07-06 00:28:11</td>\n",
       "    </tr>\n",
       "    <tr>\n",
       "      <th>3</th>\n",
       "      <td>hcRxdDg7DYryCxCoI8ySQA</td>\n",
       "      <td>1Vd_Yr_rawm4qA0QHDzVcQ</td>\n",
       "      <td>4</td>\n",
       "      <td>1</td>\n",
       "      <td>This is a nice food court/mini mall located in...</td>\n",
       "      <td>2013-02-25 00:31:12</td>\n",
       "    </tr>\n",
       "    <tr>\n",
       "      <th>4</th>\n",
       "      <td>hcRxdDg7DYryCxCoI8ySQA</td>\n",
       "      <td>CESIxRplQxxE0ruEXrrVSg</td>\n",
       "      <td>2</td>\n",
       "      <td>1</td>\n",
       "      <td>I come here maybe once every 2 years...it's ba...</td>\n",
       "      <td>2012-03-09 03:53:54</td>\n",
       "    </tr>\n",
       "    <tr>\n",
       "      <th>...</th>\n",
       "      <td>...</td>\n",
       "      <td>...</td>\n",
       "      <td>...</td>\n",
       "      <td>...</td>\n",
       "      <td>...</td>\n",
       "      <td>...</td>\n",
       "    </tr>\n",
       "    <tr>\n",
       "      <th>532603</th>\n",
       "      <td>87f7kR7nTz8WHnmtLM_S6w</td>\n",
       "      <td>hB5Q0_wMO7kJ3GY-q0m7VQ</td>\n",
       "      <td>5</td>\n",
       "      <td>1</td>\n",
       "      <td>I'm going to keep this review as short and swe...</td>\n",
       "      <td>2012-09-10 02:21:59</td>\n",
       "    </tr>\n",
       "    <tr>\n",
       "      <th>532604</th>\n",
       "      <td>87f7kR7nTz8WHnmtLM_S6w</td>\n",
       "      <td>ecgCPbp5D60Pl0tFs_bYyA</td>\n",
       "      <td>5</td>\n",
       "      <td>0</td>\n",
       "      <td>AMAZING!! The omakase experience of the chef's...</td>\n",
       "      <td>2021-01-24 15:24:36</td>\n",
       "    </tr>\n",
       "    <tr>\n",
       "      <th>532605</th>\n",
       "      <td>87f7kR7nTz8WHnmtLM_S6w</td>\n",
       "      <td>og-Z5PzXhi0xyYdYqSTuig</td>\n",
       "      <td>2</td>\n",
       "      <td>7</td>\n",
       "      <td>This is what you do, folks: go to your local f...</td>\n",
       "      <td>2015-07-04 05:16:45</td>\n",
       "    </tr>\n",
       "    <tr>\n",
       "      <th>532606</th>\n",
       "      <td>87f7kR7nTz8WHnmtLM_S6w</td>\n",
       "      <td>2ky6A9YKsyLs2saA3gjTIA</td>\n",
       "      <td>5</td>\n",
       "      <td>10</td>\n",
       "      <td>This is a retro review.  \\n\\nI went here as a ...</td>\n",
       "      <td>2020-11-10 03:39:40</td>\n",
       "    </tr>\n",
       "    <tr>\n",
       "      <th>532607</th>\n",
       "      <td>87f7kR7nTz8WHnmtLM_S6w</td>\n",
       "      <td>FtTwsdIffvlrkoqnDtpLTQ</td>\n",
       "      <td>5</td>\n",
       "      <td>7</td>\n",
       "      <td>My husband and I came here to celebrate our 20...</td>\n",
       "      <td>2015-08-03 16:51:35</td>\n",
       "    </tr>\n",
       "  </tbody>\n",
       "</table>\n",
       "<p>532608 rows × 6 columns</p>\n",
       "</div>"
      ],
      "text/plain": [
       "                   business_id                 user_id  stars  useful  \\\n",
       "0       hcRxdDg7DYryCxCoI8ySQA  34Al3p8NZfjLU_iPauoWsA      3       2   \n",
       "1       hcRxdDg7DYryCxCoI8ySQA  XX1zm34nF9OS70WGAC6pEQ      3       1   \n",
       "2       hcRxdDg7DYryCxCoI8ySQA  pAnq3j5kx1IBSNZqgOFNSg      5       0   \n",
       "3       hcRxdDg7DYryCxCoI8ySQA  1Vd_Yr_rawm4qA0QHDzVcQ      4       1   \n",
       "4       hcRxdDg7DYryCxCoI8ySQA  CESIxRplQxxE0ruEXrrVSg      2       1   \n",
       "...                        ...                     ...    ...     ...   \n",
       "532603  87f7kR7nTz8WHnmtLM_S6w  hB5Q0_wMO7kJ3GY-q0m7VQ      5       1   \n",
       "532604  87f7kR7nTz8WHnmtLM_S6w  ecgCPbp5D60Pl0tFs_bYyA      5       0   \n",
       "532605  87f7kR7nTz8WHnmtLM_S6w  og-Z5PzXhi0xyYdYqSTuig      2       7   \n",
       "532606  87f7kR7nTz8WHnmtLM_S6w  2ky6A9YKsyLs2saA3gjTIA      5      10   \n",
       "532607  87f7kR7nTz8WHnmtLM_S6w  FtTwsdIffvlrkoqnDtpLTQ      5       7   \n",
       "\n",
       "                                                     text                 date  \n",
       "0       The Longwood Galleria isn't much of a mall. It...  2006-06-27 16:37:40  \n",
       "1       The food court can get a bit crowded during lu...  2013-12-29 22:42:55  \n",
       "2       I'll give 5 stars to this cozy, cute and shiny...  2016-07-06 00:28:11  \n",
       "3       This is a nice food court/mini mall located in...  2013-02-25 00:31:12  \n",
       "4       I come here maybe once every 2 years...it's ba...  2012-03-09 03:53:54  \n",
       "...                                                   ...                  ...  \n",
       "532603  I'm going to keep this review as short and swe...  2012-09-10 02:21:59  \n",
       "532604  AMAZING!! The omakase experience of the chef's...  2021-01-24 15:24:36  \n",
       "532605  This is what you do, folks: go to your local f...  2015-07-04 05:16:45  \n",
       "532606  This is a retro review.  \\n\\nI went here as a ...  2020-11-10 03:39:40  \n",
       "532607  My husband and I came here to celebrate our 20...  2015-08-03 16:51:35  \n",
       "\n",
       "[532608 rows x 6 columns]"
      ]
     },
     "execution_count": 24,
     "metadata": {},
     "output_type": "execute_result"
    }
   ],
   "source": [
    "df=pd.merge(df_Bos,df,on='business_id')\n",
    "df"
   ]
  },
  {
   "cell_type": "code",
   "execution_count": 25,
   "id": "ea8f9e69-d7b2-488f-8dc9-6eb68c79229f",
   "metadata": {},
   "outputs": [
    {
     "name": "stderr",
     "output_type": "stream",
     "text": [
      "<ipython-input-25-2a02de522ad5>:2: UserWarning: Boolean Series key will be reindexed to match DataFrame index.\n",
      "  two=df[df['stars']<=2.5 ][df['stars']>=2 ]\n",
      "<ipython-input-25-2a02de522ad5>:3: UserWarning: Boolean Series key will be reindexed to match DataFrame index.\n",
      "  three=df[df['stars']<=3.5][df['stars']>=3 ]\n",
      "<ipython-input-25-2a02de522ad5>:4: UserWarning: Boolean Series key will be reindexed to match DataFrame index.\n",
      "  four=df[df['stars']<=4.5][df['stars']>=4 ]\n"
     ]
    }
   ],
   "source": [
    "one=df[df['stars']<=1.5]\n",
    "two=df[df['stars']<=2.5 ][df['stars']>=2 ]\n",
    "three=df[df['stars']<=3.5][df['stars']>=3 ]\n",
    "four=df[df['stars']<=4.5][df['stars']>=4 ]\n",
    "five=df[df['stars']==5]"
   ]
  },
  {
   "cell_type": "code",
   "execution_count": 26,
   "id": "738ace08-4f60-47f2-80c6-6d1f43b95007",
   "metadata": {},
   "outputs": [
    {
     "data": {
      "text/html": [
       "<div>\n",
       "<style scoped>\n",
       "    .dataframe tbody tr th:only-of-type {\n",
       "        vertical-align: middle;\n",
       "    }\n",
       "\n",
       "    .dataframe tbody tr th {\n",
       "        vertical-align: top;\n",
       "    }\n",
       "\n",
       "    .dataframe thead th {\n",
       "        text-align: right;\n",
       "    }\n",
       "</style>\n",
       "<table border=\"1\" class=\"dataframe\">\n",
       "  <thead>\n",
       "    <tr style=\"text-align: right;\">\n",
       "      <th></th>\n",
       "      <th>text</th>\n",
       "    </tr>\n",
       "  </thead>\n",
       "  <tbody>\n",
       "    <tr>\n",
       "      <th>17</th>\n",
       "      <td>$9 parking makes everything here uneconomical ...</td>\n",
       "    </tr>\n",
       "    <tr>\n",
       "      <th>21</th>\n",
       "      <td>Went to Sakura Japan and the cashier that too ...</td>\n",
       "    </tr>\n",
       "    <tr>\n",
       "      <th>23</th>\n",
       "      <td>Have had good dinners with great service on ma...</td>\n",
       "    </tr>\n",
       "    <tr>\n",
       "      <th>41</th>\n",
       "      <td>We ate here before a recent plane flight. The ...</td>\n",
       "    </tr>\n",
       "    <tr>\n",
       "      <th>69</th>\n",
       "      <td>I bought the Cordon Blue sandwich from the lit...</td>\n",
       "    </tr>\n",
       "    <tr>\n",
       "      <th>...</th>\n",
       "      <td>...</td>\n",
       "    </tr>\n",
       "    <tr>\n",
       "      <th>532517</th>\n",
       "      <td>WHY one star when everyone else is 4+. ONE REA...</td>\n",
       "    </tr>\n",
       "    <tr>\n",
       "      <th>532518</th>\n",
       "      <td>Showed up here at 5:00pm exactly (that's when ...</td>\n",
       "    </tr>\n",
       "    <tr>\n",
       "      <th>532526</th>\n",
       "      <td>We had their most expensive omakase. It's a cu...</td>\n",
       "    </tr>\n",
       "    <tr>\n",
       "      <th>532535</th>\n",
       "      <td>Was initially excited about this planned visit...</td>\n",
       "    </tr>\n",
       "    <tr>\n",
       "      <th>532572</th>\n",
       "      <td>Hey O Ya, please train your staff to book rese...</td>\n",
       "    </tr>\n",
       "  </tbody>\n",
       "</table>\n",
       "<p>55821 rows × 1 columns</p>\n",
       "</div>"
      ],
      "text/plain": [
       "                                                     text\n",
       "17      $9 parking makes everything here uneconomical ...\n",
       "21      Went to Sakura Japan and the cashier that too ...\n",
       "23      Have had good dinners with great service on ma...\n",
       "41      We ate here before a recent plane flight. The ...\n",
       "69      I bought the Cordon Blue sandwich from the lit...\n",
       "...                                                   ...\n",
       "532517  WHY one star when everyone else is 4+. ONE REA...\n",
       "532518  Showed up here at 5:00pm exactly (that's when ...\n",
       "532526  We had their most expensive omakase. It's a cu...\n",
       "532535  Was initially excited about this planned visit...\n",
       "532572  Hey O Ya, please train your staff to book rese...\n",
       "\n",
       "[55821 rows x 1 columns]"
      ]
     },
     "execution_count": 26,
     "metadata": {},
     "output_type": "execute_result"
    }
   ],
   "source": [
    "remove=['business_id','user_id','stars','useful','date']\n",
    "one=one.drop(remove,axis=1)\n",
    "two=two.drop(remove,axis=1)\n",
    "three=three.drop(remove,axis=1)\n",
    "four=four.drop(remove,axis=1)\n",
    "five=five.drop(remove,axis=1)\n",
    "one"
   ]
  },
  {
   "cell_type": "code",
   "execution_count": 27,
   "id": "6df4822f-b6d3-4761-bbbb-aed2fa9baa3f",
   "metadata": {},
   "outputs": [],
   "source": [
    "from collections import Counter"
   ]
  },
  {
   "cell_type": "code",
   "execution_count": 28,
   "id": "d38e4ef9-4e26-4941-8848-6f90799ffdf7",
   "metadata": {},
   "outputs": [],
   "source": [
    "import re\n",
    "tt={}\n",
    "for i in range(10):\n",
    "    text=''\n",
    "    for p in one.text.values[i:i+200]:\n",
    "        text+=p\n",
    "    tt[i]=text"
   ]
  },
  {
   "cell_type": "code",
   "execution_count": 29,
   "id": "9ec83930-8a6e-41ea-b7e9-3544468c6f98",
   "metadata": {},
   "outputs": [],
   "source": [
    "dic={}\n",
    "rx = re.compile(r'\\ban\\b|\\bthe\\b|\\band\\b|\\ba\\b|\\bof\\b|\\bto\\b|\\bbut\\b|\\bmy\\b|\\when\\b|\\bI\\b|\\bby\\b|\\byou\\b|\\bor\\b|\\bon\\b|\\bwas\\b|\\bwere\\b|\\bThe\\b|\\bhad\\b|\\bIn\\b|\\bin\\b|\\bit\\b|\\bthere\\b|\\bfor\\b|\\bthat\\b|\\bis\\b|\\bwe\\b|\\bat\\b|\\bthis\\b|\\bhave\\b|\\bthey\\b|\\bour\\b|\\bbe\\b|\\bwith\\b|\\b')\n",
    "for i in range(10):\n",
    "    p=rx.sub(' ',tt[i])\n",
    "    split=p.split()\n",
    "    count=Counter(split)\n",
    "    dic[i]= count.most_common(10) #count the 10th most common words, but it counts also many articles so it's not finding the words we want it to find\n"
   ]
  },
  {
   "cell_type": "code",
   "execution_count": 30,
   "id": "638886bc-9b9e-4194-ae34-a606488b74d9",
   "metadata": {},
   "outputs": [],
   "source": [
    "from textblob import TextBlob\n",
    "x=[]\n",
    "for p in one.text.values:\n",
    "    blob = TextBlob(p)\n",
    "    x.append(blob.sentiment.polarity)"
   ]
  },
  {
   "cell_type": "code",
   "execution_count": 31,
   "id": "50b29af3-eaa3-460a-9ea3-9de7ccc1ed01",
   "metadata": {},
   "outputs": [],
   "source": [
    "one['pol']=x"
   ]
  },
  {
   "cell_type": "code",
   "execution_count": 32,
   "id": "027c075c-33a4-41a7-91c2-68c4e48cd2bc",
   "metadata": {},
   "outputs": [
    {
     "data": {
      "text/html": [
       "<div>\n",
       "<style scoped>\n",
       "    .dataframe tbody tr th:only-of-type {\n",
       "        vertical-align: middle;\n",
       "    }\n",
       "\n",
       "    .dataframe tbody tr th {\n",
       "        vertical-align: top;\n",
       "    }\n",
       "\n",
       "    .dataframe thead th {\n",
       "        text-align: right;\n",
       "    }\n",
       "</style>\n",
       "<table border=\"1\" class=\"dataframe\">\n",
       "  <thead>\n",
       "    <tr style=\"text-align: right;\">\n",
       "      <th></th>\n",
       "      <th>text</th>\n",
       "      <th>pol</th>\n",
       "    </tr>\n",
       "  </thead>\n",
       "  <tbody>\n",
       "    <tr>\n",
       "      <th>17</th>\n",
       "      <td>$9 parking makes everything here uneconomical ...</td>\n",
       "      <td>0.450000</td>\n",
       "    </tr>\n",
       "    <tr>\n",
       "      <th>21</th>\n",
       "      <td>Went to Sakura Japan and the cashier that too ...</td>\n",
       "      <td>-0.120000</td>\n",
       "    </tr>\n",
       "    <tr>\n",
       "      <th>23</th>\n",
       "      <td>Have had good dinners with great service on ma...</td>\n",
       "      <td>0.325000</td>\n",
       "    </tr>\n",
       "    <tr>\n",
       "      <th>41</th>\n",
       "      <td>We ate here before a recent plane flight. The ...</td>\n",
       "      <td>0.025000</td>\n",
       "    </tr>\n",
       "    <tr>\n",
       "      <th>69</th>\n",
       "      <td>I bought the Cordon Blue sandwich from the lit...</td>\n",
       "      <td>-0.213188</td>\n",
       "    </tr>\n",
       "    <tr>\n",
       "      <th>...</th>\n",
       "      <td>...</td>\n",
       "      <td>...</td>\n",
       "    </tr>\n",
       "    <tr>\n",
       "      <th>532517</th>\n",
       "      <td>WHY one star when everyone else is 4+. ONE REA...</td>\n",
       "      <td>0.281625</td>\n",
       "    </tr>\n",
       "    <tr>\n",
       "      <th>532518</th>\n",
       "      <td>Showed up here at 5:00pm exactly (that's when ...</td>\n",
       "      <td>-0.082813</td>\n",
       "    </tr>\n",
       "    <tr>\n",
       "      <th>532526</th>\n",
       "      <td>We had their most expensive omakase. It's a cu...</td>\n",
       "      <td>0.390000</td>\n",
       "    </tr>\n",
       "    <tr>\n",
       "      <th>532535</th>\n",
       "      <td>Was initially excited about this planned visit...</td>\n",
       "      <td>0.150437</td>\n",
       "    </tr>\n",
       "    <tr>\n",
       "      <th>532572</th>\n",
       "      <td>Hey O Ya, please train your staff to book rese...</td>\n",
       "      <td>0.110000</td>\n",
       "    </tr>\n",
       "  </tbody>\n",
       "</table>\n",
       "<p>55821 rows × 2 columns</p>\n",
       "</div>"
      ],
      "text/plain": [
       "                                                     text       pol\n",
       "17      $9 parking makes everything here uneconomical ...  0.450000\n",
       "21      Went to Sakura Japan and the cashier that too ... -0.120000\n",
       "23      Have had good dinners with great service on ma...  0.325000\n",
       "41      We ate here before a recent plane flight. The ...  0.025000\n",
       "69      I bought the Cordon Blue sandwich from the lit... -0.213188\n",
       "...                                                   ...       ...\n",
       "532517  WHY one star when everyone else is 4+. ONE REA...  0.281625\n",
       "532518  Showed up here at 5:00pm exactly (that's when ... -0.082813\n",
       "532526  We had their most expensive omakase. It's a cu...  0.390000\n",
       "532535  Was initially excited about this planned visit...  0.150437\n",
       "532572  Hey O Ya, please train your staff to book rese...  0.110000\n",
       "\n",
       "[55821 rows x 2 columns]"
      ]
     },
     "execution_count": 32,
     "metadata": {},
     "output_type": "execute_result"
    }
   ],
   "source": [
    "one"
   ]
  },
  {
   "cell_type": "code",
   "execution_count": 33,
   "id": "30fe00ee-65b8-416d-924d-ba22bee5ebce",
   "metadata": {},
   "outputs": [
    {
     "data": {
      "text/plain": [
       "<AxesSubplot:xlabel='pol', ylabel='Count'>"
      ]
     },
     "execution_count": 33,
     "metadata": {},
     "output_type": "execute_result"
    },
    {
     "data": {
      "image/png": "[encoded data removed]",
      "text/plain": [
       "<Figure size 432x288 with 1 Axes>"
      ]
     },
     "metadata": {
      "needs_background": "light"
     },
     "output_type": "display_data"
    }
   ],
   "source": [
    "import seaborn as sns\n",
    "sns.histplot(one,x='pol',color='tab:red')"
   ]
  },
  {
   "cell_type": "code",
   "execution_count": 54,
   "id": "8ae14887-3878-4199-a394-6b364a8cb038",
   "metadata": {},
   "outputs": [],
   "source": [
    "import nltk\n",
    "from nltk.tokenize import word_tokenize, RegexpTokenizer\n",
    "from nltk.sentiment.vader import SentimentIntensityAnalyzer\n",
    "from vaderSentiment.vaderSentiment import SentimentIntensityAnalyzer "
   ]
  },
  {
   "cell_type": "code",
   "execution_count": 55,
   "id": "4afb2668-b7f6-4cad-a4a2-3cdd732f9973",
   "metadata": {},
   "outputs": [
    {
     "data": {
      "text/plain": [
       "{'neg': 0.185, 'neu': 0.815, 'pos': 0.0, 'compound': -0.8425}"
      ]
     },
     "execution_count": 55,
     "metadata": {},
     "output_type": "execute_result"
    }
   ],
   "source": [
    "sid_obj = SentimentIntensityAnalyzer() \n",
    "sentiment_dict = sid_obj.polarity_scores(text) \n",
    "sentiment_dict"
   ]
  },
  {
   "cell_type": "code",
   "execution_count": 133,
   "id": "05dd16e3-c7cd-4914-8aa7-af119cd1f5a1",
   "metadata": {},
   "outputs": [],
   "source": [
    "def find_neg_words(text):\n",
    "    neg_word_list=[]\n",
    "    tokenized_sentence = nltk.word_tokenize(text)\n",
    "    sid = SentimentIntensityAnalyzer()\n",
    "    \n",
    "    for word in tokenized_sentence:\n",
    "        if (sid.polarity_scores(word)['compound']) <= -0.1:\n",
    "            neg_word_list.append(word)  \n",
    "    return neg_word_list"
   ]
  },
  {
   "cell_type": "code",
   "execution_count": 143,
   "id": "8cfbabe7-f679-44e3-a5ab-ef786f86e5d1",
   "metadata": {},
   "outputs": [],
   "source": [
    "def find_pos_words(text):\n",
    "    pos_word_list=[]\n",
    "    tokenized_sentence = nltk.word_tokenize(text)\n",
    "    sid = SentimentIntensityAnalyzer()\n",
    "    for word in tokenized_sentence:\n",
    "        if (sid.polarity_scores(word)['compound']) >=0.1:\n",
    "            pos_word_list.append(word) \n",
    "    return pos_word_list"
   ]
  },
  {
   "cell_type": "code",
   "execution_count": 136,
   "id": "0779554f-d6cb-4f64-9327-a988372f96db",
   "metadata": {},
   "outputs": [],
   "source": [
    "neg=[]\n",
    "for p in one.text.values[1:1000]:\n",
    "    blob = find_neg_words(p.lower())\n",
    "    neg+= blob"
   ]
  },
  {
   "cell_type": "code",
   "execution_count": 137,
   "id": "5613c73f-a214-4d74-b7c4-a713b560431c",
   "metadata": {},
   "outputs": [
    {
     "data": {
      "text/plain": [
       "[('no', 484),\n",
       " ('rude', 167),\n",
       " ('bad', 156),\n",
       " ('worst', 144),\n",
       " ('terrible', 133),\n",
       " ('horrible', 112),\n",
       " ('wrong', 93),\n",
       " ('awful', 80),\n",
       " ('pay', 77),\n",
       " ('disappointed', 74)]"
      ]
     },
     "execution_count": 137,
     "metadata": {},
     "output_type": "execute_result"
    }
   ],
   "source": [
    "occurrences = Counter(neg).most_common(10)\n",
    "occurrences"
   ]
  },
  {
   "cell_type": "code",
   "execution_count": 138,
   "id": "5b9a1313-d093-41c2-b42a-2a51293bcd24",
   "metadata": {},
   "outputs": [
    {
     "data": {
      "text/plain": [
       "<AxesSubplot:xlabel='tot', ylabel='words'>"
      ]
     },
     "execution_count": 138,
     "metadata": {},
     "output_type": "execute_result"
    },
    {
     "data": {
      "image/png": "[encoded data removed]",
      "text/plain": [
       "<Figure size 1440x720 with 1 Axes>"
      ]
     },
     "metadata": {
      "needs_background": "light"
     },
     "output_type": "display_data"
    }
   ],
   "source": [
    "df = pd.DataFrame(occurrences, columns=[\"words\", \"tot\"])\n",
    "fig, ax=plt.subplots(1,1,figsize=(20,10))\n",
    "sns.barplot(data=df,y='words', x='tot', orient=\"h\", ax=ax, palette='colorblind')"
   ]
  },
  {
   "cell_type": "code",
   "execution_count": 144,
   "id": "8e14830c-f40c-4944-9451-c71e2e04654d",
   "metadata": {},
   "outputs": [
    {
     "data": {
      "text/plain": [
       "[('great', 632),\n",
       " ('good', 403),\n",
       " ('best', 268),\n",
       " ('delicious', 245),\n",
       " ('amazing', 234),\n",
       " ('nice', 186),\n",
       " ('like', 175),\n",
       " ('love', 169),\n",
       " ('fresh', 164),\n",
       " ('definitely', 160)]"
      ]
     },
     "execution_count": 144,
     "metadata": {},
     "output_type": "execute_result"
    }
   ],
   "source": [
    "pos=[]\n",
    "for p in five.text.values[1:1000]:\n",
    "    blob = find_pos_words(p.lower())\n",
    "    pos += blob\n",
    "occurrences = Counter(pos).most_common(10)\n",
    "occurrences"
   ]
  },
  {
   "cell_type": "code",
   "execution_count": 145,
   "id": "c6e4837f-951b-46df-bd23-4d1a7e05402b",
   "metadata": {},
   "outputs": [
    {
     "data": {
      "text/plain": [
       "<AxesSubplot:xlabel='tot', ylabel='words'>"
      ]
     },
     "execution_count": 145,
     "metadata": {},
     "output_type": "execute_result"
    },
    {
     "data": {
      "image/png": "[encoded data removed]",
      "text/plain": [
       "<Figure size 1440x720 with 1 Axes>"
      ]
     },
     "metadata": {
      "needs_background": "light"
     },
     "output_type": "display_data"
    }
   ],
   "source": [
    "import matplotlib.pyplot as plt\n",
    "import seaborn as sns\n",
    "df = pd.DataFrame(occurrences, columns=[\"words\", \"tot\"])\n",
    "fig, ax=plt.subplots(1,1,figsize=(20,10))\n",
    "sns.barplot(data=df,y='words', x='tot', orient=\"h\", ax=ax, palette='colorblind')"
   ]
  }
 ],
 "metadata": {
  "kernelspec": {
   "display_name": "Python 3",
   "language": "python",
   "name": "python3"
  },
  "language_info": {
   "codemirror_mode": {
    "name": "ipython",
    "version": 3
   },
   "file_extension": ".py",
   "mimetype": "text/x-python",
   "name": "python",
   "nbconvert_exporter": "python",
   "pygments_lexer": "ipython3",
   "version": "3.8.8"
  }
 },
 "nbformat": 4,
 "nbformat_minor": 5
}
