{
 "cells": [
  {
   "cell_type": "code",
   "execution_count": 45,
   "id": "335e5aea",
   "metadata": {},
   "outputs": [],
   "source": [
    "import pandas as pd\n",
    "size = 500000\n",
    "batch_no=1\n",
    "for chunk in pd.read_json('yelp_academic_dataset_review.json', lines=True, \n",
    "                      dtype={'review_id':str,'user_id':str,\n",
    "                             'business_id':str,'stars':int,\n",
    "                             'date':str,'text':str,'useful':int,\n",
    "                             'funny':int,'cool':int},\n",
    "                      chunksize=size):\n",
    "    chunk.to_csv('chunk'+str(batch_no)+'.csv',index=False)\n",
    "    batch_no+=1\n",
    "    \n"
   ]
  },
  {
   "cell_type": "code",
   "execution_count": 1,
   "id": "245a2684",
   "metadata": {},
   "outputs": [],
   "source": [
    "import json\n",
    "import bz2\n",
    "tweets = []\n",
    "for line in open('yelp_academic_dataset_business.json', 'r'):\n",
    "    tweets.append(json.loads(line))"
   ]
  },
  {
   "cell_type": "code",
   "execution_count": null,
   "id": "6978b7da",
   "metadata": {},
   "outputs": [],
   "source": []
  },
  {
   "cell_type": "code",
   "execution_count": null,
   "id": "36a50279",
   "metadata": {},
   "outputs": [],
   "source": []
  },
  {
   "cell_type": "code",
   "execution_count": 2,
   "id": "da66e471",
   "metadata": {},
   "outputs": [],
   "source": [
    "import pandas as pd\n",
    "#tweets[0].pop('categories')\n",
    "#tweets[0]['attributes'].pop('GoodForMeal')\n",
    "business_RV=pd.DataFrame.from_dict(tweets)\n"
   ]
  },
  {
   "cell_type": "code",
   "execution_count": 40,
   "id": "9b316a97",
   "metadata": {},
   "outputs": [
    {
     "ename": "KeyError",
     "evalue": "'BikeParking'",
     "output_type": "error",
     "traceback": [
      "\u001b[0;31m---------------------------------------------------------------------------\u001b[0m",
      "\u001b[0;31mKeyError\u001b[0m                                  Traceback (most recent call last)",
      "\u001b[0;32m<ipython-input-40-5e0d9cf44f12>\u001b[0m in \u001b[0;36m<module>\u001b[0;34m\u001b[0m\n\u001b[1;32m      5\u001b[0m     \u001b[0mi\u001b[0m\u001b[0;34m.\u001b[0m\u001b[0mpop\u001b[0m\u001b[0;34m(\u001b[0m\u001b[0;34m'postal_code'\u001b[0m\u001b[0;34m)\u001b[0m\u001b[0;34m\u001b[0m\u001b[0;34m\u001b[0m\u001b[0m\n\u001b[1;32m      6\u001b[0m     \u001b[0mi\u001b[0m\u001b[0;34m.\u001b[0m\u001b[0mpop\u001b[0m\u001b[0;34m(\u001b[0m\u001b[0;34m'longitude'\u001b[0m\u001b[0;34m)\u001b[0m\u001b[0;34m\u001b[0m\u001b[0;34m\u001b[0m\u001b[0m\n\u001b[0;32m----> 7\u001b[0;31m     \u001b[0mi\u001b[0m\u001b[0;34m[\u001b[0m\u001b[0;34m'attributes'\u001b[0m\u001b[0;34m]\u001b[0m\u001b[0;34m.\u001b[0m\u001b[0mpop\u001b[0m\u001b[0;34m(\u001b[0m\u001b[0;34m'BikeParking'\u001b[0m\u001b[0;34m)\u001b[0m\u001b[0;34m\u001b[0m\u001b[0;34m\u001b[0m\u001b[0m\n\u001b[0m\u001b[1;32m      8\u001b[0m     \u001b[0mi\u001b[0m\u001b[0;34m[\u001b[0m\u001b[0;34m'attributes'\u001b[0m\u001b[0;34m]\u001b[0m\u001b[0;34m.\u001b[0m\u001b[0mpop\u001b[0m\u001b[0;34m(\u001b[0m\u001b[0;34m'BusinessParking'\u001b[0m\u001b[0;34m)\u001b[0m\u001b[0;34m\u001b[0m\u001b[0;34m\u001b[0m\u001b[0m\n",
      "\u001b[0;31mKeyError\u001b[0m: 'BikeParking'"
     ]
    }
   ],
   "source": [
    "for i in tweets:\n",
    "    i.pop('address')\n",
    "    i.pop('name')\n",
    "    i.pop('latitude')\n",
    "    i.pop('postal_code')\n",
    "    i.pop('longitude')\n",
    "    i['attributes'].pop('BikeParking')\n",
    "    i['attributes'].pop('BusinessParking')\n"
   ]
  },
  {
   "cell_type": "code",
   "execution_count": 43,
   "id": "0d09fe16",
   "metadata": {},
   "outputs": [
    {
     "data": {
      "text/plain": [
       "\"{'garage': False, 'street': True, 'validated': False, 'lot': False, 'valet': False}\""
      ]
     },
     "execution_count": 43,
     "metadata": {},
     "output_type": "execute_result"
    }
   ],
   "source": [
    "tweets[0].pop('address')\n",
    "tweets[0].pop('name')\n",
    "tweets[0].pop('latitude')\n",
    "tweets[0].pop('postal_code')\n",
    "tweets[0].pop('longitude')\n",
    "tweets[0]['attributes'].pop('BikeParking')\n",
    "tweets[0]['attributes'].pop('BusinessParking')\n"
   ]
  },
  {
   "cell_type": "code",
   "execution_count": 3,
   "id": "01617c31",
   "metadata": {},
   "outputs": [
    {
     "data": {
      "text/plain": [
       "{'business_id': '6iYb2HFDywm3zjuRg0shjw',\n",
       " 'name': 'Oskar Blues Taproom',\n",
       " 'address': '921 Pearl St',\n",
       " 'city': 'Boulder',\n",
       " 'state': 'CO',\n",
       " 'postal_code': '80302',\n",
       " 'latitude': 40.0175444,\n",
       " 'longitude': -105.2833481,\n",
       " 'stars': 4.0,\n",
       " 'review_count': 86,\n",
       " 'is_open': 1,\n",
       " 'attributes': {'RestaurantsTableService': 'True',\n",
       "  'WiFi': \"u'free'\",\n",
       "  'BikeParking': 'True',\n",
       "  'BusinessParking': \"{'garage': False, 'street': True, 'validated': False, 'lot': False, 'valet': False}\",\n",
       "  'BusinessAcceptsCreditCards': 'True',\n",
       "  'RestaurantsReservations': 'False',\n",
       "  'WheelchairAccessible': 'True',\n",
       "  'Caters': 'True',\n",
       "  'OutdoorSeating': 'True',\n",
       "  'RestaurantsGoodForGroups': 'True',\n",
       "  'HappyHour': 'True',\n",
       "  'BusinessAcceptsBitcoin': 'False',\n",
       "  'RestaurantsPriceRange2': '2',\n",
       "  'Ambience': \"{'touristy': False, 'hipster': False, 'romantic': False, 'divey': False, 'intimate': False, 'trendy': False, 'upscale': False, 'classy': False, 'casual': True}\",\n",
       "  'HasTV': 'True',\n",
       "  'Alcohol': \"'beer_and_wine'\",\n",
       "  'GoodForMeal': \"{'dessert': False, 'latenight': False, 'lunch': False, 'dinner': False, 'brunch': False, 'breakfast': False}\",\n",
       "  'DogsAllowed': 'False',\n",
       "  'RestaurantsTakeOut': 'True',\n",
       "  'NoiseLevel': \"u'average'\",\n",
       "  'RestaurantsAttire': \"'casual'\",\n",
       "  'RestaurantsDelivery': 'None'},\n",
       " 'categories': 'Gastropubs, Food, Beer Gardens, Restaurants, Bars, American (Traditional), Beer Bar, Nightlife, Breweries',\n",
       " 'hours': {'Monday': '11:0-23:0',\n",
       "  'Tuesday': '11:0-23:0',\n",
       "  'Wednesday': '11:0-23:0',\n",
       "  'Thursday': '11:0-23:0',\n",
       "  'Friday': '11:0-23:0',\n",
       "  'Saturday': '11:0-23:0',\n",
       "  'Sunday': '11:0-23:0'}}"
      ]
     },
     "execution_count": 3,
     "metadata": {},
     "output_type": "execute_result"
    }
   ],
   "source": [
    "tweets[0]"
   ]
  },
  {
   "cell_type": "code",
   "execution_count": null,
   "id": "9124754f",
   "metadata": {},
   "outputs": [],
   "source": []
  }
 ],
 "metadata": {
  "kernelspec": {
   "display_name": "Python 3",
   "language": "python",
   "name": "python3"
  },
  "language_info": {
   "codemirror_mode": {
    "name": "ipython",
    "version": 3
   },
   "file_extension": ".py",
   "mimetype": "text/x-python",
   "name": "python",
   "nbconvert_exporter": "python",
   "pygments_lexer": "ipython3",
   "version": "3.8.8"
  }
 },
 "nbformat": 4,
 "nbformat_minor": 5
}
