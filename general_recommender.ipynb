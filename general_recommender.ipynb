{
  "nbformat": 4,
  "nbformat_minor": 5,
  "metadata": {
    "kernelspec": {
      "display_name": "Python 3 (ipykernel)",
      "language": "python",
      "name": "python3"
    },
    "language_info": {
      "codemirror_mode": {
        "name": "ipython",
        "version": 3
      },
      "file_extension": ".py",
      "mimetype": "text/x-python",
      "name": "python",
      "nbconvert_exporter": "python",
      "pygments_lexer": "ipython3",
      "version": "3.8.10"
    },
    "colab": {
      "name": "general_recommender.ipynb",
      "provenance": [],
      "collapsed_sections": []
    }
  },
  "cells": [
    {
      "cell_type": "code",
      "metadata": {
        "colab": {
          "base_uri": "https://localhost:8080/",
          "height": 35
        },
        "id": "iJbSFCLaBWAu",
        "outputId": "383d846a-0fbd-47a0-aacc-df27b26d68c7"
      },
      "source": [
        "pwd"
      ],
      "id": "iJbSFCLaBWAu",
      "execution_count": null,
      "outputs": [
        {
          "output_type": "execute_result",
          "data": {
            "application/vnd.google.colaboratory.intrinsic+json": {
              "type": "string"
            },
            "text/plain": [
              "'/content'"
            ]
          },
          "metadata": {},
          "execution_count": 1
        }
      ]
    },
    {
      "cell_type": "code",
      "metadata": {
        "colab": {
          "base_uri": "https://localhost:8080/"
        },
        "id": "072ts1vCBbi2",
        "outputId": "8d72d9e0-792e-4874-ddc2-806e25fc4225"
      },
      "source": [
        "from google.colab import drive \n",
        "drive.mount('/content/drive')\n",
        "%cd /content/drive/MyDrive/Colab\\ Notebooks"
      ],
      "id": "072ts1vCBbi2",
      "execution_count": 1,
      "outputs": [
        {
          "output_type": "stream",
          "name": "stdout",
          "text": [
            "Mounted at /content/drive\n",
            "/content/drive/MyDrive/Colab Notebooks\n"
          ]
        }
      ]
    },
    {
      "cell_type": "code",
      "metadata": {
        "colab": {
          "base_uri": "https://localhost:8080/"
        },
        "id": "A0-ntJCLB7gH",
        "outputId": "22b16923-6b66-4e1b-dea4-e3a3266155ba"
      },
      "source": [
        "!pip install \"dask[dataframe]\"\n",
        "!pip install \"dask[bag]\"\n",
        "!pip install \"dask[array]\""
      ],
      "id": "A0-ntJCLB7gH",
      "execution_count": 2,
      "outputs": [
        {
          "output_type": "stream",
          "name": "stdout",
          "text": [
            "Requirement already satisfied: dask[dataframe] in /usr/local/lib/python3.7/dist-packages (2.12.0)\n",
            "Requirement already satisfied: numpy>=1.13.0 in /usr/local/lib/python3.7/dist-packages (from dask[dataframe]) (1.19.5)\n",
            "Collecting fsspec>=0.6.0\n",
            "  Downloading fsspec-2021.11.0-py3-none-any.whl (132 kB)\n",
            "\u001b[K     |████████████████████████████████| 132 kB 30.8 MB/s \n",
            "\u001b[?25hRequirement already satisfied: pandas>=0.23.0 in /usr/local/lib/python3.7/dist-packages (from dask[dataframe]) (1.1.5)\n",
            "Collecting partd>=0.3.10\n",
            "  Downloading partd-1.2.0-py3-none-any.whl (19 kB)\n",
            "Requirement already satisfied: toolz>=0.7.3 in /usr/local/lib/python3.7/dist-packages (from dask[dataframe]) (0.11.2)\n",
            "Requirement already satisfied: python-dateutil>=2.7.3 in /usr/local/lib/python3.7/dist-packages (from pandas>=0.23.0->dask[dataframe]) (2.8.2)\n",
            "Requirement already satisfied: pytz>=2017.2 in /usr/local/lib/python3.7/dist-packages (from pandas>=0.23.0->dask[dataframe]) (2018.9)\n",
            "Collecting locket\n",
            "  Downloading locket-0.2.1-py2.py3-none-any.whl (4.1 kB)\n",
            "Requirement already satisfied: six>=1.5 in /usr/local/lib/python3.7/dist-packages (from python-dateutil>=2.7.3->pandas>=0.23.0->dask[dataframe]) (1.15.0)\n",
            "Installing collected packages: locket, partd, fsspec\n",
            "Successfully installed fsspec-2021.11.0 locket-0.2.1 partd-1.2.0\n",
            "Requirement already satisfied: dask[bag] in /usr/local/lib/python3.7/dist-packages (2.12.0)\n",
            "Requirement already satisfied: fsspec>=0.6.0 in /usr/local/lib/python3.7/dist-packages (from dask[bag]) (2021.11.0)\n",
            "Requirement already satisfied: toolz>=0.7.3 in /usr/local/lib/python3.7/dist-packages (from dask[bag]) (0.11.2)\n",
            "Requirement already satisfied: partd>=0.3.10 in /usr/local/lib/python3.7/dist-packages (from dask[bag]) (1.2.0)\n",
            "Requirement already satisfied: cloudpickle>=0.2.1 in /usr/local/lib/python3.7/dist-packages (from dask[bag]) (1.3.0)\n",
            "Requirement already satisfied: locket in /usr/local/lib/python3.7/dist-packages (from partd>=0.3.10->dask[bag]) (0.2.1)\n",
            "Requirement already satisfied: dask[array] in /usr/local/lib/python3.7/dist-packages (2.12.0)\n",
            "Requirement already satisfied: numpy>=1.13.0 in /usr/local/lib/python3.7/dist-packages (from dask[array]) (1.19.5)\n",
            "Requirement already satisfied: toolz>=0.7.3 in /usr/local/lib/python3.7/dist-packages (from dask[array]) (0.11.2)\n"
          ]
        }
      ]
    },
    {
      "cell_type": "code",
      "metadata": {
        "id": "45b337bd-f8bc-4aad-928c-cec653c52ad8"
      },
      "source": [
        "import pandas as pd\n",
        "import json\n",
        "import numpy as np\n",
        "import dask.bag as db\n",
        "import dask.dataframe as dd # substitute of pandas to load the data in streams\n",
        "import dask.array as da"
      ],
      "id": "45b337bd-f8bc-4aad-928c-cec653c52ad8",
      "execution_count": 3,
      "outputs": []
    },
    {
      "cell_type": "code",
      "metadata": {
        "id": "b57e6866-8e06-420e-b05d-c300b6e129df"
      },
      "source": [
        "# Import the review dataset as streams to avoid running out of memory\n",
        "dict_bag = db.read_text('yelp_academic_dataset_review.json', blocksize=int(5e6)).map(json.loads)\n",
        "df_r = dict_bag.to_dataframe(columns=['user_id', 'business_id', 'stars', 'useful', 'date'])\n",
        "df_r = df_r.repartition(npartitions=10)\n",
        "#df_r.head()"
      ],
      "id": "b57e6866-8e06-420e-b05d-c300b6e129df",
      "execution_count": 116,
      "outputs": []
    },
    {
      "cell_type": "code",
      "metadata": {
        "id": "d9ed0cf5-bc20-4ca6-84fa-0b4ee76777bc"
      },
      "source": [
        ""
      ],
      "id": "d9ed0cf5-bc20-4ca6-84fa-0b4ee76777bc",
      "execution_count": null,
      "outputs": []
    },
    {
      "cell_type": "code",
      "metadata": {
        "id": "4d99dcba-f9e6-4001-a014-ef9c12692663"
      },
      "source": [
        "# Business dataset\n",
        "dict_bag = db.read_text('yelp_academic_dataset_business.json', blocksize=int(5e6)).map(json.loads)\n",
        "df_b = dict_bag.to_dataframe(columns=['business_id', 'city', 'stars', 'review_count'])\n",
        "df_b = df_b.repartition(npartitions=10)\n",
        "#df_b.head()"
      ],
      "id": "4d99dcba-f9e6-4001-a014-ef9c12692663",
      "execution_count": 117,
      "outputs": []
    },
    {
      "cell_type": "code",
      "metadata": {
        "id": "c38479f4-fbeb-400c-b579-970f8100c7c0"
      },
      "source": [
        "# Users dataset (Import it in streams again)\n",
        "dict_bag = db.read_text('yelp_academic_dataset_user.json', blocksize=int(5e6)).map(json.loads)\n",
        "df_u = dict_bag.to_dataframe(columns=['user_id', 'friends', 'review_count'])\n",
        "df_u = df_u.repartition(npartitions=10)\n",
        "#df_u.head()"
      ],
      "id": "c38479f4-fbeb-400c-b579-970f8100c7c0",
      "execution_count": 118,
      "outputs": []
    },
    {
      "cell_type": "code",
      "metadata": {
        "colab": {
          "base_uri": "https://localhost:8080/"
        },
        "id": "qlTS1noDFH32",
        "outputId": "51a158c7-68fb-41fa-d63c-789b9e59e404"
      },
      "source": [
        "!pip install scikit-surprise"
      ],
      "id": "qlTS1noDFH32",
      "execution_count": 7,
      "outputs": [
        {
          "output_type": "stream",
          "name": "stdout",
          "text": [
            "Collecting scikit-surprise\n",
            "  Downloading scikit-surprise-1.1.1.tar.gz (11.8 MB)\n",
            "\u001b[K     |████████████████████████████████| 11.8 MB 29 kB/s \n",
            "\u001b[?25hRequirement already satisfied: joblib>=0.11 in /usr/local/lib/python3.7/dist-packages (from scikit-surprise) (1.1.0)\n",
            "Requirement already satisfied: numpy>=1.11.2 in /usr/local/lib/python3.7/dist-packages (from scikit-surprise) (1.19.5)\n",
            "Requirement already satisfied: scipy>=1.0.0 in /usr/local/lib/python3.7/dist-packages (from scikit-surprise) (1.4.1)\n",
            "Requirement already satisfied: six>=1.10.0 in /usr/local/lib/python3.7/dist-packages (from scikit-surprise) (1.15.0)\n",
            "Building wheels for collected packages: scikit-surprise\n",
            "  Building wheel for scikit-surprise (setup.py) ... \u001b[?25l\u001b[?25hdone\n",
            "  Created wheel for scikit-surprise: filename=scikit_surprise-1.1.1-cp37-cp37m-linux_x86_64.whl size=1619427 sha256=896d88d419d1942015c627e2d5f714c04154d07cb30721f95b31c5f6ddfd8089\n",
            "  Stored in directory: /root/.cache/pip/wheels/76/44/74/b498c42be47b2406bd27994e16c5188e337c657025ab400c1c\n",
            "Successfully built scikit-surprise\n",
            "Installing collected packages: scikit-surprise\n",
            "Successfully installed scikit-surprise-1.1.1\n"
          ]
        }
      ]
    },
    {
      "cell_type": "code",
      "metadata": {
        "id": "nkHovqrmE9Ju"
      },
      "source": [
        "from surprise import Dataset\n",
        "from surprise import Reader"
      ],
      "id": "nkHovqrmE9Ju",
      "execution_count": 8,
      "outputs": []
    },
    {
      "cell_type": "code",
      "metadata": {
        "id": "ea79753d-981a-4d80-acef-6b0d33ef9e1c"
      },
      "source": [
        "# Recommender system using the rating of the reviews\n",
        "# We appoach it using low rank approximation techniques\n",
        "# We have 3 goals\n",
        "#   - Suggest new friends (to the users)# Business dataset\n",
        "dict_bag = db.read_text('yelp_academic_dataset_business.json', blocksize=int(5e6)).map(json.loads)\n",
        "df_b = dict_bag.to_dataframe(columns=['business_id', 'city', 'stars', 'review_count'])\n",
        "df_b = df_b.repartition(npartitions=10)\n",
        "#df_b.head()\n",
        "#   - Recommend new restaurants (to the users)\n",
        "#   - Tell the restaurant which are possible competitors\n",
        "\n",
        "### Data Cleaning ###\n",
        "# Select a city\n",
        "area = 'Richmond'\n",
        "df_b = df_b[df_b.city == area]\n",
        "df_b = df_b.drop('city', axis=1)\n",
        "# Active users / business\n",
        "df_b = df_b[df_b.review_count > 100]\n",
        "df_u = df_u[df_u.review_count > 10]\n",
        "# Select only the variables that we need now\n",
        "df_r = df_r[['user_id', 'business_id', 'stars']]\n",
        "df_u = df_u[['user_id']]\n",
        "df_b = df_b[['business_id']]\n",
        "\n",
        "# subset of users that reviewd in that city\n",
        "df_r = dd.merge(df_r, df_b, how='inner', on='business_id')\n",
        "df = dd.merge(df_r, df_u, how='inner', on='user_id')\n",
        "#df.head()\n",
        "# Another way of subselecting the data to avoid interference between the inner joins\n",
        "\n"
      ],
      "id": "ea79753d-981a-4d80-acef-6b0d33ef9e1c",
      "execution_count": 119,
      "outputs": []
    },
    {
      "cell_type": "code",
      "metadata": {
        "colab": {
          "base_uri": "https://localhost:8080/",
          "height": 204
        },
        "id": "SWXjrRnrGOLy",
        "outputId": "99a75b9c-fd3e-46c6-82fe-36ca932b101d"
      },
      "source": [
        "df.head()"
      ],
      "id": "SWXjrRnrGOLy",
      "execution_count": 63,
      "outputs": [
        {
          "output_type": "execute_result",
          "data": {
            "text/html": [
              "<div>\n",
              "<style scoped>\n",
              "    .dataframe tbody tr th:only-of-type {\n",
              "        vertical-align: middle;\n",
              "    }\n",
              "\n",
              "    .dataframe tbody tr th {\n",
              "        vertical-align: top;\n",
              "    }\n",
              "\n",
              "    .dataframe thead th {\n",
              "        text-align: right;\n",
              "    }\n",
              "</style>\n",
              "<table border=\"1\" class=\"dataframe\">\n",
              "  <thead>\n",
              "    <tr style=\"text-align: right;\">\n",
              "      <th></th>\n",
              "      <th>user_id</th>\n",
              "      <th>business_id</th>\n",
              "      <th>stars</th>\n",
              "    </tr>\n",
              "  </thead>\n",
              "  <tbody>\n",
              "    <tr>\n",
              "      <th>0</th>\n",
              "      <td>bCZvBE0AY-edknhD64Of9A</td>\n",
              "      <td>j7VmHg9M-eWZuDw-p4AIaA</td>\n",
              "      <td>4.0</td>\n",
              "    </tr>\n",
              "    <tr>\n",
              "      <th>1</th>\n",
              "      <td>bCZvBE0AY-edknhD64Of9A</td>\n",
              "      <td>Xv21hWWM1XT25NWLBOle3Q</td>\n",
              "      <td>4.0</td>\n",
              "    </tr>\n",
              "    <tr>\n",
              "      <th>2</th>\n",
              "      <td>bCZvBE0AY-edknhD64Of9A</td>\n",
              "      <td>I4jytmnWi2m9qGnuqNxUTg</td>\n",
              "      <td>2.0</td>\n",
              "    </tr>\n",
              "    <tr>\n",
              "      <th>3</th>\n",
              "      <td>bCZvBE0AY-edknhD64Of9A</td>\n",
              "      <td>s43_Tw05YR_3nwHLBOj3SA</td>\n",
              "      <td>3.0</td>\n",
              "    </tr>\n",
              "    <tr>\n",
              "      <th>4</th>\n",
              "      <td>bCZvBE0AY-edknhD64Of9A</td>\n",
              "      <td>s43_Tw05YR_3nwHLBOj3SA</td>\n",
              "      <td>4.0</td>\n",
              "    </tr>\n",
              "  </tbody>\n",
              "</table>\n",
              "</div>"
            ],
            "text/plain": [
              "                  user_id             business_id  stars\n",
              "0  bCZvBE0AY-edknhD64Of9A  j7VmHg9M-eWZuDw-p4AIaA    4.0\n",
              "1  bCZvBE0AY-edknhD64Of9A  Xv21hWWM1XT25NWLBOle3Q    4.0\n",
              "2  bCZvBE0AY-edknhD64Of9A  I4jytmnWi2m9qGnuqNxUTg    2.0\n",
              "3  bCZvBE0AY-edknhD64Of9A  s43_Tw05YR_3nwHLBOj3SA    3.0\n",
              "4  bCZvBE0AY-edknhD64Of9A  s43_Tw05YR_3nwHLBOj3SA    4.0"
            ]
          },
          "metadata": {},
          "execution_count": 63
        }
      ]
    },
    {
      "cell_type": "code",
      "metadata": {
        "id": "fvAR5qgDLyGQ"
      },
      "source": [
        "#df_small = df.sample(frac=0.1, replace=False, random_state=1)\n",
        "df_small = df"
      ],
      "id": "fvAR5qgDLyGQ",
      "execution_count": 120,
      "outputs": []
    },
    {
      "cell_type": "code",
      "metadata": {
        "id": "MRcSRjtGPlsB"
      },
      "source": [
        "df_small = df_small.compute()"
      ],
      "id": "MRcSRjtGPlsB",
      "execution_count": 121,
      "outputs": []
    },
    {
      "cell_type": "code",
      "metadata": {
        "colab": {
          "base_uri": "https://localhost:8080/",
          "height": 419
        },
        "id": "avavrwJkupnu",
        "outputId": "fd0ba563-101d-491a-ca0f-3a75547fb258"
      },
      "source": [
        "df_small"
      ],
      "id": "avavrwJkupnu",
      "execution_count": 122,
      "outputs": [
        {
          "output_type": "execute_result",
          "data": {
            "text/html": [
              "<div>\n",
              "<style scoped>\n",
              "    .dataframe tbody tr th:only-of-type {\n",
              "        vertical-align: middle;\n",
              "    }\n",
              "\n",
              "    .dataframe tbody tr th {\n",
              "        vertical-align: top;\n",
              "    }\n",
              "\n",
              "    .dataframe thead th {\n",
              "        text-align: right;\n",
              "    }\n",
              "</style>\n",
              "<table border=\"1\" class=\"dataframe\">\n",
              "  <thead>\n",
              "    <tr style=\"text-align: right;\">\n",
              "      <th></th>\n",
              "      <th>user_id</th>\n",
              "      <th>business_id</th>\n",
              "      <th>stars</th>\n",
              "    </tr>\n",
              "  </thead>\n",
              "  <tbody>\n",
              "    <tr>\n",
              "      <th>0</th>\n",
              "      <td>bCZvBE0AY-edknhD64Of9A</td>\n",
              "      <td>j7VmHg9M-eWZuDw-p4AIaA</td>\n",
              "      <td>4.0</td>\n",
              "    </tr>\n",
              "    <tr>\n",
              "      <th>1</th>\n",
              "      <td>bCZvBE0AY-edknhD64Of9A</td>\n",
              "      <td>sNDfYZP9OYypywbi33aSxw</td>\n",
              "      <td>4.0</td>\n",
              "    </tr>\n",
              "    <tr>\n",
              "      <th>2</th>\n",
              "      <td>bCZvBE0AY-edknhD64Of9A</td>\n",
              "      <td>KqJa1YxZM0PT4iHqhJJjFA</td>\n",
              "      <td>4.0</td>\n",
              "    </tr>\n",
              "    <tr>\n",
              "      <th>3</th>\n",
              "      <td>bCZvBE0AY-edknhD64Of9A</td>\n",
              "      <td>PXoqSMlonM9qTcQnkNkE5A</td>\n",
              "      <td>4.0</td>\n",
              "    </tr>\n",
              "    <tr>\n",
              "      <th>4</th>\n",
              "      <td>bCZvBE0AY-edknhD64Of9A</td>\n",
              "      <td>j0qVvKZEBdlkQHqyYE1iTw</td>\n",
              "      <td>3.0</td>\n",
              "    </tr>\n",
              "    <tr>\n",
              "      <th>...</th>\n",
              "      <td>...</td>\n",
              "      <td>...</td>\n",
              "      <td>...</td>\n",
              "    </tr>\n",
              "    <tr>\n",
              "      <th>1538</th>\n",
              "      <td>cDz4PbqLBkn2FLqMtNaXAg</td>\n",
              "      <td>nDGM13CCIVe1w4dyS2Bcgg</td>\n",
              "      <td>4.0</td>\n",
              "    </tr>\n",
              "    <tr>\n",
              "      <th>1539</th>\n",
              "      <td>bEQhe2pE7ukH04Kfnzdk5g</td>\n",
              "      <td>nDGM13CCIVe1w4dyS2Bcgg</td>\n",
              "      <td>4.0</td>\n",
              "    </tr>\n",
              "    <tr>\n",
              "      <th>1540</th>\n",
              "      <td>R1LiRX25tOdZ0vhIjhUBRg</td>\n",
              "      <td>nDGM13CCIVe1w4dyS2Bcgg</td>\n",
              "      <td>4.0</td>\n",
              "    </tr>\n",
              "    <tr>\n",
              "      <th>1541</th>\n",
              "      <td>kAucm0rGyi72fFHPErQPog</td>\n",
              "      <td>3_AK31Wj9-1dbPZ1fdX_-Q</td>\n",
              "      <td>5.0</td>\n",
              "    </tr>\n",
              "    <tr>\n",
              "      <th>1542</th>\n",
              "      <td>AddUr_7rfA2p_fbS3S2ElA</td>\n",
              "      <td>3_AK31Wj9-1dbPZ1fdX_-Q</td>\n",
              "      <td>1.0</td>\n",
              "    </tr>\n",
              "  </tbody>\n",
              "</table>\n",
              "<p>15075 rows × 3 columns</p>\n",
              "</div>"
            ],
            "text/plain": [
              "                     user_id             business_id  stars\n",
              "0     bCZvBE0AY-edknhD64Of9A  j7VmHg9M-eWZuDw-p4AIaA    4.0\n",
              "1     bCZvBE0AY-edknhD64Of9A  sNDfYZP9OYypywbi33aSxw    4.0\n",
              "2     bCZvBE0AY-edknhD64Of9A  KqJa1YxZM0PT4iHqhJJjFA    4.0\n",
              "3     bCZvBE0AY-edknhD64Of9A  PXoqSMlonM9qTcQnkNkE5A    4.0\n",
              "4     bCZvBE0AY-edknhD64Of9A  j0qVvKZEBdlkQHqyYE1iTw    3.0\n",
              "...                      ...                     ...    ...\n",
              "1538  cDz4PbqLBkn2FLqMtNaXAg  nDGM13CCIVe1w4dyS2Bcgg    4.0\n",
              "1539  bEQhe2pE7ukH04Kfnzdk5g  nDGM13CCIVe1w4dyS2Bcgg    4.0\n",
              "1540  R1LiRX25tOdZ0vhIjhUBRg  nDGM13CCIVe1w4dyS2Bcgg    4.0\n",
              "1541  kAucm0rGyi72fFHPErQPog  3_AK31Wj9-1dbPZ1fdX_-Q    5.0\n",
              "1542  AddUr_7rfA2p_fbS3S2ElA  3_AK31Wj9-1dbPZ1fdX_-Q    1.0\n",
              "\n",
              "[15075 rows x 3 columns]"
            ]
          },
          "metadata": {},
          "execution_count": 122
        }
      ]
    },
    {
      "cell_type": "code",
      "metadata": {
        "id": "x2CZNn6Ez01u"
      },
      "source": [
        "active_user = df_small['user_id'].value_counts()"
      ],
      "id": "x2CZNn6Ez01u",
      "execution_count": 124,
      "outputs": []
    },
    {
      "cell_type": "code",
      "metadata": {
        "id": "qUbWJfvJ0D0L"
      },
      "source": [
        "actives = pd.DataFrame(columns= ['user_id', 'count'])\n",
        "active_user = pd.DataFrame(active_user)\n",
        "actives['user_id'] = active_user.index\n",
        "actives['count'] = active_user['user_id'].values"
      ],
      "id": "qUbWJfvJ0D0L",
      "execution_count": 125,
      "outputs": []
    },
    {
      "cell_type": "code",
      "metadata": {
        "id": "aEKNjL8d0dmd"
      },
      "source": [
        "actives = actives[actives['count'] > 5]"
      ],
      "id": "aEKNjL8d0dmd",
      "execution_count": 126,
      "outputs": []
    },
    {
      "cell_type": "code",
      "metadata": {
        "id": "KJhhhBvJ1Fp6"
      },
      "source": [
        "df_small = pd.merge(actives, df_small, how='inner', on='user_id')"
      ],
      "id": "KJhhhBvJ1Fp6",
      "execution_count": 132,
      "outputs": []
    },
    {
      "cell_type": "code",
      "metadata": {
        "id": "GfjaOnxcDBOG"
      },
      "source": [
        "df_small = df_small.drop(columns='count')"
      ],
      "id": "GfjaOnxcDBOG",
      "execution_count": 134,
      "outputs": []
    },
    {
      "cell_type": "code",
      "metadata": {
        "id": "BBg-UwUkhzpN"
      },
      "source": [
        "from surprise.model_selection import train_test_split"
      ],
      "id": "BBg-UwUkhzpN",
      "execution_count": 135,
      "outputs": []
    },
    {
      "cell_type": "code",
      "metadata": {
        "id": "fVRJ-xCXIRUK"
      },
      "source": [
        "reader = Reader(rating_scale=(1.0, 5.0))\n",
        "data = Dataset.load_from_df(df_small, reader)"
      ],
      "id": "fVRJ-xCXIRUK",
      "execution_count": 136,
      "outputs": []
    },
    {
      "cell_type": "code",
      "metadata": {
        "id": "-qvghvNrIy1u"
      },
      "source": [
        "from surprise import SVD\n",
        "from surprise.model_selection import cross_validate"
      ],
      "id": "-qvghvNrIy1u",
      "execution_count": 137,
      "outputs": []
    },
    {
      "cell_type": "code",
      "metadata": {
        "colab": {
          "base_uri": "https://localhost:8080/"
        },
        "id": "aIsk-wKSI7YX",
        "outputId": "a8a7c1d8-055d-4623-9050-66c35f4ebfe0"
      },
      "source": [
        "svd = SVD(verbose=True, n_epochs=10)\n",
        "#cross_validate(svd, data, measures=['RMSE', 'MAE'], cv=3, verbose=True)\n",
        "#trainset = data.build_full_trainset()\n",
        "trainset, testset = train_test_split(data, test_size=.25)\n",
        "svd.fit(trainset)\n",
        "pred = svd.test(testset)"
      ],
      "id": "aIsk-wKSI7YX",
      "execution_count": 138,
      "outputs": [
        {
          "output_type": "stream",
          "name": "stdout",
          "text": [
            "Processing epoch 0\n",
            "Processing epoch 1\n",
            "Processing epoch 2\n",
            "Processing epoch 3\n",
            "Processing epoch 4\n",
            "Processing epoch 5\n",
            "Processing epoch 6\n",
            "Processing epoch 7\n",
            "Processing epoch 8\n",
            "Processing epoch 9\n"
          ]
        }
      ]
    },
    {
      "cell_type": "code",
      "metadata": {
        "colab": {
          "base_uri": "https://localhost:8080/",
          "height": 419
        },
        "id": "jq4NBIuPgoBs",
        "outputId": "218e9c4a-3177-4056-9fa1-42dba2369dfb"
      },
      "source": [
        "df_small"
      ],
      "id": "jq4NBIuPgoBs",
      "execution_count": 139,
      "outputs": [
        {
          "output_type": "execute_result",
          "data": {
            "text/html": [
              "<div>\n",
              "<style scoped>\n",
              "    .dataframe tbody tr th:only-of-type {\n",
              "        vertical-align: middle;\n",
              "    }\n",
              "\n",
              "    .dataframe tbody tr th {\n",
              "        vertical-align: top;\n",
              "    }\n",
              "\n",
              "    .dataframe thead th {\n",
              "        text-align: right;\n",
              "    }\n",
              "</style>\n",
              "<table border=\"1\" class=\"dataframe\">\n",
              "  <thead>\n",
              "    <tr style=\"text-align: right;\">\n",
              "      <th></th>\n",
              "      <th>user_id</th>\n",
              "      <th>business_id</th>\n",
              "      <th>stars</th>\n",
              "    </tr>\n",
              "  </thead>\n",
              "  <tbody>\n",
              "    <tr>\n",
              "      <th>0</th>\n",
              "      <td>9EeEpkZg5jV18N_KvrcT6g</td>\n",
              "      <td>ZzK99Z5oWteQVlBtdm9r1w</td>\n",
              "      <td>4.0</td>\n",
              "    </tr>\n",
              "    <tr>\n",
              "      <th>1</th>\n",
              "      <td>9EeEpkZg5jV18N_KvrcT6g</td>\n",
              "      <td>ZzK99Z5oWteQVlBtdm9r1w</td>\n",
              "      <td>4.0</td>\n",
              "    </tr>\n",
              "    <tr>\n",
              "      <th>2</th>\n",
              "      <td>9EeEpkZg5jV18N_KvrcT6g</td>\n",
              "      <td>ZzK99Z5oWteQVlBtdm9r1w</td>\n",
              "      <td>4.0</td>\n",
              "    </tr>\n",
              "    <tr>\n",
              "      <th>3</th>\n",
              "      <td>9EeEpkZg5jV18N_KvrcT6g</td>\n",
              "      <td>ZzK99Z5oWteQVlBtdm9r1w</td>\n",
              "      <td>4.0</td>\n",
              "    </tr>\n",
              "    <tr>\n",
              "      <th>4</th>\n",
              "      <td>9EeEpkZg5jV18N_KvrcT6g</td>\n",
              "      <td>cpkyRpNWllRmOhM_qlsdiQ</td>\n",
              "      <td>4.0</td>\n",
              "    </tr>\n",
              "    <tr>\n",
              "      <th>...</th>\n",
              "      <td>...</td>\n",
              "      <td>...</td>\n",
              "      <td>...</td>\n",
              "    </tr>\n",
              "    <tr>\n",
              "      <th>4728</th>\n",
              "      <td>EIRBAYXCV3647N3ejEwkIA</td>\n",
              "      <td>VHvlre6m3-oUlixGLlOnRA</td>\n",
              "      <td>4.0</td>\n",
              "    </tr>\n",
              "    <tr>\n",
              "      <th>4729</th>\n",
              "      <td>EIRBAYXCV3647N3ejEwkIA</td>\n",
              "      <td>chucQ4h98spUmknWQHJ6lA</td>\n",
              "      <td>5.0</td>\n",
              "    </tr>\n",
              "    <tr>\n",
              "      <th>4730</th>\n",
              "      <td>EIRBAYXCV3647N3ejEwkIA</td>\n",
              "      <td>CCV_rtjUHKhJA0JLruwImw</td>\n",
              "      <td>3.0</td>\n",
              "    </tr>\n",
              "    <tr>\n",
              "      <th>4731</th>\n",
              "      <td>EIRBAYXCV3647N3ejEwkIA</td>\n",
              "      <td>odUQDozVqxsUtrSX8ENHyA</td>\n",
              "      <td>5.0</td>\n",
              "    </tr>\n",
              "    <tr>\n",
              "      <th>4732</th>\n",
              "      <td>EIRBAYXCV3647N3ejEwkIA</td>\n",
              "      <td>nDGM13CCIVe1w4dyS2Bcgg</td>\n",
              "      <td>4.0</td>\n",
              "    </tr>\n",
              "  </tbody>\n",
              "</table>\n",
              "<p>4733 rows × 3 columns</p>\n",
              "</div>"
            ],
            "text/plain": [
              "                     user_id             business_id  stars\n",
              "0     9EeEpkZg5jV18N_KvrcT6g  ZzK99Z5oWteQVlBtdm9r1w    4.0\n",
              "1     9EeEpkZg5jV18N_KvrcT6g  ZzK99Z5oWteQVlBtdm9r1w    4.0\n",
              "2     9EeEpkZg5jV18N_KvrcT6g  ZzK99Z5oWteQVlBtdm9r1w    4.0\n",
              "3     9EeEpkZg5jV18N_KvrcT6g  ZzK99Z5oWteQVlBtdm9r1w    4.0\n",
              "4     9EeEpkZg5jV18N_KvrcT6g  cpkyRpNWllRmOhM_qlsdiQ    4.0\n",
              "...                      ...                     ...    ...\n",
              "4728  EIRBAYXCV3647N3ejEwkIA  VHvlre6m3-oUlixGLlOnRA    4.0\n",
              "4729  EIRBAYXCV3647N3ejEwkIA  chucQ4h98spUmknWQHJ6lA    5.0\n",
              "4730  EIRBAYXCV3647N3ejEwkIA  CCV_rtjUHKhJA0JLruwImw    3.0\n",
              "4731  EIRBAYXCV3647N3ejEwkIA  odUQDozVqxsUtrSX8ENHyA    5.0\n",
              "4732  EIRBAYXCV3647N3ejEwkIA  nDGM13CCIVe1w4dyS2Bcgg    4.0\n",
              "\n",
              "[4733 rows x 3 columns]"
            ]
          },
          "metadata": {},
          "execution_count": 139
        }
      ]
    },
    {
      "cell_type": "code",
      "metadata": {
        "colab": {
          "base_uri": "https://localhost:8080/"
        },
        "id": "08c9TD9DNz5y",
        "outputId": "32c75c89-7c31-4c82-f6da-e5848dee0739"
      },
      "source": [
        "from surprise import accuracy\n",
        "#pred = svd.test(trainset)\n",
        "accuracy.rmse(pred)"
      ],
      "id": "08c9TD9DNz5y",
      "execution_count": 140,
      "outputs": [
        {
          "output_type": "stream",
          "name": "stdout",
          "text": [
            "RMSE: 0.9072\n"
          ]
        },
        {
          "output_type": "execute_result",
          "data": {
            "text/plain": [
              "0.9072129181943878"
            ]
          },
          "metadata": {},
          "execution_count": 140
        }
      ]
    },
    {
      "cell_type": "code",
      "metadata": {
        "id": "03WcfaXTmOUk"
      },
      "source": [
        "#pred = svd.predict(\"Z2x-sMYhTKmYEU5yuv75pA\", \"eYmf3scmgHqJASKkRF0QCg\")"
      ],
      "id": "03WcfaXTmOUk",
      "execution_count": null,
      "outputs": []
    },
    {
      "cell_type": "code",
      "metadata": {
        "colab": {
          "base_uri": "https://localhost:8080/",
          "height": 306
        },
        "id": "HBO0l-sHsB7I",
        "outputId": "dd11e530-e310-4508-96ff-d78de2c2667b"
      },
      "source": [
        "#df2 = pd.merge(df_small, df_u, how = \"inner\", )"
      ],
      "id": "HBO0l-sHsB7I",
      "execution_count": null,
      "outputs": [
        {
          "output_type": "error",
          "ename": "TypeError",
          "evalue": "ignored",
          "traceback": [
            "\u001b[0;31m---------------------------------------------------------------------------\u001b[0m",
            "\u001b[0;31mTypeError\u001b[0m                                 Traceback (most recent call last)",
            "\u001b[0;32m<ipython-input-21-f3cfe9976671>\u001b[0m in \u001b[0;36m<module>\u001b[0;34m()\u001b[0m\n\u001b[0;32m----> 1\u001b[0;31m \u001b[0mdf2\u001b[0m \u001b[0;34m=\u001b[0m \u001b[0mpd\u001b[0m\u001b[0;34m.\u001b[0m\u001b[0mmerge\u001b[0m\u001b[0;34m(\u001b[0m\u001b[0mdf_small\u001b[0m\u001b[0;34m,\u001b[0m \u001b[0mdf_u\u001b[0m\u001b[0;34m,\u001b[0m \u001b[0mhow\u001b[0m \u001b[0;34m=\u001b[0m \u001b[0;34m\"inner\"\u001b[0m\u001b[0;34m,\u001b[0m \u001b[0;34m)\u001b[0m\u001b[0;34m\u001b[0m\u001b[0;34m\u001b[0m\u001b[0m\n\u001b[0m",
            "\u001b[0;32m/usr/local/lib/python3.7/dist-packages/pandas/core/reshape/merge.py\u001b[0m in \u001b[0;36mmerge\u001b[0;34m(left, right, how, on, left_on, right_on, left_index, right_index, sort, suffixes, copy, indicator, validate)\u001b[0m\n\u001b[1;32m     85\u001b[0m         \u001b[0mcopy\u001b[0m\u001b[0;34m=\u001b[0m\u001b[0mcopy\u001b[0m\u001b[0;34m,\u001b[0m\u001b[0;34m\u001b[0m\u001b[0;34m\u001b[0m\u001b[0m\n\u001b[1;32m     86\u001b[0m         \u001b[0mindicator\u001b[0m\u001b[0;34m=\u001b[0m\u001b[0mindicator\u001b[0m\u001b[0;34m,\u001b[0m\u001b[0;34m\u001b[0m\u001b[0;34m\u001b[0m\u001b[0m\n\u001b[0;32m---> 87\u001b[0;31m         \u001b[0mvalidate\u001b[0m\u001b[0;34m=\u001b[0m\u001b[0mvalidate\u001b[0m\u001b[0;34m,\u001b[0m\u001b[0;34m\u001b[0m\u001b[0;34m\u001b[0m\u001b[0m\n\u001b[0m\u001b[1;32m     88\u001b[0m     )\n\u001b[1;32m     89\u001b[0m     \u001b[0;32mreturn\u001b[0m \u001b[0mop\u001b[0m\u001b[0;34m.\u001b[0m\u001b[0mget_result\u001b[0m\u001b[0;34m(\u001b[0m\u001b[0;34m)\u001b[0m\u001b[0;34m\u001b[0m\u001b[0;34m\u001b[0m\u001b[0m\n",
            "\u001b[0;32m/usr/local/lib/python3.7/dist-packages/pandas/core/reshape/merge.py\u001b[0m in \u001b[0;36m__init__\u001b[0;34m(self, left, right, how, on, left_on, right_on, axis, left_index, right_index, sort, suffixes, copy, indicator, validate)\u001b[0m\n\u001b[1;32m    592\u001b[0m     ):\n\u001b[1;32m    593\u001b[0m         \u001b[0m_left\u001b[0m \u001b[0;34m=\u001b[0m \u001b[0m_validate_operand\u001b[0m\u001b[0;34m(\u001b[0m\u001b[0mleft\u001b[0m\u001b[0;34m)\u001b[0m\u001b[0;34m\u001b[0m\u001b[0;34m\u001b[0m\u001b[0m\n\u001b[0;32m--> 594\u001b[0;31m         \u001b[0m_right\u001b[0m \u001b[0;34m=\u001b[0m \u001b[0m_validate_operand\u001b[0m\u001b[0;34m(\u001b[0m\u001b[0mright\u001b[0m\u001b[0;34m)\u001b[0m\u001b[0;34m\u001b[0m\u001b[0;34m\u001b[0m\u001b[0m\n\u001b[0m\u001b[1;32m    595\u001b[0m         \u001b[0mself\u001b[0m\u001b[0;34m.\u001b[0m\u001b[0mleft\u001b[0m \u001b[0;34m=\u001b[0m \u001b[0mself\u001b[0m\u001b[0;34m.\u001b[0m\u001b[0morig_left\u001b[0m \u001b[0;34m=\u001b[0m \u001b[0m_left\u001b[0m\u001b[0;34m\u001b[0m\u001b[0;34m\u001b[0m\u001b[0m\n\u001b[1;32m    596\u001b[0m         \u001b[0mself\u001b[0m\u001b[0;34m.\u001b[0m\u001b[0mright\u001b[0m \u001b[0;34m=\u001b[0m \u001b[0mself\u001b[0m\u001b[0;34m.\u001b[0m\u001b[0morig_right\u001b[0m \u001b[0;34m=\u001b[0m \u001b[0m_right\u001b[0m\u001b[0;34m\u001b[0m\u001b[0;34m\u001b[0m\u001b[0m\n",
            "\u001b[0;32m/usr/local/lib/python3.7/dist-packages/pandas/core/reshape/merge.py\u001b[0m in \u001b[0;36m_validate_operand\u001b[0;34m(obj)\u001b[0m\n\u001b[1;32m   2065\u001b[0m     \u001b[0;32melse\u001b[0m\u001b[0;34m:\u001b[0m\u001b[0;34m\u001b[0m\u001b[0;34m\u001b[0m\u001b[0m\n\u001b[1;32m   2066\u001b[0m         raise TypeError(\n\u001b[0;32m-> 2067\u001b[0;31m             \u001b[0;34mf\"Can only merge Series or DataFrame objects, a {type(obj)} was passed\"\u001b[0m\u001b[0;34m\u001b[0m\u001b[0;34m\u001b[0m\u001b[0m\n\u001b[0m\u001b[1;32m   2068\u001b[0m         )\n\u001b[1;32m   2069\u001b[0m \u001b[0;34m\u001b[0m\u001b[0m\n",
            "\u001b[0;31mTypeError\u001b[0m: Can only merge Series or DataFrame objects, a <class 'dask.dataframe.core.DataFrame'> was passed"
          ]
        }
      ]
    },
    {
      "cell_type": "code",
      "metadata": {
        "id": "oyabuQsSu4Dn"
      },
      "source": [
        "\n",
        "users = df_small[\"user_id\"].unique()\n",
        "business = df_small[\"business_id\"].unique()"
      ],
      "id": "oyabuQsSu4Dn",
      "execution_count": 141,
      "outputs": []
    },
    {
      "cell_type": "code",
      "metadata": {
        "colab": {
          "base_uri": "https://localhost:8080/"
        },
        "id": "TgpfR9CoynLL",
        "outputId": "a4602a58-14f6-4091-8c3f-b9def3e6a138"
      },
      "source": [
        "len(users)"
      ],
      "id": "TgpfR9CoynLL",
      "execution_count": 166,
      "outputs": [
        {
          "output_type": "execute_result",
          "data": {
            "text/plain": [
              "392"
            ]
          },
          "metadata": {},
          "execution_count": 166
        }
      ]
    },
    {
      "cell_type": "code",
      "metadata": {
        "id": "GfgDVdrvxaY_"
      },
      "source": [
        "from itertools import product"
      ],
      "id": "GfgDVdrvxaY_",
      "execution_count": 145,
      "outputs": []
    },
    {
      "cell_type": "code",
      "metadata": {
        "id": "6Qctw7-9yCXg"
      },
      "source": [
        "df_full = pd.DataFrame(list(product(users, business)), columns = ['user_id', 'business_id'])"
      ],
      "id": "6Qctw7-9yCXg",
      "execution_count": 146,
      "outputs": []
    },
    {
      "cell_type": "code",
      "metadata": {
        "colab": {
          "base_uri": "https://localhost:8080/",
          "height": 419
        },
        "id": "KXEA1fE7yd6Y",
        "outputId": "47b5c4c2-3854-4076-89f7-35917a3ddf0d"
      },
      "source": [
        "df_full"
      ],
      "id": "KXEA1fE7yd6Y",
      "execution_count": 147,
      "outputs": [
        {
          "output_type": "execute_result",
          "data": {
            "text/html": [
              "<div>\n",
              "<style scoped>\n",
              "    .dataframe tbody tr th:only-of-type {\n",
              "        vertical-align: middle;\n",
              "    }\n",
              "\n",
              "    .dataframe tbody tr th {\n",
              "        vertical-align: top;\n",
              "    }\n",
              "\n",
              "    .dataframe thead th {\n",
              "        text-align: right;\n",
              "    }\n",
              "</style>\n",
              "<table border=\"1\" class=\"dataframe\">\n",
              "  <thead>\n",
              "    <tr style=\"text-align: right;\">\n",
              "      <th></th>\n",
              "      <th>user_id</th>\n",
              "      <th>business_id</th>\n",
              "    </tr>\n",
              "  </thead>\n",
              "  <tbody>\n",
              "    <tr>\n",
              "      <th>0</th>\n",
              "      <td>9EeEpkZg5jV18N_KvrcT6g</td>\n",
              "      <td>ZzK99Z5oWteQVlBtdm9r1w</td>\n",
              "    </tr>\n",
              "    <tr>\n",
              "      <th>1</th>\n",
              "      <td>9EeEpkZg5jV18N_KvrcT6g</td>\n",
              "      <td>cpkyRpNWllRmOhM_qlsdiQ</td>\n",
              "    </tr>\n",
              "    <tr>\n",
              "      <th>2</th>\n",
              "      <td>9EeEpkZg5jV18N_KvrcT6g</td>\n",
              "      <td>DqxAArHOssu55PBlh7A5Wg</td>\n",
              "    </tr>\n",
              "    <tr>\n",
              "      <th>3</th>\n",
              "      <td>9EeEpkZg5jV18N_KvrcT6g</td>\n",
              "      <td>sd0PiR-44d1pL9cD5ULFug</td>\n",
              "    </tr>\n",
              "    <tr>\n",
              "      <th>4</th>\n",
              "      <td>9EeEpkZg5jV18N_KvrcT6g</td>\n",
              "      <td>1bP4v7kwOJ22YJmx3bqEqg</td>\n",
              "    </tr>\n",
              "    <tr>\n",
              "      <th>...</th>\n",
              "      <td>...</td>\n",
              "      <td>...</td>\n",
              "    </tr>\n",
              "    <tr>\n",
              "      <th>39195</th>\n",
              "      <td>EIRBAYXCV3647N3ejEwkIA</td>\n",
              "      <td>BZIHRWA_zqnCwAUif7d2Yw</td>\n",
              "    </tr>\n",
              "    <tr>\n",
              "      <th>39196</th>\n",
              "      <td>EIRBAYXCV3647N3ejEwkIA</td>\n",
              "      <td>z9Ys_7sMnShHQS7ArTMHHg</td>\n",
              "    </tr>\n",
              "    <tr>\n",
              "      <th>39197</th>\n",
              "      <td>EIRBAYXCV3647N3ejEwkIA</td>\n",
              "      <td>DU-2FkgvtChVDNOevPeteg</td>\n",
              "    </tr>\n",
              "    <tr>\n",
              "      <th>39198</th>\n",
              "      <td>EIRBAYXCV3647N3ejEwkIA</td>\n",
              "      <td>j7VmHg9M-eWZuDw-p4AIaA</td>\n",
              "    </tr>\n",
              "    <tr>\n",
              "      <th>39199</th>\n",
              "      <td>EIRBAYXCV3647N3ejEwkIA</td>\n",
              "      <td>GWIniTXbMhJyD-qMaF1KlA</td>\n",
              "    </tr>\n",
              "  </tbody>\n",
              "</table>\n",
              "<p>39200 rows × 2 columns</p>\n",
              "</div>"
            ],
            "text/plain": [
              "                      user_id             business_id\n",
              "0      9EeEpkZg5jV18N_KvrcT6g  ZzK99Z5oWteQVlBtdm9r1w\n",
              "1      9EeEpkZg5jV18N_KvrcT6g  cpkyRpNWllRmOhM_qlsdiQ\n",
              "2      9EeEpkZg5jV18N_KvrcT6g  DqxAArHOssu55PBlh7A5Wg\n",
              "3      9EeEpkZg5jV18N_KvrcT6g  sd0PiR-44d1pL9cD5ULFug\n",
              "4      9EeEpkZg5jV18N_KvrcT6g  1bP4v7kwOJ22YJmx3bqEqg\n",
              "...                       ...                     ...\n",
              "39195  EIRBAYXCV3647N3ejEwkIA  BZIHRWA_zqnCwAUif7d2Yw\n",
              "39196  EIRBAYXCV3647N3ejEwkIA  z9Ys_7sMnShHQS7ArTMHHg\n",
              "39197  EIRBAYXCV3647N3ejEwkIA  DU-2FkgvtChVDNOevPeteg\n",
              "39198  EIRBAYXCV3647N3ejEwkIA  j7VmHg9M-eWZuDw-p4AIaA\n",
              "39199  EIRBAYXCV3647N3ejEwkIA  GWIniTXbMhJyD-qMaF1KlA\n",
              "\n",
              "[39200 rows x 2 columns]"
            ]
          },
          "metadata": {},
          "execution_count": 147
        }
      ]
    },
    {
      "cell_type": "code",
      "metadata": {
        "id": "8gQAoy7my4cF"
      },
      "source": [
        "n = 39200\n",
        "#df_full['rating'] = np.zeros(n)\n",
        "usr = df_full[\"user_id\"]\n",
        "bsn = df_full[\"business_id\"]\n",
        "r = []\n",
        "for i in range(n):\n",
        "  a, b, c, rat, e = svd.predict(usr[i], bsn[i])\n",
        "  r.append(rat)"
      ],
      "id": "8gQAoy7my4cF",
      "execution_count": 148,
      "outputs": []
    },
    {
      "cell_type": "code",
      "metadata": {
        "id": "sHcNmYaw1OdT"
      },
      "source": [
        "df_full['rating'] = r"
      ],
      "id": "sHcNmYaw1OdT",
      "execution_count": 149,
      "outputs": []
    },
    {
      "cell_type": "code",
      "metadata": {
        "colab": {
          "base_uri": "https://localhost:8080/",
          "height": 204
        },
        "id": "hAbxyZca1Wm8",
        "outputId": "7dc2e8a5-7691-444d-b78c-72166c7b5e90"
      },
      "source": [
        "df_full.head()"
      ],
      "id": "hAbxyZca1Wm8",
      "execution_count": 150,
      "outputs": [
        {
          "output_type": "execute_result",
          "data": {
            "text/html": [
              "<div>\n",
              "<style scoped>\n",
              "    .dataframe tbody tr th:only-of-type {\n",
              "        vertical-align: middle;\n",
              "    }\n",
              "\n",
              "    .dataframe tbody tr th {\n",
              "        vertical-align: top;\n",
              "    }\n",
              "\n",
              "    .dataframe thead th {\n",
              "        text-align: right;\n",
              "    }\n",
              "</style>\n",
              "<table border=\"1\" class=\"dataframe\">\n",
              "  <thead>\n",
              "    <tr style=\"text-align: right;\">\n",
              "      <th></th>\n",
              "      <th>user_id</th>\n",
              "      <th>business_id</th>\n",
              "      <th>rating</th>\n",
              "    </tr>\n",
              "  </thead>\n",
              "  <tbody>\n",
              "    <tr>\n",
              "      <th>0</th>\n",
              "      <td>9EeEpkZg5jV18N_KvrcT6g</td>\n",
              "      <td>ZzK99Z5oWteQVlBtdm9r1w</td>\n",
              "      <td>3.915410</td>\n",
              "    </tr>\n",
              "    <tr>\n",
              "      <th>1</th>\n",
              "      <td>9EeEpkZg5jV18N_KvrcT6g</td>\n",
              "      <td>cpkyRpNWllRmOhM_qlsdiQ</td>\n",
              "      <td>3.451094</td>\n",
              "    </tr>\n",
              "    <tr>\n",
              "      <th>2</th>\n",
              "      <td>9EeEpkZg5jV18N_KvrcT6g</td>\n",
              "      <td>DqxAArHOssu55PBlh7A5Wg</td>\n",
              "      <td>3.438550</td>\n",
              "    </tr>\n",
              "    <tr>\n",
              "      <th>3</th>\n",
              "      <td>9EeEpkZg5jV18N_KvrcT6g</td>\n",
              "      <td>sd0PiR-44d1pL9cD5ULFug</td>\n",
              "      <td>3.901723</td>\n",
              "    </tr>\n",
              "    <tr>\n",
              "      <th>4</th>\n",
              "      <td>9EeEpkZg5jV18N_KvrcT6g</td>\n",
              "      <td>1bP4v7kwOJ22YJmx3bqEqg</td>\n",
              "      <td>3.699598</td>\n",
              "    </tr>\n",
              "  </tbody>\n",
              "</table>\n",
              "</div>"
            ],
            "text/plain": [
              "                  user_id             business_id    rating\n",
              "0  9EeEpkZg5jV18N_KvrcT6g  ZzK99Z5oWteQVlBtdm9r1w  3.915410\n",
              "1  9EeEpkZg5jV18N_KvrcT6g  cpkyRpNWllRmOhM_qlsdiQ  3.451094\n",
              "2  9EeEpkZg5jV18N_KvrcT6g  DqxAArHOssu55PBlh7A5Wg  3.438550\n",
              "3  9EeEpkZg5jV18N_KvrcT6g  sd0PiR-44d1pL9cD5ULFug  3.901723\n",
              "4  9EeEpkZg5jV18N_KvrcT6g  1bP4v7kwOJ22YJmx3bqEqg  3.699598"
            ]
          },
          "metadata": {},
          "execution_count": 150
        }
      ]
    },
    {
      "cell_type": "code",
      "metadata": {
        "id": "TGXjwo7z2Kmb"
      },
      "source": [
        "n = 392  #4009\n",
        "df_p = pd.DataFrame(index = range(n), columns=['user', 'rating'])\n",
        "r = []\n",
        "for usr in users:\n",
        "  df_aid = df_full[df_full.user_id == usr]\n",
        "  rat_aid = df_aid[\"rating\"].values\n",
        "  r.append(rat_aid)\n",
        "\n",
        "df_p['user'] = users\n",
        "df_p['rating'] = r"
      ],
      "id": "TGXjwo7z2Kmb",
      "execution_count": 151,
      "outputs": []
    },
    {
      "cell_type": "code",
      "metadata": {
        "colab": {
          "base_uri": "https://localhost:8080/",
          "height": 419
        },
        "id": "QyfpjgoD5y_v",
        "outputId": "e1aa3395-ed88-42cb-fc26-f76ac7ba31be"
      },
      "source": [
        "df_p"
      ],
      "id": "QyfpjgoD5y_v",
      "execution_count": 152,
      "outputs": [
        {
          "output_type": "execute_result",
          "data": {
            "text/html": [
              "<div>\n",
              "<style scoped>\n",
              "    .dataframe tbody tr th:only-of-type {\n",
              "        vertical-align: middle;\n",
              "    }\n",
              "\n",
              "    .dataframe tbody tr th {\n",
              "        vertical-align: top;\n",
              "    }\n",
              "\n",
              "    .dataframe thead th {\n",
              "        text-align: right;\n",
              "    }\n",
              "</style>\n",
              "<table border=\"1\" class=\"dataframe\">\n",
              "  <thead>\n",
              "    <tr style=\"text-align: right;\">\n",
              "      <th></th>\n",
              "      <th>user</th>\n",
              "      <th>rating</th>\n",
              "    </tr>\n",
              "  </thead>\n",
              "  <tbody>\n",
              "    <tr>\n",
              "      <th>0</th>\n",
              "      <td>9EeEpkZg5jV18N_KvrcT6g</td>\n",
              "      <td>[3.9154100240198937, 3.45109433033383, 3.43854...</td>\n",
              "    </tr>\n",
              "    <tr>\n",
              "      <th>1</th>\n",
              "      <td>Xwnf20FKuikiHcSpcEbpKQ</td>\n",
              "      <td>[3.724427848916611, 3.249779688598004, 3.25949...</td>\n",
              "    </tr>\n",
              "    <tr>\n",
              "      <th>2</th>\n",
              "      <td>RtGqdDBvvBCjcu5dUqwfzA</td>\n",
              "      <td>[4.055292370900522, 3.7757071370342525, 3.7277...</td>\n",
              "    </tr>\n",
              "    <tr>\n",
              "      <th>3</th>\n",
              "      <td>tgrs5VQ6thhouiEtMU-N_w</td>\n",
              "      <td>[3.70486958799799, 3.5679279324271205, 3.53258...</td>\n",
              "    </tr>\n",
              "    <tr>\n",
              "      <th>4</th>\n",
              "      <td>YyKL9NmOEokXUvgJHcC2hw</td>\n",
              "      <td>[3.8621654077253225, 3.5341046664816416, 3.464...</td>\n",
              "    </tr>\n",
              "    <tr>\n",
              "      <th>...</th>\n",
              "      <td>...</td>\n",
              "      <td>...</td>\n",
              "    </tr>\n",
              "    <tr>\n",
              "      <th>387</th>\n",
              "      <td>fk154iSzQpjilunR4je0HA</td>\n",
              "      <td>[3.6789090120897328, 3.339533531830215, 3.6424...</td>\n",
              "    </tr>\n",
              "    <tr>\n",
              "      <th>388</th>\n",
              "      <td>9XPcu19pmQ6JZ9YsATU_pw</td>\n",
              "      <td>[3.896447512212429, 3.7548490399577634, 3.3690...</td>\n",
              "    </tr>\n",
              "    <tr>\n",
              "      <th>389</th>\n",
              "      <td>t8cIgvaln7MbM51IS6MclA</td>\n",
              "      <td>[3.9513504602388902, 3.4277524949658464, 3.501...</td>\n",
              "    </tr>\n",
              "    <tr>\n",
              "      <th>390</th>\n",
              "      <td>lLO3Q3tqzfI5GENb2oTbrg</td>\n",
              "      <td>[3.9493748872674748, 3.4098446603435093, 3.262...</td>\n",
              "    </tr>\n",
              "    <tr>\n",
              "      <th>391</th>\n",
              "      <td>EIRBAYXCV3647N3ejEwkIA</td>\n",
              "      <td>[3.735063954250556, 3.6015029709480695, 3.3768...</td>\n",
              "    </tr>\n",
              "  </tbody>\n",
              "</table>\n",
              "<p>392 rows × 2 columns</p>\n",
              "</div>"
            ],
            "text/plain": [
              "                       user                                             rating\n",
              "0    9EeEpkZg5jV18N_KvrcT6g  [3.9154100240198937, 3.45109433033383, 3.43854...\n",
              "1    Xwnf20FKuikiHcSpcEbpKQ  [3.724427848916611, 3.249779688598004, 3.25949...\n",
              "2    RtGqdDBvvBCjcu5dUqwfzA  [4.055292370900522, 3.7757071370342525, 3.7277...\n",
              "3    tgrs5VQ6thhouiEtMU-N_w  [3.70486958799799, 3.5679279324271205, 3.53258...\n",
              "4    YyKL9NmOEokXUvgJHcC2hw  [3.8621654077253225, 3.5341046664816416, 3.464...\n",
              "..                      ...                                                ...\n",
              "387  fk154iSzQpjilunR4je0HA  [3.6789090120897328, 3.339533531830215, 3.6424...\n",
              "388  9XPcu19pmQ6JZ9YsATU_pw  [3.896447512212429, 3.7548490399577634, 3.3690...\n",
              "389  t8cIgvaln7MbM51IS6MclA  [3.9513504602388902, 3.4277524949658464, 3.501...\n",
              "390  lLO3Q3tqzfI5GENb2oTbrg  [3.9493748872674748, 3.4098446603435093, 3.262...\n",
              "391  EIRBAYXCV3647N3ejEwkIA  [3.735063954250556, 3.6015029709480695, 3.3768...\n",
              "\n",
              "[392 rows x 2 columns]"
            ]
          },
          "metadata": {},
          "execution_count": 152
        }
      ]
    },
    {
      "cell_type": "code",
      "metadata": {
        "id": "mBjgWb3K6z5Y"
      },
      "source": [
        "# Restaurant recommendation\n",
        "user = \"RtGqdDBvvBCjcu5dUqwfzA\"\n",
        "df_pr = df_full[df_full.user_id == user]\n",
        "df_pr = df_pr.sort_values(by=['rating'], ascending=False)"
      ],
      "id": "mBjgWb3K6z5Y",
      "execution_count": 175,
      "outputs": []
    },
    {
      "cell_type": "code",
      "metadata": {
        "id": "MxJuAGD-7ROc",
        "colab": {
          "base_uri": "https://localhost:8080/",
          "height": 419
        },
        "outputId": "88c73576-6536-4462-8c11-c649a7e4c891"
      },
      "source": [
        "df_pr"
      ],
      "id": "MxJuAGD-7ROc",
      "execution_count": 176,
      "outputs": [
        {
          "output_type": "execute_result",
          "data": {
            "text/html": [
              "<div>\n",
              "<style scoped>\n",
              "    .dataframe tbody tr th:only-of-type {\n",
              "        vertical-align: middle;\n",
              "    }\n",
              "\n",
              "    .dataframe tbody tr th {\n",
              "        vertical-align: top;\n",
              "    }\n",
              "\n",
              "    .dataframe thead th {\n",
              "        text-align: right;\n",
              "    }\n",
              "</style>\n",
              "<table border=\"1\" class=\"dataframe\">\n",
              "  <thead>\n",
              "    <tr style=\"text-align: right;\">\n",
              "      <th></th>\n",
              "      <th>user_id</th>\n",
              "      <th>business_id</th>\n",
              "      <th>rating</th>\n",
              "    </tr>\n",
              "  </thead>\n",
              "  <tbody>\n",
              "    <tr>\n",
              "      <th>226</th>\n",
              "      <td>RtGqdDBvvBCjcu5dUqwfzA</td>\n",
              "      <td>Hr5sm6NpE6K-98PrqHksbQ</td>\n",
              "      <td>4.489781</td>\n",
              "    </tr>\n",
              "    <tr>\n",
              "      <th>234</th>\n",
              "      <td>RtGqdDBvvBCjcu5dUqwfzA</td>\n",
              "      <td>BLITQJYfKJSQ9XNuk8pIrw</td>\n",
              "      <td>4.434626</td>\n",
              "    </tr>\n",
              "    <tr>\n",
              "      <th>210</th>\n",
              "      <td>RtGqdDBvvBCjcu5dUqwfzA</td>\n",
              "      <td>PXoqSMlonM9qTcQnkNkE5A</td>\n",
              "      <td>4.389605</td>\n",
              "    </tr>\n",
              "    <tr>\n",
              "      <th>217</th>\n",
              "      <td>RtGqdDBvvBCjcu5dUqwfzA</td>\n",
              "      <td>VGq9wu_ZtvonP1Rke4CxYw</td>\n",
              "      <td>4.381972</td>\n",
              "    </tr>\n",
              "    <tr>\n",
              "      <th>280</th>\n",
              "      <td>RtGqdDBvvBCjcu5dUqwfzA</td>\n",
              "      <td>R1KeQwYWkHczmZjSbfY2XA</td>\n",
              "      <td>4.343036</td>\n",
              "    </tr>\n",
              "    <tr>\n",
              "      <th>...</th>\n",
              "      <td>...</td>\n",
              "      <td>...</td>\n",
              "      <td>...</td>\n",
              "    </tr>\n",
              "    <tr>\n",
              "      <th>213</th>\n",
              "      <td>RtGqdDBvvBCjcu5dUqwfzA</td>\n",
              "      <td>j0qVvKZEBdlkQHqyYE1iTw</td>\n",
              "      <td>3.296224</td>\n",
              "    </tr>\n",
              "    <tr>\n",
              "      <th>294</th>\n",
              "      <td>RtGqdDBvvBCjcu5dUqwfzA</td>\n",
              "      <td>m_Tu4PBV7adWCsuwOrCT8g</td>\n",
              "      <td>3.257720</td>\n",
              "    </tr>\n",
              "    <tr>\n",
              "      <th>291</th>\n",
              "      <td>RtGqdDBvvBCjcu5dUqwfzA</td>\n",
              "      <td>cLVwhzVhNdF-5sM56p3ODQ</td>\n",
              "      <td>3.197837</td>\n",
              "    </tr>\n",
              "    <tr>\n",
              "      <th>243</th>\n",
              "      <td>RtGqdDBvvBCjcu5dUqwfzA</td>\n",
              "      <td>Q4u7W5grwSKZy-suUKhtqw</td>\n",
              "      <td>3.011076</td>\n",
              "    </tr>\n",
              "    <tr>\n",
              "      <th>284</th>\n",
              "      <td>RtGqdDBvvBCjcu5dUqwfzA</td>\n",
              "      <td>AGNyx4JBRbjvHfCDdib5_g</td>\n",
              "      <td>3.001188</td>\n",
              "    </tr>\n",
              "  </tbody>\n",
              "</table>\n",
              "<p>100 rows × 3 columns</p>\n",
              "</div>"
            ],
            "text/plain": [
              "                    user_id             business_id    rating\n",
              "226  RtGqdDBvvBCjcu5dUqwfzA  Hr5sm6NpE6K-98PrqHksbQ  4.489781\n",
              "234  RtGqdDBvvBCjcu5dUqwfzA  BLITQJYfKJSQ9XNuk8pIrw  4.434626\n",
              "210  RtGqdDBvvBCjcu5dUqwfzA  PXoqSMlonM9qTcQnkNkE5A  4.389605\n",
              "217  RtGqdDBvvBCjcu5dUqwfzA  VGq9wu_ZtvonP1Rke4CxYw  4.381972\n",
              "280  RtGqdDBvvBCjcu5dUqwfzA  R1KeQwYWkHczmZjSbfY2XA  4.343036\n",
              "..                      ...                     ...       ...\n",
              "213  RtGqdDBvvBCjcu5dUqwfzA  j0qVvKZEBdlkQHqyYE1iTw  3.296224\n",
              "294  RtGqdDBvvBCjcu5dUqwfzA  m_Tu4PBV7adWCsuwOrCT8g  3.257720\n",
              "291  RtGqdDBvvBCjcu5dUqwfzA  cLVwhzVhNdF-5sM56p3ODQ  3.197837\n",
              "243  RtGqdDBvvBCjcu5dUqwfzA  Q4u7W5grwSKZy-suUKhtqw  3.011076\n",
              "284  RtGqdDBvvBCjcu5dUqwfzA  AGNyx4JBRbjvHfCDdib5_g  3.001188\n",
              "\n",
              "[100 rows x 3 columns]"
            ]
          },
          "metadata": {},
          "execution_count": 176
        }
      ]
    },
    {
      "cell_type": "code",
      "metadata": {
        "id": "jTgDVsHydHMG"
      },
      "source": [
        "df2 = df_small[df_small.user_id == user]\n",
        "# removing previously visited restaurants\n",
        "not_rated = pd.merge(df_pr, df2, how='outer', on='business_id', indicator=True)\n",
        "not_rated = not_rated[not_rated['_merge'] == 'left_only']\n",
        "not_rated = not_rated[[\"user_id_x\", \"business_id\", \"rating\"]]"
      ],
      "id": "jTgDVsHydHMG",
      "execution_count": 177,
      "outputs": []
    },
    {
      "cell_type": "code",
      "metadata": {
        "colab": {
          "base_uri": "https://localhost:8080/",
          "height": 103
        },
        "id": "t08qA96b7kAh",
        "outputId": "d1cc38fe-81d0-4765-e222-1e5fc2a64924"
      },
      "source": [
        "not_rated.to_latex()"
      ],
      "id": "t08qA96b7kAh",
      "execution_count": 178,
      "outputs": [
        {
          "output_type": "execute_result",
          "data": {
            "application/vnd.google.colaboratory.intrinsic+json": {
              "type": "string"
            },
            "text/plain": [
              "'\\\\begin{tabular}{lllr}\\n\\\\toprule\\n{} &               user\\\\_id\\\\_x &             business\\\\_id &    rating \\\\\\\\\\n\\\\midrule\\n11 &  RtGqdDBvvBCjcu5dUqwfzA &  dQjv55\\\\_rr1mdF18H6baRxg &  4.208295 \\\\\\\\\\n13 &  RtGqdDBvvBCjcu5dUqwfzA &  x9RA\\\\_NPjcvQ8-EU28ppBqA &  4.196035 \\\\\\\\\\n14 &  RtGqdDBvvBCjcu5dUqwfzA &  -rEA553gskIEHZteI5RExQ &  4.188387 \\\\\\\\\\n19 &  RtGqdDBvvBCjcu5dUqwfzA &  aGEaKx1jbVyQxeMumKYMHQ &  4.091798 \\\\\\\\\\n23 &  RtGqdDBvvBCjcu5dUqwfzA &  p1FElOKJUkFOpXx4dvTwEg &  4.069034 \\\\\\\\\\n25 &  RtGqdDBvvBCjcu5dUqwfzA &  ZzK99Z5oWteQVlBtdm9r1w &  4.055292 \\\\\\\\\\n31 &  RtGqdDBvvBCjcu5dUqwfzA &  lOA7o1IGnhx2YrbhYQHsLQ &  4.007474 \\\\\\\\\\n32 &  RtGqdDBvvBCjcu5dUqwfzA &  j7VmHg9M-eWZuDw-p4AIaA &  3.987699 \\\\\\\\\\n35 &  RtGqdDBvvBCjcu5dUqwfzA &  CCV\\\\_rtjUHKhJA0JLruwImw &  3.970877 \\\\\\\\\\n38 &  RtGqdDBvvBCjcu5dUqwfzA &  t1RhVFdcOCA5Zrbzen0QXA &  3.955411 \\\\\\\\\\n42 &  RtGqdDBvvBCjcu5dUqwfzA &  zux3l8BcJOdLcVlWg-1NGg &  3.938330 \\\\\\\\\\n45 &  RtGqdDBvvBCjcu5dUqwfzA &  RdFbbpFq3ly-2R\\\\_CaLXXsg &  3.912757 \\\\\\\\\\n47 &  RtGqdDBvvBCjcu5dUqwfzA &  fP65pd6r9P6cHyKGw2q1FQ &  3.889626 \\\\\\\\\\n51 &  RtGqdDBvvBCjcu5dUqwfzA &  2Cxky-NIGL7DoCSLbzoPuA &  3.853646 \\\\\\\\\\n52 &  RtGqdDBvvBCjcu5dUqwfzA &  DU-2FkgvtChVDNOevPeteg &  3.851189 \\\\\\\\\\n53 &  RtGqdDBvvBCjcu5dUqwfzA &  KtVkoMeLF0b7A4ThWojjEA &  3.847389 \\\\\\\\\\n58 &  RtGqdDBvvBCjcu5dUqwfzA &  GWIniTXbMhJyD-qMaF1KlA &  3.818795 \\\\\\\\\\n60 &  RtGqdDBvvBCjcu5dUqwfzA &  BxFzEb1gxpIZ4G0tfG-b4w &  3.810928 \\\\\\\\\\n61 &  RtGqdDBvvBCjcu5dUqwfzA &  K43Au1Z\\\\_sgQJKPP42J0wiA &  3.810440 \\\\\\\\\\n65 &  RtGqdDBvvBCjcu5dUqwfzA &  hpV0nNy9TmdgurcrEzTwRA &  3.769956 \\\\\\\\\\n67 &  RtGqdDBvvBCjcu5dUqwfzA &  sNDfYZP9OYypywbi33aSxw &  3.751728 \\\\\\\\\\n68 &  RtGqdDBvvBCjcu5dUqwfzA &  XqaO85CV9Km7m\\\\_aQ3iIpRA &  3.746406 \\\\\\\\\\n69 &  RtGqdDBvvBCjcu5dUqwfzA &  DqxAArHOssu55PBlh7A5Wg &  3.727708 \\\\\\\\\\n73 &  RtGqdDBvvBCjcu5dUqwfzA &  IQxFVUxFfSo\\\\_7IlHClvsaw &  3.711590 \\\\\\\\\\n74 &  RtGqdDBvvBCjcu5dUqwfzA &  3\\\\_AK31Wj9-1dbPZ1fdX\\\\_-Q &  3.697463 \\\\\\\\\\n76 &  RtGqdDBvvBCjcu5dUqwfzA &  cydTwL\\\\_rvQJGyqZUfv8vgQ &  3.657737 \\\\\\\\\\n79 &  RtGqdDBvvBCjcu5dUqwfzA &  1bP4v7kwOJ22YJmx3bqEqg &  3.604811 \\\\\\\\\\n82 &  RtGqdDBvvBCjcu5dUqwfzA &  SQo3j\\\\_PrRgQlbR9c4ctjUA &  3.587284 \\\\\\\\\\n86 &  RtGqdDBvvBCjcu5dUqwfzA &  BDHZ7pZrCC5x0cumAtcvqA &  3.563100 \\\\\\\\\\n88 &  RtGqdDBvvBCjcu5dUqwfzA &  7vd6bGYpZb0yfeNidFVExg &  3.527916 \\\\\\\\\\n90 &  RtGqdDBvvBCjcu5dUqwfzA &  opVJrZaJZKJk5zHyCMtetg &  3.484581 \\\\\\\\\\n91 &  RtGqdDBvvBCjcu5dUqwfzA &  lug97x28ybkWk3dotVrVMA &  3.475788 \\\\\\\\\\n92 &  RtGqdDBvvBCjcu5dUqwfzA &  9AeLEFMwdkF8-bQ8e-GddA &  3.471944 \\\\\\\\\\n94 &  RtGqdDBvvBCjcu5dUqwfzA &  uEsW3y9FY1S9IdLgrSi5RQ &  3.393500 \\\\\\\\\\n97 &  RtGqdDBvvBCjcu5dUqwfzA &  v6715hqLSp\\\\_bD5U5Cze2xg &  3.336840 \\\\\\\\\\n98 &  RtGqdDBvvBCjcu5dUqwfzA &  j0qVvKZEBdlkQHqyYE1iTw &  3.296224 \\\\\\\\\\n\\\\bottomrule\\n\\\\end{tabular}\\n'"
            ]
          },
          "metadata": {},
          "execution_count": 178
        }
      ]
    },
    {
      "cell_type": "code",
      "metadata": {
        "id": "-Tuz4Jmue_8s"
      },
      "source": [
        "from scipy.stats import pearsonr"
      ],
      "id": "-Tuz4Jmue_8s",
      "execution_count": 159,
      "outputs": []
    },
    {
      "cell_type": "code",
      "metadata": {
        "id": "2LNJhSHfF0jF"
      },
      "source": [
        "# Recommendation person-person\n",
        "n = 392\n",
        "user = \"ei7wfryXlvZ6OM9NK27cPQ\"\n",
        "v1 = df_p[df_p.user == user]\n",
        "v1 = v1[\"rating\"].values[0]\n",
        "df_pp = pd.DataFrame(index = range(n), columns = [\"user_id\"])\n",
        "rat_pp = df_p[\"rating\"].values\n",
        "corr = []\n",
        "for i in range(n):\n",
        "  v2 = rat_pp[i]\n",
        "  c = pearsonr(v1, v2)[0]\n",
        "  corr.append(c)"
      ],
      "id": "2LNJhSHfF0jF",
      "execution_count": 179,
      "outputs": []
    },
    {
      "cell_type": "code",
      "metadata": {
        "id": "AmmBJ26nIk8v"
      },
      "source": [
        "df_pp['user_id'] = users\n",
        "df_pp['corr'] = corr"
      ],
      "id": "AmmBJ26nIk8v",
      "execution_count": 180,
      "outputs": []
    },
    {
      "cell_type": "code",
      "metadata": {
        "id": "edtYhSQYJiZi"
      },
      "source": [
        "df_pp = df_pp.sort_values(by=['corr'], ascending=False)"
      ],
      "id": "edtYhSQYJiZi",
      "execution_count": 181,
      "outputs": []
    },
    {
      "cell_type": "code",
      "metadata": {
        "colab": {
          "base_uri": "https://localhost:8080/",
          "height": 359
        },
        "id": "HR6aFKuKEERI",
        "outputId": "8d0e414a-c818-46b1-d712-67e6ddbc0fa2"
      },
      "source": [
        "df_pp.head(10)"
      ],
      "id": "HR6aFKuKEERI",
      "execution_count": 182,
      "outputs": [
        {
          "output_type": "execute_result",
          "data": {
            "text/html": [
              "<div>\n",
              "<style scoped>\n",
              "    .dataframe tbody tr th:only-of-type {\n",
              "        vertical-align: middle;\n",
              "    }\n",
              "\n",
              "    .dataframe tbody tr th {\n",
              "        vertical-align: top;\n",
              "    }\n",
              "\n",
              "    .dataframe thead th {\n",
              "        text-align: right;\n",
              "    }\n",
              "</style>\n",
              "<table border=\"1\" class=\"dataframe\">\n",
              "  <thead>\n",
              "    <tr style=\"text-align: right;\">\n",
              "      <th></th>\n",
              "      <th>user_id</th>\n",
              "      <th>corr</th>\n",
              "    </tr>\n",
              "  </thead>\n",
              "  <tbody>\n",
              "    <tr>\n",
              "      <th>329</th>\n",
              "      <td>ei7wfryXlvZ6OM9NK27cPQ</td>\n",
              "      <td>1.000000</td>\n",
              "    </tr>\n",
              "    <tr>\n",
              "      <th>358</th>\n",
              "      <td>MIPPioT-rUJQwTu3_LjGpA</td>\n",
              "      <td>0.939570</td>\n",
              "    </tr>\n",
              "    <tr>\n",
              "      <th>47</th>\n",
              "      <td>GERRIWMslcP4-O6mLErPSQ</td>\n",
              "      <td>0.939338</td>\n",
              "    </tr>\n",
              "    <tr>\n",
              "      <th>366</th>\n",
              "      <td>z3FEHWGWSR5Z9ZVARQroHw</td>\n",
              "      <td>0.936907</td>\n",
              "    </tr>\n",
              "    <tr>\n",
              "      <th>36</th>\n",
              "      <td>ydbq7bGaMO_9M1GRO7VnAg</td>\n",
              "      <td>0.936231</td>\n",
              "    </tr>\n",
              "    <tr>\n",
              "      <th>90</th>\n",
              "      <td>yWzgaaze8dn-lss14MiZJw</td>\n",
              "      <td>0.934996</td>\n",
              "    </tr>\n",
              "    <tr>\n",
              "      <th>182</th>\n",
              "      <td>xNpb3uB9znmRq9UZ74UQ7w</td>\n",
              "      <td>0.934034</td>\n",
              "    </tr>\n",
              "    <tr>\n",
              "      <th>162</th>\n",
              "      <td>IP3DqE3W5Co2Ksam39Rasg</td>\n",
              "      <td>0.933455</td>\n",
              "    </tr>\n",
              "    <tr>\n",
              "      <th>140</th>\n",
              "      <td>9gytAeH_q3GecTAYA7ligA</td>\n",
              "      <td>0.932898</td>\n",
              "    </tr>\n",
              "    <tr>\n",
              "      <th>78</th>\n",
              "      <td>nSFHdQ4geNFThpM-rFxtbQ</td>\n",
              "      <td>0.932316</td>\n",
              "    </tr>\n",
              "  </tbody>\n",
              "</table>\n",
              "</div>"
            ],
            "text/plain": [
              "                    user_id      corr\n",
              "329  ei7wfryXlvZ6OM9NK27cPQ  1.000000\n",
              "358  MIPPioT-rUJQwTu3_LjGpA  0.939570\n",
              "47   GERRIWMslcP4-O6mLErPSQ  0.939338\n",
              "366  z3FEHWGWSR5Z9ZVARQroHw  0.936907\n",
              "36   ydbq7bGaMO_9M1GRO7VnAg  0.936231\n",
              "90   yWzgaaze8dn-lss14MiZJw  0.934996\n",
              "182  xNpb3uB9znmRq9UZ74UQ7w  0.934034\n",
              "162  IP3DqE3W5Co2Ksam39Rasg  0.933455\n",
              "140  9gytAeH_q3GecTAYA7ligA  0.932898\n",
              "78   nSFHdQ4geNFThpM-rFxtbQ  0.932316"
            ]
          },
          "metadata": {},
          "execution_count": 182
        }
      ]
    },
    {
      "cell_type": "code",
      "metadata": {
        "colab": {
          "base_uri": "https://localhost:8080/"
        },
        "id": "QpxOUngTLIOM",
        "outputId": "e728aa49-bbeb-40a6-bd61-a09637809212"
      },
      "source": [
        "print(df_pp.head(10).to_latex())"
      ],
      "id": "QpxOUngTLIOM",
      "execution_count": 183,
      "outputs": [
        {
          "output_type": "stream",
          "name": "stdout",
          "text": [
            "\\begin{tabular}{llr}\n",
            "\\toprule\n",
            "{} &                 user\\_id &      corr \\\\\n",
            "\\midrule\n",
            "329 &  ei7wfryXlvZ6OM9NK27cPQ &  1.000000 \\\\\n",
            "358 &  MIPPioT-rUJQwTu3\\_LjGpA &  0.939570 \\\\\n",
            "47  &  GERRIWMslcP4-O6mLErPSQ &  0.939338 \\\\\n",
            "366 &  z3FEHWGWSR5Z9ZVARQroHw &  0.936907 \\\\\n",
            "36  &  ydbq7bGaMO\\_9M1GRO7VnAg &  0.936231 \\\\\n",
            "90  &  yWzgaaze8dn-lss14MiZJw &  0.934996 \\\\\n",
            "182 &  xNpb3uB9znmRq9UZ74UQ7w &  0.934034 \\\\\n",
            "162 &  IP3DqE3W5Co2Ksam39Rasg &  0.933455 \\\\\n",
            "140 &  9gytAeH\\_q3GecTAYA7ligA &  0.932898 \\\\\n",
            "78  &  nSFHdQ4geNFThpM-rFxtbQ &  0.932316 \\\\\n",
            "\\bottomrule\n",
            "\\end{tabular}\n",
            "\n"
          ]
        }
      ]
    },
    {
      "cell_type": "code",
      "metadata": {
        "id": "yHJjtBKDScgQ"
      },
      "source": [
        "# Find competitors\n",
        "n = 100\n",
        "#bsn = \"seDFTCwhSrzOnaj0iYd5Jw\"\n",
        "df_b = pd.DataFrame(index = range(n), columns=['business', 'rating'])\n",
        "r = []\n",
        "for bsn in business:\n",
        "  df_aid = df_full[df_full.business_id == bsn]\n",
        "  rat_aid = df_aid[\"rating\"].values\n",
        "  r.append(rat_aid)\n",
        "\n",
        "df_b['business'] = business\n",
        "df_b['rating'] = r\n",
        "\n",
        "\n",
        "# v1 = df_p[df_p.business == user]\n",
        "# v1 = v1[\"rating\"].values[0]\n",
        "# df_pp = pd.DataFrame(index = range(n), columns = [\"user_id\"])\n",
        "# rat_pp = df_p[\"rating\"].values\n",
        "# corr = []\n",
        "# for i in range(n):\n",
        "#   v2 = rat_pp[i]\n",
        "#   c = pearsonr(v1, v2)[0]\n",
        "#   corr.append(c)"
      ],
      "id": "yHJjtBKDScgQ",
      "execution_count": 167,
      "outputs": []
    },
    {
      "cell_type": "code",
      "metadata": {
        "id": "hbDEUr9rTjeW"
      },
      "source": [
        "n = 100\n",
        "bsn = \"niUrhHoR9leK0lr5moyySQ\"\n",
        "v1 = df_b[df_b.business == bsn]\n",
        "v1 = v1[\"rating\"].values[0]\n",
        "df_bb = pd.DataFrame(index = range(n), columns = [\"business_id\"])\n",
        "rat_bb = df_b[\"rating\"].values\n",
        "corr = []\n",
        "for i in range(n):\n",
        "  v2 = rat_bb[i]\n",
        "  c = pearsonr(v1, v2)[0]\n",
        "  corr.append(c)\n",
        "\n",
        "df_bb['business_id'] = business\n",
        "df_bb['corr'] = corr\n",
        "df_bb = df_bb.sort_values(by=['corr'], ascending=False)"
      ],
      "id": "hbDEUr9rTjeW",
      "execution_count": 168,
      "outputs": []
    },
    {
      "cell_type": "code",
      "metadata": {
        "colab": {
          "base_uri": "https://localhost:8080/",
          "height": 235
        },
        "id": "d0b-4q9uTgTE",
        "outputId": "1d056447-bd7b-470f-cdbe-75ae54880580"
      },
      "source": [
        "df_bb.head(6)"
      ],
      "id": "d0b-4q9uTgTE",
      "execution_count": 184,
      "outputs": [
        {
          "output_type": "execute_result",
          "data": {
            "text/html": [
              "<div>\n",
              "<style scoped>\n",
              "    .dataframe tbody tr th:only-of-type {\n",
              "        vertical-align: middle;\n",
              "    }\n",
              "\n",
              "    .dataframe tbody tr th {\n",
              "        vertical-align: top;\n",
              "    }\n",
              "\n",
              "    .dataframe thead th {\n",
              "        text-align: right;\n",
              "    }\n",
              "</style>\n",
              "<table border=\"1\" class=\"dataframe\">\n",
              "  <thead>\n",
              "    <tr style=\"text-align: right;\">\n",
              "      <th></th>\n",
              "      <th>business_id</th>\n",
              "      <th>corr</th>\n",
              "    </tr>\n",
              "  </thead>\n",
              "  <tbody>\n",
              "    <tr>\n",
              "      <th>50</th>\n",
              "      <td>niUrhHoR9leK0lr5moyySQ</td>\n",
              "      <td>1.000000</td>\n",
              "    </tr>\n",
              "    <tr>\n",
              "      <th>13</th>\n",
              "      <td>j0qVvKZEBdlkQHqyYE1iTw</td>\n",
              "      <td>0.793876</td>\n",
              "    </tr>\n",
              "    <tr>\n",
              "      <th>88</th>\n",
              "      <td>vLbjVhNd73054UVdvOeg7Q</td>\n",
              "      <td>0.792549</td>\n",
              "    </tr>\n",
              "    <tr>\n",
              "      <th>47</th>\n",
              "      <td>aGEaKx1jbVyQxeMumKYMHQ</td>\n",
              "      <td>0.784495</td>\n",
              "    </tr>\n",
              "    <tr>\n",
              "      <th>65</th>\n",
              "      <td>y1BLVJUWINOSMLeDaXqXBQ</td>\n",
              "      <td>0.783197</td>\n",
              "    </tr>\n",
              "    <tr>\n",
              "      <th>19</th>\n",
              "      <td>EXfEzv1sg3smvXJo36hSmQ</td>\n",
              "      <td>0.782686</td>\n",
              "    </tr>\n",
              "  </tbody>\n",
              "</table>\n",
              "</div>"
            ],
            "text/plain": [
              "               business_id      corr\n",
              "50  niUrhHoR9leK0lr5moyySQ  1.000000\n",
              "13  j0qVvKZEBdlkQHqyYE1iTw  0.793876\n",
              "88  vLbjVhNd73054UVdvOeg7Q  0.792549\n",
              "47  aGEaKx1jbVyQxeMumKYMHQ  0.784495\n",
              "65  y1BLVJUWINOSMLeDaXqXBQ  0.783197\n",
              "19  EXfEzv1sg3smvXJo36hSmQ  0.782686"
            ]
          },
          "metadata": {},
          "execution_count": 184
        }
      ]
    },
    {
      "cell_type": "code",
      "metadata": {
        "colab": {
          "base_uri": "https://localhost:8080/"
        },
        "id": "qbkzFL5whNhX",
        "outputId": "0d60a274-c6ae-4857-f12a-289a82ebfacc"
      },
      "source": [
        "print(df_bb.head(6).to_latex())"
      ],
      "id": "qbkzFL5whNhX",
      "execution_count": 186,
      "outputs": [
        {
          "output_type": "stream",
          "name": "stdout",
          "text": [
            "\\begin{tabular}{llr}\n",
            "\\toprule\n",
            "{} &             business\\_id &      corr \\\\\n",
            "\\midrule\n",
            "50 &  niUrhHoR9leK0lr5moyySQ &  1.000000 \\\\\n",
            "13 &  j0qVvKZEBdlkQHqyYE1iTw &  0.793876 \\\\\n",
            "88 &  vLbjVhNd73054UVdvOeg7Q &  0.792549 \\\\\n",
            "47 &  aGEaKx1jbVyQxeMumKYMHQ &  0.784495 \\\\\n",
            "65 &  y1BLVJUWINOSMLeDaXqXBQ &  0.783197 \\\\\n",
            "19 &  EXfEzv1sg3smvXJo36hSmQ &  0.782686 \\\\\n",
            "\\bottomrule\n",
            "\\end{tabular}\n",
            "\n"
          ]
        }
      ]
    }
  ]
}