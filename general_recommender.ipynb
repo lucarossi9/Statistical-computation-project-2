{
  "nbformat": 4,
  "nbformat_minor": 5,
  "metadata": {
    "kernelspec": {
      "display_name": "Python 3 (ipykernel)",
      "language": "python",
      "name": "python3"
    },
    "language_info": {
      "codemirror_mode": {
        "name": "ipython",
        "version": 3
      },
      "file_extension": ".py",
      "mimetype": "text/x-python",
      "name": "python",
      "nbconvert_exporter": "python",
      "pygments_lexer": "ipython3",
      "version": "3.8.10"
    },
    "colab": {
      "name": "general_recommender.ipynb",
      "provenance": [],
      "collapsed_sections": []
    }
  },
  "cells": [
    {
      "cell_type": "code",
      "metadata": {
        "colab": {
          "base_uri": "https://localhost:8080/",
          "height": 35
        },
        "id": "iJbSFCLaBWAu",
        "outputId": "383d846a-0fbd-47a0-aacc-df27b26d68c7"
      },
      "source": [
        "pwd"
      ],
      "id": "iJbSFCLaBWAu",
      "execution_count": 1,
      "outputs": [
        {
          "output_type": "execute_result",
          "data": {
            "application/vnd.google.colaboratory.intrinsic+json": {
              "type": "string"
            },
            "text/plain": [
              "'/content'"
            ]
          },
          "metadata": {},
          "execution_count": 1
        }
      ]
    },
    {
      "cell_type": "code",
      "metadata": {
        "colab": {
          "base_uri": "https://localhost:8080/",
          "height": 0
        },
        "id": "072ts1vCBbi2",
        "outputId": "57d519e8-db16-467b-e8ad-c029b600dd27"
      },
      "source": [
        "from google.colab import drive \n",
        "drive.mount('/content/drive')\n",
        "%cd /content/drive/MyDrive/Colab\\ Notebooks"
      ],
      "id": "072ts1vCBbi2",
      "execution_count": 2,
      "outputs": [
        {
          "output_type": "stream",
          "name": "stdout",
          "text": [
            "Mounted at /content/drive\n",
            "/content/drive/MyDrive/Colab Notebooks\n"
          ]
        }
      ]
    },
    {
      "cell_type": "code",
      "metadata": {
        "colab": {
          "base_uri": "https://localhost:8080/",
          "height": 0
        },
        "id": "A0-ntJCLB7gH",
        "outputId": "73d1949c-45a8-460c-d04f-440cb1266dfd"
      },
      "source": [
        "!pip install \"dask[dataframe]\"\n",
        "!pip install \"dask[bag]\"\n",
        "!pip install \"dask[array]\""
      ],
      "id": "A0-ntJCLB7gH",
      "execution_count": 3,
      "outputs": [
        {
          "output_type": "stream",
          "name": "stdout",
          "text": [
            "Requirement already satisfied: dask[dataframe] in /usr/local/lib/python3.7/dist-packages (2.12.0)\n",
            "Requirement already satisfied: pandas>=0.23.0 in /usr/local/lib/python3.7/dist-packages (from dask[dataframe]) (1.1.5)\n",
            "Requirement already satisfied: toolz>=0.7.3 in /usr/local/lib/python3.7/dist-packages (from dask[dataframe]) (0.11.2)\n",
            "Requirement already satisfied: numpy>=1.13.0 in /usr/local/lib/python3.7/dist-packages (from dask[dataframe]) (1.19.5)\n",
            "Collecting fsspec>=0.6.0\n",
            "  Downloading fsspec-2021.11.0-py3-none-any.whl (132 kB)\n",
            "\u001b[?25l\r\u001b[K     |██▌                             | 10 kB 23.4 MB/s eta 0:00:01\r\u001b[K     |█████                           | 20 kB 30.1 MB/s eta 0:00:01\r\u001b[K     |███████▍                        | 30 kB 35.3 MB/s eta 0:00:01\r\u001b[K     |██████████                      | 40 kB 39.1 MB/s eta 0:00:01\r\u001b[K     |████████████▍                   | 51 kB 29.7 MB/s eta 0:00:01\r\u001b[K     |██████████████▉                 | 61 kB 30.4 MB/s eta 0:00:01\r\u001b[K     |█████████████████▎              | 71 kB 26.3 MB/s eta 0:00:01\r\u001b[K     |███████████████████▉            | 81 kB 27.4 MB/s eta 0:00:01\r\u001b[K     |██████████████████████▎         | 92 kB 28.1 MB/s eta 0:00:01\r\u001b[K     |████████████████████████▊       | 102 kB 30.1 MB/s eta 0:00:01\r\u001b[K     |███████████████████████████▏    | 112 kB 30.1 MB/s eta 0:00:01\r\u001b[K     |█████████████████████████████▊  | 122 kB 30.1 MB/s eta 0:00:01\r\u001b[K     |████████████████████████████████| 132 kB 30.1 MB/s \n",
            "\u001b[?25hCollecting partd>=0.3.10\n",
            "  Downloading partd-1.2.0-py3-none-any.whl (19 kB)\n",
            "Requirement already satisfied: python-dateutil>=2.7.3 in /usr/local/lib/python3.7/dist-packages (from pandas>=0.23.0->dask[dataframe]) (2.8.2)\n",
            "Requirement already satisfied: pytz>=2017.2 in /usr/local/lib/python3.7/dist-packages (from pandas>=0.23.0->dask[dataframe]) (2018.9)\n",
            "Collecting locket\n",
            "  Downloading locket-0.2.1-py2.py3-none-any.whl (4.1 kB)\n",
            "Requirement already satisfied: six>=1.5 in /usr/local/lib/python3.7/dist-packages (from python-dateutil>=2.7.3->pandas>=0.23.0->dask[dataframe]) (1.15.0)\n",
            "Installing collected packages: locket, partd, fsspec\n",
            "Successfully installed fsspec-2021.11.0 locket-0.2.1 partd-1.2.0\n",
            "Requirement already satisfied: dask[bag] in /usr/local/lib/python3.7/dist-packages (2.12.0)\n",
            "Requirement already satisfied: fsspec>=0.6.0 in /usr/local/lib/python3.7/dist-packages (from dask[bag]) (2021.11.0)\n",
            "Requirement already satisfied: cloudpickle>=0.2.1 in /usr/local/lib/python3.7/dist-packages (from dask[bag]) (1.3.0)\n",
            "Requirement already satisfied: partd>=0.3.10 in /usr/local/lib/python3.7/dist-packages (from dask[bag]) (1.2.0)\n",
            "Requirement already satisfied: toolz>=0.7.3 in /usr/local/lib/python3.7/dist-packages (from dask[bag]) (0.11.2)\n",
            "Requirement already satisfied: locket in /usr/local/lib/python3.7/dist-packages (from partd>=0.3.10->dask[bag]) (0.2.1)\n",
            "Requirement already satisfied: dask[array] in /usr/local/lib/python3.7/dist-packages (2.12.0)\n",
            "Requirement already satisfied: toolz>=0.7.3 in /usr/local/lib/python3.7/dist-packages (from dask[array]) (0.11.2)\n",
            "Requirement already satisfied: numpy>=1.13.0 in /usr/local/lib/python3.7/dist-packages (from dask[array]) (1.19.5)\n"
          ]
        }
      ]
    },
    {
      "cell_type": "code",
      "metadata": {
        "id": "45b337bd-f8bc-4aad-928c-cec653c52ad8"
      },
      "source": [
        "import pandas as pd\n",
        "import json\n",
        "import numpy as np\n",
        "import dask.bag as db\n",
        "import dask.dataframe as dd # substitute of pandas to load the data in streams\n",
        "import dask.array as da"
      ],
      "id": "45b337bd-f8bc-4aad-928c-cec653c52ad8",
      "execution_count": 4,
      "outputs": []
    },
    {
      "cell_type": "code",
      "metadata": {
        "id": "b57e6866-8e06-420e-b05d-c300b6e129df"
      },
      "source": [
        "# Import the review dataset as streams to avoid running out of memory\n",
        "dict_bag = db.read_text('yelp_academic_dataset_review.json', blocksize=int(5e6)).map(json.loads)\n",
        "df_r = dict_bag.to_dataframe(columns=['user_id', 'business_id', 'stars', 'useful', 'date'])\n",
        "df_r = df_r.repartition(npartitions=10)\n",
        "#df_r.head()"
      ],
      "id": "b57e6866-8e06-420e-b05d-c300b6e129df",
      "execution_count": 5,
      "outputs": []
    },
    {
      "cell_type": "code",
      "metadata": {
        "id": "d9ed0cf5-bc20-4ca6-84fa-0b4ee76777bc"
      },
      "source": [
        ""
      ],
      "id": "d9ed0cf5-bc20-4ca6-84fa-0b4ee76777bc",
      "execution_count": null,
      "outputs": []
    },
    {
      "cell_type": "code",
      "metadata": {
        "id": "4d99dcba-f9e6-4001-a014-ef9c12692663"
      },
      "source": [
        "# Business dataset\n",
        "dict_bag = db.read_text('yelp_academic_dataset_business.json', blocksize=int(5e6)).map(json.loads)\n",
        "df_b = dict_bag.to_dataframe(columns=['business_id', 'city', 'stars', 'review_count'])\n",
        "df_b = df_b.repartition(npartitions=10)\n",
        "#df_b.head()"
      ],
      "id": "4d99dcba-f9e6-4001-a014-ef9c12692663",
      "execution_count": 6,
      "outputs": []
    },
    {
      "cell_type": "code",
      "metadata": {
        "id": "c38479f4-fbeb-400c-b579-970f8100c7c0"
      },
      "source": [
        "# Users dataset (Import it in streams again)\n",
        "dict_bag = db.read_text('yelp_academic_dataset_user.json', blocksize=int(5e6)).map(json.loads)\n",
        "df_u = dict_bag.to_dataframe(columns=['user_id', 'friends', 'review_count'])\n",
        "df_u = df_u.repartition(npartitions=10)\n",
        "#df_u.head()"
      ],
      "id": "c38479f4-fbeb-400c-b579-970f8100c7c0",
      "execution_count": 7,
      "outputs": []
    },
    {
      "cell_type": "code",
      "metadata": {
        "colab": {
          "base_uri": "https://localhost:8080/",
          "height": 0
        },
        "id": "qlTS1noDFH32",
        "outputId": "d8bdd92d-e1fc-4ca1-b18f-ae8c4b5efc5e"
      },
      "source": [
        "!pip install scikit-surprise"
      ],
      "id": "qlTS1noDFH32",
      "execution_count": 8,
      "outputs": [
        {
          "output_type": "stream",
          "name": "stdout",
          "text": [
            "Collecting scikit-surprise\n",
            "  Downloading scikit-surprise-1.1.1.tar.gz (11.8 MB)\n",
            "\u001b[K     |████████████████████████████████| 11.8 MB 19.4 MB/s \n",
            "\u001b[?25hRequirement already satisfied: joblib>=0.11 in /usr/local/lib/python3.7/dist-packages (from scikit-surprise) (1.1.0)\n",
            "Requirement already satisfied: numpy>=1.11.2 in /usr/local/lib/python3.7/dist-packages (from scikit-surprise) (1.19.5)\n",
            "Requirement already satisfied: scipy>=1.0.0 in /usr/local/lib/python3.7/dist-packages (from scikit-surprise) (1.4.1)\n",
            "Requirement already satisfied: six>=1.10.0 in /usr/local/lib/python3.7/dist-packages (from scikit-surprise) (1.15.0)\n",
            "Building wheels for collected packages: scikit-surprise\n",
            "  Building wheel for scikit-surprise (setup.py) ... \u001b[?25l\u001b[?25hdone\n",
            "  Created wheel for scikit-surprise: filename=scikit_surprise-1.1.1-cp37-cp37m-linux_x86_64.whl size=1619399 sha256=7bde521f5f4ebb84d16e74fb0460e3c7e5be1be3c0b433d0f153e4a67585b2fc\n",
            "  Stored in directory: /root/.cache/pip/wheels/76/44/74/b498c42be47b2406bd27994e16c5188e337c657025ab400c1c\n",
            "Successfully built scikit-surprise\n",
            "Installing collected packages: scikit-surprise\n",
            "Successfully installed scikit-surprise-1.1.1\n"
          ]
        }
      ]
    },
    {
      "cell_type": "code",
      "metadata": {
        "id": "nkHovqrmE9Ju"
      },
      "source": [
        "from surprise import Dataset\n",
        "from surprise import Reader"
      ],
      "id": "nkHovqrmE9Ju",
      "execution_count": 9,
      "outputs": []
    },
    {
      "cell_type": "code",
      "metadata": {
        "id": "ea79753d-981a-4d80-acef-6b0d33ef9e1c"
      },
      "source": [
        "# Recommender system using the rating of the reviews\n",
        "# We appoach it using low rank approximation techniques\n",
        "# We have 3 goals\n",
        "#   - Suggest new friends (to the users)# Business dataset\n",
        "dict_bag = db.read_text('yelp_academic_dataset_business.json', blocksize=int(5e6)).map(json.loads)\n",
        "df_b = dict_bag.to_dataframe(columns=['business_id', 'city', 'stars', 'review_count'])\n",
        "df_b = df_b.repartition(npartitions=10)\n",
        "#df_b.head()\n",
        "#   - Recommend new restaurants (to the users)\n",
        "#   - Tell the restaurant which are possible competitors\n",
        "\n",
        "### Data Cleaning ###\n",
        "# Select a city\n",
        "area = 'Richmond'\n",
        "df_b = df_b[df_b.city == area]\n",
        "df_b = df_b.drop('city', axis=1)\n",
        "# Active users / business\n",
        "df_b = df_b[df_b.review_count > 100]\n",
        "df_u = df_u[df_u.review_count > 50]\n",
        "# Select only the variables that we need now\n",
        "df_r = df_r[['user_id', 'business_id', 'stars']]\n",
        "df_u = df_u[['user_id']]\n",
        "df_b = df_b[['business_id']]\n",
        "\n",
        "# subset of users that reviewd in that city\n",
        "df_r = dd.merge(df_r, df_u, how='inner', on='user_id')\n",
        "df = dd.merge(df_r, df_b, how='inner', on='business_id')\n",
        "#df.head()\n"
      ],
      "id": "ea79753d-981a-4d80-acef-6b0d33ef9e1c",
      "execution_count": 11,
      "outputs": []
    },
    {
      "cell_type": "code",
      "metadata": {
        "colab": {
          "base_uri": "https://localhost:8080/",
          "height": 204
        },
        "id": "SWXjrRnrGOLy",
        "outputId": "45d3e26b-d408-4add-a66e-96597aaef37c"
      },
      "source": [
        "df.head()"
      ],
      "id": "SWXjrRnrGOLy",
      "execution_count": 12,
      "outputs": [
        {
          "output_type": "execute_result",
          "data": {
            "text/html": [
              "<div>\n",
              "<style scoped>\n",
              "    .dataframe tbody tr th:only-of-type {\n",
              "        vertical-align: middle;\n",
              "    }\n",
              "\n",
              "    .dataframe tbody tr th {\n",
              "        vertical-align: top;\n",
              "    }\n",
              "\n",
              "    .dataframe thead th {\n",
              "        text-align: right;\n",
              "    }\n",
              "</style>\n",
              "<table border=\"1\" class=\"dataframe\">\n",
              "  <thead>\n",
              "    <tr style=\"text-align: right;\">\n",
              "      <th></th>\n",
              "      <th>user_id</th>\n",
              "      <th>business_id</th>\n",
              "      <th>stars</th>\n",
              "    </tr>\n",
              "  </thead>\n",
              "  <tbody>\n",
              "    <tr>\n",
              "      <th>0</th>\n",
              "      <td>Fqd_7pQ2G2w7cD0Y3Dtbsw</td>\n",
              "      <td>lQlJvXi19RJs_q4xR6gcNg</td>\n",
              "      <td>3.0</td>\n",
              "    </tr>\n",
              "    <tr>\n",
              "      <th>1</th>\n",
              "      <td>xC-q_yh0XwcjRLimkS3RNg</td>\n",
              "      <td>lQlJvXi19RJs_q4xR6gcNg</td>\n",
              "      <td>4.0</td>\n",
              "    </tr>\n",
              "    <tr>\n",
              "      <th>2</th>\n",
              "      <td>ozXoLPVB0wtkZQvrHZIj9g</td>\n",
              "      <td>lQlJvXi19RJs_q4xR6gcNg</td>\n",
              "      <td>5.0</td>\n",
              "    </tr>\n",
              "    <tr>\n",
              "      <th>3</th>\n",
              "      <td>zKdDu546gjeSDsV3vcR9PQ</td>\n",
              "      <td>lQlJvXi19RJs_q4xR6gcNg</td>\n",
              "      <td>4.0</td>\n",
              "    </tr>\n",
              "    <tr>\n",
              "      <th>4</th>\n",
              "      <td>2t2HCw37rOKKWnT8C_yDng</td>\n",
              "      <td>lQlJvXi19RJs_q4xR6gcNg</td>\n",
              "      <td>5.0</td>\n",
              "    </tr>\n",
              "  </tbody>\n",
              "</table>\n",
              "</div>"
            ],
            "text/plain": [
              "                  user_id             business_id  stars\n",
              "0  Fqd_7pQ2G2w7cD0Y3Dtbsw  lQlJvXi19RJs_q4xR6gcNg    3.0\n",
              "1  xC-q_yh0XwcjRLimkS3RNg  lQlJvXi19RJs_q4xR6gcNg    4.0\n",
              "2  ozXoLPVB0wtkZQvrHZIj9g  lQlJvXi19RJs_q4xR6gcNg    5.0\n",
              "3  zKdDu546gjeSDsV3vcR9PQ  lQlJvXi19RJs_q4xR6gcNg    4.0\n",
              "4  2t2HCw37rOKKWnT8C_yDng  lQlJvXi19RJs_q4xR6gcNg    5.0"
            ]
          },
          "metadata": {},
          "execution_count": 12
        }
      ]
    },
    {
      "cell_type": "code",
      "metadata": {
        "id": "fvAR5qgDLyGQ"
      },
      "source": [
        "#df_small = df.sample(frac=0.1, replace=False, random_state=1)\n",
        "df_small = df"
      ],
      "id": "fvAR5qgDLyGQ",
      "execution_count": 13,
      "outputs": []
    },
    {
      "cell_type": "code",
      "metadata": {
        "id": "MRcSRjtGPlsB"
      },
      "source": [
        "df_small = df_small.compute()"
      ],
      "id": "MRcSRjtGPlsB",
      "execution_count": 14,
      "outputs": []
    },
    {
      "cell_type": "code",
      "metadata": {
        "id": "BBg-UwUkhzpN"
      },
      "source": [
        "from surprise.model_selection import train_test_split"
      ],
      "id": "BBg-UwUkhzpN",
      "execution_count": 15,
      "outputs": []
    },
    {
      "cell_type": "code",
      "metadata": {
        "id": "fVRJ-xCXIRUK"
      },
      "source": [
        "reader = Reader(rating_scale=(1.0, 5.0))\n",
        "data = Dataset.load_from_df(df_small, reader)"
      ],
      "id": "fVRJ-xCXIRUK",
      "execution_count": 16,
      "outputs": []
    },
    {
      "cell_type": "code",
      "metadata": {
        "id": "-qvghvNrIy1u"
      },
      "source": [
        "from surprise import SVD\n",
        "from surprise.model_selection import cross_validate"
      ],
      "id": "-qvghvNrIy1u",
      "execution_count": 17,
      "outputs": []
    },
    {
      "cell_type": "code",
      "metadata": {
        "colab": {
          "base_uri": "https://localhost:8080/",
          "height": 0
        },
        "id": "aIsk-wKSI7YX",
        "outputId": "192e1e31-90b6-4316-8e51-758a918b2ed0"
      },
      "source": [
        "svd = SVD(verbose=True, n_epochs=10)\n",
        "#cross_validate(svd, data, measures=['RMSE', 'MAE'], cv=3, verbose=True)\n",
        "#trainset = data.build_full_trainset()\n",
        "trainset, testset = train_test_split(data, test_size=.25)\n",
        "svd.fit(trainset)\n",
        "pred = svd.test(testset)"
      ],
      "id": "aIsk-wKSI7YX",
      "execution_count": 18,
      "outputs": [
        {
          "output_type": "stream",
          "name": "stdout",
          "text": [
            "Processing epoch 0\n",
            "Processing epoch 1\n",
            "Processing epoch 2\n",
            "Processing epoch 3\n",
            "Processing epoch 4\n",
            "Processing epoch 5\n",
            "Processing epoch 6\n",
            "Processing epoch 7\n",
            "Processing epoch 8\n",
            "Processing epoch 9\n"
          ]
        }
      ]
    },
    {
      "cell_type": "code",
      "metadata": {
        "colab": {
          "base_uri": "https://localhost:8080/",
          "height": 0
        },
        "id": "08c9TD9DNz5y",
        "outputId": "e2f8daea-e312-4dcc-9beb-be3f93398251"
      },
      "source": [
        "from surprise import accuracy\n",
        "#pred = svd.test(trainset)\n",
        "accuracy.rmse(pred)"
      ],
      "id": "08c9TD9DNz5y",
      "execution_count": 19,
      "outputs": [
        {
          "output_type": "stream",
          "name": "stdout",
          "text": [
            "RMSE: 0.9661\n"
          ]
        },
        {
          "output_type": "execute_result",
          "data": {
            "text/plain": [
              "0.9660627458255446"
            ]
          },
          "metadata": {},
          "execution_count": 19
        }
      ]
    },
    {
      "cell_type": "code",
      "metadata": {
        "id": "03WcfaXTmOUk"
      },
      "source": [
        "#pred = svd.predict(\"Z2x-sMYhTKmYEU5yuv75pA\", \"eYmf3scmgHqJASKkRF0QCg\")"
      ],
      "id": "03WcfaXTmOUk",
      "execution_count": null,
      "outputs": []
    },
    {
      "cell_type": "code",
      "metadata": {
        "colab": {
          "base_uri": "https://localhost:8080/",
          "height": 306
        },
        "id": "HBO0l-sHsB7I",
        "outputId": "dd11e530-e310-4508-96ff-d78de2c2667b"
      },
      "source": [
        "#df2 = pd.merge(df_small, df_u, how = \"inner\", )"
      ],
      "id": "HBO0l-sHsB7I",
      "execution_count": 21,
      "outputs": [
        {
          "output_type": "error",
          "ename": "TypeError",
          "evalue": "ignored",
          "traceback": [
            "\u001b[0;31m---------------------------------------------------------------------------\u001b[0m",
            "\u001b[0;31mTypeError\u001b[0m                                 Traceback (most recent call last)",
            "\u001b[0;32m<ipython-input-21-f3cfe9976671>\u001b[0m in \u001b[0;36m<module>\u001b[0;34m()\u001b[0m\n\u001b[0;32m----> 1\u001b[0;31m \u001b[0mdf2\u001b[0m \u001b[0;34m=\u001b[0m \u001b[0mpd\u001b[0m\u001b[0;34m.\u001b[0m\u001b[0mmerge\u001b[0m\u001b[0;34m(\u001b[0m\u001b[0mdf_small\u001b[0m\u001b[0;34m,\u001b[0m \u001b[0mdf_u\u001b[0m\u001b[0;34m,\u001b[0m \u001b[0mhow\u001b[0m \u001b[0;34m=\u001b[0m \u001b[0;34m\"inner\"\u001b[0m\u001b[0;34m,\u001b[0m \u001b[0;34m)\u001b[0m\u001b[0;34m\u001b[0m\u001b[0;34m\u001b[0m\u001b[0m\n\u001b[0m",
            "\u001b[0;32m/usr/local/lib/python3.7/dist-packages/pandas/core/reshape/merge.py\u001b[0m in \u001b[0;36mmerge\u001b[0;34m(left, right, how, on, left_on, right_on, left_index, right_index, sort, suffixes, copy, indicator, validate)\u001b[0m\n\u001b[1;32m     85\u001b[0m         \u001b[0mcopy\u001b[0m\u001b[0;34m=\u001b[0m\u001b[0mcopy\u001b[0m\u001b[0;34m,\u001b[0m\u001b[0;34m\u001b[0m\u001b[0;34m\u001b[0m\u001b[0m\n\u001b[1;32m     86\u001b[0m         \u001b[0mindicator\u001b[0m\u001b[0;34m=\u001b[0m\u001b[0mindicator\u001b[0m\u001b[0;34m,\u001b[0m\u001b[0;34m\u001b[0m\u001b[0;34m\u001b[0m\u001b[0m\n\u001b[0;32m---> 87\u001b[0;31m         \u001b[0mvalidate\u001b[0m\u001b[0;34m=\u001b[0m\u001b[0mvalidate\u001b[0m\u001b[0;34m,\u001b[0m\u001b[0;34m\u001b[0m\u001b[0;34m\u001b[0m\u001b[0m\n\u001b[0m\u001b[1;32m     88\u001b[0m     )\n\u001b[1;32m     89\u001b[0m     \u001b[0;32mreturn\u001b[0m \u001b[0mop\u001b[0m\u001b[0;34m.\u001b[0m\u001b[0mget_result\u001b[0m\u001b[0;34m(\u001b[0m\u001b[0;34m)\u001b[0m\u001b[0;34m\u001b[0m\u001b[0;34m\u001b[0m\u001b[0m\n",
            "\u001b[0;32m/usr/local/lib/python3.7/dist-packages/pandas/core/reshape/merge.py\u001b[0m in \u001b[0;36m__init__\u001b[0;34m(self, left, right, how, on, left_on, right_on, axis, left_index, right_index, sort, suffixes, copy, indicator, validate)\u001b[0m\n\u001b[1;32m    592\u001b[0m     ):\n\u001b[1;32m    593\u001b[0m         \u001b[0m_left\u001b[0m \u001b[0;34m=\u001b[0m \u001b[0m_validate_operand\u001b[0m\u001b[0;34m(\u001b[0m\u001b[0mleft\u001b[0m\u001b[0;34m)\u001b[0m\u001b[0;34m\u001b[0m\u001b[0;34m\u001b[0m\u001b[0m\n\u001b[0;32m--> 594\u001b[0;31m         \u001b[0m_right\u001b[0m \u001b[0;34m=\u001b[0m \u001b[0m_validate_operand\u001b[0m\u001b[0;34m(\u001b[0m\u001b[0mright\u001b[0m\u001b[0;34m)\u001b[0m\u001b[0;34m\u001b[0m\u001b[0;34m\u001b[0m\u001b[0m\n\u001b[0m\u001b[1;32m    595\u001b[0m         \u001b[0mself\u001b[0m\u001b[0;34m.\u001b[0m\u001b[0mleft\u001b[0m \u001b[0;34m=\u001b[0m \u001b[0mself\u001b[0m\u001b[0;34m.\u001b[0m\u001b[0morig_left\u001b[0m \u001b[0;34m=\u001b[0m \u001b[0m_left\u001b[0m\u001b[0;34m\u001b[0m\u001b[0;34m\u001b[0m\u001b[0m\n\u001b[1;32m    596\u001b[0m         \u001b[0mself\u001b[0m\u001b[0;34m.\u001b[0m\u001b[0mright\u001b[0m \u001b[0;34m=\u001b[0m \u001b[0mself\u001b[0m\u001b[0;34m.\u001b[0m\u001b[0morig_right\u001b[0m \u001b[0;34m=\u001b[0m \u001b[0m_right\u001b[0m\u001b[0;34m\u001b[0m\u001b[0;34m\u001b[0m\u001b[0m\n",
            "\u001b[0;32m/usr/local/lib/python3.7/dist-packages/pandas/core/reshape/merge.py\u001b[0m in \u001b[0;36m_validate_operand\u001b[0;34m(obj)\u001b[0m\n\u001b[1;32m   2065\u001b[0m     \u001b[0;32melse\u001b[0m\u001b[0;34m:\u001b[0m\u001b[0;34m\u001b[0m\u001b[0;34m\u001b[0m\u001b[0m\n\u001b[1;32m   2066\u001b[0m         raise TypeError(\n\u001b[0;32m-> 2067\u001b[0;31m             \u001b[0;34mf\"Can only merge Series or DataFrame objects, a {type(obj)} was passed\"\u001b[0m\u001b[0;34m\u001b[0m\u001b[0;34m\u001b[0m\u001b[0m\n\u001b[0m\u001b[1;32m   2068\u001b[0m         )\n\u001b[1;32m   2069\u001b[0m \u001b[0;34m\u001b[0m\u001b[0m\n",
            "\u001b[0;31mTypeError\u001b[0m: Can only merge Series or DataFrame objects, a <class 'dask.dataframe.core.DataFrame'> was passed"
          ]
        }
      ]
    },
    {
      "cell_type": "code",
      "metadata": {
        "id": "oyabuQsSu4Dn"
      },
      "source": [
        "\n",
        "users = df_small[\"user_id\"].unique()\n",
        "business = df_small[\"business_id\"].unique()"
      ],
      "id": "oyabuQsSu4Dn",
      "execution_count": 22,
      "outputs": []
    },
    {
      "cell_type": "code",
      "metadata": {
        "colab": {
          "base_uri": "https://localhost:8080/"
        },
        "id": "TgpfR9CoynLL",
        "outputId": "907ea706-9e22-49ef-b3cb-0f51fd2470e0"
      },
      "source": [
        "#len(users)"
      ],
      "id": "TgpfR9CoynLL",
      "execution_count": null,
      "outputs": [
        {
          "output_type": "execute_result",
          "data": {
            "text/plain": [
              "4009"
            ]
          },
          "metadata": {},
          "execution_count": 203
        }
      ]
    },
    {
      "cell_type": "code",
      "metadata": {
        "id": "GfgDVdrvxaY_"
      },
      "source": [
        "from itertools import product"
      ],
      "id": "GfgDVdrvxaY_",
      "execution_count": 23,
      "outputs": []
    },
    {
      "cell_type": "code",
      "metadata": {
        "id": "6Qctw7-9yCXg"
      },
      "source": [
        "df_full = pd.DataFrame(list(product(users, business)), columns = ['user_id', 'business_id'])"
      ],
      "id": "6Qctw7-9yCXg",
      "execution_count": 24,
      "outputs": []
    },
    {
      "cell_type": "code",
      "metadata": {
        "colab": {
          "base_uri": "https://localhost:8080/",
          "height": 419
        },
        "id": "KXEA1fE7yd6Y",
        "outputId": "48c95d5c-c2e8-463f-a610-837afac0917c"
      },
      "source": [
        "df_full"
      ],
      "id": "KXEA1fE7yd6Y",
      "execution_count": 25,
      "outputs": [
        {
          "output_type": "execute_result",
          "data": {
            "text/html": [
              "<div>\n",
              "<style scoped>\n",
              "    .dataframe tbody tr th:only-of-type {\n",
              "        vertical-align: middle;\n",
              "    }\n",
              "\n",
              "    .dataframe tbody tr th {\n",
              "        vertical-align: top;\n",
              "    }\n",
              "\n",
              "    .dataframe thead th {\n",
              "        text-align: right;\n",
              "    }\n",
              "</style>\n",
              "<table border=\"1\" class=\"dataframe\">\n",
              "  <thead>\n",
              "    <tr style=\"text-align: right;\">\n",
              "      <th></th>\n",
              "      <th>user_id</th>\n",
              "      <th>business_id</th>\n",
              "    </tr>\n",
              "  </thead>\n",
              "  <tbody>\n",
              "    <tr>\n",
              "      <th>0</th>\n",
              "      <td>Fqd_7pQ2G2w7cD0Y3Dtbsw</td>\n",
              "      <td>lQlJvXi19RJs_q4xR6gcNg</td>\n",
              "    </tr>\n",
              "    <tr>\n",
              "      <th>1</th>\n",
              "      <td>Fqd_7pQ2G2w7cD0Y3Dtbsw</td>\n",
              "      <td>seDFTCwhSrzOnaj0iYd5Jw</td>\n",
              "    </tr>\n",
              "    <tr>\n",
              "      <th>2</th>\n",
              "      <td>Fqd_7pQ2G2w7cD0Y3Dtbsw</td>\n",
              "      <td>SQo3j_PrRgQlbR9c4ctjUA</td>\n",
              "    </tr>\n",
              "    <tr>\n",
              "      <th>3</th>\n",
              "      <td>Fqd_7pQ2G2w7cD0Y3Dtbsw</td>\n",
              "      <td>cpkyRpNWllRmOhM_qlsdiQ</td>\n",
              "    </tr>\n",
              "    <tr>\n",
              "      <th>4</th>\n",
              "      <td>Fqd_7pQ2G2w7cD0Y3Dtbsw</td>\n",
              "      <td>y1BLVJUWINOSMLeDaXqXBQ</td>\n",
              "    </tr>\n",
              "    <tr>\n",
              "      <th>...</th>\n",
              "      <td>...</td>\n",
              "      <td>...</td>\n",
              "    </tr>\n",
              "    <tr>\n",
              "      <th>400895</th>\n",
              "      <td>Y7Iet_ePqnhT8GYoAWJJtA</td>\n",
              "      <td>BZIHRWA_zqnCwAUif7d2Yw</td>\n",
              "    </tr>\n",
              "    <tr>\n",
              "      <th>400896</th>\n",
              "      <td>Y7Iet_ePqnhT8GYoAWJJtA</td>\n",
              "      <td>m_Tu4PBV7adWCsuwOrCT8g</td>\n",
              "    </tr>\n",
              "    <tr>\n",
              "      <th>400897</th>\n",
              "      <td>Y7Iet_ePqnhT8GYoAWJJtA</td>\n",
              "      <td>GUWoTn1SUNv9kCuSsXPXCw</td>\n",
              "    </tr>\n",
              "    <tr>\n",
              "      <th>400898</th>\n",
              "      <td>Y7Iet_ePqnhT8GYoAWJJtA</td>\n",
              "      <td>AGNyx4JBRbjvHfCDdib5_g</td>\n",
              "    </tr>\n",
              "    <tr>\n",
              "      <th>400899</th>\n",
              "      <td>Y7Iet_ePqnhT8GYoAWJJtA</td>\n",
              "      <td>z9Ys_7sMnShHQS7ArTMHHg</td>\n",
              "    </tr>\n",
              "  </tbody>\n",
              "</table>\n",
              "<p>400900 rows × 2 columns</p>\n",
              "</div>"
            ],
            "text/plain": [
              "                       user_id             business_id\n",
              "0       Fqd_7pQ2G2w7cD0Y3Dtbsw  lQlJvXi19RJs_q4xR6gcNg\n",
              "1       Fqd_7pQ2G2w7cD0Y3Dtbsw  seDFTCwhSrzOnaj0iYd5Jw\n",
              "2       Fqd_7pQ2G2w7cD0Y3Dtbsw  SQo3j_PrRgQlbR9c4ctjUA\n",
              "3       Fqd_7pQ2G2w7cD0Y3Dtbsw  cpkyRpNWllRmOhM_qlsdiQ\n",
              "4       Fqd_7pQ2G2w7cD0Y3Dtbsw  y1BLVJUWINOSMLeDaXqXBQ\n",
              "...                        ...                     ...\n",
              "400895  Y7Iet_ePqnhT8GYoAWJJtA  BZIHRWA_zqnCwAUif7d2Yw\n",
              "400896  Y7Iet_ePqnhT8GYoAWJJtA  m_Tu4PBV7adWCsuwOrCT8g\n",
              "400897  Y7Iet_ePqnhT8GYoAWJJtA  GUWoTn1SUNv9kCuSsXPXCw\n",
              "400898  Y7Iet_ePqnhT8GYoAWJJtA  AGNyx4JBRbjvHfCDdib5_g\n",
              "400899  Y7Iet_ePqnhT8GYoAWJJtA  z9Ys_7sMnShHQS7ArTMHHg\n",
              "\n",
              "[400900 rows x 2 columns]"
            ]
          },
          "metadata": {},
          "execution_count": 25
        }
      ]
    },
    {
      "cell_type": "code",
      "metadata": {
        "id": "8gQAoy7my4cF"
      },
      "source": [
        "n = 400900\n",
        "#df_full['rating'] = np.zeros(n)\n",
        "usr = df_full[\"user_id\"]\n",
        "bsn = df_full[\"business_id\"]\n",
        "r = []\n",
        "for i in range(n):\n",
        "  a, b, c, rat, e = svd.predict(usr[i], bsn[i])\n",
        "  r.append(rat)"
      ],
      "id": "8gQAoy7my4cF",
      "execution_count": 26,
      "outputs": []
    },
    {
      "cell_type": "code",
      "metadata": {
        "id": "sHcNmYaw1OdT"
      },
      "source": [
        "df_full['rating'] = r"
      ],
      "id": "sHcNmYaw1OdT",
      "execution_count": 27,
      "outputs": []
    },
    {
      "cell_type": "code",
      "metadata": {
        "colab": {
          "base_uri": "https://localhost:8080/",
          "height": 204
        },
        "id": "hAbxyZca1Wm8",
        "outputId": "94fb1cc0-b3b5-4544-9d03-0ae0b4e0b1b0"
      },
      "source": [
        "df_full.head()"
      ],
      "id": "hAbxyZca1Wm8",
      "execution_count": 28,
      "outputs": [
        {
          "output_type": "execute_result",
          "data": {
            "text/html": [
              "<div>\n",
              "<style scoped>\n",
              "    .dataframe tbody tr th:only-of-type {\n",
              "        vertical-align: middle;\n",
              "    }\n",
              "\n",
              "    .dataframe tbody tr th {\n",
              "        vertical-align: top;\n",
              "    }\n",
              "\n",
              "    .dataframe thead th {\n",
              "        text-align: right;\n",
              "    }\n",
              "</style>\n",
              "<table border=\"1\" class=\"dataframe\">\n",
              "  <thead>\n",
              "    <tr style=\"text-align: right;\">\n",
              "      <th></th>\n",
              "      <th>user_id</th>\n",
              "      <th>business_id</th>\n",
              "      <th>rating</th>\n",
              "    </tr>\n",
              "  </thead>\n",
              "  <tbody>\n",
              "    <tr>\n",
              "      <th>0</th>\n",
              "      <td>Fqd_7pQ2G2w7cD0Y3Dtbsw</td>\n",
              "      <td>lQlJvXi19RJs_q4xR6gcNg</td>\n",
              "      <td>3.874791</td>\n",
              "    </tr>\n",
              "    <tr>\n",
              "      <th>1</th>\n",
              "      <td>Fqd_7pQ2G2w7cD0Y3Dtbsw</td>\n",
              "      <td>seDFTCwhSrzOnaj0iYd5Jw</td>\n",
              "      <td>4.478811</td>\n",
              "    </tr>\n",
              "    <tr>\n",
              "      <th>2</th>\n",
              "      <td>Fqd_7pQ2G2w7cD0Y3Dtbsw</td>\n",
              "      <td>SQo3j_PrRgQlbR9c4ctjUA</td>\n",
              "      <td>3.241875</td>\n",
              "    </tr>\n",
              "    <tr>\n",
              "      <th>3</th>\n",
              "      <td>Fqd_7pQ2G2w7cD0Y3Dtbsw</td>\n",
              "      <td>cpkyRpNWllRmOhM_qlsdiQ</td>\n",
              "      <td>3.584831</td>\n",
              "    </tr>\n",
              "    <tr>\n",
              "      <th>4</th>\n",
              "      <td>Fqd_7pQ2G2w7cD0Y3Dtbsw</td>\n",
              "      <td>y1BLVJUWINOSMLeDaXqXBQ</td>\n",
              "      <td>4.009142</td>\n",
              "    </tr>\n",
              "  </tbody>\n",
              "</table>\n",
              "</div>"
            ],
            "text/plain": [
              "                  user_id             business_id    rating\n",
              "0  Fqd_7pQ2G2w7cD0Y3Dtbsw  lQlJvXi19RJs_q4xR6gcNg  3.874791\n",
              "1  Fqd_7pQ2G2w7cD0Y3Dtbsw  seDFTCwhSrzOnaj0iYd5Jw  4.478811\n",
              "2  Fqd_7pQ2G2w7cD0Y3Dtbsw  SQo3j_PrRgQlbR9c4ctjUA  3.241875\n",
              "3  Fqd_7pQ2G2w7cD0Y3Dtbsw  cpkyRpNWllRmOhM_qlsdiQ  3.584831\n",
              "4  Fqd_7pQ2G2w7cD0Y3Dtbsw  y1BLVJUWINOSMLeDaXqXBQ  4.009142"
            ]
          },
          "metadata": {},
          "execution_count": 28
        }
      ]
    },
    {
      "cell_type": "code",
      "metadata": {
        "id": "TGXjwo7z2Kmb"
      },
      "source": [
        "n = 4009\n",
        "df_p = pd.DataFrame(index = range(n), columns=['user', 'rating'])\n",
        "r = []\n",
        "for usr in users:\n",
        "  df_aid = df_full[df_full.user_id == usr]\n",
        "  rat_aid = df_aid[\"rating\"].values\n",
        "  r.append(rat_aid)\n",
        "\n",
        "df_p['user'] = users\n",
        "df_p['rating'] = r"
      ],
      "id": "TGXjwo7z2Kmb",
      "execution_count": 29,
      "outputs": []
    },
    {
      "cell_type": "code",
      "metadata": {
        "colab": {
          "base_uri": "https://localhost:8080/",
          "height": 419
        },
        "id": "QyfpjgoD5y_v",
        "outputId": "3a2d3a83-b75f-45fc-ff3d-3eb151f59a61"
      },
      "source": [
        "df_p"
      ],
      "id": "QyfpjgoD5y_v",
      "execution_count": 30,
      "outputs": [
        {
          "output_type": "execute_result",
          "data": {
            "text/html": [
              "<div>\n",
              "<style scoped>\n",
              "    .dataframe tbody tr th:only-of-type {\n",
              "        vertical-align: middle;\n",
              "    }\n",
              "\n",
              "    .dataframe tbody tr th {\n",
              "        vertical-align: top;\n",
              "    }\n",
              "\n",
              "    .dataframe thead th {\n",
              "        text-align: right;\n",
              "    }\n",
              "</style>\n",
              "<table border=\"1\" class=\"dataframe\">\n",
              "  <thead>\n",
              "    <tr style=\"text-align: right;\">\n",
              "      <th></th>\n",
              "      <th>user</th>\n",
              "      <th>rating</th>\n",
              "    </tr>\n",
              "  </thead>\n",
              "  <tbody>\n",
              "    <tr>\n",
              "      <th>0</th>\n",
              "      <td>Fqd_7pQ2G2w7cD0Y3Dtbsw</td>\n",
              "      <td>[3.8747907604313445, 4.478811358487205, 3.2418...</td>\n",
              "    </tr>\n",
              "    <tr>\n",
              "      <th>1</th>\n",
              "      <td>xC-q_yh0XwcjRLimkS3RNg</td>\n",
              "      <td>[4.126127492894533, 4.0186065352731495, 3.4641...</td>\n",
              "    </tr>\n",
              "    <tr>\n",
              "      <th>2</th>\n",
              "      <td>ozXoLPVB0wtkZQvrHZIj9g</td>\n",
              "      <td>[4.135755786861839, 4.201073701513672, 3.48445...</td>\n",
              "    </tr>\n",
              "    <tr>\n",
              "      <th>3</th>\n",
              "      <td>zKdDu546gjeSDsV3vcR9PQ</td>\n",
              "      <td>[4.057550819142904, 4.432898681274764, 3.53111...</td>\n",
              "    </tr>\n",
              "    <tr>\n",
              "      <th>4</th>\n",
              "      <td>2t2HCw37rOKKWnT8C_yDng</td>\n",
              "      <td>[4.169037253867187, 4.074708953952024, 3.22235...</td>\n",
              "    </tr>\n",
              "    <tr>\n",
              "      <th>...</th>\n",
              "      <td>...</td>\n",
              "      <td>...</td>\n",
              "    </tr>\n",
              "    <tr>\n",
              "      <th>4004</th>\n",
              "      <td>dOFyIGbyfB69VB4pnoKqQA</td>\n",
              "      <td>[4.15065875364662, 4.284660278000494, 3.525793...</td>\n",
              "    </tr>\n",
              "    <tr>\n",
              "      <th>4005</th>\n",
              "      <td>bvuxor346zDAen3poNl9qA</td>\n",
              "      <td>[4.09205974726469, 4.281266344683393, 3.608856...</td>\n",
              "    </tr>\n",
              "    <tr>\n",
              "      <th>4006</th>\n",
              "      <td>EXKAPY0klEaXXR_j_1pRTQ</td>\n",
              "      <td>[4.079517030460323, 4.149342837077514, 3.57642...</td>\n",
              "    </tr>\n",
              "    <tr>\n",
              "      <th>4007</th>\n",
              "      <td>tjGKVFhvKqoDSth3ri5X-A</td>\n",
              "      <td>[4.213846756388873, 4.040080435967653, 3.62665...</td>\n",
              "    </tr>\n",
              "    <tr>\n",
              "      <th>4008</th>\n",
              "      <td>Y7Iet_ePqnhT8GYoAWJJtA</td>\n",
              "      <td>[4.241999414266915, 4.1965486502408655, 3.5810...</td>\n",
              "    </tr>\n",
              "  </tbody>\n",
              "</table>\n",
              "<p>4009 rows × 2 columns</p>\n",
              "</div>"
            ],
            "text/plain": [
              "                        user                                             rating\n",
              "0     Fqd_7pQ2G2w7cD0Y3Dtbsw  [3.8747907604313445, 4.478811358487205, 3.2418...\n",
              "1     xC-q_yh0XwcjRLimkS3RNg  [4.126127492894533, 4.0186065352731495, 3.4641...\n",
              "2     ozXoLPVB0wtkZQvrHZIj9g  [4.135755786861839, 4.201073701513672, 3.48445...\n",
              "3     zKdDu546gjeSDsV3vcR9PQ  [4.057550819142904, 4.432898681274764, 3.53111...\n",
              "4     2t2HCw37rOKKWnT8C_yDng  [4.169037253867187, 4.074708953952024, 3.22235...\n",
              "...                      ...                                                ...\n",
              "4004  dOFyIGbyfB69VB4pnoKqQA  [4.15065875364662, 4.284660278000494, 3.525793...\n",
              "4005  bvuxor346zDAen3poNl9qA  [4.09205974726469, 4.281266344683393, 3.608856...\n",
              "4006  EXKAPY0klEaXXR_j_1pRTQ  [4.079517030460323, 4.149342837077514, 3.57642...\n",
              "4007  tjGKVFhvKqoDSth3ri5X-A  [4.213846756388873, 4.040080435967653, 3.62665...\n",
              "4008  Y7Iet_ePqnhT8GYoAWJJtA  [4.241999414266915, 4.1965486502408655, 3.5810...\n",
              "\n",
              "[4009 rows x 2 columns]"
            ]
          },
          "metadata": {},
          "execution_count": 30
        }
      ]
    },
    {
      "cell_type": "code",
      "metadata": {
        "id": "mBjgWb3K6z5Y"
      },
      "source": [
        "# Restaurant recommendation\n",
        "user = \"ozXoLPVB0wtkZQvrHZIj9g\"\n",
        "df_pr = df_full[df_full.user_id == user]\n",
        "df_pr = df_pr.sort_values(by=['rating'], ascending=False)"
      ],
      "id": "mBjgWb3K6z5Y",
      "execution_count": 37,
      "outputs": []
    },
    {
      "cell_type": "code",
      "metadata": {
        "id": "MxJuAGD-7ROc",
        "colab": {
          "base_uri": "https://localhost:8080/",
          "height": 419
        },
        "outputId": "af845b73-b333-4faa-81ff-ef7bad25786d"
      },
      "source": [
        "df_pr"
      ],
      "id": "MxJuAGD-7ROc",
      "execution_count": 38,
      "outputs": [
        {
          "output_type": "execute_result",
          "data": {
            "text/html": [
              "<div>\n",
              "<style scoped>\n",
              "    .dataframe tbody tr th:only-of-type {\n",
              "        vertical-align: middle;\n",
              "    }\n",
              "\n",
              "    .dataframe tbody tr th {\n",
              "        vertical-align: top;\n",
              "    }\n",
              "\n",
              "    .dataframe thead th {\n",
              "        text-align: right;\n",
              "    }\n",
              "</style>\n",
              "<table border=\"1\" class=\"dataframe\">\n",
              "  <thead>\n",
              "    <tr style=\"text-align: right;\">\n",
              "      <th></th>\n",
              "      <th>user_id</th>\n",
              "      <th>business_id</th>\n",
              "      <th>rating</th>\n",
              "    </tr>\n",
              "  </thead>\n",
              "  <tbody>\n",
              "    <tr>\n",
              "      <th>223</th>\n",
              "      <td>ozXoLPVB0wtkZQvrHZIj9g</td>\n",
              "      <td>PXoqSMlonM9qTcQnkNkE5A</td>\n",
              "      <td>4.437157</td>\n",
              "    </tr>\n",
              "    <tr>\n",
              "      <th>266</th>\n",
              "      <td>ozXoLPVB0wtkZQvrHZIj9g</td>\n",
              "      <td>BLITQJYfKJSQ9XNuk8pIrw</td>\n",
              "      <td>4.354710</td>\n",
              "    </tr>\n",
              "    <tr>\n",
              "      <th>249</th>\n",
              "      <td>ozXoLPVB0wtkZQvrHZIj9g</td>\n",
              "      <td>YdEZpDqqoWgYu-qwLcXpXA</td>\n",
              "      <td>4.243331</td>\n",
              "    </tr>\n",
              "    <tr>\n",
              "      <th>246</th>\n",
              "      <td>ozXoLPVB0wtkZQvrHZIj9g</td>\n",
              "      <td>x9RA_NPjcvQ8-EU28ppBqA</td>\n",
              "      <td>4.231062</td>\n",
              "    </tr>\n",
              "    <tr>\n",
              "      <th>247</th>\n",
              "      <td>ozXoLPVB0wtkZQvrHZIj9g</td>\n",
              "      <td>odUQDozVqxsUtrSX8ENHyA</td>\n",
              "      <td>4.221454</td>\n",
              "    </tr>\n",
              "    <tr>\n",
              "      <th>...</th>\n",
              "      <td>...</td>\n",
              "      <td>...</td>\n",
              "      <td>...</td>\n",
              "    </tr>\n",
              "    <tr>\n",
              "      <th>296</th>\n",
              "      <td>ozXoLPVB0wtkZQvrHZIj9g</td>\n",
              "      <td>m_Tu4PBV7adWCsuwOrCT8g</td>\n",
              "      <td>3.044403</td>\n",
              "    </tr>\n",
              "    <tr>\n",
              "      <th>218</th>\n",
              "      <td>ozXoLPVB0wtkZQvrHZIj9g</td>\n",
              "      <td>v6715hqLSp_bD5U5Cze2xg</td>\n",
              "      <td>3.009256</td>\n",
              "    </tr>\n",
              "    <tr>\n",
              "      <th>260</th>\n",
              "      <td>ozXoLPVB0wtkZQvrHZIj9g</td>\n",
              "      <td>yLjf1SFF3249j1T69VGj-Q</td>\n",
              "      <td>2.836519</td>\n",
              "    </tr>\n",
              "    <tr>\n",
              "      <th>298</th>\n",
              "      <td>ozXoLPVB0wtkZQvrHZIj9g</td>\n",
              "      <td>AGNyx4JBRbjvHfCDdib5_g</td>\n",
              "      <td>2.688197</td>\n",
              "    </tr>\n",
              "    <tr>\n",
              "      <th>210</th>\n",
              "      <td>ozXoLPVB0wtkZQvrHZIj9g</td>\n",
              "      <td>GWIniTXbMhJyD-qMaF1KlA</td>\n",
              "      <td>2.378694</td>\n",
              "    </tr>\n",
              "  </tbody>\n",
              "</table>\n",
              "<p>100 rows × 3 columns</p>\n",
              "</div>"
            ],
            "text/plain": [
              "                    user_id             business_id    rating\n",
              "223  ozXoLPVB0wtkZQvrHZIj9g  PXoqSMlonM9qTcQnkNkE5A  4.437157\n",
              "266  ozXoLPVB0wtkZQvrHZIj9g  BLITQJYfKJSQ9XNuk8pIrw  4.354710\n",
              "249  ozXoLPVB0wtkZQvrHZIj9g  YdEZpDqqoWgYu-qwLcXpXA  4.243331\n",
              "246  ozXoLPVB0wtkZQvrHZIj9g  x9RA_NPjcvQ8-EU28ppBqA  4.231062\n",
              "247  ozXoLPVB0wtkZQvrHZIj9g  odUQDozVqxsUtrSX8ENHyA  4.221454\n",
              "..                      ...                     ...       ...\n",
              "296  ozXoLPVB0wtkZQvrHZIj9g  m_Tu4PBV7adWCsuwOrCT8g  3.044403\n",
              "218  ozXoLPVB0wtkZQvrHZIj9g  v6715hqLSp_bD5U5Cze2xg  3.009256\n",
              "260  ozXoLPVB0wtkZQvrHZIj9g  yLjf1SFF3249j1T69VGj-Q  2.836519\n",
              "298  ozXoLPVB0wtkZQvrHZIj9g  AGNyx4JBRbjvHfCDdib5_g  2.688197\n",
              "210  ozXoLPVB0wtkZQvrHZIj9g  GWIniTXbMhJyD-qMaF1KlA  2.378694\n",
              "\n",
              "[100 rows x 3 columns]"
            ]
          },
          "metadata": {},
          "execution_count": 38
        }
      ]
    },
    {
      "cell_type": "code",
      "metadata": {
        "id": "jTgDVsHydHMG"
      },
      "source": [
        "df2 = df_small[df_small.user_id == user]\n",
        "# removing previously visited restaurants\n",
        "not_rated = pd.merge(df_pr, df2, how='outer', on='business_id', indicator=True)\n",
        "not_rated = not_rated[not_rated['_merge'] == 'left_only']\n",
        "not_rated = not_rated[[\"user_id_x\", \"business_id\", \"rating\"]]"
      ],
      "id": "jTgDVsHydHMG",
      "execution_count": 51,
      "outputs": []
    },
    {
      "cell_type": "code",
      "metadata": {
        "colab": {
          "base_uri": "https://localhost:8080/",
          "height": 103
        },
        "id": "t08qA96b7kAh",
        "outputId": "05fd53cc-a253-40b7-db7a-55c882a9aa71"
      },
      "source": [
        "not_rated.to_latex()"
      ],
      "id": "t08qA96b7kAh",
      "execution_count": 57,
      "outputs": [
        {
          "output_type": "execute_result",
          "data": {
            "application/vnd.google.colaboratory.intrinsic+json": {
              "type": "string"
            },
            "text/plain": [
              "'\\\\begin{tabular}{lllr}\\n\\\\toprule\\n{} &               user\\\\_id\\\\_x &             business\\\\_id &    rating \\\\\\\\\\n\\\\midrule\\n0  &  ozXoLPVB0wtkZQvrHZIj9g &  PXoqSMlonM9qTcQnkNkE5A &  4.437157 \\\\\\\\\\n1  &  ozXoLPVB0wtkZQvrHZIj9g &  BLITQJYfKJSQ9XNuk8pIrw &  4.354710 \\\\\\\\\\n2  &  ozXoLPVB0wtkZQvrHZIj9g &  YdEZpDqqoWgYu-qwLcXpXA &  4.243331 \\\\\\\\\\n3  &  ozXoLPVB0wtkZQvrHZIj9g &  x9RA\\\\_NPjcvQ8-EU28ppBqA &  4.231062 \\\\\\\\\\n4  &  ozXoLPVB0wtkZQvrHZIj9g &  odUQDozVqxsUtrSX8ENHyA &  4.221454 \\\\\\\\\\n5  &  ozXoLPVB0wtkZQvrHZIj9g &  seDFTCwhSrzOnaj0iYd5Jw &  4.201074 \\\\\\\\\\n6  &  ozXoLPVB0wtkZQvrHZIj9g &  UqqkI-YNmfpng4BKj8kxcg &  4.186991 \\\\\\\\\\n7  &  ozXoLPVB0wtkZQvrHZIj9g &  zQCE8SFTuasTCqmH1NxeYQ &  4.181533 \\\\\\\\\\n8  &  ozXoLPVB0wtkZQvrHZIj9g &  CBEdmS6N7NzgOPT5uESuCg &  4.179386 \\\\\\\\\\n9  &  ozXoLPVB0wtkZQvrHZIj9g &  Hr5sm6NpE6K-98PrqHksbQ &  4.159879 \\\\\\\\\\n10 &  ozXoLPVB0wtkZQvrHZIj9g &  eyw69sYMI5d1vDhC3wX3gw &  4.157706 \\\\\\\\\\n11 &  ozXoLPVB0wtkZQvrHZIj9g &  dFzDHiN52S96A9rfp1-PoQ &  4.155407 \\\\\\\\\\n12 &  ozXoLPVB0wtkZQvrHZIj9g &  vLbjVhNd73054UVdvOeg7Q &  4.136498 \\\\\\\\\\n14 &  ozXoLPVB0wtkZQvrHZIj9g &  dQjv55\\\\_rr1mdF18H6baRxg &  4.092252 \\\\\\\\\\n15 &  ozXoLPVB0wtkZQvrHZIj9g &  EXfEzv1sg3smvXJo36hSmQ &  4.077562 \\\\\\\\\\n16 &  ozXoLPVB0wtkZQvrHZIj9g &  BZIHRWA\\\\_zqnCwAUif7d2Yw &  4.072491 \\\\\\\\\\n17 &  ozXoLPVB0wtkZQvrHZIj9g &  R1KeQwYWkHczmZjSbfY2XA &  4.045076 \\\\\\\\\\n18 &  ozXoLPVB0wtkZQvrHZIj9g &  m3DeBd0NSbAGDjUOk36R1Q &  4.039585 \\\\\\\\\\n19 &  ozXoLPVB0wtkZQvrHZIj9g &  -rEA553gskIEHZteI5RExQ &  4.015896 \\\\\\\\\\n20 &  ozXoLPVB0wtkZQvrHZIj9g &  KfXBoMeZBC22VHL4GRt-8g &  4.000416 \\\\\\\\\\n21 &  ozXoLPVB0wtkZQvrHZIj9g &  ZzK99Z5oWteQVlBtdm9r1w &  3.994995 \\\\\\\\\\n22 &  ozXoLPVB0wtkZQvrHZIj9g &  utLZPZT0y9mGmmNZkhsKwQ &  3.980807 \\\\\\\\\\n23 &  ozXoLPVB0wtkZQvrHZIj9g &  VGq9wu\\\\_ZtvonP1Rke4CxYw &  3.979632 \\\\\\\\\\n24 &  ozXoLPVB0wtkZQvrHZIj9g &  pRSQYWdlzbeAWUbBuo4lhg &  3.967693 \\\\\\\\\\n25 &  ozXoLPVB0wtkZQvrHZIj9g &  KqJa1YxZM0PT4iHqhJJjFA &  3.962130 \\\\\\\\\\n26 &  ozXoLPVB0wtkZQvrHZIj9g &  K43Au1Z\\\\_sgQJKPP42J0wiA &  3.952862 \\\\\\\\\\n27 &  ozXoLPVB0wtkZQvrHZIj9g &  p4Ifl07Rg8bAhXlcflxqng &  3.939993 \\\\\\\\\\n28 &  ozXoLPVB0wtkZQvrHZIj9g &  y1BLVJUWINOSMLeDaXqXBQ &  3.925459 \\\\\\\\\\n29 &  ozXoLPVB0wtkZQvrHZIj9g &  1MQHDyIgK8dzjarHFmUyaA &  3.914707 \\\\\\\\\\n30 &  ozXoLPVB0wtkZQvrHZIj9g &  JacdvNp5MjIrn3LNnjQ02A &  3.900589 \\\\\\\\\\n31 &  ozXoLPVB0wtkZQvrHZIj9g &  YsLitMbVWy7kSveeGsjfFg &  3.898080 \\\\\\\\\\n32 &  ozXoLPVB0wtkZQvrHZIj9g &  XqaO85CV9Km7m\\\\_aQ3iIpRA &  3.881650 \\\\\\\\\\n33 &  ozXoLPVB0wtkZQvrHZIj9g &  aGEaKx1jbVyQxeMumKYMHQ &  3.855103 \\\\\\\\\\n34 &  ozXoLPVB0wtkZQvrHZIj9g &  p1FElOKJUkFOpXx4dvTwEg &  3.846990 \\\\\\\\\\n35 &  ozXoLPVB0wtkZQvrHZIj9g &  DU-2FkgvtChVDNOevPeteg &  3.845284 \\\\\\\\\\n36 &  ozXoLPVB0wtkZQvrHZIj9g &  t1RhVFdcOCA5Zrbzen0QXA &  3.838216 \\\\\\\\\\n37 &  ozXoLPVB0wtkZQvrHZIj9g &  CCV\\\\_rtjUHKhJA0JLruwImw &  3.823349 \\\\\\\\\\n38 &  ozXoLPVB0wtkZQvrHZIj9g &  ghCJpnO\\\\_mBQXc0r7AU5X7w &  3.822404 \\\\\\\\\\n39 &  ozXoLPVB0wtkZQvrHZIj9g &  chucQ4h98spUmknWQHJ6lA &  3.821460 \\\\\\\\\\n40 &  ozXoLPVB0wtkZQvrHZIj9g &  ZZ2RSmjqVVGrqVIw2tWpAg &  3.819813 \\\\\\\\\\n41 &  ozXoLPVB0wtkZQvrHZIj9g &  sNDfYZP9OYypywbi33aSxw &  3.819723 \\\\\\\\\\n42 &  ozXoLPVB0wtkZQvrHZIj9g &  WgMWmXyJ0MnSisfSL9hq8w &  3.817427 \\\\\\\\\\n43 &  ozXoLPVB0wtkZQvrHZIj9g &  niUrhHoR9leK0lr5moyySQ &  3.814179 \\\\\\\\\\n44 &  ozXoLPVB0wtkZQvrHZIj9g &  zux3l8BcJOdLcVlWg-1NGg &  3.796339 \\\\\\\\\\n45 &  ozXoLPVB0wtkZQvrHZIj9g &  j7VmHg9M-eWZuDw-p4AIaA &  3.795890 \\\\\\\\\\n46 &  ozXoLPVB0wtkZQvrHZIj9g &  3jlW89cDIWtoZQlAKGybMA &  3.790688 \\\\\\\\\\n47 &  ozXoLPVB0wtkZQvrHZIj9g &  dcclkRBo6YHFzr63iWZ1hw &  3.785422 \\\\\\\\\\n48 &  ozXoLPVB0wtkZQvrHZIj9g &  Z1f1N7Z5k9DgGNolklJYzQ &  3.778511 \\\\\\\\\\n49 &  ozXoLPVB0wtkZQvrHZIj9g &  T3K7zJsjxOP7IHiS6RL-2Q &  3.777733 \\\\\\\\\\n50 &  ozXoLPVB0wtkZQvrHZIj9g &  RdFbbpFq3ly-2R\\\\_CaLXXsg &  3.775018 \\\\\\\\\\n51 &  ozXoLPVB0wtkZQvrHZIj9g &  i8h0zIQsuu9YPz8iYqqSNA &  3.763501 \\\\\\\\\\n52 &  ozXoLPVB0wtkZQvrHZIj9g &  litYIfPpnzUgfokPCfZgww &  3.760696 \\\\\\\\\\n53 &  ozXoLPVB0wtkZQvrHZIj9g &  lOA7o1IGnhx2YrbhYQHsLQ &  3.758622 \\\\\\\\\\n54 &  ozXoLPVB0wtkZQvrHZIj9g &  DqxAArHOssu55PBlh7A5Wg &  3.755917 \\\\\\\\\\n55 &  ozXoLPVB0wtkZQvrHZIj9g &  -zYenEsSHXt8XfAy8lnAjg &  3.753521 \\\\\\\\\\n56 &  ozXoLPVB0wtkZQvrHZIj9g &  9yZpfG9uP0DjDHSUQokfvw &  3.749580 \\\\\\\\\\n57 &  ozXoLPVB0wtkZQvrHZIj9g &  BDHZ7pZrCC5x0cumAtcvqA &  3.746536 \\\\\\\\\\n58 &  ozXoLPVB0wtkZQvrHZIj9g &  KtVkoMeLF0b7A4ThWojjEA &  3.713143 \\\\\\\\\\n59 &  ozXoLPVB0wtkZQvrHZIj9g &  3\\\\_AK31Wj9-1dbPZ1fdX\\\\_-Q &  3.704155 \\\\\\\\\\n60 &  ozXoLPVB0wtkZQvrHZIj9g &  NIhqNI90BS7IkUSj9FjnJw &  3.694638 \\\\\\\\\\n61 &  ozXoLPVB0wtkZQvrHZIj9g &  6mu04eyRBGj1AQh3Smoe4w &  3.679390 \\\\\\\\\\n62 &  ozXoLPVB0wtkZQvrHZIj9g &  9AeLEFMwdkF8-bQ8e-GddA &  3.679185 \\\\\\\\\\n63 &  ozXoLPVB0wtkZQvrHZIj9g &  NBka9Zh1CPmi1Y2lNFkmQw &  3.675360 \\\\\\\\\\n64 &  ozXoLPVB0wtkZQvrHZIj9g &  1bP4v7kwOJ22YJmx3bqEqg &  3.663557 \\\\\\\\\\n65 &  ozXoLPVB0wtkZQvrHZIj9g &  sd0PiR-44d1pL9cD5ULFug &  3.656559 \\\\\\\\\\n66 &  ozXoLPVB0wtkZQvrHZIj9g &  on7KUqEgzazOBfl2wUd1pw &  3.650495 \\\\\\\\\\n67 &  ozXoLPVB0wtkZQvrHZIj9g &  2Cxky-NIGL7DoCSLbzoPuA &  3.639889 \\\\\\\\\\n68 &  ozXoLPVB0wtkZQvrHZIj9g &  GUWoTn1SUNv9kCuSsXPXCw &  3.630236 \\\\\\\\\\n69 &  ozXoLPVB0wtkZQvrHZIj9g &  KPaYEBJS2OfQbU8AMtTKtw &  3.629899 \\\\\\\\\\n70 &  ozXoLPVB0wtkZQvrHZIj9g &  iiTcLc01EHNIWWyVdsCxPA &  3.593805 \\\\\\\\\\n71 &  ozXoLPVB0wtkZQvrHZIj9g &  nDGM13CCIVe1w4dyS2Bcgg &  3.590361 \\\\\\\\\\n72 &  ozXoLPVB0wtkZQvrHZIj9g &  IQxFVUxFfSo\\\\_7IlHClvsaw &  3.577918 \\\\\\\\\\n73 &  ozXoLPVB0wtkZQvrHZIj9g &  fP65pd6r9P6cHyKGw2q1FQ &  3.567476 \\\\\\\\\\n74 &  ozXoLPVB0wtkZQvrHZIj9g &  VHvlre6m3-oUlixGLlOnRA &  3.566188 \\\\\\\\\\n75 &  ozXoLPVB0wtkZQvrHZIj9g &  cpkyRpNWllRmOhM\\\\_qlsdiQ &  3.552370 \\\\\\\\\\n76 &  ozXoLPVB0wtkZQvrHZIj9g &  hpV0nNy9TmdgurcrEzTwRA &  3.546633 \\\\\\\\\\n77 &  ozXoLPVB0wtkZQvrHZIj9g &  BxFzEb1gxpIZ4G0tfG-b4w &  3.528378 \\\\\\\\\\n78 &  ozXoLPVB0wtkZQvrHZIj9g &  J723QEdMs251RlJ7rsZRFQ &  3.524059 \\\\\\\\\\n79 &  ozXoLPVB0wtkZQvrHZIj9g &  ybwFrX6MqvmVePZUZKk9VQ &  3.498472 \\\\\\\\\\n80 &  ozXoLPVB0wtkZQvrHZIj9g &  SQo3j\\\\_PrRgQlbR9c4ctjUA &  3.484457 \\\\\\\\\\n81 &  ozXoLPVB0wtkZQvrHZIj9g &  1JjSVb\\\\_JIu9BIdmFSuq3EA &  3.474585 \\\\\\\\\\n82 &  ozXoLPVB0wtkZQvrHZIj9g &  cydTwL\\\\_rvQJGyqZUfv8vgQ &  3.462332 \\\\\\\\\\n83 &  ozXoLPVB0wtkZQvrHZIj9g &  rMf-FEh7ZhW9Sepjiyef6w &  3.444353 \\\\\\\\\\n84 &  ozXoLPVB0wtkZQvrHZIj9g &  xvxGpiNcqAcG1-eZ1I94Gw &  3.442790 \\\\\\\\\\n85 &  ozXoLPVB0wtkZQvrHZIj9g &  7vd6bGYpZb0yfeNidFVExg &  3.397882 \\\\\\\\\\n86 &  ozXoLPVB0wtkZQvrHZIj9g &  lug97x28ybkWk3dotVrVMA &  3.354560 \\\\\\\\\\n87 &  ozXoLPVB0wtkZQvrHZIj9g &  j0qVvKZEBdlkQHqyYE1iTw &  3.334783 \\\\\\\\\\n88 &  ozXoLPVB0wtkZQvrHZIj9g &  uEsW3y9FY1S9IdLgrSi5RQ &  3.322128 \\\\\\\\\\n89 &  ozXoLPVB0wtkZQvrHZIj9g &  opVJrZaJZKJk5zHyCMtetg &  3.281510 \\\\\\\\\\n90 &  ozXoLPVB0wtkZQvrHZIj9g &  Q4u7W5grwSKZy-suUKhtqw &  3.190518 \\\\\\\\\\n91 &  ozXoLPVB0wtkZQvrHZIj9g &  cLVwhzVhNdF-5sM56p3ODQ &  3.176446 \\\\\\\\\\n92 &  ozXoLPVB0wtkZQvrHZIj9g &  4O3lfnrszTf8SdJLvV3hHA &  3.166105 \\\\\\\\\\n93 &  ozXoLPVB0wtkZQvrHZIj9g &  7sOIXfoexhSMlBMSWcpPug &  3.153014 \\\\\\\\\\n94 &  ozXoLPVB0wtkZQvrHZIj9g &  z9Ys\\\\_7sMnShHQS7ArTMHHg &  3.142713 \\\\\\\\\\n95 &  ozXoLPVB0wtkZQvrHZIj9g &  m\\\\_Tu4PBV7adWCsuwOrCT8g &  3.044403 \\\\\\\\\\n96 &  ozXoLPVB0wtkZQvrHZIj9g &  v6715hqLSp\\\\_bD5U5Cze2xg &  3.009256 \\\\\\\\\\n97 &  ozXoLPVB0wtkZQvrHZIj9g &  yLjf1SFF3249j1T69VGj-Q &  2.836519 \\\\\\\\\\n98 &  ozXoLPVB0wtkZQvrHZIj9g &  AGNyx4JBRbjvHfCDdib5\\\\_g &  2.688197 \\\\\\\\\\n99 &  ozXoLPVB0wtkZQvrHZIj9g &  GWIniTXbMhJyD-qMaF1KlA &  2.378694 \\\\\\\\\\n\\\\bottomrule\\n\\\\end{tabular}\\n'"
            ]
          },
          "metadata": {},
          "execution_count": 57
        }
      ]
    },
    {
      "cell_type": "code",
      "metadata": {
        "id": "-Tuz4Jmue_8s"
      },
      "source": [
        "from scipy.stats import pearsonr"
      ],
      "id": "-Tuz4Jmue_8s",
      "execution_count": 59,
      "outputs": []
    },
    {
      "cell_type": "code",
      "metadata": {
        "id": "2LNJhSHfF0jF"
      },
      "source": [
        "# Recommendation person-person\n",
        "n = 4009\n",
        "user = \"ei7wfryXlvZ6OM9NK27cPQ\"\n",
        "v1 = df_p[df_p.user == user]\n",
        "v1 = v1[\"rating\"].values[0]\n",
        "df_pp = pd.DataFrame(index = range(n), columns = [\"user_id\"])\n",
        "rat_pp = df_p[\"rating\"].values\n",
        "corr = []\n",
        "for i in range(n):\n",
        "  v2 = rat_pp[i]\n",
        "  c = pearsonr(v1, v2)[0]\n",
        "  corr.append(c)"
      ],
      "id": "2LNJhSHfF0jF",
      "execution_count": 60,
      "outputs": []
    },
    {
      "cell_type": "code",
      "metadata": {
        "id": "AmmBJ26nIk8v"
      },
      "source": [
        "df_pp['user_id'] = users\n",
        "df_pp['corr'] = corr"
      ],
      "id": "AmmBJ26nIk8v",
      "execution_count": 61,
      "outputs": []
    },
    {
      "cell_type": "code",
      "metadata": {
        "id": "edtYhSQYJiZi"
      },
      "source": [
        "df_pp = df_pp.sort_values(by=['corr'], ascending=False)"
      ],
      "id": "edtYhSQYJiZi",
      "execution_count": 62,
      "outputs": []
    },
    {
      "cell_type": "code",
      "metadata": {
        "colab": {
          "base_uri": "https://localhost:8080/"
        },
        "id": "QpxOUngTLIOM",
        "outputId": "84a03a90-2c9a-4b44-a08a-40bc9f363d6c"
      },
      "source": [
        "print(df_pp.head(10).to_latex())"
      ],
      "id": "QpxOUngTLIOM",
      "execution_count": 64,
      "outputs": [
        {
          "output_type": "stream",
          "name": "stdout",
          "text": [
            "\\begin{tabular}{llr}\n",
            "\\toprule\n",
            "{} &                 user\\_id &      corr \\\\\n",
            "\\midrule\n",
            "1256 &  ei7wfryXlvZ6OM9NK27cPQ &  1.000000 \\\\\n",
            "3995 &  l-f0w9wXPFChvVhUnxA9wQ &  0.967422 \\\\\n",
            "2140 &  vCyvUmbQkCYct6JXlmXRaQ &  0.967190 \\\\\n",
            "2206 &  ZGgheWqp5TbGsNLt5lze5w &  0.967190 \\\\\n",
            "2194 &  RvR05MnF76MnIjo32zFiFQ &  0.967190 \\\\\n",
            "2189 &  dOfABpD-PA94keA5LlHXNA &  0.967190 \\\\\n",
            "2187 &  GGSfLyM88SbFGhnm46ykXQ &  0.967190 \\\\\n",
            "2181 &  xipyrIBO-r1j6PLJ7sIduA &  0.967190 \\\\\n",
            "2175 &  npOX1\\_LiuayRus0SNavDcQ &  0.967190 \\\\\n",
            "2147 &  C76\\_BRi\\_0N-L8mgxnBF2Aw &  0.967190 \\\\\n",
            "\\bottomrule\n",
            "\\end{tabular}\n",
            "\n"
          ]
        }
      ]
    },
    {
      "cell_type": "code",
      "metadata": {
        "id": "yHJjtBKDScgQ"
      },
      "source": [
        "# Find competitors\n",
        "n = 100\n",
        "#bsn = \"seDFTCwhSrzOnaj0iYd5Jw\"\n",
        "df_b = pd.DataFrame(index = range(n), columns=['business', 'rating'])\n",
        "r = []\n",
        "for bsn in business:\n",
        "  df_aid = df_full[df_full.business_id == bsn]\n",
        "  rat_aid = df_aid[\"rating\"].values\n",
        "  r.append(rat_aid)\n",
        "\n",
        "df_b['business'] = business\n",
        "df_b['rating'] = r\n",
        "\n",
        "\n",
        "# v1 = df_p[df_p.business == user]\n",
        "# v1 = v1[\"rating\"].values[0]\n",
        "# df_pp = pd.DataFrame(index = range(n), columns = [\"user_id\"])\n",
        "# rat_pp = df_p[\"rating\"].values\n",
        "# corr = []\n",
        "# for i in range(n):\n",
        "#   v2 = rat_pp[i]\n",
        "#   c = pearsonr(v1, v2)[0]\n",
        "#   corr.append(c)"
      ],
      "id": "yHJjtBKDScgQ",
      "execution_count": 65,
      "outputs": []
    },
    {
      "cell_type": "code",
      "metadata": {
        "id": "hbDEUr9rTjeW"
      },
      "source": [
        "n = 100\n",
        "bsn = \"niUrhHoR9leK0lr5moyySQ\"\n",
        "v1 = df_b[df_b.business == bsn]\n",
        "v1 = v1[\"rating\"].values[0]\n",
        "df_bb = pd.DataFrame(index = range(n), columns = [\"business_id\"])\n",
        "rat_bb = df_b[\"rating\"].values\n",
        "corr = []\n",
        "for i in range(n):\n",
        "  v2 = rat_bb[i]\n",
        "  c = pearsonr(v1, v2)[0]\n",
        "  corr.append(c)\n",
        "\n",
        "df_bb['business_id'] = business\n",
        "df_bb['corr'] = corr\n",
        "df_bb = df_bb.sort_values(by=['corr'], ascending=False)"
      ],
      "id": "hbDEUr9rTjeW",
      "execution_count": 66,
      "outputs": []
    },
    {
      "cell_type": "code",
      "metadata": {
        "colab": {
          "base_uri": "https://localhost:8080/",
          "height": 204
        },
        "id": "d0b-4q9uTgTE",
        "outputId": "c3e27913-d7e0-4253-d1f3-95ac794b5842"
      },
      "source": [
        "df_bb.head()"
      ],
      "id": "d0b-4q9uTgTE",
      "execution_count": 67,
      "outputs": [
        {
          "output_type": "execute_result",
          "data": {
            "text/html": [
              "<div>\n",
              "<style scoped>\n",
              "    .dataframe tbody tr th:only-of-type {\n",
              "        vertical-align: middle;\n",
              "    }\n",
              "\n",
              "    .dataframe tbody tr th {\n",
              "        vertical-align: top;\n",
              "    }\n",
              "\n",
              "    .dataframe thead th {\n",
              "        text-align: right;\n",
              "    }\n",
              "</style>\n",
              "<table border=\"1\" class=\"dataframe\">\n",
              "  <thead>\n",
              "    <tr style=\"text-align: right;\">\n",
              "      <th></th>\n",
              "      <th>business_id</th>\n",
              "      <th>corr</th>\n",
              "    </tr>\n",
              "  </thead>\n",
              "  <tbody>\n",
              "    <tr>\n",
              "      <th>92</th>\n",
              "      <td>niUrhHoR9leK0lr5moyySQ</td>\n",
              "      <td>1.000000</td>\n",
              "    </tr>\n",
              "    <tr>\n",
              "      <th>5</th>\n",
              "      <td>ZzK99Z5oWteQVlBtdm9r1w</td>\n",
              "      <td>0.554133</td>\n",
              "    </tr>\n",
              "    <tr>\n",
              "      <th>62</th>\n",
              "      <td>p4Ifl07Rg8bAhXlcflxqng</td>\n",
              "      <td>0.530318</td>\n",
              "    </tr>\n",
              "    <tr>\n",
              "      <th>51</th>\n",
              "      <td>Q4u7W5grwSKZy-suUKhtqw</td>\n",
              "      <td>0.529750</td>\n",
              "    </tr>\n",
              "    <tr>\n",
              "      <th>54</th>\n",
              "      <td>-zYenEsSHXt8XfAy8lnAjg</td>\n",
              "      <td>0.521009</td>\n",
              "    </tr>\n",
              "  </tbody>\n",
              "</table>\n",
              "</div>"
            ],
            "text/plain": [
              "               business_id      corr\n",
              "92  niUrhHoR9leK0lr5moyySQ  1.000000\n",
              "5   ZzK99Z5oWteQVlBtdm9r1w  0.554133\n",
              "62  p4Ifl07Rg8bAhXlcflxqng  0.530318\n",
              "51  Q4u7W5grwSKZy-suUKhtqw  0.529750\n",
              "54  -zYenEsSHXt8XfAy8lnAjg  0.521009"
            ]
          },
          "metadata": {},
          "execution_count": 67
        }
      ]
    },
    {
      "cell_type": "code",
      "metadata": {
        "colab": {
          "base_uri": "https://localhost:8080/"
        },
        "id": "qbkzFL5whNhX",
        "outputId": "999c38a1-afc3-4adc-efb9-5ca476dd19b3"
      },
      "source": [
        "print(df_bb.head().to_latex())"
      ],
      "id": "qbkzFL5whNhX",
      "execution_count": 68,
      "outputs": [
        {
          "output_type": "stream",
          "name": "stdout",
          "text": [
            "\\begin{tabular}{llr}\n",
            "\\toprule\n",
            "{} &             business\\_id &      corr \\\\\n",
            "\\midrule\n",
            "92 &  niUrhHoR9leK0lr5moyySQ &  1.000000 \\\\\n",
            "5  &  ZzK99Z5oWteQVlBtdm9r1w &  0.554133 \\\\\n",
            "62 &  p4Ifl07Rg8bAhXlcflxqng &  0.530318 \\\\\n",
            "51 &  Q4u7W5grwSKZy-suUKhtqw &  0.529750 \\\\\n",
            "54 &  -zYenEsSHXt8XfAy8lnAjg &  0.521009 \\\\\n",
            "\\bottomrule\n",
            "\\end{tabular}\n",
            "\n"
          ]
        }
      ]
    }
  ]
}